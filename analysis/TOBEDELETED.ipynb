{
 "metadata": {
  "language_info": {
   "codemirror_mode": {
    "name": "ipython",
    "version": 3
   },
   "file_extension": ".py",
   "mimetype": "text/x-python",
   "name": "python",
   "nbconvert_exporter": "python",
   "pygments_lexer": "ipython3",
   "version": "3.7.5-final"
  },
  "orig_nbformat": 2,
  "kernelspec": {
   "name": "python3",
   "display_name": "Python 3"
  }
 },
 "nbformat": 4,
 "nbformat_minor": 2,
 "cells": [
  {
   "cell_type": "code",
   "execution_count": 1,
   "metadata": {},
   "outputs": [],
   "source": [
    "import erlotinib as erlo\n",
    "\n",
    "path = erlo.ModelLibrary().pk_one_compartment_model()\n",
    "model = erlo.PharmacokineticModel(path)"
   ]
  },
  {
   "cell_type": "code",
   "execution_count": 2,
   "metadata": {},
   "outputs": [
    {
     "output_type": "stream",
     "name": "stdout",
     "text": [
      "[[model]]\nname: tumour_growth_inhibition_model\n# Initial values\ncentral.drug_amount = 0\n\n[central]\ndot(drug_amount) = -(myokit.elimination_rate * drug_concentration)\n    in [kg (1e-06)]\ndrug_concentration = drug_amount / size\n    in [g/m^3]\nsize = 1\n    in [L]\n\n[myokit]\nelimination_rate = 1\n    in [S/F (1.1574074074074077e-05)]\ntime = 0 bind time\n    in [s (86400)]\n\n\n"
     ]
    }
   ],
   "source": [
    "print(model._sim._model.code())"
   ]
  },
  {
   "cell_type": "code",
   "execution_count": 3,
   "metadata": {},
   "outputs": [],
   "source": [
    "model.set_dose_input('central.drug_amount')"
   ]
  },
  {
   "cell_type": "code",
   "execution_count": 4,
   "metadata": {},
   "outputs": [
    {
     "output_type": "stream",
     "name": "stdout",
     "text": [
      "[[model]]\nname: tumour_growth_inhibition_model\n# Initial values\ncentral.drug_amount = 0\n\n[central]\ndose_rate = 0 bind pace\n    in [g/s (1.1574074074074077e-08)]\ndot(drug_amount) = -(myokit.elimination_rate * drug_concentration) + dose_rate\n    in [kg (1e-06)]\ndrug_concentration = drug_amount / size\n    in [g/m^3]\nsize = 1\n    in [L]\n\n[myokit]\nelimination_rate = 1\n    in [S/F (1.1574074074074077e-05)]\ntime = 0 bind time\n    in [s (86400)]\n\n\n"
     ]
    }
   ],
   "source": [
    "print(model._sim._model.code())"
   ]
  },
  {
   "cell_type": "code",
   "execution_count": null,
   "metadata": {},
   "outputs": [],
   "source": []
  }
 ]
}