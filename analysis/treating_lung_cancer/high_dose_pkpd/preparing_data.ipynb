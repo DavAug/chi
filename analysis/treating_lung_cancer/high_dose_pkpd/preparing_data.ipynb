{
 "cells": [
  {
   "cell_type": "markdown",
   "metadata": {},
   "source": [
    "# Preparing High Erlotinib Dose Lung Cancer Treatment Group Data"
   ]
  },
  {
   "cell_type": "markdown",
   "metadata": {},
   "source": [
    "## Import raw LXF A677 high erlotinb dose PKPD data"
   ]
  },
  {
   "cell_type": "code",
   "execution_count": 1,
   "metadata": {},
   "outputs": [
    {
     "output_type": "stream",
     "name": "stdout",
     "text": [
      "Raw PK Data Set for all dosing regimens:\n"
     ]
    },
    {
     "output_type": "execute_result",
     "data": {
      "text/plain": [
       "     #ID  TIME  DOSE ADDL II  Y YTYPE CENS  CELL LINE  DOSE GROUP  DRUG  \\\n",
       "0      6   0.0     .    .  .  .     .    .          1      100.00     1   \n",
       "1      6   2.0     .    .  .  .     .    .          1      100.00     1   \n",
       "2      6   3.0  2450    .  .  .     .    .          1      100.00     1   \n",
       "3      6   4.0     .    .  .  .     .    .          1      100.00     1   \n",
       "4      6   4.0  2350    2  1  .     .    .          1      100.00     1   \n",
       "..   ...   ...   ...  ... .. ..   ...  ...        ...         ...   ...   \n",
       "467  162  21.0     .    .  .  .     .    .          1        6.25     1   \n",
       "468  162  23.0     .    .  .  .     .    .          1        6.25     1   \n",
       "469  162  25.0     .    .  .  .     .    .          1        6.25     1   \n",
       "470  162  28.0     .    .  .  .     .    .          1        6.25     1   \n",
       "471  162  30.0     .    .  .  .     .    .          1        6.25     1   \n",
       "\n",
       "     EXPERIMENT  TUMOR SIZE    BW  \n",
       "0             2     68.7500  24.2  \n",
       "1             2     75.4290  24.7  \n",
       "2             2     75.4290  24.7  \n",
       "3             2    115.3510  23.6  \n",
       "4             2    115.3510  23.6  \n",
       "..          ...         ...   ...  \n",
       "467           2    490.3980  24.2  \n",
       "468           2    425.2700  24.5  \n",
       "469           2    432.6660  24.5  \n",
       "470           2    585.0000  25.3  \n",
       "471           2    651.7665  25.9  \n",
       "\n",
       "[472 rows x 14 columns]"
      ],
      "text/html": "<div>\n<style scoped>\n    .dataframe tbody tr th:only-of-type {\n        vertical-align: middle;\n    }\n\n    .dataframe tbody tr th {\n        vertical-align: top;\n    }\n\n    .dataframe thead th {\n        text-align: right;\n    }\n</style>\n<table border=\"1\" class=\"dataframe\">\n  <thead>\n    <tr style=\"text-align: right;\">\n      <th></th>\n      <th>#ID</th>\n      <th>TIME</th>\n      <th>DOSE</th>\n      <th>ADDL</th>\n      <th>II</th>\n      <th>Y</th>\n      <th>YTYPE</th>\n      <th>CENS</th>\n      <th>CELL LINE</th>\n      <th>DOSE GROUP</th>\n      <th>DRUG</th>\n      <th>EXPERIMENT</th>\n      <th>TUMOR SIZE</th>\n      <th>BW</th>\n    </tr>\n  </thead>\n  <tbody>\n    <tr>\n      <th>0</th>\n      <td>6</td>\n      <td>0.0</td>\n      <td>.</td>\n      <td>.</td>\n      <td>.</td>\n      <td>.</td>\n      <td>.</td>\n      <td>.</td>\n      <td>1</td>\n      <td>100.00</td>\n      <td>1</td>\n      <td>2</td>\n      <td>68.7500</td>\n      <td>24.2</td>\n    </tr>\n    <tr>\n      <th>1</th>\n      <td>6</td>\n      <td>2.0</td>\n      <td>.</td>\n      <td>.</td>\n      <td>.</td>\n      <td>.</td>\n      <td>.</td>\n      <td>.</td>\n      <td>1</td>\n      <td>100.00</td>\n      <td>1</td>\n      <td>2</td>\n      <td>75.4290</td>\n      <td>24.7</td>\n    </tr>\n    <tr>\n      <th>2</th>\n      <td>6</td>\n      <td>3.0</td>\n      <td>2450</td>\n      <td>.</td>\n      <td>.</td>\n      <td>.</td>\n      <td>.</td>\n      <td>.</td>\n      <td>1</td>\n      <td>100.00</td>\n      <td>1</td>\n      <td>2</td>\n      <td>75.4290</td>\n      <td>24.7</td>\n    </tr>\n    <tr>\n      <th>3</th>\n      <td>6</td>\n      <td>4.0</td>\n      <td>.</td>\n      <td>.</td>\n      <td>.</td>\n      <td>.</td>\n      <td>.</td>\n      <td>.</td>\n      <td>1</td>\n      <td>100.00</td>\n      <td>1</td>\n      <td>2</td>\n      <td>115.3510</td>\n      <td>23.6</td>\n    </tr>\n    <tr>\n      <th>4</th>\n      <td>6</td>\n      <td>4.0</td>\n      <td>2350</td>\n      <td>2</td>\n      <td>1</td>\n      <td>.</td>\n      <td>.</td>\n      <td>.</td>\n      <td>1</td>\n      <td>100.00</td>\n      <td>1</td>\n      <td>2</td>\n      <td>115.3510</td>\n      <td>23.6</td>\n    </tr>\n    <tr>\n      <th>...</th>\n      <td>...</td>\n      <td>...</td>\n      <td>...</td>\n      <td>...</td>\n      <td>...</td>\n      <td>...</td>\n      <td>...</td>\n      <td>...</td>\n      <td>...</td>\n      <td>...</td>\n      <td>...</td>\n      <td>...</td>\n      <td>...</td>\n      <td>...</td>\n    </tr>\n    <tr>\n      <th>467</th>\n      <td>162</td>\n      <td>21.0</td>\n      <td>.</td>\n      <td>.</td>\n      <td>.</td>\n      <td>.</td>\n      <td>.</td>\n      <td>.</td>\n      <td>1</td>\n      <td>6.25</td>\n      <td>1</td>\n      <td>2</td>\n      <td>490.3980</td>\n      <td>24.2</td>\n    </tr>\n    <tr>\n      <th>468</th>\n      <td>162</td>\n      <td>23.0</td>\n      <td>.</td>\n      <td>.</td>\n      <td>.</td>\n      <td>.</td>\n      <td>.</td>\n      <td>.</td>\n      <td>1</td>\n      <td>6.25</td>\n      <td>1</td>\n      <td>2</td>\n      <td>425.2700</td>\n      <td>24.5</td>\n    </tr>\n    <tr>\n      <th>469</th>\n      <td>162</td>\n      <td>25.0</td>\n      <td>.</td>\n      <td>.</td>\n      <td>.</td>\n      <td>.</td>\n      <td>.</td>\n      <td>.</td>\n      <td>1</td>\n      <td>6.25</td>\n      <td>1</td>\n      <td>2</td>\n      <td>432.6660</td>\n      <td>24.5</td>\n    </tr>\n    <tr>\n      <th>470</th>\n      <td>162</td>\n      <td>28.0</td>\n      <td>.</td>\n      <td>.</td>\n      <td>.</td>\n      <td>.</td>\n      <td>.</td>\n      <td>.</td>\n      <td>1</td>\n      <td>6.25</td>\n      <td>1</td>\n      <td>2</td>\n      <td>585.0000</td>\n      <td>25.3</td>\n    </tr>\n    <tr>\n      <th>471</th>\n      <td>162</td>\n      <td>30.0</td>\n      <td>.</td>\n      <td>.</td>\n      <td>.</td>\n      <td>.</td>\n      <td>.</td>\n      <td>.</td>\n      <td>1</td>\n      <td>6.25</td>\n      <td>1</td>\n      <td>2</td>\n      <td>651.7665</td>\n      <td>25.9</td>\n    </tr>\n  </tbody>\n</table>\n<p>472 rows × 14 columns</p>\n</div>"
     },
     "metadata": {},
     "execution_count": 1
    }
   ],
   "source": [
    "import os\n",
    "import pandas as pd\n",
    "\n",
    "\n",
    "# Import LXF A677 PK data\n",
    "path = os.path.dirname(os.getcwd())\n",
    "data_raw = pd.read_csv(path + '/data/raw_data/PK_LXF_erlo.csv', sep=';')\n",
    "\n",
    "# Display data\n",
    "print('Raw PK Data Set for all dosing regimens:')\n",
    "data_raw"
   ]
  },
  {
   "cell_type": "markdown",
   "metadata": {},
   "source": [
    "## Cleaning the data\n",
    "\n",
    "The keys of interest for our analysis are\n",
    "\n",
    "- **#ID** indicating which mouse was measured,\n",
    "- **TIME** indicating the time point of each measurement,\n",
    "- **DOSE** indicating the dose amount administered at the time point,\n",
    "- **DURATION** indicating the duration of a single dose administration (bolus injection, duration=0/NaN,),\n",
    "- **PLASMA CONCENTRATION** indicating the concentration of erlotinib in the blood plasma,\n",
    "- **TUMOUR VOLUME** indicating the measured tumour volume,\n",
    "- **BODY WEIGHT** indicating the body weight of the mouse.\n",
    "\n",
    "In discussion with the authors and a comparison with their study report in [1], the relevant columns in the dataset were identified as **#ID**, **TIME**, **DOSE** (**ADDL**, **II**), **Y**, **TUMOR SIZE** and **BW**, where **Y** encodes for the **PLASMA CONCENTRATION**, **TUMOR SIZE** for the **TUMOUR VOLUME**, and **BW** for the **BODY WEIGHT**. The applied dose is encoded by **DOSE** **ADDL**, **II**, where **DOSE** is the administered dose amount at the given time point, **ADDL* the number of additionally applied doses of the same amount, and **II** the time interval separating the doses. The remaining keys are partially Monolix-specific modelling keys, and partially inferred model parameters. We thus ignore those columns.\n",
    "\n",
    "The raw datasets do not contain the units of the measured quantities. From [1] as well as Roche's study report, we may infer that\n",
    "\n",
    "- **TIME**: is measured in $\\text{day}$,\n",
    "- **DOSE**: in $\\text{ng}$,\n",
    "- **PLASMA CONCENTRATION** in $\\text{ng} / \\text{L}$,\n",
    "- **TUMOUR VOLUME**: is measured in $\\text{mm}^3$,\n",
    "- **BODY WEIGHT**: is measured in $\\text{g}$.\n",
    "\n",
    "For reasons that will become clear later, we will choose to measure the dose in $\\text{mg}$, the plasma concentration in $\\text{mg}/\\text{L}$ and the tumour volume in $\\text{cm}^3$.\n",
    "\n",
    "According to the study report, the medium dose group where administered an oral dose of erlotinib of $100\\, \\text{mg}/\\text{kg}/\\text{L}$ per dose. For now we will assume that the doses recorded in the dataset are correct."
   ]
  },
  {
   "cell_type": "markdown",
   "metadata": {},
   "source": [
    "## Filter for medium dose data"
   ]
  },
  {
   "cell_type": "code",
   "execution_count": 2,
   "metadata": {},
   "outputs": [
    {
     "output_type": "execute_result",
     "data": {
      "text/plain": [
       "     #ID  TIME    DOSE  ADDL   II   Y  CENS  TUMOR SIZE    BW\n",
       "0      6   0.0     NaN   NaN  NaN NaN   NaN     68.7500  24.2\n",
       "1      6   2.0     NaN   NaN  NaN NaN   NaN     75.4290  24.7\n",
       "2      6   3.0  2450.0   NaN  NaN NaN   NaN     75.4290  24.7\n",
       "3      6   4.0     NaN   NaN  NaN NaN   NaN    115.3510  23.6\n",
       "4      6   4.0  2350.0   2.0  1.0 NaN   NaN    115.3510  23.6\n",
       "..   ...   ...     ...   ...  ...  ..   ...         ...   ...\n",
       "104  134  21.0     NaN   NaN  NaN NaN   NaN    109.6515  22.9\n",
       "105  134  23.0     NaN   NaN  NaN NaN   NaN    183.9965  23.2\n",
       "106  134  25.0     NaN   NaN  NaN NaN   NaN    242.5920  24.5\n",
       "107  134  28.0     NaN   NaN  NaN NaN   NaN    300.8000  23.8\n",
       "108  134  30.0     NaN   NaN  NaN NaN   NaN    342.2160  24.1\n",
       "\n",
       "[109 rows x 9 columns]"
      ],
      "text/html": "<div>\n<style scoped>\n    .dataframe tbody tr th:only-of-type {\n        vertical-align: middle;\n    }\n\n    .dataframe tbody tr th {\n        vertical-align: top;\n    }\n\n    .dataframe thead th {\n        text-align: right;\n    }\n</style>\n<table border=\"1\" class=\"dataframe\">\n  <thead>\n    <tr style=\"text-align: right;\">\n      <th></th>\n      <th>#ID</th>\n      <th>TIME</th>\n      <th>DOSE</th>\n      <th>ADDL</th>\n      <th>II</th>\n      <th>Y</th>\n      <th>CENS</th>\n      <th>TUMOR SIZE</th>\n      <th>BW</th>\n    </tr>\n  </thead>\n  <tbody>\n    <tr>\n      <th>0</th>\n      <td>6</td>\n      <td>0.0</td>\n      <td>NaN</td>\n      <td>NaN</td>\n      <td>NaN</td>\n      <td>NaN</td>\n      <td>NaN</td>\n      <td>68.7500</td>\n      <td>24.2</td>\n    </tr>\n    <tr>\n      <th>1</th>\n      <td>6</td>\n      <td>2.0</td>\n      <td>NaN</td>\n      <td>NaN</td>\n      <td>NaN</td>\n      <td>NaN</td>\n      <td>NaN</td>\n      <td>75.4290</td>\n      <td>24.7</td>\n    </tr>\n    <tr>\n      <th>2</th>\n      <td>6</td>\n      <td>3.0</td>\n      <td>2450.0</td>\n      <td>NaN</td>\n      <td>NaN</td>\n      <td>NaN</td>\n      <td>NaN</td>\n      <td>75.4290</td>\n      <td>24.7</td>\n    </tr>\n    <tr>\n      <th>3</th>\n      <td>6</td>\n      <td>4.0</td>\n      <td>NaN</td>\n      <td>NaN</td>\n      <td>NaN</td>\n      <td>NaN</td>\n      <td>NaN</td>\n      <td>115.3510</td>\n      <td>23.6</td>\n    </tr>\n    <tr>\n      <th>4</th>\n      <td>6</td>\n      <td>4.0</td>\n      <td>2350.0</td>\n      <td>2.0</td>\n      <td>1.0</td>\n      <td>NaN</td>\n      <td>NaN</td>\n      <td>115.3510</td>\n      <td>23.6</td>\n    </tr>\n    <tr>\n      <th>...</th>\n      <td>...</td>\n      <td>...</td>\n      <td>...</td>\n      <td>...</td>\n      <td>...</td>\n      <td>...</td>\n      <td>...</td>\n      <td>...</td>\n      <td>...</td>\n    </tr>\n    <tr>\n      <th>104</th>\n      <td>134</td>\n      <td>21.0</td>\n      <td>NaN</td>\n      <td>NaN</td>\n      <td>NaN</td>\n      <td>NaN</td>\n      <td>NaN</td>\n      <td>109.6515</td>\n      <td>22.9</td>\n    </tr>\n    <tr>\n      <th>105</th>\n      <td>134</td>\n      <td>23.0</td>\n      <td>NaN</td>\n      <td>NaN</td>\n      <td>NaN</td>\n      <td>NaN</td>\n      <td>NaN</td>\n      <td>183.9965</td>\n      <td>23.2</td>\n    </tr>\n    <tr>\n      <th>106</th>\n      <td>134</td>\n      <td>25.0</td>\n      <td>NaN</td>\n      <td>NaN</td>\n      <td>NaN</td>\n      <td>NaN</td>\n      <td>NaN</td>\n      <td>242.5920</td>\n      <td>24.5</td>\n    </tr>\n    <tr>\n      <th>107</th>\n      <td>134</td>\n      <td>28.0</td>\n      <td>NaN</td>\n      <td>NaN</td>\n      <td>NaN</td>\n      <td>NaN</td>\n      <td>NaN</td>\n      <td>300.8000</td>\n      <td>23.8</td>\n    </tr>\n    <tr>\n      <th>108</th>\n      <td>134</td>\n      <td>30.0</td>\n      <td>NaN</td>\n      <td>NaN</td>\n      <td>NaN</td>\n      <td>NaN</td>\n      <td>NaN</td>\n      <td>342.2160</td>\n      <td>24.1</td>\n    </tr>\n  </tbody>\n</table>\n<p>109 rows × 9 columns</p>\n</div>"
     },
     "metadata": {},
     "execution_count": 2
    }
   ],
   "source": [
    "import numpy as np\n",
    "\n",
    "# Filter medium dose data\n",
    "data = data_raw.apply(pd.to_numeric, errors='coerce')\n",
    "data = data[data['DOSE GROUP'] == 100]\n",
    "\n",
    "# Forget columns that carry no relevant info\n",
    "assert len(data['CELL LINE'].unique()) == 1\n",
    "assert len(data['DOSE GROUP'].unique()) == 1\n",
    "assert len(data['EXPERIMENT'].unique()) == 1\n",
    "assert len(data['DRUG'].unique()) == 1\n",
    "assert len(data['YTYPE'].unique()) == 2\n",
    "assert np.isnan(data['YTYPE'].unique()[0])\n",
    "assert data['YTYPE'].unique()[1] == 1\n",
    " \n",
    "data = data[['#ID', 'TIME', 'DOSE', 'ADDL', 'II', 'Y', 'CENS', 'TUMOR SIZE', 'BW']]\n",
    "\n",
    "data"
   ]
  },
  {
   "cell_type": "markdown",
   "metadata": {},
   "source": [
    "## Save all dose events as separate rows"
   ]
  },
  {
   "cell_type": "code",
   "execution_count": 3,
   "metadata": {},
   "outputs": [
    {
     "output_type": "execute_result",
     "data": {
      "text/plain": [
       "    #ID  TIME    DOSE   Y  CENS  TUMOR SIZE    BW\n",
       "0     6   0.0     NaN NaN   NaN     68.7500  24.2\n",
       "1     6   2.0     NaN NaN   NaN     75.4290  24.7\n",
       "3     6   4.0  2350.0 NaN   NaN    115.3510  23.6\n",
       "5     6   7.0  2100.0 NaN   NaN     34.2225  21.2\n",
       "7     6   9.0     NaN NaN   NaN     10.3125  19.0\n",
       "..  ...   ...     ...  ..   ...         ...   ...\n",
       "0   134   3.0  2350.0 NaN   NaN         NaN   NaN\n",
       "0   134   5.0  2250.0 NaN   NaN         NaN   NaN\n",
       "0   134   6.0  2250.0 NaN   NaN         NaN   NaN\n",
       "0   134   8.0  2150.0 NaN   NaN         NaN   NaN\n",
       "0   134  15.0  2300.0 NaN   NaN         NaN   NaN\n",
       "\n",
       "[110 rows x 7 columns]"
      ],
      "text/html": "<div>\n<style scoped>\n    .dataframe tbody tr th:only-of-type {\n        vertical-align: middle;\n    }\n\n    .dataframe tbody tr th {\n        vertical-align: top;\n    }\n\n    .dataframe thead th {\n        text-align: right;\n    }\n</style>\n<table border=\"1\" class=\"dataframe\">\n  <thead>\n    <tr style=\"text-align: right;\">\n      <th></th>\n      <th>#ID</th>\n      <th>TIME</th>\n      <th>DOSE</th>\n      <th>Y</th>\n      <th>CENS</th>\n      <th>TUMOR SIZE</th>\n      <th>BW</th>\n    </tr>\n  </thead>\n  <tbody>\n    <tr>\n      <th>0</th>\n      <td>6</td>\n      <td>0.0</td>\n      <td>NaN</td>\n      <td>NaN</td>\n      <td>NaN</td>\n      <td>68.7500</td>\n      <td>24.2</td>\n    </tr>\n    <tr>\n      <th>1</th>\n      <td>6</td>\n      <td>2.0</td>\n      <td>NaN</td>\n      <td>NaN</td>\n      <td>NaN</td>\n      <td>75.4290</td>\n      <td>24.7</td>\n    </tr>\n    <tr>\n      <th>3</th>\n      <td>6</td>\n      <td>4.0</td>\n      <td>2350.0</td>\n      <td>NaN</td>\n      <td>NaN</td>\n      <td>115.3510</td>\n      <td>23.6</td>\n    </tr>\n    <tr>\n      <th>5</th>\n      <td>6</td>\n      <td>7.0</td>\n      <td>2100.0</td>\n      <td>NaN</td>\n      <td>NaN</td>\n      <td>34.2225</td>\n      <td>21.2</td>\n    </tr>\n    <tr>\n      <th>7</th>\n      <td>6</td>\n      <td>9.0</td>\n      <td>NaN</td>\n      <td>NaN</td>\n      <td>NaN</td>\n      <td>10.3125</td>\n      <td>19.0</td>\n    </tr>\n    <tr>\n      <th>...</th>\n      <td>...</td>\n      <td>...</td>\n      <td>...</td>\n      <td>...</td>\n      <td>...</td>\n      <td>...</td>\n      <td>...</td>\n    </tr>\n    <tr>\n      <th>0</th>\n      <td>134</td>\n      <td>3.0</td>\n      <td>2350.0</td>\n      <td>NaN</td>\n      <td>NaN</td>\n      <td>NaN</td>\n      <td>NaN</td>\n    </tr>\n    <tr>\n      <th>0</th>\n      <td>134</td>\n      <td>5.0</td>\n      <td>2250.0</td>\n      <td>NaN</td>\n      <td>NaN</td>\n      <td>NaN</td>\n      <td>NaN</td>\n    </tr>\n    <tr>\n      <th>0</th>\n      <td>134</td>\n      <td>6.0</td>\n      <td>2250.0</td>\n      <td>NaN</td>\n      <td>NaN</td>\n      <td>NaN</td>\n      <td>NaN</td>\n    </tr>\n    <tr>\n      <th>0</th>\n      <td>134</td>\n      <td>8.0</td>\n      <td>2150.0</td>\n      <td>NaN</td>\n      <td>NaN</td>\n      <td>NaN</td>\n      <td>NaN</td>\n    </tr>\n    <tr>\n      <th>0</th>\n      <td>134</td>\n      <td>15.0</td>\n      <td>2300.0</td>\n      <td>NaN</td>\n      <td>NaN</td>\n      <td>NaN</td>\n      <td>NaN</td>\n    </tr>\n  </tbody>\n</table>\n<p>110 rows × 7 columns</p>\n</div>"
     },
     "metadata": {},
     "execution_count": 3
    }
   ],
   "source": [
    "# Split data into rows with dose info and rows withour dose info\n",
    "dose_mask = pd.notnull(data['DOSE'])\n",
    "doses = data[dose_mask]\n",
    "data = data[~dose_mask]\n",
    "\n",
    "# Add all dose events as rows to data\n",
    "for _, row in doses.iterrows():\n",
    "    # Get id, time, dose amount, multiplicity, interval\n",
    "    index = row['#ID']\n",
    "    time = row['TIME']\n",
    "    dose = row['DOSE']\n",
    "    number = row['ADDL']\n",
    "    interval = row['II']\n",
    "\n",
    "    if np.isnan(number):\n",
    "        number = 1\n",
    "        interval = 0\n",
    "    else:\n",
    "        number = int(number + 1)\n",
    "\n",
    "    # Add dose entry to data\n",
    "    for n in range(number):\n",
    "        # Compute dose time (first iteration is at original time)\n",
    "        new_time = time + n * interval\n",
    "\n",
    "        # Create an id and a time mask\n",
    "        mask_id = data['#ID'] == index\n",
    "        mask_time = data['TIME'] == new_time\n",
    "\n",
    "        if data[mask_id & mask_time].empty:\n",
    "            # This means there is no row entry for the indiviudal at that time point.\n",
    "            data = data.append(pd.DataFrame({\n",
    "                '#ID': [index],\n",
    "                'TIME': [new_time],\n",
    "                'DOSE': [dose]}))\n",
    "        else:\n",
    "            # This means the individual was measured at that time point\n",
    "            if data[mask_id & mask_time]['DOSE'].dropna().empty:\n",
    "                data['DOSE'].where(~(mask_id & mask_time), other=dose, inplace=True)\n",
    "            else:\n",
    "                try:\n",
    "                    assert (data[mask_id & mask_time]['DOSE'] == dose).all()\n",
    "                except AssertionError:\n",
    "                    print(data[mask_id & mask_time]['DOSE'])\n",
    "                    print(dose)\n",
    "\n",
    "# Remove the now unnecessary ADDL and II colum\n",
    "data = data[['#ID', 'TIME', 'DOSE', 'Y', 'CENS', 'TUMOR SIZE', 'BW']]\n",
    "\n",
    "# Let IDs be integers\n",
    "data['#ID'] = data['#ID'].astype(int)\n",
    "\n",
    "data"
   ]
  },
  {
   "cell_type": "markdown",
   "metadata": {},
   "source": [
    "## Remove Tumor size and BW entries for concentration measurement rows. \n",
    "\n",
    "According to report those values where not measured together with the concentration. (not 100% sure about the body weight)"
   ]
  },
  {
   "cell_type": "code",
   "execution_count": 4,
   "metadata": {},
   "outputs": [
    {
     "output_type": "execute_result",
     "data": {
      "text/plain": [
       "    #ID  TIME    DOSE   Y  CENS  TUMOR SIZE    BW\n",
       "0     6   0.0     NaN NaN   NaN     68.7500  24.2\n",
       "1     6   2.0     NaN NaN   NaN     75.4290  24.7\n",
       "3     6   4.0  2350.0 NaN   NaN    115.3510  23.6\n",
       "5     6   7.0  2100.0 NaN   NaN     34.2225  21.2\n",
       "7     6   9.0     NaN NaN   NaN     10.3125  19.0\n",
       "..  ...   ...     ...  ..   ...         ...   ...\n",
       "0   134   3.0  2350.0 NaN   NaN         NaN   NaN\n",
       "0   134   5.0  2250.0 NaN   NaN         NaN   NaN\n",
       "0   134   6.0  2250.0 NaN   NaN         NaN   NaN\n",
       "0   134   8.0  2150.0 NaN   NaN         NaN   NaN\n",
       "0   134  15.0  2300.0 NaN   NaN         NaN   NaN\n",
       "\n",
       "[110 rows x 7 columns]"
      ],
      "text/html": "<div>\n<style scoped>\n    .dataframe tbody tr th:only-of-type {\n        vertical-align: middle;\n    }\n\n    .dataframe tbody tr th {\n        vertical-align: top;\n    }\n\n    .dataframe thead th {\n        text-align: right;\n    }\n</style>\n<table border=\"1\" class=\"dataframe\">\n  <thead>\n    <tr style=\"text-align: right;\">\n      <th></th>\n      <th>#ID</th>\n      <th>TIME</th>\n      <th>DOSE</th>\n      <th>Y</th>\n      <th>CENS</th>\n      <th>TUMOR SIZE</th>\n      <th>BW</th>\n    </tr>\n  </thead>\n  <tbody>\n    <tr>\n      <th>0</th>\n      <td>6</td>\n      <td>0.0</td>\n      <td>NaN</td>\n      <td>NaN</td>\n      <td>NaN</td>\n      <td>68.7500</td>\n      <td>24.2</td>\n    </tr>\n    <tr>\n      <th>1</th>\n      <td>6</td>\n      <td>2.0</td>\n      <td>NaN</td>\n      <td>NaN</td>\n      <td>NaN</td>\n      <td>75.4290</td>\n      <td>24.7</td>\n    </tr>\n    <tr>\n      <th>3</th>\n      <td>6</td>\n      <td>4.0</td>\n      <td>2350.0</td>\n      <td>NaN</td>\n      <td>NaN</td>\n      <td>115.3510</td>\n      <td>23.6</td>\n    </tr>\n    <tr>\n      <th>5</th>\n      <td>6</td>\n      <td>7.0</td>\n      <td>2100.0</td>\n      <td>NaN</td>\n      <td>NaN</td>\n      <td>34.2225</td>\n      <td>21.2</td>\n    </tr>\n    <tr>\n      <th>7</th>\n      <td>6</td>\n      <td>9.0</td>\n      <td>NaN</td>\n      <td>NaN</td>\n      <td>NaN</td>\n      <td>10.3125</td>\n      <td>19.0</td>\n    </tr>\n    <tr>\n      <th>...</th>\n      <td>...</td>\n      <td>...</td>\n      <td>...</td>\n      <td>...</td>\n      <td>...</td>\n      <td>...</td>\n      <td>...</td>\n    </tr>\n    <tr>\n      <th>0</th>\n      <td>134</td>\n      <td>3.0</td>\n      <td>2350.0</td>\n      <td>NaN</td>\n      <td>NaN</td>\n      <td>NaN</td>\n      <td>NaN</td>\n    </tr>\n    <tr>\n      <th>0</th>\n      <td>134</td>\n      <td>5.0</td>\n      <td>2250.0</td>\n      <td>NaN</td>\n      <td>NaN</td>\n      <td>NaN</td>\n      <td>NaN</td>\n    </tr>\n    <tr>\n      <th>0</th>\n      <td>134</td>\n      <td>6.0</td>\n      <td>2250.0</td>\n      <td>NaN</td>\n      <td>NaN</td>\n      <td>NaN</td>\n      <td>NaN</td>\n    </tr>\n    <tr>\n      <th>0</th>\n      <td>134</td>\n      <td>8.0</td>\n      <td>2150.0</td>\n      <td>NaN</td>\n      <td>NaN</td>\n      <td>NaN</td>\n      <td>NaN</td>\n    </tr>\n    <tr>\n      <th>0</th>\n      <td>134</td>\n      <td>15.0</td>\n      <td>2300.0</td>\n      <td>NaN</td>\n      <td>NaN</td>\n      <td>NaN</td>\n      <td>NaN</td>\n    </tr>\n  </tbody>\n</table>\n<p>110 rows × 7 columns</p>\n</div>"
     },
     "metadata": {},
     "execution_count": 4
    }
   ],
   "source": [
    "mask = data['Y'].isnull()\n",
    "data['TUMOR SIZE'].where(mask, inplace=True)\n",
    "data['BW'].where(mask, inplace=True)\n",
    "\n",
    "data"
   ]
  },
  {
   "cell_type": "markdown",
   "metadata": {},
   "source": [
    "## Remove censored data for now (can always insert it back once we support it in our inference)"
   ]
  },
  {
   "cell_type": "code",
   "execution_count": 5,
   "metadata": {},
   "outputs": [
    {
     "output_type": "execute_result",
     "data": {
      "text/plain": [
       "    #ID  TIME    DOSE   Y  TUMOR SIZE    BW\n",
       "0     6   0.0     NaN NaN     68.7500  24.2\n",
       "1     6   2.0     NaN NaN     75.4290  24.7\n",
       "3     6   4.0  2350.0 NaN    115.3510  23.6\n",
       "5     6   7.0  2100.0 NaN     34.2225  21.2\n",
       "7     6   9.0     NaN NaN     10.3125  19.0\n",
       "..  ...   ...     ...  ..         ...   ...\n",
       "0   134   3.0  2350.0 NaN         NaN   NaN\n",
       "0   134   5.0  2250.0 NaN         NaN   NaN\n",
       "0   134   6.0  2250.0 NaN         NaN   NaN\n",
       "0   134   8.0  2150.0 NaN         NaN   NaN\n",
       "0   134  15.0  2300.0 NaN         NaN   NaN\n",
       "\n",
       "[110 rows x 6 columns]"
      ],
      "text/html": "<div>\n<style scoped>\n    .dataframe tbody tr th:only-of-type {\n        vertical-align: middle;\n    }\n\n    .dataframe tbody tr th {\n        vertical-align: top;\n    }\n\n    .dataframe thead th {\n        text-align: right;\n    }\n</style>\n<table border=\"1\" class=\"dataframe\">\n  <thead>\n    <tr style=\"text-align: right;\">\n      <th></th>\n      <th>#ID</th>\n      <th>TIME</th>\n      <th>DOSE</th>\n      <th>Y</th>\n      <th>TUMOR SIZE</th>\n      <th>BW</th>\n    </tr>\n  </thead>\n  <tbody>\n    <tr>\n      <th>0</th>\n      <td>6</td>\n      <td>0.0</td>\n      <td>NaN</td>\n      <td>NaN</td>\n      <td>68.7500</td>\n      <td>24.2</td>\n    </tr>\n    <tr>\n      <th>1</th>\n      <td>6</td>\n      <td>2.0</td>\n      <td>NaN</td>\n      <td>NaN</td>\n      <td>75.4290</td>\n      <td>24.7</td>\n    </tr>\n    <tr>\n      <th>3</th>\n      <td>6</td>\n      <td>4.0</td>\n      <td>2350.0</td>\n      <td>NaN</td>\n      <td>115.3510</td>\n      <td>23.6</td>\n    </tr>\n    <tr>\n      <th>5</th>\n      <td>6</td>\n      <td>7.0</td>\n      <td>2100.0</td>\n      <td>NaN</td>\n      <td>34.2225</td>\n      <td>21.2</td>\n    </tr>\n    <tr>\n      <th>7</th>\n      <td>6</td>\n      <td>9.0</td>\n      <td>NaN</td>\n      <td>NaN</td>\n      <td>10.3125</td>\n      <td>19.0</td>\n    </tr>\n    <tr>\n      <th>...</th>\n      <td>...</td>\n      <td>...</td>\n      <td>...</td>\n      <td>...</td>\n      <td>...</td>\n      <td>...</td>\n    </tr>\n    <tr>\n      <th>0</th>\n      <td>134</td>\n      <td>3.0</td>\n      <td>2350.0</td>\n      <td>NaN</td>\n      <td>NaN</td>\n      <td>NaN</td>\n    </tr>\n    <tr>\n      <th>0</th>\n      <td>134</td>\n      <td>5.0</td>\n      <td>2250.0</td>\n      <td>NaN</td>\n      <td>NaN</td>\n      <td>NaN</td>\n    </tr>\n    <tr>\n      <th>0</th>\n      <td>134</td>\n      <td>6.0</td>\n      <td>2250.0</td>\n      <td>NaN</td>\n      <td>NaN</td>\n      <td>NaN</td>\n    </tr>\n    <tr>\n      <th>0</th>\n      <td>134</td>\n      <td>8.0</td>\n      <td>2150.0</td>\n      <td>NaN</td>\n      <td>NaN</td>\n      <td>NaN</td>\n    </tr>\n    <tr>\n      <th>0</th>\n      <td>134</td>\n      <td>15.0</td>\n      <td>2300.0</td>\n      <td>NaN</td>\n      <td>NaN</td>\n      <td>NaN</td>\n    </tr>\n  </tbody>\n</table>\n<p>110 rows × 6 columns</p>\n</div>"
     },
     "metadata": {},
     "execution_count": 5
    }
   ],
   "source": [
    "# Mask where CENS is NaN\n",
    "mask = data['CENS'].isnull()\n",
    "\n",
    "# Set censored concentration measurements to nan\n",
    "data['Y'].where(mask, inplace=True)\n",
    "\n",
    "# Remove the now unnecessary CENS colum\n",
    "data = data[['#ID', 'TIME', 'DOSE', 'Y', 'TUMOR SIZE', 'BW']]\n",
    "\n",
    "data"
   ]
  },
  {
   "cell_type": "markdown",
   "metadata": {},
   "source": [
    "## Rename columns and transform units"
   ]
  },
  {
   "cell_type": "code",
   "execution_count": 6,
   "metadata": {},
   "outputs": [
    {
     "output_type": "execute_result",
     "data": {
      "text/plain": [
       "    #ID  TIME in day  DOSE in mg  PLASMA CONCENTRATION in mg/L  \\\n",
       "0     6          0.0         NaN                           NaN   \n",
       "1     6          2.0         NaN                           NaN   \n",
       "3     6          4.0        2.35                           NaN   \n",
       "5     6          7.0        2.10                           NaN   \n",
       "7     6          9.0         NaN                           NaN   \n",
       "..  ...          ...         ...                           ...   \n",
       "0   134          3.0        2.35                           NaN   \n",
       "0   134          5.0        2.25                           NaN   \n",
       "0   134          6.0        2.25                           NaN   \n",
       "0   134          8.0        2.15                           NaN   \n",
       "0   134         15.0        2.30                           NaN   \n",
       "\n",
       "    TUMOUR VOLUME in cm^3  BODY WEIGHT in g  \n",
       "0                0.068750              24.2  \n",
       "1                0.075429              24.7  \n",
       "3                0.115351              23.6  \n",
       "5                0.034222              21.2  \n",
       "7                0.010313              19.0  \n",
       "..                    ...               ...  \n",
       "0                     NaN               NaN  \n",
       "0                     NaN               NaN  \n",
       "0                     NaN               NaN  \n",
       "0                     NaN               NaN  \n",
       "0                     NaN               NaN  \n",
       "\n",
       "[110 rows x 6 columns]"
      ],
      "text/html": "<div>\n<style scoped>\n    .dataframe tbody tr th:only-of-type {\n        vertical-align: middle;\n    }\n\n    .dataframe tbody tr th {\n        vertical-align: top;\n    }\n\n    .dataframe thead th {\n        text-align: right;\n    }\n</style>\n<table border=\"1\" class=\"dataframe\">\n  <thead>\n    <tr style=\"text-align: right;\">\n      <th></th>\n      <th>#ID</th>\n      <th>TIME in day</th>\n      <th>DOSE in mg</th>\n      <th>PLASMA CONCENTRATION in mg/L</th>\n      <th>TUMOUR VOLUME in cm^3</th>\n      <th>BODY WEIGHT in g</th>\n    </tr>\n  </thead>\n  <tbody>\n    <tr>\n      <th>0</th>\n      <td>6</td>\n      <td>0.0</td>\n      <td>NaN</td>\n      <td>NaN</td>\n      <td>0.068750</td>\n      <td>24.2</td>\n    </tr>\n    <tr>\n      <th>1</th>\n      <td>6</td>\n      <td>2.0</td>\n      <td>NaN</td>\n      <td>NaN</td>\n      <td>0.075429</td>\n      <td>24.7</td>\n    </tr>\n    <tr>\n      <th>3</th>\n      <td>6</td>\n      <td>4.0</td>\n      <td>2.35</td>\n      <td>NaN</td>\n      <td>0.115351</td>\n      <td>23.6</td>\n    </tr>\n    <tr>\n      <th>5</th>\n      <td>6</td>\n      <td>7.0</td>\n      <td>2.10</td>\n      <td>NaN</td>\n      <td>0.034222</td>\n      <td>21.2</td>\n    </tr>\n    <tr>\n      <th>7</th>\n      <td>6</td>\n      <td>9.0</td>\n      <td>NaN</td>\n      <td>NaN</td>\n      <td>0.010313</td>\n      <td>19.0</td>\n    </tr>\n    <tr>\n      <th>...</th>\n      <td>...</td>\n      <td>...</td>\n      <td>...</td>\n      <td>...</td>\n      <td>...</td>\n      <td>...</td>\n    </tr>\n    <tr>\n      <th>0</th>\n      <td>134</td>\n      <td>3.0</td>\n      <td>2.35</td>\n      <td>NaN</td>\n      <td>NaN</td>\n      <td>NaN</td>\n    </tr>\n    <tr>\n      <th>0</th>\n      <td>134</td>\n      <td>5.0</td>\n      <td>2.25</td>\n      <td>NaN</td>\n      <td>NaN</td>\n      <td>NaN</td>\n    </tr>\n    <tr>\n      <th>0</th>\n      <td>134</td>\n      <td>6.0</td>\n      <td>2.25</td>\n      <td>NaN</td>\n      <td>NaN</td>\n      <td>NaN</td>\n    </tr>\n    <tr>\n      <th>0</th>\n      <td>134</td>\n      <td>8.0</td>\n      <td>2.15</td>\n      <td>NaN</td>\n      <td>NaN</td>\n      <td>NaN</td>\n    </tr>\n    <tr>\n      <th>0</th>\n      <td>134</td>\n      <td>15.0</td>\n      <td>2.30</td>\n      <td>NaN</td>\n      <td>NaN</td>\n      <td>NaN</td>\n    </tr>\n  </tbody>\n</table>\n<p>110 rows × 6 columns</p>\n</div>"
     },
     "metadata": {},
     "execution_count": 6
    }
   ],
   "source": [
    "# Rename TIME, DOSE, PLASMA CONCENTRATION, TUMOUR VOLUME and BODY WEIGHT with units as they are\n",
    "data = data.rename(columns={\n",
    "    'TIME': 'TIME in day',\n",
    "    'DOSE': 'DOSE in ng',\n",
    "    'Y': 'PLASMA CONCENTRATION in ng/L',\n",
    "    'TUMOR SIZE': 'TUMOUR VOLUME in mm^3',\n",
    "    'BW': 'BODY WEIGHT in g'})\n",
    "\n",
    "# Convert units\n",
    "data['DOSE in ng'] *= 1E-03\n",
    "data = data.rename(columns={'DOSE in ng': 'DOSE in mg'})\n",
    "\n",
    "data['PLASMA CONCENTRATION in ng/L'] *= 1E-03\n",
    "data = data.rename(columns={'PLASMA CONCENTRATION in ng/L': 'PLASMA CONCENTRATION in mg/L'})\n",
    "\n",
    "data['TUMOUR VOLUME in mm^3'] *= 1E-03\n",
    "data = data.rename(columns={'TUMOUR VOLUME in mm^3': 'TUMOUR VOLUME in cm^3'})\n",
    "\n",
    "data"
   ]
  },
  {
   "cell_type": "markdown",
   "metadata": {},
   "source": [
    "## Illustrate high erlotinib dose group data"
   ]
  },
  {
   "cell_type": "code",
   "execution_count": 7,
   "metadata": {},
   "outputs": [
    {
     "output_type": "display_data",
     "data": {
      "application/vnd.plotly.v1+json": {
       "config": {
        "plotlyServerURL": "https://plot.ly"
       },
       "data": [
        {
         "legendgroup": "ID: 6",
         "marker": {
          "color": "#636EFA",
          "line": {
           "color": "black",
           "width": 1
          },
          "opacity": 0.7,
          "symbol": "circle"
         },
         "mode": "markers",
         "name": "ID: 6",
         "showlegend": false,
         "type": "scatter",
         "x": [
          0,
          2,
          4,
          7,
          9,
          11,
          14,
          14.02083333,
          16,
          18,
          21,
          23,
          25,
          28,
          30,
          3,
          5,
          6,
          8,
          15
         ],
         "xaxis": "x",
         "y": [
          null,
          null,
          2.35,
          2.1,
          null,
          null,
          2.3000000000000003,
          null,
          2.1,
          null,
          null,
          null,
          null,
          null,
          null,
          2.45,
          2.35,
          2.35,
          2.1,
          2.3000000000000003
         ],
         "yaxis": "y"
        },
        {
         "legendgroup": "ID: 6",
         "marker": {
          "color": "#636EFA",
          "line": {
           "color": "black",
           "width": 1
          },
          "opacity": 0.7,
          "symbol": "circle"
         },
         "mode": "markers",
         "name": "ID: 6",
         "showlegend": true,
         "type": "scatter",
         "x": [
          0,
          2,
          4,
          7,
          9,
          11,
          14,
          14.02083333,
          16,
          18,
          21,
          23,
          25,
          28,
          30,
          3,
          5,
          6,
          8,
          15
         ],
         "xaxis": "x2",
         "y": [
          null,
          null,
          null,
          null,
          null,
          null,
          null,
          8.46,
          null,
          null,
          null,
          null,
          null,
          null,
          null,
          null,
          null,
          null,
          null,
          null
         ],
         "yaxis": "y2"
        },
        {
         "legendgroup": "ID: 11",
         "marker": {
          "color": "#EF553B",
          "line": {
           "color": "black",
           "width": 1
          },
          "opacity": 0.7,
          "symbol": "circle"
         },
         "mode": "markers",
         "name": "ID: 11",
         "showlegend": false,
         "type": "scatter",
         "x": [
          0,
          2,
          4,
          7,
          9,
          11,
          3,
          5,
          6,
          8
         ],
         "xaxis": "x",
         "y": [
          null,
          null,
          3.1,
          2.9,
          null,
          null,
          3.3000000000000003,
          3.1,
          3.1,
          2.9
         ],
         "yaxis": "y"
        },
        {
         "legendgroup": "ID: 11",
         "marker": {
          "color": "#EF553B",
          "line": {
           "color": "black",
           "width": 1
          },
          "opacity": 0.7,
          "symbol": "circle"
         },
         "mode": "markers",
         "name": "ID: 11",
         "showlegend": true,
         "type": "scatter",
         "x": [
          0,
          2,
          4,
          7,
          9,
          11,
          3,
          5,
          6,
          8
         ],
         "xaxis": "x2",
         "y": [
          null,
          null,
          null,
          null,
          null,
          null,
          null,
          null,
          null,
          null
         ],
         "yaxis": "y2"
        },
        {
         "legendgroup": "ID: 28",
         "marker": {
          "color": "#00CC96",
          "line": {
           "color": "black",
           "width": 1
          },
          "opacity": 0.7,
          "symbol": "circle"
         },
         "mode": "markers",
         "name": "ID: 28",
         "showlegend": false,
         "type": "scatter",
         "x": [
          0,
          2,
          4,
          7,
          9,
          11,
          14,
          14.03958333,
          16,
          18,
          21,
          23,
          25,
          28,
          30,
          3,
          5,
          6,
          8,
          15
         ],
         "xaxis": "x",
         "y": [
          null,
          null,
          2.35,
          2.1,
          null,
          null,
          2.35,
          null,
          2.25,
          null,
          null,
          null,
          null,
          null,
          null,
          2.45,
          2.35,
          2.35,
          2.1,
          2.35
         ],
         "yaxis": "y"
        },
        {
         "legendgroup": "ID: 28",
         "marker": {
          "color": "#00CC96",
          "line": {
           "color": "black",
           "width": 1
          },
          "opacity": 0.7,
          "symbol": "circle"
         },
         "mode": "markers",
         "name": "ID: 28",
         "showlegend": true,
         "type": "scatter",
         "x": [
          0,
          2,
          4,
          7,
          9,
          11,
          14,
          14.03958333,
          16,
          18,
          21,
          23,
          25,
          28,
          30,
          3,
          5,
          6,
          8,
          15
         ],
         "xaxis": "x2",
         "y": [
          null,
          null,
          null,
          null,
          null,
          null,
          null,
          15.700000000000001,
          null,
          null,
          null,
          null,
          null,
          null,
          null,
          null,
          null,
          null,
          null,
          null
         ],
         "yaxis": "y2"
        },
        {
         "legendgroup": "ID: 67",
         "marker": {
          "color": "#AB63FA",
          "line": {
           "color": "black",
           "width": 1
          },
          "opacity": 0.7,
          "symbol": "circle"
         },
         "mode": "markers",
         "name": "ID: 67",
         "showlegend": false,
         "type": "scatter",
         "x": [
          0,
          2,
          4,
          7,
          9,
          11,
          14,
          14.01319444,
          16,
          18,
          21,
          23,
          25,
          28,
          30,
          3,
          5,
          6,
          8,
          15
         ],
         "xaxis": "x",
         "y": [
          null,
          null,
          2.75,
          2.45,
          null,
          null,
          2.65,
          null,
          2.5500000000000003,
          null,
          null,
          null,
          null,
          null,
          null,
          2.85,
          2.75,
          2.75,
          2.45,
          2.65
         ],
         "yaxis": "y"
        },
        {
         "legendgroup": "ID: 67",
         "marker": {
          "color": "#AB63FA",
          "line": {
           "color": "black",
           "width": 1
          },
          "opacity": 0.7,
          "symbol": "circle"
         },
         "mode": "markers",
         "name": "ID: 67",
         "showlegend": true,
         "type": "scatter",
         "x": [
          0,
          2,
          4,
          7,
          9,
          11,
          14,
          14.01319444,
          16,
          18,
          21,
          23,
          25,
          28,
          30,
          3,
          5,
          6,
          8,
          15
         ],
         "xaxis": "x2",
         "y": [
          null,
          null,
          null,
          null,
          null,
          null,
          null,
          4.41,
          null,
          null,
          null,
          null,
          null,
          null,
          null,
          null,
          null,
          null,
          null,
          null
         ],
         "yaxis": "y2"
        },
        {
         "legendgroup": "ID: 128",
         "marker": {
          "color": "#FFA15A",
          "line": {
           "color": "black",
           "width": 1
          },
          "opacity": 0.7,
          "symbol": "circle"
         },
         "mode": "markers",
         "name": "ID: 128",
         "showlegend": false,
         "type": "scatter",
         "x": [
          0,
          2,
          4,
          7,
          9,
          11,
          14,
          14.41597222,
          16,
          18,
          21,
          23,
          25,
          28,
          30,
          3,
          5,
          6,
          8,
          15
         ],
         "xaxis": "x",
         "y": [
          null,
          null,
          2.85,
          2.6,
          null,
          null,
          2.95,
          null,
          2.75,
          null,
          null,
          null,
          null,
          null,
          null,
          2.9,
          2.85,
          2.85,
          2.6,
          2.95
         ],
         "yaxis": "y"
        },
        {
         "legendgroup": "ID: 128",
         "marker": {
          "color": "#FFA15A",
          "line": {
           "color": "black",
           "width": 1
          },
          "opacity": 0.7,
          "symbol": "circle"
         },
         "mode": "markers",
         "name": "ID: 128",
         "showlegend": true,
         "type": "scatter",
         "x": [
          0,
          2,
          4,
          7,
          9,
          11,
          14,
          14.41597222,
          16,
          18,
          21,
          23,
          25,
          28,
          30,
          3,
          5,
          6,
          8,
          15
         ],
         "xaxis": "x2",
         "y": [
          null,
          null,
          null,
          null,
          null,
          null,
          null,
          6.1000000000000005,
          null,
          null,
          null,
          null,
          null,
          null,
          null,
          null,
          null,
          null,
          null,
          null
         ],
         "yaxis": "y2"
        },
        {
         "legendgroup": "ID: 134",
         "marker": {
          "color": "#19D3F3",
          "line": {
           "color": "black",
           "width": 1
          },
          "opacity": 0.7,
          "symbol": "circle"
         },
         "mode": "markers",
         "name": "ID: 134",
         "showlegend": false,
         "type": "scatter",
         "x": [
          0,
          2,
          4,
          7,
          9,
          11,
          14,
          14.10486111,
          16,
          18,
          21,
          23,
          25,
          28,
          30,
          3,
          5,
          6,
          8,
          15
         ],
         "xaxis": "x",
         "y": [
          null,
          null,
          2.25,
          2.15,
          null,
          null,
          2.3000000000000003,
          null,
          2.1,
          null,
          null,
          null,
          null,
          null,
          null,
          2.35,
          2.25,
          2.25,
          2.15,
          2.3000000000000003
         ],
         "yaxis": "y"
        },
        {
         "legendgroup": "ID: 134",
         "marker": {
          "color": "#19D3F3",
          "line": {
           "color": "black",
           "width": 1
          },
          "opacity": 0.7,
          "symbol": "circle"
         },
         "mode": "markers",
         "name": "ID: 134",
         "showlegend": true,
         "type": "scatter",
         "x": [
          0,
          2,
          4,
          7,
          9,
          11,
          14,
          14.10486111,
          16,
          18,
          21,
          23,
          25,
          28,
          30,
          3,
          5,
          6,
          8,
          15
         ],
         "xaxis": "x2",
         "y": [
          null,
          null,
          null,
          null,
          null,
          null,
          null,
          5.98,
          null,
          null,
          null,
          null,
          null,
          null,
          null,
          null,
          null,
          null,
          null,
          null
         ],
         "yaxis": "y2"
        }
       ],
       "layout": {
        "autosize": true,
        "template": {
         "data": {
          "bar": [
           {
            "error_x": {
             "color": "#2a3f5f"
            },
            "error_y": {
             "color": "#2a3f5f"
            },
            "marker": {
             "line": {
              "color": "white",
              "width": 0.5
             }
            },
            "type": "bar"
           }
          ],
          "barpolar": [
           {
            "marker": {
             "line": {
              "color": "white",
              "width": 0.5
             }
            },
            "type": "barpolar"
           }
          ],
          "carpet": [
           {
            "aaxis": {
             "endlinecolor": "#2a3f5f",
             "gridcolor": "#C8D4E3",
             "linecolor": "#C8D4E3",
             "minorgridcolor": "#C8D4E3",
             "startlinecolor": "#2a3f5f"
            },
            "baxis": {
             "endlinecolor": "#2a3f5f",
             "gridcolor": "#C8D4E3",
             "linecolor": "#C8D4E3",
             "minorgridcolor": "#C8D4E3",
             "startlinecolor": "#2a3f5f"
            },
            "type": "carpet"
           }
          ],
          "choropleth": [
           {
            "colorbar": {
             "outlinewidth": 0,
             "ticks": ""
            },
            "type": "choropleth"
           }
          ],
          "contour": [
           {
            "colorbar": {
             "outlinewidth": 0,
             "ticks": ""
            },
            "colorscale": [
             [
              0,
              "#0d0887"
             ],
             [
              0.1111111111111111,
              "#46039f"
             ],
             [
              0.2222222222222222,
              "#7201a8"
             ],
             [
              0.3333333333333333,
              "#9c179e"
             ],
             [
              0.4444444444444444,
              "#bd3786"
             ],
             [
              0.5555555555555556,
              "#d8576b"
             ],
             [
              0.6666666666666666,
              "#ed7953"
             ],
             [
              0.7777777777777778,
              "#fb9f3a"
             ],
             [
              0.8888888888888888,
              "#fdca26"
             ],
             [
              1,
              "#f0f921"
             ]
            ],
            "type": "contour"
           }
          ],
          "contourcarpet": [
           {
            "colorbar": {
             "outlinewidth": 0,
             "ticks": ""
            },
            "type": "contourcarpet"
           }
          ],
          "heatmap": [
           {
            "colorbar": {
             "outlinewidth": 0,
             "ticks": ""
            },
            "colorscale": [
             [
              0,
              "#0d0887"
             ],
             [
              0.1111111111111111,
              "#46039f"
             ],
             [
              0.2222222222222222,
              "#7201a8"
             ],
             [
              0.3333333333333333,
              "#9c179e"
             ],
             [
              0.4444444444444444,
              "#bd3786"
             ],
             [
              0.5555555555555556,
              "#d8576b"
             ],
             [
              0.6666666666666666,
              "#ed7953"
             ],
             [
              0.7777777777777778,
              "#fb9f3a"
             ],
             [
              0.8888888888888888,
              "#fdca26"
             ],
             [
              1,
              "#f0f921"
             ]
            ],
            "type": "heatmap"
           }
          ],
          "heatmapgl": [
           {
            "colorbar": {
             "outlinewidth": 0,
             "ticks": ""
            },
            "colorscale": [
             [
              0,
              "#0d0887"
             ],
             [
              0.1111111111111111,
              "#46039f"
             ],
             [
              0.2222222222222222,
              "#7201a8"
             ],
             [
              0.3333333333333333,
              "#9c179e"
             ],
             [
              0.4444444444444444,
              "#bd3786"
             ],
             [
              0.5555555555555556,
              "#d8576b"
             ],
             [
              0.6666666666666666,
              "#ed7953"
             ],
             [
              0.7777777777777778,
              "#fb9f3a"
             ],
             [
              0.8888888888888888,
              "#fdca26"
             ],
             [
              1,
              "#f0f921"
             ]
            ],
            "type": "heatmapgl"
           }
          ],
          "histogram": [
           {
            "marker": {
             "colorbar": {
              "outlinewidth": 0,
              "ticks": ""
             }
            },
            "type": "histogram"
           }
          ],
          "histogram2d": [
           {
            "colorbar": {
             "outlinewidth": 0,
             "ticks": ""
            },
            "colorscale": [
             [
              0,
              "#0d0887"
             ],
             [
              0.1111111111111111,
              "#46039f"
             ],
             [
              0.2222222222222222,
              "#7201a8"
             ],
             [
              0.3333333333333333,
              "#9c179e"
             ],
             [
              0.4444444444444444,
              "#bd3786"
             ],
             [
              0.5555555555555556,
              "#d8576b"
             ],
             [
              0.6666666666666666,
              "#ed7953"
             ],
             [
              0.7777777777777778,
              "#fb9f3a"
             ],
             [
              0.8888888888888888,
              "#fdca26"
             ],
             [
              1,
              "#f0f921"
             ]
            ],
            "type": "histogram2d"
           }
          ],
          "histogram2dcontour": [
           {
            "colorbar": {
             "outlinewidth": 0,
             "ticks": ""
            },
            "colorscale": [
             [
              0,
              "#0d0887"
             ],
             [
              0.1111111111111111,
              "#46039f"
             ],
             [
              0.2222222222222222,
              "#7201a8"
             ],
             [
              0.3333333333333333,
              "#9c179e"
             ],
             [
              0.4444444444444444,
              "#bd3786"
             ],
             [
              0.5555555555555556,
              "#d8576b"
             ],
             [
              0.6666666666666666,
              "#ed7953"
             ],
             [
              0.7777777777777778,
              "#fb9f3a"
             ],
             [
              0.8888888888888888,
              "#fdca26"
             ],
             [
              1,
              "#f0f921"
             ]
            ],
            "type": "histogram2dcontour"
           }
          ],
          "mesh3d": [
           {
            "colorbar": {
             "outlinewidth": 0,
             "ticks": ""
            },
            "type": "mesh3d"
           }
          ],
          "parcoords": [
           {
            "line": {
             "colorbar": {
              "outlinewidth": 0,
              "ticks": ""
             }
            },
            "type": "parcoords"
           }
          ],
          "pie": [
           {
            "automargin": true,
            "type": "pie"
           }
          ],
          "scatter": [
           {
            "marker": {
             "colorbar": {
              "outlinewidth": 0,
              "ticks": ""
             }
            },
            "type": "scatter"
           }
          ],
          "scatter3d": [
           {
            "line": {
             "colorbar": {
              "outlinewidth": 0,
              "ticks": ""
             }
            },
            "marker": {
             "colorbar": {
              "outlinewidth": 0,
              "ticks": ""
             }
            },
            "type": "scatter3d"
           }
          ],
          "scattercarpet": [
           {
            "marker": {
             "colorbar": {
              "outlinewidth": 0,
              "ticks": ""
             }
            },
            "type": "scattercarpet"
           }
          ],
          "scattergeo": [
           {
            "marker": {
             "colorbar": {
              "outlinewidth": 0,
              "ticks": ""
             }
            },
            "type": "scattergeo"
           }
          ],
          "scattergl": [
           {
            "marker": {
             "colorbar": {
              "outlinewidth": 0,
              "ticks": ""
             }
            },
            "type": "scattergl"
           }
          ],
          "scattermapbox": [
           {
            "marker": {
             "colorbar": {
              "outlinewidth": 0,
              "ticks": ""
             }
            },
            "type": "scattermapbox"
           }
          ],
          "scatterpolar": [
           {
            "marker": {
             "colorbar": {
              "outlinewidth": 0,
              "ticks": ""
             }
            },
            "type": "scatterpolar"
           }
          ],
          "scatterpolargl": [
           {
            "marker": {
             "colorbar": {
              "outlinewidth": 0,
              "ticks": ""
             }
            },
            "type": "scatterpolargl"
           }
          ],
          "scatterternary": [
           {
            "marker": {
             "colorbar": {
              "outlinewidth": 0,
              "ticks": ""
             }
            },
            "type": "scatterternary"
           }
          ],
          "surface": [
           {
            "colorbar": {
             "outlinewidth": 0,
             "ticks": ""
            },
            "colorscale": [
             [
              0,
              "#0d0887"
             ],
             [
              0.1111111111111111,
              "#46039f"
             ],
             [
              0.2222222222222222,
              "#7201a8"
             ],
             [
              0.3333333333333333,
              "#9c179e"
             ],
             [
              0.4444444444444444,
              "#bd3786"
             ],
             [
              0.5555555555555556,
              "#d8576b"
             ],
             [
              0.6666666666666666,
              "#ed7953"
             ],
             [
              0.7777777777777778,
              "#fb9f3a"
             ],
             [
              0.8888888888888888,
              "#fdca26"
             ],
             [
              1,
              "#f0f921"
             ]
            ],
            "type": "surface"
           }
          ],
          "table": [
           {
            "cells": {
             "fill": {
              "color": "#EBF0F8"
             },
             "line": {
              "color": "white"
             }
            },
            "header": {
             "fill": {
              "color": "#C8D4E3"
             },
             "line": {
              "color": "white"
             }
            },
            "type": "table"
           }
          ]
         },
         "layout": {
          "annotationdefaults": {
           "arrowcolor": "#2a3f5f",
           "arrowhead": 0,
           "arrowwidth": 1
          },
          "coloraxis": {
           "colorbar": {
            "outlinewidth": 0,
            "ticks": ""
           }
          },
          "colorscale": {
           "diverging": [
            [
             0,
             "#8e0152"
            ],
            [
             0.1,
             "#c51b7d"
            ],
            [
             0.2,
             "#de77ae"
            ],
            [
             0.3,
             "#f1b6da"
            ],
            [
             0.4,
             "#fde0ef"
            ],
            [
             0.5,
             "#f7f7f7"
            ],
            [
             0.6,
             "#e6f5d0"
            ],
            [
             0.7,
             "#b8e186"
            ],
            [
             0.8,
             "#7fbc41"
            ],
            [
             0.9,
             "#4d9221"
            ],
            [
             1,
             "#276419"
            ]
           ],
           "sequential": [
            [
             0,
             "#0d0887"
            ],
            [
             0.1111111111111111,
             "#46039f"
            ],
            [
             0.2222222222222222,
             "#7201a8"
            ],
            [
             0.3333333333333333,
             "#9c179e"
            ],
            [
             0.4444444444444444,
             "#bd3786"
            ],
            [
             0.5555555555555556,
             "#d8576b"
            ],
            [
             0.6666666666666666,
             "#ed7953"
            ],
            [
             0.7777777777777778,
             "#fb9f3a"
            ],
            [
             0.8888888888888888,
             "#fdca26"
            ],
            [
             1,
             "#f0f921"
            ]
           ],
           "sequentialminus": [
            [
             0,
             "#0d0887"
            ],
            [
             0.1111111111111111,
             "#46039f"
            ],
            [
             0.2222222222222222,
             "#7201a8"
            ],
            [
             0.3333333333333333,
             "#9c179e"
            ],
            [
             0.4444444444444444,
             "#bd3786"
            ],
            [
             0.5555555555555556,
             "#d8576b"
            ],
            [
             0.6666666666666666,
             "#ed7953"
            ],
            [
             0.7777777777777778,
             "#fb9f3a"
            ],
            [
             0.8888888888888888,
             "#fdca26"
            ],
            [
             1,
             "#f0f921"
            ]
           ]
          },
          "colorway": [
           "#636efa",
           "#EF553B",
           "#00cc96",
           "#ab63fa",
           "#FFA15A",
           "#19d3f3",
           "#FF6692",
           "#B6E880",
           "#FF97FF",
           "#FECB52"
          ],
          "font": {
           "color": "#2a3f5f"
          },
          "geo": {
           "bgcolor": "white",
           "lakecolor": "white",
           "landcolor": "white",
           "showlakes": true,
           "showland": true,
           "subunitcolor": "#C8D4E3"
          },
          "hoverlabel": {
           "align": "left"
          },
          "hovermode": "closest",
          "mapbox": {
           "style": "light"
          },
          "paper_bgcolor": "white",
          "plot_bgcolor": "white",
          "polar": {
           "angularaxis": {
            "gridcolor": "#EBF0F8",
            "linecolor": "#EBF0F8",
            "ticks": ""
           },
           "bgcolor": "white",
           "radialaxis": {
            "gridcolor": "#EBF0F8",
            "linecolor": "#EBF0F8",
            "ticks": ""
           }
          },
          "scene": {
           "xaxis": {
            "backgroundcolor": "white",
            "gridcolor": "#DFE8F3",
            "gridwidth": 2,
            "linecolor": "#EBF0F8",
            "showbackground": true,
            "ticks": "",
            "zerolinecolor": "#EBF0F8"
           },
           "yaxis": {
            "backgroundcolor": "white",
            "gridcolor": "#DFE8F3",
            "gridwidth": 2,
            "linecolor": "#EBF0F8",
            "showbackground": true,
            "ticks": "",
            "zerolinecolor": "#EBF0F8"
           },
           "zaxis": {
            "backgroundcolor": "white",
            "gridcolor": "#DFE8F3",
            "gridwidth": 2,
            "linecolor": "#EBF0F8",
            "showbackground": true,
            "ticks": "",
            "zerolinecolor": "#EBF0F8"
           }
          },
          "shapedefaults": {
           "line": {
            "color": "#2a3f5f"
           }
          },
          "ternary": {
           "aaxis": {
            "gridcolor": "#DFE8F3",
            "linecolor": "#A2B1C6",
            "ticks": ""
           },
           "baxis": {
            "gridcolor": "#DFE8F3",
            "linecolor": "#A2B1C6",
            "ticks": ""
           },
           "bgcolor": "white",
           "caxis": {
            "gridcolor": "#DFE8F3",
            "linecolor": "#A2B1C6",
            "ticks": ""
           }
          },
          "title": {
           "x": 0.05
          },
          "xaxis": {
           "automargin": true,
           "gridcolor": "#EBF0F8",
           "linecolor": "#EBF0F8",
           "ticks": "",
           "title": {
            "standoff": 15
           },
           "zerolinecolor": "#EBF0F8",
           "zerolinewidth": 2
          },
          "yaxis": {
           "automargin": true,
           "gridcolor": "#EBF0F8",
           "linecolor": "#EBF0F8",
           "ticks": "",
           "title": {
            "standoff": 15
           },
           "zerolinecolor": "#EBF0F8",
           "zerolinewidth": 2
          }
         }
        },
        "updatemenus": [
         {
          "buttons": [
           {
            "args": [
             {
              "yaxis2.type": "linear"
             }
            ],
            "label": "Linear y-scale",
            "method": "relayout"
           },
           {
            "args": [
             {
              "yaxis2.type": "log"
             }
            ],
            "label": "Log y-scale",
            "method": "relayout"
           }
          ],
          "direction": "left",
          "pad": {
           "r": 0,
           "t": -10
          },
          "showactive": true,
          "type": "buttons",
          "x": 0,
          "xanchor": "left",
          "y": 1.15,
          "yanchor": "top"
         }
        ],
        "xaxis": {
         "anchor": "y",
         "domain": [
          0,
          1
         ],
         "matches": "x2",
         "showticklabels": false
        },
        "xaxis2": {
         "anchor": "y2",
         "domain": [
          0,
          1
         ],
         "title": {
          "text": "Time in day"
         }
        },
        "yaxis": {
         "anchor": "x",
         "domain": [
          0.81,
          1
         ],
         "title": {
          "text": "Dose in mg"
         }
        },
        "yaxis2": {
         "anchor": "x2",
         "domain": [
          0,
          0.76
         ],
         "title": {
          "text": "Plasma conc. in mg/L"
         }
        }
       }
      }
     },
     "metadata": {}
    }
   ],
   "source": [
    "import erlotinib.plots as eplt\n",
    "\n",
    "\n",
    "# Create scatter plot\n",
    "fig = eplt.PKTimeSeriesPlot()\n",
    "fig.add_data(data, id_key='#ID', time_key='TIME in day', biom_key='PLASMA CONCENTRATION in mg/L', dose_key='DOSE in mg')\n",
    "fig.set_axis_labels(time_label='Time in day', biom_label='Plasma conc. in mg/L', dose_label='Dose in mg')\n",
    "\n",
    "# Show figure\n",
    "fig.show()"
   ]
  },
  {
   "cell_type": "markdown",
   "metadata": {},
   "source": [
    "**Figure 1:** Plasma concentration time series in lung cancer treatment group with high erlotinib dose ($100\\, \\text{mg}$ oral dose per $\\text{g}$ body weight)."
   ]
  },
  {
   "cell_type": "code",
   "execution_count": 8,
   "metadata": {},
   "outputs": [
    {
     "output_type": "display_data",
     "data": {
      "application/vnd.plotly.v1+json": {
       "config": {
        "plotlyServerURL": "https://plot.ly"
       },
       "data": [
        {
         "marker": {
          "color": "#636EFA",
          "line": {
           "color": "black",
           "width": 1
          },
          "opacity": 0.7,
          "symbol": "circle"
         },
         "mode": "markers",
         "name": "ID: 6",
         "showlegend": true,
         "type": "scatter",
         "x": [
          0,
          2,
          4,
          7,
          9,
          11,
          14,
          14.02083333,
          16,
          18,
          21,
          23,
          25,
          28,
          30,
          3,
          5,
          6,
          8,
          15
         ],
         "y": [
          0.06875,
          0.07542900000000001,
          0.115351,
          0.034222499999999996,
          0.0103125,
          0.009464,
          0.044982,
          null,
          0.046464,
          0.045496,
          0.060025,
          0.09094400000000001,
          0.13926400000000003,
          0.1890375,
          0.21937500000000001,
          null,
          null,
          null,
          null,
          null
         ]
        },
        {
         "marker": {
          "color": "#EF553B",
          "line": {
           "color": "black",
           "width": 1
          },
          "opacity": 0.7,
          "symbol": "circle"
         },
         "mode": "markers",
         "name": "ID: 11",
         "showlegend": true,
         "type": "scatter",
         "x": [
          0,
          2,
          4,
          7,
          9,
          11,
          3,
          5,
          6,
          8
         ],
         "y": [
          0.343914,
          0.382925,
          0.481562,
          0.2446875,
          0.1096515,
          0.0856745,
          null,
          null,
          null,
          null
         ]
        },
        {
         "marker": {
          "color": "#00CC96",
          "line": {
           "color": "black",
           "width": 1
          },
          "opacity": 0.7,
          "symbol": "circle"
         },
         "mode": "markers",
         "name": "ID: 28",
         "showlegend": true,
         "type": "scatter",
         "x": [
          0,
          2,
          4,
          7,
          9,
          11,
          14,
          14.03958333,
          16,
          18,
          21,
          23,
          25,
          28,
          30,
          3,
          5,
          6,
          8,
          15
         ],
         "y": [
          0.0629565,
          0.112694,
          0.157696,
          0.043451500000000004,
          0.0162,
          0.018512999999999998,
          0.0280645,
          null,
          0.013328,
          0.00005,
          0.017920000000000002,
          0.119164,
          0.20736000000000002,
          0.316894,
          0.2944,
          null,
          null,
          null,
          null,
          null
         ]
        },
        {
         "marker": {
          "color": "#AB63FA",
          "line": {
           "color": "black",
           "width": 1
          },
          "opacity": 0.7,
          "symbol": "circle"
         },
         "mode": "markers",
         "name": "ID: 67",
         "showlegend": true,
         "type": "scatter",
         "x": [
          0,
          2,
          4,
          7,
          9,
          11,
          14,
          14.01319444,
          16,
          18,
          21,
          23,
          25,
          28,
          30,
          3,
          5,
          6,
          8,
          15
         ],
         "y": [
          0.1862,
          0.207831,
          0.28240800000000005,
          0.07724750000000001,
          0.0280645,
          0.023698,
          0.083824,
          null,
          0.064512,
          0.06722800000000001,
          0.112694,
          0.208088,
          0.303408,
          0.53,
          0.605696,
          null,
          null,
          null,
          null,
          null
         ]
        },
        {
         "marker": {
          "color": "#FFA15A",
          "line": {
           "color": "black",
           "width": 1
          },
          "opacity": 0.7,
          "symbol": "circle"
         },
         "mode": "markers",
         "name": "ID: 128",
         "showlegend": true,
         "type": "scatter",
         "x": [
          0,
          2,
          4,
          7,
          9,
          11,
          14,
          14.41597222,
          16,
          18,
          21,
          23,
          25,
          28,
          30,
          3,
          5,
          6,
          8,
          15
         ],
         "y": [
          0.124468,
          0.2023425,
          0.354025,
          0.08063100000000001,
          0.07152750000000001,
          0.07803,
          0.189486,
          null,
          0.141398,
          0.1206,
          0.15568200000000001,
          0.2071035,
          0.2344065,
          0.34292400000000006,
          0.4455,
          null,
          null,
          null,
          null,
          null
         ]
        },
        {
         "marker": {
          "color": "#19D3F3",
          "line": {
           "color": "black",
           "width": 1
          },
          "opacity": 0.7,
          "symbol": "circle"
         },
         "mode": "markers",
         "name": "ID: 134",
         "showlegend": true,
         "type": "scatter",
         "x": [
          0,
          2,
          4,
          7,
          9,
          11,
          14,
          14.10486111,
          16,
          18,
          21,
          23,
          25,
          28,
          30,
          3,
          5,
          6,
          8,
          15
         ],
         "y": [
          0.08748,
          0.114376,
          0.13140000000000002,
          0.08937600000000001,
          0.06722800000000001,
          0.057600000000000005,
          0.15155200000000002,
          null,
          0.142228,
          0.1096515,
          0.1096515,
          0.1839965,
          0.24259200000000003,
          0.3008,
          0.342216,
          null,
          null,
          null,
          null,
          null
         ]
        }
       ],
       "layout": {
        "autosize": true,
        "template": {
         "data": {
          "bar": [
           {
            "error_x": {
             "color": "#2a3f5f"
            },
            "error_y": {
             "color": "#2a3f5f"
            },
            "marker": {
             "line": {
              "color": "white",
              "width": 0.5
             }
            },
            "type": "bar"
           }
          ],
          "barpolar": [
           {
            "marker": {
             "line": {
              "color": "white",
              "width": 0.5
             }
            },
            "type": "barpolar"
           }
          ],
          "carpet": [
           {
            "aaxis": {
             "endlinecolor": "#2a3f5f",
             "gridcolor": "#C8D4E3",
             "linecolor": "#C8D4E3",
             "minorgridcolor": "#C8D4E3",
             "startlinecolor": "#2a3f5f"
            },
            "baxis": {
             "endlinecolor": "#2a3f5f",
             "gridcolor": "#C8D4E3",
             "linecolor": "#C8D4E3",
             "minorgridcolor": "#C8D4E3",
             "startlinecolor": "#2a3f5f"
            },
            "type": "carpet"
           }
          ],
          "choropleth": [
           {
            "colorbar": {
             "outlinewidth": 0,
             "ticks": ""
            },
            "type": "choropleth"
           }
          ],
          "contour": [
           {
            "colorbar": {
             "outlinewidth": 0,
             "ticks": ""
            },
            "colorscale": [
             [
              0,
              "#0d0887"
             ],
             [
              0.1111111111111111,
              "#46039f"
             ],
             [
              0.2222222222222222,
              "#7201a8"
             ],
             [
              0.3333333333333333,
              "#9c179e"
             ],
             [
              0.4444444444444444,
              "#bd3786"
             ],
             [
              0.5555555555555556,
              "#d8576b"
             ],
             [
              0.6666666666666666,
              "#ed7953"
             ],
             [
              0.7777777777777778,
              "#fb9f3a"
             ],
             [
              0.8888888888888888,
              "#fdca26"
             ],
             [
              1,
              "#f0f921"
             ]
            ],
            "type": "contour"
           }
          ],
          "contourcarpet": [
           {
            "colorbar": {
             "outlinewidth": 0,
             "ticks": ""
            },
            "type": "contourcarpet"
           }
          ],
          "heatmap": [
           {
            "colorbar": {
             "outlinewidth": 0,
             "ticks": ""
            },
            "colorscale": [
             [
              0,
              "#0d0887"
             ],
             [
              0.1111111111111111,
              "#46039f"
             ],
             [
              0.2222222222222222,
              "#7201a8"
             ],
             [
              0.3333333333333333,
              "#9c179e"
             ],
             [
              0.4444444444444444,
              "#bd3786"
             ],
             [
              0.5555555555555556,
              "#d8576b"
             ],
             [
              0.6666666666666666,
              "#ed7953"
             ],
             [
              0.7777777777777778,
              "#fb9f3a"
             ],
             [
              0.8888888888888888,
              "#fdca26"
             ],
             [
              1,
              "#f0f921"
             ]
            ],
            "type": "heatmap"
           }
          ],
          "heatmapgl": [
           {
            "colorbar": {
             "outlinewidth": 0,
             "ticks": ""
            },
            "colorscale": [
             [
              0,
              "#0d0887"
             ],
             [
              0.1111111111111111,
              "#46039f"
             ],
             [
              0.2222222222222222,
              "#7201a8"
             ],
             [
              0.3333333333333333,
              "#9c179e"
             ],
             [
              0.4444444444444444,
              "#bd3786"
             ],
             [
              0.5555555555555556,
              "#d8576b"
             ],
             [
              0.6666666666666666,
              "#ed7953"
             ],
             [
              0.7777777777777778,
              "#fb9f3a"
             ],
             [
              0.8888888888888888,
              "#fdca26"
             ],
             [
              1,
              "#f0f921"
             ]
            ],
            "type": "heatmapgl"
           }
          ],
          "histogram": [
           {
            "marker": {
             "colorbar": {
              "outlinewidth": 0,
              "ticks": ""
             }
            },
            "type": "histogram"
           }
          ],
          "histogram2d": [
           {
            "colorbar": {
             "outlinewidth": 0,
             "ticks": ""
            },
            "colorscale": [
             [
              0,
              "#0d0887"
             ],
             [
              0.1111111111111111,
              "#46039f"
             ],
             [
              0.2222222222222222,
              "#7201a8"
             ],
             [
              0.3333333333333333,
              "#9c179e"
             ],
             [
              0.4444444444444444,
              "#bd3786"
             ],
             [
              0.5555555555555556,
              "#d8576b"
             ],
             [
              0.6666666666666666,
              "#ed7953"
             ],
             [
              0.7777777777777778,
              "#fb9f3a"
             ],
             [
              0.8888888888888888,
              "#fdca26"
             ],
             [
              1,
              "#f0f921"
             ]
            ],
            "type": "histogram2d"
           }
          ],
          "histogram2dcontour": [
           {
            "colorbar": {
             "outlinewidth": 0,
             "ticks": ""
            },
            "colorscale": [
             [
              0,
              "#0d0887"
             ],
             [
              0.1111111111111111,
              "#46039f"
             ],
             [
              0.2222222222222222,
              "#7201a8"
             ],
             [
              0.3333333333333333,
              "#9c179e"
             ],
             [
              0.4444444444444444,
              "#bd3786"
             ],
             [
              0.5555555555555556,
              "#d8576b"
             ],
             [
              0.6666666666666666,
              "#ed7953"
             ],
             [
              0.7777777777777778,
              "#fb9f3a"
             ],
             [
              0.8888888888888888,
              "#fdca26"
             ],
             [
              1,
              "#f0f921"
             ]
            ],
            "type": "histogram2dcontour"
           }
          ],
          "mesh3d": [
           {
            "colorbar": {
             "outlinewidth": 0,
             "ticks": ""
            },
            "type": "mesh3d"
           }
          ],
          "parcoords": [
           {
            "line": {
             "colorbar": {
              "outlinewidth": 0,
              "ticks": ""
             }
            },
            "type": "parcoords"
           }
          ],
          "pie": [
           {
            "automargin": true,
            "type": "pie"
           }
          ],
          "scatter": [
           {
            "marker": {
             "colorbar": {
              "outlinewidth": 0,
              "ticks": ""
             }
            },
            "type": "scatter"
           }
          ],
          "scatter3d": [
           {
            "line": {
             "colorbar": {
              "outlinewidth": 0,
              "ticks": ""
             }
            },
            "marker": {
             "colorbar": {
              "outlinewidth": 0,
              "ticks": ""
             }
            },
            "type": "scatter3d"
           }
          ],
          "scattercarpet": [
           {
            "marker": {
             "colorbar": {
              "outlinewidth": 0,
              "ticks": ""
             }
            },
            "type": "scattercarpet"
           }
          ],
          "scattergeo": [
           {
            "marker": {
             "colorbar": {
              "outlinewidth": 0,
              "ticks": ""
             }
            },
            "type": "scattergeo"
           }
          ],
          "scattergl": [
           {
            "marker": {
             "colorbar": {
              "outlinewidth": 0,
              "ticks": ""
             }
            },
            "type": "scattergl"
           }
          ],
          "scattermapbox": [
           {
            "marker": {
             "colorbar": {
              "outlinewidth": 0,
              "ticks": ""
             }
            },
            "type": "scattermapbox"
           }
          ],
          "scatterpolar": [
           {
            "marker": {
             "colorbar": {
              "outlinewidth": 0,
              "ticks": ""
             }
            },
            "type": "scatterpolar"
           }
          ],
          "scatterpolargl": [
           {
            "marker": {
             "colorbar": {
              "outlinewidth": 0,
              "ticks": ""
             }
            },
            "type": "scatterpolargl"
           }
          ],
          "scatterternary": [
           {
            "marker": {
             "colorbar": {
              "outlinewidth": 0,
              "ticks": ""
             }
            },
            "type": "scatterternary"
           }
          ],
          "surface": [
           {
            "colorbar": {
             "outlinewidth": 0,
             "ticks": ""
            },
            "colorscale": [
             [
              0,
              "#0d0887"
             ],
             [
              0.1111111111111111,
              "#46039f"
             ],
             [
              0.2222222222222222,
              "#7201a8"
             ],
             [
              0.3333333333333333,
              "#9c179e"
             ],
             [
              0.4444444444444444,
              "#bd3786"
             ],
             [
              0.5555555555555556,
              "#d8576b"
             ],
             [
              0.6666666666666666,
              "#ed7953"
             ],
             [
              0.7777777777777778,
              "#fb9f3a"
             ],
             [
              0.8888888888888888,
              "#fdca26"
             ],
             [
              1,
              "#f0f921"
             ]
            ],
            "type": "surface"
           }
          ],
          "table": [
           {
            "cells": {
             "fill": {
              "color": "#EBF0F8"
             },
             "line": {
              "color": "white"
             }
            },
            "header": {
             "fill": {
              "color": "#C8D4E3"
             },
             "line": {
              "color": "white"
             }
            },
            "type": "table"
           }
          ]
         },
         "layout": {
          "annotationdefaults": {
           "arrowcolor": "#2a3f5f",
           "arrowhead": 0,
           "arrowwidth": 1
          },
          "coloraxis": {
           "colorbar": {
            "outlinewidth": 0,
            "ticks": ""
           }
          },
          "colorscale": {
           "diverging": [
            [
             0,
             "#8e0152"
            ],
            [
             0.1,
             "#c51b7d"
            ],
            [
             0.2,
             "#de77ae"
            ],
            [
             0.3,
             "#f1b6da"
            ],
            [
             0.4,
             "#fde0ef"
            ],
            [
             0.5,
             "#f7f7f7"
            ],
            [
             0.6,
             "#e6f5d0"
            ],
            [
             0.7,
             "#b8e186"
            ],
            [
             0.8,
             "#7fbc41"
            ],
            [
             0.9,
             "#4d9221"
            ],
            [
             1,
             "#276419"
            ]
           ],
           "sequential": [
            [
             0,
             "#0d0887"
            ],
            [
             0.1111111111111111,
             "#46039f"
            ],
            [
             0.2222222222222222,
             "#7201a8"
            ],
            [
             0.3333333333333333,
             "#9c179e"
            ],
            [
             0.4444444444444444,
             "#bd3786"
            ],
            [
             0.5555555555555556,
             "#d8576b"
            ],
            [
             0.6666666666666666,
             "#ed7953"
            ],
            [
             0.7777777777777778,
             "#fb9f3a"
            ],
            [
             0.8888888888888888,
             "#fdca26"
            ],
            [
             1,
             "#f0f921"
            ]
           ],
           "sequentialminus": [
            [
             0,
             "#0d0887"
            ],
            [
             0.1111111111111111,
             "#46039f"
            ],
            [
             0.2222222222222222,
             "#7201a8"
            ],
            [
             0.3333333333333333,
             "#9c179e"
            ],
            [
             0.4444444444444444,
             "#bd3786"
            ],
            [
             0.5555555555555556,
             "#d8576b"
            ],
            [
             0.6666666666666666,
             "#ed7953"
            ],
            [
             0.7777777777777778,
             "#fb9f3a"
            ],
            [
             0.8888888888888888,
             "#fdca26"
            ],
            [
             1,
             "#f0f921"
            ]
           ]
          },
          "colorway": [
           "#636efa",
           "#EF553B",
           "#00cc96",
           "#ab63fa",
           "#FFA15A",
           "#19d3f3",
           "#FF6692",
           "#B6E880",
           "#FF97FF",
           "#FECB52"
          ],
          "font": {
           "color": "#2a3f5f"
          },
          "geo": {
           "bgcolor": "white",
           "lakecolor": "white",
           "landcolor": "white",
           "showlakes": true,
           "showland": true,
           "subunitcolor": "#C8D4E3"
          },
          "hoverlabel": {
           "align": "left"
          },
          "hovermode": "closest",
          "mapbox": {
           "style": "light"
          },
          "paper_bgcolor": "white",
          "plot_bgcolor": "white",
          "polar": {
           "angularaxis": {
            "gridcolor": "#EBF0F8",
            "linecolor": "#EBF0F8",
            "ticks": ""
           },
           "bgcolor": "white",
           "radialaxis": {
            "gridcolor": "#EBF0F8",
            "linecolor": "#EBF0F8",
            "ticks": ""
           }
          },
          "scene": {
           "xaxis": {
            "backgroundcolor": "white",
            "gridcolor": "#DFE8F3",
            "gridwidth": 2,
            "linecolor": "#EBF0F8",
            "showbackground": true,
            "ticks": "",
            "zerolinecolor": "#EBF0F8"
           },
           "yaxis": {
            "backgroundcolor": "white",
            "gridcolor": "#DFE8F3",
            "gridwidth": 2,
            "linecolor": "#EBF0F8",
            "showbackground": true,
            "ticks": "",
            "zerolinecolor": "#EBF0F8"
           },
           "zaxis": {
            "backgroundcolor": "white",
            "gridcolor": "#DFE8F3",
            "gridwidth": 2,
            "linecolor": "#EBF0F8",
            "showbackground": true,
            "ticks": "",
            "zerolinecolor": "#EBF0F8"
           }
          },
          "shapedefaults": {
           "line": {
            "color": "#2a3f5f"
           }
          },
          "ternary": {
           "aaxis": {
            "gridcolor": "#DFE8F3",
            "linecolor": "#A2B1C6",
            "ticks": ""
           },
           "baxis": {
            "gridcolor": "#DFE8F3",
            "linecolor": "#A2B1C6",
            "ticks": ""
           },
           "bgcolor": "white",
           "caxis": {
            "gridcolor": "#DFE8F3",
            "linecolor": "#A2B1C6",
            "ticks": ""
           }
          },
          "title": {
           "x": 0.05
          },
          "xaxis": {
           "automargin": true,
           "gridcolor": "#EBF0F8",
           "linecolor": "#EBF0F8",
           "ticks": "",
           "title": {
            "standoff": 15
           },
           "zerolinecolor": "#EBF0F8",
           "zerolinewidth": 2
          },
          "yaxis": {
           "automargin": true,
           "gridcolor": "#EBF0F8",
           "linecolor": "#EBF0F8",
           "ticks": "",
           "title": {
            "standoff": 15
           },
           "zerolinecolor": "#EBF0F8",
           "zerolinewidth": 2
          }
         }
        },
        "updatemenus": [
         {
          "buttons": [
           {
            "args": [
             {
              "yaxis.type": "linear"
             }
            ],
            "label": "Linear y-scale",
            "method": "relayout"
           },
           {
            "args": [
             {
              "yaxis.type": "log"
             }
            ],
            "label": "Log y-scale",
            "method": "relayout"
           }
          ],
          "direction": "left",
          "pad": {
           "r": 0,
           "t": -10
          },
          "showactive": true,
          "type": "buttons",
          "x": 0,
          "xanchor": "left",
          "y": 1.15,
          "yanchor": "top"
         }
        ],
        "xaxis": {
         "title": {
          "text": "$\\text{Time in day}$"
         }
        },
        "yaxis": {
         "title": {
          "text": "$\\text{Tumour volume in cm}^3$"
         }
        }
       }
      }
     },
     "metadata": {}
    }
   ],
   "source": [
    "# Create scatter plot\n",
    "fig = eplt.PDTimeSeriesPlot()\n",
    "fig.add_data(data, id_key='#ID', time_key='TIME in day', biom_key='TUMOUR VOLUME in cm^3')\n",
    "fig.set_axis_labels(xlabel=r'$\\text{Time in day}$', ylabel=r'$\\text{Tumour volume in cm}^3$')\n",
    "\n",
    "# Show figure\n",
    "fig.show()"
   ]
  },
  {
   "cell_type": "markdown",
   "metadata": {},
   "source": [
    "**Figure 2:** Tumour volume time series in lung cancer treatment group with medium erlotinib dose ($100\\, \\text{mg}$ oral dose per $\\text{g}$ body weight)."
   ]
  },
  {
   "cell_type": "markdown",
   "metadata": {},
   "source": [
    "## Export data"
   ]
  },
  {
   "cell_type": "code",
   "execution_count": 9,
   "metadata": {},
   "outputs": [],
   "source": [
    "# Export cleaned data\n",
    "path = os.path.dirname(os.getcwd())\n",
    "data.to_csv(path_or_buf=path + '/data/lxf_high_erlotinib_dose.csv', index=False)"
   ]
  }
 ],
 "metadata": {
  "kernelspec": {
   "display_name": "Python 3",
   "language": "python",
   "name": "python3"
  },
  "language_info": {
   "codemirror_mode": {
    "name": "ipython",
    "version": 3
   },
   "file_extension": ".py",
   "mimetype": "text/x-python",
   "name": "python",
   "nbconvert_exporter": "python",
   "pygments_lexer": "ipython3",
   "version": "3.7.5-final"
  },
  "widgets": {
   "application/vnd.jupyter.widget-state+json": {
    "state": {},
    "version_major": 2,
    "version_minor": 0
   }
  }
 },
 "nbformat": 4,
 "nbformat_minor": 2
}