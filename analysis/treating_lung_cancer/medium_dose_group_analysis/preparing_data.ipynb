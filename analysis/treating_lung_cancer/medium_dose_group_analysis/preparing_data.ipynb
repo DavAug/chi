{
 "cells": [
  {
   "cell_type": "markdown",
   "metadata": {},
   "source": [
    "# Preparing Medium Erlotinib Dose Lung Cancer Treatment Group Data"
   ]
  },
  {
   "cell_type": "markdown",
   "metadata": {},
   "source": [
    "## Import raw LXF A677 medium erlotinb dose PKPD data"
   ]
  },
  {
   "cell_type": "code",
   "execution_count": 1,
   "metadata": {},
   "outputs": [
    {
     "output_type": "stream",
     "name": "stdout",
     "text": [
      "Raw PK Data Set for all dosing regimens:\n"
     ]
    },
    {
     "output_type": "execute_result",
     "data": {
      "text/plain": [
       "     #ID  TIME  DOSE ADDL II  Y YTYPE CENS  CELL LINE  DOSE GROUP  DRUG  \\\n",
       "0      6   0.0     .    .  .  .     .    .          1      100.00     1   \n",
       "1      6   2.0     .    .  .  .     .    .          1      100.00     1   \n",
       "2      6   3.0  2450    .  .  .     .    .          1      100.00     1   \n",
       "3      6   4.0     .    .  .  .     .    .          1      100.00     1   \n",
       "4      6   4.0  2350    2  1  .     .    .          1      100.00     1   \n",
       "..   ...   ...   ...  ... .. ..   ...  ...        ...         ...   ...   \n",
       "467  162  21.0     .    .  .  .     .    .          1        6.25     1   \n",
       "468  162  23.0     .    .  .  .     .    .          1        6.25     1   \n",
       "469  162  25.0     .    .  .  .     .    .          1        6.25     1   \n",
       "470  162  28.0     .    .  .  .     .    .          1        6.25     1   \n",
       "471  162  30.0     .    .  .  .     .    .          1        6.25     1   \n",
       "\n",
       "     EXPERIMENT  TUMOR SIZE    BW  \n",
       "0             2     68.7500  24.2  \n",
       "1             2     75.4290  24.7  \n",
       "2             2     75.4290  24.7  \n",
       "3             2    115.3510  23.6  \n",
       "4             2    115.3510  23.6  \n",
       "..          ...         ...   ...  \n",
       "467           2    490.3980  24.2  \n",
       "468           2    425.2700  24.5  \n",
       "469           2    432.6660  24.5  \n",
       "470           2    585.0000  25.3  \n",
       "471           2    651.7665  25.9  \n",
       "\n",
       "[472 rows x 14 columns]"
      ],
      "text/html": "<div>\n<style scoped>\n    .dataframe tbody tr th:only-of-type {\n        vertical-align: middle;\n    }\n\n    .dataframe tbody tr th {\n        vertical-align: top;\n    }\n\n    .dataframe thead th {\n        text-align: right;\n    }\n</style>\n<table border=\"1\" class=\"dataframe\">\n  <thead>\n    <tr style=\"text-align: right;\">\n      <th></th>\n      <th>#ID</th>\n      <th>TIME</th>\n      <th>DOSE</th>\n      <th>ADDL</th>\n      <th>II</th>\n      <th>Y</th>\n      <th>YTYPE</th>\n      <th>CENS</th>\n      <th>CELL LINE</th>\n      <th>DOSE GROUP</th>\n      <th>DRUG</th>\n      <th>EXPERIMENT</th>\n      <th>TUMOR SIZE</th>\n      <th>BW</th>\n    </tr>\n  </thead>\n  <tbody>\n    <tr>\n      <th>0</th>\n      <td>6</td>\n      <td>0.0</td>\n      <td>.</td>\n      <td>.</td>\n      <td>.</td>\n      <td>.</td>\n      <td>.</td>\n      <td>.</td>\n      <td>1</td>\n      <td>100.00</td>\n      <td>1</td>\n      <td>2</td>\n      <td>68.7500</td>\n      <td>24.2</td>\n    </tr>\n    <tr>\n      <th>1</th>\n      <td>6</td>\n      <td>2.0</td>\n      <td>.</td>\n      <td>.</td>\n      <td>.</td>\n      <td>.</td>\n      <td>.</td>\n      <td>.</td>\n      <td>1</td>\n      <td>100.00</td>\n      <td>1</td>\n      <td>2</td>\n      <td>75.4290</td>\n      <td>24.7</td>\n    </tr>\n    <tr>\n      <th>2</th>\n      <td>6</td>\n      <td>3.0</td>\n      <td>2450</td>\n      <td>.</td>\n      <td>.</td>\n      <td>.</td>\n      <td>.</td>\n      <td>.</td>\n      <td>1</td>\n      <td>100.00</td>\n      <td>1</td>\n      <td>2</td>\n      <td>75.4290</td>\n      <td>24.7</td>\n    </tr>\n    <tr>\n      <th>3</th>\n      <td>6</td>\n      <td>4.0</td>\n      <td>.</td>\n      <td>.</td>\n      <td>.</td>\n      <td>.</td>\n      <td>.</td>\n      <td>.</td>\n      <td>1</td>\n      <td>100.00</td>\n      <td>1</td>\n      <td>2</td>\n      <td>115.3510</td>\n      <td>23.6</td>\n    </tr>\n    <tr>\n      <th>4</th>\n      <td>6</td>\n      <td>4.0</td>\n      <td>2350</td>\n      <td>2</td>\n      <td>1</td>\n      <td>.</td>\n      <td>.</td>\n      <td>.</td>\n      <td>1</td>\n      <td>100.00</td>\n      <td>1</td>\n      <td>2</td>\n      <td>115.3510</td>\n      <td>23.6</td>\n    </tr>\n    <tr>\n      <th>...</th>\n      <td>...</td>\n      <td>...</td>\n      <td>...</td>\n      <td>...</td>\n      <td>...</td>\n      <td>...</td>\n      <td>...</td>\n      <td>...</td>\n      <td>...</td>\n      <td>...</td>\n      <td>...</td>\n      <td>...</td>\n      <td>...</td>\n      <td>...</td>\n    </tr>\n    <tr>\n      <th>467</th>\n      <td>162</td>\n      <td>21.0</td>\n      <td>.</td>\n      <td>.</td>\n      <td>.</td>\n      <td>.</td>\n      <td>.</td>\n      <td>.</td>\n      <td>1</td>\n      <td>6.25</td>\n      <td>1</td>\n      <td>2</td>\n      <td>490.3980</td>\n      <td>24.2</td>\n    </tr>\n    <tr>\n      <th>468</th>\n      <td>162</td>\n      <td>23.0</td>\n      <td>.</td>\n      <td>.</td>\n      <td>.</td>\n      <td>.</td>\n      <td>.</td>\n      <td>.</td>\n      <td>1</td>\n      <td>6.25</td>\n      <td>1</td>\n      <td>2</td>\n      <td>425.2700</td>\n      <td>24.5</td>\n    </tr>\n    <tr>\n      <th>469</th>\n      <td>162</td>\n      <td>25.0</td>\n      <td>.</td>\n      <td>.</td>\n      <td>.</td>\n      <td>.</td>\n      <td>.</td>\n      <td>.</td>\n      <td>1</td>\n      <td>6.25</td>\n      <td>1</td>\n      <td>2</td>\n      <td>432.6660</td>\n      <td>24.5</td>\n    </tr>\n    <tr>\n      <th>470</th>\n      <td>162</td>\n      <td>28.0</td>\n      <td>.</td>\n      <td>.</td>\n      <td>.</td>\n      <td>.</td>\n      <td>.</td>\n      <td>.</td>\n      <td>1</td>\n      <td>6.25</td>\n      <td>1</td>\n      <td>2</td>\n      <td>585.0000</td>\n      <td>25.3</td>\n    </tr>\n    <tr>\n      <th>471</th>\n      <td>162</td>\n      <td>30.0</td>\n      <td>.</td>\n      <td>.</td>\n      <td>.</td>\n      <td>.</td>\n      <td>.</td>\n      <td>.</td>\n      <td>1</td>\n      <td>6.25</td>\n      <td>1</td>\n      <td>2</td>\n      <td>651.7665</td>\n      <td>25.9</td>\n    </tr>\n  </tbody>\n</table>\n<p>472 rows × 14 columns</p>\n</div>"
     },
     "metadata": {},
     "execution_count": 1
    }
   ],
   "source": [
    "import os\n",
    "import pandas as pd\n",
    "\n",
    "# Import LXF A677 PK data\n",
    "path = os.path.dirname(os.getcwd())\n",
    "data_raw = pd.read_csv(path + '/data/raw_data/PK_LXF_erlo.csv', sep=';')\n",
    "\n",
    "# Display data\n",
    "print('Raw PK Data Set for all dosing regimens:')\n",
    "data_raw"
   ]
  },
  {
   "cell_type": "markdown",
   "metadata": {},
   "source": [
    "## Cleaning the data\n",
    "\n",
    "The keys of interest for our analysis are\n",
    "\n",
    "- **#ID** indicating which mouse was measured,\n",
    "- **TIME** indicating the time point of each measurement,\n",
    "- **DOSE** indicating the dose amount administered at the time point,\n",
    "- **DURATION** indicating the duration of a single dose administration (bolus injection, duration=0/NaN,),\n",
    "- **PLASMA CONCENTRATION** indicating the concentration of erlotinib in the blood plasma,\n",
    "- **TUMOUR VOLUME** indicating the measured tumour volume,\n",
    "- **BODY WEIGHT** indicating the body weight of the mouse.\n",
    "\n",
    "In discussion with the authors and a comparison with their study report in [1], the relevant columns in the dataset were identified as **#ID**, **TIME**, **DOSE** (**ADDL**, **II**), **Y**, **TUMOR SIZE** and **BW**, where **Y** encodes for the **PLASMA CONCENTRATION**, **TUMOR SIZE** for the **TUMOUR VOLUME**, and **BW** for the **BODY WEIGHT**. The applied dose is encoded by **DOSE** **ADDL**, **II**, where **DOSE** is the administered dose amount at the given time point, **ADDL* the number of additionally applied doses of the same amount, and **II** the time interval separating the doses. The remaining keys are partially Monolix-specific modelling keys, and partially inferred model parameters. We thus ignore those columns.\n",
    "\n",
    "The raw datasets do not contain the units of the measured quantities. From [1] as well as Roche's study report, we may infer that\n",
    "\n",
    "- **TIME**: is measured in $\\text{day}$,\n",
    "- **DOSE**: in $\\text{ng}$,\n",
    "- **PLASMA CONCENTRATION** in $\\text{ng} / \\text{L}$,\n",
    "- **TUMOUR VOLUME**: is measured in $\\text{mm}^3$,\n",
    "- **BODY WEIGHT**: is measured in $\\text{g}$.\n",
    "\n",
    "For reasons that will become clear later, we will choose to measure the dose in $\\text{mg}$, the plasma concentration in $\\text{mg}/\\text{L}$ and the tumour volume in $\\text{cm}^3$.\n",
    "\n",
    "According to the study report, the medium dose group where administered an oral dose of erlotinib of $25\\, \\text{mg}/\\text{kg}/\\text{L}$ per dose. For now we will assume that the doses recorded in the dataset are correct."
   ]
  },
  {
   "cell_type": "markdown",
   "metadata": {},
   "source": [
    "## Filter for medium dose data"
   ]
  },
  {
   "cell_type": "code",
   "execution_count": 2,
   "metadata": {},
   "outputs": [
    {
     "output_type": "execute_result",
     "data": {
      "text/plain": [
       "     #ID  TIME   DOSE  ADDL   II   Y  CENS  TUMOR SIZE    BW\n",
       "109   34   0.0    NaN   NaN  NaN NaN   NaN     165.292  27.7\n",
       "110   34   2.0    NaN   NaN  NaN NaN   NaN     217.328  26.9\n",
       "111   34   3.0  675.0   NaN  NaN NaN   NaN     217.328  26.9\n",
       "112   34   4.0    NaN   NaN  NaN NaN   NaN     292.500  28.0\n",
       "113   34   4.0  700.0   2.0  1.0 NaN   NaN     292.500  28.0\n",
       "..   ...   ...    ...   ...  ...  ..   ...         ...   ...\n",
       "288  167  21.0    NaN   NaN  NaN NaN   NaN    1094.400  28.7\n",
       "289  167  23.0    NaN   NaN  NaN NaN   NaN    1284.400  28.5\n",
       "290  167  25.0    NaN   NaN  NaN NaN   NaN    1428.768  29.2\n",
       "291  167  28.0    NaN   NaN  NaN NaN   NaN    1414.485  29.6\n",
       "292  167  30.0    NaN   NaN  NaN NaN   NaN    2083.401  28.9\n",
       "\n",
       "[184 rows x 9 columns]"
      ],
      "text/html": "<div>\n<style scoped>\n    .dataframe tbody tr th:only-of-type {\n        vertical-align: middle;\n    }\n\n    .dataframe tbody tr th {\n        vertical-align: top;\n    }\n\n    .dataframe thead th {\n        text-align: right;\n    }\n</style>\n<table border=\"1\" class=\"dataframe\">\n  <thead>\n    <tr style=\"text-align: right;\">\n      <th></th>\n      <th>#ID</th>\n      <th>TIME</th>\n      <th>DOSE</th>\n      <th>ADDL</th>\n      <th>II</th>\n      <th>Y</th>\n      <th>CENS</th>\n      <th>TUMOR SIZE</th>\n      <th>BW</th>\n    </tr>\n  </thead>\n  <tbody>\n    <tr>\n      <th>109</th>\n      <td>34</td>\n      <td>0.0</td>\n      <td>NaN</td>\n      <td>NaN</td>\n      <td>NaN</td>\n      <td>NaN</td>\n      <td>NaN</td>\n      <td>165.292</td>\n      <td>27.7</td>\n    </tr>\n    <tr>\n      <th>110</th>\n      <td>34</td>\n      <td>2.0</td>\n      <td>NaN</td>\n      <td>NaN</td>\n      <td>NaN</td>\n      <td>NaN</td>\n      <td>NaN</td>\n      <td>217.328</td>\n      <td>26.9</td>\n    </tr>\n    <tr>\n      <th>111</th>\n      <td>34</td>\n      <td>3.0</td>\n      <td>675.0</td>\n      <td>NaN</td>\n      <td>NaN</td>\n      <td>NaN</td>\n      <td>NaN</td>\n      <td>217.328</td>\n      <td>26.9</td>\n    </tr>\n    <tr>\n      <th>112</th>\n      <td>34</td>\n      <td>4.0</td>\n      <td>NaN</td>\n      <td>NaN</td>\n      <td>NaN</td>\n      <td>NaN</td>\n      <td>NaN</td>\n      <td>292.500</td>\n      <td>28.0</td>\n    </tr>\n    <tr>\n      <th>113</th>\n      <td>34</td>\n      <td>4.0</td>\n      <td>700.0</td>\n      <td>2.0</td>\n      <td>1.0</td>\n      <td>NaN</td>\n      <td>NaN</td>\n      <td>292.500</td>\n      <td>28.0</td>\n    </tr>\n    <tr>\n      <th>...</th>\n      <td>...</td>\n      <td>...</td>\n      <td>...</td>\n      <td>...</td>\n      <td>...</td>\n      <td>...</td>\n      <td>...</td>\n      <td>...</td>\n      <td>...</td>\n    </tr>\n    <tr>\n      <th>288</th>\n      <td>167</td>\n      <td>21.0</td>\n      <td>NaN</td>\n      <td>NaN</td>\n      <td>NaN</td>\n      <td>NaN</td>\n      <td>NaN</td>\n      <td>1094.400</td>\n      <td>28.7</td>\n    </tr>\n    <tr>\n      <th>289</th>\n      <td>167</td>\n      <td>23.0</td>\n      <td>NaN</td>\n      <td>NaN</td>\n      <td>NaN</td>\n      <td>NaN</td>\n      <td>NaN</td>\n      <td>1284.400</td>\n      <td>28.5</td>\n    </tr>\n    <tr>\n      <th>290</th>\n      <td>167</td>\n      <td>25.0</td>\n      <td>NaN</td>\n      <td>NaN</td>\n      <td>NaN</td>\n      <td>NaN</td>\n      <td>NaN</td>\n      <td>1428.768</td>\n      <td>29.2</td>\n    </tr>\n    <tr>\n      <th>291</th>\n      <td>167</td>\n      <td>28.0</td>\n      <td>NaN</td>\n      <td>NaN</td>\n      <td>NaN</td>\n      <td>NaN</td>\n      <td>NaN</td>\n      <td>1414.485</td>\n      <td>29.6</td>\n    </tr>\n    <tr>\n      <th>292</th>\n      <td>167</td>\n      <td>30.0</td>\n      <td>NaN</td>\n      <td>NaN</td>\n      <td>NaN</td>\n      <td>NaN</td>\n      <td>NaN</td>\n      <td>2083.401</td>\n      <td>28.9</td>\n    </tr>\n  </tbody>\n</table>\n<p>184 rows × 9 columns</p>\n</div>"
     },
     "metadata": {},
     "execution_count": 2
    }
   ],
   "source": [
    "import numpy as np\n",
    "\n",
    "# Filter medium dose data\n",
    "data = data_raw.apply(pd.to_numeric, errors='coerce')\n",
    "data = data[data['DOSE GROUP'] == 25.0]\n",
    "\n",
    "# Forget columns that carry no relevant info\n",
    "assert len(data['CELL LINE'].unique()) == 1\n",
    "assert len(data['DOSE GROUP'].unique()) == 1\n",
    "assert len(data['EXPERIMENT'].unique()) == 1\n",
    "assert len(data['DRUG'].unique()) == 1\n",
    "assert len(data['YTYPE'].unique()) == 2\n",
    "assert np.isnan(data['YTYPE'].unique()[0])\n",
    "assert data['YTYPE'].unique()[1] == 1\n",
    " \n",
    "data = data[['#ID', 'TIME', 'DOSE', 'ADDL', 'II', 'Y', 'CENS', 'TUMOR SIZE', 'BW']]\n",
    "\n",
    "data"
   ]
  },
  {
   "cell_type": "markdown",
   "metadata": {},
   "source": [
    "## Save all dose events as separate rows"
   ]
  },
  {
   "cell_type": "code",
   "execution_count": 3,
   "metadata": {},
   "outputs": [
    {
     "output_type": "execute_result",
     "data": {
      "text/plain": [
       "     #ID  TIME   DOSE   Y  CENS  TUMOR SIZE    BW\n",
       "109   34   0.0    NaN NaN   NaN    165.2920  27.7\n",
       "110   34   2.0    NaN NaN   NaN    217.3280  26.9\n",
       "112   34   4.0  700.0 NaN   NaN    292.5000  28.0\n",
       "114   34   7.0  700.0 NaN   NaN    389.2285  27.7\n",
       "116   34   9.0  700.0 NaN   NaN    396.1175  27.9\n",
       "..   ...   ...    ...  ..   ...         ...   ...\n",
       "0    167   8.0  700.0 NaN   NaN         NaN   NaN\n",
       "0    167  10.0  700.0 NaN   NaN         NaN   NaN\n",
       "0    167  12.0  675.0 NaN   NaN         NaN   NaN\n",
       "0    167  13.0  675.0 NaN   NaN         NaN   NaN\n",
       "0    167  15.0  675.0 NaN   NaN         NaN   NaN\n",
       "\n",
       "[192 rows x 7 columns]"
      ],
      "text/html": "<div>\n<style scoped>\n    .dataframe tbody tr th:only-of-type {\n        vertical-align: middle;\n    }\n\n    .dataframe tbody tr th {\n        vertical-align: top;\n    }\n\n    .dataframe thead th {\n        text-align: right;\n    }\n</style>\n<table border=\"1\" class=\"dataframe\">\n  <thead>\n    <tr style=\"text-align: right;\">\n      <th></th>\n      <th>#ID</th>\n      <th>TIME</th>\n      <th>DOSE</th>\n      <th>Y</th>\n      <th>CENS</th>\n      <th>TUMOR SIZE</th>\n      <th>BW</th>\n    </tr>\n  </thead>\n  <tbody>\n    <tr>\n      <th>109</th>\n      <td>34</td>\n      <td>0.0</td>\n      <td>NaN</td>\n      <td>NaN</td>\n      <td>NaN</td>\n      <td>165.2920</td>\n      <td>27.7</td>\n    </tr>\n    <tr>\n      <th>110</th>\n      <td>34</td>\n      <td>2.0</td>\n      <td>NaN</td>\n      <td>NaN</td>\n      <td>NaN</td>\n      <td>217.3280</td>\n      <td>26.9</td>\n    </tr>\n    <tr>\n      <th>112</th>\n      <td>34</td>\n      <td>4.0</td>\n      <td>700.0</td>\n      <td>NaN</td>\n      <td>NaN</td>\n      <td>292.5000</td>\n      <td>28.0</td>\n    </tr>\n    <tr>\n      <th>114</th>\n      <td>34</td>\n      <td>7.0</td>\n      <td>700.0</td>\n      <td>NaN</td>\n      <td>NaN</td>\n      <td>389.2285</td>\n      <td>27.7</td>\n    </tr>\n    <tr>\n      <th>116</th>\n      <td>34</td>\n      <td>9.0</td>\n      <td>700.0</td>\n      <td>NaN</td>\n      <td>NaN</td>\n      <td>396.1175</td>\n      <td>27.9</td>\n    </tr>\n    <tr>\n      <th>...</th>\n      <td>...</td>\n      <td>...</td>\n      <td>...</td>\n      <td>...</td>\n      <td>...</td>\n      <td>...</td>\n      <td>...</td>\n    </tr>\n    <tr>\n      <th>0</th>\n      <td>167</td>\n      <td>8.0</td>\n      <td>700.0</td>\n      <td>NaN</td>\n      <td>NaN</td>\n      <td>NaN</td>\n      <td>NaN</td>\n    </tr>\n    <tr>\n      <th>0</th>\n      <td>167</td>\n      <td>10.0</td>\n      <td>700.0</td>\n      <td>NaN</td>\n      <td>NaN</td>\n      <td>NaN</td>\n      <td>NaN</td>\n    </tr>\n    <tr>\n      <th>0</th>\n      <td>167</td>\n      <td>12.0</td>\n      <td>675.0</td>\n      <td>NaN</td>\n      <td>NaN</td>\n      <td>NaN</td>\n      <td>NaN</td>\n    </tr>\n    <tr>\n      <th>0</th>\n      <td>167</td>\n      <td>13.0</td>\n      <td>675.0</td>\n      <td>NaN</td>\n      <td>NaN</td>\n      <td>NaN</td>\n      <td>NaN</td>\n    </tr>\n    <tr>\n      <th>0</th>\n      <td>167</td>\n      <td>15.0</td>\n      <td>675.0</td>\n      <td>NaN</td>\n      <td>NaN</td>\n      <td>NaN</td>\n      <td>NaN</td>\n    </tr>\n  </tbody>\n</table>\n<p>192 rows × 7 columns</p>\n</div>"
     },
     "metadata": {},
     "execution_count": 3
    }
   ],
   "source": [
    "# Split data into rows with dose info and rows withour dose info\n",
    "dose_mask = pd.notnull(data['DOSE'])\n",
    "doses = data[dose_mask]\n",
    "data = data[~dose_mask]\n",
    "\n",
    "# Add all dose events as rows to data\n",
    "for _, row in doses.iterrows():\n",
    "    # Get id, time, dose amount, multiplicity, interval\n",
    "    index = row['#ID']\n",
    "    time = row['TIME']\n",
    "    dose = row['DOSE']\n",
    "    number = row['ADDL']\n",
    "    interval = row['II']\n",
    "\n",
    "    if np.isnan(number):\n",
    "        number = 1\n",
    "        interval = 0\n",
    "    else:\n",
    "        number = int(number + 1)\n",
    "\n",
    "    # Add dose entry to data\n",
    "    for n in range(number):\n",
    "        # Compute dose time (first iteration is at original time)\n",
    "        new_time = time + n * interval\n",
    "\n",
    "        # Create an id and a time mask\n",
    "        mask_id = data['#ID'] == index\n",
    "        mask_time = data['TIME'] == new_time\n",
    "\n",
    "        if data[mask_id & mask_time].empty:\n",
    "            # This means there is no row entry for the indiviudal at that time point.\n",
    "            data = data.append(pd.DataFrame({\n",
    "                '#ID': [index],\n",
    "                'TIME': [new_time],\n",
    "                'DOSE': [dose]}))\n",
    "        else:\n",
    "            # This means the individual was measured at that time point\n",
    "            if data[mask_id & mask_time]['DOSE'].dropna().empty:\n",
    "                data['DOSE'].where(~(mask_id & mask_time), other=dose, inplace=True)\n",
    "            else:\n",
    "                try:\n",
    "                    assert (data[mask_id & mask_time]['DOSE'] == dose).all()\n",
    "                except AssertionError:\n",
    "                    print(data[mask_id & mask_time]['DOSE'])\n",
    "                    print(dose)\n",
    "\n",
    "# Remove the now unnecessary ADDL and II colum\n",
    "data = data[['#ID', 'TIME', 'DOSE', 'Y', 'CENS', 'TUMOR SIZE', 'BW']]\n",
    "\n",
    "# Let IDs be integers\n",
    "data['#ID'] = data['#ID'].astype(int)\n",
    "\n",
    "data"
   ]
  },
  {
   "cell_type": "markdown",
   "metadata": {},
   "source": [
    "## Remove Tumor size and BW entries for concentration measurement rows. \n",
    "\n",
    "According to report those values where not measured together with the concentration. (not 100% sure about the body weight)"
   ]
  },
  {
   "cell_type": "code",
   "execution_count": 4,
   "metadata": {},
   "outputs": [
    {
     "output_type": "execute_result",
     "data": {
      "text/plain": [
       "     #ID  TIME   DOSE   Y  CENS  TUMOR SIZE    BW\n",
       "109   34   0.0    NaN NaN   NaN    165.2920  27.7\n",
       "110   34   2.0    NaN NaN   NaN    217.3280  26.9\n",
       "112   34   4.0  700.0 NaN   NaN    292.5000  28.0\n",
       "114   34   7.0  700.0 NaN   NaN    389.2285  27.7\n",
       "116   34   9.0  700.0 NaN   NaN    396.1175  27.9\n",
       "..   ...   ...    ...  ..   ...         ...   ...\n",
       "0    167   8.0  700.0 NaN   NaN         NaN   NaN\n",
       "0    167  10.0  700.0 NaN   NaN         NaN   NaN\n",
       "0    167  12.0  675.0 NaN   NaN         NaN   NaN\n",
       "0    167  13.0  675.0 NaN   NaN         NaN   NaN\n",
       "0    167  15.0  675.0 NaN   NaN         NaN   NaN\n",
       "\n",
       "[192 rows x 7 columns]"
      ],
      "text/html": "<div>\n<style scoped>\n    .dataframe tbody tr th:only-of-type {\n        vertical-align: middle;\n    }\n\n    .dataframe tbody tr th {\n        vertical-align: top;\n    }\n\n    .dataframe thead th {\n        text-align: right;\n    }\n</style>\n<table border=\"1\" class=\"dataframe\">\n  <thead>\n    <tr style=\"text-align: right;\">\n      <th></th>\n      <th>#ID</th>\n      <th>TIME</th>\n      <th>DOSE</th>\n      <th>Y</th>\n      <th>CENS</th>\n      <th>TUMOR SIZE</th>\n      <th>BW</th>\n    </tr>\n  </thead>\n  <tbody>\n    <tr>\n      <th>109</th>\n      <td>34</td>\n      <td>0.0</td>\n      <td>NaN</td>\n      <td>NaN</td>\n      <td>NaN</td>\n      <td>165.2920</td>\n      <td>27.7</td>\n    </tr>\n    <tr>\n      <th>110</th>\n      <td>34</td>\n      <td>2.0</td>\n      <td>NaN</td>\n      <td>NaN</td>\n      <td>NaN</td>\n      <td>217.3280</td>\n      <td>26.9</td>\n    </tr>\n    <tr>\n      <th>112</th>\n      <td>34</td>\n      <td>4.0</td>\n      <td>700.0</td>\n      <td>NaN</td>\n      <td>NaN</td>\n      <td>292.5000</td>\n      <td>28.0</td>\n    </tr>\n    <tr>\n      <th>114</th>\n      <td>34</td>\n      <td>7.0</td>\n      <td>700.0</td>\n      <td>NaN</td>\n      <td>NaN</td>\n      <td>389.2285</td>\n      <td>27.7</td>\n    </tr>\n    <tr>\n      <th>116</th>\n      <td>34</td>\n      <td>9.0</td>\n      <td>700.0</td>\n      <td>NaN</td>\n      <td>NaN</td>\n      <td>396.1175</td>\n      <td>27.9</td>\n    </tr>\n    <tr>\n      <th>...</th>\n      <td>...</td>\n      <td>...</td>\n      <td>...</td>\n      <td>...</td>\n      <td>...</td>\n      <td>...</td>\n      <td>...</td>\n    </tr>\n    <tr>\n      <th>0</th>\n      <td>167</td>\n      <td>8.0</td>\n      <td>700.0</td>\n      <td>NaN</td>\n      <td>NaN</td>\n      <td>NaN</td>\n      <td>NaN</td>\n    </tr>\n    <tr>\n      <th>0</th>\n      <td>167</td>\n      <td>10.0</td>\n      <td>700.0</td>\n      <td>NaN</td>\n      <td>NaN</td>\n      <td>NaN</td>\n      <td>NaN</td>\n    </tr>\n    <tr>\n      <th>0</th>\n      <td>167</td>\n      <td>12.0</td>\n      <td>675.0</td>\n      <td>NaN</td>\n      <td>NaN</td>\n      <td>NaN</td>\n      <td>NaN</td>\n    </tr>\n    <tr>\n      <th>0</th>\n      <td>167</td>\n      <td>13.0</td>\n      <td>675.0</td>\n      <td>NaN</td>\n      <td>NaN</td>\n      <td>NaN</td>\n      <td>NaN</td>\n    </tr>\n    <tr>\n      <th>0</th>\n      <td>167</td>\n      <td>15.0</td>\n      <td>675.0</td>\n      <td>NaN</td>\n      <td>NaN</td>\n      <td>NaN</td>\n      <td>NaN</td>\n    </tr>\n  </tbody>\n</table>\n<p>192 rows × 7 columns</p>\n</div>"
     },
     "metadata": {},
     "execution_count": 4
    }
   ],
   "source": [
    "mask = data['Y'].isnull()\n",
    "data['TUMOR SIZE'].where(mask, inplace=True)\n",
    "data['BW'].where(mask, inplace=True)\n",
    "\n",
    "data"
   ]
  },
  {
   "cell_type": "markdown",
   "metadata": {},
   "source": [
    "## Remove censored data for now (can always insert it back once we support it in our inference)"
   ]
  },
  {
   "cell_type": "code",
   "execution_count": 5,
   "metadata": {},
   "outputs": [
    {
     "output_type": "execute_result",
     "data": {
      "text/plain": [
       "     #ID  TIME   DOSE   Y  TUMOR SIZE    BW\n",
       "109   34   0.0    NaN NaN    165.2920  27.7\n",
       "110   34   2.0    NaN NaN    217.3280  26.9\n",
       "112   34   4.0  700.0 NaN    292.5000  28.0\n",
       "114   34   7.0  700.0 NaN    389.2285  27.7\n",
       "116   34   9.0  700.0 NaN    396.1175  27.9\n",
       "..   ...   ...    ...  ..         ...   ...\n",
       "0    167   8.0  700.0 NaN         NaN   NaN\n",
       "0    167  10.0  700.0 NaN         NaN   NaN\n",
       "0    167  12.0  675.0 NaN         NaN   NaN\n",
       "0    167  13.0  675.0 NaN         NaN   NaN\n",
       "0    167  15.0  675.0 NaN         NaN   NaN\n",
       "\n",
       "[192 rows x 6 columns]"
      ],
      "text/html": "<div>\n<style scoped>\n    .dataframe tbody tr th:only-of-type {\n        vertical-align: middle;\n    }\n\n    .dataframe tbody tr th {\n        vertical-align: top;\n    }\n\n    .dataframe thead th {\n        text-align: right;\n    }\n</style>\n<table border=\"1\" class=\"dataframe\">\n  <thead>\n    <tr style=\"text-align: right;\">\n      <th></th>\n      <th>#ID</th>\n      <th>TIME</th>\n      <th>DOSE</th>\n      <th>Y</th>\n      <th>TUMOR SIZE</th>\n      <th>BW</th>\n    </tr>\n  </thead>\n  <tbody>\n    <tr>\n      <th>109</th>\n      <td>34</td>\n      <td>0.0</td>\n      <td>NaN</td>\n      <td>NaN</td>\n      <td>165.2920</td>\n      <td>27.7</td>\n    </tr>\n    <tr>\n      <th>110</th>\n      <td>34</td>\n      <td>2.0</td>\n      <td>NaN</td>\n      <td>NaN</td>\n      <td>217.3280</td>\n      <td>26.9</td>\n    </tr>\n    <tr>\n      <th>112</th>\n      <td>34</td>\n      <td>4.0</td>\n      <td>700.0</td>\n      <td>NaN</td>\n      <td>292.5000</td>\n      <td>28.0</td>\n    </tr>\n    <tr>\n      <th>114</th>\n      <td>34</td>\n      <td>7.0</td>\n      <td>700.0</td>\n      <td>NaN</td>\n      <td>389.2285</td>\n      <td>27.7</td>\n    </tr>\n    <tr>\n      <th>116</th>\n      <td>34</td>\n      <td>9.0</td>\n      <td>700.0</td>\n      <td>NaN</td>\n      <td>396.1175</td>\n      <td>27.9</td>\n    </tr>\n    <tr>\n      <th>...</th>\n      <td>...</td>\n      <td>...</td>\n      <td>...</td>\n      <td>...</td>\n      <td>...</td>\n      <td>...</td>\n    </tr>\n    <tr>\n      <th>0</th>\n      <td>167</td>\n      <td>8.0</td>\n      <td>700.0</td>\n      <td>NaN</td>\n      <td>NaN</td>\n      <td>NaN</td>\n    </tr>\n    <tr>\n      <th>0</th>\n      <td>167</td>\n      <td>10.0</td>\n      <td>700.0</td>\n      <td>NaN</td>\n      <td>NaN</td>\n      <td>NaN</td>\n    </tr>\n    <tr>\n      <th>0</th>\n      <td>167</td>\n      <td>12.0</td>\n      <td>675.0</td>\n      <td>NaN</td>\n      <td>NaN</td>\n      <td>NaN</td>\n    </tr>\n    <tr>\n      <th>0</th>\n      <td>167</td>\n      <td>13.0</td>\n      <td>675.0</td>\n      <td>NaN</td>\n      <td>NaN</td>\n      <td>NaN</td>\n    </tr>\n    <tr>\n      <th>0</th>\n      <td>167</td>\n      <td>15.0</td>\n      <td>675.0</td>\n      <td>NaN</td>\n      <td>NaN</td>\n      <td>NaN</td>\n    </tr>\n  </tbody>\n</table>\n<p>192 rows × 6 columns</p>\n</div>"
     },
     "metadata": {},
     "execution_count": 5
    }
   ],
   "source": [
    "# Mask where CENS is NaN\n",
    "mask = data['CENS'].isnull()\n",
    "\n",
    "# Set censored concentration measurements to nan\n",
    "data['Y'].where(mask, inplace=True)\n",
    "\n",
    "# Remove the now unnecessary CENS colum\n",
    "data = data[['#ID', 'TIME', 'DOSE', 'Y', 'TUMOR SIZE', 'BW']]\n",
    "\n",
    "data"
   ]
  },
  {
   "cell_type": "markdown",
   "metadata": {},
   "source": [
    "## Rename columns and transform units"
   ]
  },
  {
   "cell_type": "code",
   "execution_count": 6,
   "metadata": {},
   "outputs": [
    {
     "output_type": "execute_result",
     "data": {
      "text/plain": [
       "      ID  TIME in day  DOSE in mg  PLASMA CONCENTRATION in ng/mL  \\\n",
       "109   34          0.0         NaN                            NaN   \n",
       "110   34          2.0         NaN                            NaN   \n",
       "112   34          4.0       0.700                            NaN   \n",
       "114   34          7.0       0.700                            NaN   \n",
       "116   34          9.0       0.700                            NaN   \n",
       "..   ...          ...         ...                            ...   \n",
       "0    167          8.0       0.700                            NaN   \n",
       "0    167         10.0       0.700                            NaN   \n",
       "0    167         12.0       0.675                            NaN   \n",
       "0    167         13.0       0.675                            NaN   \n",
       "0    167         15.0       0.675                            NaN   \n",
       "\n",
       "     TUMOUR VOLUME in cm^3  BODY WEIGHT in g  \n",
       "109               0.165292              27.7  \n",
       "110               0.217328              26.9  \n",
       "112               0.292500              28.0  \n",
       "114               0.389228              27.7  \n",
       "116               0.396118              27.9  \n",
       "..                     ...               ...  \n",
       "0                      NaN               NaN  \n",
       "0                      NaN               NaN  \n",
       "0                      NaN               NaN  \n",
       "0                      NaN               NaN  \n",
       "0                      NaN               NaN  \n",
       "\n",
       "[192 rows x 6 columns]"
      ],
      "text/html": "<div>\n<style scoped>\n    .dataframe tbody tr th:only-of-type {\n        vertical-align: middle;\n    }\n\n    .dataframe tbody tr th {\n        vertical-align: top;\n    }\n\n    .dataframe thead th {\n        text-align: right;\n    }\n</style>\n<table border=\"1\" class=\"dataframe\">\n  <thead>\n    <tr style=\"text-align: right;\">\n      <th></th>\n      <th>ID</th>\n      <th>TIME in day</th>\n      <th>DOSE in mg</th>\n      <th>PLASMA CONCENTRATION in ng/mL</th>\n      <th>TUMOUR VOLUME in cm^3</th>\n      <th>BODY WEIGHT in g</th>\n    </tr>\n  </thead>\n  <tbody>\n    <tr>\n      <th>109</th>\n      <td>34</td>\n      <td>0.0</td>\n      <td>NaN</td>\n      <td>NaN</td>\n      <td>0.165292</td>\n      <td>27.7</td>\n    </tr>\n    <tr>\n      <th>110</th>\n      <td>34</td>\n      <td>2.0</td>\n      <td>NaN</td>\n      <td>NaN</td>\n      <td>0.217328</td>\n      <td>26.9</td>\n    </tr>\n    <tr>\n      <th>112</th>\n      <td>34</td>\n      <td>4.0</td>\n      <td>0.700</td>\n      <td>NaN</td>\n      <td>0.292500</td>\n      <td>28.0</td>\n    </tr>\n    <tr>\n      <th>114</th>\n      <td>34</td>\n      <td>7.0</td>\n      <td>0.700</td>\n      <td>NaN</td>\n      <td>0.389228</td>\n      <td>27.7</td>\n    </tr>\n    <tr>\n      <th>116</th>\n      <td>34</td>\n      <td>9.0</td>\n      <td>0.700</td>\n      <td>NaN</td>\n      <td>0.396118</td>\n      <td>27.9</td>\n    </tr>\n    <tr>\n      <th>...</th>\n      <td>...</td>\n      <td>...</td>\n      <td>...</td>\n      <td>...</td>\n      <td>...</td>\n      <td>...</td>\n    </tr>\n    <tr>\n      <th>0</th>\n      <td>167</td>\n      <td>8.0</td>\n      <td>0.700</td>\n      <td>NaN</td>\n      <td>NaN</td>\n      <td>NaN</td>\n    </tr>\n    <tr>\n      <th>0</th>\n      <td>167</td>\n      <td>10.0</td>\n      <td>0.700</td>\n      <td>NaN</td>\n      <td>NaN</td>\n      <td>NaN</td>\n    </tr>\n    <tr>\n      <th>0</th>\n      <td>167</td>\n      <td>12.0</td>\n      <td>0.675</td>\n      <td>NaN</td>\n      <td>NaN</td>\n      <td>NaN</td>\n    </tr>\n    <tr>\n      <th>0</th>\n      <td>167</td>\n      <td>13.0</td>\n      <td>0.675</td>\n      <td>NaN</td>\n      <td>NaN</td>\n      <td>NaN</td>\n    </tr>\n    <tr>\n      <th>0</th>\n      <td>167</td>\n      <td>15.0</td>\n      <td>0.675</td>\n      <td>NaN</td>\n      <td>NaN</td>\n      <td>NaN</td>\n    </tr>\n  </tbody>\n</table>\n<p>192 rows × 6 columns</p>\n</div>"
     },
     "metadata": {},
     "execution_count": 6
    }
   ],
   "source": [
    "# Rename TIME, DOSE, PLASMA CONCENTRATION, TUMOUR VOLUME and BODY WEIGHT with units as they are\n",
    "data = data.rename(columns={\n",
    "    '#ID': 'ID',\n",
    "    'TIME': 'TIME in day',\n",
    "    'DOSE': 'DOSE in ng',\n",
    "    'Y': 'PLASMA CONCENTRATION in ng/L',\n",
    "    'TUMOR SIZE': 'TUMOUR VOLUME in mm^3',\n",
    "    'BW': 'BODY WEIGHT in g'})\n",
    "\n",
    "# Convert units\n",
    "data['DOSE in ng'] *= 1E-03\n",
    "data = data.rename(columns={'DOSE in ng': 'DOSE in mg'})\n",
    "\n",
    "data['PLASMA CONCENTRATION in ng/L'] *= 1E-03\n",
    "data = data.rename(columns={'PLASMA CONCENTRATION in ng/L': 'PLASMA CONCENTRATION in ng/mL'})\n",
    "\n",
    "data['TUMOUR VOLUME in mm^3'] *= 1E-03\n",
    "data = data.rename(columns={'TUMOUR VOLUME in mm^3': 'TUMOUR VOLUME in cm^3'})\n",
    "\n",
    "data"
   ]
  },
  {
   "source": [
    "## Format dataset into better generalisable form\n",
    "\n",
    "ID | Time | Time unit | Biomarker | Measurement | Biomarker unit | Dose | Dose unit | Duration"
   ],
   "cell_type": "markdown",
   "metadata": {}
  },
  {
   "cell_type": "code",
   "execution_count": 7,
   "metadata": {},
   "outputs": [
    {
     "output_type": "execute_result",
     "data": {
      "text/plain": [
       "      ID  Time Time unit      Biomarker  Measurement Biomarker unit   Dose  \\\n",
       "109   34   0.0         d  Tumour volume     0.165292           cm^3    NaN   \n",
       "110   34   2.0         d  Tumour volume     0.217328           cm^3    NaN   \n",
       "112   34   4.0         d  Tumour volume     0.292500           cm^3    NaN   \n",
       "114   34   7.0         d  Tumour volume     0.389228           cm^3    NaN   \n",
       "116   34   9.0         d  Tumour volume     0.396118           cm^3    NaN   \n",
       "..   ...   ...       ...            ...          ...            ...    ...   \n",
       "0    167   8.0         d            NaN          NaN            NaN  0.700   \n",
       "0    167  10.0         d            NaN          NaN            NaN  0.700   \n",
       "0    167  12.0         d            NaN          NaN            NaN  0.675   \n",
       "0    167  13.0         d            NaN          NaN            NaN  0.675   \n",
       "0    167  15.0         d            NaN          NaN            NaN  0.675   \n",
       "\n",
       "    Dose unit  Duration  \n",
       "109       NaN       NaN  \n",
       "110       NaN       NaN  \n",
       "112       NaN       NaN  \n",
       "114       NaN       NaN  \n",
       "116       NaN       NaN  \n",
       "..        ...       ...  \n",
       "0          mg       NaN  \n",
       "0          mg       NaN  \n",
       "0          mg       NaN  \n",
       "0          mg       NaN  \n",
       "0          mg       NaN  \n",
       "\n",
       "[688 rows x 9 columns]"
      ],
      "text/html": "<div>\n<style scoped>\n    .dataframe tbody tr th:only-of-type {\n        vertical-align: middle;\n    }\n\n    .dataframe tbody tr th {\n        vertical-align: top;\n    }\n\n    .dataframe thead th {\n        text-align: right;\n    }\n</style>\n<table border=\"1\" class=\"dataframe\">\n  <thead>\n    <tr style=\"text-align: right;\">\n      <th></th>\n      <th>ID</th>\n      <th>Time</th>\n      <th>Time unit</th>\n      <th>Biomarker</th>\n      <th>Measurement</th>\n      <th>Biomarker unit</th>\n      <th>Dose</th>\n      <th>Dose unit</th>\n      <th>Duration</th>\n    </tr>\n  </thead>\n  <tbody>\n    <tr>\n      <th>109</th>\n      <td>34</td>\n      <td>0.0</td>\n      <td>d</td>\n      <td>Tumour volume</td>\n      <td>0.165292</td>\n      <td>cm^3</td>\n      <td>NaN</td>\n      <td>NaN</td>\n      <td>NaN</td>\n    </tr>\n    <tr>\n      <th>110</th>\n      <td>34</td>\n      <td>2.0</td>\n      <td>d</td>\n      <td>Tumour volume</td>\n      <td>0.217328</td>\n      <td>cm^3</td>\n      <td>NaN</td>\n      <td>NaN</td>\n      <td>NaN</td>\n    </tr>\n    <tr>\n      <th>112</th>\n      <td>34</td>\n      <td>4.0</td>\n      <td>d</td>\n      <td>Tumour volume</td>\n      <td>0.292500</td>\n      <td>cm^3</td>\n      <td>NaN</td>\n      <td>NaN</td>\n      <td>NaN</td>\n    </tr>\n    <tr>\n      <th>114</th>\n      <td>34</td>\n      <td>7.0</td>\n      <td>d</td>\n      <td>Tumour volume</td>\n      <td>0.389228</td>\n      <td>cm^3</td>\n      <td>NaN</td>\n      <td>NaN</td>\n      <td>NaN</td>\n    </tr>\n    <tr>\n      <th>116</th>\n      <td>34</td>\n      <td>9.0</td>\n      <td>d</td>\n      <td>Tumour volume</td>\n      <td>0.396118</td>\n      <td>cm^3</td>\n      <td>NaN</td>\n      <td>NaN</td>\n      <td>NaN</td>\n    </tr>\n    <tr>\n      <th>...</th>\n      <td>...</td>\n      <td>...</td>\n      <td>...</td>\n      <td>...</td>\n      <td>...</td>\n      <td>...</td>\n      <td>...</td>\n      <td>...</td>\n      <td>...</td>\n    </tr>\n    <tr>\n      <th>0</th>\n      <td>167</td>\n      <td>8.0</td>\n      <td>d</td>\n      <td>NaN</td>\n      <td>NaN</td>\n      <td>NaN</td>\n      <td>0.700</td>\n      <td>mg</td>\n      <td>NaN</td>\n    </tr>\n    <tr>\n      <th>0</th>\n      <td>167</td>\n      <td>10.0</td>\n      <td>d</td>\n      <td>NaN</td>\n      <td>NaN</td>\n      <td>NaN</td>\n      <td>0.700</td>\n      <td>mg</td>\n      <td>NaN</td>\n    </tr>\n    <tr>\n      <th>0</th>\n      <td>167</td>\n      <td>12.0</td>\n      <td>d</td>\n      <td>NaN</td>\n      <td>NaN</td>\n      <td>NaN</td>\n      <td>0.675</td>\n      <td>mg</td>\n      <td>NaN</td>\n    </tr>\n    <tr>\n      <th>0</th>\n      <td>167</td>\n      <td>13.0</td>\n      <td>d</td>\n      <td>NaN</td>\n      <td>NaN</td>\n      <td>NaN</td>\n      <td>0.675</td>\n      <td>mg</td>\n      <td>NaN</td>\n    </tr>\n    <tr>\n      <th>0</th>\n      <td>167</td>\n      <td>15.0</td>\n      <td>d</td>\n      <td>NaN</td>\n      <td>NaN</td>\n      <td>NaN</td>\n      <td>0.675</td>\n      <td>mg</td>\n      <td>NaN</td>\n    </tr>\n  </tbody>\n</table>\n<p>688 rows × 9 columns</p>\n</div>"
     },
     "metadata": {},
     "execution_count": 7
    }
   ],
   "source": [
    "# Split tumour volume and body weight measurements\n",
    "tumour_volume_measurements = data[['ID', 'TIME in day', 'TUMOUR VOLUME in cm^3']]\n",
    "body_weight_measurements = data[['ID', 'TIME in day', 'BODY WEIGHT in g']]\n",
    "concentration_measurements = data[['ID', 'TIME in day', 'PLASMA CONCENTRATION in ng/mL']]\n",
    "doses = data[['ID', 'TIME in day', 'DOSE in mg']]\n",
    "\n",
    "# Rename column names\n",
    "tumour_volume_measurements = tumour_volume_measurements.rename(columns={'TIME in day': 'Time'})\n",
    "tumour_volume_measurements = tumour_volume_measurements.rename(columns={'TUMOUR VOLUME in cm^3': 'Measurement'})\n",
    "body_weight_measurements = body_weight_measurements.rename(columns={'TIME in day': 'Time'})\n",
    "body_weight_measurements = body_weight_measurements.rename(columns={'BODY WEIGHT in g': 'Measurement'})\n",
    "concentration_measurements = concentration_measurements.rename(columns={'TIME in day': 'Time'})\n",
    "concentration_measurements = concentration_measurements.rename(columns={'PLASMA CONCENTRATION in ng/mL': 'Measurement'})\n",
    "doses = doses.rename(columns={'TIME in day': 'Time'})\n",
    "doses = doses.rename(columns={'DOSE in mg': 'Dose'})\n",
    "\n",
    "# Add columns\n",
    "tumour_volume_measurements['Time unit'] = 'd'\n",
    "tumour_volume_measurements['Biomarker'] = 'Tumour volume'\n",
    "tumour_volume_measurements['Biomarker unit'] = 'cm^3'\n",
    "body_weight_measurements['Time unit'] = 'd'\n",
    "body_weight_measurements['Biomarker'] = 'Body weight'\n",
    "body_weight_measurements['Biomarker unit'] = 'g'\n",
    "concentration_measurements['Time unit'] = 'd'\n",
    "concentration_measurements['Biomarker'] = 'Plasma concentration'\n",
    "concentration_measurements['Biomarker unit'] = 'ng/mL'\n",
    "doses['Time unit'] = 'd'\n",
    "doses['Dose unit'] = 'mg'\n",
    "doses['Duration'] = np.nan\n",
    "\n",
    "# Filter NaNs\n",
    "mask = tumour_volume_measurements['Biomarker'].notnull()\n",
    "tumour_volume_measurements = tumour_volume_measurements[mask]\n",
    "mask = body_weight_measurements['Biomarker'].notnull()\n",
    "body_weight_measurements = body_weight_measurements[mask]\n",
    "mask = concentration_measurements['Biomarker'].notnull()\n",
    "concentration_measurements = concentration_measurements[mask]\n",
    "mask = doses['Dose'].notnull()\n",
    "doses = doses[mask]\n",
    "\n",
    "# Merge to final dataset\n",
    "data = tumour_volume_measurements.append(body_weight_measurements)\n",
    "data = data.append(concentration_measurements)\n",
    "data = data.append(doses)\n",
    "\n",
    "# Sort columns (for aestetic reasons)\n",
    "data = data[['ID', 'Time', 'Time unit', 'Biomarker', 'Measurement', 'Biomarker unit', 'Dose', 'Dose unit', 'Duration']]\n",
    "data"
   ]
  },
  {
   "cell_type": "markdown",
   "metadata": {},
   "source": [
    "## Illustrate medium erlotinib dose group data"
   ]
  },
  {
   "cell_type": "code",
   "execution_count": 8,
   "metadata": {},
   "outputs": [
    {
     "output_type": "display_data",
     "data": {
      "application/vnd.plotly.v1+json": {
       "config": {
        "plotlyServerURL": "https://plot.ly"
       },
       "data": [
        {
         "hoverinfo": "text",
         "legendgroup": "ID: 34",
         "marker": {
          "color": "#636EFA",
          "line": {
           "color": "black",
           "width": 1
          },
          "opacity": 0.7,
          "symbol": "circle"
         },
         "mode": "markers",
         "name": "ID: 34",
         "showlegend": false,
         "text": [
          "Dose duration: nan",
          "Dose duration: nan",
          "Dose duration: nan",
          "Dose duration: nan",
          "Dose duration: nan",
          "Dose duration: nan",
          "Dose duration: nan",
          "Dose duration: nan",
          "Dose duration: nan",
          "Dose duration: nan",
          "Dose duration: nan",
          "Dose duration: nan",
          "Dose duration: nan",
          "Dose duration: nan"
         ],
         "type": "scatter",
         "x": [
          4,
          7,
          9,
          11,
          14,
          16,
          3,
          5,
          6,
          8,
          10,
          12,
          13,
          15
         ],
         "xaxis": "x",
         "y": [
          0.7000000000000001,
          0.7000000000000001,
          0.7000000000000001,
          0.675,
          0.675,
          0.675,
          0.675,
          0.7000000000000001,
          0.7000000000000001,
          0.7000000000000001,
          0.7000000000000001,
          0.675,
          0.675,
          0.675
         ],
         "yaxis": "y"
        },
        {
         "legendgroup": "ID: 34",
         "marker": {
          "color": "#636EFA",
          "line": {
           "color": "black",
           "width": 1
          },
          "opacity": 0.7,
          "symbol": "circle"
         },
         "mode": "markers",
         "name": "ID: 34",
         "showlegend": true,
         "type": "scatter",
         "x": [
          0,
          2,
          4,
          7,
          9,
          10.01875,
          11,
          14,
          15.99375,
          16,
          18,
          21,
          23,
          25,
          28,
          30,
          3,
          5,
          6,
          8,
          10,
          12,
          13,
          15
         ],
         "xaxis": "x2",
         "y": [
          null,
          null,
          null,
          null,
          null,
          3.5,
          null,
          null,
          null,
          null,
          null,
          null,
          null,
          null,
          null,
          null,
          null,
          null,
          null,
          null,
          null,
          null,
          null,
          null
         ],
         "yaxis": "y2"
        },
        {
         "hoverinfo": "text",
         "legendgroup": "ID: 52",
         "marker": {
          "color": "#EF553B",
          "line": {
           "color": "black",
           "width": 1
          },
          "opacity": 0.7,
          "symbol": "circle"
         },
         "mode": "markers",
         "name": "ID: 52",
         "showlegend": false,
         "text": [
          "Dose duration: nan",
          "Dose duration: nan",
          "Dose duration: nan",
          "Dose duration: nan",
          "Dose duration: nan",
          "Dose duration: nan",
          "Dose duration: nan",
          "Dose duration: nan",
          "Dose duration: nan",
          "Dose duration: nan",
          "Dose duration: nan",
          "Dose duration: nan",
          "Dose duration: nan",
          "Dose duration: nan"
         ],
         "type": "scatter",
         "x": [
          4,
          7,
          9,
          11,
          14,
          16,
          3,
          5,
          6,
          8,
          10,
          12,
          13,
          15
         ],
         "xaxis": "x",
         "y": [
          0.625,
          0.65,
          0.65,
          0.625,
          0.65,
          0.65,
          0.65,
          0.625,
          0.625,
          0.65,
          0.65,
          0.625,
          0.625,
          0.65
         ],
         "yaxis": "y"
        },
        {
         "legendgroup": "ID: 52",
         "marker": {
          "color": "#EF553B",
          "line": {
           "color": "black",
           "width": 1
          },
          "opacity": 0.7,
          "symbol": "circle"
         },
         "mode": "markers",
         "name": "ID: 52",
         "showlegend": true,
         "type": "scatter",
         "x": [
          0,
          2,
          4,
          7,
          9,
          9.995833333,
          11,
          14,
          16,
          16.99930556,
          18,
          21,
          23,
          25,
          28,
          30,
          3,
          5,
          6,
          8,
          10,
          12,
          13,
          15
         ],
         "xaxis": "x2",
         "y": [
          null,
          null,
          null,
          null,
          null,
          0.008060000000000001,
          null,
          null,
          null,
          null,
          null,
          null,
          null,
          null,
          null,
          null,
          null,
          null,
          null,
          null,
          null,
          null,
          null,
          null
         ],
         "yaxis": "y2"
        },
        {
         "hoverinfo": "text",
         "legendgroup": "ID: 91",
         "marker": {
          "color": "#00CC96",
          "line": {
           "color": "black",
           "width": 1
          },
          "opacity": 0.7,
          "symbol": "circle"
         },
         "mode": "markers",
         "name": "ID: 91",
         "showlegend": false,
         "text": [
          "Dose duration: nan",
          "Dose duration: nan",
          "Dose duration: nan",
          "Dose duration: nan",
          "Dose duration: nan",
          "Dose duration: nan",
          "Dose duration: nan",
          "Dose duration: nan",
          "Dose duration: nan",
          "Dose duration: nan",
          "Dose duration: nan",
          "Dose duration: nan",
          "Dose duration: nan",
          "Dose duration: nan"
         ],
         "type": "scatter",
         "x": [
          4,
          7,
          9,
          11,
          14,
          16,
          3,
          5,
          6,
          8,
          10,
          12,
          13,
          15
         ],
         "xaxis": "x",
         "y": [
          0.625,
          0.65,
          0.675,
          0.625,
          0.65,
          0.675,
          0.625,
          0.625,
          0.625,
          0.65,
          0.675,
          0.625,
          0.625,
          0.65
         ],
         "yaxis": "y"
        },
        {
         "legendgroup": "ID: 91",
         "marker": {
          "color": "#00CC96",
          "line": {
           "color": "black",
           "width": 1
          },
          "opacity": 0.7,
          "symbol": "circle"
         },
         "mode": "markers",
         "name": "ID: 91",
         "showlegend": true,
         "type": "scatter",
         "x": [
          0,
          2,
          4,
          7,
          9,
          10.04375,
          11,
          14,
          16,
          16.10277778,
          18,
          21,
          23,
          25,
          28,
          30,
          3,
          5,
          6,
          8,
          10,
          12,
          13,
          15
         ],
         "xaxis": "x2",
         "y": [
          null,
          null,
          null,
          null,
          null,
          4.34,
          null,
          null,
          null,
          1.97,
          null,
          null,
          null,
          null,
          null,
          null,
          null,
          null,
          null,
          null,
          null,
          null,
          null,
          null
         ],
         "yaxis": "y2"
        },
        {
         "hoverinfo": "text",
         "legendgroup": "ID: 108",
         "marker": {
          "color": "#AB63FA",
          "line": {
           "color": "black",
           "width": 1
          },
          "opacity": 0.7,
          "symbol": "circle"
         },
         "mode": "markers",
         "name": "ID: 108",
         "showlegend": false,
         "text": [
          "Dose duration: nan",
          "Dose duration: nan",
          "Dose duration: nan",
          "Dose duration: nan",
          "Dose duration: nan",
          "Dose duration: nan",
          "Dose duration: nan",
          "Dose duration: nan",
          "Dose duration: nan",
          "Dose duration: nan",
          "Dose duration: nan",
          "Dose duration: nan",
          "Dose duration: nan",
          "Dose duration: nan"
         ],
         "type": "scatter",
         "x": [
          4,
          7,
          9,
          11,
          14,
          16,
          3,
          5,
          6,
          8,
          10,
          12,
          13,
          15
         ],
         "xaxis": "x",
         "y": [
          0.625,
          0.625,
          0.625,
          0.625,
          0.675,
          0.675,
          0.65,
          0.625,
          0.625,
          0.625,
          0.625,
          0.625,
          0.625,
          0.675
         ],
         "yaxis": "y"
        },
        {
         "legendgroup": "ID: 108",
         "marker": {
          "color": "#AB63FA",
          "line": {
           "color": "black",
           "width": 1
          },
          "opacity": 0.7,
          "symbol": "circle"
         },
         "mode": "markers",
         "name": "ID: 108",
         "showlegend": true,
         "type": "scatter",
         "x": [
          0,
          2,
          4,
          7,
          9,
          10.01041667,
          11,
          14,
          16,
          16.41666667,
          18,
          21,
          23,
          25,
          28,
          30,
          3,
          5,
          6,
          8,
          10,
          12,
          13,
          15
         ],
         "xaxis": "x2",
         "y": [
          null,
          null,
          null,
          null,
          null,
          2.38,
          null,
          null,
          null,
          0.326,
          null,
          null,
          null,
          null,
          null,
          null,
          null,
          null,
          null,
          null,
          null,
          null,
          null,
          null
         ],
         "yaxis": "y2"
        },
        {
         "hoverinfo": "text",
         "legendgroup": "ID: 122",
         "marker": {
          "color": "#FFA15A",
          "line": {
           "color": "black",
           "width": 1
          },
          "opacity": 0.7,
          "symbol": "circle"
         },
         "mode": "markers",
         "name": "ID: 122",
         "showlegend": false,
         "text": [
          "Dose duration: nan",
          "Dose duration: nan",
          "Dose duration: nan",
          "Dose duration: nan",
          "Dose duration: nan",
          "Dose duration: nan",
          "Dose duration: nan",
          "Dose duration: nan",
          "Dose duration: nan",
          "Dose duration: nan",
          "Dose duration: nan",
          "Dose duration: nan",
          "Dose duration: nan",
          "Dose duration: nan"
         ],
         "type": "scatter",
         "x": [
          4,
          7,
          9,
          11,
          14,
          16,
          3,
          5,
          6,
          8,
          10,
          12,
          13,
          15
         ],
         "xaxis": "x",
         "y": [
          0.6,
          0.6,
          0.5750000000000001,
          0.5750000000000001,
          0.625,
          0.6,
          0.6,
          0.6,
          0.6,
          0.6,
          0.5750000000000001,
          0.5750000000000001,
          0.5750000000000001,
          0.625
         ],
         "yaxis": "y"
        },
        {
         "legendgroup": "ID: 122",
         "marker": {
          "color": "#FFA15A",
          "line": {
           "color": "black",
           "width": 1
          },
          "opacity": 0.7,
          "symbol": "circle"
         },
         "mode": "markers",
         "name": "ID: 122",
         "showlegend": true,
         "type": "scatter",
         "x": [
          0,
          2,
          4,
          7,
          9,
          10.20833333,
          11,
          14,
          16,
          16.04097222,
          18,
          21,
          23,
          25,
          28,
          30,
          3,
          5,
          6,
          8,
          10,
          12,
          13,
          15
         ],
         "xaxis": "x2",
         "y": [
          null,
          null,
          null,
          null,
          null,
          0.8280000000000001,
          null,
          null,
          null,
          3.54,
          null,
          null,
          null,
          null,
          null,
          null,
          null,
          null,
          null,
          null,
          null,
          null,
          null,
          null
         ],
         "yaxis": "y2"
        },
        {
         "hoverinfo": "text",
         "legendgroup": "ID: 129",
         "marker": {
          "color": "#19D3F3",
          "line": {
           "color": "black",
           "width": 1
          },
          "opacity": 0.7,
          "symbol": "circle"
         },
         "mode": "markers",
         "name": "ID: 129",
         "showlegend": false,
         "text": [
          "Dose duration: nan",
          "Dose duration: nan",
          "Dose duration: nan",
          "Dose duration: nan",
          "Dose duration: nan",
          "Dose duration: nan",
          "Dose duration: nan",
          "Dose duration: nan",
          "Dose duration: nan",
          "Dose duration: nan",
          "Dose duration: nan",
          "Dose duration: nan",
          "Dose duration: nan",
          "Dose duration: nan"
         ],
         "type": "scatter",
         "x": [
          4,
          7,
          9,
          11,
          14,
          16,
          3,
          5,
          6,
          8,
          10,
          12,
          13,
          15
         ],
         "xaxis": "x",
         "y": [
          0.725,
          0.7000000000000001,
          0.7000000000000001,
          0.675,
          0.7000000000000001,
          0.7000000000000001,
          0.725,
          0.725,
          0.725,
          0.7000000000000001,
          0.7000000000000001,
          0.675,
          0.675,
          0.7000000000000001
         ],
         "yaxis": "y"
        },
        {
         "legendgroup": "ID: 129",
         "marker": {
          "color": "#19D3F3",
          "line": {
           "color": "black",
           "width": 1
          },
          "opacity": 0.7,
          "symbol": "circle"
         },
         "mode": "markers",
         "name": "ID: 129",
         "showlegend": true,
         "type": "scatter",
         "x": [
          0,
          2,
          4,
          7,
          9,
          10.10347222,
          11,
          14,
          16,
          16.20972222,
          18,
          21,
          23,
          25,
          28,
          30,
          3,
          5,
          6,
          8,
          10,
          12,
          13,
          15
         ],
         "xaxis": "x2",
         "y": [
          null,
          null,
          null,
          null,
          null,
          2.27,
          null,
          null,
          null,
          1.07,
          null,
          null,
          null,
          null,
          null,
          null,
          null,
          null,
          null,
          null,
          null,
          null,
          null,
          null
         ],
         "yaxis": "y2"
        },
        {
         "hoverinfo": "text",
         "legendgroup": "ID: 163",
         "marker": {
          "color": "#FF6692",
          "line": {
           "color": "black",
           "width": 1
          },
          "opacity": 0.7,
          "symbol": "circle"
         },
         "mode": "markers",
         "name": "ID: 163",
         "showlegend": false,
         "text": [
          "Dose duration: nan",
          "Dose duration: nan",
          "Dose duration: nan",
          "Dose duration: nan",
          "Dose duration: nan",
          "Dose duration: nan",
          "Dose duration: nan",
          "Dose duration: nan",
          "Dose duration: nan",
          "Dose duration: nan",
          "Dose duration: nan",
          "Dose duration: nan",
          "Dose duration: nan",
          "Dose duration: nan"
         ],
         "type": "scatter",
         "x": [
          4,
          7,
          9,
          11,
          14,
          16,
          3,
          5,
          6,
          8,
          10,
          12,
          13,
          15
         ],
         "xaxis": "x",
         "y": [
          0.6,
          0.625,
          0.625,
          0.5750000000000001,
          0.6,
          0.6,
          0.625,
          0.6,
          0.6,
          0.625,
          0.625,
          0.5750000000000001,
          0.5750000000000001,
          0.6
         ],
         "yaxis": "y"
        },
        {
         "legendgroup": "ID: 163",
         "marker": {
          "color": "#FF6692",
          "line": {
           "color": "black",
           "width": 1
          },
          "opacity": 0.7,
          "symbol": "circle"
         },
         "mode": "markers",
         "name": "ID: 163",
         "showlegend": true,
         "type": "scatter",
         "x": [
          0,
          2,
          4,
          7,
          9,
          10.41527778,
          11,
          14,
          16,
          16.01111111,
          18,
          21,
          23,
          25,
          28,
          30,
          3,
          5,
          6,
          8,
          10,
          12,
          13,
          15
         ],
         "xaxis": "x2",
         "y": [
          null,
          null,
          null,
          null,
          null,
          1.35,
          null,
          null,
          null,
          3.14,
          null,
          null,
          null,
          null,
          null,
          null,
          null,
          null,
          null,
          null,
          null,
          null,
          null,
          null
         ],
         "yaxis": "y2"
        },
        {
         "hoverinfo": "text",
         "legendgroup": "ID: 167",
         "marker": {
          "color": "#B6E880",
          "line": {
           "color": "black",
           "width": 1
          },
          "opacity": 0.7,
          "symbol": "circle"
         },
         "mode": "markers",
         "name": "ID: 167",
         "showlegend": false,
         "text": [
          "Dose duration: nan",
          "Dose duration: nan",
          "Dose duration: nan",
          "Dose duration: nan",
          "Dose duration: nan",
          "Dose duration: nan",
          "Dose duration: nan",
          "Dose duration: nan",
          "Dose duration: nan",
          "Dose duration: nan",
          "Dose duration: nan",
          "Dose duration: nan",
          "Dose duration: nan",
          "Dose duration: nan"
         ],
         "type": "scatter",
         "x": [
          4,
          7,
          9,
          11,
          14,
          16,
          3,
          5,
          6,
          8,
          10,
          12,
          13,
          15
         ],
         "xaxis": "x",
         "y": [
          0.7000000000000001,
          0.7000000000000001,
          0.7000000000000001,
          0.675,
          0.675,
          0.675,
          0.675,
          0.7000000000000001,
          0.7000000000000001,
          0.7000000000000001,
          0.7000000000000001,
          0.675,
          0.675,
          0.675
         ],
         "yaxis": "y"
        },
        {
         "legendgroup": "ID: 167",
         "marker": {
          "color": "#B6E880",
          "line": {
           "color": "black",
           "width": 1
          },
          "opacity": 0.7,
          "symbol": "circle"
         },
         "mode": "markers",
         "name": "ID: 167",
         "showlegend": true,
         "type": "scatter",
         "x": [
          0,
          2,
          4,
          7,
          9,
          11,
          11.00208333,
          14,
          16,
          16.02291667,
          18,
          21,
          23,
          25,
          28,
          30,
          3,
          5,
          6,
          8,
          10,
          12,
          13,
          15
         ],
         "xaxis": "x2",
         "y": [
          null,
          null,
          null,
          null,
          null,
          null,
          null,
          null,
          null,
          3,
          null,
          null,
          null,
          null,
          null,
          null,
          null,
          null,
          null,
          null,
          null,
          null,
          null,
          null
         ],
         "yaxis": "y2"
        }
       ],
       "layout": {
        "autosize": true,
        "template": {
         "data": {
          "bar": [
           {
            "error_x": {
             "color": "#2a3f5f"
            },
            "error_y": {
             "color": "#2a3f5f"
            },
            "marker": {
             "line": {
              "color": "white",
              "width": 0.5
             }
            },
            "type": "bar"
           }
          ],
          "barpolar": [
           {
            "marker": {
             "line": {
              "color": "white",
              "width": 0.5
             }
            },
            "type": "barpolar"
           }
          ],
          "carpet": [
           {
            "aaxis": {
             "endlinecolor": "#2a3f5f",
             "gridcolor": "#C8D4E3",
             "linecolor": "#C8D4E3",
             "minorgridcolor": "#C8D4E3",
             "startlinecolor": "#2a3f5f"
            },
            "baxis": {
             "endlinecolor": "#2a3f5f",
             "gridcolor": "#C8D4E3",
             "linecolor": "#C8D4E3",
             "minorgridcolor": "#C8D4E3",
             "startlinecolor": "#2a3f5f"
            },
            "type": "carpet"
           }
          ],
          "choropleth": [
           {
            "colorbar": {
             "outlinewidth": 0,
             "ticks": ""
            },
            "type": "choropleth"
           }
          ],
          "contour": [
           {
            "colorbar": {
             "outlinewidth": 0,
             "ticks": ""
            },
            "colorscale": [
             [
              0,
              "#0d0887"
             ],
             [
              0.1111111111111111,
              "#46039f"
             ],
             [
              0.2222222222222222,
              "#7201a8"
             ],
             [
              0.3333333333333333,
              "#9c179e"
             ],
             [
              0.4444444444444444,
              "#bd3786"
             ],
             [
              0.5555555555555556,
              "#d8576b"
             ],
             [
              0.6666666666666666,
              "#ed7953"
             ],
             [
              0.7777777777777778,
              "#fb9f3a"
             ],
             [
              0.8888888888888888,
              "#fdca26"
             ],
             [
              1,
              "#f0f921"
             ]
            ],
            "type": "contour"
           }
          ],
          "contourcarpet": [
           {
            "colorbar": {
             "outlinewidth": 0,
             "ticks": ""
            },
            "type": "contourcarpet"
           }
          ],
          "heatmap": [
           {
            "colorbar": {
             "outlinewidth": 0,
             "ticks": ""
            },
            "colorscale": [
             [
              0,
              "#0d0887"
             ],
             [
              0.1111111111111111,
              "#46039f"
             ],
             [
              0.2222222222222222,
              "#7201a8"
             ],
             [
              0.3333333333333333,
              "#9c179e"
             ],
             [
              0.4444444444444444,
              "#bd3786"
             ],
             [
              0.5555555555555556,
              "#d8576b"
             ],
             [
              0.6666666666666666,
              "#ed7953"
             ],
             [
              0.7777777777777778,
              "#fb9f3a"
             ],
             [
              0.8888888888888888,
              "#fdca26"
             ],
             [
              1,
              "#f0f921"
             ]
            ],
            "type": "heatmap"
           }
          ],
          "heatmapgl": [
           {
            "colorbar": {
             "outlinewidth": 0,
             "ticks": ""
            },
            "colorscale": [
             [
              0,
              "#0d0887"
             ],
             [
              0.1111111111111111,
              "#46039f"
             ],
             [
              0.2222222222222222,
              "#7201a8"
             ],
             [
              0.3333333333333333,
              "#9c179e"
             ],
             [
              0.4444444444444444,
              "#bd3786"
             ],
             [
              0.5555555555555556,
              "#d8576b"
             ],
             [
              0.6666666666666666,
              "#ed7953"
             ],
             [
              0.7777777777777778,
              "#fb9f3a"
             ],
             [
              0.8888888888888888,
              "#fdca26"
             ],
             [
              1,
              "#f0f921"
             ]
            ],
            "type": "heatmapgl"
           }
          ],
          "histogram": [
           {
            "marker": {
             "colorbar": {
              "outlinewidth": 0,
              "ticks": ""
             }
            },
            "type": "histogram"
           }
          ],
          "histogram2d": [
           {
            "colorbar": {
             "outlinewidth": 0,
             "ticks": ""
            },
            "colorscale": [
             [
              0,
              "#0d0887"
             ],
             [
              0.1111111111111111,
              "#46039f"
             ],
             [
              0.2222222222222222,
              "#7201a8"
             ],
             [
              0.3333333333333333,
              "#9c179e"
             ],
             [
              0.4444444444444444,
              "#bd3786"
             ],
             [
              0.5555555555555556,
              "#d8576b"
             ],
             [
              0.6666666666666666,
              "#ed7953"
             ],
             [
              0.7777777777777778,
              "#fb9f3a"
             ],
             [
              0.8888888888888888,
              "#fdca26"
             ],
             [
              1,
              "#f0f921"
             ]
            ],
            "type": "histogram2d"
           }
          ],
          "histogram2dcontour": [
           {
            "colorbar": {
             "outlinewidth": 0,
             "ticks": ""
            },
            "colorscale": [
             [
              0,
              "#0d0887"
             ],
             [
              0.1111111111111111,
              "#46039f"
             ],
             [
              0.2222222222222222,
              "#7201a8"
             ],
             [
              0.3333333333333333,
              "#9c179e"
             ],
             [
              0.4444444444444444,
              "#bd3786"
             ],
             [
              0.5555555555555556,
              "#d8576b"
             ],
             [
              0.6666666666666666,
              "#ed7953"
             ],
             [
              0.7777777777777778,
              "#fb9f3a"
             ],
             [
              0.8888888888888888,
              "#fdca26"
             ],
             [
              1,
              "#f0f921"
             ]
            ],
            "type": "histogram2dcontour"
           }
          ],
          "mesh3d": [
           {
            "colorbar": {
             "outlinewidth": 0,
             "ticks": ""
            },
            "type": "mesh3d"
           }
          ],
          "parcoords": [
           {
            "line": {
             "colorbar": {
              "outlinewidth": 0,
              "ticks": ""
             }
            },
            "type": "parcoords"
           }
          ],
          "pie": [
           {
            "automargin": true,
            "type": "pie"
           }
          ],
          "scatter": [
           {
            "marker": {
             "colorbar": {
              "outlinewidth": 0,
              "ticks": ""
             }
            },
            "type": "scatter"
           }
          ],
          "scatter3d": [
           {
            "line": {
             "colorbar": {
              "outlinewidth": 0,
              "ticks": ""
             }
            },
            "marker": {
             "colorbar": {
              "outlinewidth": 0,
              "ticks": ""
             }
            },
            "type": "scatter3d"
           }
          ],
          "scattercarpet": [
           {
            "marker": {
             "colorbar": {
              "outlinewidth": 0,
              "ticks": ""
             }
            },
            "type": "scattercarpet"
           }
          ],
          "scattergeo": [
           {
            "marker": {
             "colorbar": {
              "outlinewidth": 0,
              "ticks": ""
             }
            },
            "type": "scattergeo"
           }
          ],
          "scattergl": [
           {
            "marker": {
             "colorbar": {
              "outlinewidth": 0,
              "ticks": ""
             }
            },
            "type": "scattergl"
           }
          ],
          "scattermapbox": [
           {
            "marker": {
             "colorbar": {
              "outlinewidth": 0,
              "ticks": ""
             }
            },
            "type": "scattermapbox"
           }
          ],
          "scatterpolar": [
           {
            "marker": {
             "colorbar": {
              "outlinewidth": 0,
              "ticks": ""
             }
            },
            "type": "scatterpolar"
           }
          ],
          "scatterpolargl": [
           {
            "marker": {
             "colorbar": {
              "outlinewidth": 0,
              "ticks": ""
             }
            },
            "type": "scatterpolargl"
           }
          ],
          "scatterternary": [
           {
            "marker": {
             "colorbar": {
              "outlinewidth": 0,
              "ticks": ""
             }
            },
            "type": "scatterternary"
           }
          ],
          "surface": [
           {
            "colorbar": {
             "outlinewidth": 0,
             "ticks": ""
            },
            "colorscale": [
             [
              0,
              "#0d0887"
             ],
             [
              0.1111111111111111,
              "#46039f"
             ],
             [
              0.2222222222222222,
              "#7201a8"
             ],
             [
              0.3333333333333333,
              "#9c179e"
             ],
             [
              0.4444444444444444,
              "#bd3786"
             ],
             [
              0.5555555555555556,
              "#d8576b"
             ],
             [
              0.6666666666666666,
              "#ed7953"
             ],
             [
              0.7777777777777778,
              "#fb9f3a"
             ],
             [
              0.8888888888888888,
              "#fdca26"
             ],
             [
              1,
              "#f0f921"
             ]
            ],
            "type": "surface"
           }
          ],
          "table": [
           {
            "cells": {
             "fill": {
              "color": "#EBF0F8"
             },
             "line": {
              "color": "white"
             }
            },
            "header": {
             "fill": {
              "color": "#C8D4E3"
             },
             "line": {
              "color": "white"
             }
            },
            "type": "table"
           }
          ]
         },
         "layout": {
          "annotationdefaults": {
           "arrowcolor": "#2a3f5f",
           "arrowhead": 0,
           "arrowwidth": 1
          },
          "coloraxis": {
           "colorbar": {
            "outlinewidth": 0,
            "ticks": ""
           }
          },
          "colorscale": {
           "diverging": [
            [
             0,
             "#8e0152"
            ],
            [
             0.1,
             "#c51b7d"
            ],
            [
             0.2,
             "#de77ae"
            ],
            [
             0.3,
             "#f1b6da"
            ],
            [
             0.4,
             "#fde0ef"
            ],
            [
             0.5,
             "#f7f7f7"
            ],
            [
             0.6,
             "#e6f5d0"
            ],
            [
             0.7,
             "#b8e186"
            ],
            [
             0.8,
             "#7fbc41"
            ],
            [
             0.9,
             "#4d9221"
            ],
            [
             1,
             "#276419"
            ]
           ],
           "sequential": [
            [
             0,
             "#0d0887"
            ],
            [
             0.1111111111111111,
             "#46039f"
            ],
            [
             0.2222222222222222,
             "#7201a8"
            ],
            [
             0.3333333333333333,
             "#9c179e"
            ],
            [
             0.4444444444444444,
             "#bd3786"
            ],
            [
             0.5555555555555556,
             "#d8576b"
            ],
            [
             0.6666666666666666,
             "#ed7953"
            ],
            [
             0.7777777777777778,
             "#fb9f3a"
            ],
            [
             0.8888888888888888,
             "#fdca26"
            ],
            [
             1,
             "#f0f921"
            ]
           ],
           "sequentialminus": [
            [
             0,
             "#0d0887"
            ],
            [
             0.1111111111111111,
             "#46039f"
            ],
            [
             0.2222222222222222,
             "#7201a8"
            ],
            [
             0.3333333333333333,
             "#9c179e"
            ],
            [
             0.4444444444444444,
             "#bd3786"
            ],
            [
             0.5555555555555556,
             "#d8576b"
            ],
            [
             0.6666666666666666,
             "#ed7953"
            ],
            [
             0.7777777777777778,
             "#fb9f3a"
            ],
            [
             0.8888888888888888,
             "#fdca26"
            ],
            [
             1,
             "#f0f921"
            ]
           ]
          },
          "colorway": [
           "#636efa",
           "#EF553B",
           "#00cc96",
           "#ab63fa",
           "#FFA15A",
           "#19d3f3",
           "#FF6692",
           "#B6E880",
           "#FF97FF",
           "#FECB52"
          ],
          "font": {
           "color": "#2a3f5f"
          },
          "geo": {
           "bgcolor": "white",
           "lakecolor": "white",
           "landcolor": "white",
           "showlakes": true,
           "showland": true,
           "subunitcolor": "#C8D4E3"
          },
          "hoverlabel": {
           "align": "left"
          },
          "hovermode": "closest",
          "mapbox": {
           "style": "light"
          },
          "paper_bgcolor": "white",
          "plot_bgcolor": "white",
          "polar": {
           "angularaxis": {
            "gridcolor": "#EBF0F8",
            "linecolor": "#EBF0F8",
            "ticks": ""
           },
           "bgcolor": "white",
           "radialaxis": {
            "gridcolor": "#EBF0F8",
            "linecolor": "#EBF0F8",
            "ticks": ""
           }
          },
          "scene": {
           "xaxis": {
            "backgroundcolor": "white",
            "gridcolor": "#DFE8F3",
            "gridwidth": 2,
            "linecolor": "#EBF0F8",
            "showbackground": true,
            "ticks": "",
            "zerolinecolor": "#EBF0F8"
           },
           "yaxis": {
            "backgroundcolor": "white",
            "gridcolor": "#DFE8F3",
            "gridwidth": 2,
            "linecolor": "#EBF0F8",
            "showbackground": true,
            "ticks": "",
            "zerolinecolor": "#EBF0F8"
           },
           "zaxis": {
            "backgroundcolor": "white",
            "gridcolor": "#DFE8F3",
            "gridwidth": 2,
            "linecolor": "#EBF0F8",
            "showbackground": true,
            "ticks": "",
            "zerolinecolor": "#EBF0F8"
           }
          },
          "shapedefaults": {
           "line": {
            "color": "#2a3f5f"
           }
          },
          "ternary": {
           "aaxis": {
            "gridcolor": "#DFE8F3",
            "linecolor": "#A2B1C6",
            "ticks": ""
           },
           "baxis": {
            "gridcolor": "#DFE8F3",
            "linecolor": "#A2B1C6",
            "ticks": ""
           },
           "bgcolor": "white",
           "caxis": {
            "gridcolor": "#DFE8F3",
            "linecolor": "#A2B1C6",
            "ticks": ""
           }
          },
          "title": {
           "x": 0.05
          },
          "xaxis": {
           "automargin": true,
           "gridcolor": "#EBF0F8",
           "linecolor": "#EBF0F8",
           "ticks": "",
           "title": {
            "standoff": 15
           },
           "zerolinecolor": "#EBF0F8",
           "zerolinewidth": 2
          },
          "yaxis": {
           "automargin": true,
           "gridcolor": "#EBF0F8",
           "linecolor": "#EBF0F8",
           "ticks": "",
           "title": {
            "standoff": 15
           },
           "zerolinecolor": "#EBF0F8",
           "zerolinewidth": 2
          }
         }
        },
        "updatemenus": [
         {
          "buttons": [
           {
            "args": [
             {
              "yaxis2.type": "linear"
             }
            ],
            "label": "Linear y-scale",
            "method": "relayout"
           },
           {
            "args": [
             {
              "yaxis2.type": "log"
             }
            ],
            "label": "Log y-scale",
            "method": "relayout"
           }
          ],
          "direction": "left",
          "pad": {
           "r": 0,
           "t": -10
          },
          "showactive": true,
          "type": "buttons",
          "x": 0,
          "xanchor": "left",
          "y": 1.15,
          "yanchor": "top"
         }
        ],
        "xaxis": {
         "anchor": "y",
         "domain": [
          0,
          1
         ],
         "matches": "x2",
         "showticklabels": false
        },
        "xaxis2": {
         "anchor": "y2",
         "domain": [
          0,
          1
         ],
         "title": {
          "text": "Time in day"
         }
        },
        "yaxis": {
         "anchor": "x",
         "domain": [
          0.81,
          1
         ],
         "title": {
          "text": "Dose in mg"
         }
        },
        "yaxis2": {
         "anchor": "x2",
         "domain": [
          0,
          0.76
         ],
         "title": {
          "text": "Plasma conc. in ng/mL"
         }
        }
       }
      }
     },
     "metadata": {}
    }
   ],
   "source": [
    "import erlotinib.plots as eplt\n",
    "\n",
    "\n",
    "# Create scatter plot\n",
    "fig = eplt.PKTimeSeriesPlot()\n",
    "fig.add_data(data, biomarker='Plasma concentration')\n",
    "fig.set_axis_labels(time_label='Time in day', biom_label='Plasma conc. in ng/mL', dose_label='Dose in mg')\n",
    "\n",
    "# Show figure\n",
    "fig.show()"
   ]
  },
  {
   "cell_type": "markdown",
   "metadata": {},
   "source": [
    "**Figure 1:** Plasma concentration time series in lung cancer treatment group with medium erlotinib dose ($25\\, \\text{mg}$ oral dose per $\\text{g}$ body weight)."
   ]
  },
  {
   "cell_type": "code",
   "execution_count": 11,
   "metadata": {},
   "outputs": [
    {
     "output_type": "display_data",
     "data": {
      "application/vnd.plotly.v1+json": {
       "config": {
        "plotlyServerURL": "https://plot.ly"
       },
       "data": [
        {
         "marker": {
          "color": "#636EFA",
          "line": {
           "color": "black",
           "width": 1
          },
          "opacity": 0.7,
          "symbol": "circle"
         },
         "mode": "markers",
         "name": "ID: 34",
         "showlegend": true,
         "type": "scatter",
         "x": [
          0,
          2,
          4,
          7,
          9,
          10.01875,
          11,
          14,
          15.99375,
          16,
          18,
          21,
          23,
          25,
          28,
          30,
          3,
          5,
          6,
          8,
          10,
          12,
          13,
          15
         ],
         "y": [
          0.165292,
          0.21732800000000002,
          0.2925,
          0.3892285,
          0.3961175,
          null,
          0.5713919999999999,
          0.595448,
          null,
          0.6338640000000001,
          0.8146100000000001,
          1.0646125,
          1.1966044999999998,
          1.368464,
          1.5210000000000001,
          1.6185435000000001,
          null,
          null,
          null,
          null,
          null,
          null,
          null,
          null
         ]
        },
        {
         "marker": {
          "color": "#EF553B",
          "line": {
           "color": "black",
           "width": 1
          },
          "opacity": 0.7,
          "symbol": "circle"
         },
         "mode": "markers",
         "name": "ID: 52",
         "showlegend": true,
         "type": "scatter",
         "x": [
          0,
          2,
          4,
          7,
          9,
          9.995833333,
          11,
          14,
          16,
          16.99930556,
          18,
          21,
          23,
          25,
          28,
          30,
          3,
          5,
          6,
          8,
          10,
          12,
          13,
          15
         ],
         "y": [
          0.20535,
          0.191808,
          0.2788425,
          0.30180599999999996,
          0.37945599999999996,
          null,
          0.52,
          0.6296950000000001,
          0.7464960000000002,
          null,
          0.8317439999999999,
          0.93987,
          1.078125,
          1.1304960000000002,
          1.2283920000000002,
          1.3797420000000002,
          null,
          null,
          null,
          null,
          null,
          null,
          null,
          null
         ]
        },
        {
         "marker": {
          "color": "#00CC96",
          "line": {
           "color": "black",
           "width": 1
          },
          "opacity": 0.7,
          "symbol": "circle"
         },
         "mode": "markers",
         "name": "ID: 91",
         "showlegend": true,
         "type": "scatter",
         "x": [
          0,
          2,
          4,
          7,
          9,
          10.04375,
          11,
          14,
          16,
          16.10277778,
          18,
          21,
          23,
          25,
          28,
          30,
          3,
          5,
          6,
          8,
          10,
          12,
          13,
          15
         ],
         "y": [
          0.1283745,
          0.1358165,
          0.222912,
          0.204768,
          0.24308900000000003,
          null,
          0.2944,
          0.30180599999999996,
          0.34927199999999997,
          null,
          0.43738199999999994,
          0.5622769999999999,
          0.7947045,
          0.9589855,
          1.1827619999999999,
          1.2016105000000001,
          null,
          null,
          null,
          null,
          null,
          null,
          null,
          null
         ]
        },
        {
         "marker": {
          "color": "#AB63FA",
          "line": {
           "color": "black",
           "width": 1
          },
          "opacity": 0.7,
          "symbol": "circle"
         },
         "mode": "markers",
         "name": "ID: 108",
         "showlegend": true,
         "type": "scatter",
         "x": [
          0,
          2,
          4,
          7,
          9,
          10.01041667,
          11,
          14,
          16,
          16.41666667,
          18,
          21,
          23,
          25,
          28,
          30,
          3,
          5,
          6,
          8,
          10,
          12,
          13,
          15
         ],
         "y": [
          0.087808,
          0.107911,
          0.1928205,
          0.185679,
          0.19758150000000002,
          null,
          0.2816,
          0.3203385,
          0.467046,
          null,
          0.49186250000000004,
          0.5054,
          0.7683500000000001,
          0.912525,
          0.962948,
          1.019592,
          null,
          null,
          null,
          null,
          null,
          null,
          null,
          null
         ]
        },
        {
         "marker": {
          "color": "#FFA15A",
          "line": {
           "color": "black",
           "width": 1
          },
          "opacity": 0.7,
          "symbol": "circle"
         },
         "mode": "markers",
         "name": "ID: 122",
         "showlegend": true,
         "type": "scatter",
         "x": [
          0,
          2,
          4,
          7,
          9,
          10.20833333,
          11,
          14,
          16,
          16.04097222,
          18,
          21,
          23,
          25,
          28,
          30,
          3,
          5,
          6,
          8,
          10,
          12,
          13,
          15
         ],
         "y": [
          0.10260200000000001,
          0.147875,
          0.17859599999999998,
          0.2714835,
          0.2714835,
          null,
          0.3065605,
          0.3504125,
          0.35870599999999997,
          null,
          0.384592,
          0.49186250000000004,
          0.5369875,
          0.62,
          0.723168,
          0.7425625,
          null,
          null,
          null,
          null,
          null,
          null,
          null,
          null
         ]
        },
        {
         "marker": {
          "color": "#19D3F3",
          "line": {
           "color": "black",
           "width": 1
          },
          "opacity": 0.7,
          "symbol": "circle"
         },
         "mode": "markers",
         "name": "ID: 129",
         "showlegend": true,
         "type": "scatter",
         "x": [
          0,
          2,
          4,
          7,
          9,
          10.10347222,
          11,
          14,
          16,
          16.20972222,
          18,
          21,
          23,
          25,
          28,
          30,
          3,
          5,
          6,
          8,
          10,
          12,
          13,
          15
         ],
         "y": [
          0.07542900000000001,
          0.119164,
          0.13838399999999998,
          0.1488375,
          0.16074449999999998,
          null,
          0.204723,
          0.253125,
          0.226845,
          null,
          0.262848,
          0.4125105,
          0.5234500000000001,
          0.5713919999999999,
          0.7464960000000002,
          0.760384,
          null,
          null,
          null,
          null,
          null,
          null,
          null,
          null
         ]
        },
        {
         "marker": {
          "color": "#FF6692",
          "line": {
           "color": "black",
           "width": 1
          },
          "opacity": 0.7,
          "symbol": "circle"
         },
         "mode": "markers",
         "name": "ID: 163",
         "showlegend": true,
         "type": "scatter",
         "x": [
          0,
          2,
          4,
          7,
          9,
          10.41527778,
          11,
          14,
          16,
          16.01111111,
          18,
          21,
          23,
          25,
          28,
          30,
          3,
          5,
          6,
          8,
          10,
          12,
          13,
          15
         ],
         "y": [
          0.060025,
          0.07803,
          0.1278,
          0.11942200000000001,
          0.11774,
          null,
          0.135,
          0.17111250000000003,
          0.11942200000000001,
          null,
          0.14030600000000001,
          0.1940785,
          0.1907825,
          0.2477985,
          0.3444525,
          0.451497,
          null,
          null,
          null,
          null,
          null,
          null,
          null,
          null
         ]
        },
        {
         "marker": {
          "color": "#B6E880",
          "line": {
           "color": "black",
           "width": 1
          },
          "opacity": 0.7,
          "symbol": "circle"
         },
         "mode": "markers",
         "name": "ID: 167",
         "showlegend": true,
         "type": "scatter",
         "x": [
          0,
          2,
          4,
          7,
          9,
          11,
          11.00208333,
          14,
          16,
          16.02291667,
          18,
          21,
          23,
          25,
          28,
          30,
          3,
          5,
          6,
          8,
          10,
          12,
          13,
          15
         ],
         "y": [
          0.19520099999999999,
          0.2888,
          0.341172,
          0.5692445,
          0.6002500000000001,
          0.6002500000000001,
          null,
          0.6890625,
          0.817216,
          null,
          0.9700285000000001,
          1.0944,
          1.2844000000000002,
          1.4287679999999998,
          1.414485,
          2.083401,
          null,
          null,
          null,
          null,
          null,
          null,
          null,
          null
         ]
        }
       ],
       "layout": {
        "autosize": true,
        "template": {
         "data": {
          "bar": [
           {
            "error_x": {
             "color": "#2a3f5f"
            },
            "error_y": {
             "color": "#2a3f5f"
            },
            "marker": {
             "line": {
              "color": "white",
              "width": 0.5
             }
            },
            "type": "bar"
           }
          ],
          "barpolar": [
           {
            "marker": {
             "line": {
              "color": "white",
              "width": 0.5
             }
            },
            "type": "barpolar"
           }
          ],
          "carpet": [
           {
            "aaxis": {
             "endlinecolor": "#2a3f5f",
             "gridcolor": "#C8D4E3",
             "linecolor": "#C8D4E3",
             "minorgridcolor": "#C8D4E3",
             "startlinecolor": "#2a3f5f"
            },
            "baxis": {
             "endlinecolor": "#2a3f5f",
             "gridcolor": "#C8D4E3",
             "linecolor": "#C8D4E3",
             "minorgridcolor": "#C8D4E3",
             "startlinecolor": "#2a3f5f"
            },
            "type": "carpet"
           }
          ],
          "choropleth": [
           {
            "colorbar": {
             "outlinewidth": 0,
             "ticks": ""
            },
            "type": "choropleth"
           }
          ],
          "contour": [
           {
            "colorbar": {
             "outlinewidth": 0,
             "ticks": ""
            },
            "colorscale": [
             [
              0,
              "#0d0887"
             ],
             [
              0.1111111111111111,
              "#46039f"
             ],
             [
              0.2222222222222222,
              "#7201a8"
             ],
             [
              0.3333333333333333,
              "#9c179e"
             ],
             [
              0.4444444444444444,
              "#bd3786"
             ],
             [
              0.5555555555555556,
              "#d8576b"
             ],
             [
              0.6666666666666666,
              "#ed7953"
             ],
             [
              0.7777777777777778,
              "#fb9f3a"
             ],
             [
              0.8888888888888888,
              "#fdca26"
             ],
             [
              1,
              "#f0f921"
             ]
            ],
            "type": "contour"
           }
          ],
          "contourcarpet": [
           {
            "colorbar": {
             "outlinewidth": 0,
             "ticks": ""
            },
            "type": "contourcarpet"
           }
          ],
          "heatmap": [
           {
            "colorbar": {
             "outlinewidth": 0,
             "ticks": ""
            },
            "colorscale": [
             [
              0,
              "#0d0887"
             ],
             [
              0.1111111111111111,
              "#46039f"
             ],
             [
              0.2222222222222222,
              "#7201a8"
             ],
             [
              0.3333333333333333,
              "#9c179e"
             ],
             [
              0.4444444444444444,
              "#bd3786"
             ],
             [
              0.5555555555555556,
              "#d8576b"
             ],
             [
              0.6666666666666666,
              "#ed7953"
             ],
             [
              0.7777777777777778,
              "#fb9f3a"
             ],
             [
              0.8888888888888888,
              "#fdca26"
             ],
             [
              1,
              "#f0f921"
             ]
            ],
            "type": "heatmap"
           }
          ],
          "heatmapgl": [
           {
            "colorbar": {
             "outlinewidth": 0,
             "ticks": ""
            },
            "colorscale": [
             [
              0,
              "#0d0887"
             ],
             [
              0.1111111111111111,
              "#46039f"
             ],
             [
              0.2222222222222222,
              "#7201a8"
             ],
             [
              0.3333333333333333,
              "#9c179e"
             ],
             [
              0.4444444444444444,
              "#bd3786"
             ],
             [
              0.5555555555555556,
              "#d8576b"
             ],
             [
              0.6666666666666666,
              "#ed7953"
             ],
             [
              0.7777777777777778,
              "#fb9f3a"
             ],
             [
              0.8888888888888888,
              "#fdca26"
             ],
             [
              1,
              "#f0f921"
             ]
            ],
            "type": "heatmapgl"
           }
          ],
          "histogram": [
           {
            "marker": {
             "colorbar": {
              "outlinewidth": 0,
              "ticks": ""
             }
            },
            "type": "histogram"
           }
          ],
          "histogram2d": [
           {
            "colorbar": {
             "outlinewidth": 0,
             "ticks": ""
            },
            "colorscale": [
             [
              0,
              "#0d0887"
             ],
             [
              0.1111111111111111,
              "#46039f"
             ],
             [
              0.2222222222222222,
              "#7201a8"
             ],
             [
              0.3333333333333333,
              "#9c179e"
             ],
             [
              0.4444444444444444,
              "#bd3786"
             ],
             [
              0.5555555555555556,
              "#d8576b"
             ],
             [
              0.6666666666666666,
              "#ed7953"
             ],
             [
              0.7777777777777778,
              "#fb9f3a"
             ],
             [
              0.8888888888888888,
              "#fdca26"
             ],
             [
              1,
              "#f0f921"
             ]
            ],
            "type": "histogram2d"
           }
          ],
          "histogram2dcontour": [
           {
            "colorbar": {
             "outlinewidth": 0,
             "ticks": ""
            },
            "colorscale": [
             [
              0,
              "#0d0887"
             ],
             [
              0.1111111111111111,
              "#46039f"
             ],
             [
              0.2222222222222222,
              "#7201a8"
             ],
             [
              0.3333333333333333,
              "#9c179e"
             ],
             [
              0.4444444444444444,
              "#bd3786"
             ],
             [
              0.5555555555555556,
              "#d8576b"
             ],
             [
              0.6666666666666666,
              "#ed7953"
             ],
             [
              0.7777777777777778,
              "#fb9f3a"
             ],
             [
              0.8888888888888888,
              "#fdca26"
             ],
             [
              1,
              "#f0f921"
             ]
            ],
            "type": "histogram2dcontour"
           }
          ],
          "mesh3d": [
           {
            "colorbar": {
             "outlinewidth": 0,
             "ticks": ""
            },
            "type": "mesh3d"
           }
          ],
          "parcoords": [
           {
            "line": {
             "colorbar": {
              "outlinewidth": 0,
              "ticks": ""
             }
            },
            "type": "parcoords"
           }
          ],
          "pie": [
           {
            "automargin": true,
            "type": "pie"
           }
          ],
          "scatter": [
           {
            "marker": {
             "colorbar": {
              "outlinewidth": 0,
              "ticks": ""
             }
            },
            "type": "scatter"
           }
          ],
          "scatter3d": [
           {
            "line": {
             "colorbar": {
              "outlinewidth": 0,
              "ticks": ""
             }
            },
            "marker": {
             "colorbar": {
              "outlinewidth": 0,
              "ticks": ""
             }
            },
            "type": "scatter3d"
           }
          ],
          "scattercarpet": [
           {
            "marker": {
             "colorbar": {
              "outlinewidth": 0,
              "ticks": ""
             }
            },
            "type": "scattercarpet"
           }
          ],
          "scattergeo": [
           {
            "marker": {
             "colorbar": {
              "outlinewidth": 0,
              "ticks": ""
             }
            },
            "type": "scattergeo"
           }
          ],
          "scattergl": [
           {
            "marker": {
             "colorbar": {
              "outlinewidth": 0,
              "ticks": ""
             }
            },
            "type": "scattergl"
           }
          ],
          "scattermapbox": [
           {
            "marker": {
             "colorbar": {
              "outlinewidth": 0,
              "ticks": ""
             }
            },
            "type": "scattermapbox"
           }
          ],
          "scatterpolar": [
           {
            "marker": {
             "colorbar": {
              "outlinewidth": 0,
              "ticks": ""
             }
            },
            "type": "scatterpolar"
           }
          ],
          "scatterpolargl": [
           {
            "marker": {
             "colorbar": {
              "outlinewidth": 0,
              "ticks": ""
             }
            },
            "type": "scatterpolargl"
           }
          ],
          "scatterternary": [
           {
            "marker": {
             "colorbar": {
              "outlinewidth": 0,
              "ticks": ""
             }
            },
            "type": "scatterternary"
           }
          ],
          "surface": [
           {
            "colorbar": {
             "outlinewidth": 0,
             "ticks": ""
            },
            "colorscale": [
             [
              0,
              "#0d0887"
             ],
             [
              0.1111111111111111,
              "#46039f"
             ],
             [
              0.2222222222222222,
              "#7201a8"
             ],
             [
              0.3333333333333333,
              "#9c179e"
             ],
             [
              0.4444444444444444,
              "#bd3786"
             ],
             [
              0.5555555555555556,
              "#d8576b"
             ],
             [
              0.6666666666666666,
              "#ed7953"
             ],
             [
              0.7777777777777778,
              "#fb9f3a"
             ],
             [
              0.8888888888888888,
              "#fdca26"
             ],
             [
              1,
              "#f0f921"
             ]
            ],
            "type": "surface"
           }
          ],
          "table": [
           {
            "cells": {
             "fill": {
              "color": "#EBF0F8"
             },
             "line": {
              "color": "white"
             }
            },
            "header": {
             "fill": {
              "color": "#C8D4E3"
             },
             "line": {
              "color": "white"
             }
            },
            "type": "table"
           }
          ]
         },
         "layout": {
          "annotationdefaults": {
           "arrowcolor": "#2a3f5f",
           "arrowhead": 0,
           "arrowwidth": 1
          },
          "coloraxis": {
           "colorbar": {
            "outlinewidth": 0,
            "ticks": ""
           }
          },
          "colorscale": {
           "diverging": [
            [
             0,
             "#8e0152"
            ],
            [
             0.1,
             "#c51b7d"
            ],
            [
             0.2,
             "#de77ae"
            ],
            [
             0.3,
             "#f1b6da"
            ],
            [
             0.4,
             "#fde0ef"
            ],
            [
             0.5,
             "#f7f7f7"
            ],
            [
             0.6,
             "#e6f5d0"
            ],
            [
             0.7,
             "#b8e186"
            ],
            [
             0.8,
             "#7fbc41"
            ],
            [
             0.9,
             "#4d9221"
            ],
            [
             1,
             "#276419"
            ]
           ],
           "sequential": [
            [
             0,
             "#0d0887"
            ],
            [
             0.1111111111111111,
             "#46039f"
            ],
            [
             0.2222222222222222,
             "#7201a8"
            ],
            [
             0.3333333333333333,
             "#9c179e"
            ],
            [
             0.4444444444444444,
             "#bd3786"
            ],
            [
             0.5555555555555556,
             "#d8576b"
            ],
            [
             0.6666666666666666,
             "#ed7953"
            ],
            [
             0.7777777777777778,
             "#fb9f3a"
            ],
            [
             0.8888888888888888,
             "#fdca26"
            ],
            [
             1,
             "#f0f921"
            ]
           ],
           "sequentialminus": [
            [
             0,
             "#0d0887"
            ],
            [
             0.1111111111111111,
             "#46039f"
            ],
            [
             0.2222222222222222,
             "#7201a8"
            ],
            [
             0.3333333333333333,
             "#9c179e"
            ],
            [
             0.4444444444444444,
             "#bd3786"
            ],
            [
             0.5555555555555556,
             "#d8576b"
            ],
            [
             0.6666666666666666,
             "#ed7953"
            ],
            [
             0.7777777777777778,
             "#fb9f3a"
            ],
            [
             0.8888888888888888,
             "#fdca26"
            ],
            [
             1,
             "#f0f921"
            ]
           ]
          },
          "colorway": [
           "#636efa",
           "#EF553B",
           "#00cc96",
           "#ab63fa",
           "#FFA15A",
           "#19d3f3",
           "#FF6692",
           "#B6E880",
           "#FF97FF",
           "#FECB52"
          ],
          "font": {
           "color": "#2a3f5f"
          },
          "geo": {
           "bgcolor": "white",
           "lakecolor": "white",
           "landcolor": "white",
           "showlakes": true,
           "showland": true,
           "subunitcolor": "#C8D4E3"
          },
          "hoverlabel": {
           "align": "left"
          },
          "hovermode": "closest",
          "mapbox": {
           "style": "light"
          },
          "paper_bgcolor": "white",
          "plot_bgcolor": "white",
          "polar": {
           "angularaxis": {
            "gridcolor": "#EBF0F8",
            "linecolor": "#EBF0F8",
            "ticks": ""
           },
           "bgcolor": "white",
           "radialaxis": {
            "gridcolor": "#EBF0F8",
            "linecolor": "#EBF0F8",
            "ticks": ""
           }
          },
          "scene": {
           "xaxis": {
            "backgroundcolor": "white",
            "gridcolor": "#DFE8F3",
            "gridwidth": 2,
            "linecolor": "#EBF0F8",
            "showbackground": true,
            "ticks": "",
            "zerolinecolor": "#EBF0F8"
           },
           "yaxis": {
            "backgroundcolor": "white",
            "gridcolor": "#DFE8F3",
            "gridwidth": 2,
            "linecolor": "#EBF0F8",
            "showbackground": true,
            "ticks": "",
            "zerolinecolor": "#EBF0F8"
           },
           "zaxis": {
            "backgroundcolor": "white",
            "gridcolor": "#DFE8F3",
            "gridwidth": 2,
            "linecolor": "#EBF0F8",
            "showbackground": true,
            "ticks": "",
            "zerolinecolor": "#EBF0F8"
           }
          },
          "shapedefaults": {
           "line": {
            "color": "#2a3f5f"
           }
          },
          "ternary": {
           "aaxis": {
            "gridcolor": "#DFE8F3",
            "linecolor": "#A2B1C6",
            "ticks": ""
           },
           "baxis": {
            "gridcolor": "#DFE8F3",
            "linecolor": "#A2B1C6",
            "ticks": ""
           },
           "bgcolor": "white",
           "caxis": {
            "gridcolor": "#DFE8F3",
            "linecolor": "#A2B1C6",
            "ticks": ""
           }
          },
          "title": {
           "x": 0.05
          },
          "xaxis": {
           "automargin": true,
           "gridcolor": "#EBF0F8",
           "linecolor": "#EBF0F8",
           "ticks": "",
           "title": {
            "standoff": 15
           },
           "zerolinecolor": "#EBF0F8",
           "zerolinewidth": 2
          },
          "yaxis": {
           "automargin": true,
           "gridcolor": "#EBF0F8",
           "linecolor": "#EBF0F8",
           "ticks": "",
           "title": {
            "standoff": 15
           },
           "zerolinecolor": "#EBF0F8",
           "zerolinewidth": 2
          }
         }
        },
        "updatemenus": [
         {
          "buttons": [
           {
            "args": [
             {
              "yaxis.type": "linear"
             }
            ],
            "label": "Linear y-scale",
            "method": "relayout"
           },
           {
            "args": [
             {
              "yaxis.type": "log"
             }
            ],
            "label": "Log y-scale",
            "method": "relayout"
           }
          ],
          "direction": "left",
          "pad": {
           "r": 0,
           "t": -10
          },
          "showactive": true,
          "type": "buttons",
          "x": 0,
          "xanchor": "left",
          "y": 1.15,
          "yanchor": "top"
         }
        ],
        "xaxis": {
         "title": {
          "text": "$\\text{Time in day}$"
         }
        },
        "yaxis": {
         "title": {
          "text": "$\\text{Tumour volume in cm}^3$"
         }
        }
       }
      }
     },
     "metadata": {}
    }
   ],
   "source": [
    "# Create scatter plot\n",
    "fig = eplt.PDTimeSeriesPlot()\n",
    "fig.add_data(data, biomarker='Tumour volume')\n",
    "fig.set_axis_labels(xlabel=r'$\\text{Time in day}$', ylabel=r'$\\text{Tumour volume in cm}^3$')\n",
    "\n",
    "# Show figure\n",
    "fig.show()"
   ]
  },
  {
   "cell_type": "markdown",
   "metadata": {},
   "source": [
    "**Figure 2:** Tumour volume time series in lung cancer treatment group with medium erlotinib dose ($25\\, \\text{mg}$ oral dose per $\\text{g}$ body weight)."
   ]
  },
  {
   "cell_type": "markdown",
   "metadata": {},
   "source": [
    "## Export data"
   ]
  },
  {
   "cell_type": "code",
   "execution_count": 12,
   "metadata": {},
   "outputs": [],
   "source": [
    "# Export cleaned LXF A677 control growth data\n",
    "path = os.path.dirname(os.getcwd())\n",
    "data.to_csv(path_or_buf=path + '/data/lxf_medium_erlotinib_dose.csv', index=False)"
   ]
  }
 ],
 "metadata": {
  "kernelspec": {
   "display_name": "Python 3",
   "language": "python",
   "name": "python3"
  },
  "language_info": {
   "codemirror_mode": {
    "name": "ipython",
    "version": 3
   },
   "file_extension": ".py",
   "mimetype": "text/x-python",
   "name": "python",
   "nbconvert_exporter": "python",
   "pygments_lexer": "ipython3",
   "version": "3.7.5-final"
  },
  "widgets": {
   "application/vnd.jupyter.widget-state+json": {
    "state": {},
    "version_major": 2,
    "version_minor": 0
   }
  }
 },
 "nbformat": 4,
 "nbformat_minor": 2
}