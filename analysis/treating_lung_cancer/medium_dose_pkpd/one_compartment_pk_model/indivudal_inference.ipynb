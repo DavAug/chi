{
 "metadata": {
  "language_info": {
   "codemirror_mode": {
    "name": "ipython",
    "version": 3
   },
   "file_extension": ".py",
   "mimetype": "text/x-python",
   "name": "python",
   "nbconvert_exporter": "python",
   "pygments_lexer": "ipython3",
   "version": "3.7.5-final"
  },
  "orig_nbformat": 2,
  "kernelspec": {
   "name": "python3",
   "display_name": "Python 3"
  }
 },
 "nbformat": 4,
 "nbformat_minor": 2,
 "cells": [
  {
   "source": [
    "# Infer Model Parameters for Individuals in Lung Cancer Treatment Group with Medium Erlotinib Dose"
   ],
   "cell_type": "markdown",
   "metadata": {}
  },
  {
   "cell_type": "code",
   "execution_count": 2,
   "metadata": {},
   "outputs": [
    {
     "output_type": "display_data",
     "data": {
      "application/vnd.plotly.v1+json": {
       "config": {
        "plotlyServerURL": "https://plot.ly"
       },
       "data": [
        {
         "legendgroup": "ID: 34",
         "marker": {
          "color": "#636EFA",
          "line": {
           "color": "black",
           "width": 1
          },
          "opacity": 0.7,
          "symbol": "circle"
         },
         "mode": "markers",
         "name": "ID: 34",
         "showlegend": false,
         "type": "scatter",
         "x": [
          0,
          2,
          4,
          7,
          9,
          10.01875,
          11,
          14,
          15.99375,
          16,
          18,
          21,
          23,
          25,
          28,
          30,
          3,
          5,
          6,
          8,
          10,
          12,
          13,
          15
         ],
         "xaxis": "x",
         "y": [
          null,
          null,
          0.7000000000000001,
          0.7000000000000001,
          0.7000000000000001,
          null,
          0.675,
          0.675,
          null,
          0.675,
          null,
          null,
          null,
          null,
          null,
          null,
          0.675,
          0.7000000000000001,
          0.7000000000000001,
          0.7000000000000001,
          0.7000000000000001,
          0.675,
          0.675,
          0.675
         ],
         "yaxis": "y"
        },
        {
         "legendgroup": "ID: 34",
         "marker": {
          "color": "#636EFA",
          "line": {
           "color": "black",
           "width": 1
          },
          "opacity": 0.7,
          "symbol": "circle"
         },
         "mode": "markers",
         "name": "ID: 34",
         "showlegend": true,
         "type": "scatter",
         "x": [
          0,
          2,
          4,
          7,
          9,
          10.01875,
          11,
          14,
          15.99375,
          16,
          18,
          21,
          23,
          25,
          28,
          30,
          3,
          5,
          6,
          8,
          10,
          12,
          13,
          15
         ],
         "xaxis": "x2",
         "y": [
          null,
          null,
          null,
          null,
          null,
          3.5,
          null,
          null,
          null,
          null,
          null,
          null,
          null,
          null,
          null,
          null,
          null,
          null,
          null,
          null,
          null,
          null,
          null,
          null
         ],
         "yaxis": "y2"
        },
        {
         "legendgroup": "ID: 52",
         "marker": {
          "color": "#EF553B",
          "line": {
           "color": "black",
           "width": 1
          },
          "opacity": 0.7,
          "symbol": "circle"
         },
         "mode": "markers",
         "name": "ID: 52",
         "showlegend": false,
         "type": "scatter",
         "x": [
          0,
          2,
          4,
          7,
          9,
          9.995833333,
          11,
          14,
          16,
          16.99930556,
          18,
          21,
          23,
          25,
          28,
          30,
          3,
          5,
          6,
          8,
          10,
          12,
          13,
          15
         ],
         "xaxis": "x",
         "y": [
          null,
          null,
          0.625,
          0.65,
          0.65,
          null,
          0.625,
          0.65,
          0.65,
          null,
          null,
          null,
          null,
          null,
          null,
          null,
          0.65,
          0.625,
          0.625,
          0.65,
          0.65,
          0.625,
          0.625,
          0.65
         ],
         "yaxis": "y"
        },
        {
         "legendgroup": "ID: 52",
         "marker": {
          "color": "#EF553B",
          "line": {
           "color": "black",
           "width": 1
          },
          "opacity": 0.7,
          "symbol": "circle"
         },
         "mode": "markers",
         "name": "ID: 52",
         "showlegend": true,
         "type": "scatter",
         "x": [
          0,
          2,
          4,
          7,
          9,
          9.995833333,
          11,
          14,
          16,
          16.99930556,
          18,
          21,
          23,
          25,
          28,
          30,
          3,
          5,
          6,
          8,
          10,
          12,
          13,
          15
         ],
         "xaxis": "x2",
         "y": [
          null,
          null,
          null,
          null,
          null,
          0.008060000000000001,
          null,
          null,
          null,
          null,
          null,
          null,
          null,
          null,
          null,
          null,
          null,
          null,
          null,
          null,
          null,
          null,
          null,
          null
         ],
         "yaxis": "y2"
        },
        {
         "legendgroup": "ID: 91",
         "marker": {
          "color": "#00CC96",
          "line": {
           "color": "black",
           "width": 1
          },
          "opacity": 0.7,
          "symbol": "circle"
         },
         "mode": "markers",
         "name": "ID: 91",
         "showlegend": false,
         "type": "scatter",
         "x": [
          0,
          2,
          4,
          7,
          9,
          10.04375,
          11,
          14,
          16,
          16.10277778,
          18,
          21,
          23,
          25,
          28,
          30,
          3,
          5,
          6,
          8,
          10,
          12,
          13,
          15
         ],
         "xaxis": "x",
         "y": [
          null,
          null,
          0.625,
          0.65,
          0.675,
          null,
          0.625,
          0.65,
          0.675,
          null,
          null,
          null,
          null,
          null,
          null,
          null,
          0.625,
          0.625,
          0.625,
          0.65,
          0.675,
          0.625,
          0.625,
          0.65
         ],
         "yaxis": "y"
        },
        {
         "legendgroup": "ID: 91",
         "marker": {
          "color": "#00CC96",
          "line": {
           "color": "black",
           "width": 1
          },
          "opacity": 0.7,
          "symbol": "circle"
         },
         "mode": "markers",
         "name": "ID: 91",
         "showlegend": true,
         "type": "scatter",
         "x": [
          0,
          2,
          4,
          7,
          9,
          10.04375,
          11,
          14,
          16,
          16.10277778,
          18,
          21,
          23,
          25,
          28,
          30,
          3,
          5,
          6,
          8,
          10,
          12,
          13,
          15
         ],
         "xaxis": "x2",
         "y": [
          null,
          null,
          null,
          null,
          null,
          4.34,
          null,
          null,
          null,
          1.97,
          null,
          null,
          null,
          null,
          null,
          null,
          null,
          null,
          null,
          null,
          null,
          null,
          null,
          null
         ],
         "yaxis": "y2"
        },
        {
         "legendgroup": "ID: 108",
         "marker": {
          "color": "#AB63FA",
          "line": {
           "color": "black",
           "width": 1
          },
          "opacity": 0.7,
          "symbol": "circle"
         },
         "mode": "markers",
         "name": "ID: 108",
         "showlegend": false,
         "type": "scatter",
         "x": [
          0,
          2,
          4,
          7,
          9,
          10.01041667,
          11,
          14,
          16,
          16.41666667,
          18,
          21,
          23,
          25,
          28,
          30,
          3,
          5,
          6,
          8,
          10,
          12,
          13,
          15
         ],
         "xaxis": "x",
         "y": [
          null,
          null,
          0.625,
          0.625,
          0.625,
          null,
          0.625,
          0.675,
          0.675,
          null,
          null,
          null,
          null,
          null,
          null,
          null,
          0.65,
          0.625,
          0.625,
          0.625,
          0.625,
          0.625,
          0.625,
          0.675
         ],
         "yaxis": "y"
        },
        {
         "legendgroup": "ID: 108",
         "marker": {
          "color": "#AB63FA",
          "line": {
           "color": "black",
           "width": 1
          },
          "opacity": 0.7,
          "symbol": "circle"
         },
         "mode": "markers",
         "name": "ID: 108",
         "showlegend": true,
         "type": "scatter",
         "x": [
          0,
          2,
          4,
          7,
          9,
          10.01041667,
          11,
          14,
          16,
          16.41666667,
          18,
          21,
          23,
          25,
          28,
          30,
          3,
          5,
          6,
          8,
          10,
          12,
          13,
          15
         ],
         "xaxis": "x2",
         "y": [
          null,
          null,
          null,
          null,
          null,
          2.38,
          null,
          null,
          null,
          0.326,
          null,
          null,
          null,
          null,
          null,
          null,
          null,
          null,
          null,
          null,
          null,
          null,
          null,
          null
         ],
         "yaxis": "y2"
        },
        {
         "legendgroup": "ID: 122",
         "marker": {
          "color": "#FFA15A",
          "line": {
           "color": "black",
           "width": 1
          },
          "opacity": 0.7,
          "symbol": "circle"
         },
         "mode": "markers",
         "name": "ID: 122",
         "showlegend": false,
         "type": "scatter",
         "x": [
          0,
          2,
          4,
          7,
          9,
          10.20833333,
          11,
          14,
          16,
          16.04097222,
          18,
          21,
          23,
          25,
          28,
          30,
          3,
          5,
          6,
          8,
          10,
          12,
          13,
          15
         ],
         "xaxis": "x",
         "y": [
          null,
          null,
          0.6,
          0.6,
          0.5750000000000001,
          null,
          0.5750000000000001,
          0.625,
          0.6,
          null,
          null,
          null,
          null,
          null,
          null,
          null,
          0.6,
          0.6,
          0.6,
          0.6,
          0.5750000000000001,
          0.5750000000000001,
          0.5750000000000001,
          0.625
         ],
         "yaxis": "y"
        },
        {
         "legendgroup": "ID: 122",
         "marker": {
          "color": "#FFA15A",
          "line": {
           "color": "black",
           "width": 1
          },
          "opacity": 0.7,
          "symbol": "circle"
         },
         "mode": "markers",
         "name": "ID: 122",
         "showlegend": true,
         "type": "scatter",
         "x": [
          0,
          2,
          4,
          7,
          9,
          10.20833333,
          11,
          14,
          16,
          16.04097222,
          18,
          21,
          23,
          25,
          28,
          30,
          3,
          5,
          6,
          8,
          10,
          12,
          13,
          15
         ],
         "xaxis": "x2",
         "y": [
          null,
          null,
          null,
          null,
          null,
          0.8280000000000001,
          null,
          null,
          null,
          3.54,
          null,
          null,
          null,
          null,
          null,
          null,
          null,
          null,
          null,
          null,
          null,
          null,
          null,
          null
         ],
         "yaxis": "y2"
        },
        {
         "legendgroup": "ID: 129",
         "marker": {
          "color": "#19D3F3",
          "line": {
           "color": "black",
           "width": 1
          },
          "opacity": 0.7,
          "symbol": "circle"
         },
         "mode": "markers",
         "name": "ID: 129",
         "showlegend": false,
         "type": "scatter",
         "x": [
          0,
          2,
          4,
          7,
          9,
          10.10347222,
          11,
          14,
          16,
          16.20972222,
          18,
          21,
          23,
          25,
          28,
          30,
          3,
          5,
          6,
          8,
          10,
          12,
          13,
          15
         ],
         "xaxis": "x",
         "y": [
          null,
          null,
          0.725,
          0.7000000000000001,
          0.7000000000000001,
          null,
          0.675,
          0.7000000000000001,
          0.7000000000000001,
          null,
          null,
          null,
          null,
          null,
          null,
          null,
          0.725,
          0.725,
          0.725,
          0.7000000000000001,
          0.7000000000000001,
          0.675,
          0.675,
          0.7000000000000001
         ],
         "yaxis": "y"
        },
        {
         "legendgroup": "ID: 129",
         "marker": {
          "color": "#19D3F3",
          "line": {
           "color": "black",
           "width": 1
          },
          "opacity": 0.7,
          "symbol": "circle"
         },
         "mode": "markers",
         "name": "ID: 129",
         "showlegend": true,
         "type": "scatter",
         "x": [
          0,
          2,
          4,
          7,
          9,
          10.10347222,
          11,
          14,
          16,
          16.20972222,
          18,
          21,
          23,
          25,
          28,
          30,
          3,
          5,
          6,
          8,
          10,
          12,
          13,
          15
         ],
         "xaxis": "x2",
         "y": [
          null,
          null,
          null,
          null,
          null,
          2.27,
          null,
          null,
          null,
          1.07,
          null,
          null,
          null,
          null,
          null,
          null,
          null,
          null,
          null,
          null,
          null,
          null,
          null,
          null
         ],
         "yaxis": "y2"
        },
        {
         "legendgroup": "ID: 163",
         "marker": {
          "color": "#FF6692",
          "line": {
           "color": "black",
           "width": 1
          },
          "opacity": 0.7,
          "symbol": "circle"
         },
         "mode": "markers",
         "name": "ID: 163",
         "showlegend": false,
         "type": "scatter",
         "x": [
          0,
          2,
          4,
          7,
          9,
          10.41527778,
          11,
          14,
          16,
          16.01111111,
          18,
          21,
          23,
          25,
          28,
          30,
          3,
          5,
          6,
          8,
          10,
          12,
          13,
          15
         ],
         "xaxis": "x",
         "y": [
          null,
          null,
          0.6,
          0.625,
          0.625,
          null,
          0.5750000000000001,
          0.6,
          0.6,
          null,
          null,
          null,
          null,
          null,
          null,
          null,
          0.625,
          0.6,
          0.6,
          0.625,
          0.625,
          0.5750000000000001,
          0.5750000000000001,
          0.6
         ],
         "yaxis": "y"
        },
        {
         "legendgroup": "ID: 163",
         "marker": {
          "color": "#FF6692",
          "line": {
           "color": "black",
           "width": 1
          },
          "opacity": 0.7,
          "symbol": "circle"
         },
         "mode": "markers",
         "name": "ID: 163",
         "showlegend": true,
         "type": "scatter",
         "x": [
          0,
          2,
          4,
          7,
          9,
          10.41527778,
          11,
          14,
          16,
          16.01111111,
          18,
          21,
          23,
          25,
          28,
          30,
          3,
          5,
          6,
          8,
          10,
          12,
          13,
          15
         ],
         "xaxis": "x2",
         "y": [
          null,
          null,
          null,
          null,
          null,
          1.35,
          null,
          null,
          null,
          3.14,
          null,
          null,
          null,
          null,
          null,
          null,
          null,
          null,
          null,
          null,
          null,
          null,
          null,
          null
         ],
         "yaxis": "y2"
        },
        {
         "legendgroup": "ID: 167",
         "marker": {
          "color": "#B6E880",
          "line": {
           "color": "black",
           "width": 1
          },
          "opacity": 0.7,
          "symbol": "circle"
         },
         "mode": "markers",
         "name": "ID: 167",
         "showlegend": false,
         "type": "scatter",
         "x": [
          0,
          2,
          4,
          7,
          9,
          11,
          11.00208333,
          14,
          16,
          16.02291667,
          18,
          21,
          23,
          25,
          28,
          30,
          3,
          5,
          6,
          8,
          10,
          12,
          13,
          15
         ],
         "xaxis": "x",
         "y": [
          null,
          null,
          0.7000000000000001,
          0.7000000000000001,
          0.7000000000000001,
          0.675,
          null,
          0.675,
          0.675,
          null,
          null,
          null,
          null,
          null,
          null,
          null,
          0.675,
          0.7000000000000001,
          0.7000000000000001,
          0.7000000000000001,
          0.7000000000000001,
          0.675,
          0.675,
          0.675
         ],
         "yaxis": "y"
        },
        {
         "legendgroup": "ID: 167",
         "marker": {
          "color": "#B6E880",
          "line": {
           "color": "black",
           "width": 1
          },
          "opacity": 0.7,
          "symbol": "circle"
         },
         "mode": "markers",
         "name": "ID: 167",
         "showlegend": true,
         "type": "scatter",
         "x": [
          0,
          2,
          4,
          7,
          9,
          11,
          11.00208333,
          14,
          16,
          16.02291667,
          18,
          21,
          23,
          25,
          28,
          30,
          3,
          5,
          6,
          8,
          10,
          12,
          13,
          15
         ],
         "xaxis": "x2",
         "y": [
          null,
          null,
          null,
          null,
          null,
          null,
          null,
          null,
          null,
          3,
          null,
          null,
          null,
          null,
          null,
          null,
          null,
          null,
          null,
          null,
          null,
          null,
          null,
          null
         ],
         "yaxis": "y2"
        }
       ],
       "layout": {
        "autosize": true,
        "template": {
         "data": {
          "bar": [
           {
            "error_x": {
             "color": "#2a3f5f"
            },
            "error_y": {
             "color": "#2a3f5f"
            },
            "marker": {
             "line": {
              "color": "white",
              "width": 0.5
             }
            },
            "type": "bar"
           }
          ],
          "barpolar": [
           {
            "marker": {
             "line": {
              "color": "white",
              "width": 0.5
             }
            },
            "type": "barpolar"
           }
          ],
          "carpet": [
           {
            "aaxis": {
             "endlinecolor": "#2a3f5f",
             "gridcolor": "#C8D4E3",
             "linecolor": "#C8D4E3",
             "minorgridcolor": "#C8D4E3",
             "startlinecolor": "#2a3f5f"
            },
            "baxis": {
             "endlinecolor": "#2a3f5f",
             "gridcolor": "#C8D4E3",
             "linecolor": "#C8D4E3",
             "minorgridcolor": "#C8D4E3",
             "startlinecolor": "#2a3f5f"
            },
            "type": "carpet"
           }
          ],
          "choropleth": [
           {
            "colorbar": {
             "outlinewidth": 0,
             "ticks": ""
            },
            "type": "choropleth"
           }
          ],
          "contour": [
           {
            "colorbar": {
             "outlinewidth": 0,
             "ticks": ""
            },
            "colorscale": [
             [
              0,
              "#0d0887"
             ],
             [
              0.1111111111111111,
              "#46039f"
             ],
             [
              0.2222222222222222,
              "#7201a8"
             ],
             [
              0.3333333333333333,
              "#9c179e"
             ],
             [
              0.4444444444444444,
              "#bd3786"
             ],
             [
              0.5555555555555556,
              "#d8576b"
             ],
             [
              0.6666666666666666,
              "#ed7953"
             ],
             [
              0.7777777777777778,
              "#fb9f3a"
             ],
             [
              0.8888888888888888,
              "#fdca26"
             ],
             [
              1,
              "#f0f921"
             ]
            ],
            "type": "contour"
           }
          ],
          "contourcarpet": [
           {
            "colorbar": {
             "outlinewidth": 0,
             "ticks": ""
            },
            "type": "contourcarpet"
           }
          ],
          "heatmap": [
           {
            "colorbar": {
             "outlinewidth": 0,
             "ticks": ""
            },
            "colorscale": [
             [
              0,
              "#0d0887"
             ],
             [
              0.1111111111111111,
              "#46039f"
             ],
             [
              0.2222222222222222,
              "#7201a8"
             ],
             [
              0.3333333333333333,
              "#9c179e"
             ],
             [
              0.4444444444444444,
              "#bd3786"
             ],
             [
              0.5555555555555556,
              "#d8576b"
             ],
             [
              0.6666666666666666,
              "#ed7953"
             ],
             [
              0.7777777777777778,
              "#fb9f3a"
             ],
             [
              0.8888888888888888,
              "#fdca26"
             ],
             [
              1,
              "#f0f921"
             ]
            ],
            "type": "heatmap"
           }
          ],
          "heatmapgl": [
           {
            "colorbar": {
             "outlinewidth": 0,
             "ticks": ""
            },
            "colorscale": [
             [
              0,
              "#0d0887"
             ],
             [
              0.1111111111111111,
              "#46039f"
             ],
             [
              0.2222222222222222,
              "#7201a8"
             ],
             [
              0.3333333333333333,
              "#9c179e"
             ],
             [
              0.4444444444444444,
              "#bd3786"
             ],
             [
              0.5555555555555556,
              "#d8576b"
             ],
             [
              0.6666666666666666,
              "#ed7953"
             ],
             [
              0.7777777777777778,
              "#fb9f3a"
             ],
             [
              0.8888888888888888,
              "#fdca26"
             ],
             [
              1,
              "#f0f921"
             ]
            ],
            "type": "heatmapgl"
           }
          ],
          "histogram": [
           {
            "marker": {
             "colorbar": {
              "outlinewidth": 0,
              "ticks": ""
             }
            },
            "type": "histogram"
           }
          ],
          "histogram2d": [
           {
            "colorbar": {
             "outlinewidth": 0,
             "ticks": ""
            },
            "colorscale": [
             [
              0,
              "#0d0887"
             ],
             [
              0.1111111111111111,
              "#46039f"
             ],
             [
              0.2222222222222222,
              "#7201a8"
             ],
             [
              0.3333333333333333,
              "#9c179e"
             ],
             [
              0.4444444444444444,
              "#bd3786"
             ],
             [
              0.5555555555555556,
              "#d8576b"
             ],
             [
              0.6666666666666666,
              "#ed7953"
             ],
             [
              0.7777777777777778,
              "#fb9f3a"
             ],
             [
              0.8888888888888888,
              "#fdca26"
             ],
             [
              1,
              "#f0f921"
             ]
            ],
            "type": "histogram2d"
           }
          ],
          "histogram2dcontour": [
           {
            "colorbar": {
             "outlinewidth": 0,
             "ticks": ""
            },
            "colorscale": [
             [
              0,
              "#0d0887"
             ],
             [
              0.1111111111111111,
              "#46039f"
             ],
             [
              0.2222222222222222,
              "#7201a8"
             ],
             [
              0.3333333333333333,
              "#9c179e"
             ],
             [
              0.4444444444444444,
              "#bd3786"
             ],
             [
              0.5555555555555556,
              "#d8576b"
             ],
             [
              0.6666666666666666,
              "#ed7953"
             ],
             [
              0.7777777777777778,
              "#fb9f3a"
             ],
             [
              0.8888888888888888,
              "#fdca26"
             ],
             [
              1,
              "#f0f921"
             ]
            ],
            "type": "histogram2dcontour"
           }
          ],
          "mesh3d": [
           {
            "colorbar": {
             "outlinewidth": 0,
             "ticks": ""
            },
            "type": "mesh3d"
           }
          ],
          "parcoords": [
           {
            "line": {
             "colorbar": {
              "outlinewidth": 0,
              "ticks": ""
             }
            },
            "type": "parcoords"
           }
          ],
          "pie": [
           {
            "automargin": true,
            "type": "pie"
           }
          ],
          "scatter": [
           {
            "marker": {
             "colorbar": {
              "outlinewidth": 0,
              "ticks": ""
             }
            },
            "type": "scatter"
           }
          ],
          "scatter3d": [
           {
            "line": {
             "colorbar": {
              "outlinewidth": 0,
              "ticks": ""
             }
            },
            "marker": {
             "colorbar": {
              "outlinewidth": 0,
              "ticks": ""
             }
            },
            "type": "scatter3d"
           }
          ],
          "scattercarpet": [
           {
            "marker": {
             "colorbar": {
              "outlinewidth": 0,
              "ticks": ""
             }
            },
            "type": "scattercarpet"
           }
          ],
          "scattergeo": [
           {
            "marker": {
             "colorbar": {
              "outlinewidth": 0,
              "ticks": ""
             }
            },
            "type": "scattergeo"
           }
          ],
          "scattergl": [
           {
            "marker": {
             "colorbar": {
              "outlinewidth": 0,
              "ticks": ""
             }
            },
            "type": "scattergl"
           }
          ],
          "scattermapbox": [
           {
            "marker": {
             "colorbar": {
              "outlinewidth": 0,
              "ticks": ""
             }
            },
            "type": "scattermapbox"
           }
          ],
          "scatterpolar": [
           {
            "marker": {
             "colorbar": {
              "outlinewidth": 0,
              "ticks": ""
             }
            },
            "type": "scatterpolar"
           }
          ],
          "scatterpolargl": [
           {
            "marker": {
             "colorbar": {
              "outlinewidth": 0,
              "ticks": ""
             }
            },
            "type": "scatterpolargl"
           }
          ],
          "scatterternary": [
           {
            "marker": {
             "colorbar": {
              "outlinewidth": 0,
              "ticks": ""
             }
            },
            "type": "scatterternary"
           }
          ],
          "surface": [
           {
            "colorbar": {
             "outlinewidth": 0,
             "ticks": ""
            },
            "colorscale": [
             [
              0,
              "#0d0887"
             ],
             [
              0.1111111111111111,
              "#46039f"
             ],
             [
              0.2222222222222222,
              "#7201a8"
             ],
             [
              0.3333333333333333,
              "#9c179e"
             ],
             [
              0.4444444444444444,
              "#bd3786"
             ],
             [
              0.5555555555555556,
              "#d8576b"
             ],
             [
              0.6666666666666666,
              "#ed7953"
             ],
             [
              0.7777777777777778,
              "#fb9f3a"
             ],
             [
              0.8888888888888888,
              "#fdca26"
             ],
             [
              1,
              "#f0f921"
             ]
            ],
            "type": "surface"
           }
          ],
          "table": [
           {
            "cells": {
             "fill": {
              "color": "#EBF0F8"
             },
             "line": {
              "color": "white"
             }
            },
            "header": {
             "fill": {
              "color": "#C8D4E3"
             },
             "line": {
              "color": "white"
             }
            },
            "type": "table"
           }
          ]
         },
         "layout": {
          "annotationdefaults": {
           "arrowcolor": "#2a3f5f",
           "arrowhead": 0,
           "arrowwidth": 1
          },
          "coloraxis": {
           "colorbar": {
            "outlinewidth": 0,
            "ticks": ""
           }
          },
          "colorscale": {
           "diverging": [
            [
             0,
             "#8e0152"
            ],
            [
             0.1,
             "#c51b7d"
            ],
            [
             0.2,
             "#de77ae"
            ],
            [
             0.3,
             "#f1b6da"
            ],
            [
             0.4,
             "#fde0ef"
            ],
            [
             0.5,
             "#f7f7f7"
            ],
            [
             0.6,
             "#e6f5d0"
            ],
            [
             0.7,
             "#b8e186"
            ],
            [
             0.8,
             "#7fbc41"
            ],
            [
             0.9,
             "#4d9221"
            ],
            [
             1,
             "#276419"
            ]
           ],
           "sequential": [
            [
             0,
             "#0d0887"
            ],
            [
             0.1111111111111111,
             "#46039f"
            ],
            [
             0.2222222222222222,
             "#7201a8"
            ],
            [
             0.3333333333333333,
             "#9c179e"
            ],
            [
             0.4444444444444444,
             "#bd3786"
            ],
            [
             0.5555555555555556,
             "#d8576b"
            ],
            [
             0.6666666666666666,
             "#ed7953"
            ],
            [
             0.7777777777777778,
             "#fb9f3a"
            ],
            [
             0.8888888888888888,
             "#fdca26"
            ],
            [
             1,
             "#f0f921"
            ]
           ],
           "sequentialminus": [
            [
             0,
             "#0d0887"
            ],
            [
             0.1111111111111111,
             "#46039f"
            ],
            [
             0.2222222222222222,
             "#7201a8"
            ],
            [
             0.3333333333333333,
             "#9c179e"
            ],
            [
             0.4444444444444444,
             "#bd3786"
            ],
            [
             0.5555555555555556,
             "#d8576b"
            ],
            [
             0.6666666666666666,
             "#ed7953"
            ],
            [
             0.7777777777777778,
             "#fb9f3a"
            ],
            [
             0.8888888888888888,
             "#fdca26"
            ],
            [
             1,
             "#f0f921"
            ]
           ]
          },
          "colorway": [
           "#636efa",
           "#EF553B",
           "#00cc96",
           "#ab63fa",
           "#FFA15A",
           "#19d3f3",
           "#FF6692",
           "#B6E880",
           "#FF97FF",
           "#FECB52"
          ],
          "font": {
           "color": "#2a3f5f"
          },
          "geo": {
           "bgcolor": "white",
           "lakecolor": "white",
           "landcolor": "white",
           "showlakes": true,
           "showland": true,
           "subunitcolor": "#C8D4E3"
          },
          "hoverlabel": {
           "align": "left"
          },
          "hovermode": "closest",
          "mapbox": {
           "style": "light"
          },
          "paper_bgcolor": "white",
          "plot_bgcolor": "white",
          "polar": {
           "angularaxis": {
            "gridcolor": "#EBF0F8",
            "linecolor": "#EBF0F8",
            "ticks": ""
           },
           "bgcolor": "white",
           "radialaxis": {
            "gridcolor": "#EBF0F8",
            "linecolor": "#EBF0F8",
            "ticks": ""
           }
          },
          "scene": {
           "xaxis": {
            "backgroundcolor": "white",
            "gridcolor": "#DFE8F3",
            "gridwidth": 2,
            "linecolor": "#EBF0F8",
            "showbackground": true,
            "ticks": "",
            "zerolinecolor": "#EBF0F8"
           },
           "yaxis": {
            "backgroundcolor": "white",
            "gridcolor": "#DFE8F3",
            "gridwidth": 2,
            "linecolor": "#EBF0F8",
            "showbackground": true,
            "ticks": "",
            "zerolinecolor": "#EBF0F8"
           },
           "zaxis": {
            "backgroundcolor": "white",
            "gridcolor": "#DFE8F3",
            "gridwidth": 2,
            "linecolor": "#EBF0F8",
            "showbackground": true,
            "ticks": "",
            "zerolinecolor": "#EBF0F8"
           }
          },
          "shapedefaults": {
           "line": {
            "color": "#2a3f5f"
           }
          },
          "ternary": {
           "aaxis": {
            "gridcolor": "#DFE8F3",
            "linecolor": "#A2B1C6",
            "ticks": ""
           },
           "baxis": {
            "gridcolor": "#DFE8F3",
            "linecolor": "#A2B1C6",
            "ticks": ""
           },
           "bgcolor": "white",
           "caxis": {
            "gridcolor": "#DFE8F3",
            "linecolor": "#A2B1C6",
            "ticks": ""
           }
          },
          "title": {
           "x": 0.05
          },
          "xaxis": {
           "automargin": true,
           "gridcolor": "#EBF0F8",
           "linecolor": "#EBF0F8",
           "ticks": "",
           "title": {
            "standoff": 15
           },
           "zerolinecolor": "#EBF0F8",
           "zerolinewidth": 2
          },
          "yaxis": {
           "automargin": true,
           "gridcolor": "#EBF0F8",
           "linecolor": "#EBF0F8",
           "ticks": "",
           "title": {
            "standoff": 15
           },
           "zerolinecolor": "#EBF0F8",
           "zerolinewidth": 2
          }
         }
        },
        "updatemenus": [
         {
          "buttons": [
           {
            "args": [
             {
              "yaxis2.type": "linear"
             }
            ],
            "label": "Linear y-scale",
            "method": "relayout"
           },
           {
            "args": [
             {
              "yaxis2.type": "log"
             }
            ],
            "label": "Log y-scale",
            "method": "relayout"
           }
          ],
          "direction": "left",
          "pad": {
           "r": 0,
           "t": -10
          },
          "showactive": true,
          "type": "buttons",
          "x": 0,
          "xanchor": "left",
          "y": 1.15,
          "yanchor": "top"
         }
        ],
        "xaxis": {
         "anchor": "y",
         "domain": [
          0,
          1
         ],
         "matches": "x2",
         "showticklabels": false
        },
        "xaxis2": {
         "anchor": "y2",
         "domain": [
          0,
          1
         ],
         "title": {
          "text": "$\\text{Time in day}$"
         }
        },
        "yaxis": {
         "anchor": "x",
         "domain": [
          0.81,
          1
         ],
         "title": {
          "text": "$\\text{Dose in mg}$"
         }
        },
        "yaxis2": {
         "anchor": "x2",
         "domain": [
          0,
          0.76
         ],
         "title": {
          "text": "$\\text{Plasma concentration in mg/L}$"
         }
        }
       }
      }
     },
     "metadata": {}
    }
   ],
   "source": [
    "import erlotinib as erlo\n",
    "\n",
    "\n",
    "# Get data\n",
    "data = erlo.DataLibrary().lung_cancer_medium_erlotinib_dose_group()\n",
    "\n",
    "# Create scatter plot\n",
    "fig = erlo.plots.PKTimeSeriesPlot()\n",
    "fig.add_data(data, id_key='#ID', time_key='TIME in day', biom_key='PLASMA CONCENTRATION in mg/L', dose_key='DOSE in mg')\n",
    "fig.set_axis_labels(\n",
    "    time_label=r'$\\text{Time in day}$', biom_label=r'$\\text{Plasma concentration in mg/L}$', \n",
    "    dose_label=r'$\\text{Dose in mg}$')\n",
    "\n",
    "# Show figure\n",
    "fig.show()"
   ]
  },
  {
   "source": [
    "**Figure 1:** To be completed."
   ],
   "cell_type": "markdown",
   "metadata": {}
  },
  {
   "source": [
    "## Find MAP estimates for model parameters"
   ],
   "cell_type": "markdown",
   "metadata": {}
  },
  {
   "cell_type": "code",
   "execution_count": 9,
   "metadata": {},
   "outputs": [
    {
     "output_type": "display_data",
     "data": {
      "text/plain": "HBox(children=(FloatProgress(value=0.0, max=8.0), HTML(value='')))",
      "application/vnd.jupyter.widget-view+json": {
       "version_major": 2,
       "version_minor": 0,
       "model_id": "e89961f23b6d47b28664b6331f5052f1"
      }
     },
     "metadata": {}
    },
    {
     "output_type": "stream",
     "name": "stdout",
     "text": [
      "\n"
     ]
    }
   ],
   "source": [
    "import pints\n",
    "\n",
    "\n",
    "# Define mechanistic model\n",
    "path = erlo.ModelLibrary().one_compartment_pk_model()\n",
    "model = erlo.PharmacokineticModel(path)\n",
    "model.set_administration(compartment='central', direct=False)\n",
    "model.set_parameter_names(names={\n",
    "        'central.drug_amount': 'Central comp. drug amount in mg',\n",
    "        'dose.drug_amount': 'Dose comp. drug amount in mg',\n",
    "        'central.size': 'Volume of distribution in L',\n",
    "        'dose.absorption_rate': 'Absorption rate in 1/day',\n",
    "        'myokit.elimination_rate': 'Elimination rate in 1/day'})\n",
    "\n",
    "# Create model\n",
    "problem = erlo.ProblemModellingController(\n",
    "    data, id_key='#ID', time_key='TIME in day', biom_keys=['PLASMA CONCENTRATION in mg/L'], dose_key='DOSE in mg')\n",
    "problem.set_mechanistic_model(model)\n",
    "problem.set_error_model(\n",
    "    error_models=[pints.ConstantAndMultiplicativeGaussianLogLikelihood])\n",
    "problem.fix_parameters(name_value_dict=dict({\n",
    "    'Central comp. drug amount in mg': 0,\n",
    "    'Dose comp. drug amount in mg': 0,\n",
    "    'Noise param 2': 1}))\n",
    "\n",
    "# Create posterior\n",
    "log_prior_volume = pints.HalfCauchyLogPrior(location=0, scale=3)\n",
    "log_prior_absorption_rate = pints.HalfCauchyLogPrior(location=0, scale=3)\n",
    "log_prior_elimination_rate = pints.HalfCauchyLogPrior(location=0, scale=3)\n",
    "log_prior_sigma_base = pints.HalfCauchyLogPrior(location=0, scale=3)\n",
    "log_prior_sigma_rel = pints.HalfCauchyLogPrior(location=0, scale=3)\n",
    "problem.set_log_prior(log_priors=[\n",
    "    log_prior_volume, \n",
    "    log_prior_absorption_rate,\n",
    "    log_prior_elimination_rate,\n",
    "    log_prior_sigma_base,\n",
    "    log_prior_sigma_rel])\n",
    "log_posteriors = problem.get_log_posteriors()\n",
    "\n",
    "# Find maximum a posteriori probability estimates (MAP)\n",
    "opt = erlo.OptimisationController(log_posteriors)\n",
    "opt.set_transform(transform=pints.LogTransformation(n_parameters=5))\n",
    "map_estimates = opt.run(show_id_progress_bar=True)"
   ]
  },
  {
   "source": [
    "### Visualise optimisation results"
   ],
   "cell_type": "markdown",
   "metadata": {}
  },
  {
   "cell_type": "code",
   "execution_count": 10,
   "metadata": {},
   "outputs": [
    {
     "output_type": "display_data",
     "data": {
      "application/vnd.plotly.v1+json": {
       "config": {
        "plotlyServerURL": "https://plot.ly"
       },
       "data": [
        {
         "boxpoints": "all",
         "hovertemplate": "Estimate: %{y:.2f}<br>%{text}",
         "jitter": 0.2,
         "line": {
          "color": "#636EFA"
         },
         "marker": {
          "color": "#636EFA",
          "line": {
           "color": "black",
           "width": 1
          },
          "opacity": 0.7,
          "symbol": "circle"
         },
         "name": "ID: 34",
         "pointpos": -1.5,
         "text": [
          "Run: 1 <br>Log-posterior score: -8.34",
          "Run: 2 <br>Log-posterior score: -8.34",
          "Run: 3 <br>Log-posterior score: -8.34",
          "Run: 4 <br>Log-posterior score: -8.34",
          "Run: 5 <br>Log-posterior score: -8.34",
          "Run: 6 <br>Log-posterior score: -8.34",
          "Run: 7 <br>Log-posterior score: -8.34",
          "Run: 8 <br>Log-posterior score: -8.34",
          "Run: 9 <br>Log-posterior score: -8.34",
          "Run: 10 <br>Log-posterior score: -8.34"
         ],
         "type": "box",
         "visible": true,
         "y": [
          3.022404402122566,
          3.0224039121280413,
          3.022404470495248,
          3.0224050325807026,
          3.0224043843965442,
          3.0224051637661944,
          3.02240470760716,
          3.0224044784662345,
          3.0224048618411987,
          3.022404052106636
         ]
        },
        {
         "boxpoints": "all",
         "hovertemplate": "Estimate: %{y:.2f}<br>%{text}",
         "jitter": 0.2,
         "line": {
          "color": "#EF553B"
         },
         "marker": {
          "color": "#EF553B",
          "line": {
           "color": "black",
           "width": 1
          },
          "opacity": 0.7,
          "symbol": "circle"
         },
         "name": "ID: 52",
         "pointpos": -1.5,
         "text": [
          "Run: 1 <br>Log-posterior score: -7.49",
          "Run: 2 <br>Log-posterior score: -7.49",
          "Run: 3 <br>Log-posterior score: -7.49",
          "Run: 4 <br>Log-posterior score: -7.49",
          "Run: 5 <br>Log-posterior score: -7.49",
          "Run: 6 <br>Log-posterior score: -7.49",
          "Run: 7 <br>Log-posterior score: -7.49",
          "Run: 8 <br>Log-posterior score: -7.49",
          "Run: 9 <br>Log-posterior score: -7.49",
          "Run: 10 <br>Log-posterior score: -7.49"
         ],
         "type": "box",
         "visible": true,
         "y": [
          2.7585116490634416,
          2.7645904943800974,
          2.7582081427182215,
          2.764590274716161,
          2.7593930283322115,
          2.7587177473722,
          2.7563098693106856,
          2.7637590115581117,
          2.764590503972907,
          2.7645901034901526
         ]
        },
        {
         "boxpoints": "all",
         "hovertemplate": "Estimate: %{y:.2f}<br>%{text}",
         "jitter": 0.2,
         "line": {
          "color": "#00CC96"
         },
         "marker": {
          "color": "#00CC96",
          "line": {
           "color": "black",
           "width": 1
          },
          "opacity": 0.7,
          "symbol": "circle"
         },
         "name": "ID: 91",
         "pointpos": -1.5,
         "text": [
          "Run: 1 <br>Log-posterior score: -10.89",
          "Run: 2 <br>Log-posterior score: -10.89",
          "Run: 3 <br>Log-posterior score: -10.89",
          "Run: 4 <br>Log-posterior score: -10.89",
          "Run: 5 <br>Log-posterior score: -10.89",
          "Run: 6 <br>Log-posterior score: -10.89",
          "Run: 7 <br>Log-posterior score: -10.89",
          "Run: 8 <br>Log-posterior score: -10.89",
          "Run: 9 <br>Log-posterior score: -10.89",
          "Run: 10 <br>Log-posterior score: -10.89"
         ],
         "type": "box",
         "visible": true,
         "y": [
          3.053117212441607,
          3.0531178601266338,
          3.053117657007223,
          3.0531179417735053,
          3.05311786570986,
          3.0531182340208787,
          3.053118910954378,
          3.053116979257538,
          3.053118221598093,
          3.053118834652663
         ]
        },
        {
         "boxpoints": "all",
         "hovertemplate": "Estimate: %{y:.2f}<br>%{text}",
         "jitter": 0.2,
         "line": {
          "color": "#AB63FA"
         },
         "marker": {
          "color": "#AB63FA",
          "line": {
           "color": "black",
           "width": 1
          },
          "opacity": 0.7,
          "symbol": "circle"
         },
         "name": "ID: 108",
         "pointpos": -1.5,
         "text": [
          "Run: 1 <br>Log-posterior score: -9.85",
          "Run: 2 <br>Log-posterior score: -9.85",
          "Run: 3 <br>Log-posterior score: -9.85",
          "Run: 4 <br>Log-posterior score: -9.85",
          "Run: 5 <br>Log-posterior score: -9.85",
          "Run: 6 <br>Log-posterior score: -9.85",
          "Run: 7 <br>Log-posterior score: -9.85",
          "Run: 8 <br>Log-posterior score: -9.85",
          "Run: 9 <br>Log-posterior score: -9.85",
          "Run: 10 <br>Log-posterior score: -9.85"
         ],
         "type": "box",
         "visible": true,
         "y": [
          3.165429496516964,
          3.1654303669471493,
          3.1654307123568692,
          3.1654309452672207,
          3.1654311045621792,
          3.165431249421534,
          3.1654309686487343,
          3.1654303586747914,
          3.165430472497665,
          3.165430598163665
         ]
        },
        {
         "boxpoints": "all",
         "hovertemplate": "Estimate: %{y:.2f}<br>%{text}",
         "jitter": 0.2,
         "line": {
          "color": "#FFA15A"
         },
         "marker": {
          "color": "#FFA15A",
          "line": {
           "color": "black",
           "width": 1
          },
          "opacity": 0.7,
          "symbol": "circle"
         },
         "name": "ID: 122",
         "pointpos": -1.5,
         "text": [
          "Run: 1 <br>Log-posterior score: -10.44",
          "Run: 2 <br>Log-posterior score: -10.44",
          "Run: 3 <br>Log-posterior score: -10.44",
          "Run: 4 <br>Log-posterior score: -10.44",
          "Run: 5 <br>Log-posterior score: -10.44",
          "Run: 6 <br>Log-posterior score: -10.44",
          "Run: 7 <br>Log-posterior score: -10.44",
          "Run: 8 <br>Log-posterior score: -10.44",
          "Run: 9 <br>Log-posterior score: -10.44",
          "Run: 10 <br>Log-posterior score: -10.44"
         ],
         "type": "box",
         "visible": true,
         "y": [
          3.1256982292748816,
          3.1256959528476274,
          3.125697150104752,
          3.1256989896799228,
          3.1256966899183087,
          3.125696773069155,
          3.1256975402512666,
          3.125696265907208,
          3.1256969861024886,
          3.125695319914928
         ]
        },
        {
         "boxpoints": "all",
         "hovertemplate": "Estimate: %{y:.2f}<br>%{text}",
         "jitter": 0.2,
         "line": {
          "color": "#19D3F3"
         },
         "marker": {
          "color": "#19D3F3",
          "line": {
           "color": "black",
           "width": 1
          },
          "opacity": 0.7,
          "symbol": "circle"
         },
         "name": "ID: 129",
         "pointpos": -1.5,
         "text": [
          "Run: 1 <br>Log-posterior score: -9.83",
          "Run: 2 <br>Log-posterior score: -9.83",
          "Run: 3 <br>Log-posterior score: -9.83",
          "Run: 4 <br>Log-posterior score: -9.83",
          "Run: 5 <br>Log-posterior score: -9.83",
          "Run: 6 <br>Log-posterior score: -9.83",
          "Run: 7 <br>Log-posterior score: -9.83",
          "Run: 8 <br>Log-posterior score: -9.83",
          "Run: 9 <br>Log-posterior score: -9.83",
          "Run: 10 <br>Log-posterior score: -9.83"
         ],
         "type": "box",
         "visible": true,
         "y": [
          3.0446711954152925,
          3.04466839904398,
          3.04467752547631,
          3.0446694399765004,
          3.0446701603170117,
          3.0446698992136696,
          3.0446693517944716,
          3.0446703944260514,
          3.0446693791634676,
          3.0446717232697753
         ]
        },
        {
         "boxpoints": "all",
         "hovertemplate": "Estimate: %{y:.2f}<br>%{text}",
         "jitter": 0.2,
         "line": {
          "color": "#FF6692"
         },
         "marker": {
          "color": "#FF6692",
          "line": {
           "color": "black",
           "width": 1
          },
          "opacity": 0.7,
          "symbol": "circle"
         },
         "name": "ID: 163",
         "pointpos": -1.5,
         "text": [
          "Run: 1 <br>Log-posterior score: -10.34",
          "Run: 2 <br>Log-posterior score: -10.34",
          "Run: 3 <br>Log-posterior score: -10.34",
          "Run: 4 <br>Log-posterior score: -10.34",
          "Run: 5 <br>Log-posterior score: -10.34",
          "Run: 6 <br>Log-posterior score: -10.34",
          "Run: 7 <br>Log-posterior score: -10.34",
          "Run: 8 <br>Log-posterior score: -10.34",
          "Run: 9 <br>Log-posterior score: -10.34",
          "Run: 10 <br>Log-posterior score: -10.34"
         ],
         "type": "box",
         "visible": true,
         "y": [
          3.138741105720751,
          3.1450872457598815,
          3.137976472367178,
          3.1379861730702174,
          3.1365899251365073,
          3.137982119675697,
          3.1379903323517904,
          3.1447647136137657,
          3.1379899749442965,
          3.1374173490747173
         ]
        },
        {
         "boxpoints": "all",
         "hovertemplate": "Estimate: %{y:.2f}<br>%{text}",
         "jitter": 0.2,
         "line": {
          "color": "#B6E880"
         },
         "marker": {
          "color": "#B6E880",
          "line": {
           "color": "black",
           "width": 1
          },
          "opacity": 0.7,
          "symbol": "circle"
         },
         "name": "ID: 167",
         "pointpos": -1.5,
         "text": [
          "Run: 1 <br>Log-posterior score: -8.20",
          "Run: 2 <br>Log-posterior score: -8.20",
          "Run: 3 <br>Log-posterior score: -8.20",
          "Run: 4 <br>Log-posterior score: -8.20",
          "Run: 5 <br>Log-posterior score: -8.20",
          "Run: 6 <br>Log-posterior score: -8.20",
          "Run: 7 <br>Log-posterior score: -8.20",
          "Run: 8 <br>Log-posterior score: -8.20",
          "Run: 9 <br>Log-posterior score: -8.20",
          "Run: 10 <br>Log-posterior score: -8.20"
         ],
         "type": "box",
         "visible": true,
         "y": [
          3.011002150009194,
          3.0110023640773464,
          3.011002296508914,
          3.0110020604515046,
          3.011002501934287,
          3.011002317716717,
          3.011002318785945,
          3.0110022032022865,
          3.0110021024460027,
          3.011002477694912
         ]
        }
       ],
       "layout": {
        "autosize": true,
        "template": {
         "data": {
          "bar": [
           {
            "error_x": {
             "color": "#2a3f5f"
            },
            "error_y": {
             "color": "#2a3f5f"
            },
            "marker": {
             "line": {
              "color": "white",
              "width": 0.5
             }
            },
            "type": "bar"
           }
          ],
          "barpolar": [
           {
            "marker": {
             "line": {
              "color": "white",
              "width": 0.5
             }
            },
            "type": "barpolar"
           }
          ],
          "carpet": [
           {
            "aaxis": {
             "endlinecolor": "#2a3f5f",
             "gridcolor": "#C8D4E3",
             "linecolor": "#C8D4E3",
             "minorgridcolor": "#C8D4E3",
             "startlinecolor": "#2a3f5f"
            },
            "baxis": {
             "endlinecolor": "#2a3f5f",
             "gridcolor": "#C8D4E3",
             "linecolor": "#C8D4E3",
             "minorgridcolor": "#C8D4E3",
             "startlinecolor": "#2a3f5f"
            },
            "type": "carpet"
           }
          ],
          "choropleth": [
           {
            "colorbar": {
             "outlinewidth": 0,
             "ticks": ""
            },
            "type": "choropleth"
           }
          ],
          "contour": [
           {
            "colorbar": {
             "outlinewidth": 0,
             "ticks": ""
            },
            "colorscale": [
             [
              0,
              "#0d0887"
             ],
             [
              0.1111111111111111,
              "#46039f"
             ],
             [
              0.2222222222222222,
              "#7201a8"
             ],
             [
              0.3333333333333333,
              "#9c179e"
             ],
             [
              0.4444444444444444,
              "#bd3786"
             ],
             [
              0.5555555555555556,
              "#d8576b"
             ],
             [
              0.6666666666666666,
              "#ed7953"
             ],
             [
              0.7777777777777778,
              "#fb9f3a"
             ],
             [
              0.8888888888888888,
              "#fdca26"
             ],
             [
              1,
              "#f0f921"
             ]
            ],
            "type": "contour"
           }
          ],
          "contourcarpet": [
           {
            "colorbar": {
             "outlinewidth": 0,
             "ticks": ""
            },
            "type": "contourcarpet"
           }
          ],
          "heatmap": [
           {
            "colorbar": {
             "outlinewidth": 0,
             "ticks": ""
            },
            "colorscale": [
             [
              0,
              "#0d0887"
             ],
             [
              0.1111111111111111,
              "#46039f"
             ],
             [
              0.2222222222222222,
              "#7201a8"
             ],
             [
              0.3333333333333333,
              "#9c179e"
             ],
             [
              0.4444444444444444,
              "#bd3786"
             ],
             [
              0.5555555555555556,
              "#d8576b"
             ],
             [
              0.6666666666666666,
              "#ed7953"
             ],
             [
              0.7777777777777778,
              "#fb9f3a"
             ],
             [
              0.8888888888888888,
              "#fdca26"
             ],
             [
              1,
              "#f0f921"
             ]
            ],
            "type": "heatmap"
           }
          ],
          "heatmapgl": [
           {
            "colorbar": {
             "outlinewidth": 0,
             "ticks": ""
            },
            "colorscale": [
             [
              0,
              "#0d0887"
             ],
             [
              0.1111111111111111,
              "#46039f"
             ],
             [
              0.2222222222222222,
              "#7201a8"
             ],
             [
              0.3333333333333333,
              "#9c179e"
             ],
             [
              0.4444444444444444,
              "#bd3786"
             ],
             [
              0.5555555555555556,
              "#d8576b"
             ],
             [
              0.6666666666666666,
              "#ed7953"
             ],
             [
              0.7777777777777778,
              "#fb9f3a"
             ],
             [
              0.8888888888888888,
              "#fdca26"
             ],
             [
              1,
              "#f0f921"
             ]
            ],
            "type": "heatmapgl"
           }
          ],
          "histogram": [
           {
            "marker": {
             "colorbar": {
              "outlinewidth": 0,
              "ticks": ""
             }
            },
            "type": "histogram"
           }
          ],
          "histogram2d": [
           {
            "colorbar": {
             "outlinewidth": 0,
             "ticks": ""
            },
            "colorscale": [
             [
              0,
              "#0d0887"
             ],
             [
              0.1111111111111111,
              "#46039f"
             ],
             [
              0.2222222222222222,
              "#7201a8"
             ],
             [
              0.3333333333333333,
              "#9c179e"
             ],
             [
              0.4444444444444444,
              "#bd3786"
             ],
             [
              0.5555555555555556,
              "#d8576b"
             ],
             [
              0.6666666666666666,
              "#ed7953"
             ],
             [
              0.7777777777777778,
              "#fb9f3a"
             ],
             [
              0.8888888888888888,
              "#fdca26"
             ],
             [
              1,
              "#f0f921"
             ]
            ],
            "type": "histogram2d"
           }
          ],
          "histogram2dcontour": [
           {
            "colorbar": {
             "outlinewidth": 0,
             "ticks": ""
            },
            "colorscale": [
             [
              0,
              "#0d0887"
             ],
             [
              0.1111111111111111,
              "#46039f"
             ],
             [
              0.2222222222222222,
              "#7201a8"
             ],
             [
              0.3333333333333333,
              "#9c179e"
             ],
             [
              0.4444444444444444,
              "#bd3786"
             ],
             [
              0.5555555555555556,
              "#d8576b"
             ],
             [
              0.6666666666666666,
              "#ed7953"
             ],
             [
              0.7777777777777778,
              "#fb9f3a"
             ],
             [
              0.8888888888888888,
              "#fdca26"
             ],
             [
              1,
              "#f0f921"
             ]
            ],
            "type": "histogram2dcontour"
           }
          ],
          "mesh3d": [
           {
            "colorbar": {
             "outlinewidth": 0,
             "ticks": ""
            },
            "type": "mesh3d"
           }
          ],
          "parcoords": [
           {
            "line": {
             "colorbar": {
              "outlinewidth": 0,
              "ticks": ""
             }
            },
            "type": "parcoords"
           }
          ],
          "pie": [
           {
            "automargin": true,
            "type": "pie"
           }
          ],
          "scatter": [
           {
            "marker": {
             "colorbar": {
              "outlinewidth": 0,
              "ticks": ""
             }
            },
            "type": "scatter"
           }
          ],
          "scatter3d": [
           {
            "line": {
             "colorbar": {
              "outlinewidth": 0,
              "ticks": ""
             }
            },
            "marker": {
             "colorbar": {
              "outlinewidth": 0,
              "ticks": ""
             }
            },
            "type": "scatter3d"
           }
          ],
          "scattercarpet": [
           {
            "marker": {
             "colorbar": {
              "outlinewidth": 0,
              "ticks": ""
             }
            },
            "type": "scattercarpet"
           }
          ],
          "scattergeo": [
           {
            "marker": {
             "colorbar": {
              "outlinewidth": 0,
              "ticks": ""
             }
            },
            "type": "scattergeo"
           }
          ],
          "scattergl": [
           {
            "marker": {
             "colorbar": {
              "outlinewidth": 0,
              "ticks": ""
             }
            },
            "type": "scattergl"
           }
          ],
          "scattermapbox": [
           {
            "marker": {
             "colorbar": {
              "outlinewidth": 0,
              "ticks": ""
             }
            },
            "type": "scattermapbox"
           }
          ],
          "scatterpolar": [
           {
            "marker": {
             "colorbar": {
              "outlinewidth": 0,
              "ticks": ""
             }
            },
            "type": "scatterpolar"
           }
          ],
          "scatterpolargl": [
           {
            "marker": {
             "colorbar": {
              "outlinewidth": 0,
              "ticks": ""
             }
            },
            "type": "scatterpolargl"
           }
          ],
          "scatterternary": [
           {
            "marker": {
             "colorbar": {
              "outlinewidth": 0,
              "ticks": ""
             }
            },
            "type": "scatterternary"
           }
          ],
          "surface": [
           {
            "colorbar": {
             "outlinewidth": 0,
             "ticks": ""
            },
            "colorscale": [
             [
              0,
              "#0d0887"
             ],
             [
              0.1111111111111111,
              "#46039f"
             ],
             [
              0.2222222222222222,
              "#7201a8"
             ],
             [
              0.3333333333333333,
              "#9c179e"
             ],
             [
              0.4444444444444444,
              "#bd3786"
             ],
             [
              0.5555555555555556,
              "#d8576b"
             ],
             [
              0.6666666666666666,
              "#ed7953"
             ],
             [
              0.7777777777777778,
              "#fb9f3a"
             ],
             [
              0.8888888888888888,
              "#fdca26"
             ],
             [
              1,
              "#f0f921"
             ]
            ],
            "type": "surface"
           }
          ],
          "table": [
           {
            "cells": {
             "fill": {
              "color": "#EBF0F8"
             },
             "line": {
              "color": "white"
             }
            },
            "header": {
             "fill": {
              "color": "#C8D4E3"
             },
             "line": {
              "color": "white"
             }
            },
            "type": "table"
           }
          ]
         },
         "layout": {
          "annotationdefaults": {
           "arrowcolor": "#2a3f5f",
           "arrowhead": 0,
           "arrowwidth": 1
          },
          "coloraxis": {
           "colorbar": {
            "outlinewidth": 0,
            "ticks": ""
           }
          },
          "colorscale": {
           "diverging": [
            [
             0,
             "#8e0152"
            ],
            [
             0.1,
             "#c51b7d"
            ],
            [
             0.2,
             "#de77ae"
            ],
            [
             0.3,
             "#f1b6da"
            ],
            [
             0.4,
             "#fde0ef"
            ],
            [
             0.5,
             "#f7f7f7"
            ],
            [
             0.6,
             "#e6f5d0"
            ],
            [
             0.7,
             "#b8e186"
            ],
            [
             0.8,
             "#7fbc41"
            ],
            [
             0.9,
             "#4d9221"
            ],
            [
             1,
             "#276419"
            ]
           ],
           "sequential": [
            [
             0,
             "#0d0887"
            ],
            [
             0.1111111111111111,
             "#46039f"
            ],
            [
             0.2222222222222222,
             "#7201a8"
            ],
            [
             0.3333333333333333,
             "#9c179e"
            ],
            [
             0.4444444444444444,
             "#bd3786"
            ],
            [
             0.5555555555555556,
             "#d8576b"
            ],
            [
             0.6666666666666666,
             "#ed7953"
            ],
            [
             0.7777777777777778,
             "#fb9f3a"
            ],
            [
             0.8888888888888888,
             "#fdca26"
            ],
            [
             1,
             "#f0f921"
            ]
           ],
           "sequentialminus": [
            [
             0,
             "#0d0887"
            ],
            [
             0.1111111111111111,
             "#46039f"
            ],
            [
             0.2222222222222222,
             "#7201a8"
            ],
            [
             0.3333333333333333,
             "#9c179e"
            ],
            [
             0.4444444444444444,
             "#bd3786"
            ],
            [
             0.5555555555555556,
             "#d8576b"
            ],
            [
             0.6666666666666666,
             "#ed7953"
            ],
            [
             0.7777777777777778,
             "#fb9f3a"
            ],
            [
             0.8888888888888888,
             "#fdca26"
            ],
            [
             1,
             "#f0f921"
            ]
           ]
          },
          "colorway": [
           "#636efa",
           "#EF553B",
           "#00cc96",
           "#ab63fa",
           "#FFA15A",
           "#19d3f3",
           "#FF6692",
           "#B6E880",
           "#FF97FF",
           "#FECB52"
          ],
          "font": {
           "color": "#2a3f5f"
          },
          "geo": {
           "bgcolor": "white",
           "lakecolor": "white",
           "landcolor": "white",
           "showlakes": true,
           "showland": true,
           "subunitcolor": "#C8D4E3"
          },
          "hoverlabel": {
           "align": "left"
          },
          "hovermode": "closest",
          "mapbox": {
           "style": "light"
          },
          "paper_bgcolor": "white",
          "plot_bgcolor": "white",
          "polar": {
           "angularaxis": {
            "gridcolor": "#EBF0F8",
            "linecolor": "#EBF0F8",
            "ticks": ""
           },
           "bgcolor": "white",
           "radialaxis": {
            "gridcolor": "#EBF0F8",
            "linecolor": "#EBF0F8",
            "ticks": ""
           }
          },
          "scene": {
           "xaxis": {
            "backgroundcolor": "white",
            "gridcolor": "#DFE8F3",
            "gridwidth": 2,
            "linecolor": "#EBF0F8",
            "showbackground": true,
            "ticks": "",
            "zerolinecolor": "#EBF0F8"
           },
           "yaxis": {
            "backgroundcolor": "white",
            "gridcolor": "#DFE8F3",
            "gridwidth": 2,
            "linecolor": "#EBF0F8",
            "showbackground": true,
            "ticks": "",
            "zerolinecolor": "#EBF0F8"
           },
           "zaxis": {
            "backgroundcolor": "white",
            "gridcolor": "#DFE8F3",
            "gridwidth": 2,
            "linecolor": "#EBF0F8",
            "showbackground": true,
            "ticks": "",
            "zerolinecolor": "#EBF0F8"
           }
          },
          "shapedefaults": {
           "line": {
            "color": "#2a3f5f"
           }
          },
          "ternary": {
           "aaxis": {
            "gridcolor": "#DFE8F3",
            "linecolor": "#A2B1C6",
            "ticks": ""
           },
           "baxis": {
            "gridcolor": "#DFE8F3",
            "linecolor": "#A2B1C6",
            "ticks": ""
           },
           "bgcolor": "white",
           "caxis": {
            "gridcolor": "#DFE8F3",
            "linecolor": "#A2B1C6",
            "ticks": ""
           }
          },
          "title": {
           "x": 0.05
          },
          "xaxis": {
           "automargin": true,
           "gridcolor": "#EBF0F8",
           "linecolor": "#EBF0F8",
           "ticks": "",
           "title": {
            "standoff": 15
           },
           "zerolinecolor": "#EBF0F8",
           "zerolinewidth": 2
          },
          "yaxis": {
           "automargin": true,
           "gridcolor": "#EBF0F8",
           "linecolor": "#EBF0F8",
           "ticks": "",
           "title": {
            "standoff": 15
           },
           "zerolinecolor": "#EBF0F8",
           "zerolinewidth": 2
          }
         }
        },
        "updatemenus": [
         {
          "buttons": [
           {
            "args": [
             {
              "yaxis.type": "linear"
             }
            ],
            "label": "Linear y-scale",
            "method": "relayout"
           },
           {
            "args": [
             {
              "yaxis.type": "log"
             }
            ],
            "label": "Log y-scale",
            "method": "relayout"
           }
          ],
          "direction": "left",
          "pad": {
           "r": 0,
           "t": -10
          },
          "showactive": true,
          "type": "buttons",
          "x": 0,
          "xanchor": "left",
          "y": 1.15,
          "yanchor": "top"
         }
        ],
        "yaxis": {
         "title": {
          "text": "Volume of distribution in L"
         }
        }
       }
      }
     },
     "metadata": {}
    },
    {
     "output_type": "display_data",
     "data": {
      "application/vnd.plotly.v1+json": {
       "config": {
        "plotlyServerURL": "https://plot.ly"
       },
       "data": [
        {
         "boxpoints": "all",
         "hovertemplate": "Estimate: %{y:.2f}<br>%{text}",
         "jitter": 0.2,
         "line": {
          "color": "#636EFA"
         },
         "marker": {
          "color": "#636EFA",
          "line": {
           "color": "black",
           "width": 1
          },
          "opacity": 0.7,
          "symbol": "circle"
         },
         "name": "ID: 34",
         "pointpos": -1.5,
         "text": [
          "Run: 1 <br>Log-posterior score: -8.34",
          "Run: 2 <br>Log-posterior score: -8.34",
          "Run: 3 <br>Log-posterior score: -8.34",
          "Run: 4 <br>Log-posterior score: -8.34",
          "Run: 5 <br>Log-posterior score: -8.34",
          "Run: 6 <br>Log-posterior score: -8.34",
          "Run: 7 <br>Log-posterior score: -8.34",
          "Run: 8 <br>Log-posterior score: -8.34",
          "Run: 9 <br>Log-posterior score: -8.34",
          "Run: 10 <br>Log-posterior score: -8.34"
         ],
         "type": "box",
         "visible": true,
         "y": [
          2.983106552173683,
          2.9831070882386674,
          2.983106739709186,
          2.9831067367783564,
          2.983106348585018,
          2.983106745237491,
          2.983106546338635,
          2.9831070894782927,
          2.983105998168402,
          2.983106896870469
         ]
        },
        {
         "boxpoints": "all",
         "hovertemplate": "Estimate: %{y:.2f}<br>%{text}",
         "jitter": 0.2,
         "line": {
          "color": "#EF553B"
         },
         "marker": {
          "color": "#EF553B",
          "line": {
           "color": "black",
           "width": 1
          },
          "opacity": 0.7,
          "symbol": "circle"
         },
         "name": "ID: 52",
         "pointpos": -1.5,
         "text": [
          "Run: 1 <br>Log-posterior score: -7.49",
          "Run: 2 <br>Log-posterior score: -7.49",
          "Run: 3 <br>Log-posterior score: -7.49",
          "Run: 4 <br>Log-posterior score: -7.49",
          "Run: 5 <br>Log-posterior score: -7.49",
          "Run: 6 <br>Log-posterior score: -7.49",
          "Run: 7 <br>Log-posterior score: -7.49",
          "Run: 8 <br>Log-posterior score: -7.49",
          "Run: 9 <br>Log-posterior score: -7.49",
          "Run: 10 <br>Log-posterior score: -7.49"
         ],
         "type": "box",
         "visible": true,
         "y": [
          3.209224172448708,
          3.201821893443619,
          3.2046204657953754,
          3.2018237789242745,
          3.2128716183795825,
          3.2005165201889816,
          3.2148044228849835,
          3.2155857747220256,
          3.2018231644185238,
          3.2018231684514284
         ]
        },
        {
         "boxpoints": "all",
         "hovertemplate": "Estimate: %{y:.2f}<br>%{text}",
         "jitter": 0.2,
         "line": {
          "color": "#00CC96"
         },
         "marker": {
          "color": "#00CC96",
          "line": {
           "color": "black",
           "width": 1
          },
          "opacity": 0.7,
          "symbol": "circle"
         },
         "name": "ID: 91",
         "pointpos": -1.5,
         "text": [
          "Run: 1 <br>Log-posterior score: -10.89",
          "Run: 2 <br>Log-posterior score: -10.89",
          "Run: 3 <br>Log-posterior score: -10.89",
          "Run: 4 <br>Log-posterior score: -10.89",
          "Run: 5 <br>Log-posterior score: -10.89",
          "Run: 6 <br>Log-posterior score: -10.89",
          "Run: 7 <br>Log-posterior score: -10.89",
          "Run: 8 <br>Log-posterior score: -10.89",
          "Run: 9 <br>Log-posterior score: -10.89",
          "Run: 10 <br>Log-posterior score: -10.89"
         ],
         "type": "box",
         "visible": true,
         "y": [
          2.953976559256771,
          2.95397744600428,
          2.9539766084781336,
          2.953977447789325,
          2.9539774130416143,
          2.95397760070839,
          2.953977215102347,
          2.9539772661782724,
          2.9539767664524637,
          2.953976361840093
         ]
        },
        {
         "boxpoints": "all",
         "hovertemplate": "Estimate: %{y:.2f}<br>%{text}",
         "jitter": 0.2,
         "line": {
          "color": "#AB63FA"
         },
         "marker": {
          "color": "#AB63FA",
          "line": {
           "color": "black",
           "width": 1
          },
          "opacity": 0.7,
          "symbol": "circle"
         },
         "name": "ID: 108",
         "pointpos": -1.5,
         "text": [
          "Run: 1 <br>Log-posterior score: -9.85",
          "Run: 2 <br>Log-posterior score: -9.85",
          "Run: 3 <br>Log-posterior score: -9.85",
          "Run: 4 <br>Log-posterior score: -9.85",
          "Run: 5 <br>Log-posterior score: -9.85",
          "Run: 6 <br>Log-posterior score: -9.85",
          "Run: 7 <br>Log-posterior score: -9.85",
          "Run: 8 <br>Log-posterior score: -9.85",
          "Run: 9 <br>Log-posterior score: -9.85",
          "Run: 10 <br>Log-posterior score: -9.85"
         ],
         "type": "box",
         "visible": true,
         "y": [
          2.8739210502165,
          2.8739194925869294,
          2.873921066251952,
          2.8739210456428235,
          2.873920895469771,
          2.8739205906879133,
          2.873920895116799,
          2.8739200946209307,
          2.873921246321984,
          2.87392025681597
         ]
        },
        {
         "boxpoints": "all",
         "hovertemplate": "Estimate: %{y:.2f}<br>%{text}",
         "jitter": 0.2,
         "line": {
          "color": "#FFA15A"
         },
         "marker": {
          "color": "#FFA15A",
          "line": {
           "color": "black",
           "width": 1
          },
          "opacity": 0.7,
          "symbol": "circle"
         },
         "name": "ID: 122",
         "pointpos": -1.5,
         "text": [
          "Run: 1 <br>Log-posterior score: -10.44",
          "Run: 2 <br>Log-posterior score: -10.44",
          "Run: 3 <br>Log-posterior score: -10.44",
          "Run: 4 <br>Log-posterior score: -10.44",
          "Run: 5 <br>Log-posterior score: -10.44",
          "Run: 6 <br>Log-posterior score: -10.44",
          "Run: 7 <br>Log-posterior score: -10.44",
          "Run: 8 <br>Log-posterior score: -10.44",
          "Run: 9 <br>Log-posterior score: -10.44",
          "Run: 10 <br>Log-posterior score: -10.44"
         ],
         "type": "box",
         "visible": true,
         "y": [
          2.8991101109502346,
          2.899111975488802,
          2.8991113432534803,
          2.8991095109160385,
          2.8991113616507724,
          2.8991113600647664,
          2.899115079626214,
          2.8991095146403194,
          2.899110742009678,
          2.8991082846098477
         ]
        },
        {
         "boxpoints": "all",
         "hovertemplate": "Estimate: %{y:.2f}<br>%{text}",
         "jitter": 0.2,
         "line": {
          "color": "#19D3F3"
         },
         "marker": {
          "color": "#19D3F3",
          "line": {
           "color": "black",
           "width": 1
          },
          "opacity": 0.7,
          "symbol": "circle"
         },
         "name": "ID: 129",
         "pointpos": -1.5,
         "text": [
          "Run: 1 <br>Log-posterior score: -9.83",
          "Run: 2 <br>Log-posterior score: -9.83",
          "Run: 3 <br>Log-posterior score: -9.83",
          "Run: 4 <br>Log-posterior score: -9.83",
          "Run: 5 <br>Log-posterior score: -9.83",
          "Run: 6 <br>Log-posterior score: -9.83",
          "Run: 7 <br>Log-posterior score: -9.83",
          "Run: 8 <br>Log-posterior score: -9.83",
          "Run: 9 <br>Log-posterior score: -9.83",
          "Run: 10 <br>Log-posterior score: -9.83"
         ],
         "type": "box",
         "visible": true,
         "y": [
          2.9558894330567638,
          2.955881759730005,
          2.955884841659018,
          2.9558788007747476,
          2.9558798479975916,
          2.955882403926685,
          2.955881035311287,
          2.9558829652804177,
          2.955882414347923,
          2.9558820677785946
         ]
        },
        {
         "boxpoints": "all",
         "hovertemplate": "Estimate: %{y:.2f}<br>%{text}",
         "jitter": 0.2,
         "line": {
          "color": "#FF6692"
         },
         "marker": {
          "color": "#FF6692",
          "line": {
           "color": "black",
           "width": 1
          },
          "opacity": 0.7,
          "symbol": "circle"
         },
         "name": "ID: 163",
         "pointpos": -1.5,
         "text": [
          "Run: 1 <br>Log-posterior score: -10.34",
          "Run: 2 <br>Log-posterior score: -10.34",
          "Run: 3 <br>Log-posterior score: -10.34",
          "Run: 4 <br>Log-posterior score: -10.34",
          "Run: 5 <br>Log-posterior score: -10.34",
          "Run: 6 <br>Log-posterior score: -10.34",
          "Run: 7 <br>Log-posterior score: -10.34",
          "Run: 8 <br>Log-posterior score: -10.34",
          "Run: 9 <br>Log-posterior score: -10.34",
          "Run: 10 <br>Log-posterior score: -10.34"
         ],
         "type": "box",
         "visible": true,
         "y": [
          2.8953012157586993,
          2.8959338616667982,
          2.8967771519624175,
          2.896767929095897,
          2.8980842434729204,
          2.8967715955538345,
          2.8967617390079408,
          2.8964768333365405,
          2.8967623587487004,
          2.895645363288454
         ]
        },
        {
         "boxpoints": "all",
         "hovertemplate": "Estimate: %{y:.2f}<br>%{text}",
         "jitter": 0.2,
         "line": {
          "color": "#B6E880"
         },
         "marker": {
          "color": "#B6E880",
          "line": {
           "color": "black",
           "width": 1
          },
          "opacity": 0.7,
          "symbol": "circle"
         },
         "name": "ID: 167",
         "pointpos": -1.5,
         "text": [
          "Run: 1 <br>Log-posterior score: -8.20",
          "Run: 2 <br>Log-posterior score: -8.20",
          "Run: 3 <br>Log-posterior score: -8.20",
          "Run: 4 <br>Log-posterior score: -8.20",
          "Run: 5 <br>Log-posterior score: -8.20",
          "Run: 6 <br>Log-posterior score: -8.20",
          "Run: 7 <br>Log-posterior score: -8.20",
          "Run: 8 <br>Log-posterior score: -8.20",
          "Run: 9 <br>Log-posterior score: -8.20",
          "Run: 10 <br>Log-posterior score: -8.20"
         ],
         "type": "box",
         "visible": true,
         "y": [
          2.9924056608375107,
          2.992405294538017,
          2.9924053025500386,
          2.9924055020967226,
          2.992405297344469,
          2.9924053004530866,
          2.9924056601872597,
          2.992405097743838,
          2.992405094536314,
          2.992405296439303
         ]
        }
       ],
       "layout": {
        "autosize": true,
        "template": {
         "data": {
          "bar": [
           {
            "error_x": {
             "color": "#2a3f5f"
            },
            "error_y": {
             "color": "#2a3f5f"
            },
            "marker": {
             "line": {
              "color": "white",
              "width": 0.5
             }
            },
            "type": "bar"
           }
          ],
          "barpolar": [
           {
            "marker": {
             "line": {
              "color": "white",
              "width": 0.5
             }
            },
            "type": "barpolar"
           }
          ],
          "carpet": [
           {
            "aaxis": {
             "endlinecolor": "#2a3f5f",
             "gridcolor": "#C8D4E3",
             "linecolor": "#C8D4E3",
             "minorgridcolor": "#C8D4E3",
             "startlinecolor": "#2a3f5f"
            },
            "baxis": {
             "endlinecolor": "#2a3f5f",
             "gridcolor": "#C8D4E3",
             "linecolor": "#C8D4E3",
             "minorgridcolor": "#C8D4E3",
             "startlinecolor": "#2a3f5f"
            },
            "type": "carpet"
           }
          ],
          "choropleth": [
           {
            "colorbar": {
             "outlinewidth": 0,
             "ticks": ""
            },
            "type": "choropleth"
           }
          ],
          "contour": [
           {
            "colorbar": {
             "outlinewidth": 0,
             "ticks": ""
            },
            "colorscale": [
             [
              0,
              "#0d0887"
             ],
             [
              0.1111111111111111,
              "#46039f"
             ],
             [
              0.2222222222222222,
              "#7201a8"
             ],
             [
              0.3333333333333333,
              "#9c179e"
             ],
             [
              0.4444444444444444,
              "#bd3786"
             ],
             [
              0.5555555555555556,
              "#d8576b"
             ],
             [
              0.6666666666666666,
              "#ed7953"
             ],
             [
              0.7777777777777778,
              "#fb9f3a"
             ],
             [
              0.8888888888888888,
              "#fdca26"
             ],
             [
              1,
              "#f0f921"
             ]
            ],
            "type": "contour"
           }
          ],
          "contourcarpet": [
           {
            "colorbar": {
             "outlinewidth": 0,
             "ticks": ""
            },
            "type": "contourcarpet"
           }
          ],
          "heatmap": [
           {
            "colorbar": {
             "outlinewidth": 0,
             "ticks": ""
            },
            "colorscale": [
             [
              0,
              "#0d0887"
             ],
             [
              0.1111111111111111,
              "#46039f"
             ],
             [
              0.2222222222222222,
              "#7201a8"
             ],
             [
              0.3333333333333333,
              "#9c179e"
             ],
             [
              0.4444444444444444,
              "#bd3786"
             ],
             [
              0.5555555555555556,
              "#d8576b"
             ],
             [
              0.6666666666666666,
              "#ed7953"
             ],
             [
              0.7777777777777778,
              "#fb9f3a"
             ],
             [
              0.8888888888888888,
              "#fdca26"
             ],
             [
              1,
              "#f0f921"
             ]
            ],
            "type": "heatmap"
           }
          ],
          "heatmapgl": [
           {
            "colorbar": {
             "outlinewidth": 0,
             "ticks": ""
            },
            "colorscale": [
             [
              0,
              "#0d0887"
             ],
             [
              0.1111111111111111,
              "#46039f"
             ],
             [
              0.2222222222222222,
              "#7201a8"
             ],
             [
              0.3333333333333333,
              "#9c179e"
             ],
             [
              0.4444444444444444,
              "#bd3786"
             ],
             [
              0.5555555555555556,
              "#d8576b"
             ],
             [
              0.6666666666666666,
              "#ed7953"
             ],
             [
              0.7777777777777778,
              "#fb9f3a"
             ],
             [
              0.8888888888888888,
              "#fdca26"
             ],
             [
              1,
              "#f0f921"
             ]
            ],
            "type": "heatmapgl"
           }
          ],
          "histogram": [
           {
            "marker": {
             "colorbar": {
              "outlinewidth": 0,
              "ticks": ""
             }
            },
            "type": "histogram"
           }
          ],
          "histogram2d": [
           {
            "colorbar": {
             "outlinewidth": 0,
             "ticks": ""
            },
            "colorscale": [
             [
              0,
              "#0d0887"
             ],
             [
              0.1111111111111111,
              "#46039f"
             ],
             [
              0.2222222222222222,
              "#7201a8"
             ],
             [
              0.3333333333333333,
              "#9c179e"
             ],
             [
              0.4444444444444444,
              "#bd3786"
             ],
             [
              0.5555555555555556,
              "#d8576b"
             ],
             [
              0.6666666666666666,
              "#ed7953"
             ],
             [
              0.7777777777777778,
              "#fb9f3a"
             ],
             [
              0.8888888888888888,
              "#fdca26"
             ],
             [
              1,
              "#f0f921"
             ]
            ],
            "type": "histogram2d"
           }
          ],
          "histogram2dcontour": [
           {
            "colorbar": {
             "outlinewidth": 0,
             "ticks": ""
            },
            "colorscale": [
             [
              0,
              "#0d0887"
             ],
             [
              0.1111111111111111,
              "#46039f"
             ],
             [
              0.2222222222222222,
              "#7201a8"
             ],
             [
              0.3333333333333333,
              "#9c179e"
             ],
             [
              0.4444444444444444,
              "#bd3786"
             ],
             [
              0.5555555555555556,
              "#d8576b"
             ],
             [
              0.6666666666666666,
              "#ed7953"
             ],
             [
              0.7777777777777778,
              "#fb9f3a"
             ],
             [
              0.8888888888888888,
              "#fdca26"
             ],
             [
              1,
              "#f0f921"
             ]
            ],
            "type": "histogram2dcontour"
           }
          ],
          "mesh3d": [
           {
            "colorbar": {
             "outlinewidth": 0,
             "ticks": ""
            },
            "type": "mesh3d"
           }
          ],
          "parcoords": [
           {
            "line": {
             "colorbar": {
              "outlinewidth": 0,
              "ticks": ""
             }
            },
            "type": "parcoords"
           }
          ],
          "pie": [
           {
            "automargin": true,
            "type": "pie"
           }
          ],
          "scatter": [
           {
            "marker": {
             "colorbar": {
              "outlinewidth": 0,
              "ticks": ""
             }
            },
            "type": "scatter"
           }
          ],
          "scatter3d": [
           {
            "line": {
             "colorbar": {
              "outlinewidth": 0,
              "ticks": ""
             }
            },
            "marker": {
             "colorbar": {
              "outlinewidth": 0,
              "ticks": ""
             }
            },
            "type": "scatter3d"
           }
          ],
          "scattercarpet": [
           {
            "marker": {
             "colorbar": {
              "outlinewidth": 0,
              "ticks": ""
             }
            },
            "type": "scattercarpet"
           }
          ],
          "scattergeo": [
           {
            "marker": {
             "colorbar": {
              "outlinewidth": 0,
              "ticks": ""
             }
            },
            "type": "scattergeo"
           }
          ],
          "scattergl": [
           {
            "marker": {
             "colorbar": {
              "outlinewidth": 0,
              "ticks": ""
             }
            },
            "type": "scattergl"
           }
          ],
          "scattermapbox": [
           {
            "marker": {
             "colorbar": {
              "outlinewidth": 0,
              "ticks": ""
             }
            },
            "type": "scattermapbox"
           }
          ],
          "scatterpolar": [
           {
            "marker": {
             "colorbar": {
              "outlinewidth": 0,
              "ticks": ""
             }
            },
            "type": "scatterpolar"
           }
          ],
          "scatterpolargl": [
           {
            "marker": {
             "colorbar": {
              "outlinewidth": 0,
              "ticks": ""
             }
            },
            "type": "scatterpolargl"
           }
          ],
          "scatterternary": [
           {
            "marker": {
             "colorbar": {
              "outlinewidth": 0,
              "ticks": ""
             }
            },
            "type": "scatterternary"
           }
          ],
          "surface": [
           {
            "colorbar": {
             "outlinewidth": 0,
             "ticks": ""
            },
            "colorscale": [
             [
              0,
              "#0d0887"
             ],
             [
              0.1111111111111111,
              "#46039f"
             ],
             [
              0.2222222222222222,
              "#7201a8"
             ],
             [
              0.3333333333333333,
              "#9c179e"
             ],
             [
              0.4444444444444444,
              "#bd3786"
             ],
             [
              0.5555555555555556,
              "#d8576b"
             ],
             [
              0.6666666666666666,
              "#ed7953"
             ],
             [
              0.7777777777777778,
              "#fb9f3a"
             ],
             [
              0.8888888888888888,
              "#fdca26"
             ],
             [
              1,
              "#f0f921"
             ]
            ],
            "type": "surface"
           }
          ],
          "table": [
           {
            "cells": {
             "fill": {
              "color": "#EBF0F8"
             },
             "line": {
              "color": "white"
             }
            },
            "header": {
             "fill": {
              "color": "#C8D4E3"
             },
             "line": {
              "color": "white"
             }
            },
            "type": "table"
           }
          ]
         },
         "layout": {
          "annotationdefaults": {
           "arrowcolor": "#2a3f5f",
           "arrowhead": 0,
           "arrowwidth": 1
          },
          "coloraxis": {
           "colorbar": {
            "outlinewidth": 0,
            "ticks": ""
           }
          },
          "colorscale": {
           "diverging": [
            [
             0,
             "#8e0152"
            ],
            [
             0.1,
             "#c51b7d"
            ],
            [
             0.2,
             "#de77ae"
            ],
            [
             0.3,
             "#f1b6da"
            ],
            [
             0.4,
             "#fde0ef"
            ],
            [
             0.5,
             "#f7f7f7"
            ],
            [
             0.6,
             "#e6f5d0"
            ],
            [
             0.7,
             "#b8e186"
            ],
            [
             0.8,
             "#7fbc41"
            ],
            [
             0.9,
             "#4d9221"
            ],
            [
             1,
             "#276419"
            ]
           ],
           "sequential": [
            [
             0,
             "#0d0887"
            ],
            [
             0.1111111111111111,
             "#46039f"
            ],
            [
             0.2222222222222222,
             "#7201a8"
            ],
            [
             0.3333333333333333,
             "#9c179e"
            ],
            [
             0.4444444444444444,
             "#bd3786"
            ],
            [
             0.5555555555555556,
             "#d8576b"
            ],
            [
             0.6666666666666666,
             "#ed7953"
            ],
            [
             0.7777777777777778,
             "#fb9f3a"
            ],
            [
             0.8888888888888888,
             "#fdca26"
            ],
            [
             1,
             "#f0f921"
            ]
           ],
           "sequentialminus": [
            [
             0,
             "#0d0887"
            ],
            [
             0.1111111111111111,
             "#46039f"
            ],
            [
             0.2222222222222222,
             "#7201a8"
            ],
            [
             0.3333333333333333,
             "#9c179e"
            ],
            [
             0.4444444444444444,
             "#bd3786"
            ],
            [
             0.5555555555555556,
             "#d8576b"
            ],
            [
             0.6666666666666666,
             "#ed7953"
            ],
            [
             0.7777777777777778,
             "#fb9f3a"
            ],
            [
             0.8888888888888888,
             "#fdca26"
            ],
            [
             1,
             "#f0f921"
            ]
           ]
          },
          "colorway": [
           "#636efa",
           "#EF553B",
           "#00cc96",
           "#ab63fa",
           "#FFA15A",
           "#19d3f3",
           "#FF6692",
           "#B6E880",
           "#FF97FF",
           "#FECB52"
          ],
          "font": {
           "color": "#2a3f5f"
          },
          "geo": {
           "bgcolor": "white",
           "lakecolor": "white",
           "landcolor": "white",
           "showlakes": true,
           "showland": true,
           "subunitcolor": "#C8D4E3"
          },
          "hoverlabel": {
           "align": "left"
          },
          "hovermode": "closest",
          "mapbox": {
           "style": "light"
          },
          "paper_bgcolor": "white",
          "plot_bgcolor": "white",
          "polar": {
           "angularaxis": {
            "gridcolor": "#EBF0F8",
            "linecolor": "#EBF0F8",
            "ticks": ""
           },
           "bgcolor": "white",
           "radialaxis": {
            "gridcolor": "#EBF0F8",
            "linecolor": "#EBF0F8",
            "ticks": ""
           }
          },
          "scene": {
           "xaxis": {
            "backgroundcolor": "white",
            "gridcolor": "#DFE8F3",
            "gridwidth": 2,
            "linecolor": "#EBF0F8",
            "showbackground": true,
            "ticks": "",
            "zerolinecolor": "#EBF0F8"
           },
           "yaxis": {
            "backgroundcolor": "white",
            "gridcolor": "#DFE8F3",
            "gridwidth": 2,
            "linecolor": "#EBF0F8",
            "showbackground": true,
            "ticks": "",
            "zerolinecolor": "#EBF0F8"
           },
           "zaxis": {
            "backgroundcolor": "white",
            "gridcolor": "#DFE8F3",
            "gridwidth": 2,
            "linecolor": "#EBF0F8",
            "showbackground": true,
            "ticks": "",
            "zerolinecolor": "#EBF0F8"
           }
          },
          "shapedefaults": {
           "line": {
            "color": "#2a3f5f"
           }
          },
          "ternary": {
           "aaxis": {
            "gridcolor": "#DFE8F3",
            "linecolor": "#A2B1C6",
            "ticks": ""
           },
           "baxis": {
            "gridcolor": "#DFE8F3",
            "linecolor": "#A2B1C6",
            "ticks": ""
           },
           "bgcolor": "white",
           "caxis": {
            "gridcolor": "#DFE8F3",
            "linecolor": "#A2B1C6",
            "ticks": ""
           }
          },
          "title": {
           "x": 0.05
          },
          "xaxis": {
           "automargin": true,
           "gridcolor": "#EBF0F8",
           "linecolor": "#EBF0F8",
           "ticks": "",
           "title": {
            "standoff": 15
           },
           "zerolinecolor": "#EBF0F8",
           "zerolinewidth": 2
          },
          "yaxis": {
           "automargin": true,
           "gridcolor": "#EBF0F8",
           "linecolor": "#EBF0F8",
           "ticks": "",
           "title": {
            "standoff": 15
           },
           "zerolinecolor": "#EBF0F8",
           "zerolinewidth": 2
          }
         }
        },
        "updatemenus": [
         {
          "buttons": [
           {
            "args": [
             {
              "yaxis.type": "linear"
             }
            ],
            "label": "Linear y-scale",
            "method": "relayout"
           },
           {
            "args": [
             {
              "yaxis.type": "log"
             }
            ],
            "label": "Log y-scale",
            "method": "relayout"
           }
          ],
          "direction": "left",
          "pad": {
           "r": 0,
           "t": -10
          },
          "showactive": true,
          "type": "buttons",
          "x": 0,
          "xanchor": "left",
          "y": 1.15,
          "yanchor": "top"
         }
        ],
        "yaxis": {
         "title": {
          "text": "Absorption rate in 1/day"
         }
        }
       }
      }
     },
     "metadata": {}
    },
    {
     "output_type": "display_data",
     "data": {
      "application/vnd.plotly.v1+json": {
       "config": {
        "plotlyServerURL": "https://plot.ly"
       },
       "data": [
        {
         "boxpoints": "all",
         "hovertemplate": "Estimate: %{y:.2f}<br>%{text}",
         "jitter": 0.2,
         "line": {
          "color": "#636EFA"
         },
         "marker": {
          "color": "#636EFA",
          "line": {
           "color": "black",
           "width": 1
          },
          "opacity": 0.7,
          "symbol": "circle"
         },
         "name": "ID: 34",
         "pointpos": -1.5,
         "text": [
          "Run: 1 <br>Log-posterior score: -8.34",
          "Run: 2 <br>Log-posterior score: -8.34",
          "Run: 3 <br>Log-posterior score: -8.34",
          "Run: 4 <br>Log-posterior score: -8.34",
          "Run: 5 <br>Log-posterior score: -8.34",
          "Run: 6 <br>Log-posterior score: -8.34",
          "Run: 7 <br>Log-posterior score: -8.34",
          "Run: 8 <br>Log-posterior score: -8.34",
          "Run: 9 <br>Log-posterior score: -8.34",
          "Run: 10 <br>Log-posterior score: -8.34"
         ],
         "type": "box",
         "visible": true,
         "y": [
          2.8488731329673587,
          2.84887306457547,
          2.848873122954817,
          2.848873045574772,
          2.8488727942141567,
          2.8488737848753014,
          2.8488729757993303,
          2.8488738501583524,
          2.848873056228141,
          2.848872638158627
         ]
        },
        {
         "boxpoints": "all",
         "hovertemplate": "Estimate: %{y:.2f}<br>%{text}",
         "jitter": 0.2,
         "line": {
          "color": "#EF553B"
         },
         "marker": {
          "color": "#EF553B",
          "line": {
           "color": "black",
           "width": 1
          },
          "opacity": 0.7,
          "symbol": "circle"
         },
         "name": "ID: 52",
         "pointpos": -1.5,
         "text": [
          "Run: 1 <br>Log-posterior score: -7.49",
          "Run: 2 <br>Log-posterior score: -7.49",
          "Run: 3 <br>Log-posterior score: -7.49",
          "Run: 4 <br>Log-posterior score: -7.49",
          "Run: 5 <br>Log-posterior score: -7.49",
          "Run: 6 <br>Log-posterior score: -7.49",
          "Run: 7 <br>Log-posterior score: -7.49",
          "Run: 8 <br>Log-posterior score: -7.49",
          "Run: 9 <br>Log-posterior score: -7.49",
          "Run: 10 <br>Log-posterior score: -7.49"
         ],
         "type": "box",
         "visible": true,
         "y": [
          4.106609519069343,
          4.099580703615728,
          4.107976091084948,
          4.099580585505668,
          4.104761135487219,
          4.11144810353881,
          4.099699422718978,
          4.10890243998507,
          4.099584053216043,
          4.099582118779979
         ]
        },
        {
         "boxpoints": "all",
         "hovertemplate": "Estimate: %{y:.2f}<br>%{text}",
         "jitter": 0.2,
         "line": {
          "color": "#00CC96"
         },
         "marker": {
          "color": "#00CC96",
          "line": {
           "color": "black",
           "width": 1
          },
          "opacity": 0.7,
          "symbol": "circle"
         },
         "name": "ID: 91",
         "pointpos": -1.5,
         "text": [
          "Run: 1 <br>Log-posterior score: -10.89",
          "Run: 2 <br>Log-posterior score: -10.89",
          "Run: 3 <br>Log-posterior score: -10.89",
          "Run: 4 <br>Log-posterior score: -10.89",
          "Run: 5 <br>Log-posterior score: -10.89",
          "Run: 6 <br>Log-posterior score: -10.89",
          "Run: 7 <br>Log-posterior score: -10.89",
          "Run: 8 <br>Log-posterior score: -10.89",
          "Run: 9 <br>Log-posterior score: -10.89",
          "Run: 10 <br>Log-posterior score: -10.89"
         ],
         "type": "box",
         "visible": true,
         "y": [
          2.7104646046453986,
          2.710464013353122,
          2.710464801668771,
          2.710465288730794,
          2.710463836521995,
          2.7104642593563586,
          2.7104639267825616,
          2.7104650455625614,
          2.710465397198138,
          2.710463932349954
         ]
        },
        {
         "boxpoints": "all",
         "hovertemplate": "Estimate: %{y:.2f}<br>%{text}",
         "jitter": 0.2,
         "line": {
          "color": "#AB63FA"
         },
         "marker": {
          "color": "#AB63FA",
          "line": {
           "color": "black",
           "width": 1
          },
          "opacity": 0.7,
          "symbol": "circle"
         },
         "name": "ID: 108",
         "pointpos": -1.5,
         "text": [
          "Run: 1 <br>Log-posterior score: -9.85",
          "Run: 2 <br>Log-posterior score: -9.85",
          "Run: 3 <br>Log-posterior score: -9.85",
          "Run: 4 <br>Log-posterior score: -9.85",
          "Run: 5 <br>Log-posterior score: -9.85",
          "Run: 6 <br>Log-posterior score: -9.85",
          "Run: 7 <br>Log-posterior score: -9.85",
          "Run: 8 <br>Log-posterior score: -9.85",
          "Run: 9 <br>Log-posterior score: -9.85",
          "Run: 10 <br>Log-posterior score: -9.85"
         ],
         "type": "box",
         "visible": true,
         "y": [
          3.19286406626432,
          3.1928653277250625,
          3.1928646437344352,
          3.192865429245084,
          3.192865346860138,
          3.1928658620136883,
          3.192865056872275,
          3.1928646627425343,
          3.192865866673746,
          3.192864087368747
         ]
        },
        {
         "boxpoints": "all",
         "hovertemplate": "Estimate: %{y:.2f}<br>%{text}",
         "jitter": 0.2,
         "line": {
          "color": "#FFA15A"
         },
         "marker": {
          "color": "#FFA15A",
          "line": {
           "color": "black",
           "width": 1
          },
          "opacity": 0.7,
          "symbol": "circle"
         },
         "name": "ID: 122",
         "pointpos": -1.5,
         "text": [
          "Run: 1 <br>Log-posterior score: -10.44",
          "Run: 2 <br>Log-posterior score: -10.44",
          "Run: 3 <br>Log-posterior score: -10.44",
          "Run: 4 <br>Log-posterior score: -10.44",
          "Run: 5 <br>Log-posterior score: -10.44",
          "Run: 6 <br>Log-posterior score: -10.44",
          "Run: 7 <br>Log-posterior score: -10.44",
          "Run: 8 <br>Log-posterior score: -10.44",
          "Run: 9 <br>Log-posterior score: -10.44",
          "Run: 10 <br>Log-posterior score: -10.44"
         ],
         "type": "box",
         "visible": true,
         "y": [
          2.9197891042761444,
          2.919786928410187,
          2.919788031638913,
          2.919789896374495,
          2.9197876125753925,
          2.919787653577642,
          2.91978807369491,
          2.9197872910265663,
          2.9197879280126404,
          2.919786557602597
         ]
        },
        {
         "boxpoints": "all",
         "hovertemplate": "Estimate: %{y:.2f}<br>%{text}",
         "jitter": 0.2,
         "line": {
          "color": "#19D3F3"
         },
         "marker": {
          "color": "#19D3F3",
          "line": {
           "color": "black",
           "width": 1
          },
          "opacity": 0.7,
          "symbol": "circle"
         },
         "name": "ID: 129",
         "pointpos": -1.5,
         "text": [
          "Run: 1 <br>Log-posterior score: -9.83",
          "Run: 2 <br>Log-posterior score: -9.83",
          "Run: 3 <br>Log-posterior score: -9.83",
          "Run: 4 <br>Log-posterior score: -9.83",
          "Run: 5 <br>Log-posterior score: -9.83",
          "Run: 6 <br>Log-posterior score: -9.83",
          "Run: 7 <br>Log-posterior score: -9.83",
          "Run: 8 <br>Log-posterior score: -9.83",
          "Run: 9 <br>Log-posterior score: -9.83",
          "Run: 10 <br>Log-posterior score: -9.83"
         ],
         "type": "box",
         "visible": true,
         "y": [
          3.1574444112899327,
          3.157442173014627,
          3.157451374624789,
          3.157443506474169,
          3.1574441683270598,
          3.1574436741636847,
          3.1574432249519364,
          3.1574441371883237,
          3.1574431328847936,
          3.157445593680653
         ]
        },
        {
         "boxpoints": "all",
         "hovertemplate": "Estimate: %{y:.2f}<br>%{text}",
         "jitter": 0.2,
         "line": {
          "color": "#FF6692"
         },
         "marker": {
          "color": "#FF6692",
          "line": {
           "color": "black",
           "width": 1
          },
          "opacity": 0.7,
          "symbol": "circle"
         },
         "name": "ID: 163",
         "pointpos": -1.5,
         "text": [
          "Run: 1 <br>Log-posterior score: -10.34",
          "Run: 2 <br>Log-posterior score: -10.34",
          "Run: 3 <br>Log-posterior score: -10.34",
          "Run: 4 <br>Log-posterior score: -10.34",
          "Run: 5 <br>Log-posterior score: -10.34",
          "Run: 6 <br>Log-posterior score: -10.34",
          "Run: 7 <br>Log-posterior score: -10.34",
          "Run: 8 <br>Log-posterior score: -10.34",
          "Run: 9 <br>Log-posterior score: -10.34",
          "Run: 10 <br>Log-posterior score: -10.34"
         ],
         "type": "box",
         "visible": true,
         "y": [
          2.9294613764591317,
          2.9215710614208996,
          2.9275802372093525,
          2.927589914813574,
          2.926546207022637,
          2.927585872526111,
          2.927594164657228,
          2.9213365751076195,
          2.9275937978388695,
          2.927345818928173
         ]
        },
        {
         "boxpoints": "all",
         "hovertemplate": "Estimate: %{y:.2f}<br>%{text}",
         "jitter": 0.2,
         "line": {
          "color": "#B6E880"
         },
         "marker": {
          "color": "#B6E880",
          "line": {
           "color": "black",
           "width": 1
          },
          "opacity": 0.7,
          "symbol": "circle"
         },
         "name": "ID: 167",
         "pointpos": -1.5,
         "text": [
          "Run: 1 <br>Log-posterior score: -8.20",
          "Run: 2 <br>Log-posterior score: -8.20",
          "Run: 3 <br>Log-posterior score: -8.20",
          "Run: 4 <br>Log-posterior score: -8.20",
          "Run: 5 <br>Log-posterior score: -8.20",
          "Run: 6 <br>Log-posterior score: -8.20",
          "Run: 7 <br>Log-posterior score: -8.20",
          "Run: 8 <br>Log-posterior score: -8.20",
          "Run: 9 <br>Log-posterior score: -8.20",
          "Run: 10 <br>Log-posterior score: -8.20"
         ],
         "type": "box",
         "visible": true,
         "y": [
          2.9259985930508923,
          2.9259991517827357,
          2.9259986076355347,
          2.9259990964468128,
          2.9259989363737513,
          2.9259988609761836,
          2.925998795707462,
          2.9259989388658636,
          2.925998831524824,
          2.9259991705729953
         ]
        }
       ],
       "layout": {
        "autosize": true,
        "template": {
         "data": {
          "bar": [
           {
            "error_x": {
             "color": "#2a3f5f"
            },
            "error_y": {
             "color": "#2a3f5f"
            },
            "marker": {
             "line": {
              "color": "white",
              "width": 0.5
             }
            },
            "type": "bar"
           }
          ],
          "barpolar": [
           {
            "marker": {
             "line": {
              "color": "white",
              "width": 0.5
             }
            },
            "type": "barpolar"
           }
          ],
          "carpet": [
           {
            "aaxis": {
             "endlinecolor": "#2a3f5f",
             "gridcolor": "#C8D4E3",
             "linecolor": "#C8D4E3",
             "minorgridcolor": "#C8D4E3",
             "startlinecolor": "#2a3f5f"
            },
            "baxis": {
             "endlinecolor": "#2a3f5f",
             "gridcolor": "#C8D4E3",
             "linecolor": "#C8D4E3",
             "minorgridcolor": "#C8D4E3",
             "startlinecolor": "#2a3f5f"
            },
            "type": "carpet"
           }
          ],
          "choropleth": [
           {
            "colorbar": {
             "outlinewidth": 0,
             "ticks": ""
            },
            "type": "choropleth"
           }
          ],
          "contour": [
           {
            "colorbar": {
             "outlinewidth": 0,
             "ticks": ""
            },
            "colorscale": [
             [
              0,
              "#0d0887"
             ],
             [
              0.1111111111111111,
              "#46039f"
             ],
             [
              0.2222222222222222,
              "#7201a8"
             ],
             [
              0.3333333333333333,
              "#9c179e"
             ],
             [
              0.4444444444444444,
              "#bd3786"
             ],
             [
              0.5555555555555556,
              "#d8576b"
             ],
             [
              0.6666666666666666,
              "#ed7953"
             ],
             [
              0.7777777777777778,
              "#fb9f3a"
             ],
             [
              0.8888888888888888,
              "#fdca26"
             ],
             [
              1,
              "#f0f921"
             ]
            ],
            "type": "contour"
           }
          ],
          "contourcarpet": [
           {
            "colorbar": {
             "outlinewidth": 0,
             "ticks": ""
            },
            "type": "contourcarpet"
           }
          ],
          "heatmap": [
           {
            "colorbar": {
             "outlinewidth": 0,
             "ticks": ""
            },
            "colorscale": [
             [
              0,
              "#0d0887"
             ],
             [
              0.1111111111111111,
              "#46039f"
             ],
             [
              0.2222222222222222,
              "#7201a8"
             ],
             [
              0.3333333333333333,
              "#9c179e"
             ],
             [
              0.4444444444444444,
              "#bd3786"
             ],
             [
              0.5555555555555556,
              "#d8576b"
             ],
             [
              0.6666666666666666,
              "#ed7953"
             ],
             [
              0.7777777777777778,
              "#fb9f3a"
             ],
             [
              0.8888888888888888,
              "#fdca26"
             ],
             [
              1,
              "#f0f921"
             ]
            ],
            "type": "heatmap"
           }
          ],
          "heatmapgl": [
           {
            "colorbar": {
             "outlinewidth": 0,
             "ticks": ""
            },
            "colorscale": [
             [
              0,
              "#0d0887"
             ],
             [
              0.1111111111111111,
              "#46039f"
             ],
             [
              0.2222222222222222,
              "#7201a8"
             ],
             [
              0.3333333333333333,
              "#9c179e"
             ],
             [
              0.4444444444444444,
              "#bd3786"
             ],
             [
              0.5555555555555556,
              "#d8576b"
             ],
             [
              0.6666666666666666,
              "#ed7953"
             ],
             [
              0.7777777777777778,
              "#fb9f3a"
             ],
             [
              0.8888888888888888,
              "#fdca26"
             ],
             [
              1,
              "#f0f921"
             ]
            ],
            "type": "heatmapgl"
           }
          ],
          "histogram": [
           {
            "marker": {
             "colorbar": {
              "outlinewidth": 0,
              "ticks": ""
             }
            },
            "type": "histogram"
           }
          ],
          "histogram2d": [
           {
            "colorbar": {
             "outlinewidth": 0,
             "ticks": ""
            },
            "colorscale": [
             [
              0,
              "#0d0887"
             ],
             [
              0.1111111111111111,
              "#46039f"
             ],
             [
              0.2222222222222222,
              "#7201a8"
             ],
             [
              0.3333333333333333,
              "#9c179e"
             ],
             [
              0.4444444444444444,
              "#bd3786"
             ],
             [
              0.5555555555555556,
              "#d8576b"
             ],
             [
              0.6666666666666666,
              "#ed7953"
             ],
             [
              0.7777777777777778,
              "#fb9f3a"
             ],
             [
              0.8888888888888888,
              "#fdca26"
             ],
             [
              1,
              "#f0f921"
             ]
            ],
            "type": "histogram2d"
           }
          ],
          "histogram2dcontour": [
           {
            "colorbar": {
             "outlinewidth": 0,
             "ticks": ""
            },
            "colorscale": [
             [
              0,
              "#0d0887"
             ],
             [
              0.1111111111111111,
              "#46039f"
             ],
             [
              0.2222222222222222,
              "#7201a8"
             ],
             [
              0.3333333333333333,
              "#9c179e"
             ],
             [
              0.4444444444444444,
              "#bd3786"
             ],
             [
              0.5555555555555556,
              "#d8576b"
             ],
             [
              0.6666666666666666,
              "#ed7953"
             ],
             [
              0.7777777777777778,
              "#fb9f3a"
             ],
             [
              0.8888888888888888,
              "#fdca26"
             ],
             [
              1,
              "#f0f921"
             ]
            ],
            "type": "histogram2dcontour"
           }
          ],
          "mesh3d": [
           {
            "colorbar": {
             "outlinewidth": 0,
             "ticks": ""
            },
            "type": "mesh3d"
           }
          ],
          "parcoords": [
           {
            "line": {
             "colorbar": {
              "outlinewidth": 0,
              "ticks": ""
             }
            },
            "type": "parcoords"
           }
          ],
          "pie": [
           {
            "automargin": true,
            "type": "pie"
           }
          ],
          "scatter": [
           {
            "marker": {
             "colorbar": {
              "outlinewidth": 0,
              "ticks": ""
             }
            },
            "type": "scatter"
           }
          ],
          "scatter3d": [
           {
            "line": {
             "colorbar": {
              "outlinewidth": 0,
              "ticks": ""
             }
            },
            "marker": {
             "colorbar": {
              "outlinewidth": 0,
              "ticks": ""
             }
            },
            "type": "scatter3d"
           }
          ],
          "scattercarpet": [
           {
            "marker": {
             "colorbar": {
              "outlinewidth": 0,
              "ticks": ""
             }
            },
            "type": "scattercarpet"
           }
          ],
          "scattergeo": [
           {
            "marker": {
             "colorbar": {
              "outlinewidth": 0,
              "ticks": ""
             }
            },
            "type": "scattergeo"
           }
          ],
          "scattergl": [
           {
            "marker": {
             "colorbar": {
              "outlinewidth": 0,
              "ticks": ""
             }
            },
            "type": "scattergl"
           }
          ],
          "scattermapbox": [
           {
            "marker": {
             "colorbar": {
              "outlinewidth": 0,
              "ticks": ""
             }
            },
            "type": "scattermapbox"
           }
          ],
          "scatterpolar": [
           {
            "marker": {
             "colorbar": {
              "outlinewidth": 0,
              "ticks": ""
             }
            },
            "type": "scatterpolar"
           }
          ],
          "scatterpolargl": [
           {
            "marker": {
             "colorbar": {
              "outlinewidth": 0,
              "ticks": ""
             }
            },
            "type": "scatterpolargl"
           }
          ],
          "scatterternary": [
           {
            "marker": {
             "colorbar": {
              "outlinewidth": 0,
              "ticks": ""
             }
            },
            "type": "scatterternary"
           }
          ],
          "surface": [
           {
            "colorbar": {
             "outlinewidth": 0,
             "ticks": ""
            },
            "colorscale": [
             [
              0,
              "#0d0887"
             ],
             [
              0.1111111111111111,
              "#46039f"
             ],
             [
              0.2222222222222222,
              "#7201a8"
             ],
             [
              0.3333333333333333,
              "#9c179e"
             ],
             [
              0.4444444444444444,
              "#bd3786"
             ],
             [
              0.5555555555555556,
              "#d8576b"
             ],
             [
              0.6666666666666666,
              "#ed7953"
             ],
             [
              0.7777777777777778,
              "#fb9f3a"
             ],
             [
              0.8888888888888888,
              "#fdca26"
             ],
             [
              1,
              "#f0f921"
             ]
            ],
            "type": "surface"
           }
          ],
          "table": [
           {
            "cells": {
             "fill": {
              "color": "#EBF0F8"
             },
             "line": {
              "color": "white"
             }
            },
            "header": {
             "fill": {
              "color": "#C8D4E3"
             },
             "line": {
              "color": "white"
             }
            },
            "type": "table"
           }
          ]
         },
         "layout": {
          "annotationdefaults": {
           "arrowcolor": "#2a3f5f",
           "arrowhead": 0,
           "arrowwidth": 1
          },
          "coloraxis": {
           "colorbar": {
            "outlinewidth": 0,
            "ticks": ""
           }
          },
          "colorscale": {
           "diverging": [
            [
             0,
             "#8e0152"
            ],
            [
             0.1,
             "#c51b7d"
            ],
            [
             0.2,
             "#de77ae"
            ],
            [
             0.3,
             "#f1b6da"
            ],
            [
             0.4,
             "#fde0ef"
            ],
            [
             0.5,
             "#f7f7f7"
            ],
            [
             0.6,
             "#e6f5d0"
            ],
            [
             0.7,
             "#b8e186"
            ],
            [
             0.8,
             "#7fbc41"
            ],
            [
             0.9,
             "#4d9221"
            ],
            [
             1,
             "#276419"
            ]
           ],
           "sequential": [
            [
             0,
             "#0d0887"
            ],
            [
             0.1111111111111111,
             "#46039f"
            ],
            [
             0.2222222222222222,
             "#7201a8"
            ],
            [
             0.3333333333333333,
             "#9c179e"
            ],
            [
             0.4444444444444444,
             "#bd3786"
            ],
            [
             0.5555555555555556,
             "#d8576b"
            ],
            [
             0.6666666666666666,
             "#ed7953"
            ],
            [
             0.7777777777777778,
             "#fb9f3a"
            ],
            [
             0.8888888888888888,
             "#fdca26"
            ],
            [
             1,
             "#f0f921"
            ]
           ],
           "sequentialminus": [
            [
             0,
             "#0d0887"
            ],
            [
             0.1111111111111111,
             "#46039f"
            ],
            [
             0.2222222222222222,
             "#7201a8"
            ],
            [
             0.3333333333333333,
             "#9c179e"
            ],
            [
             0.4444444444444444,
             "#bd3786"
            ],
            [
             0.5555555555555556,
             "#d8576b"
            ],
            [
             0.6666666666666666,
             "#ed7953"
            ],
            [
             0.7777777777777778,
             "#fb9f3a"
            ],
            [
             0.8888888888888888,
             "#fdca26"
            ],
            [
             1,
             "#f0f921"
            ]
           ]
          },
          "colorway": [
           "#636efa",
           "#EF553B",
           "#00cc96",
           "#ab63fa",
           "#FFA15A",
           "#19d3f3",
           "#FF6692",
           "#B6E880",
           "#FF97FF",
           "#FECB52"
          ],
          "font": {
           "color": "#2a3f5f"
          },
          "geo": {
           "bgcolor": "white",
           "lakecolor": "white",
           "landcolor": "white",
           "showlakes": true,
           "showland": true,
           "subunitcolor": "#C8D4E3"
          },
          "hoverlabel": {
           "align": "left"
          },
          "hovermode": "closest",
          "mapbox": {
           "style": "light"
          },
          "paper_bgcolor": "white",
          "plot_bgcolor": "white",
          "polar": {
           "angularaxis": {
            "gridcolor": "#EBF0F8",
            "linecolor": "#EBF0F8",
            "ticks": ""
           },
           "bgcolor": "white",
           "radialaxis": {
            "gridcolor": "#EBF0F8",
            "linecolor": "#EBF0F8",
            "ticks": ""
           }
          },
          "scene": {
           "xaxis": {
            "backgroundcolor": "white",
            "gridcolor": "#DFE8F3",
            "gridwidth": 2,
            "linecolor": "#EBF0F8",
            "showbackground": true,
            "ticks": "",
            "zerolinecolor": "#EBF0F8"
           },
           "yaxis": {
            "backgroundcolor": "white",
            "gridcolor": "#DFE8F3",
            "gridwidth": 2,
            "linecolor": "#EBF0F8",
            "showbackground": true,
            "ticks": "",
            "zerolinecolor": "#EBF0F8"
           },
           "zaxis": {
            "backgroundcolor": "white",
            "gridcolor": "#DFE8F3",
            "gridwidth": 2,
            "linecolor": "#EBF0F8",
            "showbackground": true,
            "ticks": "",
            "zerolinecolor": "#EBF0F8"
           }
          },
          "shapedefaults": {
           "line": {
            "color": "#2a3f5f"
           }
          },
          "ternary": {
           "aaxis": {
            "gridcolor": "#DFE8F3",
            "linecolor": "#A2B1C6",
            "ticks": ""
           },
           "baxis": {
            "gridcolor": "#DFE8F3",
            "linecolor": "#A2B1C6",
            "ticks": ""
           },
           "bgcolor": "white",
           "caxis": {
            "gridcolor": "#DFE8F3",
            "linecolor": "#A2B1C6",
            "ticks": ""
           }
          },
          "title": {
           "x": 0.05
          },
          "xaxis": {
           "automargin": true,
           "gridcolor": "#EBF0F8",
           "linecolor": "#EBF0F8",
           "ticks": "",
           "title": {
            "standoff": 15
           },
           "zerolinecolor": "#EBF0F8",
           "zerolinewidth": 2
          },
          "yaxis": {
           "automargin": true,
           "gridcolor": "#EBF0F8",
           "linecolor": "#EBF0F8",
           "ticks": "",
           "title": {
            "standoff": 15
           },
           "zerolinecolor": "#EBF0F8",
           "zerolinewidth": 2
          }
         }
        },
        "updatemenus": [
         {
          "buttons": [
           {
            "args": [
             {
              "yaxis.type": "linear"
             }
            ],
            "label": "Linear y-scale",
            "method": "relayout"
           },
           {
            "args": [
             {
              "yaxis.type": "log"
             }
            ],
            "label": "Log y-scale",
            "method": "relayout"
           }
          ],
          "direction": "left",
          "pad": {
           "r": 0,
           "t": -10
          },
          "showactive": true,
          "type": "buttons",
          "x": 0,
          "xanchor": "left",
          "y": 1.15,
          "yanchor": "top"
         }
        ],
        "yaxis": {
         "title": {
          "text": "Elimination rate in 1/day"
         }
        }
       }
      }
     },
     "metadata": {}
    },
    {
     "output_type": "display_data",
     "data": {
      "application/vnd.plotly.v1+json": {
       "config": {
        "plotlyServerURL": "https://plot.ly"
       },
       "data": [
        {
         "boxpoints": "all",
         "hovertemplate": "Estimate: %{y:.2f}<br>%{text}",
         "jitter": 0.2,
         "line": {
          "color": "#636EFA"
         },
         "marker": {
          "color": "#636EFA",
          "line": {
           "color": "black",
           "width": 1
          },
          "opacity": 0.7,
          "symbol": "circle"
         },
         "name": "ID: 34",
         "pointpos": -1.5,
         "text": [
          "Run: 1 <br>Log-posterior score: -8.34",
          "Run: 2 <br>Log-posterior score: -8.34",
          "Run: 3 <br>Log-posterior score: -8.34",
          "Run: 4 <br>Log-posterior score: -8.34",
          "Run: 5 <br>Log-posterior score: -8.34",
          "Run: 6 <br>Log-posterior score: -8.34",
          "Run: 7 <br>Log-posterior score: -8.34",
          "Run: 8 <br>Log-posterior score: -8.34",
          "Run: 9 <br>Log-posterior score: -8.34",
          "Run: 10 <br>Log-posterior score: -8.34"
         ],
         "type": "box",
         "visible": true,
         "y": [
          2.8197568289870425,
          2.819756735668439,
          2.8197564687825616,
          2.819756347288021,
          2.8197562487799788,
          2.819756737613434,
          2.819756483638281,
          2.819756565339229,
          2.8197564415388974,
          2.8197560219151816
         ]
        },
        {
         "boxpoints": "all",
         "hovertemplate": "Estimate: %{y:.2f}<br>%{text}",
         "jitter": 0.2,
         "line": {
          "color": "#EF553B"
         },
         "marker": {
          "color": "#EF553B",
          "line": {
           "color": "black",
           "width": 1
          },
          "opacity": 0.7,
          "symbol": "circle"
         },
         "name": "ID: 52",
         "pointpos": -1.5,
         "text": [
          "Run: 1 <br>Log-posterior score: -7.49",
          "Run: 2 <br>Log-posterior score: -7.49",
          "Run: 3 <br>Log-posterior score: -7.49",
          "Run: 4 <br>Log-posterior score: -7.49",
          "Run: 5 <br>Log-posterior score: -7.49",
          "Run: 6 <br>Log-posterior score: -7.49",
          "Run: 7 <br>Log-posterior score: -7.49",
          "Run: 8 <br>Log-posterior score: -7.49",
          "Run: 9 <br>Log-posterior score: -7.49",
          "Run: 10 <br>Log-posterior score: -7.49"
         ],
         "type": "box",
         "visible": true,
         "y": [
          1.0561538194077822,
          1.055942413333228,
          1.0547721423974477,
          1.0559415596374768,
          1.054855185325332,
          1.0550576975866948,
          1.0587135961214014,
          1.0533186386211233,
          1.0559410898673693,
          1.0559421236968738
         ]
        },
        {
         "boxpoints": "all",
         "hovertemplate": "Estimate: %{y:.2f}<br>%{text}",
         "jitter": 0.2,
         "line": {
          "color": "#00CC96"
         },
         "marker": {
          "color": "#00CC96",
          "line": {
           "color": "black",
           "width": 1
          },
          "opacity": 0.7,
          "symbol": "circle"
         },
         "name": "ID: 91",
         "pointpos": -1.5,
         "text": [
          "Run: 1 <br>Log-posterior score: -10.89",
          "Run: 2 <br>Log-posterior score: -10.89",
          "Run: 3 <br>Log-posterior score: -10.89",
          "Run: 4 <br>Log-posterior score: -10.89",
          "Run: 5 <br>Log-posterior score: -10.89",
          "Run: 6 <br>Log-posterior score: -10.89",
          "Run: 7 <br>Log-posterior score: -10.89",
          "Run: 8 <br>Log-posterior score: -10.89",
          "Run: 9 <br>Log-posterior score: -10.89",
          "Run: 10 <br>Log-posterior score: -10.89"
         ],
         "type": "box",
         "visible": true,
         "y": [
          2.6315189009302773,
          2.6315192647370904,
          2.6315195655578787,
          2.6315194596971536,
          2.6315194022600013,
          2.6315193859812953,
          2.631519173583679,
          2.6315191848162356,
          2.6315195291436173,
          2.631518613294969
         ]
        },
        {
         "boxpoints": "all",
         "hovertemplate": "Estimate: %{y:.2f}<br>%{text}",
         "jitter": 0.2,
         "line": {
          "color": "#AB63FA"
         },
         "marker": {
          "color": "#AB63FA",
          "line": {
           "color": "black",
           "width": 1
          },
          "opacity": 0.7,
          "symbol": "circle"
         },
         "name": "ID: 108",
         "pointpos": -1.5,
         "text": [
          "Run: 1 <br>Log-posterior score: -9.85",
          "Run: 2 <br>Log-posterior score: -9.85",
          "Run: 3 <br>Log-posterior score: -9.85",
          "Run: 4 <br>Log-posterior score: -9.85",
          "Run: 5 <br>Log-posterior score: -9.85",
          "Run: 6 <br>Log-posterior score: -9.85",
          "Run: 7 <br>Log-posterior score: -9.85",
          "Run: 8 <br>Log-posterior score: -9.85",
          "Run: 9 <br>Log-posterior score: -9.85",
          "Run: 10 <br>Log-posterior score: -9.85"
         ],
         "type": "box",
         "visible": true,
         "y": [
          1.5738518862834634,
          1.5738518386673488,
          1.5738517702806136,
          1.573851822516988,
          1.5738523719775608,
          1.5738516949773607,
          1.573852022383333,
          1.5738519809204288,
          1.5738519861005469,
          1.5738514237723367
         ]
        },
        {
         "boxpoints": "all",
         "hovertemplate": "Estimate: %{y:.2f}<br>%{text}",
         "jitter": 0.2,
         "line": {
          "color": "#FFA15A"
         },
         "marker": {
          "color": "#FFA15A",
          "line": {
           "color": "black",
           "width": 1
          },
          "opacity": 0.7,
          "symbol": "circle"
         },
         "name": "ID: 122",
         "pointpos": -1.5,
         "text": [
          "Run: 1 <br>Log-posterior score: -10.44",
          "Run: 2 <br>Log-posterior score: -10.44",
          "Run: 3 <br>Log-posterior score: -10.44",
          "Run: 4 <br>Log-posterior score: -10.44",
          "Run: 5 <br>Log-posterior score: -10.44",
          "Run: 6 <br>Log-posterior score: -10.44",
          "Run: 7 <br>Log-posterior score: -10.44",
          "Run: 8 <br>Log-posterior score: -10.44",
          "Run: 9 <br>Log-posterior score: -10.44",
          "Run: 10 <br>Log-posterior score: -10.44"
         ],
         "type": "box",
         "visible": true,
         "y": [
          2.1666682957101595,
          2.166667790277556,
          2.1666675737507375,
          2.1666682217098594,
          2.166667944100826,
          2.1666691353241205,
          2.1666705476020183,
          2.166668788319457,
          2.1666678007604916,
          2.166667665525714
         ]
        },
        {
         "boxpoints": "all",
         "hovertemplate": "Estimate: %{y:.2f}<br>%{text}",
         "jitter": 0.2,
         "line": {
          "color": "#19D3F3"
         },
         "marker": {
          "color": "#19D3F3",
          "line": {
           "color": "black",
           "width": 1
          },
          "opacity": 0.7,
          "symbol": "circle"
         },
         "name": "ID: 129",
         "pointpos": -1.5,
         "text": [
          "Run: 1 <br>Log-posterior score: -9.83",
          "Run: 2 <br>Log-posterior score: -9.83",
          "Run: 3 <br>Log-posterior score: -9.83",
          "Run: 4 <br>Log-posterior score: -9.83",
          "Run: 5 <br>Log-posterior score: -9.83",
          "Run: 6 <br>Log-posterior score: -9.83",
          "Run: 7 <br>Log-posterior score: -9.83",
          "Run: 8 <br>Log-posterior score: -9.83",
          "Run: 9 <br>Log-posterior score: -9.83",
          "Run: 10 <br>Log-posterior score: -9.83"
         ],
         "type": "box",
         "visible": true,
         "y": [
          1.5126335390915047,
          1.5126326603890854,
          1.5126310616987946,
          1.5126343019037638,
          1.512634113116757,
          1.5126350954138519,
          1.51263393718175,
          1.5126334054941057,
          1.5126337887820667,
          1.512633138490751
         ]
        },
        {
         "boxpoints": "all",
         "hovertemplate": "Estimate: %{y:.2f}<br>%{text}",
         "jitter": 0.2,
         "line": {
          "color": "#FF6692"
         },
         "marker": {
          "color": "#FF6692",
          "line": {
           "color": "black",
           "width": 1
          },
          "opacity": 0.7,
          "symbol": "circle"
         },
         "name": "ID: 163",
         "pointpos": -1.5,
         "text": [
          "Run: 1 <br>Log-posterior score: -10.34",
          "Run: 2 <br>Log-posterior score: -10.34",
          "Run: 3 <br>Log-posterior score: -10.34",
          "Run: 4 <br>Log-posterior score: -10.34",
          "Run: 5 <br>Log-posterior score: -10.34",
          "Run: 6 <br>Log-posterior score: -10.34",
          "Run: 7 <br>Log-posterior score: -10.34",
          "Run: 8 <br>Log-posterior score: -10.34",
          "Run: 9 <br>Log-posterior score: -10.34",
          "Run: 10 <br>Log-posterior score: -10.34"
         ],
         "type": "box",
         "visible": true,
         "y": [
          2.057433414682003,
          2.056053324193374,
          2.0572652808694634,
          2.057261235098375,
          2.0576477668992466,
          2.057268921501363,
          2.0572756568356625,
          2.056115710439223,
          2.057267902519173,
          2.0574014309986035
         ]
        },
        {
         "boxpoints": "all",
         "hovertemplate": "Estimate: %{y:.2f}<br>%{text}",
         "jitter": 0.2,
         "line": {
          "color": "#B6E880"
         },
         "marker": {
          "color": "#B6E880",
          "line": {
           "color": "black",
           "width": 1
          },
          "opacity": 0.7,
          "symbol": "circle"
         },
         "name": "ID: 167",
         "pointpos": -1.5,
         "text": [
          "Run: 1 <br>Log-posterior score: -8.20",
          "Run: 2 <br>Log-posterior score: -8.20",
          "Run: 3 <br>Log-posterior score: -8.20",
          "Run: 4 <br>Log-posterior score: -8.20",
          "Run: 5 <br>Log-posterior score: -8.20",
          "Run: 6 <br>Log-posterior score: -8.20",
          "Run: 7 <br>Log-posterior score: -8.20",
          "Run: 8 <br>Log-posterior score: -8.20",
          "Run: 9 <br>Log-posterior score: -8.20",
          "Run: 10 <br>Log-posterior score: -8.20"
         ],
         "type": "box",
         "visible": true,
         "y": [
          2.560196738555123,
          2.560197064956704,
          2.5601969790521024,
          2.5601968780872286,
          2.5601967248550697,
          2.560196867085414,
          2.560196937821667,
          2.560196801605424,
          2.5601967730362825,
          2.5601966619615903
         ]
        }
       ],
       "layout": {
        "autosize": true,
        "template": {
         "data": {
          "bar": [
           {
            "error_x": {
             "color": "#2a3f5f"
            },
            "error_y": {
             "color": "#2a3f5f"
            },
            "marker": {
             "line": {
              "color": "white",
              "width": 0.5
             }
            },
            "type": "bar"
           }
          ],
          "barpolar": [
           {
            "marker": {
             "line": {
              "color": "white",
              "width": 0.5
             }
            },
            "type": "barpolar"
           }
          ],
          "carpet": [
           {
            "aaxis": {
             "endlinecolor": "#2a3f5f",
             "gridcolor": "#C8D4E3",
             "linecolor": "#C8D4E3",
             "minorgridcolor": "#C8D4E3",
             "startlinecolor": "#2a3f5f"
            },
            "baxis": {
             "endlinecolor": "#2a3f5f",
             "gridcolor": "#C8D4E3",
             "linecolor": "#C8D4E3",
             "minorgridcolor": "#C8D4E3",
             "startlinecolor": "#2a3f5f"
            },
            "type": "carpet"
           }
          ],
          "choropleth": [
           {
            "colorbar": {
             "outlinewidth": 0,
             "ticks": ""
            },
            "type": "choropleth"
           }
          ],
          "contour": [
           {
            "colorbar": {
             "outlinewidth": 0,
             "ticks": ""
            },
            "colorscale": [
             [
              0,
              "#0d0887"
             ],
             [
              0.1111111111111111,
              "#46039f"
             ],
             [
              0.2222222222222222,
              "#7201a8"
             ],
             [
              0.3333333333333333,
              "#9c179e"
             ],
             [
              0.4444444444444444,
              "#bd3786"
             ],
             [
              0.5555555555555556,
              "#d8576b"
             ],
             [
              0.6666666666666666,
              "#ed7953"
             ],
             [
              0.7777777777777778,
              "#fb9f3a"
             ],
             [
              0.8888888888888888,
              "#fdca26"
             ],
             [
              1,
              "#f0f921"
             ]
            ],
            "type": "contour"
           }
          ],
          "contourcarpet": [
           {
            "colorbar": {
             "outlinewidth": 0,
             "ticks": ""
            },
            "type": "contourcarpet"
           }
          ],
          "heatmap": [
           {
            "colorbar": {
             "outlinewidth": 0,
             "ticks": ""
            },
            "colorscale": [
             [
              0,
              "#0d0887"
             ],
             [
              0.1111111111111111,
              "#46039f"
             ],
             [
              0.2222222222222222,
              "#7201a8"
             ],
             [
              0.3333333333333333,
              "#9c179e"
             ],
             [
              0.4444444444444444,
              "#bd3786"
             ],
             [
              0.5555555555555556,
              "#d8576b"
             ],
             [
              0.6666666666666666,
              "#ed7953"
             ],
             [
              0.7777777777777778,
              "#fb9f3a"
             ],
             [
              0.8888888888888888,
              "#fdca26"
             ],
             [
              1,
              "#f0f921"
             ]
            ],
            "type": "heatmap"
           }
          ],
          "heatmapgl": [
           {
            "colorbar": {
             "outlinewidth": 0,
             "ticks": ""
            },
            "colorscale": [
             [
              0,
              "#0d0887"
             ],
             [
              0.1111111111111111,
              "#46039f"
             ],
             [
              0.2222222222222222,
              "#7201a8"
             ],
             [
              0.3333333333333333,
              "#9c179e"
             ],
             [
              0.4444444444444444,
              "#bd3786"
             ],
             [
              0.5555555555555556,
              "#d8576b"
             ],
             [
              0.6666666666666666,
              "#ed7953"
             ],
             [
              0.7777777777777778,
              "#fb9f3a"
             ],
             [
              0.8888888888888888,
              "#fdca26"
             ],
             [
              1,
              "#f0f921"
             ]
            ],
            "type": "heatmapgl"
           }
          ],
          "histogram": [
           {
            "marker": {
             "colorbar": {
              "outlinewidth": 0,
              "ticks": ""
             }
            },
            "type": "histogram"
           }
          ],
          "histogram2d": [
           {
            "colorbar": {
             "outlinewidth": 0,
             "ticks": ""
            },
            "colorscale": [
             [
              0,
              "#0d0887"
             ],
             [
              0.1111111111111111,
              "#46039f"
             ],
             [
              0.2222222222222222,
              "#7201a8"
             ],
             [
              0.3333333333333333,
              "#9c179e"
             ],
             [
              0.4444444444444444,
              "#bd3786"
             ],
             [
              0.5555555555555556,
              "#d8576b"
             ],
             [
              0.6666666666666666,
              "#ed7953"
             ],
             [
              0.7777777777777778,
              "#fb9f3a"
             ],
             [
              0.8888888888888888,
              "#fdca26"
             ],
             [
              1,
              "#f0f921"
             ]
            ],
            "type": "histogram2d"
           }
          ],
          "histogram2dcontour": [
           {
            "colorbar": {
             "outlinewidth": 0,
             "ticks": ""
            },
            "colorscale": [
             [
              0,
              "#0d0887"
             ],
             [
              0.1111111111111111,
              "#46039f"
             ],
             [
              0.2222222222222222,
              "#7201a8"
             ],
             [
              0.3333333333333333,
              "#9c179e"
             ],
             [
              0.4444444444444444,
              "#bd3786"
             ],
             [
              0.5555555555555556,
              "#d8576b"
             ],
             [
              0.6666666666666666,
              "#ed7953"
             ],
             [
              0.7777777777777778,
              "#fb9f3a"
             ],
             [
              0.8888888888888888,
              "#fdca26"
             ],
             [
              1,
              "#f0f921"
             ]
            ],
            "type": "histogram2dcontour"
           }
          ],
          "mesh3d": [
           {
            "colorbar": {
             "outlinewidth": 0,
             "ticks": ""
            },
            "type": "mesh3d"
           }
          ],
          "parcoords": [
           {
            "line": {
             "colorbar": {
              "outlinewidth": 0,
              "ticks": ""
             }
            },
            "type": "parcoords"
           }
          ],
          "pie": [
           {
            "automargin": true,
            "type": "pie"
           }
          ],
          "scatter": [
           {
            "marker": {
             "colorbar": {
              "outlinewidth": 0,
              "ticks": ""
             }
            },
            "type": "scatter"
           }
          ],
          "scatter3d": [
           {
            "line": {
             "colorbar": {
              "outlinewidth": 0,
              "ticks": ""
             }
            },
            "marker": {
             "colorbar": {
              "outlinewidth": 0,
              "ticks": ""
             }
            },
            "type": "scatter3d"
           }
          ],
          "scattercarpet": [
           {
            "marker": {
             "colorbar": {
              "outlinewidth": 0,
              "ticks": ""
             }
            },
            "type": "scattercarpet"
           }
          ],
          "scattergeo": [
           {
            "marker": {
             "colorbar": {
              "outlinewidth": 0,
              "ticks": ""
             }
            },
            "type": "scattergeo"
           }
          ],
          "scattergl": [
           {
            "marker": {
             "colorbar": {
              "outlinewidth": 0,
              "ticks": ""
             }
            },
            "type": "scattergl"
           }
          ],
          "scattermapbox": [
           {
            "marker": {
             "colorbar": {
              "outlinewidth": 0,
              "ticks": ""
             }
            },
            "type": "scattermapbox"
           }
          ],
          "scatterpolar": [
           {
            "marker": {
             "colorbar": {
              "outlinewidth": 0,
              "ticks": ""
             }
            },
            "type": "scatterpolar"
           }
          ],
          "scatterpolargl": [
           {
            "marker": {
             "colorbar": {
              "outlinewidth": 0,
              "ticks": ""
             }
            },
            "type": "scatterpolargl"
           }
          ],
          "scatterternary": [
           {
            "marker": {
             "colorbar": {
              "outlinewidth": 0,
              "ticks": ""
             }
            },
            "type": "scatterternary"
           }
          ],
          "surface": [
           {
            "colorbar": {
             "outlinewidth": 0,
             "ticks": ""
            },
            "colorscale": [
             [
              0,
              "#0d0887"
             ],
             [
              0.1111111111111111,
              "#46039f"
             ],
             [
              0.2222222222222222,
              "#7201a8"
             ],
             [
              0.3333333333333333,
              "#9c179e"
             ],
             [
              0.4444444444444444,
              "#bd3786"
             ],
             [
              0.5555555555555556,
              "#d8576b"
             ],
             [
              0.6666666666666666,
              "#ed7953"
             ],
             [
              0.7777777777777778,
              "#fb9f3a"
             ],
             [
              0.8888888888888888,
              "#fdca26"
             ],
             [
              1,
              "#f0f921"
             ]
            ],
            "type": "surface"
           }
          ],
          "table": [
           {
            "cells": {
             "fill": {
              "color": "#EBF0F8"
             },
             "line": {
              "color": "white"
             }
            },
            "header": {
             "fill": {
              "color": "#C8D4E3"
             },
             "line": {
              "color": "white"
             }
            },
            "type": "table"
           }
          ]
         },
         "layout": {
          "annotationdefaults": {
           "arrowcolor": "#2a3f5f",
           "arrowhead": 0,
           "arrowwidth": 1
          },
          "coloraxis": {
           "colorbar": {
            "outlinewidth": 0,
            "ticks": ""
           }
          },
          "colorscale": {
           "diverging": [
            [
             0,
             "#8e0152"
            ],
            [
             0.1,
             "#c51b7d"
            ],
            [
             0.2,
             "#de77ae"
            ],
            [
             0.3,
             "#f1b6da"
            ],
            [
             0.4,
             "#fde0ef"
            ],
            [
             0.5,
             "#f7f7f7"
            ],
            [
             0.6,
             "#e6f5d0"
            ],
            [
             0.7,
             "#b8e186"
            ],
            [
             0.8,
             "#7fbc41"
            ],
            [
             0.9,
             "#4d9221"
            ],
            [
             1,
             "#276419"
            ]
           ],
           "sequential": [
            [
             0,
             "#0d0887"
            ],
            [
             0.1111111111111111,
             "#46039f"
            ],
            [
             0.2222222222222222,
             "#7201a8"
            ],
            [
             0.3333333333333333,
             "#9c179e"
            ],
            [
             0.4444444444444444,
             "#bd3786"
            ],
            [
             0.5555555555555556,
             "#d8576b"
            ],
            [
             0.6666666666666666,
             "#ed7953"
            ],
            [
             0.7777777777777778,
             "#fb9f3a"
            ],
            [
             0.8888888888888888,
             "#fdca26"
            ],
            [
             1,
             "#f0f921"
            ]
           ],
           "sequentialminus": [
            [
             0,
             "#0d0887"
            ],
            [
             0.1111111111111111,
             "#46039f"
            ],
            [
             0.2222222222222222,
             "#7201a8"
            ],
            [
             0.3333333333333333,
             "#9c179e"
            ],
            [
             0.4444444444444444,
             "#bd3786"
            ],
            [
             0.5555555555555556,
             "#d8576b"
            ],
            [
             0.6666666666666666,
             "#ed7953"
            ],
            [
             0.7777777777777778,
             "#fb9f3a"
            ],
            [
             0.8888888888888888,
             "#fdca26"
            ],
            [
             1,
             "#f0f921"
            ]
           ]
          },
          "colorway": [
           "#636efa",
           "#EF553B",
           "#00cc96",
           "#ab63fa",
           "#FFA15A",
           "#19d3f3",
           "#FF6692",
           "#B6E880",
           "#FF97FF",
           "#FECB52"
          ],
          "font": {
           "color": "#2a3f5f"
          },
          "geo": {
           "bgcolor": "white",
           "lakecolor": "white",
           "landcolor": "white",
           "showlakes": true,
           "showland": true,
           "subunitcolor": "#C8D4E3"
          },
          "hoverlabel": {
           "align": "left"
          },
          "hovermode": "closest",
          "mapbox": {
           "style": "light"
          },
          "paper_bgcolor": "white",
          "plot_bgcolor": "white",
          "polar": {
           "angularaxis": {
            "gridcolor": "#EBF0F8",
            "linecolor": "#EBF0F8",
            "ticks": ""
           },
           "bgcolor": "white",
           "radialaxis": {
            "gridcolor": "#EBF0F8",
            "linecolor": "#EBF0F8",
            "ticks": ""
           }
          },
          "scene": {
           "xaxis": {
            "backgroundcolor": "white",
            "gridcolor": "#DFE8F3",
            "gridwidth": 2,
            "linecolor": "#EBF0F8",
            "showbackground": true,
            "ticks": "",
            "zerolinecolor": "#EBF0F8"
           },
           "yaxis": {
            "backgroundcolor": "white",
            "gridcolor": "#DFE8F3",
            "gridwidth": 2,
            "linecolor": "#EBF0F8",
            "showbackground": true,
            "ticks": "",
            "zerolinecolor": "#EBF0F8"
           },
           "zaxis": {
            "backgroundcolor": "white",
            "gridcolor": "#DFE8F3",
            "gridwidth": 2,
            "linecolor": "#EBF0F8",
            "showbackground": true,
            "ticks": "",
            "zerolinecolor": "#EBF0F8"
           }
          },
          "shapedefaults": {
           "line": {
            "color": "#2a3f5f"
           }
          },
          "ternary": {
           "aaxis": {
            "gridcolor": "#DFE8F3",
            "linecolor": "#A2B1C6",
            "ticks": ""
           },
           "baxis": {
            "gridcolor": "#DFE8F3",
            "linecolor": "#A2B1C6",
            "ticks": ""
           },
           "bgcolor": "white",
           "caxis": {
            "gridcolor": "#DFE8F3",
            "linecolor": "#A2B1C6",
            "ticks": ""
           }
          },
          "title": {
           "x": 0.05
          },
          "xaxis": {
           "automargin": true,
           "gridcolor": "#EBF0F8",
           "linecolor": "#EBF0F8",
           "ticks": "",
           "title": {
            "standoff": 15
           },
           "zerolinecolor": "#EBF0F8",
           "zerolinewidth": 2
          },
          "yaxis": {
           "automargin": true,
           "gridcolor": "#EBF0F8",
           "linecolor": "#EBF0F8",
           "ticks": "",
           "title": {
            "standoff": 15
           },
           "zerolinecolor": "#EBF0F8",
           "zerolinewidth": 2
          }
         }
        },
        "updatemenus": [
         {
          "buttons": [
           {
            "args": [
             {
              "yaxis.type": "linear"
             }
            ],
            "label": "Linear y-scale",
            "method": "relayout"
           },
           {
            "args": [
             {
              "yaxis.type": "log"
             }
            ],
            "label": "Log y-scale",
            "method": "relayout"
           }
          ],
          "direction": "left",
          "pad": {
           "r": 0,
           "t": -10
          },
          "showactive": true,
          "type": "buttons",
          "x": 0,
          "xanchor": "left",
          "y": 1.15,
          "yanchor": "top"
         }
        ],
        "yaxis": {
         "title": {
          "text": "Noise param 1"
         }
        }
       }
      }
     },
     "metadata": {}
    },
    {
     "output_type": "display_data",
     "data": {
      "application/vnd.plotly.v1+json": {
       "config": {
        "plotlyServerURL": "https://plot.ly"
       },
       "data": [
        {
         "boxpoints": "all",
         "hovertemplate": "Estimate: %{y:.2f}<br>%{text}",
         "jitter": 0.2,
         "line": {
          "color": "#636EFA"
         },
         "marker": {
          "color": "#636EFA",
          "line": {
           "color": "black",
           "width": 1
          },
          "opacity": 0.7,
          "symbol": "circle"
         },
         "name": "ID: 34",
         "pointpos": -1.5,
         "text": [
          "Run: 1 <br>Log-posterior score: -8.34",
          "Run: 2 <br>Log-posterior score: -8.34",
          "Run: 3 <br>Log-posterior score: -8.34",
          "Run: 4 <br>Log-posterior score: -8.34",
          "Run: 5 <br>Log-posterior score: -8.34",
          "Run: 6 <br>Log-posterior score: -8.34",
          "Run: 7 <br>Log-posterior score: -8.34",
          "Run: 8 <br>Log-posterior score: -8.34",
          "Run: 9 <br>Log-posterior score: -8.34",
          "Run: 10 <br>Log-posterior score: -8.34"
         ],
         "type": "box",
         "visible": true,
         "y": [
          2.960321259403842,
          2.9603210794867145,
          2.9603215456319596,
          2.96032110113498,
          2.9603210649801044,
          2.9603210211539763,
          2.9603206229497845,
          2.9603210459414253,
          2.960321281432161,
          2.9603208826881033
         ]
        },
        {
         "boxpoints": "all",
         "hovertemplate": "Estimate: %{y:.2f}<br>%{text}",
         "jitter": 0.2,
         "line": {
          "color": "#EF553B"
         },
         "marker": {
          "color": "#EF553B",
          "line": {
           "color": "black",
           "width": 1
          },
          "opacity": 0.7,
          "symbol": "circle"
         },
         "name": "ID: 52",
         "pointpos": -1.5,
         "text": [
          "Run: 1 <br>Log-posterior score: -7.49",
          "Run: 2 <br>Log-posterior score: -7.49",
          "Run: 3 <br>Log-posterior score: -7.49",
          "Run: 4 <br>Log-posterior score: -7.49",
          "Run: 5 <br>Log-posterior score: -7.49",
          "Run: 6 <br>Log-posterior score: -7.49",
          "Run: 7 <br>Log-posterior score: -7.49",
          "Run: 8 <br>Log-posterior score: -7.49",
          "Run: 9 <br>Log-posterior score: -7.49",
          "Run: 10 <br>Log-posterior score: -7.49"
         ],
         "type": "box",
         "visible": true,
         "y": [
          2.4158580531714278,
          2.415012816920343,
          2.416026400357383,
          2.4150130482837393,
          2.4166763290114255,
          2.415393036470863,
          2.4177126743923645,
          2.410948494586631,
          2.4150148189123124,
          2.415013525491378
         ]
        },
        {
         "boxpoints": "all",
         "hovertemplate": "Estimate: %{y:.2f}<br>%{text}",
         "jitter": 0.2,
         "line": {
          "color": "#00CC96"
         },
         "marker": {
          "color": "#00CC96",
          "line": {
           "color": "black",
           "width": 1
          },
          "opacity": 0.7,
          "symbol": "circle"
         },
         "name": "ID: 91",
         "pointpos": -1.5,
         "text": [
          "Run: 1 <br>Log-posterior score: -10.89",
          "Run: 2 <br>Log-posterior score: -10.89",
          "Run: 3 <br>Log-posterior score: -10.89",
          "Run: 4 <br>Log-posterior score: -10.89",
          "Run: 5 <br>Log-posterior score: -10.89",
          "Run: 6 <br>Log-posterior score: -10.89",
          "Run: 7 <br>Log-posterior score: -10.89",
          "Run: 8 <br>Log-posterior score: -10.89",
          "Run: 9 <br>Log-posterior score: -10.89",
          "Run: 10 <br>Log-posterior score: -10.89"
         ],
         "type": "box",
         "visible": true,
         "y": [
          2.8788164913117584,
          2.8788163230763972,
          2.8788168281596582,
          2.878816489271928,
          2.8788162915343216,
          2.8788164680677597,
          2.878816555026139,
          2.8788162026679927,
          2.8788165755845427,
          2.878816745924448
         ]
        },
        {
         "boxpoints": "all",
         "hovertemplate": "Estimate: %{y:.2f}<br>%{text}",
         "jitter": 0.2,
         "line": {
          "color": "#AB63FA"
         },
         "marker": {
          "color": "#AB63FA",
          "line": {
           "color": "black",
           "width": 1
          },
          "opacity": 0.7,
          "symbol": "circle"
         },
         "name": "ID: 108",
         "pointpos": -1.5,
         "text": [
          "Run: 1 <br>Log-posterior score: -9.85",
          "Run: 2 <br>Log-posterior score: -9.85",
          "Run: 3 <br>Log-posterior score: -9.85",
          "Run: 4 <br>Log-posterior score: -9.85",
          "Run: 5 <br>Log-posterior score: -9.85",
          "Run: 6 <br>Log-posterior score: -9.85",
          "Run: 7 <br>Log-posterior score: -9.85",
          "Run: 8 <br>Log-posterior score: -9.85",
          "Run: 9 <br>Log-posterior score: -9.85",
          "Run: 10 <br>Log-posterior score: -9.85"
         ],
         "type": "box",
         "visible": true,
         "y": [
          2.4031085248471435,
          2.4031088393821567,
          2.4031088623963877,
          2.4031091816638104,
          2.4031081989286793,
          2.403108562902469,
          2.403107388450347,
          2.403108136701146,
          2.4031084229528497,
          2.403108522769819
         ]
        },
        {
         "boxpoints": "all",
         "hovertemplate": "Estimate: %{y:.2f}<br>%{text}",
         "jitter": 0.2,
         "line": {
          "color": "#FFA15A"
         },
         "marker": {
          "color": "#FFA15A",
          "line": {
           "color": "black",
           "width": 1
          },
          "opacity": 0.7,
          "symbol": "circle"
         },
         "name": "ID: 122",
         "pointpos": -1.5,
         "text": [
          "Run: 1 <br>Log-posterior score: -10.44",
          "Run: 2 <br>Log-posterior score: -10.44",
          "Run: 3 <br>Log-posterior score: -10.44",
          "Run: 4 <br>Log-posterior score: -10.44",
          "Run: 5 <br>Log-posterior score: -10.44",
          "Run: 6 <br>Log-posterior score: -10.44",
          "Run: 7 <br>Log-posterior score: -10.44",
          "Run: 8 <br>Log-posterior score: -10.44",
          "Run: 9 <br>Log-posterior score: -10.44",
          "Run: 10 <br>Log-posterior score: -10.44"
         ],
         "type": "box",
         "visible": true,
         "y": [
          2.6460844885623405,
          2.6460828929446074,
          2.646083930087681,
          2.646082650566895,
          2.646080925609616,
          2.6460822334709295,
          2.646077446520349,
          2.646082106487117,
          2.6460827628310994,
          2.6460813164093
         ]
        },
        {
         "boxpoints": "all",
         "hovertemplate": "Estimate: %{y:.2f}<br>%{text}",
         "jitter": 0.2,
         "line": {
          "color": "#19D3F3"
         },
         "marker": {
          "color": "#19D3F3",
          "line": {
           "color": "black",
           "width": 1
          },
          "opacity": 0.7,
          "symbol": "circle"
         },
         "name": "ID: 129",
         "pointpos": -1.5,
         "text": [
          "Run: 1 <br>Log-posterior score: -9.83",
          "Run: 2 <br>Log-posterior score: -9.83",
          "Run: 3 <br>Log-posterior score: -9.83",
          "Run: 4 <br>Log-posterior score: -9.83",
          "Run: 5 <br>Log-posterior score: -9.83",
          "Run: 6 <br>Log-posterior score: -9.83",
          "Run: 7 <br>Log-posterior score: -9.83",
          "Run: 8 <br>Log-posterior score: -9.83",
          "Run: 9 <br>Log-posterior score: -9.83",
          "Run: 10 <br>Log-posterior score: -9.83"
         ],
         "type": "box",
         "visible": true,
         "y": [
          2.401913660726697,
          2.401913651154709,
          2.401910125148108,
          2.401913170903237,
          2.40191418122306,
          2.4019124181846636,
          2.4019112908641227,
          2.4019133262520187,
          2.4019130249049145,
          2.401912901481594
         ]
        },
        {
         "boxpoints": "all",
         "hovertemplate": "Estimate: %{y:.2f}<br>%{text}",
         "jitter": 0.2,
         "line": {
          "color": "#FF6692"
         },
         "marker": {
          "color": "#FF6692",
          "line": {
           "color": "black",
           "width": 1
          },
          "opacity": 0.7,
          "symbol": "circle"
         },
         "name": "ID: 163",
         "pointpos": -1.5,
         "text": [
          "Run: 1 <br>Log-posterior score: -10.34",
          "Run: 2 <br>Log-posterior score: -10.34",
          "Run: 3 <br>Log-posterior score: -10.34",
          "Run: 4 <br>Log-posterior score: -10.34",
          "Run: 5 <br>Log-posterior score: -10.34",
          "Run: 6 <br>Log-posterior score: -10.34",
          "Run: 7 <br>Log-posterior score: -10.34",
          "Run: 8 <br>Log-posterior score: -10.34",
          "Run: 9 <br>Log-posterior score: -10.34",
          "Run: 10 <br>Log-posterior score: -10.34"
         ],
         "type": "box",
         "visible": true,
         "y": [
          2.592046214177977,
          2.592037577294026,
          2.592667460089669,
          2.5926903602827323,
          2.592672547169321,
          2.5926749963662794,
          2.592666079318962,
          2.591866160632173,
          2.592680449405366,
          2.5927407119070285
         ]
        },
        {
         "boxpoints": "all",
         "hovertemplate": "Estimate: %{y:.2f}<br>%{text}",
         "jitter": 0.2,
         "line": {
          "color": "#B6E880"
         },
         "marker": {
          "color": "#B6E880",
          "line": {
           "color": "black",
           "width": 1
          },
          "opacity": 0.7,
          "symbol": "circle"
         },
         "name": "ID: 167",
         "pointpos": -1.5,
         "text": [
          "Run: 1 <br>Log-posterior score: -8.20",
          "Run: 2 <br>Log-posterior score: -8.20",
          "Run: 3 <br>Log-posterior score: -8.20",
          "Run: 4 <br>Log-posterior score: -8.20",
          "Run: 5 <br>Log-posterior score: -8.20",
          "Run: 6 <br>Log-posterior score: -8.20",
          "Run: 7 <br>Log-posterior score: -8.20",
          "Run: 8 <br>Log-posterior score: -8.20",
          "Run: 9 <br>Log-posterior score: -8.20",
          "Run: 10 <br>Log-posterior score: -8.20"
         ],
         "type": "box",
         "visible": true,
         "y": [
          2.8983342555615144,
          2.898334636721294,
          2.898334058235941,
          2.8983335724265307,
          2.89833383364532,
          2.898334191014473,
          2.898333833762379,
          2.8983338332151427,
          2.8983339772142025,
          2.898333728123088
         ]
        }
       ],
       "layout": {
        "autosize": true,
        "template": {
         "data": {
          "bar": [
           {
            "error_x": {
             "color": "#2a3f5f"
            },
            "error_y": {
             "color": "#2a3f5f"
            },
            "marker": {
             "line": {
              "color": "white",
              "width": 0.5
             }
            },
            "type": "bar"
           }
          ],
          "barpolar": [
           {
            "marker": {
             "line": {
              "color": "white",
              "width": 0.5
             }
            },
            "type": "barpolar"
           }
          ],
          "carpet": [
           {
            "aaxis": {
             "endlinecolor": "#2a3f5f",
             "gridcolor": "#C8D4E3",
             "linecolor": "#C8D4E3",
             "minorgridcolor": "#C8D4E3",
             "startlinecolor": "#2a3f5f"
            },
            "baxis": {
             "endlinecolor": "#2a3f5f",
             "gridcolor": "#C8D4E3",
             "linecolor": "#C8D4E3",
             "minorgridcolor": "#C8D4E3",
             "startlinecolor": "#2a3f5f"
            },
            "type": "carpet"
           }
          ],
          "choropleth": [
           {
            "colorbar": {
             "outlinewidth": 0,
             "ticks": ""
            },
            "type": "choropleth"
           }
          ],
          "contour": [
           {
            "colorbar": {
             "outlinewidth": 0,
             "ticks": ""
            },
            "colorscale": [
             [
              0,
              "#0d0887"
             ],
             [
              0.1111111111111111,
              "#46039f"
             ],
             [
              0.2222222222222222,
              "#7201a8"
             ],
             [
              0.3333333333333333,
              "#9c179e"
             ],
             [
              0.4444444444444444,
              "#bd3786"
             ],
             [
              0.5555555555555556,
              "#d8576b"
             ],
             [
              0.6666666666666666,
              "#ed7953"
             ],
             [
              0.7777777777777778,
              "#fb9f3a"
             ],
             [
              0.8888888888888888,
              "#fdca26"
             ],
             [
              1,
              "#f0f921"
             ]
            ],
            "type": "contour"
           }
          ],
          "contourcarpet": [
           {
            "colorbar": {
             "outlinewidth": 0,
             "ticks": ""
            },
            "type": "contourcarpet"
           }
          ],
          "heatmap": [
           {
            "colorbar": {
             "outlinewidth": 0,
             "ticks": ""
            },
            "colorscale": [
             [
              0,
              "#0d0887"
             ],
             [
              0.1111111111111111,
              "#46039f"
             ],
             [
              0.2222222222222222,
              "#7201a8"
             ],
             [
              0.3333333333333333,
              "#9c179e"
             ],
             [
              0.4444444444444444,
              "#bd3786"
             ],
             [
              0.5555555555555556,
              "#d8576b"
             ],
             [
              0.6666666666666666,
              "#ed7953"
             ],
             [
              0.7777777777777778,
              "#fb9f3a"
             ],
             [
              0.8888888888888888,
              "#fdca26"
             ],
             [
              1,
              "#f0f921"
             ]
            ],
            "type": "heatmap"
           }
          ],
          "heatmapgl": [
           {
            "colorbar": {
             "outlinewidth": 0,
             "ticks": ""
            },
            "colorscale": [
             [
              0,
              "#0d0887"
             ],
             [
              0.1111111111111111,
              "#46039f"
             ],
             [
              0.2222222222222222,
              "#7201a8"
             ],
             [
              0.3333333333333333,
              "#9c179e"
             ],
             [
              0.4444444444444444,
              "#bd3786"
             ],
             [
              0.5555555555555556,
              "#d8576b"
             ],
             [
              0.6666666666666666,
              "#ed7953"
             ],
             [
              0.7777777777777778,
              "#fb9f3a"
             ],
             [
              0.8888888888888888,
              "#fdca26"
             ],
             [
              1,
              "#f0f921"
             ]
            ],
            "type": "heatmapgl"
           }
          ],
          "histogram": [
           {
            "marker": {
             "colorbar": {
              "outlinewidth": 0,
              "ticks": ""
             }
            },
            "type": "histogram"
           }
          ],
          "histogram2d": [
           {
            "colorbar": {
             "outlinewidth": 0,
             "ticks": ""
            },
            "colorscale": [
             [
              0,
              "#0d0887"
             ],
             [
              0.1111111111111111,
              "#46039f"
             ],
             [
              0.2222222222222222,
              "#7201a8"
             ],
             [
              0.3333333333333333,
              "#9c179e"
             ],
             [
              0.4444444444444444,
              "#bd3786"
             ],
             [
              0.5555555555555556,
              "#d8576b"
             ],
             [
              0.6666666666666666,
              "#ed7953"
             ],
             [
              0.7777777777777778,
              "#fb9f3a"
             ],
             [
              0.8888888888888888,
              "#fdca26"
             ],
             [
              1,
              "#f0f921"
             ]
            ],
            "type": "histogram2d"
           }
          ],
          "histogram2dcontour": [
           {
            "colorbar": {
             "outlinewidth": 0,
             "ticks": ""
            },
            "colorscale": [
             [
              0,
              "#0d0887"
             ],
             [
              0.1111111111111111,
              "#46039f"
             ],
             [
              0.2222222222222222,
              "#7201a8"
             ],
             [
              0.3333333333333333,
              "#9c179e"
             ],
             [
              0.4444444444444444,
              "#bd3786"
             ],
             [
              0.5555555555555556,
              "#d8576b"
             ],
             [
              0.6666666666666666,
              "#ed7953"
             ],
             [
              0.7777777777777778,
              "#fb9f3a"
             ],
             [
              0.8888888888888888,
              "#fdca26"
             ],
             [
              1,
              "#f0f921"
             ]
            ],
            "type": "histogram2dcontour"
           }
          ],
          "mesh3d": [
           {
            "colorbar": {
             "outlinewidth": 0,
             "ticks": ""
            },
            "type": "mesh3d"
           }
          ],
          "parcoords": [
           {
            "line": {
             "colorbar": {
              "outlinewidth": 0,
              "ticks": ""
             }
            },
            "type": "parcoords"
           }
          ],
          "pie": [
           {
            "automargin": true,
            "type": "pie"
           }
          ],
          "scatter": [
           {
            "marker": {
             "colorbar": {
              "outlinewidth": 0,
              "ticks": ""
             }
            },
            "type": "scatter"
           }
          ],
          "scatter3d": [
           {
            "line": {
             "colorbar": {
              "outlinewidth": 0,
              "ticks": ""
             }
            },
            "marker": {
             "colorbar": {
              "outlinewidth": 0,
              "ticks": ""
             }
            },
            "type": "scatter3d"
           }
          ],
          "scattercarpet": [
           {
            "marker": {
             "colorbar": {
              "outlinewidth": 0,
              "ticks": ""
             }
            },
            "type": "scattercarpet"
           }
          ],
          "scattergeo": [
           {
            "marker": {
             "colorbar": {
              "outlinewidth": 0,
              "ticks": ""
             }
            },
            "type": "scattergeo"
           }
          ],
          "scattergl": [
           {
            "marker": {
             "colorbar": {
              "outlinewidth": 0,
              "ticks": ""
             }
            },
            "type": "scattergl"
           }
          ],
          "scattermapbox": [
           {
            "marker": {
             "colorbar": {
              "outlinewidth": 0,
              "ticks": ""
             }
            },
            "type": "scattermapbox"
           }
          ],
          "scatterpolar": [
           {
            "marker": {
             "colorbar": {
              "outlinewidth": 0,
              "ticks": ""
             }
            },
            "type": "scatterpolar"
           }
          ],
          "scatterpolargl": [
           {
            "marker": {
             "colorbar": {
              "outlinewidth": 0,
              "ticks": ""
             }
            },
            "type": "scatterpolargl"
           }
          ],
          "scatterternary": [
           {
            "marker": {
             "colorbar": {
              "outlinewidth": 0,
              "ticks": ""
             }
            },
            "type": "scatterternary"
           }
          ],
          "surface": [
           {
            "colorbar": {
             "outlinewidth": 0,
             "ticks": ""
            },
            "colorscale": [
             [
              0,
              "#0d0887"
             ],
             [
              0.1111111111111111,
              "#46039f"
             ],
             [
              0.2222222222222222,
              "#7201a8"
             ],
             [
              0.3333333333333333,
              "#9c179e"
             ],
             [
              0.4444444444444444,
              "#bd3786"
             ],
             [
              0.5555555555555556,
              "#d8576b"
             ],
             [
              0.6666666666666666,
              "#ed7953"
             ],
             [
              0.7777777777777778,
              "#fb9f3a"
             ],
             [
              0.8888888888888888,
              "#fdca26"
             ],
             [
              1,
              "#f0f921"
             ]
            ],
            "type": "surface"
           }
          ],
          "table": [
           {
            "cells": {
             "fill": {
              "color": "#EBF0F8"
             },
             "line": {
              "color": "white"
             }
            },
            "header": {
             "fill": {
              "color": "#C8D4E3"
             },
             "line": {
              "color": "white"
             }
            },
            "type": "table"
           }
          ]
         },
         "layout": {
          "annotationdefaults": {
           "arrowcolor": "#2a3f5f",
           "arrowhead": 0,
           "arrowwidth": 1
          },
          "coloraxis": {
           "colorbar": {
            "outlinewidth": 0,
            "ticks": ""
           }
          },
          "colorscale": {
           "diverging": [
            [
             0,
             "#8e0152"
            ],
            [
             0.1,
             "#c51b7d"
            ],
            [
             0.2,
             "#de77ae"
            ],
            [
             0.3,
             "#f1b6da"
            ],
            [
             0.4,
             "#fde0ef"
            ],
            [
             0.5,
             "#f7f7f7"
            ],
            [
             0.6,
             "#e6f5d0"
            ],
            [
             0.7,
             "#b8e186"
            ],
            [
             0.8,
             "#7fbc41"
            ],
            [
             0.9,
             "#4d9221"
            ],
            [
             1,
             "#276419"
            ]
           ],
           "sequential": [
            [
             0,
             "#0d0887"
            ],
            [
             0.1111111111111111,
             "#46039f"
            ],
            [
             0.2222222222222222,
             "#7201a8"
            ],
            [
             0.3333333333333333,
             "#9c179e"
            ],
            [
             0.4444444444444444,
             "#bd3786"
            ],
            [
             0.5555555555555556,
             "#d8576b"
            ],
            [
             0.6666666666666666,
             "#ed7953"
            ],
            [
             0.7777777777777778,
             "#fb9f3a"
            ],
            [
             0.8888888888888888,
             "#fdca26"
            ],
            [
             1,
             "#f0f921"
            ]
           ],
           "sequentialminus": [
            [
             0,
             "#0d0887"
            ],
            [
             0.1111111111111111,
             "#46039f"
            ],
            [
             0.2222222222222222,
             "#7201a8"
            ],
            [
             0.3333333333333333,
             "#9c179e"
            ],
            [
             0.4444444444444444,
             "#bd3786"
            ],
            [
             0.5555555555555556,
             "#d8576b"
            ],
            [
             0.6666666666666666,
             "#ed7953"
            ],
            [
             0.7777777777777778,
             "#fb9f3a"
            ],
            [
             0.8888888888888888,
             "#fdca26"
            ],
            [
             1,
             "#f0f921"
            ]
           ]
          },
          "colorway": [
           "#636efa",
           "#EF553B",
           "#00cc96",
           "#ab63fa",
           "#FFA15A",
           "#19d3f3",
           "#FF6692",
           "#B6E880",
           "#FF97FF",
           "#FECB52"
          ],
          "font": {
           "color": "#2a3f5f"
          },
          "geo": {
           "bgcolor": "white",
           "lakecolor": "white",
           "landcolor": "white",
           "showlakes": true,
           "showland": true,
           "subunitcolor": "#C8D4E3"
          },
          "hoverlabel": {
           "align": "left"
          },
          "hovermode": "closest",
          "mapbox": {
           "style": "light"
          },
          "paper_bgcolor": "white",
          "plot_bgcolor": "white",
          "polar": {
           "angularaxis": {
            "gridcolor": "#EBF0F8",
            "linecolor": "#EBF0F8",
            "ticks": ""
           },
           "bgcolor": "white",
           "radialaxis": {
            "gridcolor": "#EBF0F8",
            "linecolor": "#EBF0F8",
            "ticks": ""
           }
          },
          "scene": {
           "xaxis": {
            "backgroundcolor": "white",
            "gridcolor": "#DFE8F3",
            "gridwidth": 2,
            "linecolor": "#EBF0F8",
            "showbackground": true,
            "ticks": "",
            "zerolinecolor": "#EBF0F8"
           },
           "yaxis": {
            "backgroundcolor": "white",
            "gridcolor": "#DFE8F3",
            "gridwidth": 2,
            "linecolor": "#EBF0F8",
            "showbackground": true,
            "ticks": "",
            "zerolinecolor": "#EBF0F8"
           },
           "zaxis": {
            "backgroundcolor": "white",
            "gridcolor": "#DFE8F3",
            "gridwidth": 2,
            "linecolor": "#EBF0F8",
            "showbackground": true,
            "ticks": "",
            "zerolinecolor": "#EBF0F8"
           }
          },
          "shapedefaults": {
           "line": {
            "color": "#2a3f5f"
           }
          },
          "ternary": {
           "aaxis": {
            "gridcolor": "#DFE8F3",
            "linecolor": "#A2B1C6",
            "ticks": ""
           },
           "baxis": {
            "gridcolor": "#DFE8F3",
            "linecolor": "#A2B1C6",
            "ticks": ""
           },
           "bgcolor": "white",
           "caxis": {
            "gridcolor": "#DFE8F3",
            "linecolor": "#A2B1C6",
            "ticks": ""
           }
          },
          "title": {
           "x": 0.05
          },
          "xaxis": {
           "automargin": true,
           "gridcolor": "#EBF0F8",
           "linecolor": "#EBF0F8",
           "ticks": "",
           "title": {
            "standoff": 15
           },
           "zerolinecolor": "#EBF0F8",
           "zerolinewidth": 2
          },
          "yaxis": {
           "automargin": true,
           "gridcolor": "#EBF0F8",
           "linecolor": "#EBF0F8",
           "ticks": "",
           "title": {
            "standoff": 15
           },
           "zerolinecolor": "#EBF0F8",
           "zerolinewidth": 2
          }
         }
        },
        "updatemenus": [
         {
          "buttons": [
           {
            "args": [
             {
              "yaxis.type": "linear"
             }
            ],
            "label": "Linear y-scale",
            "method": "relayout"
           },
           {
            "args": [
             {
              "yaxis.type": "log"
             }
            ],
            "label": "Log y-scale",
            "method": "relayout"
           }
          ],
          "direction": "left",
          "pad": {
           "r": 0,
           "t": -10
          },
          "showactive": true,
          "type": "buttons",
          "x": 0,
          "xanchor": "left",
          "y": 1.15,
          "yanchor": "top"
         }
        ],
        "yaxis": {
         "title": {
          "text": "Noise param 3"
         }
        }
       }
      }
     },
     "metadata": {}
    }
   ],
   "source": [
    "fig = erlo.plots.ParameterEstimatePlot()\n",
    "fig.add_data(map_estimates)\n",
    "\n",
    "fig.show()"
   ]
  },
  {
   "cell_type": "code",
   "execution_count": null,
   "metadata": {},
   "outputs": [],
   "source": []
  }
 ]
}