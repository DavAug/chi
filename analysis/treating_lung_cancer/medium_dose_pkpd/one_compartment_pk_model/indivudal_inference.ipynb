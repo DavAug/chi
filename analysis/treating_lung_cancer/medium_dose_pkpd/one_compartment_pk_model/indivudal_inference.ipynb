{
 "metadata": {
  "language_info": {
   "codemirror_mode": {
    "name": "ipython",
    "version": 3
   },
   "file_extension": ".py",
   "mimetype": "text/x-python",
   "name": "python",
   "nbconvert_exporter": "python",
   "pygments_lexer": "ipython3",
   "version": "3.7.5-final"
  },
  "orig_nbformat": 2,
  "kernelspec": {
   "name": "python3",
   "display_name": "Python 3"
  }
 },
 "nbformat": 4,
 "nbformat_minor": 2,
 "cells": [
  {
   "source": [
    "# Infer Model Parameters for Individuals in Lung Cancer Treatment Group with Medium Erlotinib Dose"
   ],
   "cell_type": "markdown",
   "metadata": {}
  },
  {
   "cell_type": "code",
   "execution_count": 2,
   "metadata": {},
   "outputs": [
    {
     "output_type": "display_data",
     "data": {
      "application/vnd.plotly.v1+json": {
       "config": {
        "plotlyServerURL": "https://plot.ly"
       },
       "data": [
        {
         "legendgroup": "ID: 34",
         "marker": {
          "color": "#636EFA",
          "line": {
           "color": "black",
           "width": 1
          },
          "opacity": 0.7,
          "symbol": "circle"
         },
         "mode": "markers",
         "name": "ID: 34",
         "showlegend": false,
         "type": "scatter",
         "x": [
          0,
          2,
          4,
          7,
          9,
          10.01875,
          11,
          14,
          15.99375,
          16,
          18,
          21,
          23,
          25,
          28,
          30,
          3,
          5,
          6,
          8,
          10,
          12,
          13,
          15
         ],
         "xaxis": "x",
         "y": [
          null,
          null,
          0.7000000000000001,
          0.7000000000000001,
          0.7000000000000001,
          null,
          0.675,
          0.675,
          null,
          0.675,
          null,
          null,
          null,
          null,
          null,
          null,
          0.675,
          0.7000000000000001,
          0.7000000000000001,
          0.7000000000000001,
          0.7000000000000001,
          0.675,
          0.675,
          0.675
         ],
         "yaxis": "y"
        },
        {
         "legendgroup": "ID: 34",
         "marker": {
          "color": "#636EFA",
          "line": {
           "color": "black",
           "width": 1
          },
          "opacity": 0.7,
          "symbol": "circle"
         },
         "mode": "markers",
         "name": "ID: 34",
         "showlegend": true,
         "type": "scatter",
         "x": [
          0,
          2,
          4,
          7,
          9,
          10.01875,
          11,
          14,
          15.99375,
          16,
          18,
          21,
          23,
          25,
          28,
          30,
          3,
          5,
          6,
          8,
          10,
          12,
          13,
          15
         ],
         "xaxis": "x2",
         "y": [
          null,
          null,
          null,
          null,
          null,
          3.5,
          null,
          null,
          null,
          null,
          null,
          null,
          null,
          null,
          null,
          null,
          null,
          null,
          null,
          null,
          null,
          null,
          null,
          null
         ],
         "yaxis": "y2"
        },
        {
         "legendgroup": "ID: 52",
         "marker": {
          "color": "#EF553B",
          "line": {
           "color": "black",
           "width": 1
          },
          "opacity": 0.7,
          "symbol": "circle"
         },
         "mode": "markers",
         "name": "ID: 52",
         "showlegend": false,
         "type": "scatter",
         "x": [
          0,
          2,
          4,
          7,
          9,
          9.995833333,
          11,
          14,
          16,
          16.99930556,
          18,
          21,
          23,
          25,
          28,
          30,
          3,
          5,
          6,
          8,
          10,
          12,
          13,
          15
         ],
         "xaxis": "x",
         "y": [
          null,
          null,
          0.625,
          0.65,
          0.65,
          null,
          0.625,
          0.65,
          0.65,
          null,
          null,
          null,
          null,
          null,
          null,
          null,
          0.65,
          0.625,
          0.625,
          0.65,
          0.65,
          0.625,
          0.625,
          0.65
         ],
         "yaxis": "y"
        },
        {
         "legendgroup": "ID: 52",
         "marker": {
          "color": "#EF553B",
          "line": {
           "color": "black",
           "width": 1
          },
          "opacity": 0.7,
          "symbol": "circle"
         },
         "mode": "markers",
         "name": "ID: 52",
         "showlegend": true,
         "type": "scatter",
         "x": [
          0,
          2,
          4,
          7,
          9,
          9.995833333,
          11,
          14,
          16,
          16.99930556,
          18,
          21,
          23,
          25,
          28,
          30,
          3,
          5,
          6,
          8,
          10,
          12,
          13,
          15
         ],
         "xaxis": "x2",
         "y": [
          null,
          null,
          null,
          null,
          null,
          0.008060000000000001,
          null,
          null,
          null,
          null,
          null,
          null,
          null,
          null,
          null,
          null,
          null,
          null,
          null,
          null,
          null,
          null,
          null,
          null
         ],
         "yaxis": "y2"
        },
        {
         "legendgroup": "ID: 91",
         "marker": {
          "color": "#00CC96",
          "line": {
           "color": "black",
           "width": 1
          },
          "opacity": 0.7,
          "symbol": "circle"
         },
         "mode": "markers",
         "name": "ID: 91",
         "showlegend": false,
         "type": "scatter",
         "x": [
          0,
          2,
          4,
          7,
          9,
          10.04375,
          11,
          14,
          16,
          16.10277778,
          18,
          21,
          23,
          25,
          28,
          30,
          3,
          5,
          6,
          8,
          10,
          12,
          13,
          15
         ],
         "xaxis": "x",
         "y": [
          null,
          null,
          0.625,
          0.65,
          0.675,
          null,
          0.625,
          0.65,
          0.675,
          null,
          null,
          null,
          null,
          null,
          null,
          null,
          0.625,
          0.625,
          0.625,
          0.65,
          0.675,
          0.625,
          0.625,
          0.65
         ],
         "yaxis": "y"
        },
        {
         "legendgroup": "ID: 91",
         "marker": {
          "color": "#00CC96",
          "line": {
           "color": "black",
           "width": 1
          },
          "opacity": 0.7,
          "symbol": "circle"
         },
         "mode": "markers",
         "name": "ID: 91",
         "showlegend": true,
         "type": "scatter",
         "x": [
          0,
          2,
          4,
          7,
          9,
          10.04375,
          11,
          14,
          16,
          16.10277778,
          18,
          21,
          23,
          25,
          28,
          30,
          3,
          5,
          6,
          8,
          10,
          12,
          13,
          15
         ],
         "xaxis": "x2",
         "y": [
          null,
          null,
          null,
          null,
          null,
          4.34,
          null,
          null,
          null,
          1.97,
          null,
          null,
          null,
          null,
          null,
          null,
          null,
          null,
          null,
          null,
          null,
          null,
          null,
          null
         ],
         "yaxis": "y2"
        },
        {
         "legendgroup": "ID: 108",
         "marker": {
          "color": "#AB63FA",
          "line": {
           "color": "black",
           "width": 1
          },
          "opacity": 0.7,
          "symbol": "circle"
         },
         "mode": "markers",
         "name": "ID: 108",
         "showlegend": false,
         "type": "scatter",
         "x": [
          0,
          2,
          4,
          7,
          9,
          10.01041667,
          11,
          14,
          16,
          16.41666667,
          18,
          21,
          23,
          25,
          28,
          30,
          3,
          5,
          6,
          8,
          10,
          12,
          13,
          15
         ],
         "xaxis": "x",
         "y": [
          null,
          null,
          0.625,
          0.625,
          0.625,
          null,
          0.625,
          0.675,
          0.675,
          null,
          null,
          null,
          null,
          null,
          null,
          null,
          0.65,
          0.625,
          0.625,
          0.625,
          0.625,
          0.625,
          0.625,
          0.675
         ],
         "yaxis": "y"
        },
        {
         "legendgroup": "ID: 108",
         "marker": {
          "color": "#AB63FA",
          "line": {
           "color": "black",
           "width": 1
          },
          "opacity": 0.7,
          "symbol": "circle"
         },
         "mode": "markers",
         "name": "ID: 108",
         "showlegend": true,
         "type": "scatter",
         "x": [
          0,
          2,
          4,
          7,
          9,
          10.01041667,
          11,
          14,
          16,
          16.41666667,
          18,
          21,
          23,
          25,
          28,
          30,
          3,
          5,
          6,
          8,
          10,
          12,
          13,
          15
         ],
         "xaxis": "x2",
         "y": [
          null,
          null,
          null,
          null,
          null,
          2.38,
          null,
          null,
          null,
          0.326,
          null,
          null,
          null,
          null,
          null,
          null,
          null,
          null,
          null,
          null,
          null,
          null,
          null,
          null
         ],
         "yaxis": "y2"
        },
        {
         "legendgroup": "ID: 122",
         "marker": {
          "color": "#FFA15A",
          "line": {
           "color": "black",
           "width": 1
          },
          "opacity": 0.7,
          "symbol": "circle"
         },
         "mode": "markers",
         "name": "ID: 122",
         "showlegend": false,
         "type": "scatter",
         "x": [
          0,
          2,
          4,
          7,
          9,
          10.20833333,
          11,
          14,
          16,
          16.04097222,
          18,
          21,
          23,
          25,
          28,
          30,
          3,
          5,
          6,
          8,
          10,
          12,
          13,
          15
         ],
         "xaxis": "x",
         "y": [
          null,
          null,
          0.6,
          0.6,
          0.5750000000000001,
          null,
          0.5750000000000001,
          0.625,
          0.6,
          null,
          null,
          null,
          null,
          null,
          null,
          null,
          0.6,
          0.6,
          0.6,
          0.6,
          0.5750000000000001,
          0.5750000000000001,
          0.5750000000000001,
          0.625
         ],
         "yaxis": "y"
        },
        {
         "legendgroup": "ID: 122",
         "marker": {
          "color": "#FFA15A",
          "line": {
           "color": "black",
           "width": 1
          },
          "opacity": 0.7,
          "symbol": "circle"
         },
         "mode": "markers",
         "name": "ID: 122",
         "showlegend": true,
         "type": "scatter",
         "x": [
          0,
          2,
          4,
          7,
          9,
          10.20833333,
          11,
          14,
          16,
          16.04097222,
          18,
          21,
          23,
          25,
          28,
          30,
          3,
          5,
          6,
          8,
          10,
          12,
          13,
          15
         ],
         "xaxis": "x2",
         "y": [
          null,
          null,
          null,
          null,
          null,
          0.8280000000000001,
          null,
          null,
          null,
          3.54,
          null,
          null,
          null,
          null,
          null,
          null,
          null,
          null,
          null,
          null,
          null,
          null,
          null,
          null
         ],
         "yaxis": "y2"
        },
        {
         "legendgroup": "ID: 129",
         "marker": {
          "color": "#19D3F3",
          "line": {
           "color": "black",
           "width": 1
          },
          "opacity": 0.7,
          "symbol": "circle"
         },
         "mode": "markers",
         "name": "ID: 129",
         "showlegend": false,
         "type": "scatter",
         "x": [
          0,
          2,
          4,
          7,
          9,
          10.10347222,
          11,
          14,
          16,
          16.20972222,
          18,
          21,
          23,
          25,
          28,
          30,
          3,
          5,
          6,
          8,
          10,
          12,
          13,
          15
         ],
         "xaxis": "x",
         "y": [
          null,
          null,
          0.725,
          0.7000000000000001,
          0.7000000000000001,
          null,
          0.675,
          0.7000000000000001,
          0.7000000000000001,
          null,
          null,
          null,
          null,
          null,
          null,
          null,
          0.725,
          0.725,
          0.725,
          0.7000000000000001,
          0.7000000000000001,
          0.675,
          0.675,
          0.7000000000000001
         ],
         "yaxis": "y"
        },
        {
         "legendgroup": "ID: 129",
         "marker": {
          "color": "#19D3F3",
          "line": {
           "color": "black",
           "width": 1
          },
          "opacity": 0.7,
          "symbol": "circle"
         },
         "mode": "markers",
         "name": "ID: 129",
         "showlegend": true,
         "type": "scatter",
         "x": [
          0,
          2,
          4,
          7,
          9,
          10.10347222,
          11,
          14,
          16,
          16.20972222,
          18,
          21,
          23,
          25,
          28,
          30,
          3,
          5,
          6,
          8,
          10,
          12,
          13,
          15
         ],
         "xaxis": "x2",
         "y": [
          null,
          null,
          null,
          null,
          null,
          2.27,
          null,
          null,
          null,
          1.07,
          null,
          null,
          null,
          null,
          null,
          null,
          null,
          null,
          null,
          null,
          null,
          null,
          null,
          null
         ],
         "yaxis": "y2"
        },
        {
         "legendgroup": "ID: 163",
         "marker": {
          "color": "#FF6692",
          "line": {
           "color": "black",
           "width": 1
          },
          "opacity": 0.7,
          "symbol": "circle"
         },
         "mode": "markers",
         "name": "ID: 163",
         "showlegend": false,
         "type": "scatter",
         "x": [
          0,
          2,
          4,
          7,
          9,
          10.41527778,
          11,
          14,
          16,
          16.01111111,
          18,
          21,
          23,
          25,
          28,
          30,
          3,
          5,
          6,
          8,
          10,
          12,
          13,
          15
         ],
         "xaxis": "x",
         "y": [
          null,
          null,
          0.6,
          0.625,
          0.625,
          null,
          0.5750000000000001,
          0.6,
          0.6,
          null,
          null,
          null,
          null,
          null,
          null,
          null,
          0.625,
          0.6,
          0.6,
          0.625,
          0.625,
          0.5750000000000001,
          0.5750000000000001,
          0.6
         ],
         "yaxis": "y"
        },
        {
         "legendgroup": "ID: 163",
         "marker": {
          "color": "#FF6692",
          "line": {
           "color": "black",
           "width": 1
          },
          "opacity": 0.7,
          "symbol": "circle"
         },
         "mode": "markers",
         "name": "ID: 163",
         "showlegend": true,
         "type": "scatter",
         "x": [
          0,
          2,
          4,
          7,
          9,
          10.41527778,
          11,
          14,
          16,
          16.01111111,
          18,
          21,
          23,
          25,
          28,
          30,
          3,
          5,
          6,
          8,
          10,
          12,
          13,
          15
         ],
         "xaxis": "x2",
         "y": [
          null,
          null,
          null,
          null,
          null,
          1.35,
          null,
          null,
          null,
          3.14,
          null,
          null,
          null,
          null,
          null,
          null,
          null,
          null,
          null,
          null,
          null,
          null,
          null,
          null
         ],
         "yaxis": "y2"
        },
        {
         "legendgroup": "ID: 167",
         "marker": {
          "color": "#B6E880",
          "line": {
           "color": "black",
           "width": 1
          },
          "opacity": 0.7,
          "symbol": "circle"
         },
         "mode": "markers",
         "name": "ID: 167",
         "showlegend": false,
         "type": "scatter",
         "x": [
          0,
          2,
          4,
          7,
          9,
          11,
          11.00208333,
          14,
          16,
          16.02291667,
          18,
          21,
          23,
          25,
          28,
          30,
          3,
          5,
          6,
          8,
          10,
          12,
          13,
          15
         ],
         "xaxis": "x",
         "y": [
          null,
          null,
          0.7000000000000001,
          0.7000000000000001,
          0.7000000000000001,
          0.675,
          null,
          0.675,
          0.675,
          null,
          null,
          null,
          null,
          null,
          null,
          null,
          0.675,
          0.7000000000000001,
          0.7000000000000001,
          0.7000000000000001,
          0.7000000000000001,
          0.675,
          0.675,
          0.675
         ],
         "yaxis": "y"
        },
        {
         "legendgroup": "ID: 167",
         "marker": {
          "color": "#B6E880",
          "line": {
           "color": "black",
           "width": 1
          },
          "opacity": 0.7,
          "symbol": "circle"
         },
         "mode": "markers",
         "name": "ID: 167",
         "showlegend": true,
         "type": "scatter",
         "x": [
          0,
          2,
          4,
          7,
          9,
          11,
          11.00208333,
          14,
          16,
          16.02291667,
          18,
          21,
          23,
          25,
          28,
          30,
          3,
          5,
          6,
          8,
          10,
          12,
          13,
          15
         ],
         "xaxis": "x2",
         "y": [
          null,
          null,
          null,
          null,
          null,
          null,
          null,
          null,
          null,
          3,
          null,
          null,
          null,
          null,
          null,
          null,
          null,
          null,
          null,
          null,
          null,
          null,
          null,
          null
         ],
         "yaxis": "y2"
        }
       ],
       "layout": {
        "autosize": true,
        "template": {
         "data": {
          "bar": [
           {
            "error_x": {
             "color": "#2a3f5f"
            },
            "error_y": {
             "color": "#2a3f5f"
            },
            "marker": {
             "line": {
              "color": "white",
              "width": 0.5
             }
            },
            "type": "bar"
           }
          ],
          "barpolar": [
           {
            "marker": {
             "line": {
              "color": "white",
              "width": 0.5
             }
            },
            "type": "barpolar"
           }
          ],
          "carpet": [
           {
            "aaxis": {
             "endlinecolor": "#2a3f5f",
             "gridcolor": "#C8D4E3",
             "linecolor": "#C8D4E3",
             "minorgridcolor": "#C8D4E3",
             "startlinecolor": "#2a3f5f"
            },
            "baxis": {
             "endlinecolor": "#2a3f5f",
             "gridcolor": "#C8D4E3",
             "linecolor": "#C8D4E3",
             "minorgridcolor": "#C8D4E3",
             "startlinecolor": "#2a3f5f"
            },
            "type": "carpet"
           }
          ],
          "choropleth": [
           {
            "colorbar": {
             "outlinewidth": 0,
             "ticks": ""
            },
            "type": "choropleth"
           }
          ],
          "contour": [
           {
            "colorbar": {
             "outlinewidth": 0,
             "ticks": ""
            },
            "colorscale": [
             [
              0,
              "#0d0887"
             ],
             [
              0.1111111111111111,
              "#46039f"
             ],
             [
              0.2222222222222222,
              "#7201a8"
             ],
             [
              0.3333333333333333,
              "#9c179e"
             ],
             [
              0.4444444444444444,
              "#bd3786"
             ],
             [
              0.5555555555555556,
              "#d8576b"
             ],
             [
              0.6666666666666666,
              "#ed7953"
             ],
             [
              0.7777777777777778,
              "#fb9f3a"
             ],
             [
              0.8888888888888888,
              "#fdca26"
             ],
             [
              1,
              "#f0f921"
             ]
            ],
            "type": "contour"
           }
          ],
          "contourcarpet": [
           {
            "colorbar": {
             "outlinewidth": 0,
             "ticks": ""
            },
            "type": "contourcarpet"
           }
          ],
          "heatmap": [
           {
            "colorbar": {
             "outlinewidth": 0,
             "ticks": ""
            },
            "colorscale": [
             [
              0,
              "#0d0887"
             ],
             [
              0.1111111111111111,
              "#46039f"
             ],
             [
              0.2222222222222222,
              "#7201a8"
             ],
             [
              0.3333333333333333,
              "#9c179e"
             ],
             [
              0.4444444444444444,
              "#bd3786"
             ],
             [
              0.5555555555555556,
              "#d8576b"
             ],
             [
              0.6666666666666666,
              "#ed7953"
             ],
             [
              0.7777777777777778,
              "#fb9f3a"
             ],
             [
              0.8888888888888888,
              "#fdca26"
             ],
             [
              1,
              "#f0f921"
             ]
            ],
            "type": "heatmap"
           }
          ],
          "heatmapgl": [
           {
            "colorbar": {
             "outlinewidth": 0,
             "ticks": ""
            },
            "colorscale": [
             [
              0,
              "#0d0887"
             ],
             [
              0.1111111111111111,
              "#46039f"
             ],
             [
              0.2222222222222222,
              "#7201a8"
             ],
             [
              0.3333333333333333,
              "#9c179e"
             ],
             [
              0.4444444444444444,
              "#bd3786"
             ],
             [
              0.5555555555555556,
              "#d8576b"
             ],
             [
              0.6666666666666666,
              "#ed7953"
             ],
             [
              0.7777777777777778,
              "#fb9f3a"
             ],
             [
              0.8888888888888888,
              "#fdca26"
             ],
             [
              1,
              "#f0f921"
             ]
            ],
            "type": "heatmapgl"
           }
          ],
          "histogram": [
           {
            "marker": {
             "colorbar": {
              "outlinewidth": 0,
              "ticks": ""
             }
            },
            "type": "histogram"
           }
          ],
          "histogram2d": [
           {
            "colorbar": {
             "outlinewidth": 0,
             "ticks": ""
            },
            "colorscale": [
             [
              0,
              "#0d0887"
             ],
             [
              0.1111111111111111,
              "#46039f"
             ],
             [
              0.2222222222222222,
              "#7201a8"
             ],
             [
              0.3333333333333333,
              "#9c179e"
             ],
             [
              0.4444444444444444,
              "#bd3786"
             ],
             [
              0.5555555555555556,
              "#d8576b"
             ],
             [
              0.6666666666666666,
              "#ed7953"
             ],
             [
              0.7777777777777778,
              "#fb9f3a"
             ],
             [
              0.8888888888888888,
              "#fdca26"
             ],
             [
              1,
              "#f0f921"
             ]
            ],
            "type": "histogram2d"
           }
          ],
          "histogram2dcontour": [
           {
            "colorbar": {
             "outlinewidth": 0,
             "ticks": ""
            },
            "colorscale": [
             [
              0,
              "#0d0887"
             ],
             [
              0.1111111111111111,
              "#46039f"
             ],
             [
              0.2222222222222222,
              "#7201a8"
             ],
             [
              0.3333333333333333,
              "#9c179e"
             ],
             [
              0.4444444444444444,
              "#bd3786"
             ],
             [
              0.5555555555555556,
              "#d8576b"
             ],
             [
              0.6666666666666666,
              "#ed7953"
             ],
             [
              0.7777777777777778,
              "#fb9f3a"
             ],
             [
              0.8888888888888888,
              "#fdca26"
             ],
             [
              1,
              "#f0f921"
             ]
            ],
            "type": "histogram2dcontour"
           }
          ],
          "mesh3d": [
           {
            "colorbar": {
             "outlinewidth": 0,
             "ticks": ""
            },
            "type": "mesh3d"
           }
          ],
          "parcoords": [
           {
            "line": {
             "colorbar": {
              "outlinewidth": 0,
              "ticks": ""
             }
            },
            "type": "parcoords"
           }
          ],
          "pie": [
           {
            "automargin": true,
            "type": "pie"
           }
          ],
          "scatter": [
           {
            "marker": {
             "colorbar": {
              "outlinewidth": 0,
              "ticks": ""
             }
            },
            "type": "scatter"
           }
          ],
          "scatter3d": [
           {
            "line": {
             "colorbar": {
              "outlinewidth": 0,
              "ticks": ""
             }
            },
            "marker": {
             "colorbar": {
              "outlinewidth": 0,
              "ticks": ""
             }
            },
            "type": "scatter3d"
           }
          ],
          "scattercarpet": [
           {
            "marker": {
             "colorbar": {
              "outlinewidth": 0,
              "ticks": ""
             }
            },
            "type": "scattercarpet"
           }
          ],
          "scattergeo": [
           {
            "marker": {
             "colorbar": {
              "outlinewidth": 0,
              "ticks": ""
             }
            },
            "type": "scattergeo"
           }
          ],
          "scattergl": [
           {
            "marker": {
             "colorbar": {
              "outlinewidth": 0,
              "ticks": ""
             }
            },
            "type": "scattergl"
           }
          ],
          "scattermapbox": [
           {
            "marker": {
             "colorbar": {
              "outlinewidth": 0,
              "ticks": ""
             }
            },
            "type": "scattermapbox"
           }
          ],
          "scatterpolar": [
           {
            "marker": {
             "colorbar": {
              "outlinewidth": 0,
              "ticks": ""
             }
            },
            "type": "scatterpolar"
           }
          ],
          "scatterpolargl": [
           {
            "marker": {
             "colorbar": {
              "outlinewidth": 0,
              "ticks": ""
             }
            },
            "type": "scatterpolargl"
           }
          ],
          "scatterternary": [
           {
            "marker": {
             "colorbar": {
              "outlinewidth": 0,
              "ticks": ""
             }
            },
            "type": "scatterternary"
           }
          ],
          "surface": [
           {
            "colorbar": {
             "outlinewidth": 0,
             "ticks": ""
            },
            "colorscale": [
             [
              0,
              "#0d0887"
             ],
             [
              0.1111111111111111,
              "#46039f"
             ],
             [
              0.2222222222222222,
              "#7201a8"
             ],
             [
              0.3333333333333333,
              "#9c179e"
             ],
             [
              0.4444444444444444,
              "#bd3786"
             ],
             [
              0.5555555555555556,
              "#d8576b"
             ],
             [
              0.6666666666666666,
              "#ed7953"
             ],
             [
              0.7777777777777778,
              "#fb9f3a"
             ],
             [
              0.8888888888888888,
              "#fdca26"
             ],
             [
              1,
              "#f0f921"
             ]
            ],
            "type": "surface"
           }
          ],
          "table": [
           {
            "cells": {
             "fill": {
              "color": "#EBF0F8"
             },
             "line": {
              "color": "white"
             }
            },
            "header": {
             "fill": {
              "color": "#C8D4E3"
             },
             "line": {
              "color": "white"
             }
            },
            "type": "table"
           }
          ]
         },
         "layout": {
          "annotationdefaults": {
           "arrowcolor": "#2a3f5f",
           "arrowhead": 0,
           "arrowwidth": 1
          },
          "coloraxis": {
           "colorbar": {
            "outlinewidth": 0,
            "ticks": ""
           }
          },
          "colorscale": {
           "diverging": [
            [
             0,
             "#8e0152"
            ],
            [
             0.1,
             "#c51b7d"
            ],
            [
             0.2,
             "#de77ae"
            ],
            [
             0.3,
             "#f1b6da"
            ],
            [
             0.4,
             "#fde0ef"
            ],
            [
             0.5,
             "#f7f7f7"
            ],
            [
             0.6,
             "#e6f5d0"
            ],
            [
             0.7,
             "#b8e186"
            ],
            [
             0.8,
             "#7fbc41"
            ],
            [
             0.9,
             "#4d9221"
            ],
            [
             1,
             "#276419"
            ]
           ],
           "sequential": [
            [
             0,
             "#0d0887"
            ],
            [
             0.1111111111111111,
             "#46039f"
            ],
            [
             0.2222222222222222,
             "#7201a8"
            ],
            [
             0.3333333333333333,
             "#9c179e"
            ],
            [
             0.4444444444444444,
             "#bd3786"
            ],
            [
             0.5555555555555556,
             "#d8576b"
            ],
            [
             0.6666666666666666,
             "#ed7953"
            ],
            [
             0.7777777777777778,
             "#fb9f3a"
            ],
            [
             0.8888888888888888,
             "#fdca26"
            ],
            [
             1,
             "#f0f921"
            ]
           ],
           "sequentialminus": [
            [
             0,
             "#0d0887"
            ],
            [
             0.1111111111111111,
             "#46039f"
            ],
            [
             0.2222222222222222,
             "#7201a8"
            ],
            [
             0.3333333333333333,
             "#9c179e"
            ],
            [
             0.4444444444444444,
             "#bd3786"
            ],
            [
             0.5555555555555556,
             "#d8576b"
            ],
            [
             0.6666666666666666,
             "#ed7953"
            ],
            [
             0.7777777777777778,
             "#fb9f3a"
            ],
            [
             0.8888888888888888,
             "#fdca26"
            ],
            [
             1,
             "#f0f921"
            ]
           ]
          },
          "colorway": [
           "#636efa",
           "#EF553B",
           "#00cc96",
           "#ab63fa",
           "#FFA15A",
           "#19d3f3",
           "#FF6692",
           "#B6E880",
           "#FF97FF",
           "#FECB52"
          ],
          "font": {
           "color": "#2a3f5f"
          },
          "geo": {
           "bgcolor": "white",
           "lakecolor": "white",
           "landcolor": "white",
           "showlakes": true,
           "showland": true,
           "subunitcolor": "#C8D4E3"
          },
          "hoverlabel": {
           "align": "left"
          },
          "hovermode": "closest",
          "mapbox": {
           "style": "light"
          },
          "paper_bgcolor": "white",
          "plot_bgcolor": "white",
          "polar": {
           "angularaxis": {
            "gridcolor": "#EBF0F8",
            "linecolor": "#EBF0F8",
            "ticks": ""
           },
           "bgcolor": "white",
           "radialaxis": {
            "gridcolor": "#EBF0F8",
            "linecolor": "#EBF0F8",
            "ticks": ""
           }
          },
          "scene": {
           "xaxis": {
            "backgroundcolor": "white",
            "gridcolor": "#DFE8F3",
            "gridwidth": 2,
            "linecolor": "#EBF0F8",
            "showbackground": true,
            "ticks": "",
            "zerolinecolor": "#EBF0F8"
           },
           "yaxis": {
            "backgroundcolor": "white",
            "gridcolor": "#DFE8F3",
            "gridwidth": 2,
            "linecolor": "#EBF0F8",
            "showbackground": true,
            "ticks": "",
            "zerolinecolor": "#EBF0F8"
           },
           "zaxis": {
            "backgroundcolor": "white",
            "gridcolor": "#DFE8F3",
            "gridwidth": 2,
            "linecolor": "#EBF0F8",
            "showbackground": true,
            "ticks": "",
            "zerolinecolor": "#EBF0F8"
           }
          },
          "shapedefaults": {
           "line": {
            "color": "#2a3f5f"
           }
          },
          "ternary": {
           "aaxis": {
            "gridcolor": "#DFE8F3",
            "linecolor": "#A2B1C6",
            "ticks": ""
           },
           "baxis": {
            "gridcolor": "#DFE8F3",
            "linecolor": "#A2B1C6",
            "ticks": ""
           },
           "bgcolor": "white",
           "caxis": {
            "gridcolor": "#DFE8F3",
            "linecolor": "#A2B1C6",
            "ticks": ""
           }
          },
          "title": {
           "x": 0.05
          },
          "xaxis": {
           "automargin": true,
           "gridcolor": "#EBF0F8",
           "linecolor": "#EBF0F8",
           "ticks": "",
           "title": {
            "standoff": 15
           },
           "zerolinecolor": "#EBF0F8",
           "zerolinewidth": 2
          },
          "yaxis": {
           "automargin": true,
           "gridcolor": "#EBF0F8",
           "linecolor": "#EBF0F8",
           "ticks": "",
           "title": {
            "standoff": 15
           },
           "zerolinecolor": "#EBF0F8",
           "zerolinewidth": 2
          }
         }
        },
        "updatemenus": [
         {
          "buttons": [
           {
            "args": [
             {
              "yaxis2.type": "linear"
             }
            ],
            "label": "Linear y-scale",
            "method": "relayout"
           },
           {
            "args": [
             {
              "yaxis2.type": "log"
             }
            ],
            "label": "Log y-scale",
            "method": "relayout"
           }
          ],
          "direction": "left",
          "pad": {
           "r": 0,
           "t": -10
          },
          "showactive": true,
          "type": "buttons",
          "x": 0,
          "xanchor": "left",
          "y": 1.15,
          "yanchor": "top"
         }
        ],
        "xaxis": {
         "anchor": "y",
         "domain": [
          0,
          1
         ],
         "matches": "x2",
         "showticklabels": false
        },
        "xaxis2": {
         "anchor": "y2",
         "domain": [
          0,
          1
         ],
         "title": {
          "text": "$\\text{Time in day}$"
         }
        },
        "yaxis": {
         "anchor": "x",
         "domain": [
          0.81,
          1
         ],
         "title": {
          "text": "$\\text{Dose in mg}$"
         }
        },
        "yaxis2": {
         "anchor": "x2",
         "domain": [
          0,
          0.76
         ],
         "title": {
          "text": "$\\text{Plasma concentration in mg/L}$"
         }
        }
       }
      }
     },
     "metadata": {}
    }
   ],
   "source": [
    "import erlotinib as erlo\n",
    "\n",
    "\n",
    "# Get data\n",
    "data = erlo.DataLibrary().lung_cancer_medium_erlotinib_dose_group()\n",
    "\n",
    "# Create scatter plot\n",
    "fig = erlo.plots.PKTimeSeriesPlot()\n",
    "fig.add_data(data, id_key='#ID', time_key='TIME in day', biom_key='PLASMA CONCENTRATION in mg/L', dose_key='DOSE in mg')\n",
    "fig.set_axis_labels(\n",
    "    time_label=r'$\\text{Time in day}$', biom_label=r'$\\text{Plasma concentration in mg/L}$', \n",
    "    dose_label=r'$\\text{Dose in mg}$')\n",
    "\n",
    "# Show figure\n",
    "fig.show()"
   ]
  },
  {
   "source": [
    "**Figure 1:** To be completed."
   ],
   "cell_type": "markdown",
   "metadata": {}
  },
  {
   "source": [
    "## Find MAP estimates for model parameters"
   ],
   "cell_type": "markdown",
   "metadata": {}
  },
  {
   "cell_type": "code",
   "execution_count": 7,
   "metadata": {},
   "outputs": [
    {
     "output_type": "display_data",
     "data": {
      "text/plain": "HBox(children=(FloatProgress(value=0.0, max=8.0), HTML(value='')))",
      "application/vnd.jupyter.widget-view+json": {
       "version_major": 2,
       "version_minor": 0,
       "model_id": "eceb26025a064917ab7d523416ca434c"
      }
     },
     "metadata": {}
    },
    {
     "output_type": "stream",
     "name": "stdout",
     "text": [
      "\n"
     ]
    }
   ],
   "source": [
    "import pints\n",
    "\n",
    "\n",
    "# Define mechanistic model\n",
    "path = erlo.ModelLibrary().one_compartment_pk_model()\n",
    "model = erlo.PharmacokineticModel(path)\n",
    "model.set_administration(compartment='central', direct=False)\n",
    "model.set_parameter_names(names={\n",
    "        'central.drug_amount': 'Central comp. drug amount in mg',\n",
    "        'dose.drug_amount': 'Dose comp. drug amount in mg',\n",
    "        'central.size': 'Volume of distribution in L',\n",
    "        'dose.absorption_rate': 'Absorption rate in 1/day',\n",
    "        'myokit.elimination_rate': 'Elimination rate in 1/day'})\n",
    "\n",
    "# Create model\n",
    "problem = erlo.ProblemModellingController(\n",
    "    data, id_key='#ID', time_key='TIME in day', biom_keys=['PLASMA CONCENTRATION in mg/L'], dose_key='DOSE in mg')\n",
    "problem.set_mechanistic_model(model)\n",
    "problem.set_error_model(\n",
    "    error_models=[pints.ConstantAndMultiplicativeGaussianLogLikelihood])\n",
    "problem.fix_parameters(name_value_dict=dict({\n",
    "    'Central comp. drug amount in mg': 0,\n",
    "    'Dose comp. drug amount in mg': 0,\n",
    "    'Noise param 2': 1}))\n",
    "\n",
    "# Create posterior\n",
    "log_prior_volume = pints.HalfCauchyLogPrior(location=0, scale=3)\n",
    "log_prior_absorption_rate = pints.HalfCauchyLogPrior(location=0, scale=3)\n",
    "log_prior_elimination_rate = pints.HalfCauchyLogPrior(location=0, scale=3)\n",
    "log_prior_sigma_base = pints.HalfCauchyLogPrior(location=0, scale=3)\n",
    "log_prior_sigma_rel = pints.HalfCauchyLogPrior(location=0, scale=3)\n",
    "problem.set_log_prior(log_priors=[\n",
    "    log_prior_volume, \n",
    "    log_prior_absorption_rate,\n",
    "    log_prior_elimination_rate,\n",
    "    log_prior_sigma_base,\n",
    "    log_prior_sigma_rel])\n",
    "log_posteriors = problem.get_log_posteriors()\n",
    "\n",
    "# Find maximum a posteriori probability estimates (MAP)\n",
    "opt = erlo.OptimisationController(log_posteriors)\n",
    "map_estimates = opt.run(n_max_iterations=1000, show_id_progress_bar=True)"
   ]
  },
  {
   "source": [
    "### Visualise optimisation results"
   ],
   "cell_type": "markdown",
   "metadata": {}
  },
  {
   "cell_type": "code",
   "execution_count": 8,
   "metadata": {},
   "outputs": [
    {
     "output_type": "display_data",
     "data": {
      "application/vnd.plotly.v1+json": {
       "config": {
        "plotlyServerURL": "https://plot.ly"
       },
       "data": [
        {
         "boxpoints": "all",
         "hovertemplate": "Estimate: %{y:.2f}<br>%{text}",
         "jitter": 0.2,
         "line": {
          "color": "#636EFA"
         },
         "marker": {
          "color": "#636EFA",
          "line": {
           "color": "black",
           "width": 1
          },
          "opacity": 0.7,
          "symbol": "circle"
         },
         "name": "ID: 34",
         "pointpos": -1.5,
         "text": [
          "Run: 1 <br>Log-posterior score: 18.44",
          "Run: 2 <br>Log-posterior score: 19.12",
          "Run: 3 <br>Log-posterior score: 18.65",
          "Run: 4 <br>Log-posterior score: 17.26",
          "Run: 5 <br>Log-posterior score: 19.26",
          "Run: 6 <br>Log-posterior score: 18.83",
          "Run: 7 <br>Log-posterior score: 18.64",
          "Run: 8 <br>Log-posterior score: 15.21",
          "Run: 9 <br>Log-posterior score: 19.35",
          "Run: 10 <br>Log-posterior score: 19.43"
         ],
         "type": "box",
         "visible": true,
         "y": [
          0.6133196398202224,
          0.46827100900212953,
          0.7111152978997882,
          1.2472527219838792,
          0.621354532874064,
          1.1160743638644655,
          0.5157627491315271,
          0.0014475127764899268,
          1.0133379146649344,
          0.3935689683925118
         ]
        },
        {
         "boxpoints": "all",
         "hovertemplate": "Estimate: %{y:.2f}<br>%{text}",
         "jitter": 0.2,
         "line": {
          "color": "#EF553B"
         },
         "marker": {
          "color": "#EF553B",
          "line": {
           "color": "black",
           "width": 1
          },
          "opacity": 0.7,
          "symbol": "circle"
         },
         "name": "ID: 52",
         "pointpos": -1.5,
         "text": [
          "Run: 1 <br>Log-posterior score: 8.85",
          "Run: 2 <br>Log-posterior score: 16.80",
          "Run: 3 <br>Log-posterior score: 26.16",
          "Run: 4 <br>Log-posterior score: 16.43",
          "Run: 5 <br>Log-posterior score: 12.45",
          "Run: 6 <br>Log-posterior score: 25.30",
          "Run: 7 <br>Log-posterior score: 23.77",
          "Run: 8 <br>Log-posterior score: 26.69",
          "Run: 9 <br>Log-posterior score: 16.19",
          "Run: 10 <br>Log-posterior score: 23.52"
         ],
         "type": "box",
         "visible": true,
         "y": [
          0.01541424639972668,
          0.00028831994783368197,
          0.19898678157876695,
          0.2959621133413435,
          0.040730856010313746,
          5.633161755394045,
          7.0569255706402725,
          0.24314407221159237,
          0.013669274531190255,
          0.6149744326479712
         ]
        },
        {
         "boxpoints": "all",
         "hovertemplate": "Estimate: %{y:.2f}<br>%{text}",
         "jitter": 0.2,
         "line": {
          "color": "#00CC96"
         },
         "marker": {
          "color": "#00CC96",
          "line": {
           "color": "black",
           "width": 1
          },
          "opacity": 0.7,
          "symbol": "circle"
         },
         "name": "ID: 91",
         "pointpos": -1.5,
         "text": [
          "Run: 1 <br>Log-posterior score: -11.01",
          "Run: 2 <br>Log-posterior score: -11.01",
          "Run: 3 <br>Log-posterior score: -11.01",
          "Run: 4 <br>Log-posterior score: -11.01",
          "Run: 5 <br>Log-posterior score: -11.01",
          "Run: 6 <br>Log-posterior score: -11.01",
          "Run: 7 <br>Log-posterior score: -11.01",
          "Run: 8 <br>Log-posterior score: -11.01",
          "Run: 9 <br>Log-posterior score: -11.01",
          "Run: 10 <br>Log-posterior score: -11.01"
         ],
         "type": "box",
         "visible": true,
         "y": [
          0.20409963551257648,
          0.18780063272189373,
          0.19923580335153818,
          0.18780082906051768,
          0.1878004902540941,
          0.20456525295405323,
          0.1878005873096262,
          0.18780108663475273,
          0.18780083212945212,
          0.18780104508449258
         ]
        },
        {
         "boxpoints": "all",
         "hovertemplate": "Estimate: %{y:.2f}<br>%{text}",
         "jitter": 0.2,
         "line": {
          "color": "#AB63FA"
         },
         "marker": {
          "color": "#AB63FA",
          "line": {
           "color": "black",
           "width": 1
          },
          "opacity": 0.7,
          "symbol": "circle"
         },
         "name": "ID: 108",
         "pointpos": -1.5,
         "text": [
          "Run: 1 <br>Log-posterior score: -10.86",
          "Run: 2 <br>Log-posterior score: -10.86",
          "Run: 3 <br>Log-posterior score: 28.44",
          "Run: 4 <br>Log-posterior score: -10.86",
          "Run: 5 <br>Log-posterior score: -10.86",
          "Run: 6 <br>Log-posterior score: -10.86",
          "Run: 7 <br>Log-posterior score: -10.86",
          "Run: 8 <br>Log-posterior score: -10.86",
          "Run: 9 <br>Log-posterior score: -10.86",
          "Run: 10 <br>Log-posterior score: -10.86"
         ],
         "type": "box",
         "visible": true,
         "y": [
          0.43221036109521827,
          0.4322096195659545,
          0.023295396049762607,
          0.4322109685922294,
          0.4322111273939489,
          0.4322092307629598,
          0.4322072068727445,
          0.432211010702581,
          0.4322111085255193,
          0.4322091527233256
         ]
        },
        {
         "boxpoints": "all",
         "hovertemplate": "Estimate: %{y:.2f}<br>%{text}",
         "jitter": 0.2,
         "line": {
          "color": "#FFA15A"
         },
         "marker": {
          "color": "#FFA15A",
          "line": {
           "color": "black",
           "width": 1
          },
          "opacity": 0.7,
          "symbol": "circle"
         },
         "name": "ID: 122",
         "pointpos": -1.5,
         "text": [
          "Run: 1 <br>Log-posterior score: -7.53",
          "Run: 2 <br>Log-posterior score: -7.53",
          "Run: 3 <br>Log-posterior score: -7.53",
          "Run: 4 <br>Log-posterior score: -7.53",
          "Run: 5 <br>Log-posterior score: -7.53",
          "Run: 6 <br>Log-posterior score: 25.80",
          "Run: 7 <br>Log-posterior score: -7.53",
          "Run: 8 <br>Log-posterior score: -7.53",
          "Run: 9 <br>Log-posterior score: -7.53",
          "Run: 10 <br>Log-posterior score: -7.53"
         ],
         "type": "box",
         "visible": true,
         "y": [
          0.0044442117955476,
          0.0012700153873499603,
          0.0012777562208341755,
          0.004444211888785848,
          0.004283262614193596,
          0.14318303088613632,
          0.0012700115529692675,
          0.0012700153222983746,
          0.00126227442257884,
          0.0022376708019995733
         ]
        },
        {
         "boxpoints": "all",
         "hovertemplate": "Estimate: %{y:.2f}<br>%{text}",
         "jitter": 0.2,
         "line": {
          "color": "#19D3F3"
         },
         "marker": {
          "color": "#19D3F3",
          "line": {
           "color": "black",
           "width": 1
          },
          "opacity": 0.7,
          "symbol": "circle"
         },
         "name": "ID: 129",
         "pointpos": -1.5,
         "text": [
          "Run: 1 <br>Log-posterior score: -9.69",
          "Run: 2 <br>Log-posterior score: 28.56",
          "Run: 3 <br>Log-posterior score: -9.69",
          "Run: 4 <br>Log-posterior score: -9.69",
          "Run: 5 <br>Log-posterior score: -9.69",
          "Run: 6 <br>Log-posterior score: -9.69",
          "Run: 7 <br>Log-posterior score: -9.69",
          "Run: 8 <br>Log-posterior score: -9.69",
          "Run: 9 <br>Log-posterior score: -9.69",
          "Run: 10 <br>Log-posterior score: -9.69"
         ],
         "type": "box",
         "visible": true,
         "y": [
          0.3451246771322765,
          0.17477135840883706,
          0.3451247195030904,
          0.3451241325558485,
          0.3451238957636078,
          0.3451234796567944,
          0.34512363092099213,
          0.34512376459402033,
          0.3451239022687536,
          0.345123710466978
         ]
        },
        {
         "boxpoints": "all",
         "hovertemplate": "Estimate: %{y:.2f}<br>%{text}",
         "jitter": 0.2,
         "line": {
          "color": "#FF6692"
         },
         "marker": {
          "color": "#FF6692",
          "line": {
           "color": "black",
           "width": 1
          },
          "opacity": 0.7,
          "symbol": "circle"
         },
         "name": "ID: 163",
         "pointpos": -1.5,
         "text": [
          "Run: 1 <br>Log-posterior score: 49.61",
          "Run: 2 <br>Log-posterior score: 47.02",
          "Run: 3 <br>Log-posterior score: 48.45",
          "Run: 4 <br>Log-posterior score: 46.98",
          "Run: 5 <br>Log-posterior score: 47.67",
          "Run: 6 <br>Log-posterior score: 47.52",
          "Run: 7 <br>Log-posterior score: 49.23",
          "Run: 8 <br>Log-posterior score: 47.69",
          "Run: 9 <br>Log-posterior score: 50.48",
          "Run: 10 <br>Log-posterior score: 48.05"
         ],
         "type": "box",
         "visible": true,
         "y": [
          1.7172838944931823,
          1.351591823383029,
          1.5185553921804327,
          1.626195105415235,
          1.7010597417339897,
          1.2245736684100226,
          1.6936726367947605,
          0.4150298558485828,
          1.3487405532810426,
          1.4965933949515013
         ]
        },
        {
         "boxpoints": "all",
         "hovertemplate": "Estimate: %{y:.2f}<br>%{text}",
         "jitter": 0.2,
         "line": {
          "color": "#B6E880"
         },
         "marker": {
          "color": "#B6E880",
          "line": {
           "color": "black",
           "width": 1
          },
          "opacity": 0.7,
          "symbol": "circle"
         },
         "name": "ID: 167",
         "pointpos": -1.5,
         "text": [
          "Run: 1 <br>Log-posterior score: 20.84",
          "Run: 2 <br>Log-posterior score: 20.42",
          "Run: 3 <br>Log-posterior score: 18.88",
          "Run: 4 <br>Log-posterior score: 20.12",
          "Run: 5 <br>Log-posterior score: 20.75",
          "Run: 6 <br>Log-posterior score: 18.04",
          "Run: 7 <br>Log-posterior score: -0.71",
          "Run: 8 <br>Log-posterior score: 19.45",
          "Run: 9 <br>Log-posterior score: 20.75",
          "Run: 10 <br>Log-posterior score: 19.00"
         ],
         "type": "box",
         "visible": true,
         "y": [
          2.2663073024878995,
          0.17324277639500374,
          0.4489524788053826,
          0.911340954667119,
          1.8171913407646036,
          0.12847459729339986,
          1.107676647933849,
          0.12901398738118072,
          1.5438091428422513,
          0.3570890514877549
         ]
        }
       ],
       "layout": {
        "autosize": true,
        "template": {
         "data": {
          "bar": [
           {
            "error_x": {
             "color": "#2a3f5f"
            },
            "error_y": {
             "color": "#2a3f5f"
            },
            "marker": {
             "line": {
              "color": "white",
              "width": 0.5
             }
            },
            "type": "bar"
           }
          ],
          "barpolar": [
           {
            "marker": {
             "line": {
              "color": "white",
              "width": 0.5
             }
            },
            "type": "barpolar"
           }
          ],
          "carpet": [
           {
            "aaxis": {
             "endlinecolor": "#2a3f5f",
             "gridcolor": "#C8D4E3",
             "linecolor": "#C8D4E3",
             "minorgridcolor": "#C8D4E3",
             "startlinecolor": "#2a3f5f"
            },
            "baxis": {
             "endlinecolor": "#2a3f5f",
             "gridcolor": "#C8D4E3",
             "linecolor": "#C8D4E3",
             "minorgridcolor": "#C8D4E3",
             "startlinecolor": "#2a3f5f"
            },
            "type": "carpet"
           }
          ],
          "choropleth": [
           {
            "colorbar": {
             "outlinewidth": 0,
             "ticks": ""
            },
            "type": "choropleth"
           }
          ],
          "contour": [
           {
            "colorbar": {
             "outlinewidth": 0,
             "ticks": ""
            },
            "colorscale": [
             [
              0,
              "#0d0887"
             ],
             [
              0.1111111111111111,
              "#46039f"
             ],
             [
              0.2222222222222222,
              "#7201a8"
             ],
             [
              0.3333333333333333,
              "#9c179e"
             ],
             [
              0.4444444444444444,
              "#bd3786"
             ],
             [
              0.5555555555555556,
              "#d8576b"
             ],
             [
              0.6666666666666666,
              "#ed7953"
             ],
             [
              0.7777777777777778,
              "#fb9f3a"
             ],
             [
              0.8888888888888888,
              "#fdca26"
             ],
             [
              1,
              "#f0f921"
             ]
            ],
            "type": "contour"
           }
          ],
          "contourcarpet": [
           {
            "colorbar": {
             "outlinewidth": 0,
             "ticks": ""
            },
            "type": "contourcarpet"
           }
          ],
          "heatmap": [
           {
            "colorbar": {
             "outlinewidth": 0,
             "ticks": ""
            },
            "colorscale": [
             [
              0,
              "#0d0887"
             ],
             [
              0.1111111111111111,
              "#46039f"
             ],
             [
              0.2222222222222222,
              "#7201a8"
             ],
             [
              0.3333333333333333,
              "#9c179e"
             ],
             [
              0.4444444444444444,
              "#bd3786"
             ],
             [
              0.5555555555555556,
              "#d8576b"
             ],
             [
              0.6666666666666666,
              "#ed7953"
             ],
             [
              0.7777777777777778,
              "#fb9f3a"
             ],
             [
              0.8888888888888888,
              "#fdca26"
             ],
             [
              1,
              "#f0f921"
             ]
            ],
            "type": "heatmap"
           }
          ],
          "heatmapgl": [
           {
            "colorbar": {
             "outlinewidth": 0,
             "ticks": ""
            },
            "colorscale": [
             [
              0,
              "#0d0887"
             ],
             [
              0.1111111111111111,
              "#46039f"
             ],
             [
              0.2222222222222222,
              "#7201a8"
             ],
             [
              0.3333333333333333,
              "#9c179e"
             ],
             [
              0.4444444444444444,
              "#bd3786"
             ],
             [
              0.5555555555555556,
              "#d8576b"
             ],
             [
              0.6666666666666666,
              "#ed7953"
             ],
             [
              0.7777777777777778,
              "#fb9f3a"
             ],
             [
              0.8888888888888888,
              "#fdca26"
             ],
             [
              1,
              "#f0f921"
             ]
            ],
            "type": "heatmapgl"
           }
          ],
          "histogram": [
           {
            "marker": {
             "colorbar": {
              "outlinewidth": 0,
              "ticks": ""
             }
            },
            "type": "histogram"
           }
          ],
          "histogram2d": [
           {
            "colorbar": {
             "outlinewidth": 0,
             "ticks": ""
            },
            "colorscale": [
             [
              0,
              "#0d0887"
             ],
             [
              0.1111111111111111,
              "#46039f"
             ],
             [
              0.2222222222222222,
              "#7201a8"
             ],
             [
              0.3333333333333333,
              "#9c179e"
             ],
             [
              0.4444444444444444,
              "#bd3786"
             ],
             [
              0.5555555555555556,
              "#d8576b"
             ],
             [
              0.6666666666666666,
              "#ed7953"
             ],
             [
              0.7777777777777778,
              "#fb9f3a"
             ],
             [
              0.8888888888888888,
              "#fdca26"
             ],
             [
              1,
              "#f0f921"
             ]
            ],
            "type": "histogram2d"
           }
          ],
          "histogram2dcontour": [
           {
            "colorbar": {
             "outlinewidth": 0,
             "ticks": ""
            },
            "colorscale": [
             [
              0,
              "#0d0887"
             ],
             [
              0.1111111111111111,
              "#46039f"
             ],
             [
              0.2222222222222222,
              "#7201a8"
             ],
             [
              0.3333333333333333,
              "#9c179e"
             ],
             [
              0.4444444444444444,
              "#bd3786"
             ],
             [
              0.5555555555555556,
              "#d8576b"
             ],
             [
              0.6666666666666666,
              "#ed7953"
             ],
             [
              0.7777777777777778,
              "#fb9f3a"
             ],
             [
              0.8888888888888888,
              "#fdca26"
             ],
             [
              1,
              "#f0f921"
             ]
            ],
            "type": "histogram2dcontour"
           }
          ],
          "mesh3d": [
           {
            "colorbar": {
             "outlinewidth": 0,
             "ticks": ""
            },
            "type": "mesh3d"
           }
          ],
          "parcoords": [
           {
            "line": {
             "colorbar": {
              "outlinewidth": 0,
              "ticks": ""
             }
            },
            "type": "parcoords"
           }
          ],
          "pie": [
           {
            "automargin": true,
            "type": "pie"
           }
          ],
          "scatter": [
           {
            "marker": {
             "colorbar": {
              "outlinewidth": 0,
              "ticks": ""
             }
            },
            "type": "scatter"
           }
          ],
          "scatter3d": [
           {
            "line": {
             "colorbar": {
              "outlinewidth": 0,
              "ticks": ""
             }
            },
            "marker": {
             "colorbar": {
              "outlinewidth": 0,
              "ticks": ""
             }
            },
            "type": "scatter3d"
           }
          ],
          "scattercarpet": [
           {
            "marker": {
             "colorbar": {
              "outlinewidth": 0,
              "ticks": ""
             }
            },
            "type": "scattercarpet"
           }
          ],
          "scattergeo": [
           {
            "marker": {
             "colorbar": {
              "outlinewidth": 0,
              "ticks": ""
             }
            },
            "type": "scattergeo"
           }
          ],
          "scattergl": [
           {
            "marker": {
             "colorbar": {
              "outlinewidth": 0,
              "ticks": ""
             }
            },
            "type": "scattergl"
           }
          ],
          "scattermapbox": [
           {
            "marker": {
             "colorbar": {
              "outlinewidth": 0,
              "ticks": ""
             }
            },
            "type": "scattermapbox"
           }
          ],
          "scatterpolar": [
           {
            "marker": {
             "colorbar": {
              "outlinewidth": 0,
              "ticks": ""
             }
            },
            "type": "scatterpolar"
           }
          ],
          "scatterpolargl": [
           {
            "marker": {
             "colorbar": {
              "outlinewidth": 0,
              "ticks": ""
             }
            },
            "type": "scatterpolargl"
           }
          ],
          "scatterternary": [
           {
            "marker": {
             "colorbar": {
              "outlinewidth": 0,
              "ticks": ""
             }
            },
            "type": "scatterternary"
           }
          ],
          "surface": [
           {
            "colorbar": {
             "outlinewidth": 0,
             "ticks": ""
            },
            "colorscale": [
             [
              0,
              "#0d0887"
             ],
             [
              0.1111111111111111,
              "#46039f"
             ],
             [
              0.2222222222222222,
              "#7201a8"
             ],
             [
              0.3333333333333333,
              "#9c179e"
             ],
             [
              0.4444444444444444,
              "#bd3786"
             ],
             [
              0.5555555555555556,
              "#d8576b"
             ],
             [
              0.6666666666666666,
              "#ed7953"
             ],
             [
              0.7777777777777778,
              "#fb9f3a"
             ],
             [
              0.8888888888888888,
              "#fdca26"
             ],
             [
              1,
              "#f0f921"
             ]
            ],
            "type": "surface"
           }
          ],
          "table": [
           {
            "cells": {
             "fill": {
              "color": "#EBF0F8"
             },
             "line": {
              "color": "white"
             }
            },
            "header": {
             "fill": {
              "color": "#C8D4E3"
             },
             "line": {
              "color": "white"
             }
            },
            "type": "table"
           }
          ]
         },
         "layout": {
          "annotationdefaults": {
           "arrowcolor": "#2a3f5f",
           "arrowhead": 0,
           "arrowwidth": 1
          },
          "coloraxis": {
           "colorbar": {
            "outlinewidth": 0,
            "ticks": ""
           }
          },
          "colorscale": {
           "diverging": [
            [
             0,
             "#8e0152"
            ],
            [
             0.1,
             "#c51b7d"
            ],
            [
             0.2,
             "#de77ae"
            ],
            [
             0.3,
             "#f1b6da"
            ],
            [
             0.4,
             "#fde0ef"
            ],
            [
             0.5,
             "#f7f7f7"
            ],
            [
             0.6,
             "#e6f5d0"
            ],
            [
             0.7,
             "#b8e186"
            ],
            [
             0.8,
             "#7fbc41"
            ],
            [
             0.9,
             "#4d9221"
            ],
            [
             1,
             "#276419"
            ]
           ],
           "sequential": [
            [
             0,
             "#0d0887"
            ],
            [
             0.1111111111111111,
             "#46039f"
            ],
            [
             0.2222222222222222,
             "#7201a8"
            ],
            [
             0.3333333333333333,
             "#9c179e"
            ],
            [
             0.4444444444444444,
             "#bd3786"
            ],
            [
             0.5555555555555556,
             "#d8576b"
            ],
            [
             0.6666666666666666,
             "#ed7953"
            ],
            [
             0.7777777777777778,
             "#fb9f3a"
            ],
            [
             0.8888888888888888,
             "#fdca26"
            ],
            [
             1,
             "#f0f921"
            ]
           ],
           "sequentialminus": [
            [
             0,
             "#0d0887"
            ],
            [
             0.1111111111111111,
             "#46039f"
            ],
            [
             0.2222222222222222,
             "#7201a8"
            ],
            [
             0.3333333333333333,
             "#9c179e"
            ],
            [
             0.4444444444444444,
             "#bd3786"
            ],
            [
             0.5555555555555556,
             "#d8576b"
            ],
            [
             0.6666666666666666,
             "#ed7953"
            ],
            [
             0.7777777777777778,
             "#fb9f3a"
            ],
            [
             0.8888888888888888,
             "#fdca26"
            ],
            [
             1,
             "#f0f921"
            ]
           ]
          },
          "colorway": [
           "#636efa",
           "#EF553B",
           "#00cc96",
           "#ab63fa",
           "#FFA15A",
           "#19d3f3",
           "#FF6692",
           "#B6E880",
           "#FF97FF",
           "#FECB52"
          ],
          "font": {
           "color": "#2a3f5f"
          },
          "geo": {
           "bgcolor": "white",
           "lakecolor": "white",
           "landcolor": "white",
           "showlakes": true,
           "showland": true,
           "subunitcolor": "#C8D4E3"
          },
          "hoverlabel": {
           "align": "left"
          },
          "hovermode": "closest",
          "mapbox": {
           "style": "light"
          },
          "paper_bgcolor": "white",
          "plot_bgcolor": "white",
          "polar": {
           "angularaxis": {
            "gridcolor": "#EBF0F8",
            "linecolor": "#EBF0F8",
            "ticks": ""
           },
           "bgcolor": "white",
           "radialaxis": {
            "gridcolor": "#EBF0F8",
            "linecolor": "#EBF0F8",
            "ticks": ""
           }
          },
          "scene": {
           "xaxis": {
            "backgroundcolor": "white",
            "gridcolor": "#DFE8F3",
            "gridwidth": 2,
            "linecolor": "#EBF0F8",
            "showbackground": true,
            "ticks": "",
            "zerolinecolor": "#EBF0F8"
           },
           "yaxis": {
            "backgroundcolor": "white",
            "gridcolor": "#DFE8F3",
            "gridwidth": 2,
            "linecolor": "#EBF0F8",
            "showbackground": true,
            "ticks": "",
            "zerolinecolor": "#EBF0F8"
           },
           "zaxis": {
            "backgroundcolor": "white",
            "gridcolor": "#DFE8F3",
            "gridwidth": 2,
            "linecolor": "#EBF0F8",
            "showbackground": true,
            "ticks": "",
            "zerolinecolor": "#EBF0F8"
           }
          },
          "shapedefaults": {
           "line": {
            "color": "#2a3f5f"
           }
          },
          "ternary": {
           "aaxis": {
            "gridcolor": "#DFE8F3",
            "linecolor": "#A2B1C6",
            "ticks": ""
           },
           "baxis": {
            "gridcolor": "#DFE8F3",
            "linecolor": "#A2B1C6",
            "ticks": ""
           },
           "bgcolor": "white",
           "caxis": {
            "gridcolor": "#DFE8F3",
            "linecolor": "#A2B1C6",
            "ticks": ""
           }
          },
          "title": {
           "x": 0.05
          },
          "xaxis": {
           "automargin": true,
           "gridcolor": "#EBF0F8",
           "linecolor": "#EBF0F8",
           "ticks": "",
           "title": {
            "standoff": 15
           },
           "zerolinecolor": "#EBF0F8",
           "zerolinewidth": 2
          },
          "yaxis": {
           "automargin": true,
           "gridcolor": "#EBF0F8",
           "linecolor": "#EBF0F8",
           "ticks": "",
           "title": {
            "standoff": 15
           },
           "zerolinecolor": "#EBF0F8",
           "zerolinewidth": 2
          }
         }
        },
        "updatemenus": [
         {
          "buttons": [
           {
            "args": [
             {
              "yaxis.type": "linear"
             }
            ],
            "label": "Linear y-scale",
            "method": "relayout"
           },
           {
            "args": [
             {
              "yaxis.type": "log"
             }
            ],
            "label": "Log y-scale",
            "method": "relayout"
           }
          ],
          "direction": "left",
          "pad": {
           "r": 0,
           "t": -10
          },
          "showactive": true,
          "type": "buttons",
          "x": 0,
          "xanchor": "left",
          "y": 1.15,
          "yanchor": "top"
         }
        ],
        "yaxis": {
         "title": {
          "text": "Volume of distribution in L"
         }
        }
       }
      }
     },
     "metadata": {}
    },
    {
     "output_type": "display_data",
     "data": {
      "application/vnd.plotly.v1+json": {
       "config": {
        "plotlyServerURL": "https://plot.ly"
       },
       "data": [
        {
         "boxpoints": "all",
         "hovertemplate": "Estimate: %{y:.2f}<br>%{text}",
         "jitter": 0.2,
         "line": {
          "color": "#636EFA"
         },
         "marker": {
          "color": "#636EFA",
          "line": {
           "color": "black",
           "width": 1
          },
          "opacity": 0.7,
          "symbol": "circle"
         },
         "name": "ID: 34",
         "pointpos": -1.5,
         "text": [
          "Run: 1 <br>Log-posterior score: 18.44",
          "Run: 2 <br>Log-posterior score: 19.12",
          "Run: 3 <br>Log-posterior score: 18.65",
          "Run: 4 <br>Log-posterior score: 17.26",
          "Run: 5 <br>Log-posterior score: 19.26",
          "Run: 6 <br>Log-posterior score: 18.83",
          "Run: 7 <br>Log-posterior score: 18.64",
          "Run: 8 <br>Log-posterior score: 15.21",
          "Run: 9 <br>Log-posterior score: 19.35",
          "Run: 10 <br>Log-posterior score: 19.43"
         ],
         "type": "box",
         "visible": true,
         "y": [
          0.30943418630878233,
          0.8740005460005158,
          0.48129762226849465,
          4.092221361879281,
          0.5114494918617752,
          0.6920561381658659,
          0.7362623025330532,
          1.1295646648120536,
          0.8204089515108801,
          0.5390844421771152
         ]
        },
        {
         "boxpoints": "all",
         "hovertemplate": "Estimate: %{y:.2f}<br>%{text}",
         "jitter": 0.2,
         "line": {
          "color": "#EF553B"
         },
         "marker": {
          "color": "#EF553B",
          "line": {
           "color": "black",
           "width": 1
          },
          "opacity": 0.7,
          "symbol": "circle"
         },
         "name": "ID: 52",
         "pointpos": -1.5,
         "text": [
          "Run: 1 <br>Log-posterior score: 8.85",
          "Run: 2 <br>Log-posterior score: 16.80",
          "Run: 3 <br>Log-posterior score: 26.16",
          "Run: 4 <br>Log-posterior score: 16.43",
          "Run: 5 <br>Log-posterior score: 12.45",
          "Run: 6 <br>Log-posterior score: 25.30",
          "Run: 7 <br>Log-posterior score: 23.77",
          "Run: 8 <br>Log-posterior score: 26.69",
          "Run: 9 <br>Log-posterior score: 16.19",
          "Run: 10 <br>Log-posterior score: 23.52"
         ],
         "type": "box",
         "visible": true,
         "y": [
          28.424747127911235,
          7.028509114407453,
          0.003886315815108704,
          3.155221939195354,
          4.9601488654768255,
          0.002406925431370696,
          0.0114368422260404,
          0.0014222422806374011,
          5.024504007808268,
          0.0027114374253247456
         ]
        },
        {
         "boxpoints": "all",
         "hovertemplate": "Estimate: %{y:.2f}<br>%{text}",
         "jitter": 0.2,
         "line": {
          "color": "#00CC96"
         },
         "marker": {
          "color": "#00CC96",
          "line": {
           "color": "black",
           "width": 1
          },
          "opacity": 0.7,
          "symbol": "circle"
         },
         "name": "ID: 91",
         "pointpos": -1.5,
         "text": [
          "Run: 1 <br>Log-posterior score: -11.01",
          "Run: 2 <br>Log-posterior score: -11.01",
          "Run: 3 <br>Log-posterior score: -11.01",
          "Run: 4 <br>Log-posterior score: -11.01",
          "Run: 5 <br>Log-posterior score: -11.01",
          "Run: 6 <br>Log-posterior score: -11.01",
          "Run: 7 <br>Log-posterior score: -11.01",
          "Run: 8 <br>Log-posterior score: -11.01",
          "Run: 9 <br>Log-posterior score: -11.01",
          "Run: 10 <br>Log-posterior score: -11.01"
         ],
         "type": "box",
         "visible": true,
         "y": [
          0.7133073738910152,
          0.6793089464330465,
          0.7255018057291107,
          0.6793093785644744,
          0.6793092529313361,
          0.7113711962936714,
          0.6793089325943896,
          0.6793092663583495,
          0.6793094538002069,
          0.6793096392378299
         ]
        },
        {
         "boxpoints": "all",
         "hovertemplate": "Estimate: %{y:.2f}<br>%{text}",
         "jitter": 0.2,
         "line": {
          "color": "#AB63FA"
         },
         "marker": {
          "color": "#AB63FA",
          "line": {
           "color": "black",
           "width": 1
          },
          "opacity": 0.7,
          "symbol": "circle"
         },
         "name": "ID: 108",
         "pointpos": -1.5,
         "text": [
          "Run: 1 <br>Log-posterior score: -10.86",
          "Run: 2 <br>Log-posterior score: -10.86",
          "Run: 3 <br>Log-posterior score: 28.44",
          "Run: 4 <br>Log-posterior score: -10.86",
          "Run: 5 <br>Log-posterior score: -10.86",
          "Run: 6 <br>Log-posterior score: -10.86",
          "Run: 7 <br>Log-posterior score: -10.86",
          "Run: 8 <br>Log-posterior score: -10.86",
          "Run: 9 <br>Log-posterior score: -10.86",
          "Run: 10 <br>Log-posterior score: -10.86"
         ],
         "type": "box",
         "visible": true,
         "y": [
          0.530263661982725,
          0.5302603152076876,
          16.284896334497763,
          0.5302602486408093,
          0.5302634361066663,
          0.5302619107993043,
          0.5302676041438755,
          0.5302634334718385,
          0.5302638726615471,
          0.5302645166487141
         ]
        },
        {
         "boxpoints": "all",
         "hovertemplate": "Estimate: %{y:.2f}<br>%{text}",
         "jitter": 0.2,
         "line": {
          "color": "#FFA15A"
         },
         "marker": {
          "color": "#FFA15A",
          "line": {
           "color": "black",
           "width": 1
          },
          "opacity": 0.7,
          "symbol": "circle"
         },
         "name": "ID: 122",
         "pointpos": -1.5,
         "text": [
          "Run: 1 <br>Log-posterior score: -7.53",
          "Run: 2 <br>Log-posterior score: -7.53",
          "Run: 3 <br>Log-posterior score: -7.53",
          "Run: 4 <br>Log-posterior score: -7.53",
          "Run: 5 <br>Log-posterior score: -7.53",
          "Run: 6 <br>Log-posterior score: 25.80",
          "Run: 7 <br>Log-posterior score: -7.53",
          "Run: 8 <br>Log-posterior score: -7.53",
          "Run: 9 <br>Log-posterior score: -7.53",
          "Run: 10 <br>Log-posterior score: -7.53"
         ],
         "type": "box",
         "visible": true,
         "y": [
          0.00024188547283706893,
          0.00006904930783408098,
          0.00006947053220426788,
          0.00024188547281762281,
          0.00023310667137963826,
          269.6514824997902,
          0.0000690491593191056,
          0.0000690493078924029,
          0.00006862808327321755,
          0.00012180581984394052
         ]
        },
        {
         "boxpoints": "all",
         "hovertemplate": "Estimate: %{y:.2f}<br>%{text}",
         "jitter": 0.2,
         "line": {
          "color": "#19D3F3"
         },
         "marker": {
          "color": "#19D3F3",
          "line": {
           "color": "black",
           "width": 1
          },
          "opacity": 0.7,
          "symbol": "circle"
         },
         "name": "ID: 129",
         "pointpos": -1.5,
         "text": [
          "Run: 1 <br>Log-posterior score: -9.69",
          "Run: 2 <br>Log-posterior score: 28.56",
          "Run: 3 <br>Log-posterior score: -9.69",
          "Run: 4 <br>Log-posterior score: -9.69",
          "Run: 5 <br>Log-posterior score: -9.69",
          "Run: 6 <br>Log-posterior score: -9.69",
          "Run: 7 <br>Log-posterior score: -9.69",
          "Run: 8 <br>Log-posterior score: -9.69",
          "Run: 9 <br>Log-posterior score: -9.69",
          "Run: 10 <br>Log-posterior score: -9.69"
         ],
         "type": "box",
         "visible": true,
         "y": [
          0.656070380272948,
          72.97442796519839,
          0.656070572978324,
          0.6560703046297004,
          0.6560701524491727,
          0.6560699340019008,
          0.656070604699592,
          0.6560692589921736,
          0.6560705451571405,
          0.6560698351755845
         ]
        },
        {
         "boxpoints": "all",
         "hovertemplate": "Estimate: %{y:.2f}<br>%{text}",
         "jitter": 0.2,
         "line": {
          "color": "#FF6692"
         },
         "marker": {
          "color": "#FF6692",
          "line": {
           "color": "black",
           "width": 1
          },
          "opacity": 0.7,
          "symbol": "circle"
         },
         "name": "ID: 163",
         "pointpos": -1.5,
         "text": [
          "Run: 1 <br>Log-posterior score: 49.61",
          "Run: 2 <br>Log-posterior score: 47.02",
          "Run: 3 <br>Log-posterior score: 48.45",
          "Run: 4 <br>Log-posterior score: 46.98",
          "Run: 5 <br>Log-posterior score: 47.67",
          "Run: 6 <br>Log-posterior score: 47.52",
          "Run: 7 <br>Log-posterior score: 49.23",
          "Run: 8 <br>Log-posterior score: 47.69",
          "Run: 9 <br>Log-posterior score: 50.48",
          "Run: 10 <br>Log-posterior score: 48.05"
         ],
         "type": "box",
         "visible": true,
         "y": [
          0.15376729921304655,
          0.11787135817649164,
          0.13387362732571667,
          0.14452156034244812,
          0.152104232297775,
          0.10607008473756278,
          0.1513493852717676,
          0.035728435111355344,
          0.11760308385333298,
          0.1317335474818414
         ]
        },
        {
         "boxpoints": "all",
         "hovertemplate": "Estimate: %{y:.2f}<br>%{text}",
         "jitter": 0.2,
         "line": {
          "color": "#B6E880"
         },
         "marker": {
          "color": "#B6E880",
          "line": {
           "color": "black",
           "width": 1
          },
          "opacity": 0.7,
          "symbol": "circle"
         },
         "name": "ID: 167",
         "pointpos": -1.5,
         "text": [
          "Run: 1 <br>Log-posterior score: 20.84",
          "Run: 2 <br>Log-posterior score: 20.42",
          "Run: 3 <br>Log-posterior score: 18.88",
          "Run: 4 <br>Log-posterior score: 20.12",
          "Run: 5 <br>Log-posterior score: 20.75",
          "Run: 6 <br>Log-posterior score: 18.04",
          "Run: 7 <br>Log-posterior score: -0.71",
          "Run: 8 <br>Log-posterior score: 19.45",
          "Run: 9 <br>Log-posterior score: 20.75",
          "Run: 10 <br>Log-posterior score: 19.00"
         ],
         "type": "box",
         "visible": true,
         "y": [
          0.44451168837958166,
          0.07553208512493925,
          1.0490750861800449,
          2.4565908456734453,
          0.7125432886001773,
          0.04415576789507009,
          49.10963479880218,
          0.5304519464208473,
          0.2742102918402112,
          0.8940090339559231
         ]
        }
       ],
       "layout": {
        "autosize": true,
        "template": {
         "data": {
          "bar": [
           {
            "error_x": {
             "color": "#2a3f5f"
            },
            "error_y": {
             "color": "#2a3f5f"
            },
            "marker": {
             "line": {
              "color": "white",
              "width": 0.5
             }
            },
            "type": "bar"
           }
          ],
          "barpolar": [
           {
            "marker": {
             "line": {
              "color": "white",
              "width": 0.5
             }
            },
            "type": "barpolar"
           }
          ],
          "carpet": [
           {
            "aaxis": {
             "endlinecolor": "#2a3f5f",
             "gridcolor": "#C8D4E3",
             "linecolor": "#C8D4E3",
             "minorgridcolor": "#C8D4E3",
             "startlinecolor": "#2a3f5f"
            },
            "baxis": {
             "endlinecolor": "#2a3f5f",
             "gridcolor": "#C8D4E3",
             "linecolor": "#C8D4E3",
             "minorgridcolor": "#C8D4E3",
             "startlinecolor": "#2a3f5f"
            },
            "type": "carpet"
           }
          ],
          "choropleth": [
           {
            "colorbar": {
             "outlinewidth": 0,
             "ticks": ""
            },
            "type": "choropleth"
           }
          ],
          "contour": [
           {
            "colorbar": {
             "outlinewidth": 0,
             "ticks": ""
            },
            "colorscale": [
             [
              0,
              "#0d0887"
             ],
             [
              0.1111111111111111,
              "#46039f"
             ],
             [
              0.2222222222222222,
              "#7201a8"
             ],
             [
              0.3333333333333333,
              "#9c179e"
             ],
             [
              0.4444444444444444,
              "#bd3786"
             ],
             [
              0.5555555555555556,
              "#d8576b"
             ],
             [
              0.6666666666666666,
              "#ed7953"
             ],
             [
              0.7777777777777778,
              "#fb9f3a"
             ],
             [
              0.8888888888888888,
              "#fdca26"
             ],
             [
              1,
              "#f0f921"
             ]
            ],
            "type": "contour"
           }
          ],
          "contourcarpet": [
           {
            "colorbar": {
             "outlinewidth": 0,
             "ticks": ""
            },
            "type": "contourcarpet"
           }
          ],
          "heatmap": [
           {
            "colorbar": {
             "outlinewidth": 0,
             "ticks": ""
            },
            "colorscale": [
             [
              0,
              "#0d0887"
             ],
             [
              0.1111111111111111,
              "#46039f"
             ],
             [
              0.2222222222222222,
              "#7201a8"
             ],
             [
              0.3333333333333333,
              "#9c179e"
             ],
             [
              0.4444444444444444,
              "#bd3786"
             ],
             [
              0.5555555555555556,
              "#d8576b"
             ],
             [
              0.6666666666666666,
              "#ed7953"
             ],
             [
              0.7777777777777778,
              "#fb9f3a"
             ],
             [
              0.8888888888888888,
              "#fdca26"
             ],
             [
              1,
              "#f0f921"
             ]
            ],
            "type": "heatmap"
           }
          ],
          "heatmapgl": [
           {
            "colorbar": {
             "outlinewidth": 0,
             "ticks": ""
            },
            "colorscale": [
             [
              0,
              "#0d0887"
             ],
             [
              0.1111111111111111,
              "#46039f"
             ],
             [
              0.2222222222222222,
              "#7201a8"
             ],
             [
              0.3333333333333333,
              "#9c179e"
             ],
             [
              0.4444444444444444,
              "#bd3786"
             ],
             [
              0.5555555555555556,
              "#d8576b"
             ],
             [
              0.6666666666666666,
              "#ed7953"
             ],
             [
              0.7777777777777778,
              "#fb9f3a"
             ],
             [
              0.8888888888888888,
              "#fdca26"
             ],
             [
              1,
              "#f0f921"
             ]
            ],
            "type": "heatmapgl"
           }
          ],
          "histogram": [
           {
            "marker": {
             "colorbar": {
              "outlinewidth": 0,
              "ticks": ""
             }
            },
            "type": "histogram"
           }
          ],
          "histogram2d": [
           {
            "colorbar": {
             "outlinewidth": 0,
             "ticks": ""
            },
            "colorscale": [
             [
              0,
              "#0d0887"
             ],
             [
              0.1111111111111111,
              "#46039f"
             ],
             [
              0.2222222222222222,
              "#7201a8"
             ],
             [
              0.3333333333333333,
              "#9c179e"
             ],
             [
              0.4444444444444444,
              "#bd3786"
             ],
             [
              0.5555555555555556,
              "#d8576b"
             ],
             [
              0.6666666666666666,
              "#ed7953"
             ],
             [
              0.7777777777777778,
              "#fb9f3a"
             ],
             [
              0.8888888888888888,
              "#fdca26"
             ],
             [
              1,
              "#f0f921"
             ]
            ],
            "type": "histogram2d"
           }
          ],
          "histogram2dcontour": [
           {
            "colorbar": {
             "outlinewidth": 0,
             "ticks": ""
            },
            "colorscale": [
             [
              0,
              "#0d0887"
             ],
             [
              0.1111111111111111,
              "#46039f"
             ],
             [
              0.2222222222222222,
              "#7201a8"
             ],
             [
              0.3333333333333333,
              "#9c179e"
             ],
             [
              0.4444444444444444,
              "#bd3786"
             ],
             [
              0.5555555555555556,
              "#d8576b"
             ],
             [
              0.6666666666666666,
              "#ed7953"
             ],
             [
              0.7777777777777778,
              "#fb9f3a"
             ],
             [
              0.8888888888888888,
              "#fdca26"
             ],
             [
              1,
              "#f0f921"
             ]
            ],
            "type": "histogram2dcontour"
           }
          ],
          "mesh3d": [
           {
            "colorbar": {
             "outlinewidth": 0,
             "ticks": ""
            },
            "type": "mesh3d"
           }
          ],
          "parcoords": [
           {
            "line": {
             "colorbar": {
              "outlinewidth": 0,
              "ticks": ""
             }
            },
            "type": "parcoords"
           }
          ],
          "pie": [
           {
            "automargin": true,
            "type": "pie"
           }
          ],
          "scatter": [
           {
            "marker": {
             "colorbar": {
              "outlinewidth": 0,
              "ticks": ""
             }
            },
            "type": "scatter"
           }
          ],
          "scatter3d": [
           {
            "line": {
             "colorbar": {
              "outlinewidth": 0,
              "ticks": ""
             }
            },
            "marker": {
             "colorbar": {
              "outlinewidth": 0,
              "ticks": ""
             }
            },
            "type": "scatter3d"
           }
          ],
          "scattercarpet": [
           {
            "marker": {
             "colorbar": {
              "outlinewidth": 0,
              "ticks": ""
             }
            },
            "type": "scattercarpet"
           }
          ],
          "scattergeo": [
           {
            "marker": {
             "colorbar": {
              "outlinewidth": 0,
              "ticks": ""
             }
            },
            "type": "scattergeo"
           }
          ],
          "scattergl": [
           {
            "marker": {
             "colorbar": {
              "outlinewidth": 0,
              "ticks": ""
             }
            },
            "type": "scattergl"
           }
          ],
          "scattermapbox": [
           {
            "marker": {
             "colorbar": {
              "outlinewidth": 0,
              "ticks": ""
             }
            },
            "type": "scattermapbox"
           }
          ],
          "scatterpolar": [
           {
            "marker": {
             "colorbar": {
              "outlinewidth": 0,
              "ticks": ""
             }
            },
            "type": "scatterpolar"
           }
          ],
          "scatterpolargl": [
           {
            "marker": {
             "colorbar": {
              "outlinewidth": 0,
              "ticks": ""
             }
            },
            "type": "scatterpolargl"
           }
          ],
          "scatterternary": [
           {
            "marker": {
             "colorbar": {
              "outlinewidth": 0,
              "ticks": ""
             }
            },
            "type": "scatterternary"
           }
          ],
          "surface": [
           {
            "colorbar": {
             "outlinewidth": 0,
             "ticks": ""
            },
            "colorscale": [
             [
              0,
              "#0d0887"
             ],
             [
              0.1111111111111111,
              "#46039f"
             ],
             [
              0.2222222222222222,
              "#7201a8"
             ],
             [
              0.3333333333333333,
              "#9c179e"
             ],
             [
              0.4444444444444444,
              "#bd3786"
             ],
             [
              0.5555555555555556,
              "#d8576b"
             ],
             [
              0.6666666666666666,
              "#ed7953"
             ],
             [
              0.7777777777777778,
              "#fb9f3a"
             ],
             [
              0.8888888888888888,
              "#fdca26"
             ],
             [
              1,
              "#f0f921"
             ]
            ],
            "type": "surface"
           }
          ],
          "table": [
           {
            "cells": {
             "fill": {
              "color": "#EBF0F8"
             },
             "line": {
              "color": "white"
             }
            },
            "header": {
             "fill": {
              "color": "#C8D4E3"
             },
             "line": {
              "color": "white"
             }
            },
            "type": "table"
           }
          ]
         },
         "layout": {
          "annotationdefaults": {
           "arrowcolor": "#2a3f5f",
           "arrowhead": 0,
           "arrowwidth": 1
          },
          "coloraxis": {
           "colorbar": {
            "outlinewidth": 0,
            "ticks": ""
           }
          },
          "colorscale": {
           "diverging": [
            [
             0,
             "#8e0152"
            ],
            [
             0.1,
             "#c51b7d"
            ],
            [
             0.2,
             "#de77ae"
            ],
            [
             0.3,
             "#f1b6da"
            ],
            [
             0.4,
             "#fde0ef"
            ],
            [
             0.5,
             "#f7f7f7"
            ],
            [
             0.6,
             "#e6f5d0"
            ],
            [
             0.7,
             "#b8e186"
            ],
            [
             0.8,
             "#7fbc41"
            ],
            [
             0.9,
             "#4d9221"
            ],
            [
             1,
             "#276419"
            ]
           ],
           "sequential": [
            [
             0,
             "#0d0887"
            ],
            [
             0.1111111111111111,
             "#46039f"
            ],
            [
             0.2222222222222222,
             "#7201a8"
            ],
            [
             0.3333333333333333,
             "#9c179e"
            ],
            [
             0.4444444444444444,
             "#bd3786"
            ],
            [
             0.5555555555555556,
             "#d8576b"
            ],
            [
             0.6666666666666666,
             "#ed7953"
            ],
            [
             0.7777777777777778,
             "#fb9f3a"
            ],
            [
             0.8888888888888888,
             "#fdca26"
            ],
            [
             1,
             "#f0f921"
            ]
           ],
           "sequentialminus": [
            [
             0,
             "#0d0887"
            ],
            [
             0.1111111111111111,
             "#46039f"
            ],
            [
             0.2222222222222222,
             "#7201a8"
            ],
            [
             0.3333333333333333,
             "#9c179e"
            ],
            [
             0.4444444444444444,
             "#bd3786"
            ],
            [
             0.5555555555555556,
             "#d8576b"
            ],
            [
             0.6666666666666666,
             "#ed7953"
            ],
            [
             0.7777777777777778,
             "#fb9f3a"
            ],
            [
             0.8888888888888888,
             "#fdca26"
            ],
            [
             1,
             "#f0f921"
            ]
           ]
          },
          "colorway": [
           "#636efa",
           "#EF553B",
           "#00cc96",
           "#ab63fa",
           "#FFA15A",
           "#19d3f3",
           "#FF6692",
           "#B6E880",
           "#FF97FF",
           "#FECB52"
          ],
          "font": {
           "color": "#2a3f5f"
          },
          "geo": {
           "bgcolor": "white",
           "lakecolor": "white",
           "landcolor": "white",
           "showlakes": true,
           "showland": true,
           "subunitcolor": "#C8D4E3"
          },
          "hoverlabel": {
           "align": "left"
          },
          "hovermode": "closest",
          "mapbox": {
           "style": "light"
          },
          "paper_bgcolor": "white",
          "plot_bgcolor": "white",
          "polar": {
           "angularaxis": {
            "gridcolor": "#EBF0F8",
            "linecolor": "#EBF0F8",
            "ticks": ""
           },
           "bgcolor": "white",
           "radialaxis": {
            "gridcolor": "#EBF0F8",
            "linecolor": "#EBF0F8",
            "ticks": ""
           }
          },
          "scene": {
           "xaxis": {
            "backgroundcolor": "white",
            "gridcolor": "#DFE8F3",
            "gridwidth": 2,
            "linecolor": "#EBF0F8",
            "showbackground": true,
            "ticks": "",
            "zerolinecolor": "#EBF0F8"
           },
           "yaxis": {
            "backgroundcolor": "white",
            "gridcolor": "#DFE8F3",
            "gridwidth": 2,
            "linecolor": "#EBF0F8",
            "showbackground": true,
            "ticks": "",
            "zerolinecolor": "#EBF0F8"
           },
           "zaxis": {
            "backgroundcolor": "white",
            "gridcolor": "#DFE8F3",
            "gridwidth": 2,
            "linecolor": "#EBF0F8",
            "showbackground": true,
            "ticks": "",
            "zerolinecolor": "#EBF0F8"
           }
          },
          "shapedefaults": {
           "line": {
            "color": "#2a3f5f"
           }
          },
          "ternary": {
           "aaxis": {
            "gridcolor": "#DFE8F3",
            "linecolor": "#A2B1C6",
            "ticks": ""
           },
           "baxis": {
            "gridcolor": "#DFE8F3",
            "linecolor": "#A2B1C6",
            "ticks": ""
           },
           "bgcolor": "white",
           "caxis": {
            "gridcolor": "#DFE8F3",
            "linecolor": "#A2B1C6",
            "ticks": ""
           }
          },
          "title": {
           "x": 0.05
          },
          "xaxis": {
           "automargin": true,
           "gridcolor": "#EBF0F8",
           "linecolor": "#EBF0F8",
           "ticks": "",
           "title": {
            "standoff": 15
           },
           "zerolinecolor": "#EBF0F8",
           "zerolinewidth": 2
          },
          "yaxis": {
           "automargin": true,
           "gridcolor": "#EBF0F8",
           "linecolor": "#EBF0F8",
           "ticks": "",
           "title": {
            "standoff": 15
           },
           "zerolinecolor": "#EBF0F8",
           "zerolinewidth": 2
          }
         }
        },
        "updatemenus": [
         {
          "buttons": [
           {
            "args": [
             {
              "yaxis.type": "linear"
             }
            ],
            "label": "Linear y-scale",
            "method": "relayout"
           },
           {
            "args": [
             {
              "yaxis.type": "log"
             }
            ],
            "label": "Log y-scale",
            "method": "relayout"
           }
          ],
          "direction": "left",
          "pad": {
           "r": 0,
           "t": -10
          },
          "showactive": true,
          "type": "buttons",
          "x": 0,
          "xanchor": "left",
          "y": 1.15,
          "yanchor": "top"
         }
        ],
        "yaxis": {
         "title": {
          "text": "Absorption rate in 1/day"
         }
        }
       }
      }
     },
     "metadata": {}
    },
    {
     "output_type": "display_data",
     "data": {
      "application/vnd.plotly.v1+json": {
       "config": {
        "plotlyServerURL": "https://plot.ly"
       },
       "data": [
        {
         "boxpoints": "all",
         "hovertemplate": "Estimate: %{y:.2f}<br>%{text}",
         "jitter": 0.2,
         "line": {
          "color": "#636EFA"
         },
         "marker": {
          "color": "#636EFA",
          "line": {
           "color": "black",
           "width": 1
          },
          "opacity": 0.7,
          "symbol": "circle"
         },
         "name": "ID: 34",
         "pointpos": -1.5,
         "text": [
          "Run: 1 <br>Log-posterior score: 18.44",
          "Run: 2 <br>Log-posterior score: 19.12",
          "Run: 3 <br>Log-posterior score: 18.65",
          "Run: 4 <br>Log-posterior score: 17.26",
          "Run: 5 <br>Log-posterior score: 19.26",
          "Run: 6 <br>Log-posterior score: 18.83",
          "Run: 7 <br>Log-posterior score: 18.64",
          "Run: 8 <br>Log-posterior score: 15.21",
          "Run: 9 <br>Log-posterior score: 19.35",
          "Run: 10 <br>Log-posterior score: 19.43"
         ],
         "type": "box",
         "visible": true,
         "y": [
          0.09073678673267817,
          0.17403798711112864,
          0.10715358141673172,
          0.03939835225965798,
          0.13152500543817933,
          0.025067086587738204,
          0.16499373409033158,
          0.3171203789062837,
          0.0649760686319664,
          0.171647129006697
         ]
        },
        {
         "boxpoints": "all",
         "hovertemplate": "Estimate: %{y:.2f}<br>%{text}",
         "jitter": 0.2,
         "line": {
          "color": "#EF553B"
         },
         "marker": {
          "color": "#EF553B",
          "line": {
           "color": "black",
           "width": 1
          },
          "opacity": 0.7,
          "symbol": "circle"
         },
         "name": "ID: 52",
         "pointpos": -1.5,
         "text": [
          "Run: 1 <br>Log-posterior score: 8.85",
          "Run: 2 <br>Log-posterior score: 16.80",
          "Run: 3 <br>Log-posterior score: 26.16",
          "Run: 4 <br>Log-posterior score: 16.43",
          "Run: 5 <br>Log-posterior score: 12.45",
          "Run: 6 <br>Log-posterior score: 25.30",
          "Run: 7 <br>Log-posterior score: 23.77",
          "Run: 8 <br>Log-posterior score: 26.69",
          "Run: 9 <br>Log-posterior score: 16.19",
          "Run: 10 <br>Log-posterior score: 23.52"
         ],
         "type": "box",
         "visible": true,
         "y": [
          0.14038733826747388,
          0.5769494434511895,
          2.3155202744154395,
          13.489067579775494,
          3.3837999275861463,
          0.04756779403552191,
          5.93901559485787,
          0.8522261018725944,
          3.0922478382018315,
          1.605010104794469
         ]
        },
        {
         "boxpoints": "all",
         "hovertemplate": "Estimate: %{y:.2f}<br>%{text}",
         "jitter": 0.2,
         "line": {
          "color": "#00CC96"
         },
         "marker": {
          "color": "#00CC96",
          "line": {
           "color": "black",
           "width": 1
          },
          "opacity": 0.7,
          "symbol": "circle"
         },
         "name": "ID: 91",
         "pointpos": -1.5,
         "text": [
          "Run: 1 <br>Log-posterior score: -11.01",
          "Run: 2 <br>Log-posterior score: -11.01",
          "Run: 3 <br>Log-posterior score: -11.01",
          "Run: 4 <br>Log-posterior score: -11.01",
          "Run: 5 <br>Log-posterior score: -11.01",
          "Run: 6 <br>Log-posterior score: -11.01",
          "Run: 7 <br>Log-posterior score: -11.01",
          "Run: 8 <br>Log-posterior score: -11.01",
          "Run: 9 <br>Log-posterior score: -11.01",
          "Run: 10 <br>Log-posterior score: -11.01"
         ],
         "type": "box",
         "visible": true,
         "y": [
          0.20874447100204274,
          0.2087131466061685,
          0.20893840771545,
          0.20871314687649464,
          0.20871316886199687,
          0.20901285978141124,
          0.20871316007662383,
          0.20871323546774886,
          0.20871314083564882,
          0.20871323407034478
         ]
        },
        {
         "boxpoints": "all",
         "hovertemplate": "Estimate: %{y:.2f}<br>%{text}",
         "jitter": 0.2,
         "line": {
          "color": "#AB63FA"
         },
         "marker": {
          "color": "#AB63FA",
          "line": {
           "color": "black",
           "width": 1
          },
          "opacity": 0.7,
          "symbol": "circle"
         },
         "name": "ID: 108",
         "pointpos": -1.5,
         "text": [
          "Run: 1 <br>Log-posterior score: -10.86",
          "Run: 2 <br>Log-posterior score: -10.86",
          "Run: 3 <br>Log-posterior score: 28.44",
          "Run: 4 <br>Log-posterior score: -10.86",
          "Run: 5 <br>Log-posterior score: -10.86",
          "Run: 6 <br>Log-posterior score: -10.86",
          "Run: 7 <br>Log-posterior score: -10.86",
          "Run: 8 <br>Log-posterior score: -10.86",
          "Run: 9 <br>Log-posterior score: -10.86",
          "Run: 10 <br>Log-posterior score: -10.86"
         ],
         "type": "box",
         "visible": true,
         "y": [
          0.46856059269894174,
          0.46855902875348393,
          0.3455767176303519,
          0.46856047559498754,
          0.4685613754064208,
          0.4685589680148327,
          0.46855807517268927,
          0.46856124853280406,
          0.4685614508510159,
          0.4685594795196546
         ]
        },
        {
         "boxpoints": "all",
         "hovertemplate": "Estimate: %{y:.2f}<br>%{text}",
         "jitter": 0.2,
         "line": {
          "color": "#FFA15A"
         },
         "marker": {
          "color": "#FFA15A",
          "line": {
           "color": "black",
           "width": 1
          },
          "opacity": 0.7,
          "symbol": "circle"
         },
         "name": "ID: 122",
         "pointpos": -1.5,
         "text": [
          "Run: 1 <br>Log-posterior score: -7.53",
          "Run: 2 <br>Log-posterior score: -7.53",
          "Run: 3 <br>Log-posterior score: -7.53",
          "Run: 4 <br>Log-posterior score: -7.53",
          "Run: 5 <br>Log-posterior score: -7.53",
          "Run: 6 <br>Log-posterior score: 25.80",
          "Run: 7 <br>Log-posterior score: -7.53",
          "Run: 8 <br>Log-posterior score: -7.53",
          "Run: 9 <br>Log-posterior score: -7.53",
          "Run: 10 <br>Log-posterior score: -7.53"
         ],
         "type": "box",
         "visible": true,
         "y": [
          5.444189736091093e-18,
          5.1241208099711225e-18,
          3.173187861872282e-18,
          1.7195627353062561e-16,
          6.61391663124191e-9,
          1.2753338922682012,
          9.511646615032823e-14,
          9.70065556325904e-18,
          2.5154364971406354e-18,
          2.5734381856126034e-8
         ]
        },
        {
         "boxpoints": "all",
         "hovertemplate": "Estimate: %{y:.2f}<br>%{text}",
         "jitter": 0.2,
         "line": {
          "color": "#19D3F3"
         },
         "marker": {
          "color": "#19D3F3",
          "line": {
           "color": "black",
           "width": 1
          },
          "opacity": 0.7,
          "symbol": "circle"
         },
         "name": "ID: 129",
         "pointpos": -1.5,
         "text": [
          "Run: 1 <br>Log-posterior score: -9.69",
          "Run: 2 <br>Log-posterior score: 28.56",
          "Run: 3 <br>Log-posterior score: -9.69",
          "Run: 4 <br>Log-posterior score: -9.69",
          "Run: 5 <br>Log-posterior score: -9.69",
          "Run: 6 <br>Log-posterior score: -9.69",
          "Run: 7 <br>Log-posterior score: -9.69",
          "Run: 8 <br>Log-posterior score: -9.69",
          "Run: 9 <br>Log-posterior score: -9.69",
          "Run: 10 <br>Log-posterior score: -9.69"
         ],
         "type": "box",
         "visible": true,
         "y": [
          0.40409508414177486,
          1.1798171004089721,
          0.4040950648776637,
          0.4040950944290076,
          0.404095107783163,
          0.40409514952696546,
          0.404095073763332,
          0.40409507106692705,
          0.40409519602414756,
          0.4040951216399455
         ]
        },
        {
         "boxpoints": "all",
         "hovertemplate": "Estimate: %{y:.2f}<br>%{text}",
         "jitter": 0.2,
         "line": {
          "color": "#FF6692"
         },
         "marker": {
          "color": "#FF6692",
          "line": {
           "color": "black",
           "width": 1
          },
          "opacity": 0.7,
          "symbol": "circle"
         },
         "name": "ID: 163",
         "pointpos": -1.5,
         "text": [
          "Run: 1 <br>Log-posterior score: 49.61",
          "Run: 2 <br>Log-posterior score: 47.02",
          "Run: 3 <br>Log-posterior score: 48.45",
          "Run: 4 <br>Log-posterior score: 46.98",
          "Run: 5 <br>Log-posterior score: 47.67",
          "Run: 6 <br>Log-posterior score: 47.52",
          "Run: 7 <br>Log-posterior score: 49.23",
          "Run: 8 <br>Log-posterior score: 47.69",
          "Run: 9 <br>Log-posterior score: 50.48",
          "Run: 10 <br>Log-posterior score: 48.05"
         ],
         "type": "box",
         "visible": true,
         "y": [
          0.000336666410513397,
          0.025665881850767656,
          0.015136870704234603,
          0.007394992400952953,
          0.001627724660691867,
          0.032368259714887354,
          0.0022107447703123397,
          0.03853371621831576,
          0.025829173708473676,
          0.016624455509634727
         ]
        },
        {
         "boxpoints": "all",
         "hovertemplate": "Estimate: %{y:.2f}<br>%{text}",
         "jitter": 0.2,
         "line": {
          "color": "#B6E880"
         },
         "marker": {
          "color": "#B6E880",
          "line": {
           "color": "black",
           "width": 1
          },
          "opacity": 0.7,
          "symbol": "circle"
         },
         "name": "ID: 167",
         "pointpos": -1.5,
         "text": [
          "Run: 1 <br>Log-posterior score: 20.84",
          "Run: 2 <br>Log-posterior score: 20.42",
          "Run: 3 <br>Log-posterior score: 18.88",
          "Run: 4 <br>Log-posterior score: 20.12",
          "Run: 5 <br>Log-posterior score: 20.75",
          "Run: 6 <br>Log-posterior score: 18.04",
          "Run: 7 <br>Log-posterior score: -0.71",
          "Run: 8 <br>Log-posterior score: 19.45",
          "Run: 9 <br>Log-posterior score: 20.75",
          "Run: 10 <br>Log-posterior score: 19.00"
         ],
         "type": "box",
         "visible": true,
         "y": [
          0.05208624219092583,
          0.13698863338869552,
          0.21755845887435715,
          0.2077636541297545,
          0.1340775653258818,
          0.0945983363266653,
          0.21507985493772921,
          0.2122749423780174,
          0.11908174431984277,
          0.2171725013428399
         ]
        }
       ],
       "layout": {
        "autosize": true,
        "template": {
         "data": {
          "bar": [
           {
            "error_x": {
             "color": "#2a3f5f"
            },
            "error_y": {
             "color": "#2a3f5f"
            },
            "marker": {
             "line": {
              "color": "white",
              "width": 0.5
             }
            },
            "type": "bar"
           }
          ],
          "barpolar": [
           {
            "marker": {
             "line": {
              "color": "white",
              "width": 0.5
             }
            },
            "type": "barpolar"
           }
          ],
          "carpet": [
           {
            "aaxis": {
             "endlinecolor": "#2a3f5f",
             "gridcolor": "#C8D4E3",
             "linecolor": "#C8D4E3",
             "minorgridcolor": "#C8D4E3",
             "startlinecolor": "#2a3f5f"
            },
            "baxis": {
             "endlinecolor": "#2a3f5f",
             "gridcolor": "#C8D4E3",
             "linecolor": "#C8D4E3",
             "minorgridcolor": "#C8D4E3",
             "startlinecolor": "#2a3f5f"
            },
            "type": "carpet"
           }
          ],
          "choropleth": [
           {
            "colorbar": {
             "outlinewidth": 0,
             "ticks": ""
            },
            "type": "choropleth"
           }
          ],
          "contour": [
           {
            "colorbar": {
             "outlinewidth": 0,
             "ticks": ""
            },
            "colorscale": [
             [
              0,
              "#0d0887"
             ],
             [
              0.1111111111111111,
              "#46039f"
             ],
             [
              0.2222222222222222,
              "#7201a8"
             ],
             [
              0.3333333333333333,
              "#9c179e"
             ],
             [
              0.4444444444444444,
              "#bd3786"
             ],
             [
              0.5555555555555556,
              "#d8576b"
             ],
             [
              0.6666666666666666,
              "#ed7953"
             ],
             [
              0.7777777777777778,
              "#fb9f3a"
             ],
             [
              0.8888888888888888,
              "#fdca26"
             ],
             [
              1,
              "#f0f921"
             ]
            ],
            "type": "contour"
           }
          ],
          "contourcarpet": [
           {
            "colorbar": {
             "outlinewidth": 0,
             "ticks": ""
            },
            "type": "contourcarpet"
           }
          ],
          "heatmap": [
           {
            "colorbar": {
             "outlinewidth": 0,
             "ticks": ""
            },
            "colorscale": [
             [
              0,
              "#0d0887"
             ],
             [
              0.1111111111111111,
              "#46039f"
             ],
             [
              0.2222222222222222,
              "#7201a8"
             ],
             [
              0.3333333333333333,
              "#9c179e"
             ],
             [
              0.4444444444444444,
              "#bd3786"
             ],
             [
              0.5555555555555556,
              "#d8576b"
             ],
             [
              0.6666666666666666,
              "#ed7953"
             ],
             [
              0.7777777777777778,
              "#fb9f3a"
             ],
             [
              0.8888888888888888,
              "#fdca26"
             ],
             [
              1,
              "#f0f921"
             ]
            ],
            "type": "heatmap"
           }
          ],
          "heatmapgl": [
           {
            "colorbar": {
             "outlinewidth": 0,
             "ticks": ""
            },
            "colorscale": [
             [
              0,
              "#0d0887"
             ],
             [
              0.1111111111111111,
              "#46039f"
             ],
             [
              0.2222222222222222,
              "#7201a8"
             ],
             [
              0.3333333333333333,
              "#9c179e"
             ],
             [
              0.4444444444444444,
              "#bd3786"
             ],
             [
              0.5555555555555556,
              "#d8576b"
             ],
             [
              0.6666666666666666,
              "#ed7953"
             ],
             [
              0.7777777777777778,
              "#fb9f3a"
             ],
             [
              0.8888888888888888,
              "#fdca26"
             ],
             [
              1,
              "#f0f921"
             ]
            ],
            "type": "heatmapgl"
           }
          ],
          "histogram": [
           {
            "marker": {
             "colorbar": {
              "outlinewidth": 0,
              "ticks": ""
             }
            },
            "type": "histogram"
           }
          ],
          "histogram2d": [
           {
            "colorbar": {
             "outlinewidth": 0,
             "ticks": ""
            },
            "colorscale": [
             [
              0,
              "#0d0887"
             ],
             [
              0.1111111111111111,
              "#46039f"
             ],
             [
              0.2222222222222222,
              "#7201a8"
             ],
             [
              0.3333333333333333,
              "#9c179e"
             ],
             [
              0.4444444444444444,
              "#bd3786"
             ],
             [
              0.5555555555555556,
              "#d8576b"
             ],
             [
              0.6666666666666666,
              "#ed7953"
             ],
             [
              0.7777777777777778,
              "#fb9f3a"
             ],
             [
              0.8888888888888888,
              "#fdca26"
             ],
             [
              1,
              "#f0f921"
             ]
            ],
            "type": "histogram2d"
           }
          ],
          "histogram2dcontour": [
           {
            "colorbar": {
             "outlinewidth": 0,
             "ticks": ""
            },
            "colorscale": [
             [
              0,
              "#0d0887"
             ],
             [
              0.1111111111111111,
              "#46039f"
             ],
             [
              0.2222222222222222,
              "#7201a8"
             ],
             [
              0.3333333333333333,
              "#9c179e"
             ],
             [
              0.4444444444444444,
              "#bd3786"
             ],
             [
              0.5555555555555556,
              "#d8576b"
             ],
             [
              0.6666666666666666,
              "#ed7953"
             ],
             [
              0.7777777777777778,
              "#fb9f3a"
             ],
             [
              0.8888888888888888,
              "#fdca26"
             ],
             [
              1,
              "#f0f921"
             ]
            ],
            "type": "histogram2dcontour"
           }
          ],
          "mesh3d": [
           {
            "colorbar": {
             "outlinewidth": 0,
             "ticks": ""
            },
            "type": "mesh3d"
           }
          ],
          "parcoords": [
           {
            "line": {
             "colorbar": {
              "outlinewidth": 0,
              "ticks": ""
             }
            },
            "type": "parcoords"
           }
          ],
          "pie": [
           {
            "automargin": true,
            "type": "pie"
           }
          ],
          "scatter": [
           {
            "marker": {
             "colorbar": {
              "outlinewidth": 0,
              "ticks": ""
             }
            },
            "type": "scatter"
           }
          ],
          "scatter3d": [
           {
            "line": {
             "colorbar": {
              "outlinewidth": 0,
              "ticks": ""
             }
            },
            "marker": {
             "colorbar": {
              "outlinewidth": 0,
              "ticks": ""
             }
            },
            "type": "scatter3d"
           }
          ],
          "scattercarpet": [
           {
            "marker": {
             "colorbar": {
              "outlinewidth": 0,
              "ticks": ""
             }
            },
            "type": "scattercarpet"
           }
          ],
          "scattergeo": [
           {
            "marker": {
             "colorbar": {
              "outlinewidth": 0,
              "ticks": ""
             }
            },
            "type": "scattergeo"
           }
          ],
          "scattergl": [
           {
            "marker": {
             "colorbar": {
              "outlinewidth": 0,
              "ticks": ""
             }
            },
            "type": "scattergl"
           }
          ],
          "scattermapbox": [
           {
            "marker": {
             "colorbar": {
              "outlinewidth": 0,
              "ticks": ""
             }
            },
            "type": "scattermapbox"
           }
          ],
          "scatterpolar": [
           {
            "marker": {
             "colorbar": {
              "outlinewidth": 0,
              "ticks": ""
             }
            },
            "type": "scatterpolar"
           }
          ],
          "scatterpolargl": [
           {
            "marker": {
             "colorbar": {
              "outlinewidth": 0,
              "ticks": ""
             }
            },
            "type": "scatterpolargl"
           }
          ],
          "scatterternary": [
           {
            "marker": {
             "colorbar": {
              "outlinewidth": 0,
              "ticks": ""
             }
            },
            "type": "scatterternary"
           }
          ],
          "surface": [
           {
            "colorbar": {
             "outlinewidth": 0,
             "ticks": ""
            },
            "colorscale": [
             [
              0,
              "#0d0887"
             ],
             [
              0.1111111111111111,
              "#46039f"
             ],
             [
              0.2222222222222222,
              "#7201a8"
             ],
             [
              0.3333333333333333,
              "#9c179e"
             ],
             [
              0.4444444444444444,
              "#bd3786"
             ],
             [
              0.5555555555555556,
              "#d8576b"
             ],
             [
              0.6666666666666666,
              "#ed7953"
             ],
             [
              0.7777777777777778,
              "#fb9f3a"
             ],
             [
              0.8888888888888888,
              "#fdca26"
             ],
             [
              1,
              "#f0f921"
             ]
            ],
            "type": "surface"
           }
          ],
          "table": [
           {
            "cells": {
             "fill": {
              "color": "#EBF0F8"
             },
             "line": {
              "color": "white"
             }
            },
            "header": {
             "fill": {
              "color": "#C8D4E3"
             },
             "line": {
              "color": "white"
             }
            },
            "type": "table"
           }
          ]
         },
         "layout": {
          "annotationdefaults": {
           "arrowcolor": "#2a3f5f",
           "arrowhead": 0,
           "arrowwidth": 1
          },
          "coloraxis": {
           "colorbar": {
            "outlinewidth": 0,
            "ticks": ""
           }
          },
          "colorscale": {
           "diverging": [
            [
             0,
             "#8e0152"
            ],
            [
             0.1,
             "#c51b7d"
            ],
            [
             0.2,
             "#de77ae"
            ],
            [
             0.3,
             "#f1b6da"
            ],
            [
             0.4,
             "#fde0ef"
            ],
            [
             0.5,
             "#f7f7f7"
            ],
            [
             0.6,
             "#e6f5d0"
            ],
            [
             0.7,
             "#b8e186"
            ],
            [
             0.8,
             "#7fbc41"
            ],
            [
             0.9,
             "#4d9221"
            ],
            [
             1,
             "#276419"
            ]
           ],
           "sequential": [
            [
             0,
             "#0d0887"
            ],
            [
             0.1111111111111111,
             "#46039f"
            ],
            [
             0.2222222222222222,
             "#7201a8"
            ],
            [
             0.3333333333333333,
             "#9c179e"
            ],
            [
             0.4444444444444444,
             "#bd3786"
            ],
            [
             0.5555555555555556,
             "#d8576b"
            ],
            [
             0.6666666666666666,
             "#ed7953"
            ],
            [
             0.7777777777777778,
             "#fb9f3a"
            ],
            [
             0.8888888888888888,
             "#fdca26"
            ],
            [
             1,
             "#f0f921"
            ]
           ],
           "sequentialminus": [
            [
             0,
             "#0d0887"
            ],
            [
             0.1111111111111111,
             "#46039f"
            ],
            [
             0.2222222222222222,
             "#7201a8"
            ],
            [
             0.3333333333333333,
             "#9c179e"
            ],
            [
             0.4444444444444444,
             "#bd3786"
            ],
            [
             0.5555555555555556,
             "#d8576b"
            ],
            [
             0.6666666666666666,
             "#ed7953"
            ],
            [
             0.7777777777777778,
             "#fb9f3a"
            ],
            [
             0.8888888888888888,
             "#fdca26"
            ],
            [
             1,
             "#f0f921"
            ]
           ]
          },
          "colorway": [
           "#636efa",
           "#EF553B",
           "#00cc96",
           "#ab63fa",
           "#FFA15A",
           "#19d3f3",
           "#FF6692",
           "#B6E880",
           "#FF97FF",
           "#FECB52"
          ],
          "font": {
           "color": "#2a3f5f"
          },
          "geo": {
           "bgcolor": "white",
           "lakecolor": "white",
           "landcolor": "white",
           "showlakes": true,
           "showland": true,
           "subunitcolor": "#C8D4E3"
          },
          "hoverlabel": {
           "align": "left"
          },
          "hovermode": "closest",
          "mapbox": {
           "style": "light"
          },
          "paper_bgcolor": "white",
          "plot_bgcolor": "white",
          "polar": {
           "angularaxis": {
            "gridcolor": "#EBF0F8",
            "linecolor": "#EBF0F8",
            "ticks": ""
           },
           "bgcolor": "white",
           "radialaxis": {
            "gridcolor": "#EBF0F8",
            "linecolor": "#EBF0F8",
            "ticks": ""
           }
          },
          "scene": {
           "xaxis": {
            "backgroundcolor": "white",
            "gridcolor": "#DFE8F3",
            "gridwidth": 2,
            "linecolor": "#EBF0F8",
            "showbackground": true,
            "ticks": "",
            "zerolinecolor": "#EBF0F8"
           },
           "yaxis": {
            "backgroundcolor": "white",
            "gridcolor": "#DFE8F3",
            "gridwidth": 2,
            "linecolor": "#EBF0F8",
            "showbackground": true,
            "ticks": "",
            "zerolinecolor": "#EBF0F8"
           },
           "zaxis": {
            "backgroundcolor": "white",
            "gridcolor": "#DFE8F3",
            "gridwidth": 2,
            "linecolor": "#EBF0F8",
            "showbackground": true,
            "ticks": "",
            "zerolinecolor": "#EBF0F8"
           }
          },
          "shapedefaults": {
           "line": {
            "color": "#2a3f5f"
           }
          },
          "ternary": {
           "aaxis": {
            "gridcolor": "#DFE8F3",
            "linecolor": "#A2B1C6",
            "ticks": ""
           },
           "baxis": {
            "gridcolor": "#DFE8F3",
            "linecolor": "#A2B1C6",
            "ticks": ""
           },
           "bgcolor": "white",
           "caxis": {
            "gridcolor": "#DFE8F3",
            "linecolor": "#A2B1C6",
            "ticks": ""
           }
          },
          "title": {
           "x": 0.05
          },
          "xaxis": {
           "automargin": true,
           "gridcolor": "#EBF0F8",
           "linecolor": "#EBF0F8",
           "ticks": "",
           "title": {
            "standoff": 15
           },
           "zerolinecolor": "#EBF0F8",
           "zerolinewidth": 2
          },
          "yaxis": {
           "automargin": true,
           "gridcolor": "#EBF0F8",
           "linecolor": "#EBF0F8",
           "ticks": "",
           "title": {
            "standoff": 15
           },
           "zerolinecolor": "#EBF0F8",
           "zerolinewidth": 2
          }
         }
        },
        "updatemenus": [
         {
          "buttons": [
           {
            "args": [
             {
              "yaxis.type": "linear"
             }
            ],
            "label": "Linear y-scale",
            "method": "relayout"
           },
           {
            "args": [
             {
              "yaxis.type": "log"
             }
            ],
            "label": "Log y-scale",
            "method": "relayout"
           }
          ],
          "direction": "left",
          "pad": {
           "r": 0,
           "t": -10
          },
          "showactive": true,
          "type": "buttons",
          "x": 0,
          "xanchor": "left",
          "y": 1.15,
          "yanchor": "top"
         }
        ],
        "yaxis": {
         "title": {
          "text": "Elimination rate in 1/day"
         }
        }
       }
      }
     },
     "metadata": {}
    },
    {
     "output_type": "display_data",
     "data": {
      "application/vnd.plotly.v1+json": {
       "config": {
        "plotlyServerURL": "https://plot.ly"
       },
       "data": [
        {
         "boxpoints": "all",
         "hovertemplate": "Estimate: %{y:.2f}<br>%{text}",
         "jitter": 0.2,
         "line": {
          "color": "#636EFA"
         },
         "marker": {
          "color": "#636EFA",
          "line": {
           "color": "black",
           "width": 1
          },
          "opacity": 0.7,
          "symbol": "circle"
         },
         "name": "ID: 34",
         "pointpos": -1.5,
         "text": [
          "Run: 1 <br>Log-posterior score: 18.44",
          "Run: 2 <br>Log-posterior score: 19.12",
          "Run: 3 <br>Log-posterior score: 18.65",
          "Run: 4 <br>Log-posterior score: 17.26",
          "Run: 5 <br>Log-posterior score: 19.26",
          "Run: 6 <br>Log-posterior score: 18.83",
          "Run: 7 <br>Log-posterior score: 18.64",
          "Run: 8 <br>Log-posterior score: 15.21",
          "Run: 9 <br>Log-posterior score: 19.35",
          "Run: 10 <br>Log-posterior score: 19.43"
         ],
         "type": "box",
         "visible": true,
         "y": [
          2.6062499463817065e-13,
          3.492294034989132e-13,
          3.7193794784527726e-13,
          4.1014221046612865e-13,
          4.874588106734509e-13,
          5.354835010191266e-13,
          1.3151199557743963e-13,
          2.5573495196730624e-11,
          4.590431150419986e-13,
          2.2504999064994507e-13
         ]
        },
        {
         "boxpoints": "all",
         "hovertemplate": "Estimate: %{y:.2f}<br>%{text}",
         "jitter": 0.2,
         "line": {
          "color": "#EF553B"
         },
         "marker": {
          "color": "#EF553B",
          "line": {
           "color": "black",
           "width": 1
          },
          "opacity": 0.7,
          "symbol": "circle"
         },
         "name": "ID: 52",
         "pointpos": -1.5,
         "text": [
          "Run: 1 <br>Log-posterior score: 8.85",
          "Run: 2 <br>Log-posterior score: 16.80",
          "Run: 3 <br>Log-posterior score: 26.16",
          "Run: 4 <br>Log-posterior score: 16.43",
          "Run: 5 <br>Log-posterior score: 12.45",
          "Run: 6 <br>Log-posterior score: 25.30",
          "Run: 7 <br>Log-posterior score: 23.77",
          "Run: 8 <br>Log-posterior score: 26.69",
          "Run: 9 <br>Log-posterior score: 16.19",
          "Run: 10 <br>Log-posterior score: 23.52"
         ],
         "type": "box",
         "visible": true,
         "y": [
          6.122444519424151e-11,
          8.744686051250978e-13,
          2.1630395801152735e-17,
          1.214297655556253e-15,
          2.535742257847463e-12,
          3.4031608335666773e-16,
          1.893691606695151e-16,
          3.302313851872744e-16,
          8.517968073042946e-14,
          5.173631569151645e-16
         ]
        },
        {
         "boxpoints": "all",
         "hovertemplate": "Estimate: %{y:.2f}<br>%{text}",
         "jitter": 0.2,
         "line": {
          "color": "#00CC96"
         },
         "marker": {
          "color": "#00CC96",
          "line": {
           "color": "black",
           "width": 1
          },
          "opacity": 0.7,
          "symbol": "circle"
         },
         "name": "ID: 91",
         "pointpos": -1.5,
         "text": [
          "Run: 1 <br>Log-posterior score: -11.01",
          "Run: 2 <br>Log-posterior score: -11.01",
          "Run: 3 <br>Log-posterior score: -11.01",
          "Run: 4 <br>Log-posterior score: -11.01",
          "Run: 5 <br>Log-posterior score: -11.01",
          "Run: 6 <br>Log-posterior score: -11.01",
          "Run: 7 <br>Log-posterior score: -11.01",
          "Run: 8 <br>Log-posterior score: -11.01",
          "Run: 9 <br>Log-posterior score: -11.01",
          "Run: 10 <br>Log-posterior score: -11.01"
         ],
         "type": "box",
         "visible": true,
         "y": [
          0.06057337863357577,
          0.10600968438697604,
          0.13411170414707932,
          0.10601031607176245,
          0.10601189018125157,
          0.11660829203802377,
          0.1060114952449248,
          0.1060116476642122,
          0.10601191822221041,
          0.10601245354429809
         ]
        },
        {
         "boxpoints": "all",
         "hovertemplate": "Estimate: %{y:.2f}<br>%{text}",
         "jitter": 0.2,
         "line": {
          "color": "#AB63FA"
         },
         "marker": {
          "color": "#AB63FA",
          "line": {
           "color": "black",
           "width": 1
          },
          "opacity": 0.7,
          "symbol": "circle"
         },
         "name": "ID: 108",
         "pointpos": -1.5,
         "text": [
          "Run: 1 <br>Log-posterior score: -10.86",
          "Run: 2 <br>Log-posterior score: -10.86",
          "Run: 3 <br>Log-posterior score: 28.44",
          "Run: 4 <br>Log-posterior score: -10.86",
          "Run: 5 <br>Log-posterior score: -10.86",
          "Run: 6 <br>Log-posterior score: -10.86",
          "Run: 7 <br>Log-posterior score: -10.86",
          "Run: 8 <br>Log-posterior score: -10.86",
          "Run: 9 <br>Log-posterior score: -10.86",
          "Run: 10 <br>Log-posterior score: -10.86"
         ],
         "type": "box",
         "visible": true,
         "y": [
          0.32695062087965,
          0.32693986270977893,
          6.71200595103727e-12,
          0.3269442678131232,
          0.32695274470077323,
          0.3269518404164993,
          0.32693469501532463,
          0.3269486993505394,
          0.32694506310319676,
          0.3269427120328318
         ]
        },
        {
         "boxpoints": "all",
         "hovertemplate": "Estimate: %{y:.2f}<br>%{text}",
         "jitter": 0.2,
         "line": {
          "color": "#FFA15A"
         },
         "marker": {
          "color": "#FFA15A",
          "line": {
           "color": "black",
           "width": 1
          },
          "opacity": 0.7,
          "symbol": "circle"
         },
         "name": "ID: 122",
         "pointpos": -1.5,
         "text": [
          "Run: 1 <br>Log-posterior score: -7.53",
          "Run: 2 <br>Log-posterior score: -7.53",
          "Run: 3 <br>Log-posterior score: -7.53",
          "Run: 4 <br>Log-posterior score: -7.53",
          "Run: 5 <br>Log-posterior score: -7.53",
          "Run: 6 <br>Log-posterior score: 25.80",
          "Run: 7 <br>Log-posterior score: -7.53",
          "Run: 8 <br>Log-posterior score: -7.53",
          "Run: 9 <br>Log-posterior score: -7.53",
          "Run: 10 <br>Log-posterior score: -7.53"
         ],
         "type": "box",
         "visible": true,
         "y": [
          0.21583937816631102,
          0.21568539827338135,
          0.21568542366022686,
          0.21583933830307903,
          0.21575267051295283,
          7.770393119220194e-11,
          0.21568813177880136,
          0.21568541821122109,
          0.21568541218541332,
          0.21784639745005616
         ]
        },
        {
         "boxpoints": "all",
         "hovertemplate": "Estimate: %{y:.2f}<br>%{text}",
         "jitter": 0.2,
         "line": {
          "color": "#19D3F3"
         },
         "marker": {
          "color": "#19D3F3",
          "line": {
           "color": "black",
           "width": 1
          },
          "opacity": 0.7,
          "symbol": "circle"
         },
         "name": "ID: 129",
         "pointpos": -1.5,
         "text": [
          "Run: 1 <br>Log-posterior score: -9.69",
          "Run: 2 <br>Log-posterior score: 28.56",
          "Run: 3 <br>Log-posterior score: -9.69",
          "Run: 4 <br>Log-posterior score: -9.69",
          "Run: 5 <br>Log-posterior score: -9.69",
          "Run: 6 <br>Log-posterior score: -9.69",
          "Run: 7 <br>Log-posterior score: -9.69",
          "Run: 8 <br>Log-posterior score: -9.69",
          "Run: 9 <br>Log-posterior score: -9.69",
          "Run: 10 <br>Log-posterior score: -9.69"
         ],
         "type": "box",
         "visible": true,
         "y": [
          0.1564237950667599,
          8.27050533681327e-12,
          0.15642268473226595,
          0.15642237583707547,
          0.156423636359162,
          0.15642453092672054,
          0.15642342724322822,
          0.15642364588796268,
          0.15642319351300582,
          0.156422941679059
         ]
        },
        {
         "boxpoints": "all",
         "hovertemplate": "Estimate: %{y:.2f}<br>%{text}",
         "jitter": 0.2,
         "line": {
          "color": "#FF6692"
         },
         "marker": {
          "color": "#FF6692",
          "line": {
           "color": "black",
           "width": 1
          },
          "opacity": 0.7,
          "symbol": "circle"
         },
         "name": "ID: 163",
         "pointpos": -1.5,
         "text": [
          "Run: 1 <br>Log-posterior score: 49.61",
          "Run: 2 <br>Log-posterior score: 47.02",
          "Run: 3 <br>Log-posterior score: 48.45",
          "Run: 4 <br>Log-posterior score: 46.98",
          "Run: 5 <br>Log-posterior score: 47.67",
          "Run: 6 <br>Log-posterior score: 47.52",
          "Run: 7 <br>Log-posterior score: 49.23",
          "Run: 8 <br>Log-posterior score: 47.69",
          "Run: 9 <br>Log-posterior score: 50.48",
          "Run: 10 <br>Log-posterior score: 48.05"
         ],
         "type": "box",
         "visible": true,
         "y": [
          6.587178802285374e-14,
          3.990576528878229e-13,
          5.0914080612421364e-14,
          3.747400090147479e-13,
          1.4017398558632235e-13,
          3.5619564271659923e-13,
          1.0109758680004253e-13,
          1.11830140463751e-13,
          2.0303181941938595e-14,
          1.679341932628256e-13
         ]
        },
        {
         "boxpoints": "all",
         "hovertemplate": "Estimate: %{y:.2f}<br>%{text}",
         "jitter": 0.2,
         "line": {
          "color": "#B6E880"
         },
         "marker": {
          "color": "#B6E880",
          "line": {
           "color": "black",
           "width": 1
          },
          "opacity": 0.7,
          "symbol": "circle"
         },
         "name": "ID: 167",
         "pointpos": -1.5,
         "text": [
          "Run: 1 <br>Log-posterior score: 20.84",
          "Run: 2 <br>Log-posterior score: 20.42",
          "Run: 3 <br>Log-posterior score: 18.88",
          "Run: 4 <br>Log-posterior score: 20.12",
          "Run: 5 <br>Log-posterior score: 20.75",
          "Run: 6 <br>Log-posterior score: 18.04",
          "Run: 7 <br>Log-posterior score: -0.71",
          "Run: 8 <br>Log-posterior score: 19.45",
          "Run: 9 <br>Log-posterior score: 20.75",
          "Run: 10 <br>Log-posterior score: 19.00"
         ],
         "type": "box",
         "visible": true,
         "y": [
          3.190009239119094e-14,
          1.761109288514965e-13,
          6.719403665270156e-13,
          7.365976932075718e-15,
          8.472472406667142e-14,
          8.739025266948571e-13,
          7.188613191312526e-7,
          1.0341155949653764e-13,
          4.2840653618589254e-14,
          2.213391001022062e-14
         ]
        }
       ],
       "layout": {
        "autosize": true,
        "template": {
         "data": {
          "bar": [
           {
            "error_x": {
             "color": "#2a3f5f"
            },
            "error_y": {
             "color": "#2a3f5f"
            },
            "marker": {
             "line": {
              "color": "white",
              "width": 0.5
             }
            },
            "type": "bar"
           }
          ],
          "barpolar": [
           {
            "marker": {
             "line": {
              "color": "white",
              "width": 0.5
             }
            },
            "type": "barpolar"
           }
          ],
          "carpet": [
           {
            "aaxis": {
             "endlinecolor": "#2a3f5f",
             "gridcolor": "#C8D4E3",
             "linecolor": "#C8D4E3",
             "minorgridcolor": "#C8D4E3",
             "startlinecolor": "#2a3f5f"
            },
            "baxis": {
             "endlinecolor": "#2a3f5f",
             "gridcolor": "#C8D4E3",
             "linecolor": "#C8D4E3",
             "minorgridcolor": "#C8D4E3",
             "startlinecolor": "#2a3f5f"
            },
            "type": "carpet"
           }
          ],
          "choropleth": [
           {
            "colorbar": {
             "outlinewidth": 0,
             "ticks": ""
            },
            "type": "choropleth"
           }
          ],
          "contour": [
           {
            "colorbar": {
             "outlinewidth": 0,
             "ticks": ""
            },
            "colorscale": [
             [
              0,
              "#0d0887"
             ],
             [
              0.1111111111111111,
              "#46039f"
             ],
             [
              0.2222222222222222,
              "#7201a8"
             ],
             [
              0.3333333333333333,
              "#9c179e"
             ],
             [
              0.4444444444444444,
              "#bd3786"
             ],
             [
              0.5555555555555556,
              "#d8576b"
             ],
             [
              0.6666666666666666,
              "#ed7953"
             ],
             [
              0.7777777777777778,
              "#fb9f3a"
             ],
             [
              0.8888888888888888,
              "#fdca26"
             ],
             [
              1,
              "#f0f921"
             ]
            ],
            "type": "contour"
           }
          ],
          "contourcarpet": [
           {
            "colorbar": {
             "outlinewidth": 0,
             "ticks": ""
            },
            "type": "contourcarpet"
           }
          ],
          "heatmap": [
           {
            "colorbar": {
             "outlinewidth": 0,
             "ticks": ""
            },
            "colorscale": [
             [
              0,
              "#0d0887"
             ],
             [
              0.1111111111111111,
              "#46039f"
             ],
             [
              0.2222222222222222,
              "#7201a8"
             ],
             [
              0.3333333333333333,
              "#9c179e"
             ],
             [
              0.4444444444444444,
              "#bd3786"
             ],
             [
              0.5555555555555556,
              "#d8576b"
             ],
             [
              0.6666666666666666,
              "#ed7953"
             ],
             [
              0.7777777777777778,
              "#fb9f3a"
             ],
             [
              0.8888888888888888,
              "#fdca26"
             ],
             [
              1,
              "#f0f921"
             ]
            ],
            "type": "heatmap"
           }
          ],
          "heatmapgl": [
           {
            "colorbar": {
             "outlinewidth": 0,
             "ticks": ""
            },
            "colorscale": [
             [
              0,
              "#0d0887"
             ],
             [
              0.1111111111111111,
              "#46039f"
             ],
             [
              0.2222222222222222,
              "#7201a8"
             ],
             [
              0.3333333333333333,
              "#9c179e"
             ],
             [
              0.4444444444444444,
              "#bd3786"
             ],
             [
              0.5555555555555556,
              "#d8576b"
             ],
             [
              0.6666666666666666,
              "#ed7953"
             ],
             [
              0.7777777777777778,
              "#fb9f3a"
             ],
             [
              0.8888888888888888,
              "#fdca26"
             ],
             [
              1,
              "#f0f921"
             ]
            ],
            "type": "heatmapgl"
           }
          ],
          "histogram": [
           {
            "marker": {
             "colorbar": {
              "outlinewidth": 0,
              "ticks": ""
             }
            },
            "type": "histogram"
           }
          ],
          "histogram2d": [
           {
            "colorbar": {
             "outlinewidth": 0,
             "ticks": ""
            },
            "colorscale": [
             [
              0,
              "#0d0887"
             ],
             [
              0.1111111111111111,
              "#46039f"
             ],
             [
              0.2222222222222222,
              "#7201a8"
             ],
             [
              0.3333333333333333,
              "#9c179e"
             ],
             [
              0.4444444444444444,
              "#bd3786"
             ],
             [
              0.5555555555555556,
              "#d8576b"
             ],
             [
              0.6666666666666666,
              "#ed7953"
             ],
             [
              0.7777777777777778,
              "#fb9f3a"
             ],
             [
              0.8888888888888888,
              "#fdca26"
             ],
             [
              1,
              "#f0f921"
             ]
            ],
            "type": "histogram2d"
           }
          ],
          "histogram2dcontour": [
           {
            "colorbar": {
             "outlinewidth": 0,
             "ticks": ""
            },
            "colorscale": [
             [
              0,
              "#0d0887"
             ],
             [
              0.1111111111111111,
              "#46039f"
             ],
             [
              0.2222222222222222,
              "#7201a8"
             ],
             [
              0.3333333333333333,
              "#9c179e"
             ],
             [
              0.4444444444444444,
              "#bd3786"
             ],
             [
              0.5555555555555556,
              "#d8576b"
             ],
             [
              0.6666666666666666,
              "#ed7953"
             ],
             [
              0.7777777777777778,
              "#fb9f3a"
             ],
             [
              0.8888888888888888,
              "#fdca26"
             ],
             [
              1,
              "#f0f921"
             ]
            ],
            "type": "histogram2dcontour"
           }
          ],
          "mesh3d": [
           {
            "colorbar": {
             "outlinewidth": 0,
             "ticks": ""
            },
            "type": "mesh3d"
           }
          ],
          "parcoords": [
           {
            "line": {
             "colorbar": {
              "outlinewidth": 0,
              "ticks": ""
             }
            },
            "type": "parcoords"
           }
          ],
          "pie": [
           {
            "automargin": true,
            "type": "pie"
           }
          ],
          "scatter": [
           {
            "marker": {
             "colorbar": {
              "outlinewidth": 0,
              "ticks": ""
             }
            },
            "type": "scatter"
           }
          ],
          "scatter3d": [
           {
            "line": {
             "colorbar": {
              "outlinewidth": 0,
              "ticks": ""
             }
            },
            "marker": {
             "colorbar": {
              "outlinewidth": 0,
              "ticks": ""
             }
            },
            "type": "scatter3d"
           }
          ],
          "scattercarpet": [
           {
            "marker": {
             "colorbar": {
              "outlinewidth": 0,
              "ticks": ""
             }
            },
            "type": "scattercarpet"
           }
          ],
          "scattergeo": [
           {
            "marker": {
             "colorbar": {
              "outlinewidth": 0,
              "ticks": ""
             }
            },
            "type": "scattergeo"
           }
          ],
          "scattergl": [
           {
            "marker": {
             "colorbar": {
              "outlinewidth": 0,
              "ticks": ""
             }
            },
            "type": "scattergl"
           }
          ],
          "scattermapbox": [
           {
            "marker": {
             "colorbar": {
              "outlinewidth": 0,
              "ticks": ""
             }
            },
            "type": "scattermapbox"
           }
          ],
          "scatterpolar": [
           {
            "marker": {
             "colorbar": {
              "outlinewidth": 0,
              "ticks": ""
             }
            },
            "type": "scatterpolar"
           }
          ],
          "scatterpolargl": [
           {
            "marker": {
             "colorbar": {
              "outlinewidth": 0,
              "ticks": ""
             }
            },
            "type": "scatterpolargl"
           }
          ],
          "scatterternary": [
           {
            "marker": {
             "colorbar": {
              "outlinewidth": 0,
              "ticks": ""
             }
            },
            "type": "scatterternary"
           }
          ],
          "surface": [
           {
            "colorbar": {
             "outlinewidth": 0,
             "ticks": ""
            },
            "colorscale": [
             [
              0,
              "#0d0887"
             ],
             [
              0.1111111111111111,
              "#46039f"
             ],
             [
              0.2222222222222222,
              "#7201a8"
             ],
             [
              0.3333333333333333,
              "#9c179e"
             ],
             [
              0.4444444444444444,
              "#bd3786"
             ],
             [
              0.5555555555555556,
              "#d8576b"
             ],
             [
              0.6666666666666666,
              "#ed7953"
             ],
             [
              0.7777777777777778,
              "#fb9f3a"
             ],
             [
              0.8888888888888888,
              "#fdca26"
             ],
             [
              1,
              "#f0f921"
             ]
            ],
            "type": "surface"
           }
          ],
          "table": [
           {
            "cells": {
             "fill": {
              "color": "#EBF0F8"
             },
             "line": {
              "color": "white"
             }
            },
            "header": {
             "fill": {
              "color": "#C8D4E3"
             },
             "line": {
              "color": "white"
             }
            },
            "type": "table"
           }
          ]
         },
         "layout": {
          "annotationdefaults": {
           "arrowcolor": "#2a3f5f",
           "arrowhead": 0,
           "arrowwidth": 1
          },
          "coloraxis": {
           "colorbar": {
            "outlinewidth": 0,
            "ticks": ""
           }
          },
          "colorscale": {
           "diverging": [
            [
             0,
             "#8e0152"
            ],
            [
             0.1,
             "#c51b7d"
            ],
            [
             0.2,
             "#de77ae"
            ],
            [
             0.3,
             "#f1b6da"
            ],
            [
             0.4,
             "#fde0ef"
            ],
            [
             0.5,
             "#f7f7f7"
            ],
            [
             0.6,
             "#e6f5d0"
            ],
            [
             0.7,
             "#b8e186"
            ],
            [
             0.8,
             "#7fbc41"
            ],
            [
             0.9,
             "#4d9221"
            ],
            [
             1,
             "#276419"
            ]
           ],
           "sequential": [
            [
             0,
             "#0d0887"
            ],
            [
             0.1111111111111111,
             "#46039f"
            ],
            [
             0.2222222222222222,
             "#7201a8"
            ],
            [
             0.3333333333333333,
             "#9c179e"
            ],
            [
             0.4444444444444444,
             "#bd3786"
            ],
            [
             0.5555555555555556,
             "#d8576b"
            ],
            [
             0.6666666666666666,
             "#ed7953"
            ],
            [
             0.7777777777777778,
             "#fb9f3a"
            ],
            [
             0.8888888888888888,
             "#fdca26"
            ],
            [
             1,
             "#f0f921"
            ]
           ],
           "sequentialminus": [
            [
             0,
             "#0d0887"
            ],
            [
             0.1111111111111111,
             "#46039f"
            ],
            [
             0.2222222222222222,
             "#7201a8"
            ],
            [
             0.3333333333333333,
             "#9c179e"
            ],
            [
             0.4444444444444444,
             "#bd3786"
            ],
            [
             0.5555555555555556,
             "#d8576b"
            ],
            [
             0.6666666666666666,
             "#ed7953"
            ],
            [
             0.7777777777777778,
             "#fb9f3a"
            ],
            [
             0.8888888888888888,
             "#fdca26"
            ],
            [
             1,
             "#f0f921"
            ]
           ]
          },
          "colorway": [
           "#636efa",
           "#EF553B",
           "#00cc96",
           "#ab63fa",
           "#FFA15A",
           "#19d3f3",
           "#FF6692",
           "#B6E880",
           "#FF97FF",
           "#FECB52"
          ],
          "font": {
           "color": "#2a3f5f"
          },
          "geo": {
           "bgcolor": "white",
           "lakecolor": "white",
           "landcolor": "white",
           "showlakes": true,
           "showland": true,
           "subunitcolor": "#C8D4E3"
          },
          "hoverlabel": {
           "align": "left"
          },
          "hovermode": "closest",
          "mapbox": {
           "style": "light"
          },
          "paper_bgcolor": "white",
          "plot_bgcolor": "white",
          "polar": {
           "angularaxis": {
            "gridcolor": "#EBF0F8",
            "linecolor": "#EBF0F8",
            "ticks": ""
           },
           "bgcolor": "white",
           "radialaxis": {
            "gridcolor": "#EBF0F8",
            "linecolor": "#EBF0F8",
            "ticks": ""
           }
          },
          "scene": {
           "xaxis": {
            "backgroundcolor": "white",
            "gridcolor": "#DFE8F3",
            "gridwidth": 2,
            "linecolor": "#EBF0F8",
            "showbackground": true,
            "ticks": "",
            "zerolinecolor": "#EBF0F8"
           },
           "yaxis": {
            "backgroundcolor": "white",
            "gridcolor": "#DFE8F3",
            "gridwidth": 2,
            "linecolor": "#EBF0F8",
            "showbackground": true,
            "ticks": "",
            "zerolinecolor": "#EBF0F8"
           },
           "zaxis": {
            "backgroundcolor": "white",
            "gridcolor": "#DFE8F3",
            "gridwidth": 2,
            "linecolor": "#EBF0F8",
            "showbackground": true,
            "ticks": "",
            "zerolinecolor": "#EBF0F8"
           }
          },
          "shapedefaults": {
           "line": {
            "color": "#2a3f5f"
           }
          },
          "ternary": {
           "aaxis": {
            "gridcolor": "#DFE8F3",
            "linecolor": "#A2B1C6",
            "ticks": ""
           },
           "baxis": {
            "gridcolor": "#DFE8F3",
            "linecolor": "#A2B1C6",
            "ticks": ""
           },
           "bgcolor": "white",
           "caxis": {
            "gridcolor": "#DFE8F3",
            "linecolor": "#A2B1C6",
            "ticks": ""
           }
          },
          "title": {
           "x": 0.05
          },
          "xaxis": {
           "automargin": true,
           "gridcolor": "#EBF0F8",
           "linecolor": "#EBF0F8",
           "ticks": "",
           "title": {
            "standoff": 15
           },
           "zerolinecolor": "#EBF0F8",
           "zerolinewidth": 2
          },
          "yaxis": {
           "automargin": true,
           "gridcolor": "#EBF0F8",
           "linecolor": "#EBF0F8",
           "ticks": "",
           "title": {
            "standoff": 15
           },
           "zerolinecolor": "#EBF0F8",
           "zerolinewidth": 2
          }
         }
        },
        "updatemenus": [
         {
          "buttons": [
           {
            "args": [
             {
              "yaxis.type": "linear"
             }
            ],
            "label": "Linear y-scale",
            "method": "relayout"
           },
           {
            "args": [
             {
              "yaxis.type": "log"
             }
            ],
            "label": "Log y-scale",
            "method": "relayout"
           }
          ],
          "direction": "left",
          "pad": {
           "r": 0,
           "t": -10
          },
          "showactive": true,
          "type": "buttons",
          "x": 0,
          "xanchor": "left",
          "y": 1.15,
          "yanchor": "top"
         }
        ],
        "yaxis": {
         "title": {
          "text": "Noise param 1"
         }
        }
       }
      }
     },
     "metadata": {}
    },
    {
     "output_type": "display_data",
     "data": {
      "application/vnd.plotly.v1+json": {
       "config": {
        "plotlyServerURL": "https://plot.ly"
       },
       "data": [
        {
         "boxpoints": "all",
         "hovertemplate": "Estimate: %{y:.2f}<br>%{text}",
         "jitter": 0.2,
         "line": {
          "color": "#636EFA"
         },
         "marker": {
          "color": "#636EFA",
          "line": {
           "color": "black",
           "width": 1
          },
          "opacity": 0.7,
          "symbol": "circle"
         },
         "name": "ID: 34",
         "pointpos": -1.5,
         "text": [
          "Run: 1 <br>Log-posterior score: 18.44",
          "Run: 2 <br>Log-posterior score: 19.12",
          "Run: 3 <br>Log-posterior score: 18.65",
          "Run: 4 <br>Log-posterior score: 17.26",
          "Run: 5 <br>Log-posterior score: 19.26",
          "Run: 6 <br>Log-posterior score: 18.83",
          "Run: 7 <br>Log-posterior score: 18.64",
          "Run: 8 <br>Log-posterior score: 15.21",
          "Run: 9 <br>Log-posterior score: 19.35",
          "Run: 10 <br>Log-posterior score: 19.43"
         ],
         "type": "box",
         "visible": true,
         "y": [
          1.389163373701972e-13,
          4.461840624168998e-15,
          2.513662643339954e-13,
          3.215459998665362e-13,
          4.5946913518650394e-14,
          1.178926646058233e-13,
          3.19563633818704e-13,
          4.915337282552689e-13,
          3.0175198581611574e-14,
          1.020699876919108e-13
         ]
        },
        {
         "boxpoints": "all",
         "hovertemplate": "Estimate: %{y:.2f}<br>%{text}",
         "jitter": 0.2,
         "line": {
          "color": "#EF553B"
         },
         "marker": {
          "color": "#EF553B",
          "line": {
           "color": "black",
           "width": 1
          },
          "opacity": 0.7,
          "symbol": "circle"
         },
         "name": "ID: 52",
         "pointpos": -1.5,
         "text": [
          "Run: 1 <br>Log-posterior score: 8.85",
          "Run: 2 <br>Log-posterior score: 16.80",
          "Run: 3 <br>Log-posterior score: 26.16",
          "Run: 4 <br>Log-posterior score: 16.43",
          "Run: 5 <br>Log-posterior score: 12.45",
          "Run: 6 <br>Log-posterior score: 25.30",
          "Run: 7 <br>Log-posterior score: 23.77",
          "Run: 8 <br>Log-posterior score: 26.69",
          "Run: 9 <br>Log-posterior score: 16.19",
          "Run: 10 <br>Log-posterior score: 23.52"
         ],
         "type": "box",
         "visible": true,
         "y": [
          2.6068576757549135e-8,
          5.035720484674834e-11,
          5.438733362777987e-14,
          3.129973831969709e-11,
          7.855403437660467e-9,
          5.897446566467332e-15,
          7.991303285457893e-15,
          8.140258520689895e-15,
          2.380606743952761e-10,
          9.076858293390039e-13
         ]
        },
        {
         "boxpoints": "all",
         "hovertemplate": "Estimate: %{y:.2f}<br>%{text}",
         "jitter": 0.2,
         "line": {
          "color": "#00CC96"
         },
         "marker": {
          "color": "#00CC96",
          "line": {
           "color": "black",
           "width": 1
          },
          "opacity": 0.7,
          "symbol": "circle"
         },
         "name": "ID: 91",
         "pointpos": -1.5,
         "text": [
          "Run: 1 <br>Log-posterior score: -11.01",
          "Run: 2 <br>Log-posterior score: -11.01",
          "Run: 3 <br>Log-posterior score: -11.01",
          "Run: 4 <br>Log-posterior score: -11.01",
          "Run: 5 <br>Log-posterior score: -11.01",
          "Run: 6 <br>Log-posterior score: -11.01",
          "Run: 7 <br>Log-posterior score: -11.01",
          "Run: 8 <br>Log-posterior score: -11.01",
          "Run: 9 <br>Log-posterior score: -11.01",
          "Run: 10 <br>Log-posterior score: -11.01"
         ],
         "type": "box",
         "visible": true,
         "y": [
          0.3521315675616727,
          0.3405732106008275,
          0.3265237414761357,
          0.340572826631181,
          0.34057237262758006,
          0.3357706488923624,
          0.34057257414023967,
          0.340572604595599,
          0.34057227175803967,
          0.34057225902609706
         ]
        },
        {
         "boxpoints": "all",
         "hovertemplate": "Estimate: %{y:.2f}<br>%{text}",
         "jitter": 0.2,
         "line": {
          "color": "#AB63FA"
         },
         "marker": {
          "color": "#AB63FA",
          "line": {
           "color": "black",
           "width": 1
          },
          "opacity": 0.7,
          "symbol": "circle"
         },
         "name": "ID: 108",
         "pointpos": -1.5,
         "text": [
          "Run: 1 <br>Log-posterior score: -10.86",
          "Run: 2 <br>Log-posterior score: -10.86",
          "Run: 3 <br>Log-posterior score: 28.44",
          "Run: 4 <br>Log-posterior score: -10.86",
          "Run: 5 <br>Log-posterior score: -10.86",
          "Run: 6 <br>Log-posterior score: -10.86",
          "Run: 7 <br>Log-posterior score: -10.86",
          "Run: 8 <br>Log-posterior score: -10.86",
          "Run: 9 <br>Log-posterior score: -10.86",
          "Run: 10 <br>Log-posterior score: -10.86"
         ],
         "type": "box",
         "visible": true,
         "y": [
          0.5130804354902324,
          0.5130881232596015,
          8.573213250429035e-10,
          0.5130865134300445,
          0.5130801088423846,
          0.5130790041021204,
          0.5130880145773319,
          0.5130835952387817,
          0.5130872730008251,
          0.5130834344665315
         ]
        },
        {
         "boxpoints": "all",
         "hovertemplate": "Estimate: %{y:.2f}<br>%{text}",
         "jitter": 0.2,
         "line": {
          "color": "#FFA15A"
         },
         "marker": {
          "color": "#FFA15A",
          "line": {
           "color": "black",
           "width": 1
          },
          "opacity": 0.7,
          "symbol": "circle"
         },
         "name": "ID: 122",
         "pointpos": -1.5,
         "text": [
          "Run: 1 <br>Log-posterior score: -7.53",
          "Run: 2 <br>Log-posterior score: -7.53",
          "Run: 3 <br>Log-posterior score: -7.53",
          "Run: 4 <br>Log-posterior score: -7.53",
          "Run: 5 <br>Log-posterior score: -7.53",
          "Run: 6 <br>Log-posterior score: 25.80",
          "Run: 7 <br>Log-posterior score: -7.53",
          "Run: 8 <br>Log-posterior score: -7.53",
          "Run: 9 <br>Log-posterior score: -7.53",
          "Run: 10 <br>Log-posterior score: -7.53"
         ],
         "type": "box",
         "visible": true,
         "y": [
          2.2087341211323944e-15,
          8.420704132010831e-15,
          2.433785967007502e-15,
          5.511881219941214e-15,
          9.88568425636436e-10,
          7.046145443473093e-11,
          1.7491749655681376e-10,
          4.129095536810983e-15,
          3.109516781999681e-15,
          0.000003633296852565652
         ]
        },
        {
         "boxpoints": "all",
         "hovertemplate": "Estimate: %{y:.2f}<br>%{text}",
         "jitter": 0.2,
         "line": {
          "color": "#19D3F3"
         },
         "marker": {
          "color": "#19D3F3",
          "line": {
           "color": "black",
           "width": 1
          },
          "opacity": 0.7,
          "symbol": "circle"
         },
         "name": "ID: 129",
         "pointpos": -1.5,
         "text": [
          "Run: 1 <br>Log-posterior score: -9.69",
          "Run: 2 <br>Log-posterior score: 28.56",
          "Run: 3 <br>Log-posterior score: -9.69",
          "Run: 4 <br>Log-posterior score: -9.69",
          "Run: 5 <br>Log-posterior score: -9.69",
          "Run: 6 <br>Log-posterior score: -9.69",
          "Run: 7 <br>Log-posterior score: -9.69",
          "Run: 8 <br>Log-posterior score: -9.69",
          "Run: 9 <br>Log-posterior score: -9.69",
          "Run: 10 <br>Log-posterior score: -9.69"
         ],
         "type": "box",
         "visible": true,
         "y": [
          0.26776713405890357,
          1.1854062683615025e-10,
          0.2677678498622622,
          0.26776796635365985,
          0.2677673568588908,
          0.26776684586794575,
          0.26776736344168783,
          0.26776735933968654,
          0.2677678175812612,
          0.26776770419988927
         ]
        },
        {
         "boxpoints": "all",
         "hovertemplate": "Estimate: %{y:.2f}<br>%{text}",
         "jitter": 0.2,
         "line": {
          "color": "#FF6692"
         },
         "marker": {
          "color": "#FF6692",
          "line": {
           "color": "black",
           "width": 1
          },
          "opacity": 0.7,
          "symbol": "circle"
         },
         "name": "ID: 163",
         "pointpos": -1.5,
         "text": [
          "Run: 1 <br>Log-posterior score: 49.61",
          "Run: 2 <br>Log-posterior score: 47.02",
          "Run: 3 <br>Log-posterior score: 48.45",
          "Run: 4 <br>Log-posterior score: 46.98",
          "Run: 5 <br>Log-posterior score: 47.67",
          "Run: 6 <br>Log-posterior score: 47.52",
          "Run: 7 <br>Log-posterior score: 49.23",
          "Run: 8 <br>Log-posterior score: 47.69",
          "Run: 9 <br>Log-posterior score: 50.48",
          "Run: 10 <br>Log-posterior score: 48.05"
         ],
         "type": "box",
         "visible": true,
         "y": [
          2.1571928591451477e-14,
          1.667697533794519e-15,
          7.67161030949939e-14,
          3.4460530743229995e-14,
          4.537884624076499e-14,
          2.6913556287067063e-15,
          1.9471739870406676e-14,
          1.1588345699794364e-13,
          2.0110535493819203e-14,
          4.618569510691602e-14
         ]
        },
        {
         "boxpoints": "all",
         "hovertemplate": "Estimate: %{y:.2f}<br>%{text}",
         "jitter": 0.2,
         "line": {
          "color": "#B6E880"
         },
         "marker": {
          "color": "#B6E880",
          "line": {
           "color": "black",
           "width": 1
          },
          "opacity": 0.7,
          "symbol": "circle"
         },
         "name": "ID: 167",
         "pointpos": -1.5,
         "text": [
          "Run: 1 <br>Log-posterior score: 20.84",
          "Run: 2 <br>Log-posterior score: 20.42",
          "Run: 3 <br>Log-posterior score: 18.88",
          "Run: 4 <br>Log-posterior score: 20.12",
          "Run: 5 <br>Log-posterior score: 20.75",
          "Run: 6 <br>Log-posterior score: 18.04",
          "Run: 7 <br>Log-posterior score: -0.71",
          "Run: 8 <br>Log-posterior score: 19.45",
          "Run: 9 <br>Log-posterior score: 20.75",
          "Run: 10 <br>Log-posterior score: 19.00"
         ],
         "type": "box",
         "visible": true,
         "y": [
          2.0945845353260618e-14,
          1.8282024756482116e-14,
          3.30171892687444e-14,
          4.948147430433426e-14,
          6.978938121681723e-15,
          5.405551732192693e-13,
          1.3235039240136655e-7,
          1.6214759890805777e-13,
          2.6775704908491312e-14,
          2.815119494593812e-13
         ]
        }
       ],
       "layout": {
        "autosize": true,
        "template": {
         "data": {
          "bar": [
           {
            "error_x": {
             "color": "#2a3f5f"
            },
            "error_y": {
             "color": "#2a3f5f"
            },
            "marker": {
             "line": {
              "color": "white",
              "width": 0.5
             }
            },
            "type": "bar"
           }
          ],
          "barpolar": [
           {
            "marker": {
             "line": {
              "color": "white",
              "width": 0.5
             }
            },
            "type": "barpolar"
           }
          ],
          "carpet": [
           {
            "aaxis": {
             "endlinecolor": "#2a3f5f",
             "gridcolor": "#C8D4E3",
             "linecolor": "#C8D4E3",
             "minorgridcolor": "#C8D4E3",
             "startlinecolor": "#2a3f5f"
            },
            "baxis": {
             "endlinecolor": "#2a3f5f",
             "gridcolor": "#C8D4E3",
             "linecolor": "#C8D4E3",
             "minorgridcolor": "#C8D4E3",
             "startlinecolor": "#2a3f5f"
            },
            "type": "carpet"
           }
          ],
          "choropleth": [
           {
            "colorbar": {
             "outlinewidth": 0,
             "ticks": ""
            },
            "type": "choropleth"
           }
          ],
          "contour": [
           {
            "colorbar": {
             "outlinewidth": 0,
             "ticks": ""
            },
            "colorscale": [
             [
              0,
              "#0d0887"
             ],
             [
              0.1111111111111111,
              "#46039f"
             ],
             [
              0.2222222222222222,
              "#7201a8"
             ],
             [
              0.3333333333333333,
              "#9c179e"
             ],
             [
              0.4444444444444444,
              "#bd3786"
             ],
             [
              0.5555555555555556,
              "#d8576b"
             ],
             [
              0.6666666666666666,
              "#ed7953"
             ],
             [
              0.7777777777777778,
              "#fb9f3a"
             ],
             [
              0.8888888888888888,
              "#fdca26"
             ],
             [
              1,
              "#f0f921"
             ]
            ],
            "type": "contour"
           }
          ],
          "contourcarpet": [
           {
            "colorbar": {
             "outlinewidth": 0,
             "ticks": ""
            },
            "type": "contourcarpet"
           }
          ],
          "heatmap": [
           {
            "colorbar": {
             "outlinewidth": 0,
             "ticks": ""
            },
            "colorscale": [
             [
              0,
              "#0d0887"
             ],
             [
              0.1111111111111111,
              "#46039f"
             ],
             [
              0.2222222222222222,
              "#7201a8"
             ],
             [
              0.3333333333333333,
              "#9c179e"
             ],
             [
              0.4444444444444444,
              "#bd3786"
             ],
             [
              0.5555555555555556,
              "#d8576b"
             ],
             [
              0.6666666666666666,
              "#ed7953"
             ],
             [
              0.7777777777777778,
              "#fb9f3a"
             ],
             [
              0.8888888888888888,
              "#fdca26"
             ],
             [
              1,
              "#f0f921"
             ]
            ],
            "type": "heatmap"
           }
          ],
          "heatmapgl": [
           {
            "colorbar": {
             "outlinewidth": 0,
             "ticks": ""
            },
            "colorscale": [
             [
              0,
              "#0d0887"
             ],
             [
              0.1111111111111111,
              "#46039f"
             ],
             [
              0.2222222222222222,
              "#7201a8"
             ],
             [
              0.3333333333333333,
              "#9c179e"
             ],
             [
              0.4444444444444444,
              "#bd3786"
             ],
             [
              0.5555555555555556,
              "#d8576b"
             ],
             [
              0.6666666666666666,
              "#ed7953"
             ],
             [
              0.7777777777777778,
              "#fb9f3a"
             ],
             [
              0.8888888888888888,
              "#fdca26"
             ],
             [
              1,
              "#f0f921"
             ]
            ],
            "type": "heatmapgl"
           }
          ],
          "histogram": [
           {
            "marker": {
             "colorbar": {
              "outlinewidth": 0,
              "ticks": ""
             }
            },
            "type": "histogram"
           }
          ],
          "histogram2d": [
           {
            "colorbar": {
             "outlinewidth": 0,
             "ticks": ""
            },
            "colorscale": [
             [
              0,
              "#0d0887"
             ],
             [
              0.1111111111111111,
              "#46039f"
             ],
             [
              0.2222222222222222,
              "#7201a8"
             ],
             [
              0.3333333333333333,
              "#9c179e"
             ],
             [
              0.4444444444444444,
              "#bd3786"
             ],
             [
              0.5555555555555556,
              "#d8576b"
             ],
             [
              0.6666666666666666,
              "#ed7953"
             ],
             [
              0.7777777777777778,
              "#fb9f3a"
             ],
             [
              0.8888888888888888,
              "#fdca26"
             ],
             [
              1,
              "#f0f921"
             ]
            ],
            "type": "histogram2d"
           }
          ],
          "histogram2dcontour": [
           {
            "colorbar": {
             "outlinewidth": 0,
             "ticks": ""
            },
            "colorscale": [
             [
              0,
              "#0d0887"
             ],
             [
              0.1111111111111111,
              "#46039f"
             ],
             [
              0.2222222222222222,
              "#7201a8"
             ],
             [
              0.3333333333333333,
              "#9c179e"
             ],
             [
              0.4444444444444444,
              "#bd3786"
             ],
             [
              0.5555555555555556,
              "#d8576b"
             ],
             [
              0.6666666666666666,
              "#ed7953"
             ],
             [
              0.7777777777777778,
              "#fb9f3a"
             ],
             [
              0.8888888888888888,
              "#fdca26"
             ],
             [
              1,
              "#f0f921"
             ]
            ],
            "type": "histogram2dcontour"
           }
          ],
          "mesh3d": [
           {
            "colorbar": {
             "outlinewidth": 0,
             "ticks": ""
            },
            "type": "mesh3d"
           }
          ],
          "parcoords": [
           {
            "line": {
             "colorbar": {
              "outlinewidth": 0,
              "ticks": ""
             }
            },
            "type": "parcoords"
           }
          ],
          "pie": [
           {
            "automargin": true,
            "type": "pie"
           }
          ],
          "scatter": [
           {
            "marker": {
             "colorbar": {
              "outlinewidth": 0,
              "ticks": ""
             }
            },
            "type": "scatter"
           }
          ],
          "scatter3d": [
           {
            "line": {
             "colorbar": {
              "outlinewidth": 0,
              "ticks": ""
             }
            },
            "marker": {
             "colorbar": {
              "outlinewidth": 0,
              "ticks": ""
             }
            },
            "type": "scatter3d"
           }
          ],
          "scattercarpet": [
           {
            "marker": {
             "colorbar": {
              "outlinewidth": 0,
              "ticks": ""
             }
            },
            "type": "scattercarpet"
           }
          ],
          "scattergeo": [
           {
            "marker": {
             "colorbar": {
              "outlinewidth": 0,
              "ticks": ""
             }
            },
            "type": "scattergeo"
           }
          ],
          "scattergl": [
           {
            "marker": {
             "colorbar": {
              "outlinewidth": 0,
              "ticks": ""
             }
            },
            "type": "scattergl"
           }
          ],
          "scattermapbox": [
           {
            "marker": {
             "colorbar": {
              "outlinewidth": 0,
              "ticks": ""
             }
            },
            "type": "scattermapbox"
           }
          ],
          "scatterpolar": [
           {
            "marker": {
             "colorbar": {
              "outlinewidth": 0,
              "ticks": ""
             }
            },
            "type": "scatterpolar"
           }
          ],
          "scatterpolargl": [
           {
            "marker": {
             "colorbar": {
              "outlinewidth": 0,
              "ticks": ""
             }
            },
            "type": "scatterpolargl"
           }
          ],
          "scatterternary": [
           {
            "marker": {
             "colorbar": {
              "outlinewidth": 0,
              "ticks": ""
             }
            },
            "type": "scatterternary"
           }
          ],
          "surface": [
           {
            "colorbar": {
             "outlinewidth": 0,
             "ticks": ""
            },
            "colorscale": [
             [
              0,
              "#0d0887"
             ],
             [
              0.1111111111111111,
              "#46039f"
             ],
             [
              0.2222222222222222,
              "#7201a8"
             ],
             [
              0.3333333333333333,
              "#9c179e"
             ],
             [
              0.4444444444444444,
              "#bd3786"
             ],
             [
              0.5555555555555556,
              "#d8576b"
             ],
             [
              0.6666666666666666,
              "#ed7953"
             ],
             [
              0.7777777777777778,
              "#fb9f3a"
             ],
             [
              0.8888888888888888,
              "#fdca26"
             ],
             [
              1,
              "#f0f921"
             ]
            ],
            "type": "surface"
           }
          ],
          "table": [
           {
            "cells": {
             "fill": {
              "color": "#EBF0F8"
             },
             "line": {
              "color": "white"
             }
            },
            "header": {
             "fill": {
              "color": "#C8D4E3"
             },
             "line": {
              "color": "white"
             }
            },
            "type": "table"
           }
          ]
         },
         "layout": {
          "annotationdefaults": {
           "arrowcolor": "#2a3f5f",
           "arrowhead": 0,
           "arrowwidth": 1
          },
          "coloraxis": {
           "colorbar": {
            "outlinewidth": 0,
            "ticks": ""
           }
          },
          "colorscale": {
           "diverging": [
            [
             0,
             "#8e0152"
            ],
            [
             0.1,
             "#c51b7d"
            ],
            [
             0.2,
             "#de77ae"
            ],
            [
             0.3,
             "#f1b6da"
            ],
            [
             0.4,
             "#fde0ef"
            ],
            [
             0.5,
             "#f7f7f7"
            ],
            [
             0.6,
             "#e6f5d0"
            ],
            [
             0.7,
             "#b8e186"
            ],
            [
             0.8,
             "#7fbc41"
            ],
            [
             0.9,
             "#4d9221"
            ],
            [
             1,
             "#276419"
            ]
           ],
           "sequential": [
            [
             0,
             "#0d0887"
            ],
            [
             0.1111111111111111,
             "#46039f"
            ],
            [
             0.2222222222222222,
             "#7201a8"
            ],
            [
             0.3333333333333333,
             "#9c179e"
            ],
            [
             0.4444444444444444,
             "#bd3786"
            ],
            [
             0.5555555555555556,
             "#d8576b"
            ],
            [
             0.6666666666666666,
             "#ed7953"
            ],
            [
             0.7777777777777778,
             "#fb9f3a"
            ],
            [
             0.8888888888888888,
             "#fdca26"
            ],
            [
             1,
             "#f0f921"
            ]
           ],
           "sequentialminus": [
            [
             0,
             "#0d0887"
            ],
            [
             0.1111111111111111,
             "#46039f"
            ],
            [
             0.2222222222222222,
             "#7201a8"
            ],
            [
             0.3333333333333333,
             "#9c179e"
            ],
            [
             0.4444444444444444,
             "#bd3786"
            ],
            [
             0.5555555555555556,
             "#d8576b"
            ],
            [
             0.6666666666666666,
             "#ed7953"
            ],
            [
             0.7777777777777778,
             "#fb9f3a"
            ],
            [
             0.8888888888888888,
             "#fdca26"
            ],
            [
             1,
             "#f0f921"
            ]
           ]
          },
          "colorway": [
           "#636efa",
           "#EF553B",
           "#00cc96",
           "#ab63fa",
           "#FFA15A",
           "#19d3f3",
           "#FF6692",
           "#B6E880",
           "#FF97FF",
           "#FECB52"
          ],
          "font": {
           "color": "#2a3f5f"
          },
          "geo": {
           "bgcolor": "white",
           "lakecolor": "white",
           "landcolor": "white",
           "showlakes": true,
           "showland": true,
           "subunitcolor": "#C8D4E3"
          },
          "hoverlabel": {
           "align": "left"
          },
          "hovermode": "closest",
          "mapbox": {
           "style": "light"
          },
          "paper_bgcolor": "white",
          "plot_bgcolor": "white",
          "polar": {
           "angularaxis": {
            "gridcolor": "#EBF0F8",
            "linecolor": "#EBF0F8",
            "ticks": ""
           },
           "bgcolor": "white",
           "radialaxis": {
            "gridcolor": "#EBF0F8",
            "linecolor": "#EBF0F8",
            "ticks": ""
           }
          },
          "scene": {
           "xaxis": {
            "backgroundcolor": "white",
            "gridcolor": "#DFE8F3",
            "gridwidth": 2,
            "linecolor": "#EBF0F8",
            "showbackground": true,
            "ticks": "",
            "zerolinecolor": "#EBF0F8"
           },
           "yaxis": {
            "backgroundcolor": "white",
            "gridcolor": "#DFE8F3",
            "gridwidth": 2,
            "linecolor": "#EBF0F8",
            "showbackground": true,
            "ticks": "",
            "zerolinecolor": "#EBF0F8"
           },
           "zaxis": {
            "backgroundcolor": "white",
            "gridcolor": "#DFE8F3",
            "gridwidth": 2,
            "linecolor": "#EBF0F8",
            "showbackground": true,
            "ticks": "",
            "zerolinecolor": "#EBF0F8"
           }
          },
          "shapedefaults": {
           "line": {
            "color": "#2a3f5f"
           }
          },
          "ternary": {
           "aaxis": {
            "gridcolor": "#DFE8F3",
            "linecolor": "#A2B1C6",
            "ticks": ""
           },
           "baxis": {
            "gridcolor": "#DFE8F3",
            "linecolor": "#A2B1C6",
            "ticks": ""
           },
           "bgcolor": "white",
           "caxis": {
            "gridcolor": "#DFE8F3",
            "linecolor": "#A2B1C6",
            "ticks": ""
           }
          },
          "title": {
           "x": 0.05
          },
          "xaxis": {
           "automargin": true,
           "gridcolor": "#EBF0F8",
           "linecolor": "#EBF0F8",
           "ticks": "",
           "title": {
            "standoff": 15
           },
           "zerolinecolor": "#EBF0F8",
           "zerolinewidth": 2
          },
          "yaxis": {
           "automargin": true,
           "gridcolor": "#EBF0F8",
           "linecolor": "#EBF0F8",
           "ticks": "",
           "title": {
            "standoff": 15
           },
           "zerolinecolor": "#EBF0F8",
           "zerolinewidth": 2
          }
         }
        },
        "updatemenus": [
         {
          "buttons": [
           {
            "args": [
             {
              "yaxis.type": "linear"
             }
            ],
            "label": "Linear y-scale",
            "method": "relayout"
           },
           {
            "args": [
             {
              "yaxis.type": "log"
             }
            ],
            "label": "Log y-scale",
            "method": "relayout"
           }
          ],
          "direction": "left",
          "pad": {
           "r": 0,
           "t": -10
          },
          "showactive": true,
          "type": "buttons",
          "x": 0,
          "xanchor": "left",
          "y": 1.15,
          "yanchor": "top"
         }
        ],
        "yaxis": {
         "title": {
          "text": "Noise param 3"
         }
        }
       }
      }
     },
     "metadata": {}
    }
   ],
   "source": [
    "fig = erlo.plots.ParameterEstimatePlot()\n",
    "fig.add_data(map_estimates)\n",
    "\n",
    "fig.show()"
   ]
  },
  {
   "cell_type": "code",
   "execution_count": null,
   "metadata": {},
   "outputs": [],
   "source": []
  }
 ]
}