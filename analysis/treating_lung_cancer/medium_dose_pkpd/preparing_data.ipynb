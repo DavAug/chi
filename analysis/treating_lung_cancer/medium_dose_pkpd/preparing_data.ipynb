{
 "metadata": {
  "language_info": {
   "codemirror_mode": {
    "name": "ipython",
    "version": 3
   },
   "file_extension": ".py",
   "mimetype": "text/x-python",
   "name": "python",
   "nbconvert_exporter": "python",
   "pygments_lexer": "ipython3",
   "version": "3.7.5-final"
  },
  "orig_nbformat": 2,
  "kernelspec": {
   "name": "python3",
   "display_name": "Python 3"
  }
 },
 "nbformat": 4,
 "nbformat_minor": 2,
 "cells": [
  {
   "source": [
    "# Preparing Medium Erlotinib Dose Lung Cancer Treatment Group Data"
   ],
   "cell_type": "markdown",
   "metadata": {}
  },
  {
   "source": [
    "## Import raw LXF A677 medium erlotinb dose PKPD data"
   ],
   "cell_type": "markdown",
   "metadata": {}
  },
  {
   "cell_type": "code",
   "execution_count": 99,
   "metadata": {},
   "outputs": [
    {
     "output_type": "stream",
     "name": "stdout",
     "text": [
      "Raw PK Data Set for all dosing regimens:\n"
     ]
    },
    {
     "output_type": "execute_result",
     "data": {
      "text/plain": [
       "     #ID  TIME  DOSE ADDL II  Y YTYPE CENS  CELL LINE  DOSE GROUP  DRUG  \\\n",
       "0      6   0.0     .    .  .  .     .    .          1      100.00     1   \n",
       "1      6   2.0     .    .  .  .     .    .          1      100.00     1   \n",
       "2      6   3.0  2450    .  .  .     .    .          1      100.00     1   \n",
       "3      6   4.0     .    .  .  .     .    .          1      100.00     1   \n",
       "4      6   4.0  2350    2  1  .     .    .          1      100.00     1   \n",
       "..   ...   ...   ...  ... .. ..   ...  ...        ...         ...   ...   \n",
       "467  162  21.0     .    .  .  .     .    .          1        6.25     1   \n",
       "468  162  23.0     .    .  .  .     .    .          1        6.25     1   \n",
       "469  162  25.0     .    .  .  .     .    .          1        6.25     1   \n",
       "470  162  28.0     .    .  .  .     .    .          1        6.25     1   \n",
       "471  162  30.0     .    .  .  .     .    .          1        6.25     1   \n",
       "\n",
       "     EXPERIMENT  TUMOR SIZE    BW  \n",
       "0             2     68.7500  24.2  \n",
       "1             2     75.4290  24.7  \n",
       "2             2     75.4290  24.7  \n",
       "3             2    115.3510  23.6  \n",
       "4             2    115.3510  23.6  \n",
       "..          ...         ...   ...  \n",
       "467           2    490.3980  24.2  \n",
       "468           2    425.2700  24.5  \n",
       "469           2    432.6660  24.5  \n",
       "470           2    585.0000  25.3  \n",
       "471           2    651.7665  25.9  \n",
       "\n",
       "[472 rows x 14 columns]"
      ],
      "text/html": "<div>\n<style scoped>\n    .dataframe tbody tr th:only-of-type {\n        vertical-align: middle;\n    }\n\n    .dataframe tbody tr th {\n        vertical-align: top;\n    }\n\n    .dataframe thead th {\n        text-align: right;\n    }\n</style>\n<table border=\"1\" class=\"dataframe\">\n  <thead>\n    <tr style=\"text-align: right;\">\n      <th></th>\n      <th>#ID</th>\n      <th>TIME</th>\n      <th>DOSE</th>\n      <th>ADDL</th>\n      <th>II</th>\n      <th>Y</th>\n      <th>YTYPE</th>\n      <th>CENS</th>\n      <th>CELL LINE</th>\n      <th>DOSE GROUP</th>\n      <th>DRUG</th>\n      <th>EXPERIMENT</th>\n      <th>TUMOR SIZE</th>\n      <th>BW</th>\n    </tr>\n  </thead>\n  <tbody>\n    <tr>\n      <th>0</th>\n      <td>6</td>\n      <td>0.0</td>\n      <td>.</td>\n      <td>.</td>\n      <td>.</td>\n      <td>.</td>\n      <td>.</td>\n      <td>.</td>\n      <td>1</td>\n      <td>100.00</td>\n      <td>1</td>\n      <td>2</td>\n      <td>68.7500</td>\n      <td>24.2</td>\n    </tr>\n    <tr>\n      <th>1</th>\n      <td>6</td>\n      <td>2.0</td>\n      <td>.</td>\n      <td>.</td>\n      <td>.</td>\n      <td>.</td>\n      <td>.</td>\n      <td>.</td>\n      <td>1</td>\n      <td>100.00</td>\n      <td>1</td>\n      <td>2</td>\n      <td>75.4290</td>\n      <td>24.7</td>\n    </tr>\n    <tr>\n      <th>2</th>\n      <td>6</td>\n      <td>3.0</td>\n      <td>2450</td>\n      <td>.</td>\n      <td>.</td>\n      <td>.</td>\n      <td>.</td>\n      <td>.</td>\n      <td>1</td>\n      <td>100.00</td>\n      <td>1</td>\n      <td>2</td>\n      <td>75.4290</td>\n      <td>24.7</td>\n    </tr>\n    <tr>\n      <th>3</th>\n      <td>6</td>\n      <td>4.0</td>\n      <td>.</td>\n      <td>.</td>\n      <td>.</td>\n      <td>.</td>\n      <td>.</td>\n      <td>.</td>\n      <td>1</td>\n      <td>100.00</td>\n      <td>1</td>\n      <td>2</td>\n      <td>115.3510</td>\n      <td>23.6</td>\n    </tr>\n    <tr>\n      <th>4</th>\n      <td>6</td>\n      <td>4.0</td>\n      <td>2350</td>\n      <td>2</td>\n      <td>1</td>\n      <td>.</td>\n      <td>.</td>\n      <td>.</td>\n      <td>1</td>\n      <td>100.00</td>\n      <td>1</td>\n      <td>2</td>\n      <td>115.3510</td>\n      <td>23.6</td>\n    </tr>\n    <tr>\n      <th>...</th>\n      <td>...</td>\n      <td>...</td>\n      <td>...</td>\n      <td>...</td>\n      <td>...</td>\n      <td>...</td>\n      <td>...</td>\n      <td>...</td>\n      <td>...</td>\n      <td>...</td>\n      <td>...</td>\n      <td>...</td>\n      <td>...</td>\n      <td>...</td>\n    </tr>\n    <tr>\n      <th>467</th>\n      <td>162</td>\n      <td>21.0</td>\n      <td>.</td>\n      <td>.</td>\n      <td>.</td>\n      <td>.</td>\n      <td>.</td>\n      <td>.</td>\n      <td>1</td>\n      <td>6.25</td>\n      <td>1</td>\n      <td>2</td>\n      <td>490.3980</td>\n      <td>24.2</td>\n    </tr>\n    <tr>\n      <th>468</th>\n      <td>162</td>\n      <td>23.0</td>\n      <td>.</td>\n      <td>.</td>\n      <td>.</td>\n      <td>.</td>\n      <td>.</td>\n      <td>.</td>\n      <td>1</td>\n      <td>6.25</td>\n      <td>1</td>\n      <td>2</td>\n      <td>425.2700</td>\n      <td>24.5</td>\n    </tr>\n    <tr>\n      <th>469</th>\n      <td>162</td>\n      <td>25.0</td>\n      <td>.</td>\n      <td>.</td>\n      <td>.</td>\n      <td>.</td>\n      <td>.</td>\n      <td>.</td>\n      <td>1</td>\n      <td>6.25</td>\n      <td>1</td>\n      <td>2</td>\n      <td>432.6660</td>\n      <td>24.5</td>\n    </tr>\n    <tr>\n      <th>470</th>\n      <td>162</td>\n      <td>28.0</td>\n      <td>.</td>\n      <td>.</td>\n      <td>.</td>\n      <td>.</td>\n      <td>.</td>\n      <td>.</td>\n      <td>1</td>\n      <td>6.25</td>\n      <td>1</td>\n      <td>2</td>\n      <td>585.0000</td>\n      <td>25.3</td>\n    </tr>\n    <tr>\n      <th>471</th>\n      <td>162</td>\n      <td>30.0</td>\n      <td>.</td>\n      <td>.</td>\n      <td>.</td>\n      <td>.</td>\n      <td>.</td>\n      <td>.</td>\n      <td>1</td>\n      <td>6.25</td>\n      <td>1</td>\n      <td>2</td>\n      <td>651.7665</td>\n      <td>25.9</td>\n    </tr>\n  </tbody>\n</table>\n<p>472 rows × 14 columns</p>\n</div>"
     },
     "metadata": {},
     "execution_count": 99
    }
   ],
   "source": [
    "import os\n",
    "import pandas as pd\n",
    "\n",
    "\n",
    "# Import LXF A677 PK data\n",
    "path = os.path.dirname(os.getcwd())\n",
    "data_raw = pd.read_csv(path + '/data/raw_data/PK_LXF_erlo.csv', sep=';')\n",
    "\n",
    "# Display data\n",
    "print('Raw PK Data Set for all dosing regimens:')\n",
    "data_raw"
   ]
  },
  {
   "source": [
    "## Cleaning the data\n",
    "\n",
    "The keys of interest for our analysis are\n",
    "\n",
    "- **#ID** indicating which mouse was measured,\n",
    "- **TIME** indicating the time point of each measurement,\n",
    "- **DOSE** indicating the dose amount administered at the time point,\n",
    "- **DURATION** indicating the duration of a single dose administration (bolus injection, duration=0/NaN,),\n",
    "- **PLASMA CONCENTRATION** indicating the concentration of erlotinib in the blood plasma,\n",
    "- **TUMOUR VOLUME** indicating the measured tumour volume,\n",
    "- **BODY WEIGHT** indicating the body weight of the mouse.\n",
    "\n",
    "In discussion with the authors and a comparison with their study report in [1], the relevant columns in the dataset were identified as **#ID**, **TIME**, **DOSE** (**ADDL**, **II**), **Y**, **TUMOR SIZE** and **BW**, where **Y** encodes for the **PLASMA CONCENTRATION**, **TUMOR SIZE** for the **TUMOUR VOLUME**, and **BW** for the **BODY WEIGHT**. The applied dose is encoded by **DOSE** **ADDL**, **II**, where **DOSE** is the administered dose amount at the given time point, **ADDL* the number of additionally applied doses of the same amount, and **II** the time interval separating the doses. The remaining keys are partially Monolix-specific modelling keys, and partially inferred model parameters. We thus ignore those columns.\n",
    "\n",
    "The raw datasets do not contain the units of the measured quantities. From [1] as well as Roche's study report, we may infer that\n",
    "\n",
    "- **TIME**: is measured in $\\text{day}$,\n",
    "- **DOSE**: in $\\text{ng}$,\n",
    "- **PLASMA CONCENTRATION** in $\\text{ng} / \\text{L}$,\n",
    "- **TUMOUR VOLUME**: is measured in $\\text{mm}^3$,\n",
    "- **BODY WEIGHT**: is measured in $\\text{g}$.\n",
    "\n",
    "For reasons that will become clear later, we will choose to measure the dose in $\\text{mg}$, the plasma concentration in $\\text{mg}/\\text{L}$ and the tumour volume in $\\text{cm}^3$.\n",
    "\n",
    "According to the study report, the medium dose group where administered an oral dose of erlotinib of $25\\, \\text{mg}/\\text{kg}/\\text{L}$ per dose. For now we will assume that the doses recorded in the dataset are correct."
   ],
   "cell_type": "markdown",
   "metadata": {}
  },
  {
   "source": [
    "## Filter for medium dose data"
   ],
   "cell_type": "markdown",
   "metadata": {}
  },
  {
   "cell_type": "code",
   "execution_count": 100,
   "metadata": {},
   "outputs": [
    {
     "output_type": "execute_result",
     "data": {
      "text/plain": [
       "     #ID  TIME   DOSE  ADDL   II   Y  CENS  TUMOR SIZE    BW\n",
       "109   34   0.0    NaN   NaN  NaN NaN   NaN     165.292  27.7\n",
       "110   34   2.0    NaN   NaN  NaN NaN   NaN     217.328  26.9\n",
       "111   34   3.0  675.0   NaN  NaN NaN   NaN     217.328  26.9\n",
       "112   34   4.0    NaN   NaN  NaN NaN   NaN     292.500  28.0\n",
       "113   34   4.0  700.0   2.0  1.0 NaN   NaN     292.500  28.0\n",
       "..   ...   ...    ...   ...  ...  ..   ...         ...   ...\n",
       "288  167  21.0    NaN   NaN  NaN NaN   NaN    1094.400  28.7\n",
       "289  167  23.0    NaN   NaN  NaN NaN   NaN    1284.400  28.5\n",
       "290  167  25.0    NaN   NaN  NaN NaN   NaN    1428.768  29.2\n",
       "291  167  28.0    NaN   NaN  NaN NaN   NaN    1414.485  29.6\n",
       "292  167  30.0    NaN   NaN  NaN NaN   NaN    2083.401  28.9\n",
       "\n",
       "[184 rows x 9 columns]"
      ],
      "text/html": "<div>\n<style scoped>\n    .dataframe tbody tr th:only-of-type {\n        vertical-align: middle;\n    }\n\n    .dataframe tbody tr th {\n        vertical-align: top;\n    }\n\n    .dataframe thead th {\n        text-align: right;\n    }\n</style>\n<table border=\"1\" class=\"dataframe\">\n  <thead>\n    <tr style=\"text-align: right;\">\n      <th></th>\n      <th>#ID</th>\n      <th>TIME</th>\n      <th>DOSE</th>\n      <th>ADDL</th>\n      <th>II</th>\n      <th>Y</th>\n      <th>CENS</th>\n      <th>TUMOR SIZE</th>\n      <th>BW</th>\n    </tr>\n  </thead>\n  <tbody>\n    <tr>\n      <th>109</th>\n      <td>34</td>\n      <td>0.0</td>\n      <td>NaN</td>\n      <td>NaN</td>\n      <td>NaN</td>\n      <td>NaN</td>\n      <td>NaN</td>\n      <td>165.292</td>\n      <td>27.7</td>\n    </tr>\n    <tr>\n      <th>110</th>\n      <td>34</td>\n      <td>2.0</td>\n      <td>NaN</td>\n      <td>NaN</td>\n      <td>NaN</td>\n      <td>NaN</td>\n      <td>NaN</td>\n      <td>217.328</td>\n      <td>26.9</td>\n    </tr>\n    <tr>\n      <th>111</th>\n      <td>34</td>\n      <td>3.0</td>\n      <td>675.0</td>\n      <td>NaN</td>\n      <td>NaN</td>\n      <td>NaN</td>\n      <td>NaN</td>\n      <td>217.328</td>\n      <td>26.9</td>\n    </tr>\n    <tr>\n      <th>112</th>\n      <td>34</td>\n      <td>4.0</td>\n      <td>NaN</td>\n      <td>NaN</td>\n      <td>NaN</td>\n      <td>NaN</td>\n      <td>NaN</td>\n      <td>292.500</td>\n      <td>28.0</td>\n    </tr>\n    <tr>\n      <th>113</th>\n      <td>34</td>\n      <td>4.0</td>\n      <td>700.0</td>\n      <td>2.0</td>\n      <td>1.0</td>\n      <td>NaN</td>\n      <td>NaN</td>\n      <td>292.500</td>\n      <td>28.0</td>\n    </tr>\n    <tr>\n      <th>...</th>\n      <td>...</td>\n      <td>...</td>\n      <td>...</td>\n      <td>...</td>\n      <td>...</td>\n      <td>...</td>\n      <td>...</td>\n      <td>...</td>\n      <td>...</td>\n    </tr>\n    <tr>\n      <th>288</th>\n      <td>167</td>\n      <td>21.0</td>\n      <td>NaN</td>\n      <td>NaN</td>\n      <td>NaN</td>\n      <td>NaN</td>\n      <td>NaN</td>\n      <td>1094.400</td>\n      <td>28.7</td>\n    </tr>\n    <tr>\n      <th>289</th>\n      <td>167</td>\n      <td>23.0</td>\n      <td>NaN</td>\n      <td>NaN</td>\n      <td>NaN</td>\n      <td>NaN</td>\n      <td>NaN</td>\n      <td>1284.400</td>\n      <td>28.5</td>\n    </tr>\n    <tr>\n      <th>290</th>\n      <td>167</td>\n      <td>25.0</td>\n      <td>NaN</td>\n      <td>NaN</td>\n      <td>NaN</td>\n      <td>NaN</td>\n      <td>NaN</td>\n      <td>1428.768</td>\n      <td>29.2</td>\n    </tr>\n    <tr>\n      <th>291</th>\n      <td>167</td>\n      <td>28.0</td>\n      <td>NaN</td>\n      <td>NaN</td>\n      <td>NaN</td>\n      <td>NaN</td>\n      <td>NaN</td>\n      <td>1414.485</td>\n      <td>29.6</td>\n    </tr>\n    <tr>\n      <th>292</th>\n      <td>167</td>\n      <td>30.0</td>\n      <td>NaN</td>\n      <td>NaN</td>\n      <td>NaN</td>\n      <td>NaN</td>\n      <td>NaN</td>\n      <td>2083.401</td>\n      <td>28.9</td>\n    </tr>\n  </tbody>\n</table>\n<p>184 rows × 9 columns</p>\n</div>"
     },
     "metadata": {},
     "execution_count": 100
    }
   ],
   "source": [
    "import numpy as np\n",
    "\n",
    "# Filter medium dose data\n",
    "data = data_raw.apply(pd.to_numeric, errors='coerce')\n",
    "data = data_raw[data_raw['DOSE GROUP'] == 25.0]\n",
    "\n",
    "# Forget columns that carry no relevant info\n",
    "assert len(data['CELL LINE'].unique()) == 1\n",
    "assert len(data['DOSE GROUP'].unique()) == 1\n",
    "assert len(data['EXPERIMENT'].unique()) == 1\n",
    "assert len(data['DRUG'].unique()) == 1\n",
    "assert np.array_equal(data['YTYPE'].unique(), np.array(['.', '1']))\n",
    " \n",
    "data = data[['#ID', 'TIME', 'DOSE', 'ADDL', 'II', 'Y', 'CENS', 'TUMOR SIZE', 'BW']]\n",
    "\n",
    "# Replace '.' by nans and transform to numerics again\n",
    "data.replace(to_replace='.', value=np.nan, inplace=True)\n",
    "data = data.apply(pd.to_numeric, errors='coerce')\n",
    "\n",
    "data"
   ]
  },
  {
   "source": [
    "## Save all dose events as separate rows"
   ],
   "cell_type": "markdown",
   "metadata": {}
  },
  {
   "cell_type": "code",
   "execution_count": 101,
   "metadata": {},
   "outputs": [
    {
     "output_type": "execute_result",
     "data": {
      "text/plain": [
       "     #ID  TIME   DOSE   Y  CENS  TUMOR SIZE    BW\n",
       "109   34   0.0    NaN NaN   NaN     165.292  27.7\n",
       "110   34   2.0    NaN NaN   NaN     217.328  26.9\n",
       "111   34   3.0  675.0 NaN   NaN     217.328  26.9\n",
       "112   34   4.0    NaN NaN   NaN     292.500  28.0\n",
       "113   34   4.0  700.0 NaN   NaN     292.500  28.0\n",
       "..   ...   ...    ...  ..   ...         ...   ...\n",
       "0    167   8.0  700.0 NaN   NaN         NaN   NaN\n",
       "0    167  10.0  700.0 NaN   NaN         NaN   NaN\n",
       "0    167  12.0  675.0 NaN   NaN         NaN   NaN\n",
       "0    167  13.0  675.0 NaN   NaN         NaN   NaN\n",
       "0    167  15.0  675.0 NaN   NaN         NaN   NaN\n",
       "\n",
       "[240 rows x 7 columns]"
      ],
      "text/html": "<div>\n<style scoped>\n    .dataframe tbody tr th:only-of-type {\n        vertical-align: middle;\n    }\n\n    .dataframe tbody tr th {\n        vertical-align: top;\n    }\n\n    .dataframe thead th {\n        text-align: right;\n    }\n</style>\n<table border=\"1\" class=\"dataframe\">\n  <thead>\n    <tr style=\"text-align: right;\">\n      <th></th>\n      <th>#ID</th>\n      <th>TIME</th>\n      <th>DOSE</th>\n      <th>Y</th>\n      <th>CENS</th>\n      <th>TUMOR SIZE</th>\n      <th>BW</th>\n    </tr>\n  </thead>\n  <tbody>\n    <tr>\n      <th>109</th>\n      <td>34</td>\n      <td>0.0</td>\n      <td>NaN</td>\n      <td>NaN</td>\n      <td>NaN</td>\n      <td>165.292</td>\n      <td>27.7</td>\n    </tr>\n    <tr>\n      <th>110</th>\n      <td>34</td>\n      <td>2.0</td>\n      <td>NaN</td>\n      <td>NaN</td>\n      <td>NaN</td>\n      <td>217.328</td>\n      <td>26.9</td>\n    </tr>\n    <tr>\n      <th>111</th>\n      <td>34</td>\n      <td>3.0</td>\n      <td>675.0</td>\n      <td>NaN</td>\n      <td>NaN</td>\n      <td>217.328</td>\n      <td>26.9</td>\n    </tr>\n    <tr>\n      <th>112</th>\n      <td>34</td>\n      <td>4.0</td>\n      <td>NaN</td>\n      <td>NaN</td>\n      <td>NaN</td>\n      <td>292.500</td>\n      <td>28.0</td>\n    </tr>\n    <tr>\n      <th>113</th>\n      <td>34</td>\n      <td>4.0</td>\n      <td>700.0</td>\n      <td>NaN</td>\n      <td>NaN</td>\n      <td>292.500</td>\n      <td>28.0</td>\n    </tr>\n    <tr>\n      <th>...</th>\n      <td>...</td>\n      <td>...</td>\n      <td>...</td>\n      <td>...</td>\n      <td>...</td>\n      <td>...</td>\n      <td>...</td>\n    </tr>\n    <tr>\n      <th>0</th>\n      <td>167</td>\n      <td>8.0</td>\n      <td>700.0</td>\n      <td>NaN</td>\n      <td>NaN</td>\n      <td>NaN</td>\n      <td>NaN</td>\n    </tr>\n    <tr>\n      <th>0</th>\n      <td>167</td>\n      <td>10.0</td>\n      <td>700.0</td>\n      <td>NaN</td>\n      <td>NaN</td>\n      <td>NaN</td>\n      <td>NaN</td>\n    </tr>\n    <tr>\n      <th>0</th>\n      <td>167</td>\n      <td>12.0</td>\n      <td>675.0</td>\n      <td>NaN</td>\n      <td>NaN</td>\n      <td>NaN</td>\n      <td>NaN</td>\n    </tr>\n    <tr>\n      <th>0</th>\n      <td>167</td>\n      <td>13.0</td>\n      <td>675.0</td>\n      <td>NaN</td>\n      <td>NaN</td>\n      <td>NaN</td>\n      <td>NaN</td>\n    </tr>\n    <tr>\n      <th>0</th>\n      <td>167</td>\n      <td>15.0</td>\n      <td>675.0</td>\n      <td>NaN</td>\n      <td>NaN</td>\n      <td>NaN</td>\n      <td>NaN</td>\n    </tr>\n  </tbody>\n</table>\n<p>240 rows × 7 columns</p>\n</div>"
     },
     "metadata": {},
     "execution_count": 101
    }
   ],
   "source": [
    "# Find all implicit doses\n",
    "implicit_doses = data[pd.notnull(data['ADDL'])]\n",
    "\n",
    "# Add implicit doses to data\n",
    "for _, row in implicit_doses.iterrows():\n",
    "    # Get id, time, dose amount, multiplicity, interval\n",
    "    index = row['#ID']\n",
    "    time = row['TIME']\n",
    "    dose = row['DOSE']\n",
    "    number = int(row['ADDL'])\n",
    "    interval = row['II']\n",
    "\n",
    "    # Add dose entry to data\n",
    "    for _ in range(number):\n",
    "        # Compute dose time\n",
    "        time += interval\n",
    "\n",
    "        # Create an id and a time mask\n",
    "        mask_id = data['#ID'] == index\n",
    "        mask_time = data['TIME'] == time\n",
    "\n",
    "        if data[mask_id & mask_time].empty:\n",
    "            # This means there is no row entry for the indiviudal at that time point.\n",
    "            data = data.append(pd.DataFrame({\n",
    "                '#ID': [index],\n",
    "                'TIME': [time],\n",
    "                'DOSE': [dose]}))\n",
    "        else:\n",
    "            # This means the individual was measured at that time point\n",
    "            assert data[mask_id & mask_time]['DOSE'].isnull()\n",
    "\n",
    "            data[mask_id & mask_time]['DOSE'] = dose\n",
    "\n",
    "# Remove the now unnecessary ADDL and II colum\n",
    "data = data[['#ID', 'TIME', 'DOSE', 'Y', 'CENS', 'TUMOR SIZE', 'BW']]\n",
    "\n",
    "# Let IDs be integers\n",
    "data['#ID'] = data['#ID'].astype(int)\n",
    "\n",
    "data"
   ]
  },
  {
   "source": [
    "## Remove censored data for now (can always insert it back once we support it in our inference)"
   ],
   "cell_type": "markdown",
   "metadata": {}
  },
  {
   "cell_type": "code",
   "execution_count": 102,
   "metadata": {},
   "outputs": [
    {
     "output_type": "execute_result",
     "data": {
      "text/plain": [
       "     #ID  TIME   DOSE   Y  TUMOR SIZE    BW\n",
       "109   34   0.0    NaN NaN     165.292  27.7\n",
       "110   34   2.0    NaN NaN     217.328  26.9\n",
       "111   34   3.0  675.0 NaN     217.328  26.9\n",
       "112   34   4.0    NaN NaN     292.500  28.0\n",
       "113   34   4.0  700.0 NaN     292.500  28.0\n",
       "..   ...   ...    ...  ..         ...   ...\n",
       "0    167   8.0  700.0 NaN         NaN   NaN\n",
       "0    167  10.0  700.0 NaN         NaN   NaN\n",
       "0    167  12.0  675.0 NaN         NaN   NaN\n",
       "0    167  13.0  675.0 NaN         NaN   NaN\n",
       "0    167  15.0  675.0 NaN         NaN   NaN\n",
       "\n",
       "[240 rows x 6 columns]"
      ],
      "text/html": "<div>\n<style scoped>\n    .dataframe tbody tr th:only-of-type {\n        vertical-align: middle;\n    }\n\n    .dataframe tbody tr th {\n        vertical-align: top;\n    }\n\n    .dataframe thead th {\n        text-align: right;\n    }\n</style>\n<table border=\"1\" class=\"dataframe\">\n  <thead>\n    <tr style=\"text-align: right;\">\n      <th></th>\n      <th>#ID</th>\n      <th>TIME</th>\n      <th>DOSE</th>\n      <th>Y</th>\n      <th>TUMOR SIZE</th>\n      <th>BW</th>\n    </tr>\n  </thead>\n  <tbody>\n    <tr>\n      <th>109</th>\n      <td>34</td>\n      <td>0.0</td>\n      <td>NaN</td>\n      <td>NaN</td>\n      <td>165.292</td>\n      <td>27.7</td>\n    </tr>\n    <tr>\n      <th>110</th>\n      <td>34</td>\n      <td>2.0</td>\n      <td>NaN</td>\n      <td>NaN</td>\n      <td>217.328</td>\n      <td>26.9</td>\n    </tr>\n    <tr>\n      <th>111</th>\n      <td>34</td>\n      <td>3.0</td>\n      <td>675.0</td>\n      <td>NaN</td>\n      <td>217.328</td>\n      <td>26.9</td>\n    </tr>\n    <tr>\n      <th>112</th>\n      <td>34</td>\n      <td>4.0</td>\n      <td>NaN</td>\n      <td>NaN</td>\n      <td>292.500</td>\n      <td>28.0</td>\n    </tr>\n    <tr>\n      <th>113</th>\n      <td>34</td>\n      <td>4.0</td>\n      <td>700.0</td>\n      <td>NaN</td>\n      <td>292.500</td>\n      <td>28.0</td>\n    </tr>\n    <tr>\n      <th>...</th>\n      <td>...</td>\n      <td>...</td>\n      <td>...</td>\n      <td>...</td>\n      <td>...</td>\n      <td>...</td>\n    </tr>\n    <tr>\n      <th>0</th>\n      <td>167</td>\n      <td>8.0</td>\n      <td>700.0</td>\n      <td>NaN</td>\n      <td>NaN</td>\n      <td>NaN</td>\n    </tr>\n    <tr>\n      <th>0</th>\n      <td>167</td>\n      <td>10.0</td>\n      <td>700.0</td>\n      <td>NaN</td>\n      <td>NaN</td>\n      <td>NaN</td>\n    </tr>\n    <tr>\n      <th>0</th>\n      <td>167</td>\n      <td>12.0</td>\n      <td>675.0</td>\n      <td>NaN</td>\n      <td>NaN</td>\n      <td>NaN</td>\n    </tr>\n    <tr>\n      <th>0</th>\n      <td>167</td>\n      <td>13.0</td>\n      <td>675.0</td>\n      <td>NaN</td>\n      <td>NaN</td>\n      <td>NaN</td>\n    </tr>\n    <tr>\n      <th>0</th>\n      <td>167</td>\n      <td>15.0</td>\n      <td>675.0</td>\n      <td>NaN</td>\n      <td>NaN</td>\n      <td>NaN</td>\n    </tr>\n  </tbody>\n</table>\n<p>240 rows × 6 columns</p>\n</div>"
     },
     "metadata": {},
     "execution_count": 102
    }
   ],
   "source": [
    "# Mask where CENS is NaN\n",
    "mask = data['CENS'].isnull()\n",
    "\n",
    "# Set censored concentration measurements to nan\n",
    "data[~mask]['Y'] = np.nan\n",
    "\n",
    "# Remove the now unnecessary CENS colum\n",
    "data = data[['#ID', 'TIME', 'DOSE', 'Y', 'TUMOR SIZE', 'BW']]\n",
    "\n",
    "data"
   ]
  },
  {
   "source": [
    "## Rename columns and transform units"
   ],
   "cell_type": "markdown",
   "metadata": {}
  },
  {
   "cell_type": "code",
   "execution_count": 103,
   "metadata": {},
   "outputs": [
    {
     "output_type": "execute_result",
     "data": {
      "text/plain": [
       "     #ID  TIME in day  DOSE in mg  PLASMA CONCENTRATION in mg/L  \\\n",
       "109   34          0.0         NaN                           NaN   \n",
       "110   34          2.0         NaN                           NaN   \n",
       "111   34          3.0       0.675                           NaN   \n",
       "112   34          4.0         NaN                           NaN   \n",
       "113   34          4.0       0.700                           NaN   \n",
       "..   ...          ...         ...                           ...   \n",
       "0    167          8.0       0.700                           NaN   \n",
       "0    167         10.0       0.700                           NaN   \n",
       "0    167         12.0       0.675                           NaN   \n",
       "0    167         13.0       0.675                           NaN   \n",
       "0    167         15.0       0.675                           NaN   \n",
       "\n",
       "     TUMOUR VOLUME in cm^3  BODY WEIGHT in g  \n",
       "109               0.165292              27.7  \n",
       "110               0.217328              26.9  \n",
       "111               0.217328              26.9  \n",
       "112               0.292500              28.0  \n",
       "113               0.292500              28.0  \n",
       "..                     ...               ...  \n",
       "0                      NaN               NaN  \n",
       "0                      NaN               NaN  \n",
       "0                      NaN               NaN  \n",
       "0                      NaN               NaN  \n",
       "0                      NaN               NaN  \n",
       "\n",
       "[240 rows x 6 columns]"
      ],
      "text/html": "<div>\n<style scoped>\n    .dataframe tbody tr th:only-of-type {\n        vertical-align: middle;\n    }\n\n    .dataframe tbody tr th {\n        vertical-align: top;\n    }\n\n    .dataframe thead th {\n        text-align: right;\n    }\n</style>\n<table border=\"1\" class=\"dataframe\">\n  <thead>\n    <tr style=\"text-align: right;\">\n      <th></th>\n      <th>#ID</th>\n      <th>TIME in day</th>\n      <th>DOSE in mg</th>\n      <th>PLASMA CONCENTRATION in mg/L</th>\n      <th>TUMOUR VOLUME in cm^3</th>\n      <th>BODY WEIGHT in g</th>\n    </tr>\n  </thead>\n  <tbody>\n    <tr>\n      <th>109</th>\n      <td>34</td>\n      <td>0.0</td>\n      <td>NaN</td>\n      <td>NaN</td>\n      <td>0.165292</td>\n      <td>27.7</td>\n    </tr>\n    <tr>\n      <th>110</th>\n      <td>34</td>\n      <td>2.0</td>\n      <td>NaN</td>\n      <td>NaN</td>\n      <td>0.217328</td>\n      <td>26.9</td>\n    </tr>\n    <tr>\n      <th>111</th>\n      <td>34</td>\n      <td>3.0</td>\n      <td>0.675</td>\n      <td>NaN</td>\n      <td>0.217328</td>\n      <td>26.9</td>\n    </tr>\n    <tr>\n      <th>112</th>\n      <td>34</td>\n      <td>4.0</td>\n      <td>NaN</td>\n      <td>NaN</td>\n      <td>0.292500</td>\n      <td>28.0</td>\n    </tr>\n    <tr>\n      <th>113</th>\n      <td>34</td>\n      <td>4.0</td>\n      <td>0.700</td>\n      <td>NaN</td>\n      <td>0.292500</td>\n      <td>28.0</td>\n    </tr>\n    <tr>\n      <th>...</th>\n      <td>...</td>\n      <td>...</td>\n      <td>...</td>\n      <td>...</td>\n      <td>...</td>\n      <td>...</td>\n    </tr>\n    <tr>\n      <th>0</th>\n      <td>167</td>\n      <td>8.0</td>\n      <td>0.700</td>\n      <td>NaN</td>\n      <td>NaN</td>\n      <td>NaN</td>\n    </tr>\n    <tr>\n      <th>0</th>\n      <td>167</td>\n      <td>10.0</td>\n      <td>0.700</td>\n      <td>NaN</td>\n      <td>NaN</td>\n      <td>NaN</td>\n    </tr>\n    <tr>\n      <th>0</th>\n      <td>167</td>\n      <td>12.0</td>\n      <td>0.675</td>\n      <td>NaN</td>\n      <td>NaN</td>\n      <td>NaN</td>\n    </tr>\n    <tr>\n      <th>0</th>\n      <td>167</td>\n      <td>13.0</td>\n      <td>0.675</td>\n      <td>NaN</td>\n      <td>NaN</td>\n      <td>NaN</td>\n    </tr>\n    <tr>\n      <th>0</th>\n      <td>167</td>\n      <td>15.0</td>\n      <td>0.675</td>\n      <td>NaN</td>\n      <td>NaN</td>\n      <td>NaN</td>\n    </tr>\n  </tbody>\n</table>\n<p>240 rows × 6 columns</p>\n</div>"
     },
     "metadata": {},
     "execution_count": 103
    }
   ],
   "source": [
    "# Rename TIME, DOSE, PLASMA CONCENTRATION, TUMOUR VOLUME and BODY WEIGHT with units as they are\n",
    "data = data.rename(columns={\n",
    "    'TIME': 'TIME in day',\n",
    "    'DOSE': 'DOSE in ng',\n",
    "    'Y': 'PLASMA CONCENTRATION in ng/L',\n",
    "    'TUMOR SIZE': 'TUMOUR VOLUME in mm^3',\n",
    "    'BW': 'BODY WEIGHT in g'})\n",
    "\n",
    "# Convert units\n",
    "data['DOSE in ng'] *= 1E-03\n",
    "data = data.rename(columns={'DOSE in ng': 'DOSE in mg'})\n",
    "\n",
    "data['PLASMA CONCENTRATION in ng/L'] *= 1E-03\n",
    "data = data.rename(columns={'PLASMA CONCENTRATION in ng/L': 'PLASMA CONCENTRATION in mg/L'})\n",
    "\n",
    "data['TUMOUR VOLUME in mm^3'] *= 1E-03\n",
    "data = data.rename(columns={'TUMOUR VOLUME in mm^3': 'TUMOUR VOLUME in cm^3'})\n",
    "\n",
    "data"
   ]
  },
  {
   "source": [
    "## Illustrate medium erlotinib dose group data"
   ],
   "cell_type": "markdown",
   "metadata": {}
  },
  {
   "cell_type": "code",
   "execution_count": null,
   "metadata": {},
   "outputs": [],
   "source": []
  },
  {
   "source": [
    "## Export data"
   ],
   "cell_type": "markdown",
   "metadata": {}
  },
  {
   "cell_type": "code",
   "execution_count": 105,
   "metadata": {},
   "outputs": [],
   "source": [
    "# Export cleaned LXF A677 control growth data\n",
    "path = os.path.dirname(os.getcwd())\n",
    "data.to_csv(path_or_buf=path + '/data/lxf_medium_erlotinib_dose.csv', index=False)"
   ]
  },
  {
   "cell_type": "code",
   "execution_count": null,
   "metadata": {},
   "outputs": [],
   "source": []
  }
 ]
}