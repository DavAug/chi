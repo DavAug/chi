{
 "metadata": {
  "language_info": {
   "codemirror_mode": {
    "name": "ipython",
    "version": 3
   },
   "file_extension": ".py",
   "mimetype": "text/x-python",
   "name": "python",
   "nbconvert_exporter": "python",
   "pygments_lexer": "ipython3",
   "version": "3.7.5-final"
  },
  "orig_nbformat": 2,
  "kernelspec": {
   "name": "Python 3.7.5 64-bit ('venv')",
   "display_name": "Python 3.7.5 64-bit ('venv')",
   "metadata": {
    "interpreter": {
     "hash": "be7486d58ebca8d123affd155ab816745acc1cd14190bfc1696066be45205f22"
    }
   }
  }
 },
 "nbformat": 4,
 "nbformat_minor": 2,
 "cells": [
  {
   "source": [
    "# Infer Model Parameters for Individuals in Lung Cancer Control Group"
   ],
   "cell_type": "markdown",
   "metadata": {}
  },
  {
   "source": [
    "## Show control group data"
   ],
   "cell_type": "markdown",
   "metadata": {}
  },
  {
   "cell_type": "code",
   "execution_count": 1,
   "metadata": {},
   "outputs": [
    {
     "output_type": "display_data",
     "data": {
      "application/vnd.plotly.v1+json": {
       "config": {
        "plotlyServerURL": "https://plot.ly"
       },
       "data": [
        {
         "marker": {
          "color": "#636EFA",
          "line": {
           "color": "black",
           "width": 1
          },
          "opacity": 0.7,
          "symbol": "circle"
         },
         "mode": "markers",
         "name": "ID: 40",
         "showlegend": true,
         "type": "scatter",
         "x": [
          0,
          2,
          4,
          7,
          9,
          11,
          14,
          16,
          18,
          21
         ],
         "y": [
          0.191808,
          0.249158,
          0.330672,
          0.6683669999999999,
          0.915008,
          1.119258,
          1.470432,
          1.6692479999999998,
          1.7521919999999997,
          2.276736
         ]
        },
        {
         "marker": {
          "color": "#EF553B",
          "line": {
           "color": "black",
           "width": 1
          },
          "opacity": 0.7,
          "symbol": "circle"
         },
         "mode": "markers",
         "name": "ID: 94",
         "showlegend": true,
         "type": "scatter",
         "x": [
          0,
          2,
          4,
          7,
          9,
          11,
          14,
          16,
          18,
          21,
          23,
          25,
          28,
          30
         ],
         "y": [
          0.07724750000000001,
          0.0884835,
          0.125316,
          0.165528,
          0.189486,
          0.264654,
          0.264654,
          0.306936,
          0.389207,
          0.389207,
          0.405769,
          0.4264715,
          0.5551309999999999,
          0.57624
         ]
        },
        {
         "marker": {
          "color": "#00CC96",
          "line": {
           "color": "black",
           "width": 1
          },
          "opacity": 0.7,
          "symbol": "circle"
         },
         "mode": "markers",
         "name": "ID: 95",
         "showlegend": true,
         "type": "scatter",
         "x": [
          0,
          2,
          4,
          7,
          9,
          11,
          14,
          16,
          18,
          21
         ],
         "y": [
          0.1862,
          0.24641999999999997,
          0.4293,
          0.62426,
          0.7246720000000001,
          0.7300800000000001,
          0.9196,
          1.131184,
          1.675872,
          2.346616
         ]
        },
        {
         "marker": {
          "color": "#AB63FA",
          "line": {
           "color": "black",
           "width": 1
          },
          "opacity": 0.7,
          "symbol": "circle"
         },
         "mode": "markers",
         "name": "ID: 136",
         "showlegend": true,
         "type": "scatter",
         "x": [
          0,
          2,
          4,
          7,
          9,
          11,
          14,
          16,
          18,
          21,
          23,
          25,
          28,
          30
         ],
         "y": [
          0.1185885,
          0.175071,
          0.22999200000000006,
          0.3026885,
          0.3026885,
          0.37044,
          0.5341545,
          0.651688,
          0.7212869999999999,
          0.78732,
          0.8529505000000001,
          1.104558,
          1.1328799999999999,
          1.4593425
         ]
        },
        {
         "marker": {
          "color": "#FFA15A",
          "line": {
           "color": "black",
           "width": 1
          },
          "opacity": 0.7,
          "symbol": "circle"
         },
         "mode": "markers",
         "name": "ID: 140",
         "showlegend": true,
         "type": "scatter",
         "x": [
          0,
          2,
          4,
          7,
          9,
          11,
          14,
          16,
          18,
          21,
          23,
          25,
          28,
          30
         ],
         "y": [
          0.0793305,
          0.12685200000000002,
          0.146072,
          0.261121,
          0.34574400000000005,
          0.3552,
          0.41905,
          0.48029799999999995,
          0.556668,
          0.8089919999999999,
          0.8573040000000001,
          1.097675,
          1.992144,
          2.1225820000000004
         ]
        },
        {
         "marker": {
          "color": "#19D3F3",
          "line": {
           "color": "black",
           "width": 1
          },
          "opacity": 0.7,
          "symbol": "circle"
         },
         "mode": "markers",
         "name": "ID: 155",
         "showlegend": true,
         "type": "scatter",
         "x": [
          0,
          2,
          4,
          7,
          9,
          11,
          14,
          16,
          18,
          21,
          23,
          25
         ],
         "y": [
          0.105875,
          0.167706,
          0.35632800000000003,
          0.6489600000000001,
          0.692224,
          0.7300800000000001,
          0.81648,
          1.4949540000000001,
          1.5166985,
          1.72405,
          1.637784,
          2.25108
         ]
        },
        {
         "marker": {
          "color": "#FF6692",
          "line": {
           "color": "black",
           "width": 1
          },
          "opacity": 0.7,
          "symbol": "circle"
         },
         "mode": "markers",
         "name": "ID: 169",
         "showlegend": true,
         "type": "scatter",
         "x": [
          0,
          2,
          4,
          7,
          9,
          11,
          14,
          16,
          18,
          21,
          23,
          25,
          28,
          30
         ],
         "y": [
          0.123008,
          0.128774,
          0.1764,
          0.20516650000000006,
          0.24605349999999998,
          0.2788425,
          0.333036,
          0.35644499999999996,
          0.39285,
          0.479859,
          0.5390550000000001,
          0.6354195,
          0.7146180000000001,
          0.7469865
         ]
        },
        {
         "marker": {
          "color": "#B6E880",
          "line": {
           "color": "black",
           "width": 1
          },
          "opacity": 0.7,
          "symbol": "circle"
         },
         "mode": "markers",
         "name": "ID: 170",
         "showlegend": true,
         "type": "scatter",
         "x": [
          0,
          2,
          4,
          7,
          9,
          11,
          14,
          16,
          18,
          21,
          23,
          25,
          28,
          30
         ],
         "y": [
          0.0800565,
          0.094221,
          0.10933,
          0.158994,
          0.17615699999999998,
          0.19407850000000001,
          0.2041605,
          0.246402,
          0.3050865,
          0.3683265,
          0.41817600000000005,
          0.4396155,
          0.5661554999999999,
          0.6206265000000001
         ]
        }
       ],
       "layout": {
        "autosize": true,
        "template": {
         "data": {
          "bar": [
           {
            "error_x": {
             "color": "#2a3f5f"
            },
            "error_y": {
             "color": "#2a3f5f"
            },
            "marker": {
             "line": {
              "color": "white",
              "width": 0.5
             }
            },
            "type": "bar"
           }
          ],
          "barpolar": [
           {
            "marker": {
             "line": {
              "color": "white",
              "width": 0.5
             }
            },
            "type": "barpolar"
           }
          ],
          "carpet": [
           {
            "aaxis": {
             "endlinecolor": "#2a3f5f",
             "gridcolor": "#C8D4E3",
             "linecolor": "#C8D4E3",
             "minorgridcolor": "#C8D4E3",
             "startlinecolor": "#2a3f5f"
            },
            "baxis": {
             "endlinecolor": "#2a3f5f",
             "gridcolor": "#C8D4E3",
             "linecolor": "#C8D4E3",
             "minorgridcolor": "#C8D4E3",
             "startlinecolor": "#2a3f5f"
            },
            "type": "carpet"
           }
          ],
          "choropleth": [
           {
            "colorbar": {
             "outlinewidth": 0,
             "ticks": ""
            },
            "type": "choropleth"
           }
          ],
          "contour": [
           {
            "colorbar": {
             "outlinewidth": 0,
             "ticks": ""
            },
            "colorscale": [
             [
              0,
              "#0d0887"
             ],
             [
              0.1111111111111111,
              "#46039f"
             ],
             [
              0.2222222222222222,
              "#7201a8"
             ],
             [
              0.3333333333333333,
              "#9c179e"
             ],
             [
              0.4444444444444444,
              "#bd3786"
             ],
             [
              0.5555555555555556,
              "#d8576b"
             ],
             [
              0.6666666666666666,
              "#ed7953"
             ],
             [
              0.7777777777777778,
              "#fb9f3a"
             ],
             [
              0.8888888888888888,
              "#fdca26"
             ],
             [
              1,
              "#f0f921"
             ]
            ],
            "type": "contour"
           }
          ],
          "contourcarpet": [
           {
            "colorbar": {
             "outlinewidth": 0,
             "ticks": ""
            },
            "type": "contourcarpet"
           }
          ],
          "heatmap": [
           {
            "colorbar": {
             "outlinewidth": 0,
             "ticks": ""
            },
            "colorscale": [
             [
              0,
              "#0d0887"
             ],
             [
              0.1111111111111111,
              "#46039f"
             ],
             [
              0.2222222222222222,
              "#7201a8"
             ],
             [
              0.3333333333333333,
              "#9c179e"
             ],
             [
              0.4444444444444444,
              "#bd3786"
             ],
             [
              0.5555555555555556,
              "#d8576b"
             ],
             [
              0.6666666666666666,
              "#ed7953"
             ],
             [
              0.7777777777777778,
              "#fb9f3a"
             ],
             [
              0.8888888888888888,
              "#fdca26"
             ],
             [
              1,
              "#f0f921"
             ]
            ],
            "type": "heatmap"
           }
          ],
          "heatmapgl": [
           {
            "colorbar": {
             "outlinewidth": 0,
             "ticks": ""
            },
            "colorscale": [
             [
              0,
              "#0d0887"
             ],
             [
              0.1111111111111111,
              "#46039f"
             ],
             [
              0.2222222222222222,
              "#7201a8"
             ],
             [
              0.3333333333333333,
              "#9c179e"
             ],
             [
              0.4444444444444444,
              "#bd3786"
             ],
             [
              0.5555555555555556,
              "#d8576b"
             ],
             [
              0.6666666666666666,
              "#ed7953"
             ],
             [
              0.7777777777777778,
              "#fb9f3a"
             ],
             [
              0.8888888888888888,
              "#fdca26"
             ],
             [
              1,
              "#f0f921"
             ]
            ],
            "type": "heatmapgl"
           }
          ],
          "histogram": [
           {
            "marker": {
             "colorbar": {
              "outlinewidth": 0,
              "ticks": ""
             }
            },
            "type": "histogram"
           }
          ],
          "histogram2d": [
           {
            "colorbar": {
             "outlinewidth": 0,
             "ticks": ""
            },
            "colorscale": [
             [
              0,
              "#0d0887"
             ],
             [
              0.1111111111111111,
              "#46039f"
             ],
             [
              0.2222222222222222,
              "#7201a8"
             ],
             [
              0.3333333333333333,
              "#9c179e"
             ],
             [
              0.4444444444444444,
              "#bd3786"
             ],
             [
              0.5555555555555556,
              "#d8576b"
             ],
             [
              0.6666666666666666,
              "#ed7953"
             ],
             [
              0.7777777777777778,
              "#fb9f3a"
             ],
             [
              0.8888888888888888,
              "#fdca26"
             ],
             [
              1,
              "#f0f921"
             ]
            ],
            "type": "histogram2d"
           }
          ],
          "histogram2dcontour": [
           {
            "colorbar": {
             "outlinewidth": 0,
             "ticks": ""
            },
            "colorscale": [
             [
              0,
              "#0d0887"
             ],
             [
              0.1111111111111111,
              "#46039f"
             ],
             [
              0.2222222222222222,
              "#7201a8"
             ],
             [
              0.3333333333333333,
              "#9c179e"
             ],
             [
              0.4444444444444444,
              "#bd3786"
             ],
             [
              0.5555555555555556,
              "#d8576b"
             ],
             [
              0.6666666666666666,
              "#ed7953"
             ],
             [
              0.7777777777777778,
              "#fb9f3a"
             ],
             [
              0.8888888888888888,
              "#fdca26"
             ],
             [
              1,
              "#f0f921"
             ]
            ],
            "type": "histogram2dcontour"
           }
          ],
          "mesh3d": [
           {
            "colorbar": {
             "outlinewidth": 0,
             "ticks": ""
            },
            "type": "mesh3d"
           }
          ],
          "parcoords": [
           {
            "line": {
             "colorbar": {
              "outlinewidth": 0,
              "ticks": ""
             }
            },
            "type": "parcoords"
           }
          ],
          "pie": [
           {
            "automargin": true,
            "type": "pie"
           }
          ],
          "scatter": [
           {
            "marker": {
             "colorbar": {
              "outlinewidth": 0,
              "ticks": ""
             }
            },
            "type": "scatter"
           }
          ],
          "scatter3d": [
           {
            "line": {
             "colorbar": {
              "outlinewidth": 0,
              "ticks": ""
             }
            },
            "marker": {
             "colorbar": {
              "outlinewidth": 0,
              "ticks": ""
             }
            },
            "type": "scatter3d"
           }
          ],
          "scattercarpet": [
           {
            "marker": {
             "colorbar": {
              "outlinewidth": 0,
              "ticks": ""
             }
            },
            "type": "scattercarpet"
           }
          ],
          "scattergeo": [
           {
            "marker": {
             "colorbar": {
              "outlinewidth": 0,
              "ticks": ""
             }
            },
            "type": "scattergeo"
           }
          ],
          "scattergl": [
           {
            "marker": {
             "colorbar": {
              "outlinewidth": 0,
              "ticks": ""
             }
            },
            "type": "scattergl"
           }
          ],
          "scattermapbox": [
           {
            "marker": {
             "colorbar": {
              "outlinewidth": 0,
              "ticks": ""
             }
            },
            "type": "scattermapbox"
           }
          ],
          "scatterpolar": [
           {
            "marker": {
             "colorbar": {
              "outlinewidth": 0,
              "ticks": ""
             }
            },
            "type": "scatterpolar"
           }
          ],
          "scatterpolargl": [
           {
            "marker": {
             "colorbar": {
              "outlinewidth": 0,
              "ticks": ""
             }
            },
            "type": "scatterpolargl"
           }
          ],
          "scatterternary": [
           {
            "marker": {
             "colorbar": {
              "outlinewidth": 0,
              "ticks": ""
             }
            },
            "type": "scatterternary"
           }
          ],
          "surface": [
           {
            "colorbar": {
             "outlinewidth": 0,
             "ticks": ""
            },
            "colorscale": [
             [
              0,
              "#0d0887"
             ],
             [
              0.1111111111111111,
              "#46039f"
             ],
             [
              0.2222222222222222,
              "#7201a8"
             ],
             [
              0.3333333333333333,
              "#9c179e"
             ],
             [
              0.4444444444444444,
              "#bd3786"
             ],
             [
              0.5555555555555556,
              "#d8576b"
             ],
             [
              0.6666666666666666,
              "#ed7953"
             ],
             [
              0.7777777777777778,
              "#fb9f3a"
             ],
             [
              0.8888888888888888,
              "#fdca26"
             ],
             [
              1,
              "#f0f921"
             ]
            ],
            "type": "surface"
           }
          ],
          "table": [
           {
            "cells": {
             "fill": {
              "color": "#EBF0F8"
             },
             "line": {
              "color": "white"
             }
            },
            "header": {
             "fill": {
              "color": "#C8D4E3"
             },
             "line": {
              "color": "white"
             }
            },
            "type": "table"
           }
          ]
         },
         "layout": {
          "annotationdefaults": {
           "arrowcolor": "#2a3f5f",
           "arrowhead": 0,
           "arrowwidth": 1
          },
          "coloraxis": {
           "colorbar": {
            "outlinewidth": 0,
            "ticks": ""
           }
          },
          "colorscale": {
           "diverging": [
            [
             0,
             "#8e0152"
            ],
            [
             0.1,
             "#c51b7d"
            ],
            [
             0.2,
             "#de77ae"
            ],
            [
             0.3,
             "#f1b6da"
            ],
            [
             0.4,
             "#fde0ef"
            ],
            [
             0.5,
             "#f7f7f7"
            ],
            [
             0.6,
             "#e6f5d0"
            ],
            [
             0.7,
             "#b8e186"
            ],
            [
             0.8,
             "#7fbc41"
            ],
            [
             0.9,
             "#4d9221"
            ],
            [
             1,
             "#276419"
            ]
           ],
           "sequential": [
            [
             0,
             "#0d0887"
            ],
            [
             0.1111111111111111,
             "#46039f"
            ],
            [
             0.2222222222222222,
             "#7201a8"
            ],
            [
             0.3333333333333333,
             "#9c179e"
            ],
            [
             0.4444444444444444,
             "#bd3786"
            ],
            [
             0.5555555555555556,
             "#d8576b"
            ],
            [
             0.6666666666666666,
             "#ed7953"
            ],
            [
             0.7777777777777778,
             "#fb9f3a"
            ],
            [
             0.8888888888888888,
             "#fdca26"
            ],
            [
             1,
             "#f0f921"
            ]
           ],
           "sequentialminus": [
            [
             0,
             "#0d0887"
            ],
            [
             0.1111111111111111,
             "#46039f"
            ],
            [
             0.2222222222222222,
             "#7201a8"
            ],
            [
             0.3333333333333333,
             "#9c179e"
            ],
            [
             0.4444444444444444,
             "#bd3786"
            ],
            [
             0.5555555555555556,
             "#d8576b"
            ],
            [
             0.6666666666666666,
             "#ed7953"
            ],
            [
             0.7777777777777778,
             "#fb9f3a"
            ],
            [
             0.8888888888888888,
             "#fdca26"
            ],
            [
             1,
             "#f0f921"
            ]
           ]
          },
          "colorway": [
           "#636efa",
           "#EF553B",
           "#00cc96",
           "#ab63fa",
           "#FFA15A",
           "#19d3f3",
           "#FF6692",
           "#B6E880",
           "#FF97FF",
           "#FECB52"
          ],
          "font": {
           "color": "#2a3f5f"
          },
          "geo": {
           "bgcolor": "white",
           "lakecolor": "white",
           "landcolor": "white",
           "showlakes": true,
           "showland": true,
           "subunitcolor": "#C8D4E3"
          },
          "hoverlabel": {
           "align": "left"
          },
          "hovermode": "closest",
          "mapbox": {
           "style": "light"
          },
          "paper_bgcolor": "white",
          "plot_bgcolor": "white",
          "polar": {
           "angularaxis": {
            "gridcolor": "#EBF0F8",
            "linecolor": "#EBF0F8",
            "ticks": ""
           },
           "bgcolor": "white",
           "radialaxis": {
            "gridcolor": "#EBF0F8",
            "linecolor": "#EBF0F8",
            "ticks": ""
           }
          },
          "scene": {
           "xaxis": {
            "backgroundcolor": "white",
            "gridcolor": "#DFE8F3",
            "gridwidth": 2,
            "linecolor": "#EBF0F8",
            "showbackground": true,
            "ticks": "",
            "zerolinecolor": "#EBF0F8"
           },
           "yaxis": {
            "backgroundcolor": "white",
            "gridcolor": "#DFE8F3",
            "gridwidth": 2,
            "linecolor": "#EBF0F8",
            "showbackground": true,
            "ticks": "",
            "zerolinecolor": "#EBF0F8"
           },
           "zaxis": {
            "backgroundcolor": "white",
            "gridcolor": "#DFE8F3",
            "gridwidth": 2,
            "linecolor": "#EBF0F8",
            "showbackground": true,
            "ticks": "",
            "zerolinecolor": "#EBF0F8"
           }
          },
          "shapedefaults": {
           "line": {
            "color": "#2a3f5f"
           }
          },
          "ternary": {
           "aaxis": {
            "gridcolor": "#DFE8F3",
            "linecolor": "#A2B1C6",
            "ticks": ""
           },
           "baxis": {
            "gridcolor": "#DFE8F3",
            "linecolor": "#A2B1C6",
            "ticks": ""
           },
           "bgcolor": "white",
           "caxis": {
            "gridcolor": "#DFE8F3",
            "linecolor": "#A2B1C6",
            "ticks": ""
           }
          },
          "title": {
           "x": 0.05
          },
          "xaxis": {
           "automargin": true,
           "gridcolor": "#EBF0F8",
           "linecolor": "#EBF0F8",
           "ticks": "",
           "title": {
            "standoff": 15
           },
           "zerolinecolor": "#EBF0F8",
           "zerolinewidth": 2
          },
          "yaxis": {
           "automargin": true,
           "gridcolor": "#EBF0F8",
           "linecolor": "#EBF0F8",
           "ticks": "",
           "title": {
            "standoff": 15
           },
           "zerolinecolor": "#EBF0F8",
           "zerolinewidth": 2
          }
         }
        },
        "updatemenus": [
         {
          "buttons": [
           {
            "args": [
             {
              "yaxis.type": "linear"
             }
            ],
            "label": "Linear y-scale",
            "method": "relayout"
           },
           {
            "args": [
             {
              "yaxis.type": "log"
             }
            ],
            "label": "Log y-scale",
            "method": "relayout"
           }
          ],
          "direction": "left",
          "pad": {
           "r": 0,
           "t": -10
          },
          "showactive": true,
          "type": "buttons",
          "x": 0,
          "xanchor": "left",
          "y": 1.15,
          "yanchor": "top"
         }
        ],
        "xaxis": {
         "title": {
          "text": "$\\text{Time in day}$"
         }
        },
        "yaxis": {
         "title": {
          "text": "$\\text{Tumour volume in cm}^3$"
         }
        }
       }
      }
     },
     "metadata": {}
    }
   ],
   "source": [
    "import os\n",
    "\n",
    "import pandas as pd\n",
    "\n",
    "import erlotinib as erlo\n",
    "\n",
    "\n",
    "# Get data\n",
    "data = erlo.DataLibrary().lung_cancer_control_group()\n",
    "\n",
    "# Create scatter plot\n",
    "fig = erlo.plots.PDTimeSeriesPlot()\n",
    "fig.add_data(data, id_key='#ID', time_key='TIME in day', biom_key='TUMOUR VOLUME in cm^3')\n",
    "fig.set_axis_labels(xlabel=r'$\\text{Time in day}$', ylabel=r'$\\text{Tumour volume in cm}^3$')\n",
    "\n",
    "# Show figure\n",
    "fig.show()"
   ]
  },
  {
   "source": [
    "**Figure 1:** To be completed"
   ],
   "cell_type": "markdown",
   "metadata": {}
  },
  {
   "source": [
    "## Find MAP estimates for model parameters"
   ],
   "cell_type": "markdown",
   "metadata": {}
  },
  {
   "cell_type": "code",
   "execution_count": 4,
   "metadata": {
    "tags": []
   },
   "outputs": [
    {
     "output_type": "display_data",
     "data": {
      "text/plain": "HBox(children=(FloatProgress(value=0.0, max=8.0), HTML(value='')))",
      "application/vnd.jupyter.widget-view+json": {
       "version_major": 2,
       "version_minor": 0,
       "model_id": "f4f10d94cf864b4a915c74a6f74598b6"
      }
     },
     "metadata": {}
    },
    {
     "output_type": "stream",
     "name": "stdout",
     "text": [
      "\n",
      "----------------------------------------\n",
      "Unexpected termination.\n",
      "Current best score: 19.257431621399643\n",
      "Current best position:\n",
      " 1.67849301027313732e-07\n",
      " 1.18755467302673634e+00\n",
      " 1.01343838475800672e-02\n",
      " 6.20962700738966755e-01\n",
      " 4.61301055175095698e+00\n",
      "----------------------------------------\n",
      "\n"
     ]
    }
   ],
   "source": [
    "import numpy as np\n",
    "import pints\n",
    "from tqdm.notebook import tqdm\n",
    "\n",
    "\n",
    "# Define model\n",
    "path = erlo.ModelLibrary().tumour_growth_inhibition_model_koch()\n",
    "model = erlo.PharmacodynamicModel(path)\n",
    "\n",
    "# Find maximum a posteriori probability estimates (MAP)\n",
    "result = pd.DataFrame(columns=['ID', 'Parameter', 'Estimate', 'Score', 'Run'])\n",
    "ids = data['#ID'].unique()\n",
    "for individual in tqdm(ids):\n",
    "    # Get data for individual\n",
    "    mask = data['#ID'] == individual\n",
    "    times = data[mask]['TIME in day'].to_numpy()\n",
    "    observed_volumes = data[mask]['TUMOUR VOLUME in cm^3'].to_numpy()\n",
    "\n",
    "    # Create inverse problem\n",
    "    problem = erlo.InverseProblem(model, times, observed_volumes)\n",
    "    log_likelihood = pints.ConstantAndMultiplicativeGaussianLogLikelihood(problem)\n",
    "    log_prior_tumour_volume = pints.HalfCauchyLogPrior(location=0, scale=3)\n",
    "    log_prior_drug_conc = pints.UniformLogPrior(-1E-3, 1E-3)  # Fixed to zero below\n",
    "    log_prior_kappa = pints.UniformLogPrior(-1E-3, 1E-3)  # Fixed to zero below\n",
    "    log_prior_lambda_0 = pints.HalfCauchyLogPrior(location=0, scale=3)\n",
    "    log_prior_lambda_1 = pints.HalfCauchyLogPrior(location=0, scale=3)\n",
    "    log_prior_sigma_base = pints.HalfCauchyLogPrior(location=0, scale=3)\n",
    "    log_prior_eta = pints.UniformLogPrior(1E-3, 1E3)  # Fixed to 1 below\n",
    "    log_prior_sigma_rel = pints.HalfCauchyLogPrior(location=0, scale=3)\n",
    "    log_prior = pints.ComposedLogPrior(\n",
    "        log_prior_tumour_volume, \n",
    "        log_prior_drug_conc,\n",
    "        log_prior_kappa,\n",
    "        log_prior_lambda_0,\n",
    "        log_prior_lambda_1,\n",
    "        log_prior_sigma_base,\n",
    "        log_prior_eta,\n",
    "        log_prior_sigma_rel)\n",
    "    log_posterior = pints.LogPosterior(log_likelihood, log_prior)\n",
    "\n",
    "    # Set up optmisation controller\n",
    "    optimiser = erlo.OptimisationController(log_posterior)\n",
    "    \n",
    "    # Fix potency kappa, and drug concentration to 0, as well as eta to 1\n",
    "    # (This is the control group, and thus there is no drug)\n",
    "    optimiser.fix_parameters(\n",
    "        mask=[False, True, True, False, False, False,True, False],\n",
    "        values=[0, 0, 1])\n",
    "\n",
    "    # Run optimisation\n",
    "    individual_result = optimiser.run()\n",
    "\n",
    "    # Append individual result to result\n",
    "    individual_result['ID'] = individual\n",
    "    result = result.append(individual_result)"
   ]
  },
  {
   "source": [
    "### Visualise optimisation results"
   ],
   "cell_type": "markdown",
   "metadata": {}
  },
  {
   "cell_type": "code",
   "execution_count": 5,
   "metadata": {},
   "outputs": [
    {
     "output_type": "display_data",
     "data": {
      "application/vnd.plotly.v1+json": {
       "config": {
        "plotlyServerURL": "https://plot.ly"
       },
       "data": [
        {
         "boxpoints": "all",
         "hovertemplate": "Estimate: %{estimate:.2f}<br>%{text}",
         "jitter": 0.2,
         "line": {
          "color": "#636EFA"
         },
         "marker": {
          "color": "#636EFA",
          "line": {
           "color": "black",
           "width": 1
          },
          "opacity": 0.7,
          "symbol": "circle"
         },
         "name": "ID: 40",
         "pointpos": -1.5,
         "text": [
          "Run: 1 <br>Log-posterior score: 12.77",
          "Run: 2 <br>Log-posterior score: 12.77",
          "Run: 3 <br>Log-posterior score: 12.77",
          "Run: 4 <br>Log-posterior score: 12.78",
          "Run: 5 <br>Log-posterior score: 12.77",
          "Run: 6 <br>Log-posterior score: 12.77",
          "Run: 7 <br>Log-posterior score: 12.78",
          "Run: 8 <br>Log-posterior score: 12.77",
          "Run: 9 <br>Log-posterior score: 12.77",
          "Run: 10 <br>Log-posterior score: 2.68"
         ],
         "type": "box",
         "visible": true,
         "y": [
          0.14397457749147716,
          0.14409171917782204,
          0.14409096836276863,
          0.1457556381365801,
          0.1439757533923047,
          0.14409040350400432,
          0.1457553845025091,
          0.14397532252608605,
          0.14543280944369014,
          0.0384184167433185
         ]
        },
        {
         "boxpoints": "all",
         "hovertemplate": "Estimate: %{estimate:.2f}<br>%{text}",
         "jitter": 0.2,
         "line": {
          "color": "#EF553B"
         },
         "marker": {
          "color": "#EF553B",
          "line": {
           "color": "black",
           "width": 1
          },
          "opacity": 0.7,
          "symbol": "circle"
         },
         "name": "ID: 94",
         "pointpos": -1.5,
         "text": [
          "Run: 1 <br>Log-posterior score: 33.91",
          "Run: 2 <br>Log-posterior score: 33.91",
          "Run: 3 <br>Log-posterior score: 33.91",
          "Run: 4 <br>Log-posterior score: 33.91",
          "Run: 5 <br>Log-posterior score: 33.91",
          "Run: 6 <br>Log-posterior score: 33.91",
          "Run: 7 <br>Log-posterior score: 33.91",
          "Run: 8 <br>Log-posterior score: 33.91",
          "Run: 9 <br>Log-posterior score: -3.78",
          "Run: 10 <br>Log-posterior score: 33.90"
         ],
         "type": "box",
         "visible": true,
         "y": [
          0.07325936438088532,
          0.073259350209135,
          0.07325937789529696,
          0.07325936106484683,
          0.07325936063893243,
          0.07325936839110125,
          0.07325934915605846,
          0.07325935454554229,
          0.3350546799617968,
          0.07353273467462272
         ]
        },
        {
         "boxpoints": "all",
         "hovertemplate": "Estimate: %{estimate:.2f}<br>%{text}",
         "jitter": 0.2,
         "line": {
          "color": "#00CC96"
         },
         "marker": {
          "color": "#00CC96",
          "line": {
           "color": "black",
           "width": 1
          },
          "opacity": 0.7,
          "symbol": "circle"
         },
         "name": "ID: 95",
         "pointpos": -1.5,
         "text": [
          "Run: 1 <br>Log-posterior score: 6.61",
          "Run: 2 <br>Log-posterior score: 6.61",
          "Run: 3 <br>Log-posterior score: 6.60",
          "Run: 4 <br>Log-posterior score: 6.46",
          "Run: 5 <br>Log-posterior score: 6.46",
          "Run: 6 <br>Log-posterior score: 6.46",
          "Run: 7 <br>Log-posterior score: 6.61",
          "Run: 8 <br>Log-posterior score: 6.46",
          "Run: 9 <br>Log-posterior score: 6.61",
          "Run: 10 <br>Log-posterior score: 6.61"
         ],
         "type": "box",
         "visible": true,
         "y": [
          0.19673922516941283,
          0.19673933756500503,
          0.19359673837769256,
          0.23470456025219943,
          0.23470446081598437,
          0.23470455118886674,
          0.19673939571122054,
          0.23470458072089004,
          0.19673919016516514,
          0.19673935847253157
         ]
        },
        {
         "boxpoints": "all",
         "hovertemplate": "Estimate: %{estimate:.2f}<br>%{text}",
         "jitter": 0.2,
         "line": {
          "color": "#AB63FA"
         },
         "marker": {
          "color": "#AB63FA",
          "line": {
           "color": "black",
           "width": 1
          },
          "opacity": 0.7,
          "symbol": "circle"
         },
         "name": "ID: 136",
         "pointpos": -1.5,
         "text": [
          "Run: 1 <br>Log-posterior score: 23.32",
          "Run: 2 <br>Log-posterior score: 23.32",
          "Run: 3 <br>Log-posterior score: 23.32",
          "Run: 4 <br>Log-posterior score: 23.32",
          "Run: 5 <br>Log-posterior score: 23.32",
          "Run: 6 <br>Log-posterior score: 23.32",
          "Run: 7 <br>Log-posterior score: 23.32",
          "Run: 8 <br>Log-posterior score: 23.32",
          "Run: 9 <br>Log-posterior score: 23.32",
          "Run: 10 <br>Log-posterior score: 23.32"
         ],
         "type": "box",
         "visible": true,
         "y": [
          0.133069057948721,
          0.1334600499485518,
          0.13306909295304648,
          0.13346003870370787,
          0.13346004612394335,
          0.13306906736312438,
          0.1330690801562888,
          0.13346004998163083,
          0.1330690837931619,
          0.13346004603788017
         ]
        },
        {
         "boxpoints": "all",
         "hovertemplate": "Estimate: %{estimate:.2f}<br>%{text}",
         "jitter": 0.2,
         "line": {
          "color": "#FFA15A"
         },
         "marker": {
          "color": "#FFA15A",
          "line": {
           "color": "black",
           "width": 1
          },
          "opacity": 0.7,
          "symbol": "circle"
         },
         "name": "ID: 140",
         "pointpos": -1.5,
         "text": [
          "Run: 1 <br>Log-posterior score: 14.57",
          "Run: 2 <br>Log-posterior score: 14.57",
          "Run: 3 <br>Log-posterior score: 14.57",
          "Run: 4 <br>Log-posterior score: 14.57",
          "Run: 5 <br>Log-posterior score: 0.37",
          "Run: 6 <br>Log-posterior score: 14.57",
          "Run: 7 <br>Log-posterior score: -23.97",
          "Run: 8 <br>Log-posterior score: 14.57",
          "Run: 9 <br>Log-posterior score: 14.57",
          "Run: 10 <br>Log-posterior score: 14.57"
         ],
         "type": "box",
         "visible": true,
         "y": [
          0.1063922358630811,
          0.10639221106732105,
          0.10639222666338001,
          0.10639222479523501,
          1.637575362537422e-7,
          0.10639221023838683,
          1.2332393983977484e-7,
          0.10639222596251396,
          0.10639223588351215,
          0.1063922330996219
         ]
        },
        {
         "boxpoints": "all",
         "hovertemplate": "Estimate: %{estimate:.2f}<br>%{text}",
         "jitter": 0.2,
         "line": {
          "color": "#19D3F3"
         },
         "marker": {
          "color": "#19D3F3",
          "line": {
           "color": "black",
           "width": 1
          },
          "opacity": 0.7,
          "symbol": "circle"
         },
         "name": "ID: 155",
         "pointpos": -1.5,
         "text": [
          "Run: 1 <br>Log-posterior score: 8.12",
          "Run: 2 <br>Log-posterior score: 8.12",
          "Run: 3 <br>Log-posterior score: 8.13",
          "Run: 4 <br>Log-posterior score: 8.13",
          "Run: 5 <br>Log-posterior score: nan",
          "Run: 6 <br>Log-posterior score: 8.13",
          "Run: 7 <br>Log-posterior score: 8.13",
          "Run: 8 <br>Log-posterior score: 8.13",
          "Run: 9 <br>Log-posterior score: 8.13",
          "Run: 10 <br>Log-posterior score: 8.13"
         ],
         "type": "box",
         "visible": true,
         "y": [
          0.10046664235392386,
          0.10013227519863276,
          0.10037347763945932,
          0.10029807108363484,
          null,
          0.10043805118589716,
          0.10032188500526461,
          0.10030137312678385,
          0.10050394999026326,
          0.1002829824792372
         ]
        },
        {
         "boxpoints": "all",
         "hovertemplate": "Estimate: %{estimate:.2f}<br>%{text}",
         "jitter": 0.2,
         "line": {
          "color": "#FF6692"
         },
         "marker": {
          "color": "#FF6692",
          "line": {
           "color": "black",
           "width": 1
          },
          "opacity": 0.7,
          "symbol": "circle"
         },
         "name": "ID: 169",
         "pointpos": -1.5,
         "text": [
          "Run: 1 <br>Log-posterior score: 38.63",
          "Run: 2 <br>Log-posterior score: 38.63",
          "Run: 3 <br>Log-posterior score: 38.63",
          "Run: 4 <br>Log-posterior score: 38.63",
          "Run: 5 <br>Log-posterior score: 38.63",
          "Run: 6 <br>Log-posterior score: 38.63",
          "Run: 7 <br>Log-posterior score: 38.63",
          "Run: 8 <br>Log-posterior score: 38.63",
          "Run: 9 <br>Log-posterior score: 38.63",
          "Run: 10 <br>Log-posterior score: 38.63"
         ],
         "type": "box",
         "visible": true,
         "y": [
          0.12337556303316359,
          0.12376567282330299,
          0.12337556175088271,
          0.1233755290309142,
          0.12328840204949608,
          0.12337553932568142,
          0.12328839869302946,
          0.12337556299354449,
          0.12337552994080452,
          0.12337560506719612
         ]
        },
        {
         "boxpoints": "all",
         "hovertemplate": "Estimate: %{estimate:.2f}<br>%{text}",
         "jitter": 0.2,
         "line": {
          "color": "#B6E880"
         },
         "marker": {
          "color": "#B6E880",
          "line": {
           "color": "black",
           "width": 1
          },
          "opacity": 0.7,
          "symbol": "circle"
         },
         "name": "ID: 170",
         "pointpos": -1.5,
         "text": [
          "Run: 1 <br>Log-posterior score: 38.87",
          "Run: 2 <br>Log-posterior score: 38.87",
          "Run: 3 <br>Log-posterior score: 38.87",
          "Run: 4 <br>Log-posterior score: 38.87",
          "Run: 5 <br>Log-posterior score: 38.87",
          "Run: 6 <br>Log-posterior score: 38.87",
          "Run: 7 <br>Log-posterior score: 38.87",
          "Run: 8 <br>Log-posterior score: 38.86",
          "Run: 9 <br>Log-posterior score: 38.87",
          "Run: 10 <br>Log-posterior score: 38.87"
         ],
         "type": "box",
         "visible": true,
         "y": [
          0.08690211468595752,
          0.08690210356111418,
          0.08690212392536897,
          0.08690212506299225,
          0.08690212053146676,
          0.08719105973172063,
          0.08690210929902951,
          0.08654316259249735,
          0.0869020696652295,
          0.08690213523522078
         ]
        }
       ],
       "layout": {
        "autosize": true,
        "template": {
         "data": {
          "bar": [
           {
            "error_x": {
             "color": "#2a3f5f"
            },
            "error_y": {
             "color": "#2a3f5f"
            },
            "marker": {
             "line": {
              "color": "white",
              "width": 0.5
             }
            },
            "type": "bar"
           }
          ],
          "barpolar": [
           {
            "marker": {
             "line": {
              "color": "white",
              "width": 0.5
             }
            },
            "type": "barpolar"
           }
          ],
          "carpet": [
           {
            "aaxis": {
             "endlinecolor": "#2a3f5f",
             "gridcolor": "#C8D4E3",
             "linecolor": "#C8D4E3",
             "minorgridcolor": "#C8D4E3",
             "startlinecolor": "#2a3f5f"
            },
            "baxis": {
             "endlinecolor": "#2a3f5f",
             "gridcolor": "#C8D4E3",
             "linecolor": "#C8D4E3",
             "minorgridcolor": "#C8D4E3",
             "startlinecolor": "#2a3f5f"
            },
            "type": "carpet"
           }
          ],
          "choropleth": [
           {
            "colorbar": {
             "outlinewidth": 0,
             "ticks": ""
            },
            "type": "choropleth"
           }
          ],
          "contour": [
           {
            "colorbar": {
             "outlinewidth": 0,
             "ticks": ""
            },
            "colorscale": [
             [
              0,
              "#0d0887"
             ],
             [
              0.1111111111111111,
              "#46039f"
             ],
             [
              0.2222222222222222,
              "#7201a8"
             ],
             [
              0.3333333333333333,
              "#9c179e"
             ],
             [
              0.4444444444444444,
              "#bd3786"
             ],
             [
              0.5555555555555556,
              "#d8576b"
             ],
             [
              0.6666666666666666,
              "#ed7953"
             ],
             [
              0.7777777777777778,
              "#fb9f3a"
             ],
             [
              0.8888888888888888,
              "#fdca26"
             ],
             [
              1,
              "#f0f921"
             ]
            ],
            "type": "contour"
           }
          ],
          "contourcarpet": [
           {
            "colorbar": {
             "outlinewidth": 0,
             "ticks": ""
            },
            "type": "contourcarpet"
           }
          ],
          "heatmap": [
           {
            "colorbar": {
             "outlinewidth": 0,
             "ticks": ""
            },
            "colorscale": [
             [
              0,
              "#0d0887"
             ],
             [
              0.1111111111111111,
              "#46039f"
             ],
             [
              0.2222222222222222,
              "#7201a8"
             ],
             [
              0.3333333333333333,
              "#9c179e"
             ],
             [
              0.4444444444444444,
              "#bd3786"
             ],
             [
              0.5555555555555556,
              "#d8576b"
             ],
             [
              0.6666666666666666,
              "#ed7953"
             ],
             [
              0.7777777777777778,
              "#fb9f3a"
             ],
             [
              0.8888888888888888,
              "#fdca26"
             ],
             [
              1,
              "#f0f921"
             ]
            ],
            "type": "heatmap"
           }
          ],
          "heatmapgl": [
           {
            "colorbar": {
             "outlinewidth": 0,
             "ticks": ""
            },
            "colorscale": [
             [
              0,
              "#0d0887"
             ],
             [
              0.1111111111111111,
              "#46039f"
             ],
             [
              0.2222222222222222,
              "#7201a8"
             ],
             [
              0.3333333333333333,
              "#9c179e"
             ],
             [
              0.4444444444444444,
              "#bd3786"
             ],
             [
              0.5555555555555556,
              "#d8576b"
             ],
             [
              0.6666666666666666,
              "#ed7953"
             ],
             [
              0.7777777777777778,
              "#fb9f3a"
             ],
             [
              0.8888888888888888,
              "#fdca26"
             ],
             [
              1,
              "#f0f921"
             ]
            ],
            "type": "heatmapgl"
           }
          ],
          "histogram": [
           {
            "marker": {
             "colorbar": {
              "outlinewidth": 0,
              "ticks": ""
             }
            },
            "type": "histogram"
           }
          ],
          "histogram2d": [
           {
            "colorbar": {
             "outlinewidth": 0,
             "ticks": ""
            },
            "colorscale": [
             [
              0,
              "#0d0887"
             ],
             [
              0.1111111111111111,
              "#46039f"
             ],
             [
              0.2222222222222222,
              "#7201a8"
             ],
             [
              0.3333333333333333,
              "#9c179e"
             ],
             [
              0.4444444444444444,
              "#bd3786"
             ],
             [
              0.5555555555555556,
              "#d8576b"
             ],
             [
              0.6666666666666666,
              "#ed7953"
             ],
             [
              0.7777777777777778,
              "#fb9f3a"
             ],
             [
              0.8888888888888888,
              "#fdca26"
             ],
             [
              1,
              "#f0f921"
             ]
            ],
            "type": "histogram2d"
           }
          ],
          "histogram2dcontour": [
           {
            "colorbar": {
             "outlinewidth": 0,
             "ticks": ""
            },
            "colorscale": [
             [
              0,
              "#0d0887"
             ],
             [
              0.1111111111111111,
              "#46039f"
             ],
             [
              0.2222222222222222,
              "#7201a8"
             ],
             [
              0.3333333333333333,
              "#9c179e"
             ],
             [
              0.4444444444444444,
              "#bd3786"
             ],
             [
              0.5555555555555556,
              "#d8576b"
             ],
             [
              0.6666666666666666,
              "#ed7953"
             ],
             [
              0.7777777777777778,
              "#fb9f3a"
             ],
             [
              0.8888888888888888,
              "#fdca26"
             ],
             [
              1,
              "#f0f921"
             ]
            ],
            "type": "histogram2dcontour"
           }
          ],
          "mesh3d": [
           {
            "colorbar": {
             "outlinewidth": 0,
             "ticks": ""
            },
            "type": "mesh3d"
           }
          ],
          "parcoords": [
           {
            "line": {
             "colorbar": {
              "outlinewidth": 0,
              "ticks": ""
             }
            },
            "type": "parcoords"
           }
          ],
          "pie": [
           {
            "automargin": true,
            "type": "pie"
           }
          ],
          "scatter": [
           {
            "marker": {
             "colorbar": {
              "outlinewidth": 0,
              "ticks": ""
             }
            },
            "type": "scatter"
           }
          ],
          "scatter3d": [
           {
            "line": {
             "colorbar": {
              "outlinewidth": 0,
              "ticks": ""
             }
            },
            "marker": {
             "colorbar": {
              "outlinewidth": 0,
              "ticks": ""
             }
            },
            "type": "scatter3d"
           }
          ],
          "scattercarpet": [
           {
            "marker": {
             "colorbar": {
              "outlinewidth": 0,
              "ticks": ""
             }
            },
            "type": "scattercarpet"
           }
          ],
          "scattergeo": [
           {
            "marker": {
             "colorbar": {
              "outlinewidth": 0,
              "ticks": ""
             }
            },
            "type": "scattergeo"
           }
          ],
          "scattergl": [
           {
            "marker": {
             "colorbar": {
              "outlinewidth": 0,
              "ticks": ""
             }
            },
            "type": "scattergl"
           }
          ],
          "scattermapbox": [
           {
            "marker": {
             "colorbar": {
              "outlinewidth": 0,
              "ticks": ""
             }
            },
            "type": "scattermapbox"
           }
          ],
          "scatterpolar": [
           {
            "marker": {
             "colorbar": {
              "outlinewidth": 0,
              "ticks": ""
             }
            },
            "type": "scatterpolar"
           }
          ],
          "scatterpolargl": [
           {
            "marker": {
             "colorbar": {
              "outlinewidth": 0,
              "ticks": ""
             }
            },
            "type": "scatterpolargl"
           }
          ],
          "scatterternary": [
           {
            "marker": {
             "colorbar": {
              "outlinewidth": 0,
              "ticks": ""
             }
            },
            "type": "scatterternary"
           }
          ],
          "surface": [
           {
            "colorbar": {
             "outlinewidth": 0,
             "ticks": ""
            },
            "colorscale": [
             [
              0,
              "#0d0887"
             ],
             [
              0.1111111111111111,
              "#46039f"
             ],
             [
              0.2222222222222222,
              "#7201a8"
             ],
             [
              0.3333333333333333,
              "#9c179e"
             ],
             [
              0.4444444444444444,
              "#bd3786"
             ],
             [
              0.5555555555555556,
              "#d8576b"
             ],
             [
              0.6666666666666666,
              "#ed7953"
             ],
             [
              0.7777777777777778,
              "#fb9f3a"
             ],
             [
              0.8888888888888888,
              "#fdca26"
             ],
             [
              1,
              "#f0f921"
             ]
            ],
            "type": "surface"
           }
          ],
          "table": [
           {
            "cells": {
             "fill": {
              "color": "#EBF0F8"
             },
             "line": {
              "color": "white"
             }
            },
            "header": {
             "fill": {
              "color": "#C8D4E3"
             },
             "line": {
              "color": "white"
             }
            },
            "type": "table"
           }
          ]
         },
         "layout": {
          "annotationdefaults": {
           "arrowcolor": "#2a3f5f",
           "arrowhead": 0,
           "arrowwidth": 1
          },
          "coloraxis": {
           "colorbar": {
            "outlinewidth": 0,
            "ticks": ""
           }
          },
          "colorscale": {
           "diverging": [
            [
             0,
             "#8e0152"
            ],
            [
             0.1,
             "#c51b7d"
            ],
            [
             0.2,
             "#de77ae"
            ],
            [
             0.3,
             "#f1b6da"
            ],
            [
             0.4,
             "#fde0ef"
            ],
            [
             0.5,
             "#f7f7f7"
            ],
            [
             0.6,
             "#e6f5d0"
            ],
            [
             0.7,
             "#b8e186"
            ],
            [
             0.8,
             "#7fbc41"
            ],
            [
             0.9,
             "#4d9221"
            ],
            [
             1,
             "#276419"
            ]
           ],
           "sequential": [
            [
             0,
             "#0d0887"
            ],
            [
             0.1111111111111111,
             "#46039f"
            ],
            [
             0.2222222222222222,
             "#7201a8"
            ],
            [
             0.3333333333333333,
             "#9c179e"
            ],
            [
             0.4444444444444444,
             "#bd3786"
            ],
            [
             0.5555555555555556,
             "#d8576b"
            ],
            [
             0.6666666666666666,
             "#ed7953"
            ],
            [
             0.7777777777777778,
             "#fb9f3a"
            ],
            [
             0.8888888888888888,
             "#fdca26"
            ],
            [
             1,
             "#f0f921"
            ]
           ],
           "sequentialminus": [
            [
             0,
             "#0d0887"
            ],
            [
             0.1111111111111111,
             "#46039f"
            ],
            [
             0.2222222222222222,
             "#7201a8"
            ],
            [
             0.3333333333333333,
             "#9c179e"
            ],
            [
             0.4444444444444444,
             "#bd3786"
            ],
            [
             0.5555555555555556,
             "#d8576b"
            ],
            [
             0.6666666666666666,
             "#ed7953"
            ],
            [
             0.7777777777777778,
             "#fb9f3a"
            ],
            [
             0.8888888888888888,
             "#fdca26"
            ],
            [
             1,
             "#f0f921"
            ]
           ]
          },
          "colorway": [
           "#636efa",
           "#EF553B",
           "#00cc96",
           "#ab63fa",
           "#FFA15A",
           "#19d3f3",
           "#FF6692",
           "#B6E880",
           "#FF97FF",
           "#FECB52"
          ],
          "font": {
           "color": "#2a3f5f"
          },
          "geo": {
           "bgcolor": "white",
           "lakecolor": "white",
           "landcolor": "white",
           "showlakes": true,
           "showland": true,
           "subunitcolor": "#C8D4E3"
          },
          "hoverlabel": {
           "align": "left"
          },
          "hovermode": "closest",
          "mapbox": {
           "style": "light"
          },
          "paper_bgcolor": "white",
          "plot_bgcolor": "white",
          "polar": {
           "angularaxis": {
            "gridcolor": "#EBF0F8",
            "linecolor": "#EBF0F8",
            "ticks": ""
           },
           "bgcolor": "white",
           "radialaxis": {
            "gridcolor": "#EBF0F8",
            "linecolor": "#EBF0F8",
            "ticks": ""
           }
          },
          "scene": {
           "xaxis": {
            "backgroundcolor": "white",
            "gridcolor": "#DFE8F3",
            "gridwidth": 2,
            "linecolor": "#EBF0F8",
            "showbackground": true,
            "ticks": "",
            "zerolinecolor": "#EBF0F8"
           },
           "yaxis": {
            "backgroundcolor": "white",
            "gridcolor": "#DFE8F3",
            "gridwidth": 2,
            "linecolor": "#EBF0F8",
            "showbackground": true,
            "ticks": "",
            "zerolinecolor": "#EBF0F8"
           },
           "zaxis": {
            "backgroundcolor": "white",
            "gridcolor": "#DFE8F3",
            "gridwidth": 2,
            "linecolor": "#EBF0F8",
            "showbackground": true,
            "ticks": "",
            "zerolinecolor": "#EBF0F8"
           }
          },
          "shapedefaults": {
           "line": {
            "color": "#2a3f5f"
           }
          },
          "ternary": {
           "aaxis": {
            "gridcolor": "#DFE8F3",
            "linecolor": "#A2B1C6",
            "ticks": ""
           },
           "baxis": {
            "gridcolor": "#DFE8F3",
            "linecolor": "#A2B1C6",
            "ticks": ""
           },
           "bgcolor": "white",
           "caxis": {
            "gridcolor": "#DFE8F3",
            "linecolor": "#A2B1C6",
            "ticks": ""
           }
          },
          "title": {
           "x": 0.05
          },
          "xaxis": {
           "automargin": true,
           "gridcolor": "#EBF0F8",
           "linecolor": "#EBF0F8",
           "ticks": "",
           "title": {
            "standoff": 15
           },
           "zerolinecolor": "#EBF0F8",
           "zerolinewidth": 2
          },
          "yaxis": {
           "automargin": true,
           "gridcolor": "#EBF0F8",
           "linecolor": "#EBF0F8",
           "ticks": "",
           "title": {
            "standoff": 15
           },
           "zerolinecolor": "#EBF0F8",
           "zerolinewidth": 2
          }
         }
        },
        "updatemenus": [
         {
          "buttons": [
           {
            "args": [
             {
              "yaxis.type": "linear"
             }
            ],
            "label": "Linear y-scale",
            "method": "relayout"
           },
           {
            "args": [
             {
              "yaxis.type": "log"
             }
            ],
            "label": "Log y-scale",
            "method": "relayout"
           }
          ],
          "direction": "left",
          "pad": {
           "r": 0,
           "t": -10
          },
          "showactive": true,
          "type": "buttons",
          "x": 0,
          "xanchor": "left",
          "y": 1.15,
          "yanchor": "top"
         }
        ],
        "yaxis": {
         "title": {
          "text": "myokit.tumour_volume"
         }
        }
       }
      }
     },
     "metadata": {}
    },
    {
     "output_type": "display_data",
     "data": {
      "application/vnd.plotly.v1+json": {
       "config": {
        "plotlyServerURL": "https://plot.ly"
       },
       "data": [
        {
         "boxpoints": "all",
         "hovertemplate": "Estimate: %{estimate:.2f}<br>%{text}",
         "jitter": 0.2,
         "line": {
          "color": "#636EFA"
         },
         "marker": {
          "color": "#636EFA",
          "line": {
           "color": "black",
           "width": 1
          },
          "opacity": 0.7,
          "symbol": "circle"
         },
         "name": "ID: 40",
         "pointpos": -1.5,
         "text": [
          "Run: 1 <br>Log-posterior score: 12.77",
          "Run: 2 <br>Log-posterior score: 12.77",
          "Run: 3 <br>Log-posterior score: 12.77",
          "Run: 4 <br>Log-posterior score: 12.78",
          "Run: 5 <br>Log-posterior score: 12.77",
          "Run: 6 <br>Log-posterior score: 12.77",
          "Run: 7 <br>Log-posterior score: 12.78",
          "Run: 8 <br>Log-posterior score: 12.77",
          "Run: 9 <br>Log-posterior score: 12.77",
          "Run: 10 <br>Log-posterior score: 2.68"
         ],
         "type": "box",
         "visible": true,
         "y": [
          0.25430662083072303,
          0.25399699609843707,
          0.2539982218239251,
          0.24566520423611649,
          0.254304899798557,
          0.2539989843327757,
          0.2456657186891277,
          0.2543056129521005,
          0.24697146887334787,
          55.34484424916717
         ]
        },
        {
         "boxpoints": "all",
         "hovertemplate": "Estimate: %{estimate:.2f}<br>%{text}",
         "jitter": 0.2,
         "line": {
          "color": "#EF553B"
         },
         "marker": {
          "color": "#EF553B",
          "line": {
           "color": "black",
           "width": 1
          },
          "opacity": 0.7,
          "symbol": "circle"
         },
         "name": "ID: 94",
         "pointpos": -1.5,
         "text": [
          "Run: 1 <br>Log-posterior score: 33.91",
          "Run: 2 <br>Log-posterior score: 33.91",
          "Run: 3 <br>Log-posterior score: 33.91",
          "Run: 4 <br>Log-posterior score: 33.91",
          "Run: 5 <br>Log-posterior score: 33.91",
          "Run: 6 <br>Log-posterior score: 33.91",
          "Run: 7 <br>Log-posterior score: 33.91",
          "Run: 8 <br>Log-posterior score: 33.91",
          "Run: 9 <br>Log-posterior score: -3.78",
          "Run: 10 <br>Log-posterior score: 33.90"
         ],
         "type": "box",
         "visible": true,
         "y": [
          0.17887746750318434,
          0.17887760401173905,
          0.17887727234562575,
          0.17887763141556007,
          0.17887757110650576,
          0.17887731014632494,
          0.17887762321106282,
          0.1788777653643855,
          0.0029960277478086215,
          0.1684767380168249
         ]
        },
        {
         "boxpoints": "all",
         "hovertemplate": "Estimate: %{estimate:.2f}<br>%{text}",
         "jitter": 0.2,
         "line": {
          "color": "#00CC96"
         },
         "marker": {
          "color": "#00CC96",
          "line": {
           "color": "black",
           "width": 1
          },
          "opacity": 0.7,
          "symbol": "circle"
         },
         "name": "ID: 95",
         "pointpos": -1.5,
         "text": [
          "Run: 1 <br>Log-posterior score: 6.61",
          "Run: 2 <br>Log-posterior score: 6.61",
          "Run: 3 <br>Log-posterior score: 6.60",
          "Run: 4 <br>Log-posterior score: 6.46",
          "Run: 5 <br>Log-posterior score: 6.46",
          "Run: 6 <br>Log-posterior score: 6.46",
          "Run: 7 <br>Log-posterior score: 6.61",
          "Run: 8 <br>Log-posterior score: 6.46",
          "Run: 9 <br>Log-posterior score: 6.61",
          "Run: 10 <br>Log-posterior score: 6.61"
         ],
         "type": "box",
         "visible": true,
         "y": [
          0.09537431479890657,
          0.09537427607170963,
          0.10204918269264741,
          0.05762248732809132,
          0.057622513101879005,
          0.057622500101273524,
          0.09537421825753051,
          0.0576224928677898,
          0.09537434053703377,
          0.09537427138858083
         ]
        },
        {
         "boxpoints": "all",
         "hovertemplate": "Estimate: %{estimate:.2f}<br>%{text}",
         "jitter": 0.2,
         "line": {
          "color": "#AB63FA"
         },
         "marker": {
          "color": "#AB63FA",
          "line": {
           "color": "black",
           "width": 1
          },
          "opacity": 0.7,
          "symbol": "circle"
         },
         "name": "ID: 136",
         "pointpos": -1.5,
         "text": [
          "Run: 1 <br>Log-posterior score: 23.32",
          "Run: 2 <br>Log-posterior score: 23.32",
          "Run: 3 <br>Log-posterior score: 23.32",
          "Run: 4 <br>Log-posterior score: 23.32",
          "Run: 5 <br>Log-posterior score: 23.32",
          "Run: 6 <br>Log-posterior score: 23.32",
          "Run: 7 <br>Log-posterior score: 23.32",
          "Run: 8 <br>Log-posterior score: 23.32",
          "Run: 9 <br>Log-posterior score: 23.32",
          "Run: 10 <br>Log-posterior score: 23.32"
         ],
         "type": "box",
         "visible": true,
         "y": [
          0.07064223054126213,
          0.06978945240257109,
          0.07064221598680719,
          0.06978946037709634,
          0.06978946111889246,
          0.07064222811981034,
          0.07064222449345024,
          0.06978945736844074,
          0.07064222000324749,
          0.0697894620366273
         ]
        },
        {
         "boxpoints": "all",
         "hovertemplate": "Estimate: %{estimate:.2f}<br>%{text}",
         "jitter": 0.2,
         "line": {
          "color": "#FFA15A"
         },
         "marker": {
          "color": "#FFA15A",
          "line": {
           "color": "black",
           "width": 1
          },
          "opacity": 0.7,
          "symbol": "circle"
         },
         "name": "ID: 140",
         "pointpos": -1.5,
         "text": [
          "Run: 1 <br>Log-posterior score: 14.57",
          "Run: 2 <br>Log-posterior score: 14.57",
          "Run: 3 <br>Log-posterior score: 14.57",
          "Run: 4 <br>Log-posterior score: 14.57",
          "Run: 5 <br>Log-posterior score: 0.37",
          "Run: 6 <br>Log-posterior score: 14.57",
          "Run: 7 <br>Log-posterior score: -23.97",
          "Run: 8 <br>Log-posterior score: 14.57",
          "Run: 9 <br>Log-posterior score: 14.57",
          "Run: 10 <br>Log-posterior score: 14.57"
         ],
         "type": "box",
         "visible": true,
         "y": [
          0.05093112674498105,
          0.05093113760076677,
          0.05093113495550214,
          0.050931135291903004,
          1.970287361652758,
          0.05093113399876973,
          9.65320012217613,
          0.05093113289859733,
          0.05093113086761595,
          0.05093113319943298
         ]
        },
        {
         "boxpoints": "all",
         "hovertemplate": "Estimate: %{estimate:.2f}<br>%{text}",
         "jitter": 0.2,
         "line": {
          "color": "#19D3F3"
         },
         "marker": {
          "color": "#19D3F3",
          "line": {
           "color": "black",
           "width": 1
          },
          "opacity": 0.7,
          "symbol": "circle"
         },
         "name": "ID: 155",
         "pointpos": -1.5,
         "text": [
          "Run: 1 <br>Log-posterior score: 8.12",
          "Run: 2 <br>Log-posterior score: 8.12",
          "Run: 3 <br>Log-posterior score: 8.13",
          "Run: 4 <br>Log-posterior score: 8.13",
          "Run: 5 <br>Log-posterior score: nan",
          "Run: 6 <br>Log-posterior score: 8.13",
          "Run: 7 <br>Log-posterior score: 8.13",
          "Run: 8 <br>Log-posterior score: 8.13",
          "Run: 9 <br>Log-posterior score: 8.13",
          "Run: 10 <br>Log-posterior score: 8.13"
         ],
         "type": "box",
         "visible": true,
         "y": [
          0.3685608017436802,
          0.3879615259029302,
          0.37756307761328467,
          0.3777987318228013,
          null,
          0.3758714853032503,
          0.3776664612894547,
          0.3777871829446585,
          0.375281413372279,
          0.3780413471519498
         ]
        },
        {
         "boxpoints": "all",
         "hovertemplate": "Estimate: %{estimate:.2f}<br>%{text}",
         "jitter": 0.2,
         "line": {
          "color": "#FF6692"
         },
         "marker": {
          "color": "#FF6692",
          "line": {
           "color": "black",
           "width": 1
          },
          "opacity": 0.7,
          "symbol": "circle"
         },
         "name": "ID: 169",
         "pointpos": -1.5,
         "text": [
          "Run: 1 <br>Log-posterior score: 38.63",
          "Run: 2 <br>Log-posterior score: 38.63",
          "Run: 3 <br>Log-posterior score: 38.63",
          "Run: 4 <br>Log-posterior score: 38.63",
          "Run: 5 <br>Log-posterior score: 38.63",
          "Run: 6 <br>Log-posterior score: 38.63",
          "Run: 7 <br>Log-posterior score: 38.63",
          "Run: 8 <br>Log-posterior score: 38.63",
          "Run: 9 <br>Log-posterior score: 38.63",
          "Run: 10 <br>Log-posterior score: 38.63"
         ],
         "type": "box",
         "visible": true,
         "y": [
          0.043615197747121436,
          0.043048621649764474,
          0.04361519649542622,
          0.04361520455783029,
          0.04374899354111788,
          0.04361520381059987,
          0.043748992390180506,
          0.043615198751435665,
          0.043615203613760596,
          0.04361518214261352
         ]
        },
        {
         "boxpoints": "all",
         "hovertemplate": "Estimate: %{estimate:.2f}<br>%{text}",
         "jitter": 0.2,
         "line": {
          "color": "#B6E880"
         },
         "marker": {
          "color": "#B6E880",
          "line": {
           "color": "black",
           "width": 1
          },
          "opacity": 0.7,
          "symbol": "circle"
         },
         "name": "ID: 170",
         "pointpos": -1.5,
         "text": [
          "Run: 1 <br>Log-posterior score: 38.87",
          "Run: 2 <br>Log-posterior score: 38.87",
          "Run: 3 <br>Log-posterior score: 38.87",
          "Run: 4 <br>Log-posterior score: 38.87",
          "Run: 5 <br>Log-posterior score: 38.87",
          "Run: 6 <br>Log-posterior score: 38.87",
          "Run: 7 <br>Log-posterior score: 38.87",
          "Run: 8 <br>Log-posterior score: 38.86",
          "Run: 9 <br>Log-posterior score: 38.87",
          "Run: 10 <br>Log-posterior score: 38.87"
         ],
         "type": "box",
         "visible": true,
         "y": [
          0.03631550015286426,
          0.03631550191091211,
          0.03631549632877982,
          0.0363154956790483,
          0.03631549725823229,
          0.036045486123468785,
          0.0363155031097898,
          0.036658287913234625,
          0.0363155129990826,
          0.036315495637492735
         ]
        }
       ],
       "layout": {
        "autosize": true,
        "template": {
         "data": {
          "bar": [
           {
            "error_x": {
             "color": "#2a3f5f"
            },
            "error_y": {
             "color": "#2a3f5f"
            },
            "marker": {
             "line": {
              "color": "white",
              "width": 0.5
             }
            },
            "type": "bar"
           }
          ],
          "barpolar": [
           {
            "marker": {
             "line": {
              "color": "white",
              "width": 0.5
             }
            },
            "type": "barpolar"
           }
          ],
          "carpet": [
           {
            "aaxis": {
             "endlinecolor": "#2a3f5f",
             "gridcolor": "#C8D4E3",
             "linecolor": "#C8D4E3",
             "minorgridcolor": "#C8D4E3",
             "startlinecolor": "#2a3f5f"
            },
            "baxis": {
             "endlinecolor": "#2a3f5f",
             "gridcolor": "#C8D4E3",
             "linecolor": "#C8D4E3",
             "minorgridcolor": "#C8D4E3",
             "startlinecolor": "#2a3f5f"
            },
            "type": "carpet"
           }
          ],
          "choropleth": [
           {
            "colorbar": {
             "outlinewidth": 0,
             "ticks": ""
            },
            "type": "choropleth"
           }
          ],
          "contour": [
           {
            "colorbar": {
             "outlinewidth": 0,
             "ticks": ""
            },
            "colorscale": [
             [
              0,
              "#0d0887"
             ],
             [
              0.1111111111111111,
              "#46039f"
             ],
             [
              0.2222222222222222,
              "#7201a8"
             ],
             [
              0.3333333333333333,
              "#9c179e"
             ],
             [
              0.4444444444444444,
              "#bd3786"
             ],
             [
              0.5555555555555556,
              "#d8576b"
             ],
             [
              0.6666666666666666,
              "#ed7953"
             ],
             [
              0.7777777777777778,
              "#fb9f3a"
             ],
             [
              0.8888888888888888,
              "#fdca26"
             ],
             [
              1,
              "#f0f921"
             ]
            ],
            "type": "contour"
           }
          ],
          "contourcarpet": [
           {
            "colorbar": {
             "outlinewidth": 0,
             "ticks": ""
            },
            "type": "contourcarpet"
           }
          ],
          "heatmap": [
           {
            "colorbar": {
             "outlinewidth": 0,
             "ticks": ""
            },
            "colorscale": [
             [
              0,
              "#0d0887"
             ],
             [
              0.1111111111111111,
              "#46039f"
             ],
             [
              0.2222222222222222,
              "#7201a8"
             ],
             [
              0.3333333333333333,
              "#9c179e"
             ],
             [
              0.4444444444444444,
              "#bd3786"
             ],
             [
              0.5555555555555556,
              "#d8576b"
             ],
             [
              0.6666666666666666,
              "#ed7953"
             ],
             [
              0.7777777777777778,
              "#fb9f3a"
             ],
             [
              0.8888888888888888,
              "#fdca26"
             ],
             [
              1,
              "#f0f921"
             ]
            ],
            "type": "heatmap"
           }
          ],
          "heatmapgl": [
           {
            "colorbar": {
             "outlinewidth": 0,
             "ticks": ""
            },
            "colorscale": [
             [
              0,
              "#0d0887"
             ],
             [
              0.1111111111111111,
              "#46039f"
             ],
             [
              0.2222222222222222,
              "#7201a8"
             ],
             [
              0.3333333333333333,
              "#9c179e"
             ],
             [
              0.4444444444444444,
              "#bd3786"
             ],
             [
              0.5555555555555556,
              "#d8576b"
             ],
             [
              0.6666666666666666,
              "#ed7953"
             ],
             [
              0.7777777777777778,
              "#fb9f3a"
             ],
             [
              0.8888888888888888,
              "#fdca26"
             ],
             [
              1,
              "#f0f921"
             ]
            ],
            "type": "heatmapgl"
           }
          ],
          "histogram": [
           {
            "marker": {
             "colorbar": {
              "outlinewidth": 0,
              "ticks": ""
             }
            },
            "type": "histogram"
           }
          ],
          "histogram2d": [
           {
            "colorbar": {
             "outlinewidth": 0,
             "ticks": ""
            },
            "colorscale": [
             [
              0,
              "#0d0887"
             ],
             [
              0.1111111111111111,
              "#46039f"
             ],
             [
              0.2222222222222222,
              "#7201a8"
             ],
             [
              0.3333333333333333,
              "#9c179e"
             ],
             [
              0.4444444444444444,
              "#bd3786"
             ],
             [
              0.5555555555555556,
              "#d8576b"
             ],
             [
              0.6666666666666666,
              "#ed7953"
             ],
             [
              0.7777777777777778,
              "#fb9f3a"
             ],
             [
              0.8888888888888888,
              "#fdca26"
             ],
             [
              1,
              "#f0f921"
             ]
            ],
            "type": "histogram2d"
           }
          ],
          "histogram2dcontour": [
           {
            "colorbar": {
             "outlinewidth": 0,
             "ticks": ""
            },
            "colorscale": [
             [
              0,
              "#0d0887"
             ],
             [
              0.1111111111111111,
              "#46039f"
             ],
             [
              0.2222222222222222,
              "#7201a8"
             ],
             [
              0.3333333333333333,
              "#9c179e"
             ],
             [
              0.4444444444444444,
              "#bd3786"
             ],
             [
              0.5555555555555556,
              "#d8576b"
             ],
             [
              0.6666666666666666,
              "#ed7953"
             ],
             [
              0.7777777777777778,
              "#fb9f3a"
             ],
             [
              0.8888888888888888,
              "#fdca26"
             ],
             [
              1,
              "#f0f921"
             ]
            ],
            "type": "histogram2dcontour"
           }
          ],
          "mesh3d": [
           {
            "colorbar": {
             "outlinewidth": 0,
             "ticks": ""
            },
            "type": "mesh3d"
           }
          ],
          "parcoords": [
           {
            "line": {
             "colorbar": {
              "outlinewidth": 0,
              "ticks": ""
             }
            },
            "type": "parcoords"
           }
          ],
          "pie": [
           {
            "automargin": true,
            "type": "pie"
           }
          ],
          "scatter": [
           {
            "marker": {
             "colorbar": {
              "outlinewidth": 0,
              "ticks": ""
             }
            },
            "type": "scatter"
           }
          ],
          "scatter3d": [
           {
            "line": {
             "colorbar": {
              "outlinewidth": 0,
              "ticks": ""
             }
            },
            "marker": {
             "colorbar": {
              "outlinewidth": 0,
              "ticks": ""
             }
            },
            "type": "scatter3d"
           }
          ],
          "scattercarpet": [
           {
            "marker": {
             "colorbar": {
              "outlinewidth": 0,
              "ticks": ""
             }
            },
            "type": "scattercarpet"
           }
          ],
          "scattergeo": [
           {
            "marker": {
             "colorbar": {
              "outlinewidth": 0,
              "ticks": ""
             }
            },
            "type": "scattergeo"
           }
          ],
          "scattergl": [
           {
            "marker": {
             "colorbar": {
              "outlinewidth": 0,
              "ticks": ""
             }
            },
            "type": "scattergl"
           }
          ],
          "scattermapbox": [
           {
            "marker": {
             "colorbar": {
              "outlinewidth": 0,
              "ticks": ""
             }
            },
            "type": "scattermapbox"
           }
          ],
          "scatterpolar": [
           {
            "marker": {
             "colorbar": {
              "outlinewidth": 0,
              "ticks": ""
             }
            },
            "type": "scatterpolar"
           }
          ],
          "scatterpolargl": [
           {
            "marker": {
             "colorbar": {
              "outlinewidth": 0,
              "ticks": ""
             }
            },
            "type": "scatterpolargl"
           }
          ],
          "scatterternary": [
           {
            "marker": {
             "colorbar": {
              "outlinewidth": 0,
              "ticks": ""
             }
            },
            "type": "scatterternary"
           }
          ],
          "surface": [
           {
            "colorbar": {
             "outlinewidth": 0,
             "ticks": ""
            },
            "colorscale": [
             [
              0,
              "#0d0887"
             ],
             [
              0.1111111111111111,
              "#46039f"
             ],
             [
              0.2222222222222222,
              "#7201a8"
             ],
             [
              0.3333333333333333,
              "#9c179e"
             ],
             [
              0.4444444444444444,
              "#bd3786"
             ],
             [
              0.5555555555555556,
              "#d8576b"
             ],
             [
              0.6666666666666666,
              "#ed7953"
             ],
             [
              0.7777777777777778,
              "#fb9f3a"
             ],
             [
              0.8888888888888888,
              "#fdca26"
             ],
             [
              1,
              "#f0f921"
             ]
            ],
            "type": "surface"
           }
          ],
          "table": [
           {
            "cells": {
             "fill": {
              "color": "#EBF0F8"
             },
             "line": {
              "color": "white"
             }
            },
            "header": {
             "fill": {
              "color": "#C8D4E3"
             },
             "line": {
              "color": "white"
             }
            },
            "type": "table"
           }
          ]
         },
         "layout": {
          "annotationdefaults": {
           "arrowcolor": "#2a3f5f",
           "arrowhead": 0,
           "arrowwidth": 1
          },
          "coloraxis": {
           "colorbar": {
            "outlinewidth": 0,
            "ticks": ""
           }
          },
          "colorscale": {
           "diverging": [
            [
             0,
             "#8e0152"
            ],
            [
             0.1,
             "#c51b7d"
            ],
            [
             0.2,
             "#de77ae"
            ],
            [
             0.3,
             "#f1b6da"
            ],
            [
             0.4,
             "#fde0ef"
            ],
            [
             0.5,
             "#f7f7f7"
            ],
            [
             0.6,
             "#e6f5d0"
            ],
            [
             0.7,
             "#b8e186"
            ],
            [
             0.8,
             "#7fbc41"
            ],
            [
             0.9,
             "#4d9221"
            ],
            [
             1,
             "#276419"
            ]
           ],
           "sequential": [
            [
             0,
             "#0d0887"
            ],
            [
             0.1111111111111111,
             "#46039f"
            ],
            [
             0.2222222222222222,
             "#7201a8"
            ],
            [
             0.3333333333333333,
             "#9c179e"
            ],
            [
             0.4444444444444444,
             "#bd3786"
            ],
            [
             0.5555555555555556,
             "#d8576b"
            ],
            [
             0.6666666666666666,
             "#ed7953"
            ],
            [
             0.7777777777777778,
             "#fb9f3a"
            ],
            [
             0.8888888888888888,
             "#fdca26"
            ],
            [
             1,
             "#f0f921"
            ]
           ],
           "sequentialminus": [
            [
             0,
             "#0d0887"
            ],
            [
             0.1111111111111111,
             "#46039f"
            ],
            [
             0.2222222222222222,
             "#7201a8"
            ],
            [
             0.3333333333333333,
             "#9c179e"
            ],
            [
             0.4444444444444444,
             "#bd3786"
            ],
            [
             0.5555555555555556,
             "#d8576b"
            ],
            [
             0.6666666666666666,
             "#ed7953"
            ],
            [
             0.7777777777777778,
             "#fb9f3a"
            ],
            [
             0.8888888888888888,
             "#fdca26"
            ],
            [
             1,
             "#f0f921"
            ]
           ]
          },
          "colorway": [
           "#636efa",
           "#EF553B",
           "#00cc96",
           "#ab63fa",
           "#FFA15A",
           "#19d3f3",
           "#FF6692",
           "#B6E880",
           "#FF97FF",
           "#FECB52"
          ],
          "font": {
           "color": "#2a3f5f"
          },
          "geo": {
           "bgcolor": "white",
           "lakecolor": "white",
           "landcolor": "white",
           "showlakes": true,
           "showland": true,
           "subunitcolor": "#C8D4E3"
          },
          "hoverlabel": {
           "align": "left"
          },
          "hovermode": "closest",
          "mapbox": {
           "style": "light"
          },
          "paper_bgcolor": "white",
          "plot_bgcolor": "white",
          "polar": {
           "angularaxis": {
            "gridcolor": "#EBF0F8",
            "linecolor": "#EBF0F8",
            "ticks": ""
           },
           "bgcolor": "white",
           "radialaxis": {
            "gridcolor": "#EBF0F8",
            "linecolor": "#EBF0F8",
            "ticks": ""
           }
          },
          "scene": {
           "xaxis": {
            "backgroundcolor": "white",
            "gridcolor": "#DFE8F3",
            "gridwidth": 2,
            "linecolor": "#EBF0F8",
            "showbackground": true,
            "ticks": "",
            "zerolinecolor": "#EBF0F8"
           },
           "yaxis": {
            "backgroundcolor": "white",
            "gridcolor": "#DFE8F3",
            "gridwidth": 2,
            "linecolor": "#EBF0F8",
            "showbackground": true,
            "ticks": "",
            "zerolinecolor": "#EBF0F8"
           },
           "zaxis": {
            "backgroundcolor": "white",
            "gridcolor": "#DFE8F3",
            "gridwidth": 2,
            "linecolor": "#EBF0F8",
            "showbackground": true,
            "ticks": "",
            "zerolinecolor": "#EBF0F8"
           }
          },
          "shapedefaults": {
           "line": {
            "color": "#2a3f5f"
           }
          },
          "ternary": {
           "aaxis": {
            "gridcolor": "#DFE8F3",
            "linecolor": "#A2B1C6",
            "ticks": ""
           },
           "baxis": {
            "gridcolor": "#DFE8F3",
            "linecolor": "#A2B1C6",
            "ticks": ""
           },
           "bgcolor": "white",
           "caxis": {
            "gridcolor": "#DFE8F3",
            "linecolor": "#A2B1C6",
            "ticks": ""
           }
          },
          "title": {
           "x": 0.05
          },
          "xaxis": {
           "automargin": true,
           "gridcolor": "#EBF0F8",
           "linecolor": "#EBF0F8",
           "ticks": "",
           "title": {
            "standoff": 15
           },
           "zerolinecolor": "#EBF0F8",
           "zerolinewidth": 2
          },
          "yaxis": {
           "automargin": true,
           "gridcolor": "#EBF0F8",
           "linecolor": "#EBF0F8",
           "ticks": "",
           "title": {
            "standoff": 15
           },
           "zerolinecolor": "#EBF0F8",
           "zerolinewidth": 2
          }
         }
        },
        "updatemenus": [
         {
          "buttons": [
           {
            "args": [
             {
              "yaxis.type": "linear"
             }
            ],
            "label": "Linear y-scale",
            "method": "relayout"
           },
           {
            "args": [
             {
              "yaxis.type": "log"
             }
            ],
            "label": "Log y-scale",
            "method": "relayout"
           }
          ],
          "direction": "left",
          "pad": {
           "r": 0,
           "t": -10
          },
          "showactive": true,
          "type": "buttons",
          "x": 0,
          "xanchor": "left",
          "y": 1.15,
          "yanchor": "top"
         }
        ],
        "yaxis": {
         "title": {
          "text": "myokit.lambda_0"
         }
        }
       }
      }
     },
     "metadata": {}
    },
    {
     "output_type": "display_data",
     "data": {
      "application/vnd.plotly.v1+json": {
       "config": {
        "plotlyServerURL": "https://plot.ly"
       },
       "data": [
        {
         "boxpoints": "all",
         "hovertemplate": "Estimate: %{estimate:.2f}<br>%{text}",
         "jitter": 0.2,
         "line": {
          "color": "#636EFA"
         },
         "marker": {
          "color": "#636EFA",
          "line": {
           "color": "black",
           "width": 1
          },
          "opacity": 0.7,
          "symbol": "circle"
         },
         "name": "ID: 40",
         "pointpos": -1.5,
         "text": [
          "Run: 1 <br>Log-posterior score: 12.77",
          "Run: 2 <br>Log-posterior score: 12.77",
          "Run: 3 <br>Log-posterior score: 12.77",
          "Run: 4 <br>Log-posterior score: 12.78",
          "Run: 5 <br>Log-posterior score: 12.77",
          "Run: 6 <br>Log-posterior score: 12.77",
          "Run: 7 <br>Log-posterior score: 12.78",
          "Run: 8 <br>Log-posterior score: 12.77",
          "Run: 9 <br>Log-posterior score: 12.77",
          "Run: 10 <br>Log-posterior score: 2.68"
         ],
         "type": "box",
         "visible": true,
         "y": [
          0.13431020956573453,
          0.1343439743977674,
          0.13434393607842005,
          0.1359328770862528,
          0.13431037708018412,
          0.13434382265163128,
          0.1359329285549357,
          0.13431035920582457,
          0.13579968360514366,
          0.10091477772587798
         ]
        },
        {
         "boxpoints": "all",
         "hovertemplate": "Estimate: %{estimate:.2f}<br>%{text}",
         "jitter": 0.2,
         "line": {
          "color": "#EF553B"
         },
         "marker": {
          "color": "#EF553B",
          "line": {
           "color": "black",
           "width": 1
          },
          "opacity": 0.7,
          "symbol": "circle"
         },
         "name": "ID: 94",
         "pointpos": -1.5,
         "text": [
          "Run: 1 <br>Log-posterior score: 33.91",
          "Run: 2 <br>Log-posterior score: 33.91",
          "Run: 3 <br>Log-posterior score: 33.91",
          "Run: 4 <br>Log-posterior score: 33.91",
          "Run: 5 <br>Log-posterior score: 33.91",
          "Run: 6 <br>Log-posterior score: 33.91",
          "Run: 7 <br>Log-posterior score: 33.91",
          "Run: 8 <br>Log-posterior score: 33.91",
          "Run: 9 <br>Log-posterior score: -3.78",
          "Run: 10 <br>Log-posterior score: 33.90"
         ],
         "type": "box",
         "visible": true,
         "y": [
          0.020115951594884083,
          0.020115954017542185,
          0.020115956547539813,
          0.02011594738232122,
          0.0201159484273556,
          0.020115959739012517,
          0.020115949260993485,
          0.02011594431047017,
          33.580643525001555,
          0.020478964824755197
         ]
        },
        {
         "boxpoints": "all",
         "hovertemplate": "Estimate: %{estimate:.2f}<br>%{text}",
         "jitter": 0.2,
         "line": {
          "color": "#00CC96"
         },
         "marker": {
          "color": "#00CC96",
          "line": {
           "color": "black",
           "width": 1
          },
          "opacity": 0.7,
          "symbol": "circle"
         },
         "name": "ID: 95",
         "pointpos": -1.5,
         "text": [
          "Run: 1 <br>Log-posterior score: 6.61",
          "Run: 2 <br>Log-posterior score: 6.61",
          "Run: 3 <br>Log-posterior score: 6.60",
          "Run: 4 <br>Log-posterior score: 6.46",
          "Run: 5 <br>Log-posterior score: 6.46",
          "Run: 6 <br>Log-posterior score: 6.46",
          "Run: 7 <br>Log-posterior score: 6.61",
          "Run: 8 <br>Log-posterior score: 6.46",
          "Run: 9 <br>Log-posterior score: 6.61",
          "Run: 10 <br>Log-posterior score: 6.61"
         ],
         "type": "box",
         "visible": true,
         "y": [
          0.1988713526043509,
          0.1988713841946522,
          0.1810472524899554,
          1.0736239359036694,
          1.0736224452848766,
          1.0736221414528637,
          0.19887132192424783,
          1.07362327751793,
          0.1988713714296835,
          0.19887139552539254
         ]
        },
        {
         "boxpoints": "all",
         "hovertemplate": "Estimate: %{estimate:.2f}<br>%{text}",
         "jitter": 0.2,
         "line": {
          "color": "#AB63FA"
         },
         "marker": {
          "color": "#AB63FA",
          "line": {
           "color": "black",
           "width": 1
          },
          "opacity": 0.7,
          "symbol": "circle"
         },
         "name": "ID: 136",
         "pointpos": -1.5,
         "text": [
          "Run: 1 <br>Log-posterior score: 23.32",
          "Run: 2 <br>Log-posterior score: 23.32",
          "Run: 3 <br>Log-posterior score: 23.32",
          "Run: 4 <br>Log-posterior score: 23.32",
          "Run: 5 <br>Log-posterior score: 23.32",
          "Run: 6 <br>Log-posterior score: 23.32",
          "Run: 7 <br>Log-posterior score: 23.32",
          "Run: 8 <br>Log-posterior score: 23.32",
          "Run: 9 <br>Log-posterior score: 23.32",
          "Run: 10 <br>Log-posterior score: 23.32"
         ],
         "type": "box",
         "visible": true,
         "y": [
          0.0881855793687549,
          0.08967920775687165,
          0.08818558358920105,
          0.08967921130453566,
          0.08967921668199738,
          0.08818558237143793,
          0.08818558602323193,
          0.08967921417099106,
          0.08818558274480078,
          0.08967921781350968
         ]
        },
        {
         "boxpoints": "all",
         "hovertemplate": "Estimate: %{estimate:.2f}<br>%{text}",
         "jitter": 0.2,
         "line": {
          "color": "#FFA15A"
         },
         "marker": {
          "color": "#FFA15A",
          "line": {
           "color": "black",
           "width": 1
          },
          "opacity": 0.7,
          "symbol": "circle"
         },
         "name": "ID: 140",
         "pointpos": -1.5,
         "text": [
          "Run: 1 <br>Log-posterior score: 14.57",
          "Run: 2 <br>Log-posterior score: 14.57",
          "Run: 3 <br>Log-posterior score: 14.57",
          "Run: 4 <br>Log-posterior score: 14.57",
          "Run: 5 <br>Log-posterior score: 0.37",
          "Run: 6 <br>Log-posterior score: 14.57",
          "Run: 7 <br>Log-posterior score: -23.97",
          "Run: 8 <br>Log-posterior score: 14.57",
          "Run: 9 <br>Log-posterior score: 14.57",
          "Run: 10 <br>Log-posterior score: 14.57"
         ],
         "type": "box",
         "visible": true,
         "y": [
          1.3829938082834323,
          1.3829906490039883,
          1.3829897986027795,
          1.382990914676532,
          0.0623901280276276,
          1.382991748021834,
          0.00014028207840058928,
          1.3829897289951287,
          1.38299030198161,
          1.3829913757300227
         ]
        },
        {
         "boxpoints": "all",
         "hovertemplate": "Estimate: %{estimate:.2f}<br>%{text}",
         "jitter": 0.2,
         "line": {
          "color": "#19D3F3"
         },
         "marker": {
          "color": "#19D3F3",
          "line": {
           "color": "black",
           "width": 1
          },
          "opacity": 0.7,
          "symbol": "circle"
         },
         "name": "ID: 155",
         "pointpos": -1.5,
         "text": [
          "Run: 1 <br>Log-posterior score: 8.12",
          "Run: 2 <br>Log-posterior score: 8.12",
          "Run: 3 <br>Log-posterior score: 8.13",
          "Run: 4 <br>Log-posterior score: 8.13",
          "Run: 5 <br>Log-posterior score: nan",
          "Run: 6 <br>Log-posterior score: 8.13",
          "Run: 7 <br>Log-posterior score: 8.13",
          "Run: 8 <br>Log-posterior score: 8.13",
          "Run: 9 <br>Log-posterior score: 8.13",
          "Run: 10 <br>Log-posterior score: 8.13"
         ],
         "type": "box",
         "visible": true,
         "y": [
          0.0931526310005948,
          0.09175935674112591,
          0.09249167204610617,
          0.09247619832025605,
          null,
          0.09256715162169964,
          0.09246650905640834,
          0.0924765862930211,
          0.09251710590058933,
          0.0924665942284759
         ]
        },
        {
         "boxpoints": "all",
         "hovertemplate": "Estimate: %{estimate:.2f}<br>%{text}",
         "jitter": 0.2,
         "line": {
          "color": "#FF6692"
         },
         "marker": {
          "color": "#FF6692",
          "line": {
           "color": "black",
           "width": 1
          },
          "opacity": 0.7,
          "symbol": "circle"
         },
         "name": "ID: 169",
         "pointpos": -1.5,
         "text": [
          "Run: 1 <br>Log-posterior score: 38.63",
          "Run: 2 <br>Log-posterior score: 38.63",
          "Run: 3 <br>Log-posterior score: 38.63",
          "Run: 4 <br>Log-posterior score: 38.63",
          "Run: 5 <br>Log-posterior score: 38.63",
          "Run: 6 <br>Log-posterior score: 38.63",
          "Run: 7 <br>Log-posterior score: 38.63",
          "Run: 8 <br>Log-posterior score: 38.63",
          "Run: 9 <br>Log-posterior score: 38.63",
          "Run: 10 <br>Log-posterior score: 38.63"
         ],
         "type": "box",
         "visible": true,
         "y": [
          0.07088290865079436,
          0.07299928779284008,
          0.07088290625460625,
          0.07088290068424345,
          0.07039217722360436,
          0.07088290588617256,
          0.07039217191555623,
          0.07088291085126526,
          0.07088289864483052,
          0.07088290773493026
         ]
        },
        {
         "boxpoints": "all",
         "hovertemplate": "Estimate: %{estimate:.2f}<br>%{text}",
         "jitter": 0.2,
         "line": {
          "color": "#B6E880"
         },
         "marker": {
          "color": "#B6E880",
          "line": {
           "color": "black",
           "width": 1
          },
          "opacity": 0.7,
          "symbol": "circle"
         },
         "name": "ID: 170",
         "pointpos": -1.5,
         "text": [
          "Run: 1 <br>Log-posterior score: 38.87",
          "Run: 2 <br>Log-posterior score: 38.87",
          "Run: 3 <br>Log-posterior score: 38.87",
          "Run: 4 <br>Log-posterior score: 38.87",
          "Run: 5 <br>Log-posterior score: 38.87",
          "Run: 6 <br>Log-posterior score: 38.87",
          "Run: 7 <br>Log-posterior score: 38.87",
          "Run: 8 <br>Log-posterior score: 38.86",
          "Run: 9 <br>Log-posterior score: 38.87",
          "Run: 10 <br>Log-posterior score: 38.87"
         ],
         "type": "box",
         "visible": true,
         "y": [
          0.18704480883584632,
          0.18704478700233215,
          0.187044824129024,
          0.18704482745984258,
          0.1870448182253705,
          0.19865144265500642,
          0.18704480031784543,
          0.17397069829186892,
          0.18704472565001534,
          0.18704484755886094
         ]
        }
       ],
       "layout": {
        "autosize": true,
        "template": {
         "data": {
          "bar": [
           {
            "error_x": {
             "color": "#2a3f5f"
            },
            "error_y": {
             "color": "#2a3f5f"
            },
            "marker": {
             "line": {
              "color": "white",
              "width": 0.5
             }
            },
            "type": "bar"
           }
          ],
          "barpolar": [
           {
            "marker": {
             "line": {
              "color": "white",
              "width": 0.5
             }
            },
            "type": "barpolar"
           }
          ],
          "carpet": [
           {
            "aaxis": {
             "endlinecolor": "#2a3f5f",
             "gridcolor": "#C8D4E3",
             "linecolor": "#C8D4E3",
             "minorgridcolor": "#C8D4E3",
             "startlinecolor": "#2a3f5f"
            },
            "baxis": {
             "endlinecolor": "#2a3f5f",
             "gridcolor": "#C8D4E3",
             "linecolor": "#C8D4E3",
             "minorgridcolor": "#C8D4E3",
             "startlinecolor": "#2a3f5f"
            },
            "type": "carpet"
           }
          ],
          "choropleth": [
           {
            "colorbar": {
             "outlinewidth": 0,
             "ticks": ""
            },
            "type": "choropleth"
           }
          ],
          "contour": [
           {
            "colorbar": {
             "outlinewidth": 0,
             "ticks": ""
            },
            "colorscale": [
             [
              0,
              "#0d0887"
             ],
             [
              0.1111111111111111,
              "#46039f"
             ],
             [
              0.2222222222222222,
              "#7201a8"
             ],
             [
              0.3333333333333333,
              "#9c179e"
             ],
             [
              0.4444444444444444,
              "#bd3786"
             ],
             [
              0.5555555555555556,
              "#d8576b"
             ],
             [
              0.6666666666666666,
              "#ed7953"
             ],
             [
              0.7777777777777778,
              "#fb9f3a"
             ],
             [
              0.8888888888888888,
              "#fdca26"
             ],
             [
              1,
              "#f0f921"
             ]
            ],
            "type": "contour"
           }
          ],
          "contourcarpet": [
           {
            "colorbar": {
             "outlinewidth": 0,
             "ticks": ""
            },
            "type": "contourcarpet"
           }
          ],
          "heatmap": [
           {
            "colorbar": {
             "outlinewidth": 0,
             "ticks": ""
            },
            "colorscale": [
             [
              0,
              "#0d0887"
             ],
             [
              0.1111111111111111,
              "#46039f"
             ],
             [
              0.2222222222222222,
              "#7201a8"
             ],
             [
              0.3333333333333333,
              "#9c179e"
             ],
             [
              0.4444444444444444,
              "#bd3786"
             ],
             [
              0.5555555555555556,
              "#d8576b"
             ],
             [
              0.6666666666666666,
              "#ed7953"
             ],
             [
              0.7777777777777778,
              "#fb9f3a"
             ],
             [
              0.8888888888888888,
              "#fdca26"
             ],
             [
              1,
              "#f0f921"
             ]
            ],
            "type": "heatmap"
           }
          ],
          "heatmapgl": [
           {
            "colorbar": {
             "outlinewidth": 0,
             "ticks": ""
            },
            "colorscale": [
             [
              0,
              "#0d0887"
             ],
             [
              0.1111111111111111,
              "#46039f"
             ],
             [
              0.2222222222222222,
              "#7201a8"
             ],
             [
              0.3333333333333333,
              "#9c179e"
             ],
             [
              0.4444444444444444,
              "#bd3786"
             ],
             [
              0.5555555555555556,
              "#d8576b"
             ],
             [
              0.6666666666666666,
              "#ed7953"
             ],
             [
              0.7777777777777778,
              "#fb9f3a"
             ],
             [
              0.8888888888888888,
              "#fdca26"
             ],
             [
              1,
              "#f0f921"
             ]
            ],
            "type": "heatmapgl"
           }
          ],
          "histogram": [
           {
            "marker": {
             "colorbar": {
              "outlinewidth": 0,
              "ticks": ""
             }
            },
            "type": "histogram"
           }
          ],
          "histogram2d": [
           {
            "colorbar": {
             "outlinewidth": 0,
             "ticks": ""
            },
            "colorscale": [
             [
              0,
              "#0d0887"
             ],
             [
              0.1111111111111111,
              "#46039f"
             ],
             [
              0.2222222222222222,
              "#7201a8"
             ],
             [
              0.3333333333333333,
              "#9c179e"
             ],
             [
              0.4444444444444444,
              "#bd3786"
             ],
             [
              0.5555555555555556,
              "#d8576b"
             ],
             [
              0.6666666666666666,
              "#ed7953"
             ],
             [
              0.7777777777777778,
              "#fb9f3a"
             ],
             [
              0.8888888888888888,
              "#fdca26"
             ],
             [
              1,
              "#f0f921"
             ]
            ],
            "type": "histogram2d"
           }
          ],
          "histogram2dcontour": [
           {
            "colorbar": {
             "outlinewidth": 0,
             "ticks": ""
            },
            "colorscale": [
             [
              0,
              "#0d0887"
             ],
             [
              0.1111111111111111,
              "#46039f"
             ],
             [
              0.2222222222222222,
              "#7201a8"
             ],
             [
              0.3333333333333333,
              "#9c179e"
             ],
             [
              0.4444444444444444,
              "#bd3786"
             ],
             [
              0.5555555555555556,
              "#d8576b"
             ],
             [
              0.6666666666666666,
              "#ed7953"
             ],
             [
              0.7777777777777778,
              "#fb9f3a"
             ],
             [
              0.8888888888888888,
              "#fdca26"
             ],
             [
              1,
              "#f0f921"
             ]
            ],
            "type": "histogram2dcontour"
           }
          ],
          "mesh3d": [
           {
            "colorbar": {
             "outlinewidth": 0,
             "ticks": ""
            },
            "type": "mesh3d"
           }
          ],
          "parcoords": [
           {
            "line": {
             "colorbar": {
              "outlinewidth": 0,
              "ticks": ""
             }
            },
            "type": "parcoords"
           }
          ],
          "pie": [
           {
            "automargin": true,
            "type": "pie"
           }
          ],
          "scatter": [
           {
            "marker": {
             "colorbar": {
              "outlinewidth": 0,
              "ticks": ""
             }
            },
            "type": "scatter"
           }
          ],
          "scatter3d": [
           {
            "line": {
             "colorbar": {
              "outlinewidth": 0,
              "ticks": ""
             }
            },
            "marker": {
             "colorbar": {
              "outlinewidth": 0,
              "ticks": ""
             }
            },
            "type": "scatter3d"
           }
          ],
          "scattercarpet": [
           {
            "marker": {
             "colorbar": {
              "outlinewidth": 0,
              "ticks": ""
             }
            },
            "type": "scattercarpet"
           }
          ],
          "scattergeo": [
           {
            "marker": {
             "colorbar": {
              "outlinewidth": 0,
              "ticks": ""
             }
            },
            "type": "scattergeo"
           }
          ],
          "scattergl": [
           {
            "marker": {
             "colorbar": {
              "outlinewidth": 0,
              "ticks": ""
             }
            },
            "type": "scattergl"
           }
          ],
          "scattermapbox": [
           {
            "marker": {
             "colorbar": {
              "outlinewidth": 0,
              "ticks": ""
             }
            },
            "type": "scattermapbox"
           }
          ],
          "scatterpolar": [
           {
            "marker": {
             "colorbar": {
              "outlinewidth": 0,
              "ticks": ""
             }
            },
            "type": "scatterpolar"
           }
          ],
          "scatterpolargl": [
           {
            "marker": {
             "colorbar": {
              "outlinewidth": 0,
              "ticks": ""
             }
            },
            "type": "scatterpolargl"
           }
          ],
          "scatterternary": [
           {
            "marker": {
             "colorbar": {
              "outlinewidth": 0,
              "ticks": ""
             }
            },
            "type": "scatterternary"
           }
          ],
          "surface": [
           {
            "colorbar": {
             "outlinewidth": 0,
             "ticks": ""
            },
            "colorscale": [
             [
              0,
              "#0d0887"
             ],
             [
              0.1111111111111111,
              "#46039f"
             ],
             [
              0.2222222222222222,
              "#7201a8"
             ],
             [
              0.3333333333333333,
              "#9c179e"
             ],
             [
              0.4444444444444444,
              "#bd3786"
             ],
             [
              0.5555555555555556,
              "#d8576b"
             ],
             [
              0.6666666666666666,
              "#ed7953"
             ],
             [
              0.7777777777777778,
              "#fb9f3a"
             ],
             [
              0.8888888888888888,
              "#fdca26"
             ],
             [
              1,
              "#f0f921"
             ]
            ],
            "type": "surface"
           }
          ],
          "table": [
           {
            "cells": {
             "fill": {
              "color": "#EBF0F8"
             },
             "line": {
              "color": "white"
             }
            },
            "header": {
             "fill": {
              "color": "#C8D4E3"
             },
             "line": {
              "color": "white"
             }
            },
            "type": "table"
           }
          ]
         },
         "layout": {
          "annotationdefaults": {
           "arrowcolor": "#2a3f5f",
           "arrowhead": 0,
           "arrowwidth": 1
          },
          "coloraxis": {
           "colorbar": {
            "outlinewidth": 0,
            "ticks": ""
           }
          },
          "colorscale": {
           "diverging": [
            [
             0,
             "#8e0152"
            ],
            [
             0.1,
             "#c51b7d"
            ],
            [
             0.2,
             "#de77ae"
            ],
            [
             0.3,
             "#f1b6da"
            ],
            [
             0.4,
             "#fde0ef"
            ],
            [
             0.5,
             "#f7f7f7"
            ],
            [
             0.6,
             "#e6f5d0"
            ],
            [
             0.7,
             "#b8e186"
            ],
            [
             0.8,
             "#7fbc41"
            ],
            [
             0.9,
             "#4d9221"
            ],
            [
             1,
             "#276419"
            ]
           ],
           "sequential": [
            [
             0,
             "#0d0887"
            ],
            [
             0.1111111111111111,
             "#46039f"
            ],
            [
             0.2222222222222222,
             "#7201a8"
            ],
            [
             0.3333333333333333,
             "#9c179e"
            ],
            [
             0.4444444444444444,
             "#bd3786"
            ],
            [
             0.5555555555555556,
             "#d8576b"
            ],
            [
             0.6666666666666666,
             "#ed7953"
            ],
            [
             0.7777777777777778,
             "#fb9f3a"
            ],
            [
             0.8888888888888888,
             "#fdca26"
            ],
            [
             1,
             "#f0f921"
            ]
           ],
           "sequentialminus": [
            [
             0,
             "#0d0887"
            ],
            [
             0.1111111111111111,
             "#46039f"
            ],
            [
             0.2222222222222222,
             "#7201a8"
            ],
            [
             0.3333333333333333,
             "#9c179e"
            ],
            [
             0.4444444444444444,
             "#bd3786"
            ],
            [
             0.5555555555555556,
             "#d8576b"
            ],
            [
             0.6666666666666666,
             "#ed7953"
            ],
            [
             0.7777777777777778,
             "#fb9f3a"
            ],
            [
             0.8888888888888888,
             "#fdca26"
            ],
            [
             1,
             "#f0f921"
            ]
           ]
          },
          "colorway": [
           "#636efa",
           "#EF553B",
           "#00cc96",
           "#ab63fa",
           "#FFA15A",
           "#19d3f3",
           "#FF6692",
           "#B6E880",
           "#FF97FF",
           "#FECB52"
          ],
          "font": {
           "color": "#2a3f5f"
          },
          "geo": {
           "bgcolor": "white",
           "lakecolor": "white",
           "landcolor": "white",
           "showlakes": true,
           "showland": true,
           "subunitcolor": "#C8D4E3"
          },
          "hoverlabel": {
           "align": "left"
          },
          "hovermode": "closest",
          "mapbox": {
           "style": "light"
          },
          "paper_bgcolor": "white",
          "plot_bgcolor": "white",
          "polar": {
           "angularaxis": {
            "gridcolor": "#EBF0F8",
            "linecolor": "#EBF0F8",
            "ticks": ""
           },
           "bgcolor": "white",
           "radialaxis": {
            "gridcolor": "#EBF0F8",
            "linecolor": "#EBF0F8",
            "ticks": ""
           }
          },
          "scene": {
           "xaxis": {
            "backgroundcolor": "white",
            "gridcolor": "#DFE8F3",
            "gridwidth": 2,
            "linecolor": "#EBF0F8",
            "showbackground": true,
            "ticks": "",
            "zerolinecolor": "#EBF0F8"
           },
           "yaxis": {
            "backgroundcolor": "white",
            "gridcolor": "#DFE8F3",
            "gridwidth": 2,
            "linecolor": "#EBF0F8",
            "showbackground": true,
            "ticks": "",
            "zerolinecolor": "#EBF0F8"
           },
           "zaxis": {
            "backgroundcolor": "white",
            "gridcolor": "#DFE8F3",
            "gridwidth": 2,
            "linecolor": "#EBF0F8",
            "showbackground": true,
            "ticks": "",
            "zerolinecolor": "#EBF0F8"
           }
          },
          "shapedefaults": {
           "line": {
            "color": "#2a3f5f"
           }
          },
          "ternary": {
           "aaxis": {
            "gridcolor": "#DFE8F3",
            "linecolor": "#A2B1C6",
            "ticks": ""
           },
           "baxis": {
            "gridcolor": "#DFE8F3",
            "linecolor": "#A2B1C6",
            "ticks": ""
           },
           "bgcolor": "white",
           "caxis": {
            "gridcolor": "#DFE8F3",
            "linecolor": "#A2B1C6",
            "ticks": ""
           }
          },
          "title": {
           "x": 0.05
          },
          "xaxis": {
           "automargin": true,
           "gridcolor": "#EBF0F8",
           "linecolor": "#EBF0F8",
           "ticks": "",
           "title": {
            "standoff": 15
           },
           "zerolinecolor": "#EBF0F8",
           "zerolinewidth": 2
          },
          "yaxis": {
           "automargin": true,
           "gridcolor": "#EBF0F8",
           "linecolor": "#EBF0F8",
           "ticks": "",
           "title": {
            "standoff": 15
           },
           "zerolinecolor": "#EBF0F8",
           "zerolinewidth": 2
          }
         }
        },
        "updatemenus": [
         {
          "buttons": [
           {
            "args": [
             {
              "yaxis.type": "linear"
             }
            ],
            "label": "Linear y-scale",
            "method": "relayout"
           },
           {
            "args": [
             {
              "yaxis.type": "log"
             }
            ],
            "label": "Log y-scale",
            "method": "relayout"
           }
          ],
          "direction": "left",
          "pad": {
           "r": 0,
           "t": -10
          },
          "showactive": true,
          "type": "buttons",
          "x": 0,
          "xanchor": "left",
          "y": 1.15,
          "yanchor": "top"
         }
        ],
        "yaxis": {
         "title": {
          "text": "myokit.lambda_1"
         }
        }
       }
      }
     },
     "metadata": {}
    },
    {
     "output_type": "display_data",
     "data": {
      "application/vnd.plotly.v1+json": {
       "config": {
        "plotlyServerURL": "https://plot.ly"
       },
       "data": [
        {
         "boxpoints": "all",
         "hovertemplate": "Estimate: %{estimate:.2f}<br>%{text}",
         "jitter": 0.2,
         "line": {
          "color": "#636EFA"
         },
         "marker": {
          "color": "#636EFA",
          "line": {
           "color": "black",
           "width": 1
          },
          "opacity": 0.7,
          "symbol": "circle"
         },
         "name": "ID: 40",
         "pointpos": -1.5,
         "text": [
          "Run: 1 <br>Log-posterior score: 12.77",
          "Run: 2 <br>Log-posterior score: 12.77",
          "Run: 3 <br>Log-posterior score: 12.77",
          "Run: 4 <br>Log-posterior score: 12.78",
          "Run: 5 <br>Log-posterior score: 12.77",
          "Run: 6 <br>Log-posterior score: 12.77",
          "Run: 7 <br>Log-posterior score: 12.78",
          "Run: 8 <br>Log-posterior score: 12.77",
          "Run: 9 <br>Log-posterior score: 12.77",
          "Run: 10 <br>Log-posterior score: 2.68"
         ],
         "type": "box",
         "visible": true,
         "y": [
          0.03808939165299523,
          0.03807113600301483,
          0.038071171188649826,
          0.0372764028256419,
          0.038089051394511166,
          0.038071507014484904,
          0.03727661649698852,
          0.03809017747591405,
          0.03768546159652341,
          0.08272604302114636
         ]
        },
        {
         "boxpoints": "all",
         "hovertemplate": "Estimate: %{estimate:.2f}<br>%{text}",
         "jitter": 0.2,
         "line": {
          "color": "#EF553B"
         },
         "marker": {
          "color": "#EF553B",
          "line": {
           "color": "black",
           "width": 1
          },
          "opacity": 0.7,
          "symbol": "circle"
         },
         "name": "ID: 94",
         "pointpos": -1.5,
         "text": [
          "Run: 1 <br>Log-posterior score: 33.91",
          "Run: 2 <br>Log-posterior score: 33.91",
          "Run: 3 <br>Log-posterior score: 33.91",
          "Run: 4 <br>Log-posterior score: 33.91",
          "Run: 5 <br>Log-posterior score: 33.91",
          "Run: 6 <br>Log-posterior score: 33.91",
          "Run: 7 <br>Log-posterior score: 33.91",
          "Run: 8 <br>Log-posterior score: 33.91",
          "Run: 9 <br>Log-posterior score: -3.78",
          "Run: 10 <br>Log-posterior score: 33.90"
         ],
         "type": "box",
         "visible": true,
         "y": [
          7.597669453992928e-14,
          4.674853211861862e-15,
          2.514723803444304e-13,
          9.304681899639348e-14,
          3.7124740800250677e-14,
          1.099697393431725e-13,
          1.544988367061845e-14,
          1.5560941565864361e-13,
          0.031352834202672986,
          1.5420409796891479e-13
         ]
        },
        {
         "boxpoints": "all",
         "hovertemplate": "Estimate: %{estimate:.2f}<br>%{text}",
         "jitter": 0.2,
         "line": {
          "color": "#00CC96"
         },
         "marker": {
          "color": "#00CC96",
          "line": {
           "color": "black",
           "width": 1
          },
          "opacity": 0.7,
          "symbol": "circle"
         },
         "name": "ID: 95",
         "pointpos": -1.5,
         "text": [
          "Run: 1 <br>Log-posterior score: 6.61",
          "Run: 2 <br>Log-posterior score: 6.61",
          "Run: 3 <br>Log-posterior score: 6.60",
          "Run: 4 <br>Log-posterior score: 6.46",
          "Run: 5 <br>Log-posterior score: 6.46",
          "Run: 6 <br>Log-posterior score: 6.46",
          "Run: 7 <br>Log-posterior score: 6.61",
          "Run: 8 <br>Log-posterior score: 6.46",
          "Run: 9 <br>Log-posterior score: 6.61",
          "Run: 10 <br>Log-posterior score: 6.61"
         ],
         "type": "box",
         "visible": true,
         "y": [
          9.239261561871619e-14,
          5.021461194030503e-13,
          2.3626287062281177e-11,
          0.03424358833584309,
          0.034243561938106674,
          0.03424357483191304,
          6.95741655507685e-13,
          0.03424358049903385,
          6.240779582466956e-13,
          1.433128108366227e-13
         ]
        },
        {
         "boxpoints": "all",
         "hovertemplate": "Estimate: %{estimate:.2f}<br>%{text}",
         "jitter": 0.2,
         "line": {
          "color": "#AB63FA"
         },
         "marker": {
          "color": "#AB63FA",
          "line": {
           "color": "black",
           "width": 1
          },
          "opacity": 0.7,
          "symbol": "circle"
         },
         "name": "ID: 136",
         "pointpos": -1.5,
         "text": [
          "Run: 1 <br>Log-posterior score: 23.32",
          "Run: 2 <br>Log-posterior score: 23.32",
          "Run: 3 <br>Log-posterior score: 23.32",
          "Run: 4 <br>Log-posterior score: 23.32",
          "Run: 5 <br>Log-posterior score: 23.32",
          "Run: 6 <br>Log-posterior score: 23.32",
          "Run: 7 <br>Log-posterior score: 23.32",
          "Run: 8 <br>Log-posterior score: 23.32",
          "Run: 9 <br>Log-posterior score: 23.32",
          "Run: 10 <br>Log-posterior score: 23.32"
         ],
         "type": "box",
         "visible": true,
         "y": [
          0.004065148727443731,
          0.004259952500519524,
          0.004065156366994318,
          0.0042599603378973986,
          0.004259962843496539,
          0.004065151440240373,
          0.004065158570043943,
          0.0042599754955070625,
          0.00406514315501988,
          0.004259957559281022
         ]
        },
        {
         "boxpoints": "all",
         "hovertemplate": "Estimate: %{estimate:.2f}<br>%{text}",
         "jitter": 0.2,
         "line": {
          "color": "#FFA15A"
         },
         "marker": {
          "color": "#FFA15A",
          "line": {
           "color": "black",
           "width": 1
          },
          "opacity": 0.7,
          "symbol": "circle"
         },
         "name": "ID: 140",
         "pointpos": -1.5,
         "text": [
          "Run: 1 <br>Log-posterior score: 14.57",
          "Run: 2 <br>Log-posterior score: 14.57",
          "Run: 3 <br>Log-posterior score: 14.57",
          "Run: 4 <br>Log-posterior score: 14.57",
          "Run: 5 <br>Log-posterior score: 0.37",
          "Run: 6 <br>Log-posterior score: 14.57",
          "Run: 7 <br>Log-posterior score: -23.97",
          "Run: 8 <br>Log-posterior score: 14.57",
          "Run: 9 <br>Log-posterior score: 14.57",
          "Run: 10 <br>Log-posterior score: 14.57"
         ],
         "type": "box",
         "visible": true,
         "y": [
          0.00848865555345503,
          0.008488663735254346,
          0.008488626511577026,
          0.008488635847376939,
          0.09949852850351425,
          0.008488653793623043,
          0.07382371796885771,
          0.008488643836599748,
          0.008488656042509974,
          0.008488642068160369
         ]
        },
        {
         "boxpoints": "all",
         "hovertemplate": "Estimate: %{estimate:.2f}<br>%{text}",
         "jitter": 0.2,
         "line": {
          "color": "#19D3F3"
         },
         "marker": {
          "color": "#19D3F3",
          "line": {
           "color": "black",
           "width": 1
          },
          "opacity": 0.7,
          "symbol": "circle"
         },
         "name": "ID: 155",
         "pointpos": -1.5,
         "text": [
          "Run: 1 <br>Log-posterior score: 8.12",
          "Run: 2 <br>Log-posterior score: 8.12",
          "Run: 3 <br>Log-posterior score: 8.13",
          "Run: 4 <br>Log-posterior score: 8.13",
          "Run: 5 <br>Log-posterior score: nan",
          "Run: 6 <br>Log-posterior score: 8.13",
          "Run: 7 <br>Log-posterior score: 8.13",
          "Run: 8 <br>Log-posterior score: 8.13",
          "Run: 9 <br>Log-posterior score: 8.13",
          "Run: 10 <br>Log-posterior score: 8.13"
         ],
         "type": "box",
         "visible": true,
         "y": [
          4.115871107552222e-12,
          2.4635456970938317e-11,
          8.202157673880958e-7,
          4.2335550692786054e-10,
          null,
          0.0000014094955764367199,
          0.0000010690086324950753,
          7.00459452877722e-11,
          0.000008103329801706082,
          3.79003399215219e-12
         ]
        },
        {
         "boxpoints": "all",
         "hovertemplate": "Estimate: %{estimate:.2f}<br>%{text}",
         "jitter": 0.2,
         "line": {
          "color": "#FF6692"
         },
         "marker": {
          "color": "#FF6692",
          "line": {
           "color": "black",
           "width": 1
          },
          "opacity": 0.7,
          "symbol": "circle"
         },
         "name": "ID: 169",
         "pointpos": -1.5,
         "text": [
          "Run: 1 <br>Log-posterior score: 38.63",
          "Run: 2 <br>Log-posterior score: 38.63",
          "Run: 3 <br>Log-posterior score: 38.63",
          "Run: 4 <br>Log-posterior score: 38.63",
          "Run: 5 <br>Log-posterior score: 38.63",
          "Run: 6 <br>Log-posterior score: 38.63",
          "Run: 7 <br>Log-posterior score: 38.63",
          "Run: 8 <br>Log-posterior score: 38.63",
          "Run: 9 <br>Log-posterior score: 38.63",
          "Run: 10 <br>Log-posterior score: 38.63"
         ],
         "type": "box",
         "visible": true,
         "y": [
          0.005572044235910905,
          0.005700496347702443,
          0.005572060888970031,
          0.005572041593571692,
          0.005538436195564623,
          0.0055720432388108405,
          0.005538437504595938,
          0.005572031383580442,
          0.005572017816131981,
          0.005572058180497027
         ]
        },
        {
         "boxpoints": "all",
         "hovertemplate": "Estimate: %{estimate:.2f}<br>%{text}",
         "jitter": 0.2,
         "line": {
          "color": "#B6E880"
         },
         "marker": {
          "color": "#B6E880",
          "line": {
           "color": "black",
           "width": 1
          },
          "opacity": 0.7,
          "symbol": "circle"
         },
         "name": "ID: 170",
         "pointpos": -1.5,
         "text": [
          "Run: 1 <br>Log-posterior score: 38.87",
          "Run: 2 <br>Log-posterior score: 38.87",
          "Run: 3 <br>Log-posterior score: 38.87",
          "Run: 4 <br>Log-posterior score: 38.87",
          "Run: 5 <br>Log-posterior score: 38.87",
          "Run: 6 <br>Log-posterior score: 38.87",
          "Run: 7 <br>Log-posterior score: 38.87",
          "Run: 8 <br>Log-posterior score: 38.86",
          "Run: 9 <br>Log-posterior score: 38.87",
          "Run: 10 <br>Log-posterior score: 38.87"
         ],
         "type": "box",
         "visible": true,
         "y": [
          0.011748303227740857,
          0.011748297638802451,
          0.011748296288044352,
          0.011748323061194115,
          0.011748307148804258,
          0.011797198761922787,
          0.011748324557027125,
          0.011686999345653063,
          0.011748292834200074,
          0.011748296924447102
         ]
        }
       ],
       "layout": {
        "autosize": true,
        "template": {
         "data": {
          "bar": [
           {
            "error_x": {
             "color": "#2a3f5f"
            },
            "error_y": {
             "color": "#2a3f5f"
            },
            "marker": {
             "line": {
              "color": "white",
              "width": 0.5
             }
            },
            "type": "bar"
           }
          ],
          "barpolar": [
           {
            "marker": {
             "line": {
              "color": "white",
              "width": 0.5
             }
            },
            "type": "barpolar"
           }
          ],
          "carpet": [
           {
            "aaxis": {
             "endlinecolor": "#2a3f5f",
             "gridcolor": "#C8D4E3",
             "linecolor": "#C8D4E3",
             "minorgridcolor": "#C8D4E3",
             "startlinecolor": "#2a3f5f"
            },
            "baxis": {
             "endlinecolor": "#2a3f5f",
             "gridcolor": "#C8D4E3",
             "linecolor": "#C8D4E3",
             "minorgridcolor": "#C8D4E3",
             "startlinecolor": "#2a3f5f"
            },
            "type": "carpet"
           }
          ],
          "choropleth": [
           {
            "colorbar": {
             "outlinewidth": 0,
             "ticks": ""
            },
            "type": "choropleth"
           }
          ],
          "contour": [
           {
            "colorbar": {
             "outlinewidth": 0,
             "ticks": ""
            },
            "colorscale": [
             [
              0,
              "#0d0887"
             ],
             [
              0.1111111111111111,
              "#46039f"
             ],
             [
              0.2222222222222222,
              "#7201a8"
             ],
             [
              0.3333333333333333,
              "#9c179e"
             ],
             [
              0.4444444444444444,
              "#bd3786"
             ],
             [
              0.5555555555555556,
              "#d8576b"
             ],
             [
              0.6666666666666666,
              "#ed7953"
             ],
             [
              0.7777777777777778,
              "#fb9f3a"
             ],
             [
              0.8888888888888888,
              "#fdca26"
             ],
             [
              1,
              "#f0f921"
             ]
            ],
            "type": "contour"
           }
          ],
          "contourcarpet": [
           {
            "colorbar": {
             "outlinewidth": 0,
             "ticks": ""
            },
            "type": "contourcarpet"
           }
          ],
          "heatmap": [
           {
            "colorbar": {
             "outlinewidth": 0,
             "ticks": ""
            },
            "colorscale": [
             [
              0,
              "#0d0887"
             ],
             [
              0.1111111111111111,
              "#46039f"
             ],
             [
              0.2222222222222222,
              "#7201a8"
             ],
             [
              0.3333333333333333,
              "#9c179e"
             ],
             [
              0.4444444444444444,
              "#bd3786"
             ],
             [
              0.5555555555555556,
              "#d8576b"
             ],
             [
              0.6666666666666666,
              "#ed7953"
             ],
             [
              0.7777777777777778,
              "#fb9f3a"
             ],
             [
              0.8888888888888888,
              "#fdca26"
             ],
             [
              1,
              "#f0f921"
             ]
            ],
            "type": "heatmap"
           }
          ],
          "heatmapgl": [
           {
            "colorbar": {
             "outlinewidth": 0,
             "ticks": ""
            },
            "colorscale": [
             [
              0,
              "#0d0887"
             ],
             [
              0.1111111111111111,
              "#46039f"
             ],
             [
              0.2222222222222222,
              "#7201a8"
             ],
             [
              0.3333333333333333,
              "#9c179e"
             ],
             [
              0.4444444444444444,
              "#bd3786"
             ],
             [
              0.5555555555555556,
              "#d8576b"
             ],
             [
              0.6666666666666666,
              "#ed7953"
             ],
             [
              0.7777777777777778,
              "#fb9f3a"
             ],
             [
              0.8888888888888888,
              "#fdca26"
             ],
             [
              1,
              "#f0f921"
             ]
            ],
            "type": "heatmapgl"
           }
          ],
          "histogram": [
           {
            "marker": {
             "colorbar": {
              "outlinewidth": 0,
              "ticks": ""
             }
            },
            "type": "histogram"
           }
          ],
          "histogram2d": [
           {
            "colorbar": {
             "outlinewidth": 0,
             "ticks": ""
            },
            "colorscale": [
             [
              0,
              "#0d0887"
             ],
             [
              0.1111111111111111,
              "#46039f"
             ],
             [
              0.2222222222222222,
              "#7201a8"
             ],
             [
              0.3333333333333333,
              "#9c179e"
             ],
             [
              0.4444444444444444,
              "#bd3786"
             ],
             [
              0.5555555555555556,
              "#d8576b"
             ],
             [
              0.6666666666666666,
              "#ed7953"
             ],
             [
              0.7777777777777778,
              "#fb9f3a"
             ],
             [
              0.8888888888888888,
              "#fdca26"
             ],
             [
              1,
              "#f0f921"
             ]
            ],
            "type": "histogram2d"
           }
          ],
          "histogram2dcontour": [
           {
            "colorbar": {
             "outlinewidth": 0,
             "ticks": ""
            },
            "colorscale": [
             [
              0,
              "#0d0887"
             ],
             [
              0.1111111111111111,
              "#46039f"
             ],
             [
              0.2222222222222222,
              "#7201a8"
             ],
             [
              0.3333333333333333,
              "#9c179e"
             ],
             [
              0.4444444444444444,
              "#bd3786"
             ],
             [
              0.5555555555555556,
              "#d8576b"
             ],
             [
              0.6666666666666666,
              "#ed7953"
             ],
             [
              0.7777777777777778,
              "#fb9f3a"
             ],
             [
              0.8888888888888888,
              "#fdca26"
             ],
             [
              1,
              "#f0f921"
             ]
            ],
            "type": "histogram2dcontour"
           }
          ],
          "mesh3d": [
           {
            "colorbar": {
             "outlinewidth": 0,
             "ticks": ""
            },
            "type": "mesh3d"
           }
          ],
          "parcoords": [
           {
            "line": {
             "colorbar": {
              "outlinewidth": 0,
              "ticks": ""
             }
            },
            "type": "parcoords"
           }
          ],
          "pie": [
           {
            "automargin": true,
            "type": "pie"
           }
          ],
          "scatter": [
           {
            "marker": {
             "colorbar": {
              "outlinewidth": 0,
              "ticks": ""
             }
            },
            "type": "scatter"
           }
          ],
          "scatter3d": [
           {
            "line": {
             "colorbar": {
              "outlinewidth": 0,
              "ticks": ""
             }
            },
            "marker": {
             "colorbar": {
              "outlinewidth": 0,
              "ticks": ""
             }
            },
            "type": "scatter3d"
           }
          ],
          "scattercarpet": [
           {
            "marker": {
             "colorbar": {
              "outlinewidth": 0,
              "ticks": ""
             }
            },
            "type": "scattercarpet"
           }
          ],
          "scattergeo": [
           {
            "marker": {
             "colorbar": {
              "outlinewidth": 0,
              "ticks": ""
             }
            },
            "type": "scattergeo"
           }
          ],
          "scattergl": [
           {
            "marker": {
             "colorbar": {
              "outlinewidth": 0,
              "ticks": ""
             }
            },
            "type": "scattergl"
           }
          ],
          "scattermapbox": [
           {
            "marker": {
             "colorbar": {
              "outlinewidth": 0,
              "ticks": ""
             }
            },
            "type": "scattermapbox"
           }
          ],
          "scatterpolar": [
           {
            "marker": {
             "colorbar": {
              "outlinewidth": 0,
              "ticks": ""
             }
            },
            "type": "scatterpolar"
           }
          ],
          "scatterpolargl": [
           {
            "marker": {
             "colorbar": {
              "outlinewidth": 0,
              "ticks": ""
             }
            },
            "type": "scatterpolargl"
           }
          ],
          "scatterternary": [
           {
            "marker": {
             "colorbar": {
              "outlinewidth": 0,
              "ticks": ""
             }
            },
            "type": "scatterternary"
           }
          ],
          "surface": [
           {
            "colorbar": {
             "outlinewidth": 0,
             "ticks": ""
            },
            "colorscale": [
             [
              0,
              "#0d0887"
             ],
             [
              0.1111111111111111,
              "#46039f"
             ],
             [
              0.2222222222222222,
              "#7201a8"
             ],
             [
              0.3333333333333333,
              "#9c179e"
             ],
             [
              0.4444444444444444,
              "#bd3786"
             ],
             [
              0.5555555555555556,
              "#d8576b"
             ],
             [
              0.6666666666666666,
              "#ed7953"
             ],
             [
              0.7777777777777778,
              "#fb9f3a"
             ],
             [
              0.8888888888888888,
              "#fdca26"
             ],
             [
              1,
              "#f0f921"
             ]
            ],
            "type": "surface"
           }
          ],
          "table": [
           {
            "cells": {
             "fill": {
              "color": "#EBF0F8"
             },
             "line": {
              "color": "white"
             }
            },
            "header": {
             "fill": {
              "color": "#C8D4E3"
             },
             "line": {
              "color": "white"
             }
            },
            "type": "table"
           }
          ]
         },
         "layout": {
          "annotationdefaults": {
           "arrowcolor": "#2a3f5f",
           "arrowhead": 0,
           "arrowwidth": 1
          },
          "coloraxis": {
           "colorbar": {
            "outlinewidth": 0,
            "ticks": ""
           }
          },
          "colorscale": {
           "diverging": [
            [
             0,
             "#8e0152"
            ],
            [
             0.1,
             "#c51b7d"
            ],
            [
             0.2,
             "#de77ae"
            ],
            [
             0.3,
             "#f1b6da"
            ],
            [
             0.4,
             "#fde0ef"
            ],
            [
             0.5,
             "#f7f7f7"
            ],
            [
             0.6,
             "#e6f5d0"
            ],
            [
             0.7,
             "#b8e186"
            ],
            [
             0.8,
             "#7fbc41"
            ],
            [
             0.9,
             "#4d9221"
            ],
            [
             1,
             "#276419"
            ]
           ],
           "sequential": [
            [
             0,
             "#0d0887"
            ],
            [
             0.1111111111111111,
             "#46039f"
            ],
            [
             0.2222222222222222,
             "#7201a8"
            ],
            [
             0.3333333333333333,
             "#9c179e"
            ],
            [
             0.4444444444444444,
             "#bd3786"
            ],
            [
             0.5555555555555556,
             "#d8576b"
            ],
            [
             0.6666666666666666,
             "#ed7953"
            ],
            [
             0.7777777777777778,
             "#fb9f3a"
            ],
            [
             0.8888888888888888,
             "#fdca26"
            ],
            [
             1,
             "#f0f921"
            ]
           ],
           "sequentialminus": [
            [
             0,
             "#0d0887"
            ],
            [
             0.1111111111111111,
             "#46039f"
            ],
            [
             0.2222222222222222,
             "#7201a8"
            ],
            [
             0.3333333333333333,
             "#9c179e"
            ],
            [
             0.4444444444444444,
             "#bd3786"
            ],
            [
             0.5555555555555556,
             "#d8576b"
            ],
            [
             0.6666666666666666,
             "#ed7953"
            ],
            [
             0.7777777777777778,
             "#fb9f3a"
            ],
            [
             0.8888888888888888,
             "#fdca26"
            ],
            [
             1,
             "#f0f921"
            ]
           ]
          },
          "colorway": [
           "#636efa",
           "#EF553B",
           "#00cc96",
           "#ab63fa",
           "#FFA15A",
           "#19d3f3",
           "#FF6692",
           "#B6E880",
           "#FF97FF",
           "#FECB52"
          ],
          "font": {
           "color": "#2a3f5f"
          },
          "geo": {
           "bgcolor": "white",
           "lakecolor": "white",
           "landcolor": "white",
           "showlakes": true,
           "showland": true,
           "subunitcolor": "#C8D4E3"
          },
          "hoverlabel": {
           "align": "left"
          },
          "hovermode": "closest",
          "mapbox": {
           "style": "light"
          },
          "paper_bgcolor": "white",
          "plot_bgcolor": "white",
          "polar": {
           "angularaxis": {
            "gridcolor": "#EBF0F8",
            "linecolor": "#EBF0F8",
            "ticks": ""
           },
           "bgcolor": "white",
           "radialaxis": {
            "gridcolor": "#EBF0F8",
            "linecolor": "#EBF0F8",
            "ticks": ""
           }
          },
          "scene": {
           "xaxis": {
            "backgroundcolor": "white",
            "gridcolor": "#DFE8F3",
            "gridwidth": 2,
            "linecolor": "#EBF0F8",
            "showbackground": true,
            "ticks": "",
            "zerolinecolor": "#EBF0F8"
           },
           "yaxis": {
            "backgroundcolor": "white",
            "gridcolor": "#DFE8F3",
            "gridwidth": 2,
            "linecolor": "#EBF0F8",
            "showbackground": true,
            "ticks": "",
            "zerolinecolor": "#EBF0F8"
           },
           "zaxis": {
            "backgroundcolor": "white",
            "gridcolor": "#DFE8F3",
            "gridwidth": 2,
            "linecolor": "#EBF0F8",
            "showbackground": true,
            "ticks": "",
            "zerolinecolor": "#EBF0F8"
           }
          },
          "shapedefaults": {
           "line": {
            "color": "#2a3f5f"
           }
          },
          "ternary": {
           "aaxis": {
            "gridcolor": "#DFE8F3",
            "linecolor": "#A2B1C6",
            "ticks": ""
           },
           "baxis": {
            "gridcolor": "#DFE8F3",
            "linecolor": "#A2B1C6",
            "ticks": ""
           },
           "bgcolor": "white",
           "caxis": {
            "gridcolor": "#DFE8F3",
            "linecolor": "#A2B1C6",
            "ticks": ""
           }
          },
          "title": {
           "x": 0.05
          },
          "xaxis": {
           "automargin": true,
           "gridcolor": "#EBF0F8",
           "linecolor": "#EBF0F8",
           "ticks": "",
           "title": {
            "standoff": 15
           },
           "zerolinecolor": "#EBF0F8",
           "zerolinewidth": 2
          },
          "yaxis": {
           "automargin": true,
           "gridcolor": "#EBF0F8",
           "linecolor": "#EBF0F8",
           "ticks": "",
           "title": {
            "standoff": 15
           },
           "zerolinecolor": "#EBF0F8",
           "zerolinewidth": 2
          }
         }
        },
        "updatemenus": [
         {
          "buttons": [
           {
            "args": [
             {
              "yaxis.type": "linear"
             }
            ],
            "label": "Linear y-scale",
            "method": "relayout"
           },
           {
            "args": [
             {
              "yaxis.type": "log"
             }
            ],
            "label": "Log y-scale",
            "method": "relayout"
           }
          ],
          "direction": "left",
          "pad": {
           "r": 0,
           "t": -10
          },
          "showactive": true,
          "type": "buttons",
          "x": 0,
          "xanchor": "left",
          "y": 1.15,
          "yanchor": "top"
         }
        ],
        "yaxis": {
         "title": {
          "text": "noise 1"
         }
        }
       }
      }
     },
     "metadata": {}
    },
    {
     "output_type": "display_data",
     "data": {
      "application/vnd.plotly.v1+json": {
       "config": {
        "plotlyServerURL": "https://plot.ly"
       },
       "data": [
        {
         "boxpoints": "all",
         "hovertemplate": "Estimate: %{estimate:.2f}<br>%{text}",
         "jitter": 0.2,
         "line": {
          "color": "#636EFA"
         },
         "marker": {
          "color": "#636EFA",
          "line": {
           "color": "black",
           "width": 1
          },
          "opacity": 0.7,
          "symbol": "circle"
         },
         "name": "ID: 40",
         "pointpos": -1.5,
         "text": [
          "Run: 1 <br>Log-posterior score: 12.77",
          "Run: 2 <br>Log-posterior score: 12.77",
          "Run: 3 <br>Log-posterior score: 12.77",
          "Run: 4 <br>Log-posterior score: 12.78",
          "Run: 5 <br>Log-posterior score: 12.77",
          "Run: 6 <br>Log-posterior score: 12.77",
          "Run: 7 <br>Log-posterior score: 12.78",
          "Run: 8 <br>Log-posterior score: 12.77",
          "Run: 9 <br>Log-posterior score: 12.77",
          "Run: 10 <br>Log-posterior score: 2.68"
         ],
         "type": "box",
         "visible": true,
         "y": [
          0.015856907198404244,
          0.015875645720758093,
          0.015875612862674006,
          0.016730899860987282,
          0.015857233673056338,
          0.01587549061019713,
          0.01673139501035995,
          0.015856958871743848,
          0.01623659309028352,
          0.00000629434700061329
         ]
        },
        {
         "boxpoints": "all",
         "hovertemplate": "Estimate: %{estimate:.2f}<br>%{text}",
         "jitter": 0.2,
         "line": {
          "color": "#EF553B"
         },
         "marker": {
          "color": "#EF553B",
          "line": {
           "color": "black",
           "width": 1
          },
          "opacity": 0.7,
          "symbol": "circle"
         },
         "name": "ID: 94",
         "pointpos": -1.5,
         "text": [
          "Run: 1 <br>Log-posterior score: 33.91",
          "Run: 2 <br>Log-posterior score: 33.91",
          "Run: 3 <br>Log-posterior score: 33.91",
          "Run: 4 <br>Log-posterior score: 33.91",
          "Run: 5 <br>Log-posterior score: 33.91",
          "Run: 6 <br>Log-posterior score: 33.91",
          "Run: 7 <br>Log-posterior score: 33.91",
          "Run: 8 <br>Log-posterior score: 33.91",
          "Run: 9 <br>Log-posterior score: -3.78",
          "Run: 10 <br>Log-posterior score: 33.90"
         ],
         "type": "box",
         "visible": true,
         "y": [
          0.07166563757437083,
          0.07166560401815827,
          0.07166566077253364,
          0.07166562785254521,
          0.07166566114159051,
          0.07166565664338323,
          0.07166568940357239,
          0.07166567002736887,
          0.6338964848833726,
          0.07170416965958902
         ]
        },
        {
         "boxpoints": "all",
         "hovertemplate": "Estimate: %{estimate:.2f}<br>%{text}",
         "jitter": 0.2,
         "line": {
          "color": "#00CC96"
         },
         "marker": {
          "color": "#00CC96",
          "line": {
           "color": "black",
           "width": 1
          },
          "opacity": 0.7,
          "symbol": "circle"
         },
         "name": "ID: 95",
         "pointpos": -1.5,
         "text": [
          "Run: 1 <br>Log-posterior score: 6.61",
          "Run: 2 <br>Log-posterior score: 6.61",
          "Run: 3 <br>Log-posterior score: 6.60",
          "Run: 4 <br>Log-posterior score: 6.46",
          "Run: 5 <br>Log-posterior score: 6.46",
          "Run: 6 <br>Log-posterior score: 6.46",
          "Run: 7 <br>Log-posterior score: 6.61",
          "Run: 8 <br>Log-posterior score: 6.46",
          "Run: 9 <br>Log-posterior score: 6.61",
          "Run: 10 <br>Log-posterior score: 6.61"
         ],
         "type": "box",
         "visible": true,
         "y": [
          0.1420423963203191,
          0.1420420700365031,
          0.142177770207574,
          0.08526365574601585,
          0.08526365758441105,
          0.08526361125381733,
          0.14204234110398925,
          0.08526355940798493,
          0.14204209901411025,
          0.14204188625778896
         ]
        },
        {
         "boxpoints": "all",
         "hovertemplate": "Estimate: %{estimate:.2f}<br>%{text}",
         "jitter": 0.2,
         "line": {
          "color": "#AB63FA"
         },
         "marker": {
          "color": "#AB63FA",
          "line": {
           "color": "black",
           "width": 1
          },
          "opacity": 0.7,
          "symbol": "circle"
         },
         "name": "ID: 136",
         "pointpos": -1.5,
         "text": [
          "Run: 1 <br>Log-posterior score: 23.32",
          "Run: 2 <br>Log-posterior score: 23.32",
          "Run: 3 <br>Log-posterior score: 23.32",
          "Run: 4 <br>Log-posterior score: 23.32",
          "Run: 5 <br>Log-posterior score: 23.32",
          "Run: 6 <br>Log-posterior score: 23.32",
          "Run: 7 <br>Log-posterior score: 23.32",
          "Run: 8 <br>Log-posterior score: 23.32",
          "Run: 9 <br>Log-posterior score: 23.32",
          "Run: 10 <br>Log-posterior score: 23.32"
         ],
         "type": "box",
         "visible": true,
         "y": [
          0.06849255373017582,
          0.06801419675241947,
          0.068492463825971,
          0.06801415845364155,
          0.06801416175221625,
          0.06849252890478924,
          0.06849255637573744,
          0.06801412137561834,
          0.0684925434682724,
          0.06801418496754773
         ]
        },
        {
         "boxpoints": "all",
         "hovertemplate": "Estimate: %{estimate:.2f}<br>%{text}",
         "jitter": 0.2,
         "line": {
          "color": "#FFA15A"
         },
         "marker": {
          "color": "#FFA15A",
          "line": {
           "color": "black",
           "width": 1
          },
          "opacity": 0.7,
          "symbol": "circle"
         },
         "name": "ID: 140",
         "pointpos": -1.5,
         "text": [
          "Run: 1 <br>Log-posterior score: 14.57",
          "Run: 2 <br>Log-posterior score: 14.57",
          "Run: 3 <br>Log-posterior score: 14.57",
          "Run: 4 <br>Log-posterior score: 14.57",
          "Run: 5 <br>Log-posterior score: 0.37",
          "Run: 6 <br>Log-posterior score: 14.57",
          "Run: 7 <br>Log-posterior score: -23.97",
          "Run: 8 <br>Log-posterior score: 14.57",
          "Run: 9 <br>Log-posterior score: 14.57",
          "Run: 10 <br>Log-posterior score: 14.57"
         ],
         "type": "box",
         "visible": true,
         "y": [
          0.12955799498941484,
          0.12955800342965235,
          0.12955811435821993,
          0.1295580748458293,
          0.18106894153349548,
          0.12955803770604676,
          286.10840883451954,
          0.1295580437376906,
          0.12955800094540773,
          0.12955804269740398
         ]
        },
        {
         "boxpoints": "all",
         "hovertemplate": "Estimate: %{estimate:.2f}<br>%{text}",
         "jitter": 0.2,
         "line": {
          "color": "#19D3F3"
         },
         "marker": {
          "color": "#19D3F3",
          "line": {
           "color": "black",
           "width": 1
          },
          "opacity": 0.7,
          "symbol": "circle"
         },
         "name": "ID: 155",
         "pointpos": -1.5,
         "text": [
          "Run: 1 <br>Log-posterior score: 8.12",
          "Run: 2 <br>Log-posterior score: 8.12",
          "Run: 3 <br>Log-posterior score: 8.13",
          "Run: 4 <br>Log-posterior score: 8.13",
          "Run: 5 <br>Log-posterior score: nan",
          "Run: 6 <br>Log-posterior score: 8.13",
          "Run: 7 <br>Log-posterior score: 8.13",
          "Run: 8 <br>Log-posterior score: 8.13",
          "Run: 9 <br>Log-posterior score: 8.13",
          "Run: 10 <br>Log-posterior score: 8.13"
         ],
         "type": "box",
         "visible": true,
         "y": [
          0.1375167913567969,
          0.13748167325532162,
          0.13745858783715786,
          0.13745093727279445,
          null,
          0.13748626634756458,
          0.13673855902564938,
          0.13745042134830346,
          0.13714621177406605,
          0.1374648135736093
         ]
        },
        {
         "boxpoints": "all",
         "hovertemplate": "Estimate: %{estimate:.2f}<br>%{text}",
         "jitter": 0.2,
         "line": {
          "color": "#FF6692"
         },
         "marker": {
          "color": "#FF6692",
          "line": {
           "color": "black",
           "width": 1
          },
          "opacity": 0.7,
          "symbol": "circle"
         },
         "name": "ID: 169",
         "pointpos": -1.5,
         "text": [
          "Run: 1 <br>Log-posterior score: 38.63",
          "Run: 2 <br>Log-posterior score: 38.63",
          "Run: 3 <br>Log-posterior score: 38.63",
          "Run: 4 <br>Log-posterior score: 38.63",
          "Run: 5 <br>Log-posterior score: 38.63",
          "Run: 6 <br>Log-posterior score: 38.63",
          "Run: 7 <br>Log-posterior score: 38.63",
          "Run: 8 <br>Log-posterior score: 38.63",
          "Run: 9 <br>Log-posterior score: 38.63",
          "Run: 10 <br>Log-posterior score: 38.63"
         ],
         "type": "box",
         "visible": true,
         "y": [
          0.02129573637140398,
          0.020910581292695768,
          0.021295629964330577,
          0.021295645152358954,
          0.021406805693840143,
          0.02129568031385283,
          0.021406832250737563,
          0.021295759688861448,
          0.021295777561123296,
          0.021295709394687955
         ]
        },
        {
         "boxpoints": "all",
         "hovertemplate": "Estimate: %{estimate:.2f}<br>%{text}",
         "jitter": 0.2,
         "line": {
          "color": "#B6E880"
         },
         "marker": {
          "color": "#B6E880",
          "line": {
           "color": "black",
           "width": 1
          },
          "opacity": 0.7,
          "symbol": "circle"
         },
         "name": "ID: 170",
         "pointpos": -1.5,
         "text": [
          "Run: 1 <br>Log-posterior score: 38.87",
          "Run: 2 <br>Log-posterior score: 38.87",
          "Run: 3 <br>Log-posterior score: 38.87",
          "Run: 4 <br>Log-posterior score: 38.87",
          "Run: 5 <br>Log-posterior score: 38.87",
          "Run: 6 <br>Log-posterior score: 38.87",
          "Run: 7 <br>Log-posterior score: 38.87",
          "Run: 8 <br>Log-posterior score: 38.86",
          "Run: 9 <br>Log-posterior score: 38.87",
          "Run: 10 <br>Log-posterior score: 38.87"
         ],
         "type": "box",
         "visible": true,
         "y": [
          0.003913212405600348,
          0.003913282304716223,
          0.00391328026425239,
          0.003913193394516536,
          0.003913218533117016,
          0.003738863000424505,
          0.00391316967012036,
          0.004154070909278199,
          0.003913251791559092,
          0.003913294254205305
         ]
        }
       ],
       "layout": {
        "autosize": true,
        "template": {
         "data": {
          "bar": [
           {
            "error_x": {
             "color": "#2a3f5f"
            },
            "error_y": {
             "color": "#2a3f5f"
            },
            "marker": {
             "line": {
              "color": "white",
              "width": 0.5
             }
            },
            "type": "bar"
           }
          ],
          "barpolar": [
           {
            "marker": {
             "line": {
              "color": "white",
              "width": 0.5
             }
            },
            "type": "barpolar"
           }
          ],
          "carpet": [
           {
            "aaxis": {
             "endlinecolor": "#2a3f5f",
             "gridcolor": "#C8D4E3",
             "linecolor": "#C8D4E3",
             "minorgridcolor": "#C8D4E3",
             "startlinecolor": "#2a3f5f"
            },
            "baxis": {
             "endlinecolor": "#2a3f5f",
             "gridcolor": "#C8D4E3",
             "linecolor": "#C8D4E3",
             "minorgridcolor": "#C8D4E3",
             "startlinecolor": "#2a3f5f"
            },
            "type": "carpet"
           }
          ],
          "choropleth": [
           {
            "colorbar": {
             "outlinewidth": 0,
             "ticks": ""
            },
            "type": "choropleth"
           }
          ],
          "contour": [
           {
            "colorbar": {
             "outlinewidth": 0,
             "ticks": ""
            },
            "colorscale": [
             [
              0,
              "#0d0887"
             ],
             [
              0.1111111111111111,
              "#46039f"
             ],
             [
              0.2222222222222222,
              "#7201a8"
             ],
             [
              0.3333333333333333,
              "#9c179e"
             ],
             [
              0.4444444444444444,
              "#bd3786"
             ],
             [
              0.5555555555555556,
              "#d8576b"
             ],
             [
              0.6666666666666666,
              "#ed7953"
             ],
             [
              0.7777777777777778,
              "#fb9f3a"
             ],
             [
              0.8888888888888888,
              "#fdca26"
             ],
             [
              1,
              "#f0f921"
             ]
            ],
            "type": "contour"
           }
          ],
          "contourcarpet": [
           {
            "colorbar": {
             "outlinewidth": 0,
             "ticks": ""
            },
            "type": "contourcarpet"
           }
          ],
          "heatmap": [
           {
            "colorbar": {
             "outlinewidth": 0,
             "ticks": ""
            },
            "colorscale": [
             [
              0,
              "#0d0887"
             ],
             [
              0.1111111111111111,
              "#46039f"
             ],
             [
              0.2222222222222222,
              "#7201a8"
             ],
             [
              0.3333333333333333,
              "#9c179e"
             ],
             [
              0.4444444444444444,
              "#bd3786"
             ],
             [
              0.5555555555555556,
              "#d8576b"
             ],
             [
              0.6666666666666666,
              "#ed7953"
             ],
             [
              0.7777777777777778,
              "#fb9f3a"
             ],
             [
              0.8888888888888888,
              "#fdca26"
             ],
             [
              1,
              "#f0f921"
             ]
            ],
            "type": "heatmap"
           }
          ],
          "heatmapgl": [
           {
            "colorbar": {
             "outlinewidth": 0,
             "ticks": ""
            },
            "colorscale": [
             [
              0,
              "#0d0887"
             ],
             [
              0.1111111111111111,
              "#46039f"
             ],
             [
              0.2222222222222222,
              "#7201a8"
             ],
             [
              0.3333333333333333,
              "#9c179e"
             ],
             [
              0.4444444444444444,
              "#bd3786"
             ],
             [
              0.5555555555555556,
              "#d8576b"
             ],
             [
              0.6666666666666666,
              "#ed7953"
             ],
             [
              0.7777777777777778,
              "#fb9f3a"
             ],
             [
              0.8888888888888888,
              "#fdca26"
             ],
             [
              1,
              "#f0f921"
             ]
            ],
            "type": "heatmapgl"
           }
          ],
          "histogram": [
           {
            "marker": {
             "colorbar": {
              "outlinewidth": 0,
              "ticks": ""
             }
            },
            "type": "histogram"
           }
          ],
          "histogram2d": [
           {
            "colorbar": {
             "outlinewidth": 0,
             "ticks": ""
            },
            "colorscale": [
             [
              0,
              "#0d0887"
             ],
             [
              0.1111111111111111,
              "#46039f"
             ],
             [
              0.2222222222222222,
              "#7201a8"
             ],
             [
              0.3333333333333333,
              "#9c179e"
             ],
             [
              0.4444444444444444,
              "#bd3786"
             ],
             [
              0.5555555555555556,
              "#d8576b"
             ],
             [
              0.6666666666666666,
              "#ed7953"
             ],
             [
              0.7777777777777778,
              "#fb9f3a"
             ],
             [
              0.8888888888888888,
              "#fdca26"
             ],
             [
              1,
              "#f0f921"
             ]
            ],
            "type": "histogram2d"
           }
          ],
          "histogram2dcontour": [
           {
            "colorbar": {
             "outlinewidth": 0,
             "ticks": ""
            },
            "colorscale": [
             [
              0,
              "#0d0887"
             ],
             [
              0.1111111111111111,
              "#46039f"
             ],
             [
              0.2222222222222222,
              "#7201a8"
             ],
             [
              0.3333333333333333,
              "#9c179e"
             ],
             [
              0.4444444444444444,
              "#bd3786"
             ],
             [
              0.5555555555555556,
              "#d8576b"
             ],
             [
              0.6666666666666666,
              "#ed7953"
             ],
             [
              0.7777777777777778,
              "#fb9f3a"
             ],
             [
              0.8888888888888888,
              "#fdca26"
             ],
             [
              1,
              "#f0f921"
             ]
            ],
            "type": "histogram2dcontour"
           }
          ],
          "mesh3d": [
           {
            "colorbar": {
             "outlinewidth": 0,
             "ticks": ""
            },
            "type": "mesh3d"
           }
          ],
          "parcoords": [
           {
            "line": {
             "colorbar": {
              "outlinewidth": 0,
              "ticks": ""
             }
            },
            "type": "parcoords"
           }
          ],
          "pie": [
           {
            "automargin": true,
            "type": "pie"
           }
          ],
          "scatter": [
           {
            "marker": {
             "colorbar": {
              "outlinewidth": 0,
              "ticks": ""
             }
            },
            "type": "scatter"
           }
          ],
          "scatter3d": [
           {
            "line": {
             "colorbar": {
              "outlinewidth": 0,
              "ticks": ""
             }
            },
            "marker": {
             "colorbar": {
              "outlinewidth": 0,
              "ticks": ""
             }
            },
            "type": "scatter3d"
           }
          ],
          "scattercarpet": [
           {
            "marker": {
             "colorbar": {
              "outlinewidth": 0,
              "ticks": ""
             }
            },
            "type": "scattercarpet"
           }
          ],
          "scattergeo": [
           {
            "marker": {
             "colorbar": {
              "outlinewidth": 0,
              "ticks": ""
             }
            },
            "type": "scattergeo"
           }
          ],
          "scattergl": [
           {
            "marker": {
             "colorbar": {
              "outlinewidth": 0,
              "ticks": ""
             }
            },
            "type": "scattergl"
           }
          ],
          "scattermapbox": [
           {
            "marker": {
             "colorbar": {
              "outlinewidth": 0,
              "ticks": ""
             }
            },
            "type": "scattermapbox"
           }
          ],
          "scatterpolar": [
           {
            "marker": {
             "colorbar": {
              "outlinewidth": 0,
              "ticks": ""
             }
            },
            "type": "scatterpolar"
           }
          ],
          "scatterpolargl": [
           {
            "marker": {
             "colorbar": {
              "outlinewidth": 0,
              "ticks": ""
             }
            },
            "type": "scatterpolargl"
           }
          ],
          "scatterternary": [
           {
            "marker": {
             "colorbar": {
              "outlinewidth": 0,
              "ticks": ""
             }
            },
            "type": "scatterternary"
           }
          ],
          "surface": [
           {
            "colorbar": {
             "outlinewidth": 0,
             "ticks": ""
            },
            "colorscale": [
             [
              0,
              "#0d0887"
             ],
             [
              0.1111111111111111,
              "#46039f"
             ],
             [
              0.2222222222222222,
              "#7201a8"
             ],
             [
              0.3333333333333333,
              "#9c179e"
             ],
             [
              0.4444444444444444,
              "#bd3786"
             ],
             [
              0.5555555555555556,
              "#d8576b"
             ],
             [
              0.6666666666666666,
              "#ed7953"
             ],
             [
              0.7777777777777778,
              "#fb9f3a"
             ],
             [
              0.8888888888888888,
              "#fdca26"
             ],
             [
              1,
              "#f0f921"
             ]
            ],
            "type": "surface"
           }
          ],
          "table": [
           {
            "cells": {
             "fill": {
              "color": "#EBF0F8"
             },
             "line": {
              "color": "white"
             }
            },
            "header": {
             "fill": {
              "color": "#C8D4E3"
             },
             "line": {
              "color": "white"
             }
            },
            "type": "table"
           }
          ]
         },
         "layout": {
          "annotationdefaults": {
           "arrowcolor": "#2a3f5f",
           "arrowhead": 0,
           "arrowwidth": 1
          },
          "coloraxis": {
           "colorbar": {
            "outlinewidth": 0,
            "ticks": ""
           }
          },
          "colorscale": {
           "diverging": [
            [
             0,
             "#8e0152"
            ],
            [
             0.1,
             "#c51b7d"
            ],
            [
             0.2,
             "#de77ae"
            ],
            [
             0.3,
             "#f1b6da"
            ],
            [
             0.4,
             "#fde0ef"
            ],
            [
             0.5,
             "#f7f7f7"
            ],
            [
             0.6,
             "#e6f5d0"
            ],
            [
             0.7,
             "#b8e186"
            ],
            [
             0.8,
             "#7fbc41"
            ],
            [
             0.9,
             "#4d9221"
            ],
            [
             1,
             "#276419"
            ]
           ],
           "sequential": [
            [
             0,
             "#0d0887"
            ],
            [
             0.1111111111111111,
             "#46039f"
            ],
            [
             0.2222222222222222,
             "#7201a8"
            ],
            [
             0.3333333333333333,
             "#9c179e"
            ],
            [
             0.4444444444444444,
             "#bd3786"
            ],
            [
             0.5555555555555556,
             "#d8576b"
            ],
            [
             0.6666666666666666,
             "#ed7953"
            ],
            [
             0.7777777777777778,
             "#fb9f3a"
            ],
            [
             0.8888888888888888,
             "#fdca26"
            ],
            [
             1,
             "#f0f921"
            ]
           ],
           "sequentialminus": [
            [
             0,
             "#0d0887"
            ],
            [
             0.1111111111111111,
             "#46039f"
            ],
            [
             0.2222222222222222,
             "#7201a8"
            ],
            [
             0.3333333333333333,
             "#9c179e"
            ],
            [
             0.4444444444444444,
             "#bd3786"
            ],
            [
             0.5555555555555556,
             "#d8576b"
            ],
            [
             0.6666666666666666,
             "#ed7953"
            ],
            [
             0.7777777777777778,
             "#fb9f3a"
            ],
            [
             0.8888888888888888,
             "#fdca26"
            ],
            [
             1,
             "#f0f921"
            ]
           ]
          },
          "colorway": [
           "#636efa",
           "#EF553B",
           "#00cc96",
           "#ab63fa",
           "#FFA15A",
           "#19d3f3",
           "#FF6692",
           "#B6E880",
           "#FF97FF",
           "#FECB52"
          ],
          "font": {
           "color": "#2a3f5f"
          },
          "geo": {
           "bgcolor": "white",
           "lakecolor": "white",
           "landcolor": "white",
           "showlakes": true,
           "showland": true,
           "subunitcolor": "#C8D4E3"
          },
          "hoverlabel": {
           "align": "left"
          },
          "hovermode": "closest",
          "mapbox": {
           "style": "light"
          },
          "paper_bgcolor": "white",
          "plot_bgcolor": "white",
          "polar": {
           "angularaxis": {
            "gridcolor": "#EBF0F8",
            "linecolor": "#EBF0F8",
            "ticks": ""
           },
           "bgcolor": "white",
           "radialaxis": {
            "gridcolor": "#EBF0F8",
            "linecolor": "#EBF0F8",
            "ticks": ""
           }
          },
          "scene": {
           "xaxis": {
            "backgroundcolor": "white",
            "gridcolor": "#DFE8F3",
            "gridwidth": 2,
            "linecolor": "#EBF0F8",
            "showbackground": true,
            "ticks": "",
            "zerolinecolor": "#EBF0F8"
           },
           "yaxis": {
            "backgroundcolor": "white",
            "gridcolor": "#DFE8F3",
            "gridwidth": 2,
            "linecolor": "#EBF0F8",
            "showbackground": true,
            "ticks": "",
            "zerolinecolor": "#EBF0F8"
           },
           "zaxis": {
            "backgroundcolor": "white",
            "gridcolor": "#DFE8F3",
            "gridwidth": 2,
            "linecolor": "#EBF0F8",
            "showbackground": true,
            "ticks": "",
            "zerolinecolor": "#EBF0F8"
           }
          },
          "shapedefaults": {
           "line": {
            "color": "#2a3f5f"
           }
          },
          "ternary": {
           "aaxis": {
            "gridcolor": "#DFE8F3",
            "linecolor": "#A2B1C6",
            "ticks": ""
           },
           "baxis": {
            "gridcolor": "#DFE8F3",
            "linecolor": "#A2B1C6",
            "ticks": ""
           },
           "bgcolor": "white",
           "caxis": {
            "gridcolor": "#DFE8F3",
            "linecolor": "#A2B1C6",
            "ticks": ""
           }
          },
          "title": {
           "x": 0.05
          },
          "xaxis": {
           "automargin": true,
           "gridcolor": "#EBF0F8",
           "linecolor": "#EBF0F8",
           "ticks": "",
           "title": {
            "standoff": 15
           },
           "zerolinecolor": "#EBF0F8",
           "zerolinewidth": 2
          },
          "yaxis": {
           "automargin": true,
           "gridcolor": "#EBF0F8",
           "linecolor": "#EBF0F8",
           "ticks": "",
           "title": {
            "standoff": 15
           },
           "zerolinecolor": "#EBF0F8",
           "zerolinewidth": 2
          }
         }
        },
        "updatemenus": [
         {
          "buttons": [
           {
            "args": [
             {
              "yaxis.type": "linear"
             }
            ],
            "label": "Linear y-scale",
            "method": "relayout"
           },
           {
            "args": [
             {
              "yaxis.type": "log"
             }
            ],
            "label": "Log y-scale",
            "method": "relayout"
           }
          ],
          "direction": "left",
          "pad": {
           "r": 0,
           "t": -10
          },
          "showactive": true,
          "type": "buttons",
          "x": 0,
          "xanchor": "left",
          "y": 1.15,
          "yanchor": "top"
         }
        ],
        "yaxis": {
         "title": {
          "text": "noise 3"
         }
        }
       }
      }
     },
     "metadata": {}
    }
   ],
   "source": [
    "fig = erlo.plots.ParameterEstimatePlot()\n",
    "fig.add_data(result)\n",
    "\n",
    "fig.show()"
   ]
  },
  {
   "source": [
    "Figure 2:"
   ],
   "cell_type": "markdown",
   "metadata": {}
  },
  {
   "source": [
    "## Find posterior probability distribution"
   ],
   "cell_type": "markdown",
   "metadata": {}
  },
  {
   "cell_type": "code",
   "execution_count": 3,
   "metadata": {},
   "outputs": [
    {
     "output_type": "display_data",
     "data": {
      "text/plain": "HBox(children=(FloatProgress(value=0.0, max=8.0), HTML(value='')))",
      "application/vnd.jupyter.widget-view+json": {
       "version_major": 2,
       "version_minor": 0,
       "model_id": "64f05a1febea4e22accd809d94363a53"
      }
     },
     "metadata": {}
    },
    {
     "output_type": "stream",
     "name": "stdout",
     "text": [
      "Using Haario adaptive covariance MCMC\n",
      "Generating 10 chains.\n",
      "Running in parallel with 8 worker processess.\n",
      "Iter. Eval. Accept.   Accept.   Accept.   Accept.   Accept.   Accept.   Accept.   Accept.   Accept.   Accept.   Time m:s\n",
      "0     10     0         0         0         0         0         0         0         0         0         0          0:00.0\n",
      "1     20     0.5       0.5       0.5       0         0.5       0         0.5       0.5       0         0.5        0:00.0\n",
      "2     30     0.667     0.667     0.333     0.333     0.333     0.333     0.667     0.667     0.333     0.333      0:00.0\n",
      "3     40     0.75      0.75      0.5       0.5       0.25      0.5       0.75      0.75      0.25      0.25       0:00.1\n",
      "Initial phase completed.\n",
      "200   2010   0.741     0.363     0.373     0.313     0.383     0.418     0.652     0.368     0.443     0.164      0:01.0\n",
      "400   4010   0.469     0.309     0.359     0.349     0.399     0.419     0.464     0.382     0.349     0.224      0:02.4\n",
      "600   6010   0.331     0.281198  0.323     0.278     0.333     0.338     0.373     0.321     0.314     0.202995   0:03.7\n",
      "800   8010   0.297     0.262     0.296     0.257     0.281     0.272     0.293     0.288     0.293     0.205      0:05.0\n",
      "1000  10000  0.291     0.25      0.273     0.231     0.256     0.283     0.247     0.276     0.27      0.203      0:06.1\n",
      "Halting: Maximum number of iterations (1000) reached.\n",
      "Using Haario adaptive covariance MCMC\n",
      "Generating 10 chains.\n",
      "Running in parallel with 8 worker processess.\n",
      "Iter. Eval. Accept.   Accept.   Accept.   Accept.   Accept.   Accept.   Accept.   Accept.   Accept.   Accept.   Time m:s\n",
      "0     10     0         0         0         0         0         0         0         0         0         0          0:00.0\n",
      "1     20     0         0.5       0         0         0.5       0         0.5       0.5       0.5       0          0:00.0\n",
      "2     30     0.333     0.667     0         0.333     0.333     0.333     0.667     0.333     0.333     0.333      0:00.1\n",
      "3     40     0.5       0.75      0.25      0.25      0.5       0.25      0.75      0.5       0.25      0.5        0:00.1\n",
      "Initial phase completed.\n",
      "200   2010   0.0448    0.249     0.119403  0.149     0.373     0.39801   0.189     0.0945    0.129     0.159204   0:00.9\n",
      "400   4010   0.165     0.297     0.257     0.234414  0.309     0.429     0.282     0.177     0.257     0.244389   0:02.2\n",
      "600   6010   0.245     0.241     0.205     0.223     0.291     0.344426  0.258     0.191     0.205     0.249584   0:03.3\n",
      "800   8010   0.253     0.196005  0.2       0.187     0.24      0.295     0.237     0.189     0.201     0.233      0:04.6\n",
      "1000  10000  0.243     0.206     0.224     0.204     0.248     0.273     0.197     0.169     0.191     0.197      0:06.0\n",
      "Halting: Maximum number of iterations (1000) reached.\n",
      "Using Haario adaptive covariance MCMC\n",
      "Generating 10 chains.\n",
      "Running in parallel with 8 worker processess.\n",
      "Iter. Eval. Accept.   Accept.   Accept.   Accept.   Accept.   Accept.   Accept.   Accept.   Accept.   Accept.   Time m:s\n",
      "0     10     0         0         0         0         0         0         0         0         0         0          0:00.0\n",
      "1     20     0.5       0.5       0.5       0.5       0.5       0.5       0.5       0.5       0.5       0.5        0:00.0\n",
      "2     30     0.667     0.333     0.667     0.667     0.667     0.667     0.667     0.667     0.667     0.667      0:00.1\n",
      "3     40     0.75      0.5       0.75      0.75      0.75      0.75      0.75      0.75      0.5       0.75       0:00.1\n",
      "Initial phase completed.\n",
      "200   2010   0.458     0.502     0.502     0.776     0.0796    0.572     0.303     0.468     0.453     0.652      0:00.9\n",
      "400   4010   0.431     0.372     0.429     0.519     0.197     0.476     0.322     0.416     0.411     0.441      0:02.2\n",
      "600   6010   0.351     0.311     0.338     0.369     0.191     0.403     0.228     0.341     0.329     0.339      0:03.5\n",
      "800   8010   0.309613  0.272     0.27      0.281     0.17603   0.338     0.232     0.276     0.303     0.275      0:05.0\n",
      "1000  10000  0.255     0.265     0.228     0.247     0.177     0.297     0.25      0.256     0.281     0.238      0:06.1\n",
      "Halting: Maximum number of iterations (1000) reached.\n",
      "Using Haario adaptive covariance MCMC\n",
      "Generating 10 chains.\n",
      "Running in parallel with 8 worker processess.\n",
      "Iter. Eval. Accept.   Accept.   Accept.   Accept.   Accept.   Accept.   Accept.   Accept.   Accept.   Accept.   Time m:s\n",
      "0     10     0         0         0         0         0         0         0         0         0         0          0:00.0\n",
      "1     20     0.5       0.5       0.5       0.5       0.5       0.5       0         0.5       0.5       0.5        0:00.0\n",
      "2     30     0.667     0.667     0.333     0.667     0.333     0.333     0.333     0.667     0.667     0.667      0:00.1\n",
      "3     40     0.75      0.75      0.25      0.75      0.5       0.25      0.5       0.5       0.75      0.75       0:00.1\n",
      "Initial phase completed.\n",
      "200   2010   0.294     0.174     0.129     0.269     0.403     0.124     0.219     0.433     0.199005  0.214      0:00.9\n",
      "400   4010   0.317     0.299     0.267     0.372     0.374     0.262     0.347     0.459     0.302     0.322      0:02.3\n",
      "600   6010   0.275     0.251     0.205     0.265     0.304     0.253     0.286     0.364     0.261     0.268      0:03.5\n",
      "800   8010   0.238     0.203     0.167     0.257     0.243     0.226     0.256     0.288     0.236     0.231      0:04.8\n",
      "1000  10000  0.23      0.173     0.19      0.256     0.211     0.217     0.226     0.264     0.221     0.232      0:06.1\n",
      "Halting: Maximum number of iterations (1000) reached.\n",
      "Using Haario adaptive covariance MCMC\n",
      "Generating 10 chains.\n",
      "Running in parallel with 8 worker processess.\n",
      "Iter. Eval. Accept.   Accept.   Accept.   Accept.   Accept.   Accept.   Accept.   Accept.   Accept.   Accept.   Time m:s\n",
      "0     10     0         0         0         0         0         0         0         0         0         0          0:00.0\n",
      "1     20     0.5       0.5       0         0.5       0.5       0.5       0.5       0.5       0.5       0          0:00.0\n",
      "2     30     0.667     0.667     0.333     0.667     0.667     0.333     0.667     0.333     0.667     0.333      0:00.1\n",
      "3     40     0.75      0.75      0.25      0.5       0.5       0.5       0.5       0.25      0.75      0.5        0:00.1\n",
      "Initial phase completed.\n",
      "200   2010   0.119403  0.249     0.254     0.313     0.323     0.368     0.174     0.139     0.647     0.348      0:00.9\n",
      "400   4010   0.187     0.276808  0.347     0.332     0.322     0.361596  0.262     0.219     0.459     0.369      0:02.4\n",
      "600   6010   0.21797   0.234609  0.263     0.301     0.271     0.273     0.205     0.195     0.326     0.278      0:03.5\n",
      "800   8010   0.23      0.248     0.202     0.286     0.237     0.222     0.21      0.169     0.295     0.282      0:04.9\n",
      "1000  10000  0.197     0.236     0.185     0.27      0.224     0.237     0.231     0.175     0.296     0.27       0:06.2\n",
      "Halting: Maximum number of iterations (1000) reached.\n",
      "Using Haario adaptive covariance MCMC\n",
      "Generating 10 chains.\n",
      "Running in parallel with 8 worker processess.\n",
      "Iter. Eval. Accept.   Accept.   Accept.   Accept.   Accept.   Accept.   Accept.   Accept.   Accept.   Accept.   Time m:s\n",
      "0     10     0         0         0         0         0         0         0         0         0         0          0:00.0\n",
      "1     20     0.5       0.5       0.5       0.5       0.5       0         0.5       0         0.5       0          0:00.1\n",
      "2     30     0.667     0.667     0.667     0.667     0.667     0.333     0.333     0         0.667     0.333      0:00.1\n",
      "3     40     0.75      0.75      0.75      0.75      0.75      0.5       0.5       0.25      0.75      0.5        0:00.1\n",
      "Initial phase completed.\n",
      "200   2010   0.677     0.811     0.612     0.348     0.254     0.572     0.647     0.622     0.144     0.368      0:01.0\n",
      "400   4010   0.471     0.491     0.489     0.292     0.332     0.441     0.478803  0.439     0.269     0.342      0:02.2\n",
      "600   6010   0.40599   0.363     0.399     0.231     0.265     0.354     0.393     0.316     0.21797   0.273      0:03.6\n",
      "800   8010   0.312     0.297     0.337     0.241     0.222     0.316     0.328     0.28      0.238     0.247191   0:05.0\n",
      "1000  10000  0.264     0.302     0.322     0.242     0.23      0.281     0.292     0.275     0.218     0.25       0:06.3\n",
      "Halting: Maximum number of iterations (1000) reached.\n",
      "Using Haario adaptive covariance MCMC\n",
      "Generating 10 chains.\n",
      "Running in parallel with 8 worker processess.\n",
      "Iter. Eval. Accept.   Accept.   Accept.   Accept.   Accept.   Accept.   Accept.   Accept.   Accept.   Accept.   Time m:s\n",
      "0     10     0         0         0         0         0         0         0         0         0         0          0:00.0\n",
      "1     20     0.5       0.5       0.5       0         0.5       0         0.5       0.5       0.5       0.5        0:00.0\n",
      "2     30     0.667     0.667     0.667     0.333     0.667     0.333     0.667     0.667     0.667     0.667      0:00.1\n",
      "3     40     0.75      0.75      0.75      0.5       0.5       0.5       0.75      0.5       0.5       0.75       0:00.1\n",
      "Initial phase completed.\n",
      "200   2010   0.473     0.418     0.338     0.274     0.473     0.274     0.572     0.249     0.289     0.791      0:01.0\n",
      "400   4010   0.397     0.349     0.327     0.337     0.459     0.322     0.471     0.262     0.322     0.534      0:02.3\n",
      "600   6010   0.318     0.29      0.268     0.234609  0.348     0.263     0.373     0.202995  0.233     0.456      0:03.6\n",
      "800   8010   0.289638  0.252     0.227216  0.253     0.306     0.237     0.318     0.217     0.241     0.351      0:04.9\n",
      "1000  10000  0.25      0.21      0.199     0.25      0.281     0.249     0.28      0.235     0.239     0.288      0:06.2\n",
      "Halting: Maximum number of iterations (1000) reached.\n",
      "Using Haario adaptive covariance MCMC\n",
      "Generating 10 chains.\n",
      "Running in parallel with 8 worker processess.\n",
      "Iter. Eval. Accept.   Accept.   Accept.   Accept.   Accept.   Accept.   Accept.   Accept.   Accept.   Accept.   Time m:s\n",
      "0     10     0         0         0         0         0         0         0         0         0         0          0:00.0\n",
      "1     20     0.5       0         0.5       0.5       0         0.5       0.5       0         0.5       0.5        0:00.0\n",
      "2     30     0.667     0.333     0.667     0.667     0         0.333     0.667     0.333     0.667     0.667      0:00.1\n",
      "3     40     0.5       0.5       0.75      0.75      0.25      0.25      0.75      0.5       0.75      0.75       0:00.1\n",
      "Initial phase completed.\n",
      "200   2010   0.761194  0.328     0.378     0.373     0.219     0.423     0.179     0.363     0.129     0.493      0:00.9\n",
      "400   4010   0.506     0.389     0.352     0.401     0.257     0.372     0.269     0.344     0.204     0.364      0:02.3\n",
      "600   6010   0.383     0.329     0.306     0.295     0.271     0.306     0.2       0.308     0.21      0.275      0:03.6\n",
      "800   8010   0.327     0.291     0.248     0.243     0.267166  0.24      0.201     0.286     0.228     0.263      0:05.0\n",
      "1000  10000  0.299     0.275     0.218     0.231     0.23      0.197     0.224     0.274     0.222     0.267      0:06.4\n",
      "Halting: Maximum number of iterations (1000) reached.\n",
      "\n"
     ]
    }
   ],
   "source": [
    "import numpy as np\n",
    "import pints\n",
    "from tqdm.notebook import tqdm\n",
    "\n",
    "\n",
    "# Define model\n",
    "path = erlo.ModelLibrary().tumour_growth_inhibition_model_koch()\n",
    "model = erlo.PharmacodynamicModel(path)\n",
    "\n",
    "# Find maximum a posteriori probability estimates (MAP)\n",
    "result = pd.DataFrame(columns=['ID', 'Parameter', 'Sample', 'Iteration', 'Run'])\n",
    "ids = data['#ID'].unique()\n",
    "for individual in tqdm(ids):\n",
    "    # Get data for individual\n",
    "    mask = data['#ID'] == individual\n",
    "    times = data[mask]['TIME in day'].to_numpy()\n",
    "    observed_volumes = data[mask]['TUMOUR VOLUME in cm^3'].to_numpy()\n",
    "\n",
    "    # Create inverse problem\n",
    "    problem = erlo.InverseProblem(model, times, observed_volumes)\n",
    "    log_likelihood = pints.ConstantAndMultiplicativeGaussianLogLikelihood(problem)\n",
    "    log_prior_tumour_volume = pints.HalfCauchyLogPrior(location=0, scale=3)\n",
    "    log_prior_drug_conc = pints.UniformLogPrior(-1E-3, 1E-3)  # Fixed to zero below\n",
    "    log_prior_kappa = pints.UniformLogPrior(-1E-3, 1E-3)  # Fixed to zero below\n",
    "    log_prior_lambda_0 = pints.HalfCauchyLogPrior(location=0, scale=3)\n",
    "    log_prior_lambda_1 = pints.HalfCauchyLogPrior(location=0, scale=3)\n",
    "    log_prior_sigma_base = pints.HalfCauchyLogPrior(location=0, scale=3)\n",
    "    log_prior_eta = pints.UniformLogPrior(1E-3, 1E3)  # Fixed to 1 below\n",
    "    log_prior_sigma_rel = pints.HalfCauchyLogPrior(location=0, scale=3)\n",
    "    log_prior = pints.ComposedLogPrior(\n",
    "        log_prior_tumour_volume, \n",
    "        log_prior_drug_conc,\n",
    "        log_prior_kappa,\n",
    "        log_prior_lambda_0,\n",
    "        log_prior_lambda_1,\n",
    "        log_prior_sigma_base,\n",
    "        log_prior_eta,\n",
    "        log_prior_sigma_rel)\n",
    "    log_posterior = pints.LogPosterior(log_likelihood, log_prior)\n",
    "\n",
    "    # Set up optmisation controller\n",
    "    sampler = erlo.SamplingController(log_posterior)\n",
    "    \n",
    "    # Fix potency kappa, and drug concentration to 0, as well as eta to 1\n",
    "    # (This is the control group, and thus there is no drug)\n",
    "    sampler.fix_parameters(\n",
    "        mask=[False, True, True, False, False, False,True, False],\n",
    "        values=[0, 0, 1])\n",
    "\n",
    "    # Run optimisation\n",
    "    individual_result = sampler.run(n_iterations=1000)\n",
    "\n",
    "    # Append individual result to result\n",
    "    individual_result['ID'] = individual\n",
    "    result = result.append(individual_result)"
   ]
  },
  {
   "cell_type": "code",
   "execution_count": 4,
   "metadata": {},
   "outputs": [
    {
     "output_type": "execute_result",
     "data": {
      "text/plain": [
       "      ID             Parameter    Sample Iteration Run\n",
       "0     40  myokit.tumour_volume  0.204320         1   1\n",
       "1     40  myokit.tumour_volume  0.151144         2   1\n",
       "2     40  myokit.tumour_volume  0.140240         3   1\n",
       "3     40  myokit.tumour_volume  0.204964         4   1\n",
       "4     40  myokit.tumour_volume  0.186205         5   1\n",
       "..   ...                   ...       ...       ...  ..\n",
       "995  170               noise 3  0.179344       996  10\n",
       "996  170               noise 3  0.179344       997  10\n",
       "997  170               noise 3  0.179344       998  10\n",
       "998  170               noise 3  0.179344       999  10\n",
       "999  170               noise 3  0.179344      1000  10\n",
       "\n",
       "[400000 rows x 5 columns]"
      ],
      "text/html": "<div>\n<style scoped>\n    .dataframe tbody tr th:only-of-type {\n        vertical-align: middle;\n    }\n\n    .dataframe tbody tr th {\n        vertical-align: top;\n    }\n\n    .dataframe thead th {\n        text-align: right;\n    }\n</style>\n<table border=\"1\" class=\"dataframe\">\n  <thead>\n    <tr style=\"text-align: right;\">\n      <th></th>\n      <th>ID</th>\n      <th>Parameter</th>\n      <th>Sample</th>\n      <th>Iteration</th>\n      <th>Run</th>\n    </tr>\n  </thead>\n  <tbody>\n    <tr>\n      <th>0</th>\n      <td>40</td>\n      <td>myokit.tumour_volume</td>\n      <td>0.204320</td>\n      <td>1</td>\n      <td>1</td>\n    </tr>\n    <tr>\n      <th>1</th>\n      <td>40</td>\n      <td>myokit.tumour_volume</td>\n      <td>0.151144</td>\n      <td>2</td>\n      <td>1</td>\n    </tr>\n    <tr>\n      <th>2</th>\n      <td>40</td>\n      <td>myokit.tumour_volume</td>\n      <td>0.140240</td>\n      <td>3</td>\n      <td>1</td>\n    </tr>\n    <tr>\n      <th>3</th>\n      <td>40</td>\n      <td>myokit.tumour_volume</td>\n      <td>0.204964</td>\n      <td>4</td>\n      <td>1</td>\n    </tr>\n    <tr>\n      <th>4</th>\n      <td>40</td>\n      <td>myokit.tumour_volume</td>\n      <td>0.186205</td>\n      <td>5</td>\n      <td>1</td>\n    </tr>\n    <tr>\n      <th>...</th>\n      <td>...</td>\n      <td>...</td>\n      <td>...</td>\n      <td>...</td>\n      <td>...</td>\n    </tr>\n    <tr>\n      <th>995</th>\n      <td>170</td>\n      <td>noise 3</td>\n      <td>0.179344</td>\n      <td>996</td>\n      <td>10</td>\n    </tr>\n    <tr>\n      <th>996</th>\n      <td>170</td>\n      <td>noise 3</td>\n      <td>0.179344</td>\n      <td>997</td>\n      <td>10</td>\n    </tr>\n    <tr>\n      <th>997</th>\n      <td>170</td>\n      <td>noise 3</td>\n      <td>0.179344</td>\n      <td>998</td>\n      <td>10</td>\n    </tr>\n    <tr>\n      <th>998</th>\n      <td>170</td>\n      <td>noise 3</td>\n      <td>0.179344</td>\n      <td>999</td>\n      <td>10</td>\n    </tr>\n    <tr>\n      <th>999</th>\n      <td>170</td>\n      <td>noise 3</td>\n      <td>0.179344</td>\n      <td>1000</td>\n      <td>10</td>\n    </tr>\n  </tbody>\n</table>\n<p>400000 rows × 5 columns</p>\n</div>"
     },
     "metadata": {},
     "execution_count": 4
    }
   ],
   "source": [
    "result"
   ]
  },
  {
   "cell_type": "code",
   "execution_count": null,
   "metadata": {},
   "outputs": [],
   "source": []
  }
 ]
}