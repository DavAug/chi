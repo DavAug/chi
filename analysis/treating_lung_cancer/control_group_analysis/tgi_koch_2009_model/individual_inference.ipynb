{
 "metadata": {
  "language_info": {
   "codemirror_mode": {
    "name": "ipython",
    "version": 3
   },
   "file_extension": ".py",
   "mimetype": "text/x-python",
   "name": "python",
   "nbconvert_exporter": "python",
   "pygments_lexer": "ipython3",
   "version": "3.7.5-final"
  },
  "orig_nbformat": 2,
  "kernelspec": {
   "name": "Python 3.7.5 64-bit ('venv')",
   "display_name": "Python 3.7.5 64-bit ('venv')",
   "metadata": {
    "interpreter": {
     "hash": "be7486d58ebca8d123affd155ab816745acc1cd14190bfc1696066be45205f22"
    }
   }
  }
 },
 "nbformat": 4,
 "nbformat_minor": 2,
 "cells": [
  {
   "source": [
    "# Infer Model Parameters for Individuals in Lung Cancer Control Group"
   ],
   "cell_type": "markdown",
   "metadata": {}
  },
  {
   "source": [
    "## Show control group data"
   ],
   "cell_type": "markdown",
   "metadata": {}
  },
  {
   "cell_type": "code",
   "execution_count": 1,
   "metadata": {},
   "outputs": [
    {
     "output_type": "display_data",
     "data": {
      "application/vnd.plotly.v1+json": {
       "config": {
        "plotlyServerURL": "https://plot.ly"
       },
       "data": [
        {
         "marker": {
          "color": "#636EFA",
          "line": {
           "color": "black",
           "width": 1
          },
          "opacity": 0.7,
          "symbol": "circle"
         },
         "mode": "markers",
         "name": "ID: 40",
         "showlegend": true,
         "type": "scatter",
         "x": [
          0,
          2,
          4,
          7,
          9,
          11,
          14,
          16,
          18,
          21
         ],
         "y": [
          0.191808,
          0.249158,
          0.330672,
          0.6683669999999999,
          0.915008,
          1.119258,
          1.470432,
          1.6692479999999998,
          1.7521919999999997,
          2.276736
         ]
        },
        {
         "marker": {
          "color": "#EF553B",
          "line": {
           "color": "black",
           "width": 1
          },
          "opacity": 0.7,
          "symbol": "circle"
         },
         "mode": "markers",
         "name": "ID: 94",
         "showlegend": true,
         "type": "scatter",
         "x": [
          0,
          2,
          4,
          7,
          9,
          11,
          14,
          16,
          18,
          21,
          23,
          25,
          28,
          30
         ],
         "y": [
          0.07724750000000001,
          0.0884835,
          0.125316,
          0.165528,
          0.189486,
          0.264654,
          0.264654,
          0.306936,
          0.389207,
          0.389207,
          0.405769,
          0.4264715,
          0.5551309999999999,
          0.57624
         ]
        },
        {
         "marker": {
          "color": "#00CC96",
          "line": {
           "color": "black",
           "width": 1
          },
          "opacity": 0.7,
          "symbol": "circle"
         },
         "mode": "markers",
         "name": "ID: 95",
         "showlegend": true,
         "type": "scatter",
         "x": [
          0,
          2,
          4,
          7,
          9,
          11,
          14,
          16,
          18,
          21
         ],
         "y": [
          0.1862,
          0.24641999999999997,
          0.4293,
          0.62426,
          0.7246720000000001,
          0.7300800000000001,
          0.9196,
          1.131184,
          1.675872,
          2.346616
         ]
        },
        {
         "marker": {
          "color": "#AB63FA",
          "line": {
           "color": "black",
           "width": 1
          },
          "opacity": 0.7,
          "symbol": "circle"
         },
         "mode": "markers",
         "name": "ID: 136",
         "showlegend": true,
         "type": "scatter",
         "x": [
          0,
          2,
          4,
          7,
          9,
          11,
          14,
          16,
          18,
          21,
          23,
          25,
          28,
          30
         ],
         "y": [
          0.1185885,
          0.175071,
          0.22999200000000006,
          0.3026885,
          0.3026885,
          0.37044,
          0.5341545,
          0.651688,
          0.7212869999999999,
          0.78732,
          0.8529505000000001,
          1.104558,
          1.1328799999999999,
          1.4593425
         ]
        },
        {
         "marker": {
          "color": "#FFA15A",
          "line": {
           "color": "black",
           "width": 1
          },
          "opacity": 0.7,
          "symbol": "circle"
         },
         "mode": "markers",
         "name": "ID: 140",
         "showlegend": true,
         "type": "scatter",
         "x": [
          0,
          2,
          4,
          7,
          9,
          11,
          14,
          16,
          18,
          21,
          23,
          25,
          28,
          30
         ],
         "y": [
          0.0793305,
          0.12685200000000002,
          0.146072,
          0.261121,
          0.34574400000000005,
          0.3552,
          0.41905,
          0.48029799999999995,
          0.556668,
          0.8089919999999999,
          0.8573040000000001,
          1.097675,
          1.992144,
          2.1225820000000004
         ]
        },
        {
         "marker": {
          "color": "#19D3F3",
          "line": {
           "color": "black",
           "width": 1
          },
          "opacity": 0.7,
          "symbol": "circle"
         },
         "mode": "markers",
         "name": "ID: 155",
         "showlegend": true,
         "type": "scatter",
         "x": [
          0,
          2,
          4,
          7,
          9,
          11,
          14,
          16,
          18,
          21,
          23,
          25
         ],
         "y": [
          0.105875,
          0.167706,
          0.35632800000000003,
          0.6489600000000001,
          0.692224,
          0.7300800000000001,
          0.81648,
          1.4949540000000001,
          1.5166985,
          1.72405,
          1.637784,
          2.25108
         ]
        },
        {
         "marker": {
          "color": "#FF6692",
          "line": {
           "color": "black",
           "width": 1
          },
          "opacity": 0.7,
          "symbol": "circle"
         },
         "mode": "markers",
         "name": "ID: 169",
         "showlegend": true,
         "type": "scatter",
         "x": [
          0,
          2,
          4,
          7,
          9,
          11,
          14,
          16,
          18,
          21,
          23,
          25,
          28,
          30
         ],
         "y": [
          0.123008,
          0.128774,
          0.1764,
          0.20516650000000006,
          0.24605349999999998,
          0.2788425,
          0.333036,
          0.35644499999999996,
          0.39285,
          0.479859,
          0.5390550000000001,
          0.6354195,
          0.7146180000000001,
          0.7469865
         ]
        },
        {
         "marker": {
          "color": "#B6E880",
          "line": {
           "color": "black",
           "width": 1
          },
          "opacity": 0.7,
          "symbol": "circle"
         },
         "mode": "markers",
         "name": "ID: 170",
         "showlegend": true,
         "type": "scatter",
         "x": [
          0,
          2,
          4,
          7,
          9,
          11,
          14,
          16,
          18,
          21,
          23,
          25,
          28,
          30
         ],
         "y": [
          0.0800565,
          0.094221,
          0.10933,
          0.158994,
          0.17615699999999998,
          0.19407850000000001,
          0.2041605,
          0.246402,
          0.3050865,
          0.3683265,
          0.41817600000000005,
          0.4396155,
          0.5661554999999999,
          0.6206265000000001
         ]
        }
       ],
       "layout": {
        "autosize": true,
        "template": {
         "data": {
          "bar": [
           {
            "error_x": {
             "color": "#2a3f5f"
            },
            "error_y": {
             "color": "#2a3f5f"
            },
            "marker": {
             "line": {
              "color": "white",
              "width": 0.5
             }
            },
            "type": "bar"
           }
          ],
          "barpolar": [
           {
            "marker": {
             "line": {
              "color": "white",
              "width": 0.5
             }
            },
            "type": "barpolar"
           }
          ],
          "carpet": [
           {
            "aaxis": {
             "endlinecolor": "#2a3f5f",
             "gridcolor": "#C8D4E3",
             "linecolor": "#C8D4E3",
             "minorgridcolor": "#C8D4E3",
             "startlinecolor": "#2a3f5f"
            },
            "baxis": {
             "endlinecolor": "#2a3f5f",
             "gridcolor": "#C8D4E3",
             "linecolor": "#C8D4E3",
             "minorgridcolor": "#C8D4E3",
             "startlinecolor": "#2a3f5f"
            },
            "type": "carpet"
           }
          ],
          "choropleth": [
           {
            "colorbar": {
             "outlinewidth": 0,
             "ticks": ""
            },
            "type": "choropleth"
           }
          ],
          "contour": [
           {
            "colorbar": {
             "outlinewidth": 0,
             "ticks": ""
            },
            "colorscale": [
             [
              0,
              "#0d0887"
             ],
             [
              0.1111111111111111,
              "#46039f"
             ],
             [
              0.2222222222222222,
              "#7201a8"
             ],
             [
              0.3333333333333333,
              "#9c179e"
             ],
             [
              0.4444444444444444,
              "#bd3786"
             ],
             [
              0.5555555555555556,
              "#d8576b"
             ],
             [
              0.6666666666666666,
              "#ed7953"
             ],
             [
              0.7777777777777778,
              "#fb9f3a"
             ],
             [
              0.8888888888888888,
              "#fdca26"
             ],
             [
              1,
              "#f0f921"
             ]
            ],
            "type": "contour"
           }
          ],
          "contourcarpet": [
           {
            "colorbar": {
             "outlinewidth": 0,
             "ticks": ""
            },
            "type": "contourcarpet"
           }
          ],
          "heatmap": [
           {
            "colorbar": {
             "outlinewidth": 0,
             "ticks": ""
            },
            "colorscale": [
             [
              0,
              "#0d0887"
             ],
             [
              0.1111111111111111,
              "#46039f"
             ],
             [
              0.2222222222222222,
              "#7201a8"
             ],
             [
              0.3333333333333333,
              "#9c179e"
             ],
             [
              0.4444444444444444,
              "#bd3786"
             ],
             [
              0.5555555555555556,
              "#d8576b"
             ],
             [
              0.6666666666666666,
              "#ed7953"
             ],
             [
              0.7777777777777778,
              "#fb9f3a"
             ],
             [
              0.8888888888888888,
              "#fdca26"
             ],
             [
              1,
              "#f0f921"
             ]
            ],
            "type": "heatmap"
           }
          ],
          "heatmapgl": [
           {
            "colorbar": {
             "outlinewidth": 0,
             "ticks": ""
            },
            "colorscale": [
             [
              0,
              "#0d0887"
             ],
             [
              0.1111111111111111,
              "#46039f"
             ],
             [
              0.2222222222222222,
              "#7201a8"
             ],
             [
              0.3333333333333333,
              "#9c179e"
             ],
             [
              0.4444444444444444,
              "#bd3786"
             ],
             [
              0.5555555555555556,
              "#d8576b"
             ],
             [
              0.6666666666666666,
              "#ed7953"
             ],
             [
              0.7777777777777778,
              "#fb9f3a"
             ],
             [
              0.8888888888888888,
              "#fdca26"
             ],
             [
              1,
              "#f0f921"
             ]
            ],
            "type": "heatmapgl"
           }
          ],
          "histogram": [
           {
            "marker": {
             "colorbar": {
              "outlinewidth": 0,
              "ticks": ""
             }
            },
            "type": "histogram"
           }
          ],
          "histogram2d": [
           {
            "colorbar": {
             "outlinewidth": 0,
             "ticks": ""
            },
            "colorscale": [
             [
              0,
              "#0d0887"
             ],
             [
              0.1111111111111111,
              "#46039f"
             ],
             [
              0.2222222222222222,
              "#7201a8"
             ],
             [
              0.3333333333333333,
              "#9c179e"
             ],
             [
              0.4444444444444444,
              "#bd3786"
             ],
             [
              0.5555555555555556,
              "#d8576b"
             ],
             [
              0.6666666666666666,
              "#ed7953"
             ],
             [
              0.7777777777777778,
              "#fb9f3a"
             ],
             [
              0.8888888888888888,
              "#fdca26"
             ],
             [
              1,
              "#f0f921"
             ]
            ],
            "type": "histogram2d"
           }
          ],
          "histogram2dcontour": [
           {
            "colorbar": {
             "outlinewidth": 0,
             "ticks": ""
            },
            "colorscale": [
             [
              0,
              "#0d0887"
             ],
             [
              0.1111111111111111,
              "#46039f"
             ],
             [
              0.2222222222222222,
              "#7201a8"
             ],
             [
              0.3333333333333333,
              "#9c179e"
             ],
             [
              0.4444444444444444,
              "#bd3786"
             ],
             [
              0.5555555555555556,
              "#d8576b"
             ],
             [
              0.6666666666666666,
              "#ed7953"
             ],
             [
              0.7777777777777778,
              "#fb9f3a"
             ],
             [
              0.8888888888888888,
              "#fdca26"
             ],
             [
              1,
              "#f0f921"
             ]
            ],
            "type": "histogram2dcontour"
           }
          ],
          "mesh3d": [
           {
            "colorbar": {
             "outlinewidth": 0,
             "ticks": ""
            },
            "type": "mesh3d"
           }
          ],
          "parcoords": [
           {
            "line": {
             "colorbar": {
              "outlinewidth": 0,
              "ticks": ""
             }
            },
            "type": "parcoords"
           }
          ],
          "pie": [
           {
            "automargin": true,
            "type": "pie"
           }
          ],
          "scatter": [
           {
            "marker": {
             "colorbar": {
              "outlinewidth": 0,
              "ticks": ""
             }
            },
            "type": "scatter"
           }
          ],
          "scatter3d": [
           {
            "line": {
             "colorbar": {
              "outlinewidth": 0,
              "ticks": ""
             }
            },
            "marker": {
             "colorbar": {
              "outlinewidth": 0,
              "ticks": ""
             }
            },
            "type": "scatter3d"
           }
          ],
          "scattercarpet": [
           {
            "marker": {
             "colorbar": {
              "outlinewidth": 0,
              "ticks": ""
             }
            },
            "type": "scattercarpet"
           }
          ],
          "scattergeo": [
           {
            "marker": {
             "colorbar": {
              "outlinewidth": 0,
              "ticks": ""
             }
            },
            "type": "scattergeo"
           }
          ],
          "scattergl": [
           {
            "marker": {
             "colorbar": {
              "outlinewidth": 0,
              "ticks": ""
             }
            },
            "type": "scattergl"
           }
          ],
          "scattermapbox": [
           {
            "marker": {
             "colorbar": {
              "outlinewidth": 0,
              "ticks": ""
             }
            },
            "type": "scattermapbox"
           }
          ],
          "scatterpolar": [
           {
            "marker": {
             "colorbar": {
              "outlinewidth": 0,
              "ticks": ""
             }
            },
            "type": "scatterpolar"
           }
          ],
          "scatterpolargl": [
           {
            "marker": {
             "colorbar": {
              "outlinewidth": 0,
              "ticks": ""
             }
            },
            "type": "scatterpolargl"
           }
          ],
          "scatterternary": [
           {
            "marker": {
             "colorbar": {
              "outlinewidth": 0,
              "ticks": ""
             }
            },
            "type": "scatterternary"
           }
          ],
          "surface": [
           {
            "colorbar": {
             "outlinewidth": 0,
             "ticks": ""
            },
            "colorscale": [
             [
              0,
              "#0d0887"
             ],
             [
              0.1111111111111111,
              "#46039f"
             ],
             [
              0.2222222222222222,
              "#7201a8"
             ],
             [
              0.3333333333333333,
              "#9c179e"
             ],
             [
              0.4444444444444444,
              "#bd3786"
             ],
             [
              0.5555555555555556,
              "#d8576b"
             ],
             [
              0.6666666666666666,
              "#ed7953"
             ],
             [
              0.7777777777777778,
              "#fb9f3a"
             ],
             [
              0.8888888888888888,
              "#fdca26"
             ],
             [
              1,
              "#f0f921"
             ]
            ],
            "type": "surface"
           }
          ],
          "table": [
           {
            "cells": {
             "fill": {
              "color": "#EBF0F8"
             },
             "line": {
              "color": "white"
             }
            },
            "header": {
             "fill": {
              "color": "#C8D4E3"
             },
             "line": {
              "color": "white"
             }
            },
            "type": "table"
           }
          ]
         },
         "layout": {
          "annotationdefaults": {
           "arrowcolor": "#2a3f5f",
           "arrowhead": 0,
           "arrowwidth": 1
          },
          "coloraxis": {
           "colorbar": {
            "outlinewidth": 0,
            "ticks": ""
           }
          },
          "colorscale": {
           "diverging": [
            [
             0,
             "#8e0152"
            ],
            [
             0.1,
             "#c51b7d"
            ],
            [
             0.2,
             "#de77ae"
            ],
            [
             0.3,
             "#f1b6da"
            ],
            [
             0.4,
             "#fde0ef"
            ],
            [
             0.5,
             "#f7f7f7"
            ],
            [
             0.6,
             "#e6f5d0"
            ],
            [
             0.7,
             "#b8e186"
            ],
            [
             0.8,
             "#7fbc41"
            ],
            [
             0.9,
             "#4d9221"
            ],
            [
             1,
             "#276419"
            ]
           ],
           "sequential": [
            [
             0,
             "#0d0887"
            ],
            [
             0.1111111111111111,
             "#46039f"
            ],
            [
             0.2222222222222222,
             "#7201a8"
            ],
            [
             0.3333333333333333,
             "#9c179e"
            ],
            [
             0.4444444444444444,
             "#bd3786"
            ],
            [
             0.5555555555555556,
             "#d8576b"
            ],
            [
             0.6666666666666666,
             "#ed7953"
            ],
            [
             0.7777777777777778,
             "#fb9f3a"
            ],
            [
             0.8888888888888888,
             "#fdca26"
            ],
            [
             1,
             "#f0f921"
            ]
           ],
           "sequentialminus": [
            [
             0,
             "#0d0887"
            ],
            [
             0.1111111111111111,
             "#46039f"
            ],
            [
             0.2222222222222222,
             "#7201a8"
            ],
            [
             0.3333333333333333,
             "#9c179e"
            ],
            [
             0.4444444444444444,
             "#bd3786"
            ],
            [
             0.5555555555555556,
             "#d8576b"
            ],
            [
             0.6666666666666666,
             "#ed7953"
            ],
            [
             0.7777777777777778,
             "#fb9f3a"
            ],
            [
             0.8888888888888888,
             "#fdca26"
            ],
            [
             1,
             "#f0f921"
            ]
           ]
          },
          "colorway": [
           "#636efa",
           "#EF553B",
           "#00cc96",
           "#ab63fa",
           "#FFA15A",
           "#19d3f3",
           "#FF6692",
           "#B6E880",
           "#FF97FF",
           "#FECB52"
          ],
          "font": {
           "color": "#2a3f5f"
          },
          "geo": {
           "bgcolor": "white",
           "lakecolor": "white",
           "landcolor": "white",
           "showlakes": true,
           "showland": true,
           "subunitcolor": "#C8D4E3"
          },
          "hoverlabel": {
           "align": "left"
          },
          "hovermode": "closest",
          "mapbox": {
           "style": "light"
          },
          "paper_bgcolor": "white",
          "plot_bgcolor": "white",
          "polar": {
           "angularaxis": {
            "gridcolor": "#EBF0F8",
            "linecolor": "#EBF0F8",
            "ticks": ""
           },
           "bgcolor": "white",
           "radialaxis": {
            "gridcolor": "#EBF0F8",
            "linecolor": "#EBF0F8",
            "ticks": ""
           }
          },
          "scene": {
           "xaxis": {
            "backgroundcolor": "white",
            "gridcolor": "#DFE8F3",
            "gridwidth": 2,
            "linecolor": "#EBF0F8",
            "showbackground": true,
            "ticks": "",
            "zerolinecolor": "#EBF0F8"
           },
           "yaxis": {
            "backgroundcolor": "white",
            "gridcolor": "#DFE8F3",
            "gridwidth": 2,
            "linecolor": "#EBF0F8",
            "showbackground": true,
            "ticks": "",
            "zerolinecolor": "#EBF0F8"
           },
           "zaxis": {
            "backgroundcolor": "white",
            "gridcolor": "#DFE8F3",
            "gridwidth": 2,
            "linecolor": "#EBF0F8",
            "showbackground": true,
            "ticks": "",
            "zerolinecolor": "#EBF0F8"
           }
          },
          "shapedefaults": {
           "line": {
            "color": "#2a3f5f"
           }
          },
          "ternary": {
           "aaxis": {
            "gridcolor": "#DFE8F3",
            "linecolor": "#A2B1C6",
            "ticks": ""
           },
           "baxis": {
            "gridcolor": "#DFE8F3",
            "linecolor": "#A2B1C6",
            "ticks": ""
           },
           "bgcolor": "white",
           "caxis": {
            "gridcolor": "#DFE8F3",
            "linecolor": "#A2B1C6",
            "ticks": ""
           }
          },
          "title": {
           "x": 0.05
          },
          "xaxis": {
           "automargin": true,
           "gridcolor": "#EBF0F8",
           "linecolor": "#EBF0F8",
           "ticks": "",
           "title": {
            "standoff": 15
           },
           "zerolinecolor": "#EBF0F8",
           "zerolinewidth": 2
          },
          "yaxis": {
           "automargin": true,
           "gridcolor": "#EBF0F8",
           "linecolor": "#EBF0F8",
           "ticks": "",
           "title": {
            "standoff": 15
           },
           "zerolinecolor": "#EBF0F8",
           "zerolinewidth": 2
          }
         }
        },
        "updatemenus": [
         {
          "buttons": [
           {
            "args": [
             {
              "yaxis.type": "linear"
             }
            ],
            "label": "Linear y-scale",
            "method": "relayout"
           },
           {
            "args": [
             {
              "yaxis.type": "log"
             }
            ],
            "label": "Log y-scale",
            "method": "relayout"
           }
          ],
          "direction": "left",
          "pad": {
           "r": 0,
           "t": -10
          },
          "showactive": true,
          "type": "buttons",
          "x": 0,
          "xanchor": "left",
          "y": 1.15,
          "yanchor": "top"
         }
        ],
        "xaxis": {
         "title": {
          "text": "$\\text{Time in day}$"
         }
        },
        "yaxis": {
         "title": {
          "text": "$\\text{Tumour volume in cm}^3$"
         }
        }
       }
      }
     },
     "metadata": {}
    }
   ],
   "source": [
    "import os\n",
    "\n",
    "import pandas as pd\n",
    "\n",
    "import erlotinib as erlo\n",
    "\n",
    "\n",
    "# Get data\n",
    "data = erlo.DataLibrary().lung_cancer_control_group()\n",
    "\n",
    "# Create scatter plot\n",
    "fig = erlo.plots.PDDataPlot()\n",
    "fig.add_data(data, id_key='#ID', time_key='TIME in day', pd_key='TUMOUR VOLUME in cm^3')\n",
    "fig.set_axis_labels(xlabel=r'$\\text{Time in day}$', ylabel=r'$\\text{Tumour volume in cm}^3$')\n",
    "\n",
    "# Show figure\n",
    "fig.show()"
   ]
  },
  {
   "cell_type": "code",
   "execution_count": null,
   "metadata": {},
   "outputs": [],
   "source": []
  },
  {
   "source": [
    "## Find MAP estimates for model parameters"
   ],
   "cell_type": "markdown",
   "metadata": {}
  },
  {
   "cell_type": "code",
   "execution_count": 2,
   "metadata": {
    "tags": []
   },
   "outputs": [
    {
     "output_type": "display_data",
     "data": {
      "text/plain": "HBox(children=(FloatProgress(value=0.0, max=8.0), HTML(value='')))",
      "application/vnd.jupyter.widget-view+json": {
       "version_major": 2,
       "version_minor": 0,
       "model_id": "264f651b51f54b21a24de1fb4a93d92e"
      }
     },
     "metadata": {}
    },
    {
     "output_type": "stream",
     "name": "stdout",
     "text": [
      "\n"
     ]
    }
   ],
   "source": [
    "import numpy as np\n",
    "import pints\n",
    "from tqdm.notebook import tqdm\n",
    "\n",
    "\n",
    "# Define model\n",
    "path = erlo.ModelLibrary().tumour_growth_inhibition_pd_model()\n",
    "model = erlo.PharmacodynamicModel(path)\n",
    "\n",
    "# Find maximum a posteriori probability estimates (MAP)\n",
    "result = pd.DataFrame(columns=['ID', 'Parameter', 'Estimate', 'Score', 'Run'])\n",
    "ids = data['#ID'].unique()\n",
    "for individual in tqdm(ids):\n",
    "    # Get data for individual\n",
    "    mask = data['#ID'] == individual\n",
    "    times = data[mask]['TIME in day'].to_numpy()\n",
    "    observed_volumes = data[mask]['TUMOUR VOLUME in cm^3'].to_numpy()\n",
    "\n",
    "    # Create inverse problem\n",
    "    problem = erlo.InverseProblem(model, times, observed_volumes)\n",
    "    log_likelihood = pints.ConstantAndMultiplicativeGaussianLogLikelihood(problem)\n",
    "    log_prior_tumour_volume = pints.UniformLogPrior(1E-3, 1E1)\n",
    "    log_prior_drug_conc = pints.UniformLogPrior(-1E-3, 1E-3)  # Fixed to zero below\n",
    "    log_prior_kappa = pints.UniformLogPrior(-1E-3, 1E-3)  # Fixed to zero below\n",
    "    log_prior_lambda_0 = pints.UniformLogPrior(1E-3, 1E1)\n",
    "    log_prior_lambda_1 = pints.UniformLogPrior(1E-3, 1E1)\n",
    "    log_prior_sigma_base = pints.HalfCauchyLogPrior(location=0, scale=3)\n",
    "    log_prior_sigma_rel = pints.HalfCauchyLogPrior(location=0, scale=3)\n",
    "    log_prior = pints.ComposedLogPrior(\n",
    "        log_prior_tumour_volume, \n",
    "        log_prior_drug_conc,\n",
    "        log_prior_kappa,\n",
    "        log_prior_lambda_0,\n",
    "        log_prior_lambda_1,\n",
    "        log_prior_sigma_base,\n",
    "        log_prior_sigma_rel)\n",
    "    log_posterior = pints.LogPosterior(log_likelihood, log_prior)\n",
    "\n",
    "    # Set up optmisation controller\n",
    "    optimiser = erlo.OptimisationController(\n",
    "        log_posterior=log_posterior,\n",
    "        optimiser=pints.CMAES)\n",
    "    \n",
    "    # Fix potency kappa, and drug concentration to 0\n",
    "    # (This is the control group, and thus there is no drug)\n",
    "    optimiser.fix_parameters(\n",
    "        mask=[False, True, True, False, False, False, False],\n",
    "        values=[0, 0])\n",
    "\n",
    "    # Run optimisation\n",
    "    individual_result = optimiser.run()\n",
    "\n",
    "    # Append individual result to result\n",
    "    individual_result['ID'] = individual\n",
    "    result = result.append(individual_result)"
   ]
  },
  {
   "cell_type": "code",
   "execution_count": 3,
   "metadata": {},
   "outputs": [
    {
     "output_type": "execute_result",
     "data": {
      "text/plain": [
       "   ID             Parameter  Estimate      Score Run\n",
       "0  40  myokit.tumour_volume  0.137718  18.520070   1\n",
       "1  40       myokit.lambda_0  0.284953  18.520070   1\n",
       "2  40       myokit.lambda_1  0.129620  18.520070   1\n",
       "3  40               noise 1  0.056481  18.520070   1\n",
       "0  40  myokit.tumour_volume  0.139336  18.526362   2\n",
       "1  40       myokit.lambda_0  0.275265  18.526362   2\n",
       "2  40       myokit.lambda_1  0.130952  18.526362   2\n",
       "3  40               noise 1  0.056231  18.526362   2\n",
       "0  40  myokit.tumour_volume  0.137718  18.520070   3\n",
       "1  40       myokit.lambda_0  0.284953  18.520070   3\n",
       "2  40       myokit.lambda_1  0.129620  18.520070   3\n",
       "3  40               noise 1  0.056481  18.520070   3\n",
       "0  40  myokit.tumour_volume  0.139222  18.526684   4\n",
       "1  40       myokit.lambda_0  0.275549  18.526684   4\n",
       "2  40       myokit.lambda_1  0.130948  18.526684   4\n",
       "3  40               noise 1  0.056447  18.526684   4\n",
       "0  40  myokit.tumour_volume  0.137719  18.520070   5\n",
       "1  40       myokit.lambda_0  0.284951  18.520070   5\n",
       "2  40       myokit.lambda_1  0.129620  18.520070   5\n",
       "3  40               noise 1  0.056481  18.520070   5\n",
       "0  40  myokit.tumour_volume  0.137718  18.520070   6\n",
       "1  40       myokit.lambda_0  0.284953  18.520070   6\n",
       "2  40       myokit.lambda_1  0.129620  18.520070   6\n",
       "3  40               noise 1  0.056481  18.520070   6\n",
       "0  40  myokit.tumour_volume  0.137718  18.520070   7\n",
       "1  40       myokit.lambda_0  0.284953  18.520070   7\n",
       "2  40       myokit.lambda_1  0.129620  18.520070   7\n",
       "3  40               noise 1  0.056480  18.520070   7\n",
       "0  40  myokit.tumour_volume  0.137718  18.520070   8\n",
       "1  40       myokit.lambda_0  0.284953  18.520070   8\n",
       "2  40       myokit.lambda_1  0.129620  18.520070   8\n",
       "3  40               noise 1  0.056481  18.520070   8\n",
       "0  40  myokit.tumour_volume  0.137718  18.520070   9\n",
       "1  40       myokit.lambda_0  0.284954  18.520070   9\n",
       "2  40       myokit.lambda_1  0.129620  18.520070   9\n",
       "3  40               noise 1  0.056480  18.520070   9\n",
       "0  40  myokit.tumour_volume  0.139204  18.524509  10\n",
       "1  40       myokit.lambda_0  0.275501  18.524509  10\n",
       "2  40       myokit.lambda_1  0.130925  18.524509  10\n",
       "3  40               noise 1  0.057228  18.524509  10"
      ],
      "text/html": "<div>\n<style scoped>\n    .dataframe tbody tr th:only-of-type {\n        vertical-align: middle;\n    }\n\n    .dataframe tbody tr th {\n        vertical-align: top;\n    }\n\n    .dataframe thead th {\n        text-align: right;\n    }\n</style>\n<table border=\"1\" class=\"dataframe\">\n  <thead>\n    <tr style=\"text-align: right;\">\n      <th></th>\n      <th>ID</th>\n      <th>Parameter</th>\n      <th>Estimate</th>\n      <th>Score</th>\n      <th>Run</th>\n    </tr>\n  </thead>\n  <tbody>\n    <tr>\n      <th>0</th>\n      <td>40</td>\n      <td>myokit.tumour_volume</td>\n      <td>0.137718</td>\n      <td>18.520070</td>\n      <td>1</td>\n    </tr>\n    <tr>\n      <th>1</th>\n      <td>40</td>\n      <td>myokit.lambda_0</td>\n      <td>0.284953</td>\n      <td>18.520070</td>\n      <td>1</td>\n    </tr>\n    <tr>\n      <th>2</th>\n      <td>40</td>\n      <td>myokit.lambda_1</td>\n      <td>0.129620</td>\n      <td>18.520070</td>\n      <td>1</td>\n    </tr>\n    <tr>\n      <th>3</th>\n      <td>40</td>\n      <td>noise 1</td>\n      <td>0.056481</td>\n      <td>18.520070</td>\n      <td>1</td>\n    </tr>\n    <tr>\n      <th>0</th>\n      <td>40</td>\n      <td>myokit.tumour_volume</td>\n      <td>0.139336</td>\n      <td>18.526362</td>\n      <td>2</td>\n    </tr>\n    <tr>\n      <th>1</th>\n      <td>40</td>\n      <td>myokit.lambda_0</td>\n      <td>0.275265</td>\n      <td>18.526362</td>\n      <td>2</td>\n    </tr>\n    <tr>\n      <th>2</th>\n      <td>40</td>\n      <td>myokit.lambda_1</td>\n      <td>0.130952</td>\n      <td>18.526362</td>\n      <td>2</td>\n    </tr>\n    <tr>\n      <th>3</th>\n      <td>40</td>\n      <td>noise 1</td>\n      <td>0.056231</td>\n      <td>18.526362</td>\n      <td>2</td>\n    </tr>\n    <tr>\n      <th>0</th>\n      <td>40</td>\n      <td>myokit.tumour_volume</td>\n      <td>0.137718</td>\n      <td>18.520070</td>\n      <td>3</td>\n    </tr>\n    <tr>\n      <th>1</th>\n      <td>40</td>\n      <td>myokit.lambda_0</td>\n      <td>0.284953</td>\n      <td>18.520070</td>\n      <td>3</td>\n    </tr>\n    <tr>\n      <th>2</th>\n      <td>40</td>\n      <td>myokit.lambda_1</td>\n      <td>0.129620</td>\n      <td>18.520070</td>\n      <td>3</td>\n    </tr>\n    <tr>\n      <th>3</th>\n      <td>40</td>\n      <td>noise 1</td>\n      <td>0.056481</td>\n      <td>18.520070</td>\n      <td>3</td>\n    </tr>\n    <tr>\n      <th>0</th>\n      <td>40</td>\n      <td>myokit.tumour_volume</td>\n      <td>0.139222</td>\n      <td>18.526684</td>\n      <td>4</td>\n    </tr>\n    <tr>\n      <th>1</th>\n      <td>40</td>\n      <td>myokit.lambda_0</td>\n      <td>0.275549</td>\n      <td>18.526684</td>\n      <td>4</td>\n    </tr>\n    <tr>\n      <th>2</th>\n      <td>40</td>\n      <td>myokit.lambda_1</td>\n      <td>0.130948</td>\n      <td>18.526684</td>\n      <td>4</td>\n    </tr>\n    <tr>\n      <th>3</th>\n      <td>40</td>\n      <td>noise 1</td>\n      <td>0.056447</td>\n      <td>18.526684</td>\n      <td>4</td>\n    </tr>\n    <tr>\n      <th>0</th>\n      <td>40</td>\n      <td>myokit.tumour_volume</td>\n      <td>0.137719</td>\n      <td>18.520070</td>\n      <td>5</td>\n    </tr>\n    <tr>\n      <th>1</th>\n      <td>40</td>\n      <td>myokit.lambda_0</td>\n      <td>0.284951</td>\n      <td>18.520070</td>\n      <td>5</td>\n    </tr>\n    <tr>\n      <th>2</th>\n      <td>40</td>\n      <td>myokit.lambda_1</td>\n      <td>0.129620</td>\n      <td>18.520070</td>\n      <td>5</td>\n    </tr>\n    <tr>\n      <th>3</th>\n      <td>40</td>\n      <td>noise 1</td>\n      <td>0.056481</td>\n      <td>18.520070</td>\n      <td>5</td>\n    </tr>\n    <tr>\n      <th>0</th>\n      <td>40</td>\n      <td>myokit.tumour_volume</td>\n      <td>0.137718</td>\n      <td>18.520070</td>\n      <td>6</td>\n    </tr>\n    <tr>\n      <th>1</th>\n      <td>40</td>\n      <td>myokit.lambda_0</td>\n      <td>0.284953</td>\n      <td>18.520070</td>\n      <td>6</td>\n    </tr>\n    <tr>\n      <th>2</th>\n      <td>40</td>\n      <td>myokit.lambda_1</td>\n      <td>0.129620</td>\n      <td>18.520070</td>\n      <td>6</td>\n    </tr>\n    <tr>\n      <th>3</th>\n      <td>40</td>\n      <td>noise 1</td>\n      <td>0.056481</td>\n      <td>18.520070</td>\n      <td>6</td>\n    </tr>\n    <tr>\n      <th>0</th>\n      <td>40</td>\n      <td>myokit.tumour_volume</td>\n      <td>0.137718</td>\n      <td>18.520070</td>\n      <td>7</td>\n    </tr>\n    <tr>\n      <th>1</th>\n      <td>40</td>\n      <td>myokit.lambda_0</td>\n      <td>0.284953</td>\n      <td>18.520070</td>\n      <td>7</td>\n    </tr>\n    <tr>\n      <th>2</th>\n      <td>40</td>\n      <td>myokit.lambda_1</td>\n      <td>0.129620</td>\n      <td>18.520070</td>\n      <td>7</td>\n    </tr>\n    <tr>\n      <th>3</th>\n      <td>40</td>\n      <td>noise 1</td>\n      <td>0.056480</td>\n      <td>18.520070</td>\n      <td>7</td>\n    </tr>\n    <tr>\n      <th>0</th>\n      <td>40</td>\n      <td>myokit.tumour_volume</td>\n      <td>0.137718</td>\n      <td>18.520070</td>\n      <td>8</td>\n    </tr>\n    <tr>\n      <th>1</th>\n      <td>40</td>\n      <td>myokit.lambda_0</td>\n      <td>0.284953</td>\n      <td>18.520070</td>\n      <td>8</td>\n    </tr>\n    <tr>\n      <th>2</th>\n      <td>40</td>\n      <td>myokit.lambda_1</td>\n      <td>0.129620</td>\n      <td>18.520070</td>\n      <td>8</td>\n    </tr>\n    <tr>\n      <th>3</th>\n      <td>40</td>\n      <td>noise 1</td>\n      <td>0.056481</td>\n      <td>18.520070</td>\n      <td>8</td>\n    </tr>\n    <tr>\n      <th>0</th>\n      <td>40</td>\n      <td>myokit.tumour_volume</td>\n      <td>0.137718</td>\n      <td>18.520070</td>\n      <td>9</td>\n    </tr>\n    <tr>\n      <th>1</th>\n      <td>40</td>\n      <td>myokit.lambda_0</td>\n      <td>0.284954</td>\n      <td>18.520070</td>\n      <td>9</td>\n    </tr>\n    <tr>\n      <th>2</th>\n      <td>40</td>\n      <td>myokit.lambda_1</td>\n      <td>0.129620</td>\n      <td>18.520070</td>\n      <td>9</td>\n    </tr>\n    <tr>\n      <th>3</th>\n      <td>40</td>\n      <td>noise 1</td>\n      <td>0.056480</td>\n      <td>18.520070</td>\n      <td>9</td>\n    </tr>\n    <tr>\n      <th>0</th>\n      <td>40</td>\n      <td>myokit.tumour_volume</td>\n      <td>0.139204</td>\n      <td>18.524509</td>\n      <td>10</td>\n    </tr>\n    <tr>\n      <th>1</th>\n      <td>40</td>\n      <td>myokit.lambda_0</td>\n      <td>0.275501</td>\n      <td>18.524509</td>\n      <td>10</td>\n    </tr>\n    <tr>\n      <th>2</th>\n      <td>40</td>\n      <td>myokit.lambda_1</td>\n      <td>0.130925</td>\n      <td>18.524509</td>\n      <td>10</td>\n    </tr>\n    <tr>\n      <th>3</th>\n      <td>40</td>\n      <td>noise 1</td>\n      <td>0.057228</td>\n      <td>18.524509</td>\n      <td>10</td>\n    </tr>\n  </tbody>\n</table>\n</div>"
     },
     "metadata": {},
     "execution_count": 3
    }
   ],
   "source": [
    "result[result['ID'] == 40]"
   ]
  },
  {
   "cell_type": "code",
   "execution_count": null,
   "metadata": {},
   "outputs": [],
   "source": []
  }
 ]
}