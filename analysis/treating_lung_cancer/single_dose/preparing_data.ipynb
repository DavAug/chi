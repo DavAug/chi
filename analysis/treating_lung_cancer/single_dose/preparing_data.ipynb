{
 "metadata": {
  "language_info": {
   "codemirror_mode": {
    "name": "ipython",
    "version": 3
   },
   "file_extension": ".py",
   "mimetype": "text/x-python",
   "name": "python",
   "nbconvert_exporter": "python",
   "pygments_lexer": "ipython3",
   "version": "3.7.5-final"
  },
  "orig_nbformat": 2,
  "kernelspec": {
   "name": "erlotinib-venv",
   "display_name": "erlotinib-venv",
   "language": "python"
  }
 },
 "nbformat": 4,
 "nbformat_minor": 2,
 "cells": [
  {
   "source": [
    "# Single Dose Erlotinib PK Data"
   ],
   "cell_type": "markdown",
   "metadata": {}
  },
  {
   "source": [
    "The published data in Eigenmann et al. is averaged over individuals. We want to keep the information about the individuals, which is why we will transfer the data from the Roche report by hand."
   ],
   "cell_type": "markdown",
   "metadata": {}
  },
  {
   "source": [
    "## Data collection"
   ],
   "cell_type": "markdown",
   "metadata": {}
  },
  {
   "source": [
    "The data contains plasma concentration measurements in mice after an administration of an oral dose of 100 mg/kg. Below we construct a dataframe with the measurements.\n",
    "\n",
    "Note: we neglected measurements that were below the resolution of the measurement device (could be changed at a later stage)."
   ],
   "cell_type": "markdown",
   "metadata": {}
  },
  {
   "source": [
    "### Plasma concentration measurements"
   ],
   "cell_type": "markdown",
   "metadata": {}
  },
  {
   "cell_type": "code",
   "execution_count": 2,
   "metadata": {},
   "outputs": [
    {
     "output_type": "execute_result",
     "data": {
      "text/plain": [
       "     ID       Time Time unit             Biomarker  Measurement  \\\n",
       "1    12          0         d  Plasma concentration         1.83   \n",
       "2    56  0.0208333         d  Plasma concentration      5420.00   \n",
       "3    61  0.0208333         d  Plasma concentration      7390.00   \n",
       "4   126  0.0416667         d  Plasma concentration      6640.00   \n",
       "5    76  0.0416667         d  Plasma concentration      7740.00   \n",
       "6    57  0.0833333         d  Plasma concentration      5020.00   \n",
       "7    27  0.0833333         d  Plasma concentration      3970.00   \n",
       "8    14   0.166667         d  Plasma concentration      4020.00   \n",
       "9   160   0.166667         d  Plasma concentration      4830.00   \n",
       "10    1   0.333333         d  Plasma concentration      3570.00   \n",
       "11   20   0.333333         d  Plasma concentration      3070.00   \n",
       "12  152        0.5         d  Plasma concentration       900.00   \n",
       "13  110        0.5         d  Plasma concentration       448.00   \n",
       "14   10          1         d  Plasma concentration        41.40   \n",
       "15   74          1         d  Plasma concentration       175.00   \n",
       "16   30          4         d  Plasma concentration        11.80   \n",
       "17  120    4.02083         d  Plasma concentration     11500.00   \n",
       "18  148    4.02083         d  Plasma concentration      9370.00   \n",
       "19   50    4.04167         d  Plasma concentration      7240.00   \n",
       "20   77    4.04167         d  Plasma concentration      5810.00   \n",
       "21   43    4.08333         d  Plasma concentration      4630.00   \n",
       "22    2    4.08333         d  Plasma concentration      5330.00   \n",
       "23   83    4.16667         d  Plasma concentration      3390.00   \n",
       "24    3    4.16667         d  Plasma concentration      3350.00   \n",
       "25  103    4.33333         d  Plasma concentration      4600.00   \n",
       "26  114    4.33333         d  Plasma concentration      6280.00   \n",
       "27  102        4.5         d  Plasma concentration      1940.00   \n",
       "28   18        4.5         d  Plasma concentration      3210.00   \n",
       "29   73          5         d  Plasma concentration      2180.00   \n",
       "30   33          5         d  Plasma concentration      3050.00   \n",
       "\n",
       "   Biomarker unit  Dose  Dose unit  Duration  \n",
       "1           ng/mL   NaN        NaN       NaN  \n",
       "2           ng/mL   NaN        NaN       NaN  \n",
       "3           ng/mL   NaN        NaN       NaN  \n",
       "4           ng/mL   NaN        NaN       NaN  \n",
       "5           ng/mL   NaN        NaN       NaN  \n",
       "6           ng/mL   NaN        NaN       NaN  \n",
       "7           ng/mL   NaN        NaN       NaN  \n",
       "8           ng/mL   NaN        NaN       NaN  \n",
       "9           ng/mL   NaN        NaN       NaN  \n",
       "10          ng/mL   NaN        NaN       NaN  \n",
       "11          ng/mL   NaN        NaN       NaN  \n",
       "12          ng/mL   NaN        NaN       NaN  \n",
       "13          ng/mL   NaN        NaN       NaN  \n",
       "14          ng/mL   NaN        NaN       NaN  \n",
       "15          ng/mL   NaN        NaN       NaN  \n",
       "16          ng/mL   NaN        NaN       NaN  \n",
       "17          ng/mL   NaN        NaN       NaN  \n",
       "18          ng/mL   NaN        NaN       NaN  \n",
       "19          ng/mL   NaN        NaN       NaN  \n",
       "20          ng/mL   NaN        NaN       NaN  \n",
       "21          ng/mL   NaN        NaN       NaN  \n",
       "22          ng/mL   NaN        NaN       NaN  \n",
       "23          ng/mL   NaN        NaN       NaN  \n",
       "24          ng/mL   NaN        NaN       NaN  \n",
       "25          ng/mL   NaN        NaN       NaN  \n",
       "26          ng/mL   NaN        NaN       NaN  \n",
       "27          ng/mL   NaN        NaN       NaN  \n",
       "28          ng/mL   NaN        NaN       NaN  \n",
       "29          ng/mL   NaN        NaN       NaN  \n",
       "30          ng/mL   NaN        NaN       NaN  "
      ],
      "text/html": "<div>\n<style scoped>\n    .dataframe tbody tr th:only-of-type {\n        vertical-align: middle;\n    }\n\n    .dataframe tbody tr th {\n        vertical-align: top;\n    }\n\n    .dataframe thead th {\n        text-align: right;\n    }\n</style>\n<table border=\"1\" class=\"dataframe\">\n  <thead>\n    <tr style=\"text-align: right;\">\n      <th></th>\n      <th>ID</th>\n      <th>Time</th>\n      <th>Time unit</th>\n      <th>Biomarker</th>\n      <th>Measurement</th>\n      <th>Biomarker unit</th>\n      <th>Dose</th>\n      <th>Dose unit</th>\n      <th>Duration</th>\n    </tr>\n  </thead>\n  <tbody>\n    <tr>\n      <th>1</th>\n      <td>12</td>\n      <td>0</td>\n      <td>d</td>\n      <td>Plasma concentration</td>\n      <td>1.83</td>\n      <td>ng/mL</td>\n      <td>NaN</td>\n      <td>NaN</td>\n      <td>NaN</td>\n    </tr>\n    <tr>\n      <th>2</th>\n      <td>56</td>\n      <td>0.0208333</td>\n      <td>d</td>\n      <td>Plasma concentration</td>\n      <td>5420.00</td>\n      <td>ng/mL</td>\n      <td>NaN</td>\n      <td>NaN</td>\n      <td>NaN</td>\n    </tr>\n    <tr>\n      <th>3</th>\n      <td>61</td>\n      <td>0.0208333</td>\n      <td>d</td>\n      <td>Plasma concentration</td>\n      <td>7390.00</td>\n      <td>ng/mL</td>\n      <td>NaN</td>\n      <td>NaN</td>\n      <td>NaN</td>\n    </tr>\n    <tr>\n      <th>4</th>\n      <td>126</td>\n      <td>0.0416667</td>\n      <td>d</td>\n      <td>Plasma concentration</td>\n      <td>6640.00</td>\n      <td>ng/mL</td>\n      <td>NaN</td>\n      <td>NaN</td>\n      <td>NaN</td>\n    </tr>\n    <tr>\n      <th>5</th>\n      <td>76</td>\n      <td>0.0416667</td>\n      <td>d</td>\n      <td>Plasma concentration</td>\n      <td>7740.00</td>\n      <td>ng/mL</td>\n      <td>NaN</td>\n      <td>NaN</td>\n      <td>NaN</td>\n    </tr>\n    <tr>\n      <th>6</th>\n      <td>57</td>\n      <td>0.0833333</td>\n      <td>d</td>\n      <td>Plasma concentration</td>\n      <td>5020.00</td>\n      <td>ng/mL</td>\n      <td>NaN</td>\n      <td>NaN</td>\n      <td>NaN</td>\n    </tr>\n    <tr>\n      <th>7</th>\n      <td>27</td>\n      <td>0.0833333</td>\n      <td>d</td>\n      <td>Plasma concentration</td>\n      <td>3970.00</td>\n      <td>ng/mL</td>\n      <td>NaN</td>\n      <td>NaN</td>\n      <td>NaN</td>\n    </tr>\n    <tr>\n      <th>8</th>\n      <td>14</td>\n      <td>0.166667</td>\n      <td>d</td>\n      <td>Plasma concentration</td>\n      <td>4020.00</td>\n      <td>ng/mL</td>\n      <td>NaN</td>\n      <td>NaN</td>\n      <td>NaN</td>\n    </tr>\n    <tr>\n      <th>9</th>\n      <td>160</td>\n      <td>0.166667</td>\n      <td>d</td>\n      <td>Plasma concentration</td>\n      <td>4830.00</td>\n      <td>ng/mL</td>\n      <td>NaN</td>\n      <td>NaN</td>\n      <td>NaN</td>\n    </tr>\n    <tr>\n      <th>10</th>\n      <td>1</td>\n      <td>0.333333</td>\n      <td>d</td>\n      <td>Plasma concentration</td>\n      <td>3570.00</td>\n      <td>ng/mL</td>\n      <td>NaN</td>\n      <td>NaN</td>\n      <td>NaN</td>\n    </tr>\n    <tr>\n      <th>11</th>\n      <td>20</td>\n      <td>0.333333</td>\n      <td>d</td>\n      <td>Plasma concentration</td>\n      <td>3070.00</td>\n      <td>ng/mL</td>\n      <td>NaN</td>\n      <td>NaN</td>\n      <td>NaN</td>\n    </tr>\n    <tr>\n      <th>12</th>\n      <td>152</td>\n      <td>0.5</td>\n      <td>d</td>\n      <td>Plasma concentration</td>\n      <td>900.00</td>\n      <td>ng/mL</td>\n      <td>NaN</td>\n      <td>NaN</td>\n      <td>NaN</td>\n    </tr>\n    <tr>\n      <th>13</th>\n      <td>110</td>\n      <td>0.5</td>\n      <td>d</td>\n      <td>Plasma concentration</td>\n      <td>448.00</td>\n      <td>ng/mL</td>\n      <td>NaN</td>\n      <td>NaN</td>\n      <td>NaN</td>\n    </tr>\n    <tr>\n      <th>14</th>\n      <td>10</td>\n      <td>1</td>\n      <td>d</td>\n      <td>Plasma concentration</td>\n      <td>41.40</td>\n      <td>ng/mL</td>\n      <td>NaN</td>\n      <td>NaN</td>\n      <td>NaN</td>\n    </tr>\n    <tr>\n      <th>15</th>\n      <td>74</td>\n      <td>1</td>\n      <td>d</td>\n      <td>Plasma concentration</td>\n      <td>175.00</td>\n      <td>ng/mL</td>\n      <td>NaN</td>\n      <td>NaN</td>\n      <td>NaN</td>\n    </tr>\n    <tr>\n      <th>16</th>\n      <td>30</td>\n      <td>4</td>\n      <td>d</td>\n      <td>Plasma concentration</td>\n      <td>11.80</td>\n      <td>ng/mL</td>\n      <td>NaN</td>\n      <td>NaN</td>\n      <td>NaN</td>\n    </tr>\n    <tr>\n      <th>17</th>\n      <td>120</td>\n      <td>4.02083</td>\n      <td>d</td>\n      <td>Plasma concentration</td>\n      <td>11500.00</td>\n      <td>ng/mL</td>\n      <td>NaN</td>\n      <td>NaN</td>\n      <td>NaN</td>\n    </tr>\n    <tr>\n      <th>18</th>\n      <td>148</td>\n      <td>4.02083</td>\n      <td>d</td>\n      <td>Plasma concentration</td>\n      <td>9370.00</td>\n      <td>ng/mL</td>\n      <td>NaN</td>\n      <td>NaN</td>\n      <td>NaN</td>\n    </tr>\n    <tr>\n      <th>19</th>\n      <td>50</td>\n      <td>4.04167</td>\n      <td>d</td>\n      <td>Plasma concentration</td>\n      <td>7240.00</td>\n      <td>ng/mL</td>\n      <td>NaN</td>\n      <td>NaN</td>\n      <td>NaN</td>\n    </tr>\n    <tr>\n      <th>20</th>\n      <td>77</td>\n      <td>4.04167</td>\n      <td>d</td>\n      <td>Plasma concentration</td>\n      <td>5810.00</td>\n      <td>ng/mL</td>\n      <td>NaN</td>\n      <td>NaN</td>\n      <td>NaN</td>\n    </tr>\n    <tr>\n      <th>21</th>\n      <td>43</td>\n      <td>4.08333</td>\n      <td>d</td>\n      <td>Plasma concentration</td>\n      <td>4630.00</td>\n      <td>ng/mL</td>\n      <td>NaN</td>\n      <td>NaN</td>\n      <td>NaN</td>\n    </tr>\n    <tr>\n      <th>22</th>\n      <td>2</td>\n      <td>4.08333</td>\n      <td>d</td>\n      <td>Plasma concentration</td>\n      <td>5330.00</td>\n      <td>ng/mL</td>\n      <td>NaN</td>\n      <td>NaN</td>\n      <td>NaN</td>\n    </tr>\n    <tr>\n      <th>23</th>\n      <td>83</td>\n      <td>4.16667</td>\n      <td>d</td>\n      <td>Plasma concentration</td>\n      <td>3390.00</td>\n      <td>ng/mL</td>\n      <td>NaN</td>\n      <td>NaN</td>\n      <td>NaN</td>\n    </tr>\n    <tr>\n      <th>24</th>\n      <td>3</td>\n      <td>4.16667</td>\n      <td>d</td>\n      <td>Plasma concentration</td>\n      <td>3350.00</td>\n      <td>ng/mL</td>\n      <td>NaN</td>\n      <td>NaN</td>\n      <td>NaN</td>\n    </tr>\n    <tr>\n      <th>25</th>\n      <td>103</td>\n      <td>4.33333</td>\n      <td>d</td>\n      <td>Plasma concentration</td>\n      <td>4600.00</td>\n      <td>ng/mL</td>\n      <td>NaN</td>\n      <td>NaN</td>\n      <td>NaN</td>\n    </tr>\n    <tr>\n      <th>26</th>\n      <td>114</td>\n      <td>4.33333</td>\n      <td>d</td>\n      <td>Plasma concentration</td>\n      <td>6280.00</td>\n      <td>ng/mL</td>\n      <td>NaN</td>\n      <td>NaN</td>\n      <td>NaN</td>\n    </tr>\n    <tr>\n      <th>27</th>\n      <td>102</td>\n      <td>4.5</td>\n      <td>d</td>\n      <td>Plasma concentration</td>\n      <td>1940.00</td>\n      <td>ng/mL</td>\n      <td>NaN</td>\n      <td>NaN</td>\n      <td>NaN</td>\n    </tr>\n    <tr>\n      <th>28</th>\n      <td>18</td>\n      <td>4.5</td>\n      <td>d</td>\n      <td>Plasma concentration</td>\n      <td>3210.00</td>\n      <td>ng/mL</td>\n      <td>NaN</td>\n      <td>NaN</td>\n      <td>NaN</td>\n    </tr>\n    <tr>\n      <th>29</th>\n      <td>73</td>\n      <td>5</td>\n      <td>d</td>\n      <td>Plasma concentration</td>\n      <td>2180.00</td>\n      <td>ng/mL</td>\n      <td>NaN</td>\n      <td>NaN</td>\n      <td>NaN</td>\n    </tr>\n    <tr>\n      <th>30</th>\n      <td>33</td>\n      <td>5</td>\n      <td>d</td>\n      <td>Plasma concentration</td>\n      <td>3050.00</td>\n      <td>ng/mL</td>\n      <td>NaN</td>\n      <td>NaN</td>\n      <td>NaN</td>\n    </tr>\n  </tbody>\n</table>\n</div>"
     },
     "metadata": {},
     "execution_count": 2
    }
   ],
   "source": [
    "import numpy as np\n",
    "import pandas as pd\n",
    "\n",
    "# Define dataframe container\n",
    "data = pd.DataFrame(columns=[\n",
    "    'ID', 'Time', 'Time unit', 'Biomarker', 'Measurement', 'Biomarker unit', 'Dose', 'Dose unit', 'Duration'])\n",
    "\n",
    "# Add data row by row\n",
    "# Subject 18P\n",
    "temp = pd.DataFrame({\n",
    "    'ID': '12',\n",
    "    'Time': 0,\n",
    "    'Time unit': 'd',\n",
    "    'Biomarker': 'Plasma concentration',\n",
    "    'Measurement': 1.83,\n",
    "    'Biomarker unit': 'ng/mL',\n",
    "    'Dose': np.nan,\n",
    "    'Dose unit': np.nan,\n",
    "    'Duration': np.nan}, \n",
    "    index=[1])\n",
    "data = data.append(temp)\n",
    "\n",
    "# Subject 19P\n",
    "temp = pd.DataFrame({\n",
    "    'ID': '56',\n",
    "    'Time': 0.5 / 24,\n",
    "    'Time unit': 'd',\n",
    "    'Biomarker': 'Plasma concentration',\n",
    "    'Measurement': 5420,\n",
    "    'Biomarker unit': 'ng/mL',\n",
    "    'Dose': np.nan,\n",
    "    'Dose unit': np.nan,\n",
    "    'Duration': np.nan}, \n",
    "    index=[2])\n",
    "data = data.append(temp)\n",
    "\n",
    "# Subject 20P\n",
    "temp = pd.DataFrame({\n",
    "    'ID': '61',\n",
    "    'Time': 0.5 / 24,\n",
    "    'Time unit': 'd',\n",
    "    'Biomarker': 'Plasma concentration',\n",
    "    'Measurement': 7390,\n",
    "    'Biomarker unit': 'ng/mL',\n",
    "    'Dose': np.nan,\n",
    "    'Dose unit': np.nan,\n",
    "    'Duration': np.nan}, \n",
    "    index=[3])\n",
    "data = data.append(temp)\n",
    "\n",
    "# Subject 21P\n",
    "temp = pd.DataFrame({\n",
    "    'ID': '126',\n",
    "    'Time': 1 / 24,\n",
    "    'Time unit': 'd',\n",
    "    'Biomarker': 'Plasma concentration',\n",
    "    'Measurement': 6640,\n",
    "    'Biomarker unit': 'ng/mL',\n",
    "    'Dose': np.nan,\n",
    "    'Dose unit': np.nan,\n",
    "    'Duration': np.nan}, \n",
    "    index=[4])\n",
    "data = data.append(temp)\n",
    "\n",
    "# Subject 22P\n",
    "temp = pd.DataFrame({\n",
    "    'ID': '76',\n",
    "    'Time': 1 / 24,\n",
    "    'Time unit': 'd',\n",
    "    'Biomarker': 'Plasma concentration',\n",
    "    'Measurement': 7740,\n",
    "    'Biomarker unit': 'ng/mL',\n",
    "    'Dose': np.nan,\n",
    "    'Dose unit': np.nan,\n",
    "    'Duration': np.nan}, \n",
    "    index=[5])\n",
    "data = data.append(temp)\n",
    "\n",
    "# Subject 23P\n",
    "temp = pd.DataFrame({\n",
    "    'ID': '57',\n",
    "    'Time': 2 / 24,\n",
    "    'Time unit': 'd',\n",
    "    'Biomarker': 'Plasma concentration',\n",
    "    'Measurement': 5020,\n",
    "    'Biomarker unit': 'ng/mL',\n",
    "    'Dose': np.nan,\n",
    "    'Dose unit': np.nan,\n",
    "    'Duration': np.nan}, \n",
    "    index=[6])\n",
    "data = data.append(temp)\n",
    "\n",
    "# Subject 24P\n",
    "temp = pd.DataFrame({\n",
    "    'ID': '27',\n",
    "    'Time': 2 / 24,\n",
    "    'Time unit': 'd',\n",
    "    'Biomarker': 'Plasma concentration',\n",
    "    'Measurement': 3970,\n",
    "    'Biomarker unit': 'ng/mL',\n",
    "    'Dose': np.nan,\n",
    "    'Dose unit': np.nan,\n",
    "    'Duration': np.nan}, \n",
    "    index=[7])\n",
    "data = data.append(temp)\n",
    "\n",
    "# Subject 25P\n",
    "temp = pd.DataFrame({\n",
    "    'ID': '14',\n",
    "    'Time': 4 / 24,\n",
    "    'Time unit': 'd',\n",
    "    'Biomarker': 'Plasma concentration',\n",
    "    'Measurement': 4020,\n",
    "    'Biomarker unit': 'ng/mL',\n",
    "    'Dose': np.nan,\n",
    "    'Dose unit': np.nan,\n",
    "    'Duration': np.nan}, \n",
    "    index=[8])\n",
    "data = data.append(temp)\n",
    "\n",
    "# Subject 26P\n",
    "temp = pd.DataFrame({\n",
    "    'ID': '160',\n",
    "    'Time': 4 / 24,\n",
    "    'Time unit': 'd',\n",
    "    'Biomarker': 'Plasma concentration',\n",
    "    'Measurement': 4830,\n",
    "    'Biomarker unit': 'ng/mL',\n",
    "    'Dose': np.nan,\n",
    "    'Dose unit': np.nan,\n",
    "    'Duration': np.nan}, \n",
    "    index=[9])\n",
    "data = data.append(temp)\n",
    "\n",
    "# Subject 27P\n",
    "temp = pd.DataFrame({\n",
    "    'ID': '1',\n",
    "    'Time': 8 / 24,\n",
    "    'Time unit': 'd',\n",
    "    'Biomarker': 'Plasma concentration',\n",
    "    'Measurement': 3570,\n",
    "    'Biomarker unit': 'ng/mL',\n",
    "    'Dose': np.nan,\n",
    "    'Dose unit': np.nan,\n",
    "    'Duration': np.nan}, \n",
    "    index=[10])\n",
    "data = data.append(temp)\n",
    "\n",
    "# Subject 28P\n",
    "temp = pd.DataFrame({\n",
    "    'ID': '20',\n",
    "    'Time': 8 / 24,\n",
    "    'Time unit': 'd',\n",
    "    'Biomarker': 'Plasma concentration',\n",
    "    'Measurement': 3070,\n",
    "    'Biomarker unit': 'ng/mL',\n",
    "    'Dose': np.nan,\n",
    "    'Dose unit': np.nan,\n",
    "    'Duration': np.nan}, \n",
    "    index=[11])\n",
    "data = data.append(temp)\n",
    "\n",
    "# Subject 29P\n",
    "temp = pd.DataFrame({\n",
    "    'ID': '152',\n",
    "    'Time': 12 / 24,\n",
    "    'Time unit': 'd',\n",
    "    'Biomarker': 'Plasma concentration',\n",
    "    'Measurement': 900,\n",
    "    'Biomarker unit': 'ng/mL',\n",
    "    'Dose': np.nan,\n",
    "    'Dose unit': np.nan,\n",
    "    'Duration': np.nan}, \n",
    "    index=[12])\n",
    "data = data.append(temp)\n",
    "\n",
    "# Subject 30P\n",
    "temp = pd.DataFrame({\n",
    "    'ID': '110',\n",
    "    'Time': 12 / 24,\n",
    "    'Time unit': 'd',\n",
    "    'Biomarker': 'Plasma concentration',\n",
    "    'Measurement': 448,\n",
    "    'Biomarker unit': 'ng/mL',\n",
    "    'Dose': np.nan,\n",
    "    'Dose unit': np.nan,\n",
    "    'Duration': np.nan}, \n",
    "    index=[13])\n",
    "data = data.append(temp)\n",
    "\n",
    "# Subject 31P\n",
    "temp = pd.DataFrame({\n",
    "    'ID': '10',\n",
    "    'Time': 24 / 24,\n",
    "    'Time unit': 'd',\n",
    "    'Biomarker': 'Plasma concentration',\n",
    "    'Measurement': 41.4,\n",
    "    'Biomarker unit': 'ng/mL',\n",
    "    'Dose': np.nan,\n",
    "    'Dose unit': np.nan,\n",
    "    'Duration': np.nan}, \n",
    "    index=[14])\n",
    "data = data.append(temp)\n",
    "\n",
    "# Subject 32P\n",
    "temp = pd.DataFrame({\n",
    "    'ID': '74',\n",
    "    'Time': 24 / 24,\n",
    "    'Time unit': 'd',\n",
    "    'Biomarker': 'Plasma concentration',\n",
    "    'Measurement': 175,\n",
    "    'Biomarker unit': 'ng/mL',\n",
    "    'Dose': np.nan,\n",
    "    'Dose unit': np.nan,\n",
    "    'Duration': np.nan}, \n",
    "    index=[15])\n",
    "data = data.append(temp)\n",
    "\n",
    "# Subject 66P\n",
    "temp = pd.DataFrame({\n",
    "    'ID': '30',\n",
    "    'Time': 4 + 0 / 24,\n",
    "    'Time unit': 'd',\n",
    "    'Biomarker': 'Plasma concentration',\n",
    "    'Measurement': 11.8,\n",
    "    'Biomarker unit': 'ng/mL',\n",
    "    'Dose': np.nan,\n",
    "    'Dose unit': np.nan,\n",
    "    'Duration': np.nan}, \n",
    "    index=[16])\n",
    "data = data.append(temp)\n",
    "\n",
    "# Subject 67P\n",
    "temp = pd.DataFrame({\n",
    "    'ID': '120',\n",
    "    'Time': 4 + 0.5 / 24,\n",
    "    'Time unit': 'd',\n",
    "    'Biomarker': 'Plasma concentration',\n",
    "    'Measurement': 11500,\n",
    "    'Biomarker unit': 'ng/mL',\n",
    "    'Dose': np.nan,\n",
    "    'Dose unit': np.nan,\n",
    "    'Duration': np.nan}, \n",
    "    index=[17])\n",
    "data = data.append(temp)\n",
    "\n",
    "# Subject 68P\n",
    "temp = pd.DataFrame({\n",
    "    'ID': '148',\n",
    "    'Time': 4 + 0.5 / 24,\n",
    "    'Time unit': 'd',\n",
    "    'Biomarker': 'Plasma concentration',\n",
    "    'Measurement': 9370,\n",
    "    'Biomarker unit': 'ng/mL',\n",
    "    'Dose': np.nan,\n",
    "    'Dose unit': np.nan,\n",
    "    'Duration': np.nan}, \n",
    "    index=[18])\n",
    "data = data.append(temp)\n",
    "\n",
    "# Subject 69P\n",
    "temp = pd.DataFrame({\n",
    "    'ID': '50',\n",
    "    'Time': 4 + 1 / 24,\n",
    "    'Time unit': 'd',\n",
    "    'Biomarker': 'Plasma concentration',\n",
    "    'Measurement': 7240,\n",
    "    'Biomarker unit': 'ng/mL',\n",
    "    'Dose': np.nan,\n",
    "    'Dose unit': np.nan,\n",
    "    'Duration': np.nan}, \n",
    "    index=[19])\n",
    "data = data.append(temp)\n",
    "\n",
    "# Subject 70P\n",
    "temp = pd.DataFrame({\n",
    "    'ID': '77',\n",
    "    'Time': 4 + 1 / 24,\n",
    "    'Time unit': 'd',\n",
    "    'Biomarker': 'Plasma concentration',\n",
    "    'Measurement': 5810,\n",
    "    'Biomarker unit': 'ng/mL',\n",
    "    'Dose': np.nan,\n",
    "    'Dose unit': np.nan,\n",
    "    'Duration': np.nan}, \n",
    "    index=[20])\n",
    "data = data.append(temp)\n",
    "\n",
    "# Subject 71P\n",
    "temp = pd.DataFrame({\n",
    "    'ID': '43',\n",
    "    'Time': 4 + 2 / 24,\n",
    "    'Time unit': 'd',\n",
    "    'Biomarker': 'Plasma concentration',\n",
    "    'Measurement': 4630,\n",
    "    'Biomarker unit': 'ng/mL',\n",
    "    'Dose': np.nan,\n",
    "    'Dose unit': np.nan,\n",
    "    'Duration': np.nan}, \n",
    "    index=[21])\n",
    "data = data.append(temp)\n",
    "\n",
    "# Subject 72P\n",
    "temp = pd.DataFrame({\n",
    "    'ID': '2',\n",
    "    'Time': 4 + 2 / 24,\n",
    "    'Time unit': 'd',\n",
    "    'Biomarker': 'Plasma concentration',\n",
    "    'Measurement': 5330,\n",
    "    'Biomarker unit': 'ng/mL',\n",
    "    'Dose': np.nan,\n",
    "    'Dose unit': np.nan,\n",
    "    'Duration': np.nan}, \n",
    "    index=[22])\n",
    "data = data.append(temp)\n",
    "\n",
    "# Subject 73P\n",
    "temp = pd.DataFrame({\n",
    "    'ID': '83',\n",
    "    'Time': 4 + 4 / 24,\n",
    "    'Time unit': 'd',\n",
    "    'Biomarker': 'Plasma concentration',\n",
    "    'Measurement': 3390,\n",
    "    'Biomarker unit': 'ng/mL',\n",
    "    'Dose': np.nan,\n",
    "    'Dose unit': np.nan,\n",
    "    'Duration': np.nan}, \n",
    "    index=[23])\n",
    "data = data.append(temp)\n",
    "\n",
    "# Subject 74P\n",
    "temp = pd.DataFrame({\n",
    "    'ID': '3',\n",
    "    'Time': 4 + 4 / 24,\n",
    "    'Time unit': 'd',\n",
    "    'Biomarker': 'Plasma concentration',\n",
    "    'Measurement': 3350,\n",
    "    'Biomarker unit': 'ng/mL',\n",
    "    'Dose': np.nan,\n",
    "    'Dose unit': np.nan,\n",
    "    'Duration': np.nan}, \n",
    "    index=[24])\n",
    "data = data.append(temp)\n",
    "\n",
    "# Subject 75P\n",
    "temp = pd.DataFrame({\n",
    "    'ID': '103',\n",
    "    'Time': 4 + 8 / 24,\n",
    "    'Time unit': 'd',\n",
    "    'Biomarker': 'Plasma concentration',\n",
    "    'Measurement': 4600,\n",
    "    'Biomarker unit': 'ng/mL',\n",
    "    'Dose': np.nan,\n",
    "    'Dose unit': np.nan,\n",
    "    'Duration': np.nan}, \n",
    "    index=[25])\n",
    "data = data.append(temp)\n",
    "\n",
    "# Subject 76P\n",
    "temp = pd.DataFrame({\n",
    "    'ID': '114',\n",
    "    'Time': 4 + 8 / 24,\n",
    "    'Time unit': 'd',\n",
    "    'Biomarker': 'Plasma concentration',\n",
    "    'Measurement': 6280,\n",
    "    'Biomarker unit': 'ng/mL',\n",
    "    'Dose': np.nan,\n",
    "    'Dose unit': np.nan,\n",
    "    'Duration': np.nan}, \n",
    "    index=[26])\n",
    "data = data.append(temp)\n",
    "\n",
    "# Subject 77P\n",
    "temp = pd.DataFrame({\n",
    "    'ID': '102',\n",
    "    'Time': 4 + 12 / 24,\n",
    "    'Time unit': 'd',\n",
    "    'Biomarker': 'Plasma concentration',\n",
    "    'Measurement': 1940,\n",
    "    'Biomarker unit': 'ng/mL',\n",
    "    'Dose': np.nan,\n",
    "    'Dose unit': np.nan,\n",
    "    'Duration': np.nan}, \n",
    "    index=[27])\n",
    "data = data.append(temp)\n",
    "\n",
    "# Subject 78P\n",
    "temp = pd.DataFrame({\n",
    "    'ID': '18',\n",
    "    'Time': 4 + 12 / 24,\n",
    "    'Time unit': 'd',\n",
    "    'Biomarker': 'Plasma concentration',\n",
    "    'Measurement': 3210,\n",
    "    'Biomarker unit': 'ng/mL',\n",
    "    'Dose': np.nan,\n",
    "    'Dose unit': np.nan,\n",
    "    'Duration': np.nan}, \n",
    "    index=[28])\n",
    "data = data.append(temp)\n",
    "\n",
    "# Subject 79P\n",
    "temp = pd.DataFrame({\n",
    "    'ID': '73',\n",
    "    'Time': 4 + 24 / 24,\n",
    "    'Time unit': 'd',\n",
    "    'Biomarker': 'Plasma concentration',\n",
    "    'Measurement': 2180,\n",
    "    'Biomarker unit': 'ng/mL',\n",
    "    'Dose': np.nan,\n",
    "    'Dose unit': np.nan,\n",
    "    'Duration': np.nan}, \n",
    "    index=[29])\n",
    "data = data.append(temp)\n",
    "\n",
    "# Subject 80P\n",
    "temp = pd.DataFrame({\n",
    "    'ID': '33',\n",
    "    'Time': 4 + 24 / 24,\n",
    "    'Time unit': 'd',\n",
    "    'Biomarker': 'Plasma concentration',\n",
    "    'Measurement': 3050,\n",
    "    'Biomarker unit': 'ng/mL',\n",
    "    'Dose': np.nan,\n",
    "    'Dose unit': np.nan,\n",
    "    'Duration': np.nan}, \n",
    "    index=[30])\n",
    "data = data.append(temp)\n",
    "\n",
    "data"
   ]
  },
  {
   "source": [
    "### Dose information\n",
    "\n",
    "Note the administered dose depends on the mass."
   ],
   "cell_type": "markdown",
   "metadata": {}
  },
  {
   "cell_type": "code",
   "execution_count": 3,
   "metadata": {},
   "outputs": [
    {
     "output_type": "execute_result",
     "data": {
      "text/plain": [
       "     ID       Time Time unit             Biomarker  Measurement  \\\n",
       "1    12          0         d  Plasma concentration         1.83   \n",
       "2    56  0.0208333         d  Plasma concentration      5420.00   \n",
       "3    61  0.0208333         d  Plasma concentration      7390.00   \n",
       "4   126  0.0416667         d  Plasma concentration      6640.00   \n",
       "5    76  0.0416667         d  Plasma concentration      7740.00   \n",
       "6    57  0.0833333         d  Plasma concentration      5020.00   \n",
       "7    27  0.0833333         d  Plasma concentration      3970.00   \n",
       "8    14   0.166667         d  Plasma concentration      4020.00   \n",
       "9   160   0.166667         d  Plasma concentration      4830.00   \n",
       "10    1   0.333333         d  Plasma concentration      3570.00   \n",
       "11   20   0.333333         d  Plasma concentration      3070.00   \n",
       "12  152        0.5         d  Plasma concentration       900.00   \n",
       "13  110        0.5         d  Plasma concentration       448.00   \n",
       "14   10          1         d  Plasma concentration        41.40   \n",
       "15   74          1         d  Plasma concentration       175.00   \n",
       "16   30          4         d  Plasma concentration        11.80   \n",
       "17  120    4.02083         d  Plasma concentration     11500.00   \n",
       "18  148    4.02083         d  Plasma concentration      9370.00   \n",
       "19   50    4.04167         d  Plasma concentration      7240.00   \n",
       "20   77    4.04167         d  Plasma concentration      5810.00   \n",
       "21   43    4.08333         d  Plasma concentration      4630.00   \n",
       "22    2    4.08333         d  Plasma concentration      5330.00   \n",
       "23   83    4.16667         d  Plasma concentration      3390.00   \n",
       "24    3    4.16667         d  Plasma concentration      3350.00   \n",
       "25  103    4.33333         d  Plasma concentration      4600.00   \n",
       "26  114    4.33333         d  Plasma concentration      6280.00   \n",
       "27  102        4.5         d  Plasma concentration      1940.00   \n",
       "28   18        4.5         d  Plasma concentration      3210.00   \n",
       "29   73          5         d  Plasma concentration      2180.00   \n",
       "30   33          5         d  Plasma concentration      3050.00   \n",
       "31   12          0         d           Body weight        28.30   \n",
       "32   56          0         d           Body weight        27.40   \n",
       "33   61          0         d           Body weight        27.10   \n",
       "34  126          0         d           Body weight        23.90   \n",
       "35   76          0         d           Body weight        18.80   \n",
       "36   57          0         d           Body weight        22.50   \n",
       "37   27          0         d           Body weight        26.60   \n",
       "38   14          0         d           Body weight        30.60   \n",
       "39  160          0         d           Body weight        27.90   \n",
       "40    1          0         d           Body weight        28.60   \n",
       "41   20          0         d           Body weight        30.90   \n",
       "42  152          0         d           Body weight        29.00   \n",
       "43  110          0         d           Body weight        29.80   \n",
       "44   10          0         d           Body weight        24.10   \n",
       "45   74          0         d           Body weight        29.90   \n",
       "46   30          4         d           Body weight        26.60   \n",
       "47  120          4         d           Body weight        26.50   \n",
       "48  148          4         d           Body weight        27.10   \n",
       "49   50          4         d           Body weight        27.00   \n",
       "50   77          4         d           Body weight        28.80   \n",
       "51   43          4         d           Body weight        29.80   \n",
       "52    2          4         d           Body weight        32.30   \n",
       "53   83          4         d           Body weight        26.60   \n",
       "54    3          4         d           Body weight        25.60   \n",
       "55  103          4         d           Body weight        27.30   \n",
       "56  114          4         d           Body weight        26.30   \n",
       "57  102          4         d           Body weight        25.20   \n",
       "58   18          4         d           Body weight        21.60   \n",
       "59   73          4         d           Body weight        24.10   \n",
       "60   33          4         d           Body weight        25.70   \n",
       "\n",
       "   Biomarker unit  Dose Dose unit  Duration  \n",
       "1           ng/mL   NaN       NaN       NaN  \n",
       "2           ng/mL   NaN       NaN       NaN  \n",
       "3           ng/mL   NaN       NaN       NaN  \n",
       "4           ng/mL   NaN       NaN       NaN  \n",
       "5           ng/mL   NaN       NaN       NaN  \n",
       "6           ng/mL   NaN       NaN       NaN  \n",
       "7           ng/mL   NaN       NaN       NaN  \n",
       "8           ng/mL   NaN       NaN       NaN  \n",
       "9           ng/mL   NaN       NaN       NaN  \n",
       "10          ng/mL   NaN       NaN       NaN  \n",
       "11          ng/mL   NaN       NaN       NaN  \n",
       "12          ng/mL   NaN       NaN       NaN  \n",
       "13          ng/mL   NaN       NaN       NaN  \n",
       "14          ng/mL   NaN       NaN       NaN  \n",
       "15          ng/mL   NaN       NaN       NaN  \n",
       "16          ng/mL   NaN       NaN       NaN  \n",
       "17          ng/mL   NaN       NaN       NaN  \n",
       "18          ng/mL   NaN       NaN       NaN  \n",
       "19          ng/mL   NaN       NaN       NaN  \n",
       "20          ng/mL   NaN       NaN       NaN  \n",
       "21          ng/mL   NaN       NaN       NaN  \n",
       "22          ng/mL   NaN       NaN       NaN  \n",
       "23          ng/mL   NaN       NaN       NaN  \n",
       "24          ng/mL   NaN       NaN       NaN  \n",
       "25          ng/mL   NaN       NaN       NaN  \n",
       "26          ng/mL   NaN       NaN       NaN  \n",
       "27          ng/mL   NaN       NaN       NaN  \n",
       "28          ng/mL   NaN       NaN       NaN  \n",
       "29          ng/mL   NaN       NaN       NaN  \n",
       "30          ng/mL   NaN       NaN       NaN  \n",
       "31              g  2.83        mg       NaN  \n",
       "32              g  2.74        mg       NaN  \n",
       "33              g  2.71        mg       NaN  \n",
       "34              g  2.39        mg       NaN  \n",
       "35              g  1.88        mg       NaN  \n",
       "36              g  2.25        mg       NaN  \n",
       "37              g  2.66        mg       NaN  \n",
       "38              g  3.06        mg       NaN  \n",
       "39              g  2.79        mg       NaN  \n",
       "40              g  2.86        mg       NaN  \n",
       "41              g  3.09        mg       NaN  \n",
       "42              g  2.90        mg       NaN  \n",
       "43              g  2.98        mg       NaN  \n",
       "44              g  2.41        mg       NaN  \n",
       "45              g  2.99        mg       NaN  \n",
       "46              g  2.66        mg       NaN  \n",
       "47              g  2.65        mg       NaN  \n",
       "48              g  2.71        mg       NaN  \n",
       "49              g  2.70        mg       NaN  \n",
       "50              g  2.88        mg       NaN  \n",
       "51              g  2.98        mg       NaN  \n",
       "52              g  3.23        mg       NaN  \n",
       "53              g  2.66        mg       NaN  \n",
       "54              g  2.56        mg       NaN  \n",
       "55              g  2.73        mg       NaN  \n",
       "56              g  2.63        mg       NaN  \n",
       "57              g  2.52        mg       NaN  \n",
       "58              g  2.16        mg       NaN  \n",
       "59              g  2.41        mg       NaN  \n",
       "60              g  2.57        mg       NaN  "
      ],
      "text/html": "<div>\n<style scoped>\n    .dataframe tbody tr th:only-of-type {\n        vertical-align: middle;\n    }\n\n    .dataframe tbody tr th {\n        vertical-align: top;\n    }\n\n    .dataframe thead th {\n        text-align: right;\n    }\n</style>\n<table border=\"1\" class=\"dataframe\">\n  <thead>\n    <tr style=\"text-align: right;\">\n      <th></th>\n      <th>ID</th>\n      <th>Time</th>\n      <th>Time unit</th>\n      <th>Biomarker</th>\n      <th>Measurement</th>\n      <th>Biomarker unit</th>\n      <th>Dose</th>\n      <th>Dose unit</th>\n      <th>Duration</th>\n    </tr>\n  </thead>\n  <tbody>\n    <tr>\n      <th>1</th>\n      <td>12</td>\n      <td>0</td>\n      <td>d</td>\n      <td>Plasma concentration</td>\n      <td>1.83</td>\n      <td>ng/mL</td>\n      <td>NaN</td>\n      <td>NaN</td>\n      <td>NaN</td>\n    </tr>\n    <tr>\n      <th>2</th>\n      <td>56</td>\n      <td>0.0208333</td>\n      <td>d</td>\n      <td>Plasma concentration</td>\n      <td>5420.00</td>\n      <td>ng/mL</td>\n      <td>NaN</td>\n      <td>NaN</td>\n      <td>NaN</td>\n    </tr>\n    <tr>\n      <th>3</th>\n      <td>61</td>\n      <td>0.0208333</td>\n      <td>d</td>\n      <td>Plasma concentration</td>\n      <td>7390.00</td>\n      <td>ng/mL</td>\n      <td>NaN</td>\n      <td>NaN</td>\n      <td>NaN</td>\n    </tr>\n    <tr>\n      <th>4</th>\n      <td>126</td>\n      <td>0.0416667</td>\n      <td>d</td>\n      <td>Plasma concentration</td>\n      <td>6640.00</td>\n      <td>ng/mL</td>\n      <td>NaN</td>\n      <td>NaN</td>\n      <td>NaN</td>\n    </tr>\n    <tr>\n      <th>5</th>\n      <td>76</td>\n      <td>0.0416667</td>\n      <td>d</td>\n      <td>Plasma concentration</td>\n      <td>7740.00</td>\n      <td>ng/mL</td>\n      <td>NaN</td>\n      <td>NaN</td>\n      <td>NaN</td>\n    </tr>\n    <tr>\n      <th>6</th>\n      <td>57</td>\n      <td>0.0833333</td>\n      <td>d</td>\n      <td>Plasma concentration</td>\n      <td>5020.00</td>\n      <td>ng/mL</td>\n      <td>NaN</td>\n      <td>NaN</td>\n      <td>NaN</td>\n    </tr>\n    <tr>\n      <th>7</th>\n      <td>27</td>\n      <td>0.0833333</td>\n      <td>d</td>\n      <td>Plasma concentration</td>\n      <td>3970.00</td>\n      <td>ng/mL</td>\n      <td>NaN</td>\n      <td>NaN</td>\n      <td>NaN</td>\n    </tr>\n    <tr>\n      <th>8</th>\n      <td>14</td>\n      <td>0.166667</td>\n      <td>d</td>\n      <td>Plasma concentration</td>\n      <td>4020.00</td>\n      <td>ng/mL</td>\n      <td>NaN</td>\n      <td>NaN</td>\n      <td>NaN</td>\n    </tr>\n    <tr>\n      <th>9</th>\n      <td>160</td>\n      <td>0.166667</td>\n      <td>d</td>\n      <td>Plasma concentration</td>\n      <td>4830.00</td>\n      <td>ng/mL</td>\n      <td>NaN</td>\n      <td>NaN</td>\n      <td>NaN</td>\n    </tr>\n    <tr>\n      <th>10</th>\n      <td>1</td>\n      <td>0.333333</td>\n      <td>d</td>\n      <td>Plasma concentration</td>\n      <td>3570.00</td>\n      <td>ng/mL</td>\n      <td>NaN</td>\n      <td>NaN</td>\n      <td>NaN</td>\n    </tr>\n    <tr>\n      <th>11</th>\n      <td>20</td>\n      <td>0.333333</td>\n      <td>d</td>\n      <td>Plasma concentration</td>\n      <td>3070.00</td>\n      <td>ng/mL</td>\n      <td>NaN</td>\n      <td>NaN</td>\n      <td>NaN</td>\n    </tr>\n    <tr>\n      <th>12</th>\n      <td>152</td>\n      <td>0.5</td>\n      <td>d</td>\n      <td>Plasma concentration</td>\n      <td>900.00</td>\n      <td>ng/mL</td>\n      <td>NaN</td>\n      <td>NaN</td>\n      <td>NaN</td>\n    </tr>\n    <tr>\n      <th>13</th>\n      <td>110</td>\n      <td>0.5</td>\n      <td>d</td>\n      <td>Plasma concentration</td>\n      <td>448.00</td>\n      <td>ng/mL</td>\n      <td>NaN</td>\n      <td>NaN</td>\n      <td>NaN</td>\n    </tr>\n    <tr>\n      <th>14</th>\n      <td>10</td>\n      <td>1</td>\n      <td>d</td>\n      <td>Plasma concentration</td>\n      <td>41.40</td>\n      <td>ng/mL</td>\n      <td>NaN</td>\n      <td>NaN</td>\n      <td>NaN</td>\n    </tr>\n    <tr>\n      <th>15</th>\n      <td>74</td>\n      <td>1</td>\n      <td>d</td>\n      <td>Plasma concentration</td>\n      <td>175.00</td>\n      <td>ng/mL</td>\n      <td>NaN</td>\n      <td>NaN</td>\n      <td>NaN</td>\n    </tr>\n    <tr>\n      <th>16</th>\n      <td>30</td>\n      <td>4</td>\n      <td>d</td>\n      <td>Plasma concentration</td>\n      <td>11.80</td>\n      <td>ng/mL</td>\n      <td>NaN</td>\n      <td>NaN</td>\n      <td>NaN</td>\n    </tr>\n    <tr>\n      <th>17</th>\n      <td>120</td>\n      <td>4.02083</td>\n      <td>d</td>\n      <td>Plasma concentration</td>\n      <td>11500.00</td>\n      <td>ng/mL</td>\n      <td>NaN</td>\n      <td>NaN</td>\n      <td>NaN</td>\n    </tr>\n    <tr>\n      <th>18</th>\n      <td>148</td>\n      <td>4.02083</td>\n      <td>d</td>\n      <td>Plasma concentration</td>\n      <td>9370.00</td>\n      <td>ng/mL</td>\n      <td>NaN</td>\n      <td>NaN</td>\n      <td>NaN</td>\n    </tr>\n    <tr>\n      <th>19</th>\n      <td>50</td>\n      <td>4.04167</td>\n      <td>d</td>\n      <td>Plasma concentration</td>\n      <td>7240.00</td>\n      <td>ng/mL</td>\n      <td>NaN</td>\n      <td>NaN</td>\n      <td>NaN</td>\n    </tr>\n    <tr>\n      <th>20</th>\n      <td>77</td>\n      <td>4.04167</td>\n      <td>d</td>\n      <td>Plasma concentration</td>\n      <td>5810.00</td>\n      <td>ng/mL</td>\n      <td>NaN</td>\n      <td>NaN</td>\n      <td>NaN</td>\n    </tr>\n    <tr>\n      <th>21</th>\n      <td>43</td>\n      <td>4.08333</td>\n      <td>d</td>\n      <td>Plasma concentration</td>\n      <td>4630.00</td>\n      <td>ng/mL</td>\n      <td>NaN</td>\n      <td>NaN</td>\n      <td>NaN</td>\n    </tr>\n    <tr>\n      <th>22</th>\n      <td>2</td>\n      <td>4.08333</td>\n      <td>d</td>\n      <td>Plasma concentration</td>\n      <td>5330.00</td>\n      <td>ng/mL</td>\n      <td>NaN</td>\n      <td>NaN</td>\n      <td>NaN</td>\n    </tr>\n    <tr>\n      <th>23</th>\n      <td>83</td>\n      <td>4.16667</td>\n      <td>d</td>\n      <td>Plasma concentration</td>\n      <td>3390.00</td>\n      <td>ng/mL</td>\n      <td>NaN</td>\n      <td>NaN</td>\n      <td>NaN</td>\n    </tr>\n    <tr>\n      <th>24</th>\n      <td>3</td>\n      <td>4.16667</td>\n      <td>d</td>\n      <td>Plasma concentration</td>\n      <td>3350.00</td>\n      <td>ng/mL</td>\n      <td>NaN</td>\n      <td>NaN</td>\n      <td>NaN</td>\n    </tr>\n    <tr>\n      <th>25</th>\n      <td>103</td>\n      <td>4.33333</td>\n      <td>d</td>\n      <td>Plasma concentration</td>\n      <td>4600.00</td>\n      <td>ng/mL</td>\n      <td>NaN</td>\n      <td>NaN</td>\n      <td>NaN</td>\n    </tr>\n    <tr>\n      <th>26</th>\n      <td>114</td>\n      <td>4.33333</td>\n      <td>d</td>\n      <td>Plasma concentration</td>\n      <td>6280.00</td>\n      <td>ng/mL</td>\n      <td>NaN</td>\n      <td>NaN</td>\n      <td>NaN</td>\n    </tr>\n    <tr>\n      <th>27</th>\n      <td>102</td>\n      <td>4.5</td>\n      <td>d</td>\n      <td>Plasma concentration</td>\n      <td>1940.00</td>\n      <td>ng/mL</td>\n      <td>NaN</td>\n      <td>NaN</td>\n      <td>NaN</td>\n    </tr>\n    <tr>\n      <th>28</th>\n      <td>18</td>\n      <td>4.5</td>\n      <td>d</td>\n      <td>Plasma concentration</td>\n      <td>3210.00</td>\n      <td>ng/mL</td>\n      <td>NaN</td>\n      <td>NaN</td>\n      <td>NaN</td>\n    </tr>\n    <tr>\n      <th>29</th>\n      <td>73</td>\n      <td>5</td>\n      <td>d</td>\n      <td>Plasma concentration</td>\n      <td>2180.00</td>\n      <td>ng/mL</td>\n      <td>NaN</td>\n      <td>NaN</td>\n      <td>NaN</td>\n    </tr>\n    <tr>\n      <th>30</th>\n      <td>33</td>\n      <td>5</td>\n      <td>d</td>\n      <td>Plasma concentration</td>\n      <td>3050.00</td>\n      <td>ng/mL</td>\n      <td>NaN</td>\n      <td>NaN</td>\n      <td>NaN</td>\n    </tr>\n    <tr>\n      <th>31</th>\n      <td>12</td>\n      <td>0</td>\n      <td>d</td>\n      <td>Body weight</td>\n      <td>28.30</td>\n      <td>g</td>\n      <td>2.83</td>\n      <td>mg</td>\n      <td>NaN</td>\n    </tr>\n    <tr>\n      <th>32</th>\n      <td>56</td>\n      <td>0</td>\n      <td>d</td>\n      <td>Body weight</td>\n      <td>27.40</td>\n      <td>g</td>\n      <td>2.74</td>\n      <td>mg</td>\n      <td>NaN</td>\n    </tr>\n    <tr>\n      <th>33</th>\n      <td>61</td>\n      <td>0</td>\n      <td>d</td>\n      <td>Body weight</td>\n      <td>27.10</td>\n      <td>g</td>\n      <td>2.71</td>\n      <td>mg</td>\n      <td>NaN</td>\n    </tr>\n    <tr>\n      <th>34</th>\n      <td>126</td>\n      <td>0</td>\n      <td>d</td>\n      <td>Body weight</td>\n      <td>23.90</td>\n      <td>g</td>\n      <td>2.39</td>\n      <td>mg</td>\n      <td>NaN</td>\n    </tr>\n    <tr>\n      <th>35</th>\n      <td>76</td>\n      <td>0</td>\n      <td>d</td>\n      <td>Body weight</td>\n      <td>18.80</td>\n      <td>g</td>\n      <td>1.88</td>\n      <td>mg</td>\n      <td>NaN</td>\n    </tr>\n    <tr>\n      <th>36</th>\n      <td>57</td>\n      <td>0</td>\n      <td>d</td>\n      <td>Body weight</td>\n      <td>22.50</td>\n      <td>g</td>\n      <td>2.25</td>\n      <td>mg</td>\n      <td>NaN</td>\n    </tr>\n    <tr>\n      <th>37</th>\n      <td>27</td>\n      <td>0</td>\n      <td>d</td>\n      <td>Body weight</td>\n      <td>26.60</td>\n      <td>g</td>\n      <td>2.66</td>\n      <td>mg</td>\n      <td>NaN</td>\n    </tr>\n    <tr>\n      <th>38</th>\n      <td>14</td>\n      <td>0</td>\n      <td>d</td>\n      <td>Body weight</td>\n      <td>30.60</td>\n      <td>g</td>\n      <td>3.06</td>\n      <td>mg</td>\n      <td>NaN</td>\n    </tr>\n    <tr>\n      <th>39</th>\n      <td>160</td>\n      <td>0</td>\n      <td>d</td>\n      <td>Body weight</td>\n      <td>27.90</td>\n      <td>g</td>\n      <td>2.79</td>\n      <td>mg</td>\n      <td>NaN</td>\n    </tr>\n    <tr>\n      <th>40</th>\n      <td>1</td>\n      <td>0</td>\n      <td>d</td>\n      <td>Body weight</td>\n      <td>28.60</td>\n      <td>g</td>\n      <td>2.86</td>\n      <td>mg</td>\n      <td>NaN</td>\n    </tr>\n    <tr>\n      <th>41</th>\n      <td>20</td>\n      <td>0</td>\n      <td>d</td>\n      <td>Body weight</td>\n      <td>30.90</td>\n      <td>g</td>\n      <td>3.09</td>\n      <td>mg</td>\n      <td>NaN</td>\n    </tr>\n    <tr>\n      <th>42</th>\n      <td>152</td>\n      <td>0</td>\n      <td>d</td>\n      <td>Body weight</td>\n      <td>29.00</td>\n      <td>g</td>\n      <td>2.90</td>\n      <td>mg</td>\n      <td>NaN</td>\n    </tr>\n    <tr>\n      <th>43</th>\n      <td>110</td>\n      <td>0</td>\n      <td>d</td>\n      <td>Body weight</td>\n      <td>29.80</td>\n      <td>g</td>\n      <td>2.98</td>\n      <td>mg</td>\n      <td>NaN</td>\n    </tr>\n    <tr>\n      <th>44</th>\n      <td>10</td>\n      <td>0</td>\n      <td>d</td>\n      <td>Body weight</td>\n      <td>24.10</td>\n      <td>g</td>\n      <td>2.41</td>\n      <td>mg</td>\n      <td>NaN</td>\n    </tr>\n    <tr>\n      <th>45</th>\n      <td>74</td>\n      <td>0</td>\n      <td>d</td>\n      <td>Body weight</td>\n      <td>29.90</td>\n      <td>g</td>\n      <td>2.99</td>\n      <td>mg</td>\n      <td>NaN</td>\n    </tr>\n    <tr>\n      <th>46</th>\n      <td>30</td>\n      <td>4</td>\n      <td>d</td>\n      <td>Body weight</td>\n      <td>26.60</td>\n      <td>g</td>\n      <td>2.66</td>\n      <td>mg</td>\n      <td>NaN</td>\n    </tr>\n    <tr>\n      <th>47</th>\n      <td>120</td>\n      <td>4</td>\n      <td>d</td>\n      <td>Body weight</td>\n      <td>26.50</td>\n      <td>g</td>\n      <td>2.65</td>\n      <td>mg</td>\n      <td>NaN</td>\n    </tr>\n    <tr>\n      <th>48</th>\n      <td>148</td>\n      <td>4</td>\n      <td>d</td>\n      <td>Body weight</td>\n      <td>27.10</td>\n      <td>g</td>\n      <td>2.71</td>\n      <td>mg</td>\n      <td>NaN</td>\n    </tr>\n    <tr>\n      <th>49</th>\n      <td>50</td>\n      <td>4</td>\n      <td>d</td>\n      <td>Body weight</td>\n      <td>27.00</td>\n      <td>g</td>\n      <td>2.70</td>\n      <td>mg</td>\n      <td>NaN</td>\n    </tr>\n    <tr>\n      <th>50</th>\n      <td>77</td>\n      <td>4</td>\n      <td>d</td>\n      <td>Body weight</td>\n      <td>28.80</td>\n      <td>g</td>\n      <td>2.88</td>\n      <td>mg</td>\n      <td>NaN</td>\n    </tr>\n    <tr>\n      <th>51</th>\n      <td>43</td>\n      <td>4</td>\n      <td>d</td>\n      <td>Body weight</td>\n      <td>29.80</td>\n      <td>g</td>\n      <td>2.98</td>\n      <td>mg</td>\n      <td>NaN</td>\n    </tr>\n    <tr>\n      <th>52</th>\n      <td>2</td>\n      <td>4</td>\n      <td>d</td>\n      <td>Body weight</td>\n      <td>32.30</td>\n      <td>g</td>\n      <td>3.23</td>\n      <td>mg</td>\n      <td>NaN</td>\n    </tr>\n    <tr>\n      <th>53</th>\n      <td>83</td>\n      <td>4</td>\n      <td>d</td>\n      <td>Body weight</td>\n      <td>26.60</td>\n      <td>g</td>\n      <td>2.66</td>\n      <td>mg</td>\n      <td>NaN</td>\n    </tr>\n    <tr>\n      <th>54</th>\n      <td>3</td>\n      <td>4</td>\n      <td>d</td>\n      <td>Body weight</td>\n      <td>25.60</td>\n      <td>g</td>\n      <td>2.56</td>\n      <td>mg</td>\n      <td>NaN</td>\n    </tr>\n    <tr>\n      <th>55</th>\n      <td>103</td>\n      <td>4</td>\n      <td>d</td>\n      <td>Body weight</td>\n      <td>27.30</td>\n      <td>g</td>\n      <td>2.73</td>\n      <td>mg</td>\n      <td>NaN</td>\n    </tr>\n    <tr>\n      <th>56</th>\n      <td>114</td>\n      <td>4</td>\n      <td>d</td>\n      <td>Body weight</td>\n      <td>26.30</td>\n      <td>g</td>\n      <td>2.63</td>\n      <td>mg</td>\n      <td>NaN</td>\n    </tr>\n    <tr>\n      <th>57</th>\n      <td>102</td>\n      <td>4</td>\n      <td>d</td>\n      <td>Body weight</td>\n      <td>25.20</td>\n      <td>g</td>\n      <td>2.52</td>\n      <td>mg</td>\n      <td>NaN</td>\n    </tr>\n    <tr>\n      <th>58</th>\n      <td>18</td>\n      <td>4</td>\n      <td>d</td>\n      <td>Body weight</td>\n      <td>21.60</td>\n      <td>g</td>\n      <td>2.16</td>\n      <td>mg</td>\n      <td>NaN</td>\n    </tr>\n    <tr>\n      <th>59</th>\n      <td>73</td>\n      <td>4</td>\n      <td>d</td>\n      <td>Body weight</td>\n      <td>24.10</td>\n      <td>g</td>\n      <td>2.41</td>\n      <td>mg</td>\n      <td>NaN</td>\n    </tr>\n    <tr>\n      <th>60</th>\n      <td>33</td>\n      <td>4</td>\n      <td>d</td>\n      <td>Body weight</td>\n      <td>25.70</td>\n      <td>g</td>\n      <td>2.57</td>\n      <td>mg</td>\n      <td>NaN</td>\n    </tr>\n  </tbody>\n</table>\n</div>"
     },
     "metadata": {},
     "execution_count": 3
    }
   ],
   "source": [
    "# Add data row by row\n",
    "# Subject 18P\n",
    "temp = pd.DataFrame({\n",
    "    'ID': '12',\n",
    "    'Time': 0,\n",
    "    'Time unit': 'd',\n",
    "    'Biomarker': 'Body weight',\n",
    "    'Measurement': 28.3,\n",
    "    'Biomarker unit': 'g',\n",
    "    'Dose': 0.1 * 28.3,\n",
    "    'Dose unit': 'mg',\n",
    "    'Duration': np.nan}, \n",
    "    index=[31])\n",
    "data = data.append(temp)\n",
    "\n",
    "# Subject 19P\n",
    "temp = pd.DataFrame({\n",
    "    'ID': '56',\n",
    "    'Time': 0,\n",
    "    'Time unit': 'd',\n",
    "    'Biomarker': 'Body weight',\n",
    "    'Measurement': 27.4,\n",
    "    'Biomarker unit': 'g',\n",
    "    'Dose': 0.1 * 27.4,\n",
    "    'Dose unit': 'mg',\n",
    "    'Duration': np.nan}, \n",
    "    index=[32])\n",
    "data = data.append(temp)\n",
    "\n",
    "# Subject 20P\n",
    "temp = pd.DataFrame({\n",
    "    'ID': '61',\n",
    "    'Time': 0,\n",
    "    'Time unit': 'd',\n",
    "    'Biomarker': 'Body weight',\n",
    "    'Measurement': 27.1,\n",
    "    'Biomarker unit': 'g',\n",
    "    'Dose': 0.1 * 27.1,\n",
    "    'Dose unit': 'mg',\n",
    "    'Duration': np.nan}, \n",
    "    index=[33])\n",
    "data = data.append(temp)\n",
    "\n",
    "# Subject 21P\n",
    "temp = pd.DataFrame({\n",
    "    'ID': '126',\n",
    "    'Time': 0,\n",
    "    'Time unit': 'd',\n",
    "    'Biomarker': 'Body weight',\n",
    "    'Measurement': 23.9,\n",
    "    'Biomarker unit': 'g',\n",
    "    'Dose': 0.1 * 23.9,\n",
    "    'Dose unit': 'mg',\n",
    "    'Duration': np.nan}, \n",
    "    index=[34])\n",
    "data = data.append(temp)\n",
    "\n",
    "# Subject 22P\n",
    "temp = pd.DataFrame({\n",
    "    'ID': '76',\n",
    "    'Time': 0,\n",
    "    'Time unit': 'd',\n",
    "    'Biomarker': 'Body weight',\n",
    "    'Measurement': 18.8,\n",
    "    'Biomarker unit': 'g',\n",
    "    'Dose': 0.1 * 18.8,\n",
    "    'Dose unit': 'mg',\n",
    "    'Duration': np.nan}, \n",
    "    index=[35])\n",
    "data = data.append(temp)\n",
    "\n",
    "# Subject 23P\n",
    "temp = pd.DataFrame({\n",
    "    'ID': '57',\n",
    "    'Time': 0,\n",
    "    'Time unit': 'd',\n",
    "    'Biomarker': 'Body weight',\n",
    "    'Measurement': 22.5,\n",
    "    'Biomarker unit': 'g',\n",
    "    'Dose': 0.1 * 22.5,\n",
    "    'Dose unit': 'mg',\n",
    "    'Duration': np.nan}, \n",
    "    index=[36])\n",
    "data = data.append(temp)\n",
    "\n",
    "# Subject 24P\n",
    "temp = pd.DataFrame({\n",
    "    'ID': '27',\n",
    "    'Time': 0,\n",
    "    'Time unit': 'd',\n",
    "    'Biomarker': 'Body weight',\n",
    "    'Measurement': 26.6,\n",
    "    'Biomarker unit': 'g',\n",
    "    'Dose': 0.1 * 26.6,\n",
    "    'Dose unit': 'mg',\n",
    "    'Duration': np.nan}, \n",
    "    index=[37])\n",
    "data = data.append(temp)\n",
    "\n",
    "# Subject 25P\n",
    "temp = pd.DataFrame({\n",
    "    'ID': '14',\n",
    "    'Time': 0,\n",
    "    'Time unit': 'd',\n",
    "    'Biomarker': 'Body weight',\n",
    "    'Measurement': 30.6,\n",
    "    'Biomarker unit': 'g',\n",
    "    'Dose': 0.1 * 30.6,\n",
    "    'Dose unit': 'mg',\n",
    "    'Duration': np.nan}, \n",
    "    index=[38])\n",
    "data = data.append(temp)\n",
    "\n",
    "# Subject 26P\n",
    "temp = pd.DataFrame({\n",
    "    'ID': '160',\n",
    "    'Time': 0,\n",
    "    'Time unit': 'd',\n",
    "    'Biomarker': 'Body weight',\n",
    "    'Measurement': 27.9,\n",
    "    'Biomarker unit': 'g',\n",
    "    'Dose': 0.1 * 27.9,\n",
    "    'Dose unit': 'mg',\n",
    "    'Duration': np.nan}, \n",
    "    index=[39])\n",
    "data = data.append(temp)\n",
    "\n",
    "# Subject 27P\n",
    "temp = pd.DataFrame({\n",
    "    'ID': '1',\n",
    "    'Time': 0,\n",
    "    'Time unit': 'd',\n",
    "    'Biomarker': 'Body weight',\n",
    "    'Measurement': 28.6,\n",
    "    'Biomarker unit': 'g',\n",
    "    'Dose': 0.1 * 28.6,\n",
    "    'Dose unit': 'mg',\n",
    "    'Duration': np.nan}, \n",
    "    index=[40])\n",
    "data = data.append(temp)\n",
    "\n",
    "# Subject 28P\n",
    "temp = pd.DataFrame({\n",
    "    'ID': '20',\n",
    "    'Time': 0,\n",
    "    'Time unit': 'd',\n",
    "    'Biomarker': 'Body weight',\n",
    "    'Measurement': 30.9,\n",
    "    'Biomarker unit': 'g',\n",
    "    'Dose': 0.1 * 30.9,\n",
    "    'Dose unit': 'mg',\n",
    "    'Duration': np.nan}, \n",
    "    index=[41])\n",
    "data = data.append(temp)\n",
    "\n",
    "# Subject 29P\n",
    "temp = pd.DataFrame({\n",
    "    'ID': '152',\n",
    "    'Time': 0,\n",
    "    'Time unit': 'd',\n",
    "    'Biomarker': 'Body weight',\n",
    "    'Measurement': 29.0,\n",
    "    'Biomarker unit': 'g',\n",
    "    'Dose': 0.1 * 29.0,\n",
    "    'Dose unit': 'mg',\n",
    "    'Duration': np.nan}, \n",
    "    index=[42])\n",
    "data = data.append(temp)\n",
    "\n",
    "# Subject 30P\n",
    "temp = pd.DataFrame({\n",
    "    'ID': '110',\n",
    "    'Time': 0,\n",
    "    'Time unit': 'd',\n",
    "    'Biomarker': 'Body weight',\n",
    "    'Measurement': 29.8,\n",
    "    'Biomarker unit': 'g',\n",
    "    'Dose': 0.1 * 29.8,\n",
    "    'Dose unit': 'mg',\n",
    "    'Duration': np.nan}, \n",
    "    index=[43])\n",
    "data = data.append(temp)\n",
    "\n",
    "# Subject 31P\n",
    "temp = pd.DataFrame({\n",
    "    'ID': '10',\n",
    "    'Time': 0,\n",
    "    'Time unit': 'd',\n",
    "    'Biomarker': 'Body weight',\n",
    "    'Measurement': 24.1,\n",
    "    'Biomarker unit': 'g',\n",
    "    'Dose': 0.1 * 24.1,\n",
    "    'Dose unit': 'mg',\n",
    "    'Duration': np.nan}, \n",
    "    index=[44])\n",
    "data = data.append(temp)\n",
    "\n",
    "# Subject 32P\n",
    "temp = pd.DataFrame({\n",
    "    'ID': '74',\n",
    "    'Time': 0,\n",
    "    'Time unit': 'd',\n",
    "    'Biomarker': 'Body weight',\n",
    "    'Measurement': 29.9,\n",
    "    'Biomarker unit': 'g',\n",
    "    'Dose': 0.1 * 29.9,\n",
    "    'Dose unit': 'mg',\n",
    "    'Duration': np.nan}, \n",
    "    index=[45])\n",
    "data = data.append(temp)\n",
    "\n",
    "# Subject 66P\n",
    "temp = pd.DataFrame({\n",
    "    'ID': '30',\n",
    "    'Time': 4,\n",
    "    'Time unit': 'd',\n",
    "    'Biomarker': 'Body weight',\n",
    "    'Measurement': 26.6,\n",
    "    'Biomarker unit': 'g',\n",
    "    'Dose': 0.1 * 26.6,\n",
    "    'Dose unit': 'mg',\n",
    "    'Duration': np.nan}, \n",
    "    index=[46])\n",
    "data = data.append(temp)\n",
    "\n",
    "# Subject 67P\n",
    "temp = pd.DataFrame({\n",
    "    'ID': '120',\n",
    "    'Time': 4,\n",
    "    'Time unit': 'd',\n",
    "    'Biomarker': 'Body weight',\n",
    "    'Measurement': 26.5,\n",
    "    'Biomarker unit': 'g',\n",
    "    'Dose': 0.1 * 26.5,\n",
    "    'Dose unit': 'mg',\n",
    "    'Duration': np.nan}, \n",
    "    index=[47])\n",
    "data = data.append(temp)\n",
    "\n",
    "# Subject 68P\n",
    "temp = pd.DataFrame({\n",
    "    'ID': '148',\n",
    "    'Time': 4,\n",
    "    'Time unit': 'd',\n",
    "    'Biomarker': 'Body weight',\n",
    "    'Measurement': 27.1,\n",
    "    'Biomarker unit': 'g',\n",
    "    'Dose': 0.1 * 27.1,\n",
    "    'Dose unit': 'mg',\n",
    "    'Duration': np.nan}, \n",
    "    index=[48])\n",
    "data = data.append(temp)\n",
    "\n",
    "# Subject 69P\n",
    "temp = pd.DataFrame({\n",
    "    'ID': '50',\n",
    "    'Time': 4,\n",
    "    'Time unit': 'd',\n",
    "    'Biomarker': 'Body weight',\n",
    "    'Measurement': 27.0,\n",
    "    'Biomarker unit': 'g',\n",
    "    'Dose': 0.1 * 27.0,\n",
    "    'Dose unit': 'mg',\n",
    "    'Duration': np.nan}, \n",
    "    index=[49])\n",
    "data = data.append(temp)\n",
    "\n",
    "# Subject 70P\n",
    "temp = pd.DataFrame({\n",
    "    'ID': '77',\n",
    "    'Time': 4,\n",
    "    'Time unit': 'd',\n",
    "    'Biomarker': 'Body weight',\n",
    "    'Measurement': 28.8,\n",
    "    'Biomarker unit': 'g',\n",
    "    'Dose': 0.1 * 28.8,\n",
    "    'Dose unit': 'mg',\n",
    "    'Duration': np.nan}, \n",
    "    index=[50])\n",
    "data = data.append(temp)\n",
    "\n",
    "# Subject 71P\n",
    "temp = pd.DataFrame({\n",
    "    'ID': '43',\n",
    "    'Time': 4,\n",
    "    'Time unit': 'd',\n",
    "    'Biomarker': 'Body weight',\n",
    "    'Measurement': 29.8,\n",
    "    'Biomarker unit': 'g',\n",
    "    'Dose': 0.1 * 29.8,\n",
    "    'Dose unit': 'mg',\n",
    "    'Duration': np.nan}, \n",
    "    index=[51])\n",
    "data = data.append(temp)\n",
    "\n",
    "# Subject 72P\n",
    "temp = pd.DataFrame({\n",
    "    'ID': '2',\n",
    "    'Time': 4,\n",
    "    'Time unit': 'd',\n",
    "    'Biomarker': 'Body weight',\n",
    "    'Measurement': 32.3,\n",
    "    'Biomarker unit': 'g',\n",
    "    'Dose': 0.1 * 32.3,\n",
    "    'Dose unit': 'mg',\n",
    "    'Duration': np.nan}, \n",
    "    index=[52])\n",
    "data = data.append(temp)\n",
    "\n",
    "# Subject 73P\n",
    "temp = pd.DataFrame({\n",
    "    'ID': '83',\n",
    "    'Time': 4,\n",
    "    'Time unit': 'd',\n",
    "    'Biomarker': 'Body weight',\n",
    "    'Measurement': 26.6,\n",
    "    'Biomarker unit': 'g',\n",
    "    'Dose': 0.1 * 26.6,\n",
    "    'Dose unit': 'mg',\n",
    "    'Duration': np.nan}, \n",
    "    index=[53])\n",
    "data = data.append(temp)\n",
    "\n",
    "# Subject 74P\n",
    "temp = pd.DataFrame({\n",
    "    'ID': '3',\n",
    "    'Time': 4,\n",
    "    'Time unit': 'd',\n",
    "    'Biomarker': 'Body weight',\n",
    "    'Measurement': 25.6,\n",
    "    'Biomarker unit': 'g',\n",
    "    'Dose': 0.1 * 25.6,\n",
    "    'Dose unit': 'mg',\n",
    "    'Duration': np.nan}, \n",
    "    index=[54])\n",
    "data = data.append(temp)\n",
    "\n",
    "# Subject 75P\n",
    "temp = pd.DataFrame({\n",
    "    'ID': '103',\n",
    "    'Time': 4,\n",
    "    'Time unit': 'd',\n",
    "    'Biomarker': 'Body weight',\n",
    "    'Measurement': 27.3,\n",
    "    'Biomarker unit': 'g',\n",
    "    'Dose': 0.1 * 27.3,\n",
    "    'Dose unit': 'mg',\n",
    "    'Duration': np.nan}, \n",
    "    index=[55])\n",
    "data = data.append(temp)\n",
    "\n",
    "# Subject 76P\n",
    "temp = pd.DataFrame({\n",
    "    'ID': '114',\n",
    "    'Time': 4,\n",
    "    'Time unit': 'd',\n",
    "    'Biomarker': 'Body weight',\n",
    "    'Measurement': 26.3,\n",
    "    'Biomarker unit': 'g',\n",
    "    'Dose': 0.1 * 26.3,\n",
    "    'Dose unit': 'mg',\n",
    "    'Duration': np.nan}, \n",
    "    index=[56])\n",
    "data = data.append(temp)\n",
    "\n",
    "# Subject 77P\n",
    "temp = pd.DataFrame({\n",
    "    'ID': '102',\n",
    "    'Time': 4,\n",
    "    'Time unit': 'd',\n",
    "    'Biomarker': 'Body weight',\n",
    "    'Measurement': 25.2,\n",
    "    'Biomarker unit': 'g',\n",
    "    'Dose': 0.1 * 25.2,\n",
    "    'Dose unit': 'mg',\n",
    "    'Duration': np.nan}, \n",
    "    index=[57])\n",
    "data = data.append(temp)\n",
    "\n",
    "# Subject 78P\n",
    "temp = pd.DataFrame({\n",
    "    'ID': '18',\n",
    "    'Time': 4,\n",
    "    'Time unit': 'd',\n",
    "    'Biomarker': 'Body weight',\n",
    "    'Measurement': 21.6,\n",
    "    'Biomarker unit': 'g',\n",
    "    'Dose': 0.1 * 21.6,\n",
    "    'Dose unit': 'mg',\n",
    "    'Duration': np.nan}, \n",
    "    index=[58])\n",
    "data = data.append(temp)\n",
    "\n",
    "# Subject 79P\n",
    "temp = pd.DataFrame({\n",
    "    'ID': '73',\n",
    "    'Time': 4,\n",
    "    'Time unit': 'd',\n",
    "    'Biomarker': 'Body weight',\n",
    "    'Measurement': 24.1,\n",
    "    'Biomarker unit': 'g',\n",
    "    'Dose': 0.1 * 24.1,\n",
    "    'Dose unit': 'mg',\n",
    "    'Duration': np.nan}, \n",
    "    index=[59])\n",
    "data = data.append(temp)\n",
    "\n",
    "# Subject 80P\n",
    "temp = pd.DataFrame({\n",
    "    'ID': '33',\n",
    "    'Time': 4,\n",
    "    'Time unit': 'd',\n",
    "    'Biomarker': 'Body weight',\n",
    "    'Measurement': 25.7,\n",
    "    'Biomarker unit': 'g',\n",
    "    'Dose': 0.1 * 25.7,\n",
    "    'Dose unit': 'mg',\n",
    "    'Duration': np.nan}, \n",
    "    index=[60])\n",
    "data = data.append(temp)\n",
    "\n",
    "data"
   ]
  },
  {
   "source": [
    "## Visualise data"
   ],
   "cell_type": "markdown",
   "metadata": {}
  },
  {
   "cell_type": "code",
   "execution_count": 4,
   "metadata": {},
   "outputs": [
    {
     "output_type": "display_data",
     "data": {
      "application/vnd.plotly.v1+json": {
       "config": {
        "plotlyServerURL": "https://plot.ly"
       },
       "data": [
        {
         "hoverinfo": "text",
         "legendgroup": "ID: 12",
         "marker": {
          "color": "#636EFA",
          "line": {
           "color": "black",
           "width": 1
          },
          "opacity": 0.7,
          "symbol": "circle"
         },
         "mode": "markers",
         "name": "ID: 12",
         "showlegend": false,
         "text": [
          "Dose duration: nan"
         ],
         "type": "scatter",
         "x": [
          0
         ],
         "xaxis": "x",
         "y": [
          2.83
         ],
         "yaxis": "y"
        },
        {
         "legendgroup": "ID: 12",
         "marker": {
          "color": "#636EFA",
          "line": {
           "color": "black",
           "width": 1
          },
          "opacity": 0.7,
          "symbol": "circle"
         },
         "mode": "markers",
         "name": "ID: 12",
         "showlegend": true,
         "type": "scatter",
         "x": [
          0
         ],
         "xaxis": "x2",
         "y": [
          1.83
         ],
         "yaxis": "y2"
        },
        {
         "hoverinfo": "text",
         "legendgroup": "ID: 56",
         "marker": {
          "color": "#EF553B",
          "line": {
           "color": "black",
           "width": 1
          },
          "opacity": 0.7,
          "symbol": "circle"
         },
         "mode": "markers",
         "name": "ID: 56",
         "showlegend": false,
         "text": [
          "Dose duration: nan"
         ],
         "type": "scatter",
         "x": [
          0
         ],
         "xaxis": "x",
         "y": [
          2.74
         ],
         "yaxis": "y"
        },
        {
         "legendgroup": "ID: 56",
         "marker": {
          "color": "#EF553B",
          "line": {
           "color": "black",
           "width": 1
          },
          "opacity": 0.7,
          "symbol": "circle"
         },
         "mode": "markers",
         "name": "ID: 56",
         "showlegend": true,
         "type": "scatter",
         "x": [
          0.020833333333333332
         ],
         "xaxis": "x2",
         "y": [
          5420
         ],
         "yaxis": "y2"
        },
        {
         "hoverinfo": "text",
         "legendgroup": "ID: 61",
         "marker": {
          "color": "#00CC96",
          "line": {
           "color": "black",
           "width": 1
          },
          "opacity": 0.7,
          "symbol": "circle"
         },
         "mode": "markers",
         "name": "ID: 61",
         "showlegend": false,
         "text": [
          "Dose duration: nan"
         ],
         "type": "scatter",
         "x": [
          0
         ],
         "xaxis": "x",
         "y": [
          2.7100000000000004
         ],
         "yaxis": "y"
        },
        {
         "legendgroup": "ID: 61",
         "marker": {
          "color": "#00CC96",
          "line": {
           "color": "black",
           "width": 1
          },
          "opacity": 0.7,
          "symbol": "circle"
         },
         "mode": "markers",
         "name": "ID: 61",
         "showlegend": true,
         "type": "scatter",
         "x": [
          0.020833333333333332
         ],
         "xaxis": "x2",
         "y": [
          7390
         ],
         "yaxis": "y2"
        },
        {
         "hoverinfo": "text",
         "legendgroup": "ID: 126",
         "marker": {
          "color": "#AB63FA",
          "line": {
           "color": "black",
           "width": 1
          },
          "opacity": 0.7,
          "symbol": "circle"
         },
         "mode": "markers",
         "name": "ID: 126",
         "showlegend": false,
         "text": [
          "Dose duration: nan"
         ],
         "type": "scatter",
         "x": [
          0
         ],
         "xaxis": "x",
         "y": [
          2.39
         ],
         "yaxis": "y"
        },
        {
         "legendgroup": "ID: 126",
         "marker": {
          "color": "#AB63FA",
          "line": {
           "color": "black",
           "width": 1
          },
          "opacity": 0.7,
          "symbol": "circle"
         },
         "mode": "markers",
         "name": "ID: 126",
         "showlegend": true,
         "type": "scatter",
         "x": [
          0.041666666666666664
         ],
         "xaxis": "x2",
         "y": [
          6640
         ],
         "yaxis": "y2"
        },
        {
         "hoverinfo": "text",
         "legendgroup": "ID: 76",
         "marker": {
          "color": "#FFA15A",
          "line": {
           "color": "black",
           "width": 1
          },
          "opacity": 0.7,
          "symbol": "circle"
         },
         "mode": "markers",
         "name": "ID: 76",
         "showlegend": false,
         "text": [
          "Dose duration: nan"
         ],
         "type": "scatter",
         "x": [
          0
         ],
         "xaxis": "x",
         "y": [
          1.8800000000000001
         ],
         "yaxis": "y"
        },
        {
         "legendgroup": "ID: 76",
         "marker": {
          "color": "#FFA15A",
          "line": {
           "color": "black",
           "width": 1
          },
          "opacity": 0.7,
          "symbol": "circle"
         },
         "mode": "markers",
         "name": "ID: 76",
         "showlegend": true,
         "type": "scatter",
         "x": [
          0.041666666666666664
         ],
         "xaxis": "x2",
         "y": [
          7740
         ],
         "yaxis": "y2"
        },
        {
         "hoverinfo": "text",
         "legendgroup": "ID: 57",
         "marker": {
          "color": "#19D3F3",
          "line": {
           "color": "black",
           "width": 1
          },
          "opacity": 0.7,
          "symbol": "circle"
         },
         "mode": "markers",
         "name": "ID: 57",
         "showlegend": false,
         "text": [
          "Dose duration: nan"
         ],
         "type": "scatter",
         "x": [
          0
         ],
         "xaxis": "x",
         "y": [
          2.25
         ],
         "yaxis": "y"
        },
        {
         "legendgroup": "ID: 57",
         "marker": {
          "color": "#19D3F3",
          "line": {
           "color": "black",
           "width": 1
          },
          "opacity": 0.7,
          "symbol": "circle"
         },
         "mode": "markers",
         "name": "ID: 57",
         "showlegend": true,
         "type": "scatter",
         "x": [
          0.08333333333333333
         ],
         "xaxis": "x2",
         "y": [
          5020
         ],
         "yaxis": "y2"
        },
        {
         "hoverinfo": "text",
         "legendgroup": "ID: 27",
         "marker": {
          "color": "#FF6692",
          "line": {
           "color": "black",
           "width": 1
          },
          "opacity": 0.7,
          "symbol": "circle"
         },
         "mode": "markers",
         "name": "ID: 27",
         "showlegend": false,
         "text": [
          "Dose duration: nan"
         ],
         "type": "scatter",
         "x": [
          0
         ],
         "xaxis": "x",
         "y": [
          2.66
         ],
         "yaxis": "y"
        },
        {
         "legendgroup": "ID: 27",
         "marker": {
          "color": "#FF6692",
          "line": {
           "color": "black",
           "width": 1
          },
          "opacity": 0.7,
          "symbol": "circle"
         },
         "mode": "markers",
         "name": "ID: 27",
         "showlegend": true,
         "type": "scatter",
         "x": [
          0.08333333333333333
         ],
         "xaxis": "x2",
         "y": [
          3970
         ],
         "yaxis": "y2"
        },
        {
         "hoverinfo": "text",
         "legendgroup": "ID: 14",
         "marker": {
          "color": "#B6E880",
          "line": {
           "color": "black",
           "width": 1
          },
          "opacity": 0.7,
          "symbol": "circle"
         },
         "mode": "markers",
         "name": "ID: 14",
         "showlegend": false,
         "text": [
          "Dose duration: nan"
         ],
         "type": "scatter",
         "x": [
          0
         ],
         "xaxis": "x",
         "y": [
          3.0600000000000005
         ],
         "yaxis": "y"
        },
        {
         "legendgroup": "ID: 14",
         "marker": {
          "color": "#B6E880",
          "line": {
           "color": "black",
           "width": 1
          },
          "opacity": 0.7,
          "symbol": "circle"
         },
         "mode": "markers",
         "name": "ID: 14",
         "showlegend": true,
         "type": "scatter",
         "x": [
          0.16666666666666666
         ],
         "xaxis": "x2",
         "y": [
          4020
         ],
         "yaxis": "y2"
        },
        {
         "hoverinfo": "text",
         "legendgroup": "ID: 160",
         "marker": {
          "color": "#FF97FF",
          "line": {
           "color": "black",
           "width": 1
          },
          "opacity": 0.7,
          "symbol": "circle"
         },
         "mode": "markers",
         "name": "ID: 160",
         "showlegend": false,
         "text": [
          "Dose duration: nan"
         ],
         "type": "scatter",
         "x": [
          0
         ],
         "xaxis": "x",
         "y": [
          2.79
         ],
         "yaxis": "y"
        },
        {
         "legendgroup": "ID: 160",
         "marker": {
          "color": "#FF97FF",
          "line": {
           "color": "black",
           "width": 1
          },
          "opacity": 0.7,
          "symbol": "circle"
         },
         "mode": "markers",
         "name": "ID: 160",
         "showlegend": true,
         "type": "scatter",
         "x": [
          0.16666666666666666
         ],
         "xaxis": "x2",
         "y": [
          4830
         ],
         "yaxis": "y2"
        },
        {
         "hoverinfo": "text",
         "legendgroup": "ID: 1",
         "marker": {
          "color": "#FECB52",
          "line": {
           "color": "black",
           "width": 1
          },
          "opacity": 0.7,
          "symbol": "circle"
         },
         "mode": "markers",
         "name": "ID: 1",
         "showlegend": false,
         "text": [
          "Dose duration: nan"
         ],
         "type": "scatter",
         "x": [
          0
         ],
         "xaxis": "x",
         "y": [
          2.8600000000000003
         ],
         "yaxis": "y"
        },
        {
         "legendgroup": "ID: 1",
         "marker": {
          "color": "#FECB52",
          "line": {
           "color": "black",
           "width": 1
          },
          "opacity": 0.7,
          "symbol": "circle"
         },
         "mode": "markers",
         "name": "ID: 1",
         "showlegend": true,
         "type": "scatter",
         "x": [
          0.3333333333333333
         ],
         "xaxis": "x2",
         "y": [
          3570
         ],
         "yaxis": "y2"
        },
        {
         "hoverinfo": "text",
         "legendgroup": "ID: 20",
         "marker": {
          "color": "#636EFA",
          "line": {
           "color": "black",
           "width": 1
          },
          "opacity": 0.7,
          "symbol": "circle"
         },
         "mode": "markers",
         "name": "ID: 20",
         "showlegend": false,
         "text": [
          "Dose duration: nan"
         ],
         "type": "scatter",
         "x": [
          0
         ],
         "xaxis": "x",
         "y": [
          3.09
         ],
         "yaxis": "y"
        },
        {
         "legendgroup": "ID: 20",
         "marker": {
          "color": "#636EFA",
          "line": {
           "color": "black",
           "width": 1
          },
          "opacity": 0.7,
          "symbol": "circle"
         },
         "mode": "markers",
         "name": "ID: 20",
         "showlegend": true,
         "type": "scatter",
         "x": [
          0.3333333333333333
         ],
         "xaxis": "x2",
         "y": [
          3070
         ],
         "yaxis": "y2"
        },
        {
         "hoverinfo": "text",
         "legendgroup": "ID: 152",
         "marker": {
          "color": "#EF553B",
          "line": {
           "color": "black",
           "width": 1
          },
          "opacity": 0.7,
          "symbol": "circle"
         },
         "mode": "markers",
         "name": "ID: 152",
         "showlegend": false,
         "text": [
          "Dose duration: nan"
         ],
         "type": "scatter",
         "x": [
          0
         ],
         "xaxis": "x",
         "y": [
          2.9000000000000004
         ],
         "yaxis": "y"
        },
        {
         "legendgroup": "ID: 152",
         "marker": {
          "color": "#EF553B",
          "line": {
           "color": "black",
           "width": 1
          },
          "opacity": 0.7,
          "symbol": "circle"
         },
         "mode": "markers",
         "name": "ID: 152",
         "showlegend": true,
         "type": "scatter",
         "x": [
          0.5
         ],
         "xaxis": "x2",
         "y": [
          900
         ],
         "yaxis": "y2"
        },
        {
         "hoverinfo": "text",
         "legendgroup": "ID: 110",
         "marker": {
          "color": "#00CC96",
          "line": {
           "color": "black",
           "width": 1
          },
          "opacity": 0.7,
          "symbol": "circle"
         },
         "mode": "markers",
         "name": "ID: 110",
         "showlegend": false,
         "text": [
          "Dose duration: nan"
         ],
         "type": "scatter",
         "x": [
          0
         ],
         "xaxis": "x",
         "y": [
          2.9800000000000004
         ],
         "yaxis": "y"
        },
        {
         "legendgroup": "ID: 110",
         "marker": {
          "color": "#00CC96",
          "line": {
           "color": "black",
           "width": 1
          },
          "opacity": 0.7,
          "symbol": "circle"
         },
         "mode": "markers",
         "name": "ID: 110",
         "showlegend": true,
         "type": "scatter",
         "x": [
          0.5
         ],
         "xaxis": "x2",
         "y": [
          448
         ],
         "yaxis": "y2"
        },
        {
         "hoverinfo": "text",
         "legendgroup": "ID: 10",
         "marker": {
          "color": "#AB63FA",
          "line": {
           "color": "black",
           "width": 1
          },
          "opacity": 0.7,
          "symbol": "circle"
         },
         "mode": "markers",
         "name": "ID: 10",
         "showlegend": false,
         "text": [
          "Dose duration: nan"
         ],
         "type": "scatter",
         "x": [
          0
         ],
         "xaxis": "x",
         "y": [
          2.41
         ],
         "yaxis": "y"
        },
        {
         "legendgroup": "ID: 10",
         "marker": {
          "color": "#AB63FA",
          "line": {
           "color": "black",
           "width": 1
          },
          "opacity": 0.7,
          "symbol": "circle"
         },
         "mode": "markers",
         "name": "ID: 10",
         "showlegend": true,
         "type": "scatter",
         "x": [
          1
         ],
         "xaxis": "x2",
         "y": [
          41.4
         ],
         "yaxis": "y2"
        },
        {
         "hoverinfo": "text",
         "legendgroup": "ID: 74",
         "marker": {
          "color": "#FFA15A",
          "line": {
           "color": "black",
           "width": 1
          },
          "opacity": 0.7,
          "symbol": "circle"
         },
         "mode": "markers",
         "name": "ID: 74",
         "showlegend": false,
         "text": [
          "Dose duration: nan"
         ],
         "type": "scatter",
         "x": [
          0
         ],
         "xaxis": "x",
         "y": [
          2.99
         ],
         "yaxis": "y"
        },
        {
         "legendgroup": "ID: 74",
         "marker": {
          "color": "#FFA15A",
          "line": {
           "color": "black",
           "width": 1
          },
          "opacity": 0.7,
          "symbol": "circle"
         },
         "mode": "markers",
         "name": "ID: 74",
         "showlegend": true,
         "type": "scatter",
         "x": [
          1
         ],
         "xaxis": "x2",
         "y": [
          175
         ],
         "yaxis": "y2"
        },
        {
         "hoverinfo": "text",
         "legendgroup": "ID: 30",
         "marker": {
          "color": "#19D3F3",
          "line": {
           "color": "black",
           "width": 1
          },
          "opacity": 0.7,
          "symbol": "circle"
         },
         "mode": "markers",
         "name": "ID: 30",
         "showlegend": false,
         "text": [
          "Dose duration: nan"
         ],
         "type": "scatter",
         "x": [
          4
         ],
         "xaxis": "x",
         "y": [
          2.66
         ],
         "yaxis": "y"
        },
        {
         "legendgroup": "ID: 30",
         "marker": {
          "color": "#19D3F3",
          "line": {
           "color": "black",
           "width": 1
          },
          "opacity": 0.7,
          "symbol": "circle"
         },
         "mode": "markers",
         "name": "ID: 30",
         "showlegend": true,
         "type": "scatter",
         "x": [
          4
         ],
         "xaxis": "x2",
         "y": [
          11.8
         ],
         "yaxis": "y2"
        },
        {
         "hoverinfo": "text",
         "legendgroup": "ID: 120",
         "marker": {
          "color": "#FF6692",
          "line": {
           "color": "black",
           "width": 1
          },
          "opacity": 0.7,
          "symbol": "circle"
         },
         "mode": "markers",
         "name": "ID: 120",
         "showlegend": false,
         "text": [
          "Dose duration: nan"
         ],
         "type": "scatter",
         "x": [
          4
         ],
         "xaxis": "x",
         "y": [
          2.6500000000000004
         ],
         "yaxis": "y"
        },
        {
         "legendgroup": "ID: 120",
         "marker": {
          "color": "#FF6692",
          "line": {
           "color": "black",
           "width": 1
          },
          "opacity": 0.7,
          "symbol": "circle"
         },
         "mode": "markers",
         "name": "ID: 120",
         "showlegend": true,
         "type": "scatter",
         "x": [
          4.020833333333333
         ],
         "xaxis": "x2",
         "y": [
          11500
         ],
         "yaxis": "y2"
        },
        {
         "hoverinfo": "text",
         "legendgroup": "ID: 148",
         "marker": {
          "color": "#B6E880",
          "line": {
           "color": "black",
           "width": 1
          },
          "opacity": 0.7,
          "symbol": "circle"
         },
         "mode": "markers",
         "name": "ID: 148",
         "showlegend": false,
         "text": [
          "Dose duration: nan"
         ],
         "type": "scatter",
         "x": [
          4
         ],
         "xaxis": "x",
         "y": [
          2.7100000000000004
         ],
         "yaxis": "y"
        },
        {
         "legendgroup": "ID: 148",
         "marker": {
          "color": "#B6E880",
          "line": {
           "color": "black",
           "width": 1
          },
          "opacity": 0.7,
          "symbol": "circle"
         },
         "mode": "markers",
         "name": "ID: 148",
         "showlegend": true,
         "type": "scatter",
         "x": [
          4.020833333333333
         ],
         "xaxis": "x2",
         "y": [
          9370
         ],
         "yaxis": "y2"
        },
        {
         "hoverinfo": "text",
         "legendgroup": "ID: 50",
         "marker": {
          "color": "#FF97FF",
          "line": {
           "color": "black",
           "width": 1
          },
          "opacity": 0.7,
          "symbol": "circle"
         },
         "mode": "markers",
         "name": "ID: 50",
         "showlegend": false,
         "text": [
          "Dose duration: nan"
         ],
         "type": "scatter",
         "x": [
          4
         ],
         "xaxis": "x",
         "y": [
          2.7
         ],
         "yaxis": "y"
        },
        {
         "legendgroup": "ID: 50",
         "marker": {
          "color": "#FF97FF",
          "line": {
           "color": "black",
           "width": 1
          },
          "opacity": 0.7,
          "symbol": "circle"
         },
         "mode": "markers",
         "name": "ID: 50",
         "showlegend": true,
         "type": "scatter",
         "x": [
          4.041666666666667
         ],
         "xaxis": "x2",
         "y": [
          7240
         ],
         "yaxis": "y2"
        },
        {
         "hoverinfo": "text",
         "legendgroup": "ID: 77",
         "marker": {
          "color": "#FECB52",
          "line": {
           "color": "black",
           "width": 1
          },
          "opacity": 0.7,
          "symbol": "circle"
         },
         "mode": "markers",
         "name": "ID: 77",
         "showlegend": false,
         "text": [
          "Dose duration: nan"
         ],
         "type": "scatter",
         "x": [
          4
         ],
         "xaxis": "x",
         "y": [
          2.8800000000000003
         ],
         "yaxis": "y"
        },
        {
         "legendgroup": "ID: 77",
         "marker": {
          "color": "#FECB52",
          "line": {
           "color": "black",
           "width": 1
          },
          "opacity": 0.7,
          "symbol": "circle"
         },
         "mode": "markers",
         "name": "ID: 77",
         "showlegend": true,
         "type": "scatter",
         "x": [
          4.041666666666667
         ],
         "xaxis": "x2",
         "y": [
          5810
         ],
         "yaxis": "y2"
        },
        {
         "hoverinfo": "text",
         "legendgroup": "ID: 43",
         "marker": {
          "color": "#636EFA",
          "line": {
           "color": "black",
           "width": 1
          },
          "opacity": 0.7,
          "symbol": "circle"
         },
         "mode": "markers",
         "name": "ID: 43",
         "showlegend": false,
         "text": [
          "Dose duration: nan"
         ],
         "type": "scatter",
         "x": [
          4
         ],
         "xaxis": "x",
         "y": [
          2.9800000000000004
         ],
         "yaxis": "y"
        },
        {
         "legendgroup": "ID: 43",
         "marker": {
          "color": "#636EFA",
          "line": {
           "color": "black",
           "width": 1
          },
          "opacity": 0.7,
          "symbol": "circle"
         },
         "mode": "markers",
         "name": "ID: 43",
         "showlegend": true,
         "type": "scatter",
         "x": [
          4.083333333333333
         ],
         "xaxis": "x2",
         "y": [
          4630
         ],
         "yaxis": "y2"
        },
        {
         "hoverinfo": "text",
         "legendgroup": "ID: 2",
         "marker": {
          "color": "#EF553B",
          "line": {
           "color": "black",
           "width": 1
          },
          "opacity": 0.7,
          "symbol": "circle"
         },
         "mode": "markers",
         "name": "ID: 2",
         "showlegend": false,
         "text": [
          "Dose duration: nan"
         ],
         "type": "scatter",
         "x": [
          4
         ],
         "xaxis": "x",
         "y": [
          3.23
         ],
         "yaxis": "y"
        },
        {
         "legendgroup": "ID: 2",
         "marker": {
          "color": "#EF553B",
          "line": {
           "color": "black",
           "width": 1
          },
          "opacity": 0.7,
          "symbol": "circle"
         },
         "mode": "markers",
         "name": "ID: 2",
         "showlegend": true,
         "type": "scatter",
         "x": [
          4.083333333333333
         ],
         "xaxis": "x2",
         "y": [
          5330
         ],
         "yaxis": "y2"
        },
        {
         "hoverinfo": "text",
         "legendgroup": "ID: 83",
         "marker": {
          "color": "#00CC96",
          "line": {
           "color": "black",
           "width": 1
          },
          "opacity": 0.7,
          "symbol": "circle"
         },
         "mode": "markers",
         "name": "ID: 83",
         "showlegend": false,
         "text": [
          "Dose duration: nan"
         ],
         "type": "scatter",
         "x": [
          4
         ],
         "xaxis": "x",
         "y": [
          2.66
         ],
         "yaxis": "y"
        },
        {
         "legendgroup": "ID: 83",
         "marker": {
          "color": "#00CC96",
          "line": {
           "color": "black",
           "width": 1
          },
          "opacity": 0.7,
          "symbol": "circle"
         },
         "mode": "markers",
         "name": "ID: 83",
         "showlegend": true,
         "type": "scatter",
         "x": [
          4.166666666666667
         ],
         "xaxis": "x2",
         "y": [
          3390
         ],
         "yaxis": "y2"
        },
        {
         "hoverinfo": "text",
         "legendgroup": "ID: 3",
         "marker": {
          "color": "#AB63FA",
          "line": {
           "color": "black",
           "width": 1
          },
          "opacity": 0.7,
          "symbol": "circle"
         },
         "mode": "markers",
         "name": "ID: 3",
         "showlegend": false,
         "text": [
          "Dose duration: nan"
         ],
         "type": "scatter",
         "x": [
          4
         ],
         "xaxis": "x",
         "y": [
          2.5600000000000005
         ],
         "yaxis": "y"
        },
        {
         "legendgroup": "ID: 3",
         "marker": {
          "color": "#AB63FA",
          "line": {
           "color": "black",
           "width": 1
          },
          "opacity": 0.7,
          "symbol": "circle"
         },
         "mode": "markers",
         "name": "ID: 3",
         "showlegend": true,
         "type": "scatter",
         "x": [
          4.166666666666667
         ],
         "xaxis": "x2",
         "y": [
          3350
         ],
         "yaxis": "y2"
        },
        {
         "hoverinfo": "text",
         "legendgroup": "ID: 103",
         "marker": {
          "color": "#FFA15A",
          "line": {
           "color": "black",
           "width": 1
          },
          "opacity": 0.7,
          "symbol": "circle"
         },
         "mode": "markers",
         "name": "ID: 103",
         "showlegend": false,
         "text": [
          "Dose duration: nan"
         ],
         "type": "scatter",
         "x": [
          4
         ],
         "xaxis": "x",
         "y": [
          2.7300000000000004
         ],
         "yaxis": "y"
        },
        {
         "legendgroup": "ID: 103",
         "marker": {
          "color": "#FFA15A",
          "line": {
           "color": "black",
           "width": 1
          },
          "opacity": 0.7,
          "symbol": "circle"
         },
         "mode": "markers",
         "name": "ID: 103",
         "showlegend": true,
         "type": "scatter",
         "x": [
          4.333333333333333
         ],
         "xaxis": "x2",
         "y": [
          4600
         ],
         "yaxis": "y2"
        },
        {
         "hoverinfo": "text",
         "legendgroup": "ID: 114",
         "marker": {
          "color": "#19D3F3",
          "line": {
           "color": "black",
           "width": 1
          },
          "opacity": 0.7,
          "symbol": "circle"
         },
         "mode": "markers",
         "name": "ID: 114",
         "showlegend": false,
         "text": [
          "Dose duration: nan"
         ],
         "type": "scatter",
         "x": [
          4
         ],
         "xaxis": "x",
         "y": [
          2.6300000000000003
         ],
         "yaxis": "y"
        },
        {
         "legendgroup": "ID: 114",
         "marker": {
          "color": "#19D3F3",
          "line": {
           "color": "black",
           "width": 1
          },
          "opacity": 0.7,
          "symbol": "circle"
         },
         "mode": "markers",
         "name": "ID: 114",
         "showlegend": true,
         "type": "scatter",
         "x": [
          4.333333333333333
         ],
         "xaxis": "x2",
         "y": [
          6280
         ],
         "yaxis": "y2"
        },
        {
         "hoverinfo": "text",
         "legendgroup": "ID: 102",
         "marker": {
          "color": "#FF6692",
          "line": {
           "color": "black",
           "width": 1
          },
          "opacity": 0.7,
          "symbol": "circle"
         },
         "mode": "markers",
         "name": "ID: 102",
         "showlegend": false,
         "text": [
          "Dose duration: nan"
         ],
         "type": "scatter",
         "x": [
          4
         ],
         "xaxis": "x",
         "y": [
          2.52
         ],
         "yaxis": "y"
        },
        {
         "legendgroup": "ID: 102",
         "marker": {
          "color": "#FF6692",
          "line": {
           "color": "black",
           "width": 1
          },
          "opacity": 0.7,
          "symbol": "circle"
         },
         "mode": "markers",
         "name": "ID: 102",
         "showlegend": true,
         "type": "scatter",
         "x": [
          4.5
         ],
         "xaxis": "x2",
         "y": [
          1940
         ],
         "yaxis": "y2"
        },
        {
         "hoverinfo": "text",
         "legendgroup": "ID: 18",
         "marker": {
          "color": "#B6E880",
          "line": {
           "color": "black",
           "width": 1
          },
          "opacity": 0.7,
          "symbol": "circle"
         },
         "mode": "markers",
         "name": "ID: 18",
         "showlegend": false,
         "text": [
          "Dose duration: nan"
         ],
         "type": "scatter",
         "x": [
          4
         ],
         "xaxis": "x",
         "y": [
          2.16
         ],
         "yaxis": "y"
        },
        {
         "legendgroup": "ID: 18",
         "marker": {
          "color": "#B6E880",
          "line": {
           "color": "black",
           "width": 1
          },
          "opacity": 0.7,
          "symbol": "circle"
         },
         "mode": "markers",
         "name": "ID: 18",
         "showlegend": true,
         "type": "scatter",
         "x": [
          4.5
         ],
         "xaxis": "x2",
         "y": [
          3210
         ],
         "yaxis": "y2"
        },
        {
         "hoverinfo": "text",
         "legendgroup": "ID: 73",
         "marker": {
          "color": "#FF97FF",
          "line": {
           "color": "black",
           "width": 1
          },
          "opacity": 0.7,
          "symbol": "circle"
         },
         "mode": "markers",
         "name": "ID: 73",
         "showlegend": false,
         "text": [
          "Dose duration: nan"
         ],
         "type": "scatter",
         "x": [
          4
         ],
         "xaxis": "x",
         "y": [
          2.41
         ],
         "yaxis": "y"
        },
        {
         "legendgroup": "ID: 73",
         "marker": {
          "color": "#FF97FF",
          "line": {
           "color": "black",
           "width": 1
          },
          "opacity": 0.7,
          "symbol": "circle"
         },
         "mode": "markers",
         "name": "ID: 73",
         "showlegend": true,
         "type": "scatter",
         "x": [
          5
         ],
         "xaxis": "x2",
         "y": [
          2180
         ],
         "yaxis": "y2"
        },
        {
         "hoverinfo": "text",
         "legendgroup": "ID: 33",
         "marker": {
          "color": "#FECB52",
          "line": {
           "color": "black",
           "width": 1
          },
          "opacity": 0.7,
          "symbol": "circle"
         },
         "mode": "markers",
         "name": "ID: 33",
         "showlegend": false,
         "text": [
          "Dose duration: nan"
         ],
         "type": "scatter",
         "x": [
          4
         ],
         "xaxis": "x",
         "y": [
          2.5700000000000003
         ],
         "yaxis": "y"
        },
        {
         "legendgroup": "ID: 33",
         "marker": {
          "color": "#FECB52",
          "line": {
           "color": "black",
           "width": 1
          },
          "opacity": 0.7,
          "symbol": "circle"
         },
         "mode": "markers",
         "name": "ID: 33",
         "showlegend": true,
         "type": "scatter",
         "x": [
          5
         ],
         "xaxis": "x2",
         "y": [
          3050
         ],
         "yaxis": "y2"
        }
       ],
       "layout": {
        "autosize": true,
        "template": {
         "data": {
          "bar": [
           {
            "error_x": {
             "color": "#2a3f5f"
            },
            "error_y": {
             "color": "#2a3f5f"
            },
            "marker": {
             "line": {
              "color": "white",
              "width": 0.5
             }
            },
            "type": "bar"
           }
          ],
          "barpolar": [
           {
            "marker": {
             "line": {
              "color": "white",
              "width": 0.5
             }
            },
            "type": "barpolar"
           }
          ],
          "carpet": [
           {
            "aaxis": {
             "endlinecolor": "#2a3f5f",
             "gridcolor": "#C8D4E3",
             "linecolor": "#C8D4E3",
             "minorgridcolor": "#C8D4E3",
             "startlinecolor": "#2a3f5f"
            },
            "baxis": {
             "endlinecolor": "#2a3f5f",
             "gridcolor": "#C8D4E3",
             "linecolor": "#C8D4E3",
             "minorgridcolor": "#C8D4E3",
             "startlinecolor": "#2a3f5f"
            },
            "type": "carpet"
           }
          ],
          "choropleth": [
           {
            "colorbar": {
             "outlinewidth": 0,
             "ticks": ""
            },
            "type": "choropleth"
           }
          ],
          "contour": [
           {
            "colorbar": {
             "outlinewidth": 0,
             "ticks": ""
            },
            "colorscale": [
             [
              0,
              "#0d0887"
             ],
             [
              0.1111111111111111,
              "#46039f"
             ],
             [
              0.2222222222222222,
              "#7201a8"
             ],
             [
              0.3333333333333333,
              "#9c179e"
             ],
             [
              0.4444444444444444,
              "#bd3786"
             ],
             [
              0.5555555555555556,
              "#d8576b"
             ],
             [
              0.6666666666666666,
              "#ed7953"
             ],
             [
              0.7777777777777778,
              "#fb9f3a"
             ],
             [
              0.8888888888888888,
              "#fdca26"
             ],
             [
              1,
              "#f0f921"
             ]
            ],
            "type": "contour"
           }
          ],
          "contourcarpet": [
           {
            "colorbar": {
             "outlinewidth": 0,
             "ticks": ""
            },
            "type": "contourcarpet"
           }
          ],
          "heatmap": [
           {
            "colorbar": {
             "outlinewidth": 0,
             "ticks": ""
            },
            "colorscale": [
             [
              0,
              "#0d0887"
             ],
             [
              0.1111111111111111,
              "#46039f"
             ],
             [
              0.2222222222222222,
              "#7201a8"
             ],
             [
              0.3333333333333333,
              "#9c179e"
             ],
             [
              0.4444444444444444,
              "#bd3786"
             ],
             [
              0.5555555555555556,
              "#d8576b"
             ],
             [
              0.6666666666666666,
              "#ed7953"
             ],
             [
              0.7777777777777778,
              "#fb9f3a"
             ],
             [
              0.8888888888888888,
              "#fdca26"
             ],
             [
              1,
              "#f0f921"
             ]
            ],
            "type": "heatmap"
           }
          ],
          "heatmapgl": [
           {
            "colorbar": {
             "outlinewidth": 0,
             "ticks": ""
            },
            "colorscale": [
             [
              0,
              "#0d0887"
             ],
             [
              0.1111111111111111,
              "#46039f"
             ],
             [
              0.2222222222222222,
              "#7201a8"
             ],
             [
              0.3333333333333333,
              "#9c179e"
             ],
             [
              0.4444444444444444,
              "#bd3786"
             ],
             [
              0.5555555555555556,
              "#d8576b"
             ],
             [
              0.6666666666666666,
              "#ed7953"
             ],
             [
              0.7777777777777778,
              "#fb9f3a"
             ],
             [
              0.8888888888888888,
              "#fdca26"
             ],
             [
              1,
              "#f0f921"
             ]
            ],
            "type": "heatmapgl"
           }
          ],
          "histogram": [
           {
            "marker": {
             "colorbar": {
              "outlinewidth": 0,
              "ticks": ""
             }
            },
            "type": "histogram"
           }
          ],
          "histogram2d": [
           {
            "colorbar": {
             "outlinewidth": 0,
             "ticks": ""
            },
            "colorscale": [
             [
              0,
              "#0d0887"
             ],
             [
              0.1111111111111111,
              "#46039f"
             ],
             [
              0.2222222222222222,
              "#7201a8"
             ],
             [
              0.3333333333333333,
              "#9c179e"
             ],
             [
              0.4444444444444444,
              "#bd3786"
             ],
             [
              0.5555555555555556,
              "#d8576b"
             ],
             [
              0.6666666666666666,
              "#ed7953"
             ],
             [
              0.7777777777777778,
              "#fb9f3a"
             ],
             [
              0.8888888888888888,
              "#fdca26"
             ],
             [
              1,
              "#f0f921"
             ]
            ],
            "type": "histogram2d"
           }
          ],
          "histogram2dcontour": [
           {
            "colorbar": {
             "outlinewidth": 0,
             "ticks": ""
            },
            "colorscale": [
             [
              0,
              "#0d0887"
             ],
             [
              0.1111111111111111,
              "#46039f"
             ],
             [
              0.2222222222222222,
              "#7201a8"
             ],
             [
              0.3333333333333333,
              "#9c179e"
             ],
             [
              0.4444444444444444,
              "#bd3786"
             ],
             [
              0.5555555555555556,
              "#d8576b"
             ],
             [
              0.6666666666666666,
              "#ed7953"
             ],
             [
              0.7777777777777778,
              "#fb9f3a"
             ],
             [
              0.8888888888888888,
              "#fdca26"
             ],
             [
              1,
              "#f0f921"
             ]
            ],
            "type": "histogram2dcontour"
           }
          ],
          "mesh3d": [
           {
            "colorbar": {
             "outlinewidth": 0,
             "ticks": ""
            },
            "type": "mesh3d"
           }
          ],
          "parcoords": [
           {
            "line": {
             "colorbar": {
              "outlinewidth": 0,
              "ticks": ""
             }
            },
            "type": "parcoords"
           }
          ],
          "pie": [
           {
            "automargin": true,
            "type": "pie"
           }
          ],
          "scatter": [
           {
            "marker": {
             "colorbar": {
              "outlinewidth": 0,
              "ticks": ""
             }
            },
            "type": "scatter"
           }
          ],
          "scatter3d": [
           {
            "line": {
             "colorbar": {
              "outlinewidth": 0,
              "ticks": ""
             }
            },
            "marker": {
             "colorbar": {
              "outlinewidth": 0,
              "ticks": ""
             }
            },
            "type": "scatter3d"
           }
          ],
          "scattercarpet": [
           {
            "marker": {
             "colorbar": {
              "outlinewidth": 0,
              "ticks": ""
             }
            },
            "type": "scattercarpet"
           }
          ],
          "scattergeo": [
           {
            "marker": {
             "colorbar": {
              "outlinewidth": 0,
              "ticks": ""
             }
            },
            "type": "scattergeo"
           }
          ],
          "scattergl": [
           {
            "marker": {
             "colorbar": {
              "outlinewidth": 0,
              "ticks": ""
             }
            },
            "type": "scattergl"
           }
          ],
          "scattermapbox": [
           {
            "marker": {
             "colorbar": {
              "outlinewidth": 0,
              "ticks": ""
             }
            },
            "type": "scattermapbox"
           }
          ],
          "scatterpolar": [
           {
            "marker": {
             "colorbar": {
              "outlinewidth": 0,
              "ticks": ""
             }
            },
            "type": "scatterpolar"
           }
          ],
          "scatterpolargl": [
           {
            "marker": {
             "colorbar": {
              "outlinewidth": 0,
              "ticks": ""
             }
            },
            "type": "scatterpolargl"
           }
          ],
          "scatterternary": [
           {
            "marker": {
             "colorbar": {
              "outlinewidth": 0,
              "ticks": ""
             }
            },
            "type": "scatterternary"
           }
          ],
          "surface": [
           {
            "colorbar": {
             "outlinewidth": 0,
             "ticks": ""
            },
            "colorscale": [
             [
              0,
              "#0d0887"
             ],
             [
              0.1111111111111111,
              "#46039f"
             ],
             [
              0.2222222222222222,
              "#7201a8"
             ],
             [
              0.3333333333333333,
              "#9c179e"
             ],
             [
              0.4444444444444444,
              "#bd3786"
             ],
             [
              0.5555555555555556,
              "#d8576b"
             ],
             [
              0.6666666666666666,
              "#ed7953"
             ],
             [
              0.7777777777777778,
              "#fb9f3a"
             ],
             [
              0.8888888888888888,
              "#fdca26"
             ],
             [
              1,
              "#f0f921"
             ]
            ],
            "type": "surface"
           }
          ],
          "table": [
           {
            "cells": {
             "fill": {
              "color": "#EBF0F8"
             },
             "line": {
              "color": "white"
             }
            },
            "header": {
             "fill": {
              "color": "#C8D4E3"
             },
             "line": {
              "color": "white"
             }
            },
            "type": "table"
           }
          ]
         },
         "layout": {
          "annotationdefaults": {
           "arrowcolor": "#2a3f5f",
           "arrowhead": 0,
           "arrowwidth": 1
          },
          "coloraxis": {
           "colorbar": {
            "outlinewidth": 0,
            "ticks": ""
           }
          },
          "colorscale": {
           "diverging": [
            [
             0,
             "#8e0152"
            ],
            [
             0.1,
             "#c51b7d"
            ],
            [
             0.2,
             "#de77ae"
            ],
            [
             0.3,
             "#f1b6da"
            ],
            [
             0.4,
             "#fde0ef"
            ],
            [
             0.5,
             "#f7f7f7"
            ],
            [
             0.6,
             "#e6f5d0"
            ],
            [
             0.7,
             "#b8e186"
            ],
            [
             0.8,
             "#7fbc41"
            ],
            [
             0.9,
             "#4d9221"
            ],
            [
             1,
             "#276419"
            ]
           ],
           "sequential": [
            [
             0,
             "#0d0887"
            ],
            [
             0.1111111111111111,
             "#46039f"
            ],
            [
             0.2222222222222222,
             "#7201a8"
            ],
            [
             0.3333333333333333,
             "#9c179e"
            ],
            [
             0.4444444444444444,
             "#bd3786"
            ],
            [
             0.5555555555555556,
             "#d8576b"
            ],
            [
             0.6666666666666666,
             "#ed7953"
            ],
            [
             0.7777777777777778,
             "#fb9f3a"
            ],
            [
             0.8888888888888888,
             "#fdca26"
            ],
            [
             1,
             "#f0f921"
            ]
           ],
           "sequentialminus": [
            [
             0,
             "#0d0887"
            ],
            [
             0.1111111111111111,
             "#46039f"
            ],
            [
             0.2222222222222222,
             "#7201a8"
            ],
            [
             0.3333333333333333,
             "#9c179e"
            ],
            [
             0.4444444444444444,
             "#bd3786"
            ],
            [
             0.5555555555555556,
             "#d8576b"
            ],
            [
             0.6666666666666666,
             "#ed7953"
            ],
            [
             0.7777777777777778,
             "#fb9f3a"
            ],
            [
             0.8888888888888888,
             "#fdca26"
            ],
            [
             1,
             "#f0f921"
            ]
           ]
          },
          "colorway": [
           "#636efa",
           "#EF553B",
           "#00cc96",
           "#ab63fa",
           "#FFA15A",
           "#19d3f3",
           "#FF6692",
           "#B6E880",
           "#FF97FF",
           "#FECB52"
          ],
          "font": {
           "color": "#2a3f5f"
          },
          "geo": {
           "bgcolor": "white",
           "lakecolor": "white",
           "landcolor": "white",
           "showlakes": true,
           "showland": true,
           "subunitcolor": "#C8D4E3"
          },
          "hoverlabel": {
           "align": "left"
          },
          "hovermode": "closest",
          "mapbox": {
           "style": "light"
          },
          "paper_bgcolor": "white",
          "plot_bgcolor": "white",
          "polar": {
           "angularaxis": {
            "gridcolor": "#EBF0F8",
            "linecolor": "#EBF0F8",
            "ticks": ""
           },
           "bgcolor": "white",
           "radialaxis": {
            "gridcolor": "#EBF0F8",
            "linecolor": "#EBF0F8",
            "ticks": ""
           }
          },
          "scene": {
           "xaxis": {
            "backgroundcolor": "white",
            "gridcolor": "#DFE8F3",
            "gridwidth": 2,
            "linecolor": "#EBF0F8",
            "showbackground": true,
            "ticks": "",
            "zerolinecolor": "#EBF0F8"
           },
           "yaxis": {
            "backgroundcolor": "white",
            "gridcolor": "#DFE8F3",
            "gridwidth": 2,
            "linecolor": "#EBF0F8",
            "showbackground": true,
            "ticks": "",
            "zerolinecolor": "#EBF0F8"
           },
           "zaxis": {
            "backgroundcolor": "white",
            "gridcolor": "#DFE8F3",
            "gridwidth": 2,
            "linecolor": "#EBF0F8",
            "showbackground": true,
            "ticks": "",
            "zerolinecolor": "#EBF0F8"
           }
          },
          "shapedefaults": {
           "line": {
            "color": "#2a3f5f"
           }
          },
          "ternary": {
           "aaxis": {
            "gridcolor": "#DFE8F3",
            "linecolor": "#A2B1C6",
            "ticks": ""
           },
           "baxis": {
            "gridcolor": "#DFE8F3",
            "linecolor": "#A2B1C6",
            "ticks": ""
           },
           "bgcolor": "white",
           "caxis": {
            "gridcolor": "#DFE8F3",
            "linecolor": "#A2B1C6",
            "ticks": ""
           }
          },
          "title": {
           "x": 0.05
          },
          "xaxis": {
           "automargin": true,
           "gridcolor": "#EBF0F8",
           "linecolor": "#EBF0F8",
           "ticks": "",
           "title": {
            "standoff": 15
           },
           "zerolinecolor": "#EBF0F8",
           "zerolinewidth": 2
          },
          "yaxis": {
           "automargin": true,
           "gridcolor": "#EBF0F8",
           "linecolor": "#EBF0F8",
           "ticks": "",
           "title": {
            "standoff": 15
           },
           "zerolinecolor": "#EBF0F8",
           "zerolinewidth": 2
          }
         }
        },
        "updatemenus": [
         {
          "buttons": [
           {
            "args": [
             {
              "yaxis2.type": "linear"
             }
            ],
            "label": "Linear y-scale",
            "method": "relayout"
           },
           {
            "args": [
             {
              "yaxis2.type": "log"
             }
            ],
            "label": "Log y-scale",
            "method": "relayout"
           }
          ],
          "direction": "left",
          "pad": {
           "r": 0,
           "t": -10
          },
          "showactive": true,
          "type": "buttons",
          "x": 0,
          "xanchor": "left",
          "y": 1.15,
          "yanchor": "top"
         }
        ],
        "xaxis": {
         "anchor": "y",
         "domain": [
          0,
          1
         ],
         "matches": "x2",
         "showticklabels": false
        },
        "xaxis2": {
         "anchor": "y2",
         "domain": [
          0,
          1
         ],
         "title": {
          "text": "\\text{Time in days}"
         }
        },
        "yaxis": {
         "anchor": "x",
         "domain": [
          0.81,
          1
         ],
         "title": {
          "text": "\\text{Dose in mg}"
         }
        },
        "yaxis2": {
         "anchor": "x2",
         "domain": [
          0,
          0.76
         ],
         "title": {
          "text": "\\text{Plasma conc. in ng/mL"
         }
        }
       }
      }
     },
     "metadata": {}
    }
   ],
   "source": [
    "import erlotinib as erlo\n",
    "\n",
    "fig = erlo.plots.PKTimeSeriesPlot()\n",
    "fig.add_data(data, biomarker='Plasma concentration')\n",
    "fig.set_axis_labels(\n",
    "    time_label=r\"\\text{Time in days}\",\n",
    "    biom_label=r\"\\text{Plasma conc. in ng/mL\",\n",
    "    dose_label=r\"\\text{Dose in mg}\")\n",
    "fig.show()"
   ]
  },
  {
   "source": [
    "**Figure 1:**"
   ],
   "cell_type": "markdown",
   "metadata": {}
  },
  {
   "source": [
    "## Export data"
   ],
   "cell_type": "markdown",
   "metadata": {}
  },
  {
   "cell_type": "code",
   "execution_count": 5,
   "metadata": {},
   "outputs": [],
   "source": [
    "# Export cleaned LXF A677 control growth data\n",
    "path = os.path.dirname(os.getcwd())\n",
    "data.to_csv(path_or_buf=path + '/data/lxf_single_erlotinib_dose.csv', index=False)"
   ]
  }
 ]
}