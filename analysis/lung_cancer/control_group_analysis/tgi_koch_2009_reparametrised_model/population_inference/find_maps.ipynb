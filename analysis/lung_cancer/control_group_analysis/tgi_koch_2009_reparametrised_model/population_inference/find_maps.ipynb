{
 "cells": [
  {
   "cell_type": "markdown",
   "metadata": {},
   "source": [
    "# Infer Population Model Parameters from Individuals in Lung Cancer Control Group"
   ]
  },
  {
   "cell_type": "code",
   "execution_count": 15,
   "metadata": {},
   "outputs": [],
   "source": [
    "import os\n",
    "\n",
    "import arviz as az\n",
    "import matplotlib.pyplot as plt\n",
    "import numpy as np\n",
    "import pints\n",
    "from scipy.optimize import minimize, basinhopping\n",
    "import xarray as xr\n",
    "\n",
    "import erlotinib as erlo"
   ]
  },
  {
   "cell_type": "markdown",
   "metadata": {},
   "source": [
    "## Show control group data"
   ]
  },
  {
   "cell_type": "code",
   "execution_count": 2,
   "metadata": {},
   "outputs": [
    {
     "output_type": "display_data",
     "data": {
      "application/vnd.plotly.v1+json": {
       "config": {
        "plotlyServerURL": "https://plot.ly"
       },
       "data": [
        {
         "marker": {
          "color": "#636EFA",
          "line": {
           "color": "black",
           "width": 1
          },
          "opacity": 0.7,
          "symbol": "circle"
         },
         "mode": "markers",
         "name": "ID: 40",
         "showlegend": true,
         "type": "scatter",
         "x": [
          0,
          2,
          4,
          7,
          9,
          11,
          14,
          16,
          18,
          21
         ],
         "y": [
          0.191808,
          0.249158,
          0.3306719999999999,
          0.6683669999999999,
          0.915008,
          1.119258,
          1.470432,
          1.6692479999999998,
          1.752192,
          2.276736
         ]
        },
        {
         "marker": {
          "color": "#EF553B",
          "line": {
           "color": "black",
           "width": 1
          },
          "opacity": 0.7,
          "symbol": "circle"
         },
         "mode": "markers",
         "name": "ID: 94",
         "showlegend": true,
         "type": "scatter",
         "x": [
          0,
          2,
          4,
          7,
          9,
          11,
          14,
          16,
          18,
          21,
          23,
          25,
          28,
          30
         ],
         "y": [
          0.0772475,
          0.0884835,
          0.125316,
          0.165528,
          0.189486,
          0.264654,
          0.264654,
          0.306936,
          0.389207,
          0.389207,
          0.405769,
          0.4264715,
          0.5551309999999999,
          0.57624
         ]
        },
        {
         "marker": {
          "color": "#00CC96",
          "line": {
           "color": "black",
           "width": 1
          },
          "opacity": 0.7,
          "symbol": "circle"
         },
         "mode": "markers",
         "name": "ID: 95",
         "showlegend": true,
         "type": "scatter",
         "x": [
          0,
          2,
          4,
          7,
          9,
          11,
          14,
          16,
          18,
          21
         ],
         "y": [
          0.1862,
          0.24642,
          0.4293,
          0.62426,
          0.7246720000000001,
          0.7300800000000001,
          0.9196,
          1.131184,
          1.675872,
          2.346616
         ]
        },
        {
         "marker": {
          "color": "#AB63FA",
          "line": {
           "color": "black",
           "width": 1
          },
          "opacity": 0.7,
          "symbol": "circle"
         },
         "mode": "markers",
         "name": "ID: 136",
         "showlegend": true,
         "type": "scatter",
         "x": [
          0,
          2,
          4,
          7,
          9,
          11,
          14,
          16,
          18,
          21,
          23,
          25,
          28,
          30
         ],
         "y": [
          0.1185885,
          0.175071,
          0.229992,
          0.3026884999999999,
          0.3026884999999999,
          0.37044,
          0.5341545,
          0.651688,
          0.7212869999999999,
          0.78732,
          0.8529505000000001,
          1.104558,
          1.13288,
          1.4593425
         ]
        },
        {
         "marker": {
          "color": "#FFA15A",
          "line": {
           "color": "black",
           "width": 1
          },
          "opacity": 0.7,
          "symbol": "circle"
         },
         "mode": "markers",
         "name": "ID: 140",
         "showlegend": true,
         "type": "scatter",
         "x": [
          0,
          2,
          4,
          7,
          9,
          11,
          14,
          16,
          18,
          21,
          23,
          25,
          28,
          30
         ],
         "y": [
          0.0793305,
          0.126852,
          0.146072,
          0.261121,
          0.345744,
          0.3552,
          0.41905,
          0.480298,
          0.556668,
          0.8089919999999999,
          0.857304,
          1.097675,
          1.992144,
          2.1225820000000004
         ]
        },
        {
         "marker": {
          "color": "#19D3F3",
          "line": {
           "color": "black",
           "width": 1
          },
          "opacity": 0.7,
          "symbol": "circle"
         },
         "mode": "markers",
         "name": "ID: 155",
         "showlegend": true,
         "type": "scatter",
         "x": [
          0,
          2,
          4,
          7,
          9,
          11,
          14,
          16,
          18,
          21,
          23,
          25
         ],
         "y": [
          0.105875,
          0.167706,
          0.356328,
          0.6489600000000001,
          0.692224,
          0.7300800000000001,
          0.81648,
          1.494954,
          1.5166985,
          1.72405,
          1.637784,
          2.25108
         ]
        },
        {
         "marker": {
          "color": "#FF6692",
          "line": {
           "color": "black",
           "width": 1
          },
          "opacity": 0.7,
          "symbol": "circle"
         },
         "mode": "markers",
         "name": "ID: 169",
         "showlegend": true,
         "type": "scatter",
         "x": [
          0,
          2,
          4,
          7,
          9,
          11,
          14,
          16,
          18,
          21,
          23,
          25,
          28,
          30
         ],
         "y": [
          0.1230079999999999,
          0.128774,
          0.1764,
          0.2051665,
          0.2460535,
          0.2788425,
          0.333036,
          0.356445,
          0.39285,
          0.479859,
          0.539055,
          0.6354195,
          0.7146180000000001,
          0.7469865
         ]
        },
        {
         "marker": {
          "color": "#B6E880",
          "line": {
           "color": "black",
           "width": 1
          },
          "opacity": 0.7,
          "symbol": "circle"
         },
         "mode": "markers",
         "name": "ID: 170",
         "showlegend": true,
         "type": "scatter",
         "x": [
          0,
          2,
          4,
          7,
          9,
          11,
          14,
          16,
          18,
          21,
          23,
          25,
          28,
          30
         ],
         "y": [
          0.0800565,
          0.094221,
          0.10933,
          0.158994,
          0.176157,
          0.1940785,
          0.2041605,
          0.246402,
          0.3050865,
          0.3683265,
          0.418176,
          0.4396155,
          0.5661554999999999,
          0.6206265
         ]
        }
       ],
       "layout": {
        "autosize": true,
        "template": {
         "data": {
          "bar": [
           {
            "error_x": {
             "color": "#2a3f5f"
            },
            "error_y": {
             "color": "#2a3f5f"
            },
            "marker": {
             "line": {
              "color": "white",
              "width": 0.5
             }
            },
            "type": "bar"
           }
          ],
          "barpolar": [
           {
            "marker": {
             "line": {
              "color": "white",
              "width": 0.5
             }
            },
            "type": "barpolar"
           }
          ],
          "carpet": [
           {
            "aaxis": {
             "endlinecolor": "#2a3f5f",
             "gridcolor": "#C8D4E3",
             "linecolor": "#C8D4E3",
             "minorgridcolor": "#C8D4E3",
             "startlinecolor": "#2a3f5f"
            },
            "baxis": {
             "endlinecolor": "#2a3f5f",
             "gridcolor": "#C8D4E3",
             "linecolor": "#C8D4E3",
             "minorgridcolor": "#C8D4E3",
             "startlinecolor": "#2a3f5f"
            },
            "type": "carpet"
           }
          ],
          "choropleth": [
           {
            "colorbar": {
             "outlinewidth": 0,
             "ticks": ""
            },
            "type": "choropleth"
           }
          ],
          "contour": [
           {
            "colorbar": {
             "outlinewidth": 0,
             "ticks": ""
            },
            "colorscale": [
             [
              0,
              "#0d0887"
             ],
             [
              0.1111111111111111,
              "#46039f"
             ],
             [
              0.2222222222222222,
              "#7201a8"
             ],
             [
              0.3333333333333333,
              "#9c179e"
             ],
             [
              0.4444444444444444,
              "#bd3786"
             ],
             [
              0.5555555555555556,
              "#d8576b"
             ],
             [
              0.6666666666666666,
              "#ed7953"
             ],
             [
              0.7777777777777778,
              "#fb9f3a"
             ],
             [
              0.8888888888888888,
              "#fdca26"
             ],
             [
              1,
              "#f0f921"
             ]
            ],
            "type": "contour"
           }
          ],
          "contourcarpet": [
           {
            "colorbar": {
             "outlinewidth": 0,
             "ticks": ""
            },
            "type": "contourcarpet"
           }
          ],
          "heatmap": [
           {
            "colorbar": {
             "outlinewidth": 0,
             "ticks": ""
            },
            "colorscale": [
             [
              0,
              "#0d0887"
             ],
             [
              0.1111111111111111,
              "#46039f"
             ],
             [
              0.2222222222222222,
              "#7201a8"
             ],
             [
              0.3333333333333333,
              "#9c179e"
             ],
             [
              0.4444444444444444,
              "#bd3786"
             ],
             [
              0.5555555555555556,
              "#d8576b"
             ],
             [
              0.6666666666666666,
              "#ed7953"
             ],
             [
              0.7777777777777778,
              "#fb9f3a"
             ],
             [
              0.8888888888888888,
              "#fdca26"
             ],
             [
              1,
              "#f0f921"
             ]
            ],
            "type": "heatmap"
           }
          ],
          "heatmapgl": [
           {
            "colorbar": {
             "outlinewidth": 0,
             "ticks": ""
            },
            "colorscale": [
             [
              0,
              "#0d0887"
             ],
             [
              0.1111111111111111,
              "#46039f"
             ],
             [
              0.2222222222222222,
              "#7201a8"
             ],
             [
              0.3333333333333333,
              "#9c179e"
             ],
             [
              0.4444444444444444,
              "#bd3786"
             ],
             [
              0.5555555555555556,
              "#d8576b"
             ],
             [
              0.6666666666666666,
              "#ed7953"
             ],
             [
              0.7777777777777778,
              "#fb9f3a"
             ],
             [
              0.8888888888888888,
              "#fdca26"
             ],
             [
              1,
              "#f0f921"
             ]
            ],
            "type": "heatmapgl"
           }
          ],
          "histogram": [
           {
            "marker": {
             "colorbar": {
              "outlinewidth": 0,
              "ticks": ""
             }
            },
            "type": "histogram"
           }
          ],
          "histogram2d": [
           {
            "colorbar": {
             "outlinewidth": 0,
             "ticks": ""
            },
            "colorscale": [
             [
              0,
              "#0d0887"
             ],
             [
              0.1111111111111111,
              "#46039f"
             ],
             [
              0.2222222222222222,
              "#7201a8"
             ],
             [
              0.3333333333333333,
              "#9c179e"
             ],
             [
              0.4444444444444444,
              "#bd3786"
             ],
             [
              0.5555555555555556,
              "#d8576b"
             ],
             [
              0.6666666666666666,
              "#ed7953"
             ],
             [
              0.7777777777777778,
              "#fb9f3a"
             ],
             [
              0.8888888888888888,
              "#fdca26"
             ],
             [
              1,
              "#f0f921"
             ]
            ],
            "type": "histogram2d"
           }
          ],
          "histogram2dcontour": [
           {
            "colorbar": {
             "outlinewidth": 0,
             "ticks": ""
            },
            "colorscale": [
             [
              0,
              "#0d0887"
             ],
             [
              0.1111111111111111,
              "#46039f"
             ],
             [
              0.2222222222222222,
              "#7201a8"
             ],
             [
              0.3333333333333333,
              "#9c179e"
             ],
             [
              0.4444444444444444,
              "#bd3786"
             ],
             [
              0.5555555555555556,
              "#d8576b"
             ],
             [
              0.6666666666666666,
              "#ed7953"
             ],
             [
              0.7777777777777778,
              "#fb9f3a"
             ],
             [
              0.8888888888888888,
              "#fdca26"
             ],
             [
              1,
              "#f0f921"
             ]
            ],
            "type": "histogram2dcontour"
           }
          ],
          "mesh3d": [
           {
            "colorbar": {
             "outlinewidth": 0,
             "ticks": ""
            },
            "type": "mesh3d"
           }
          ],
          "parcoords": [
           {
            "line": {
             "colorbar": {
              "outlinewidth": 0,
              "ticks": ""
             }
            },
            "type": "parcoords"
           }
          ],
          "pie": [
           {
            "automargin": true,
            "type": "pie"
           }
          ],
          "scatter": [
           {
            "marker": {
             "colorbar": {
              "outlinewidth": 0,
              "ticks": ""
             }
            },
            "type": "scatter"
           }
          ],
          "scatter3d": [
           {
            "line": {
             "colorbar": {
              "outlinewidth": 0,
              "ticks": ""
             }
            },
            "marker": {
             "colorbar": {
              "outlinewidth": 0,
              "ticks": ""
             }
            },
            "type": "scatter3d"
           }
          ],
          "scattercarpet": [
           {
            "marker": {
             "colorbar": {
              "outlinewidth": 0,
              "ticks": ""
             }
            },
            "type": "scattercarpet"
           }
          ],
          "scattergeo": [
           {
            "marker": {
             "colorbar": {
              "outlinewidth": 0,
              "ticks": ""
             }
            },
            "type": "scattergeo"
           }
          ],
          "scattergl": [
           {
            "marker": {
             "colorbar": {
              "outlinewidth": 0,
              "ticks": ""
             }
            },
            "type": "scattergl"
           }
          ],
          "scattermapbox": [
           {
            "marker": {
             "colorbar": {
              "outlinewidth": 0,
              "ticks": ""
             }
            },
            "type": "scattermapbox"
           }
          ],
          "scatterpolar": [
           {
            "marker": {
             "colorbar": {
              "outlinewidth": 0,
              "ticks": ""
             }
            },
            "type": "scatterpolar"
           }
          ],
          "scatterpolargl": [
           {
            "marker": {
             "colorbar": {
              "outlinewidth": 0,
              "ticks": ""
             }
            },
            "type": "scatterpolargl"
           }
          ],
          "scatterternary": [
           {
            "marker": {
             "colorbar": {
              "outlinewidth": 0,
              "ticks": ""
             }
            },
            "type": "scatterternary"
           }
          ],
          "surface": [
           {
            "colorbar": {
             "outlinewidth": 0,
             "ticks": ""
            },
            "colorscale": [
             [
              0,
              "#0d0887"
             ],
             [
              0.1111111111111111,
              "#46039f"
             ],
             [
              0.2222222222222222,
              "#7201a8"
             ],
             [
              0.3333333333333333,
              "#9c179e"
             ],
             [
              0.4444444444444444,
              "#bd3786"
             ],
             [
              0.5555555555555556,
              "#d8576b"
             ],
             [
              0.6666666666666666,
              "#ed7953"
             ],
             [
              0.7777777777777778,
              "#fb9f3a"
             ],
             [
              0.8888888888888888,
              "#fdca26"
             ],
             [
              1,
              "#f0f921"
             ]
            ],
            "type": "surface"
           }
          ],
          "table": [
           {
            "cells": {
             "fill": {
              "color": "#EBF0F8"
             },
             "line": {
              "color": "white"
             }
            },
            "header": {
             "fill": {
              "color": "#C8D4E3"
             },
             "line": {
              "color": "white"
             }
            },
            "type": "table"
           }
          ]
         },
         "layout": {
          "annotationdefaults": {
           "arrowcolor": "#2a3f5f",
           "arrowhead": 0,
           "arrowwidth": 1
          },
          "coloraxis": {
           "colorbar": {
            "outlinewidth": 0,
            "ticks": ""
           }
          },
          "colorscale": {
           "diverging": [
            [
             0,
             "#8e0152"
            ],
            [
             0.1,
             "#c51b7d"
            ],
            [
             0.2,
             "#de77ae"
            ],
            [
             0.3,
             "#f1b6da"
            ],
            [
             0.4,
             "#fde0ef"
            ],
            [
             0.5,
             "#f7f7f7"
            ],
            [
             0.6,
             "#e6f5d0"
            ],
            [
             0.7,
             "#b8e186"
            ],
            [
             0.8,
             "#7fbc41"
            ],
            [
             0.9,
             "#4d9221"
            ],
            [
             1,
             "#276419"
            ]
           ],
           "sequential": [
            [
             0,
             "#0d0887"
            ],
            [
             0.1111111111111111,
             "#46039f"
            ],
            [
             0.2222222222222222,
             "#7201a8"
            ],
            [
             0.3333333333333333,
             "#9c179e"
            ],
            [
             0.4444444444444444,
             "#bd3786"
            ],
            [
             0.5555555555555556,
             "#d8576b"
            ],
            [
             0.6666666666666666,
             "#ed7953"
            ],
            [
             0.7777777777777778,
             "#fb9f3a"
            ],
            [
             0.8888888888888888,
             "#fdca26"
            ],
            [
             1,
             "#f0f921"
            ]
           ],
           "sequentialminus": [
            [
             0,
             "#0d0887"
            ],
            [
             0.1111111111111111,
             "#46039f"
            ],
            [
             0.2222222222222222,
             "#7201a8"
            ],
            [
             0.3333333333333333,
             "#9c179e"
            ],
            [
             0.4444444444444444,
             "#bd3786"
            ],
            [
             0.5555555555555556,
             "#d8576b"
            ],
            [
             0.6666666666666666,
             "#ed7953"
            ],
            [
             0.7777777777777778,
             "#fb9f3a"
            ],
            [
             0.8888888888888888,
             "#fdca26"
            ],
            [
             1,
             "#f0f921"
            ]
           ]
          },
          "colorway": [
           "#636efa",
           "#EF553B",
           "#00cc96",
           "#ab63fa",
           "#FFA15A",
           "#19d3f3",
           "#FF6692",
           "#B6E880",
           "#FF97FF",
           "#FECB52"
          ],
          "font": {
           "color": "#2a3f5f"
          },
          "geo": {
           "bgcolor": "white",
           "lakecolor": "white",
           "landcolor": "white",
           "showlakes": true,
           "showland": true,
           "subunitcolor": "#C8D4E3"
          },
          "hoverlabel": {
           "align": "left"
          },
          "hovermode": "closest",
          "mapbox": {
           "style": "light"
          },
          "paper_bgcolor": "white",
          "plot_bgcolor": "white",
          "polar": {
           "angularaxis": {
            "gridcolor": "#EBF0F8",
            "linecolor": "#EBF0F8",
            "ticks": ""
           },
           "bgcolor": "white",
           "radialaxis": {
            "gridcolor": "#EBF0F8",
            "linecolor": "#EBF0F8",
            "ticks": ""
           }
          },
          "scene": {
           "xaxis": {
            "backgroundcolor": "white",
            "gridcolor": "#DFE8F3",
            "gridwidth": 2,
            "linecolor": "#EBF0F8",
            "showbackground": true,
            "ticks": "",
            "zerolinecolor": "#EBF0F8"
           },
           "yaxis": {
            "backgroundcolor": "white",
            "gridcolor": "#DFE8F3",
            "gridwidth": 2,
            "linecolor": "#EBF0F8",
            "showbackground": true,
            "ticks": "",
            "zerolinecolor": "#EBF0F8"
           },
           "zaxis": {
            "backgroundcolor": "white",
            "gridcolor": "#DFE8F3",
            "gridwidth": 2,
            "linecolor": "#EBF0F8",
            "showbackground": true,
            "ticks": "",
            "zerolinecolor": "#EBF0F8"
           }
          },
          "shapedefaults": {
           "line": {
            "color": "#2a3f5f"
           }
          },
          "ternary": {
           "aaxis": {
            "gridcolor": "#DFE8F3",
            "linecolor": "#A2B1C6",
            "ticks": ""
           },
           "baxis": {
            "gridcolor": "#DFE8F3",
            "linecolor": "#A2B1C6",
            "ticks": ""
           },
           "bgcolor": "white",
           "caxis": {
            "gridcolor": "#DFE8F3",
            "linecolor": "#A2B1C6",
            "ticks": ""
           }
          },
          "title": {
           "x": 0.05
          },
          "xaxis": {
           "automargin": true,
           "gridcolor": "#EBF0F8",
           "linecolor": "#EBF0F8",
           "ticks": "",
           "title": {
            "standoff": 15
           },
           "zerolinecolor": "#EBF0F8",
           "zerolinewidth": 2
          },
          "yaxis": {
           "automargin": true,
           "gridcolor": "#EBF0F8",
           "linecolor": "#EBF0F8",
           "ticks": "",
           "title": {
            "standoff": 15
           },
           "zerolinecolor": "#EBF0F8",
           "zerolinewidth": 2
          }
         }
        },
        "updatemenus": [
         {
          "buttons": [
           {
            "args": [
             {
              "yaxis.type": "linear"
             }
            ],
            "label": "Linear y-scale",
            "method": "relayout"
           },
           {
            "args": [
             {
              "yaxis.type": "log"
             }
            ],
            "label": "Log y-scale",
            "method": "relayout"
           }
          ],
          "direction": "left",
          "pad": {
           "r": 0,
           "t": -10
          },
          "showactive": true,
          "type": "buttons",
          "x": 0,
          "xanchor": "left",
          "y": 1.15,
          "yanchor": "top"
         }
        ],
        "xaxis": {
         "title": {
          "text": "$\\text{Time in day}$"
         }
        },
        "yaxis": {
         "title": {
          "text": "$\\text{Tumour volume in cm}^3$"
         }
        }
       }
      }
     },
     "metadata": {}
    }
   ],
   "source": [
    "# Get data\n",
    "data = erlo.DataLibrary().lung_cancer_control_group()\n",
    "\n",
    "# Create scatter plot\n",
    "fig = erlo.plots.PDTimeSeriesPlot()\n",
    "fig.add_data(data, biomarker='Tumour volume')\n",
    "fig.set_axis_labels(xlabel=r'$\\text{Time in day}$', ylabel=r'$\\text{Tumour volume in cm}^3$')\n",
    "\n",
    "# Show figure\n",
    "fig.show()"
   ]
  },
  {
   "cell_type": "markdown",
   "metadata": {},
   "source": [
    "**Figure 1:** Visualisation of the measured tumour growth in 8 mice with patient-derived lung cancer implants."
   ]
  },
  {
   "cell_type": "markdown",
   "metadata": {},
   "source": [
    "## Build model"
   ]
  },
  {
   "cell_type": "code",
   "execution_count": 3,
   "metadata": {},
   "outputs": [],
   "source": [
    "# Define mechanistic model\n",
    "path = erlo.ModelLibrary().tumour_growth_inhibition_model_koch_reparametrised()\n",
    "mechanistic_model = erlo.PharmacodynamicModel(path)\n",
    "mechanistic_model.set_parameter_names(names={\n",
    "    'myokit.tumour_volume': 'Tumour volume in cm^3',\n",
    "    'myokit.critical_volume': 'Critical volume in cm^3',\n",
    "    'myokit.drug_concentration': 'Drug concentration in mg/L',\n",
    "    'myokit.kappa': 'Potency in L/mg/day',\n",
    "    'myokit.lambda': 'Exponential growth rate in 1/day'})\n",
    "mechanistic_model.set_output_names({\n",
    "    'myokit.tumour_volume': 'Tumour volume'})\n",
    "\n",
    "# Define error model\n",
    "error_model = erlo.ConstantAndMultiplicativeGaussianErrorModel()\n",
    "\n",
    "# Define population model\n",
    "population_model = [\n",
    "    erlo.LogNormalModel(),  # Initial tumour volume\n",
    "    erlo.LogNormalModel(),  # Critical tumour volume\n",
    "    erlo.LogNormalModel(),  # Tumour growth rate\n",
    "    erlo.PooledModel(),     # Base noise\n",
    "    erlo.PooledModel()]     # Relative noise\n",
    "\n",
    "# Build model\n",
    "problem = erlo.ProblemModellingController(\n",
    "    mechanistic_model, error_model)\n",
    "problem.fix_parameters({\n",
    "    'Drug concentration in mg/L': 0,\n",
    "    'Potency in L/mg/day': 0})\n",
    "problem.set_population_model(population_model)"
   ]
  },
  {
   "cell_type": "markdown",
   "metadata": {},
   "source": [
    "## Prior predictive checks"
   ]
  },
  {
   "cell_type": "markdown",
   "metadata": {},
   "source": [
    "### Population model"
   ]
  },
  {
   "cell_type": "code",
   "execution_count": 4,
   "metadata": {},
   "outputs": [
    {
     "output_type": "display_data",
     "data": {
      "application/vnd.plotly.v1+json": {
       "config": {
        "plotlyServerURL": "https://plot.ly"
       },
       "data": [
        {
         "fill": "toself",
         "hoverinfo": "text",
         "legendgroup": "Model prediction",
         "line": {
          "color": "rgb(198,219,239)",
          "width": 1
         },
         "name": "Predictive model",
         "showlegend": false,
         "text": "0.9 Bulk",
         "type": "scatter",
         "x": [
          0,
          0.6122448979591837,
          1.2244897959183674,
          1.836734693877551,
          2.4489795918367347,
          3.0612244897959187,
          3.673469387755102,
          4.285714285714286,
          4.8979591836734695,
          5.510204081632653,
          6.122448979591837,
          6.73469387755102,
          7.346938775510204,
          7.959183673469388,
          8.571428571428571,
          9.183673469387756,
          9.795918367346939,
          10.408163265306122,
          11.020408163265307,
          11.63265306122449,
          12.244897959183675,
          12.857142857142858,
          13.46938775510204,
          14.081632653061225,
          14.693877551020408,
          15.306122448979592,
          15.918367346938776,
          16.53061224489796,
          17.142857142857142,
          17.755102040816325,
          18.367346938775512,
          18.979591836734695,
          19.591836734693878,
          20.20408163265306,
          20.816326530612244,
          21.42857142857143,
          22.040816326530614,
          22.653061224489797,
          23.26530612244898,
          23.877551020408163,
          24.48979591836735,
          25.102040816326532,
          25.714285714285715,
          26.3265306122449,
          26.93877551020408,
          27.551020408163264,
          28.16326530612245,
          28.775510204081634,
          29.387755102040817,
          30,
          30,
          29.387755102040817,
          28.775510204081634,
          28.16326530612245,
          27.551020408163264,
          26.93877551020408,
          26.3265306122449,
          25.714285714285715,
          25.102040816326532,
          24.48979591836735,
          23.877551020408163,
          23.26530612244898,
          22.653061224489797,
          22.040816326530614,
          21.42857142857143,
          20.816326530612244,
          20.20408163265306,
          19.591836734693878,
          18.979591836734695,
          18.367346938775512,
          17.755102040816325,
          17.142857142857142,
          16.53061224489796,
          15.918367346938776,
          15.306122448979592,
          14.693877551020408,
          14.081632653061225,
          13.46938775510204,
          12.857142857142858,
          12.244897959183675,
          11.63265306122449,
          11.020408163265307,
          10.408163265306122,
          9.795918367346939,
          9.183673469387756,
          8.571428571428571,
          7.959183673469388,
          7.346938775510204,
          6.73469387755102,
          6.122448979591837,
          5.510204081632653,
          4.8979591836734695,
          4.285714285714286,
          3.673469387755102,
          3.0612244897959187,
          2.4489795918367347,
          1.836734693877551,
          1.2244897959183674,
          0.6122448979591837,
          0
         ],
         "y": [
          2.8611539689293624,
          3.6158549706621574,
          4.893278722486644,
          5.900871065979598,
          7.4760992778627955,
          8.108489450285019,
          11.590538671100699,
          12.780616289178147,
          13.602568500438998,
          18.567503383882368,
          18.886109336734442,
          22.80649243440613,
          25.028699408830487,
          25.99119151684491,
          32.196858239603614,
          31.974447617362298,
          34.02850273248876,
          40.690283677160444,
          41.10266026636168,
          36.57397737226838,
          52.107735160465666,
          49.63608981009909,
          49.252760132411986,
          55.03621686360467,
          53.94621989830851,
          47.117620777113615,
          56.845339914691465,
          50.80579507874299,
          60.10027018881422,
          63.78061498838021,
          67.19703250964197,
          71.79740332192111,
          67.79500845373332,
          71.46345591370219,
          77.18468259886595,
          68.72755814244802,
          85.30715965759101,
          70.02381741702096,
          80.24983878772635,
          84.55267320386615,
          90.74984119748778,
          80.77101304820799,
          92.39459017352675,
          101.88009727144265,
          87.55385771083604,
          118.83363685197781,
          94.7113021418636,
          93.45490714817302,
          100.14703848594455,
          119.44423575564691,
          -1.1150968346734327,
          -1.1661952192664746,
          -1.1371734663936865,
          -1.232593304840692,
          -1.6453162415933416,
          -1.2849557328797885,
          -1.1306260597168853,
          -1.5156789858517183,
          -1.037560397785017,
          -0.31228668165947376,
          -1.5840689460128021,
          -0.7895518712955317,
          -1.0950900440066489,
          -0.9777439035970243,
          -1.15553410215197,
          -2.486074286860422,
          -0.5571494117326905,
          -0.5598495892071387,
          -1.3992288169489284,
          -0.6457063856168616,
          -2.1444830138948943,
          -0.691038583514023,
          -1.6693342997365006,
          -0.5080915448308291,
          -0.9356844855259537,
          -1.4006416076546124,
          -1.145491731424564,
          -1.8390337419605702,
          -0.9872874679966742,
          -1.256669150638668,
          -1.2241706039399851,
          -1.096331863890155,
          -1.649527749641777,
          -1.5070029206872866,
          -1.8960290247296103,
          -2.0825577266254656,
          -1.1131364918079059,
          -1.225893158059926,
          -1.3511502935280666,
          -1.4559949186015733,
          -1.2503344424440757,
          -1.6542391529378955,
          -1.349186873738949,
          -0.9635629484248386,
          -1.1633736076150372,
          -1.8441778116895253,
          -1.8819056925954727,
          -1.9983694747210756,
          -2.4270604225954746,
          -2.2458311428631266
         ]
        },
        {
         "fill": "toself",
         "hoverinfo": "text",
         "legendgroup": "Model prediction",
         "line": {
          "color": "rgb(158,202,225)",
          "width": 1
         },
         "name": "Predictive model",
         "showlegend": false,
         "text": "0.6 Bulk",
         "type": "scatter",
         "x": [
          0,
          0.6122448979591837,
          1.2244897959183674,
          1.836734693877551,
          2.4489795918367347,
          3.0612244897959187,
          3.673469387755102,
          4.285714285714286,
          4.8979591836734695,
          5.510204081632653,
          6.122448979591837,
          6.73469387755102,
          7.346938775510204,
          7.959183673469388,
          8.571428571428571,
          9.183673469387756,
          9.795918367346939,
          10.408163265306122,
          11.020408163265307,
          11.63265306122449,
          12.244897959183675,
          12.857142857142858,
          13.46938775510204,
          14.081632653061225,
          14.693877551020408,
          15.306122448979592,
          15.918367346938776,
          16.53061224489796,
          17.142857142857142,
          17.755102040816325,
          18.367346938775512,
          18.979591836734695,
          19.591836734693878,
          20.20408163265306,
          20.816326530612244,
          21.42857142857143,
          22.040816326530614,
          22.653061224489797,
          23.26530612244898,
          23.877551020408163,
          24.48979591836735,
          25.102040816326532,
          25.714285714285715,
          26.3265306122449,
          26.93877551020408,
          27.551020408163264,
          28.16326530612245,
          28.775510204081634,
          29.387755102040817,
          30,
          30,
          29.387755102040817,
          28.775510204081634,
          28.16326530612245,
          27.551020408163264,
          26.93877551020408,
          26.3265306122449,
          25.714285714285715,
          25.102040816326532,
          24.48979591836735,
          23.877551020408163,
          23.26530612244898,
          22.653061224489797,
          22.040816326530614,
          21.42857142857143,
          20.816326530612244,
          20.20408163265306,
          19.591836734693878,
          18.979591836734695,
          18.367346938775512,
          17.755102040816325,
          17.142857142857142,
          16.53061224489796,
          15.918367346938776,
          15.306122448979592,
          14.693877551020408,
          14.081632653061225,
          13.46938775510204,
          12.857142857142858,
          12.244897959183675,
          11.63265306122449,
          11.020408163265307,
          10.408163265306122,
          9.795918367346939,
          9.183673469387756,
          8.571428571428571,
          7.959183673469388,
          7.346938775510204,
          6.73469387755102,
          6.122448979591837,
          5.510204081632653,
          4.8979591836734695,
          4.285714285714286,
          3.673469387755102,
          3.0612244897959187,
          2.4489795918367347,
          1.836734693877551,
          1.2244897959183674,
          0.6122448979591837,
          0
         ],
         "y": [
          1.5676579976359846,
          1.7399944117625112,
          2.1937905721044415,
          2.293695194777809,
          2.988647313591341,
          3.3131179121834737,
          3.6276046890868976,
          3.7960027410784614,
          4.328272657670497,
          4.662586226060039,
          5.362045777792796,
          5.258857046588357,
          4.724947822929606,
          7.104853614557321,
          5.9179647788897745,
          8.106330034276375,
          7.74233850992721,
          8.986974696497287,
          9.566662968907153,
          10.301132218455542,
          10.26475677491165,
          12.062343762310713,
          12.099649361081493,
          12.284859940152318,
          13.671853547966222,
          14.943318616451934,
          16.115637511932853,
          17.360856792856747,
          17.443217284869203,
          16.970156054256115,
          16.635405602386033,
          18.406814465066944,
          21.22588657938012,
          19.052214473170817,
          19.453345855384487,
          23.74254014705067,
          23.595118070252123,
          25.32644401454348,
          21.455574896628075,
          23.435335006358574,
          20.365068021468527,
          25.767475134742735,
          24.020711217196926,
          24.80433395863629,
          25.03407600665436,
          25.98116344645205,
          27.254207437347794,
          27.682643893544647,
          29.67471176271799,
          33.476365408105146,
          0.16457960119220025,
          0.38002352833302333,
          -0.04734480930027334,
          0.12000064853037884,
          0.15006000335585182,
          0.3010647610834643,
          0.2980015732399542,
          -0.09275158216030378,
          0.24919853680964096,
          0.4386540928962129,
          0.1293784718424038,
          0.38756125555331344,
          0.20145667635189857,
          0.039043174724803856,
          0.1437768472241799,
          -0.11362263466410547,
          0.2680469078913132,
          0.38718955688829165,
          -0.25515072858381366,
          0.2754752399229605,
          0.03164317550007324,
          0.21702007877770008,
          0.15280173080133638,
          0.18050752529252778,
          0.05600171678287877,
          0.07184626466012725,
          0.05020376602193065,
          -0.02409880704260851,
          0.08822074352208366,
          -0.07030060711776684,
          0.05200611879520171,
          0.15066323826827022,
          -0.023649418830214902,
          -0.13880891177877086,
          0.042676827510700385,
          -0.13082844282476846,
          -0.1680803601001946,
          -0.0042326589642532044,
          -0.06514419491409645,
          0.007068496251256,
          -0.09533226746286316,
          -0.2690500298093503,
          -0.01785008882043235,
          -0.021630647247784573,
          0.010744765925815337,
          -0.5601143018931122,
          -0.3503745793388865,
          -0.0960361636461348,
          -0.18485196618219285,
          -0.6794588750427488
         ]
        },
        {
         "fill": "toself",
         "hoverinfo": "text",
         "legendgroup": "Model prediction",
         "line": {
          "color": "rgb(107,174,214)",
          "width": 1
         },
         "name": "Predictive model",
         "showlegend": true,
         "text": "0.3 Bulk",
         "type": "scatter",
         "x": [
          0,
          0.6122448979591837,
          1.2244897959183674,
          1.836734693877551,
          2.4489795918367347,
          3.0612244897959187,
          3.673469387755102,
          4.285714285714286,
          4.8979591836734695,
          5.510204081632653,
          6.122448979591837,
          6.73469387755102,
          7.346938775510204,
          7.959183673469388,
          8.571428571428571,
          9.183673469387756,
          9.795918367346939,
          10.408163265306122,
          11.020408163265307,
          11.63265306122449,
          12.244897959183675,
          12.857142857142858,
          13.46938775510204,
          14.081632653061225,
          14.693877551020408,
          15.306122448979592,
          15.918367346938776,
          16.53061224489796,
          17.142857142857142,
          17.755102040816325,
          18.367346938775512,
          18.979591836734695,
          19.591836734693878,
          20.20408163265306,
          20.816326530612244,
          21.42857142857143,
          22.040816326530614,
          22.653061224489797,
          23.26530612244898,
          23.877551020408163,
          24.48979591836735,
          25.102040816326532,
          25.714285714285715,
          26.3265306122449,
          26.93877551020408,
          27.551020408163264,
          28.16326530612245,
          28.775510204081634,
          29.387755102040817,
          30,
          30,
          29.387755102040817,
          28.775510204081634,
          28.16326530612245,
          27.551020408163264,
          26.93877551020408,
          26.3265306122449,
          25.714285714285715,
          25.102040816326532,
          24.48979591836735,
          23.877551020408163,
          23.26530612244898,
          22.653061224489797,
          22.040816326530614,
          21.42857142857143,
          20.816326530612244,
          20.20408163265306,
          19.591836734693878,
          18.979591836734695,
          18.367346938775512,
          17.755102040816325,
          17.142857142857142,
          16.53061224489796,
          15.918367346938776,
          15.306122448979592,
          14.693877551020408,
          14.081632653061225,
          13.46938775510204,
          12.857142857142858,
          12.244897959183675,
          11.63265306122449,
          11.020408163265307,
          10.408163265306122,
          9.795918367346939,
          9.183673469387756,
          8.571428571428571,
          7.959183673469388,
          7.346938775510204,
          6.73469387755102,
          6.122448979591837,
          5.510204081632653,
          4.8979591836734695,
          4.285714285714286,
          3.673469387755102,
          3.0612244897959187,
          2.4489795918367347,
          1.836734693877551,
          1.2244897959183674,
          0.6122448979591837,
          0
         ],
         "y": [
          0.6429288896094907,
          0.9397080476013218,
          1.2325798408822428,
          1.058008495860658,
          1.2585507914844232,
          1.8722412360846705,
          1.5704947276353707,
          1.6474241879098288,
          1.9683901108563129,
          2.2579799577713127,
          2.000096734257256,
          1.7617804612716566,
          2.4514786651690867,
          2.389581316051128,
          3.011747150401081,
          2.594499682698221,
          2.9296590861125487,
          2.593081645962311,
          3.42096672984987,
          3.440064951174611,
          3.7411844267765657,
          3.2471028219772298,
          3.3484784770296048,
          4.768053265789993,
          4.170821676432976,
          4.148328817378058,
          4.5106773061299945,
          4.686296751116799,
          4.835944814330664,
          4.686983175996851,
          5.217859120455162,
          5.611413272169808,
          6.09769385999761,
          5.184232832396769,
          5.949047806372626,
          6.3580238955004225,
          7.311819805550486,
          6.839099026611588,
          6.847059244638693,
          7.084649338588053,
          7.608395967834465,
          7.8402070729660895,
          7.643723120557441,
          8.128565282806719,
          8.267388160047297,
          8.335533745775816,
          9.282391102897135,
          7.848964006091401,
          9.79748576964358,
          9.348187387731393,
          0.8447098008426223,
          1.4255171344487665,
          0.9729328947740431,
          0.8685697551095646,
          0.770830297416115,
          0.8780465974658636,
          1.2384904791873805,
          0.7591022048849827,
          0.8964490314845727,
          1.1056611213141723,
          0.9335046766559476,
          0.7979653035140487,
          0.9898967754098007,
          0.6891118350016312,
          0.7416465777518213,
          0.5118962486366005,
          0.9903886277771795,
          0.8589730325761384,
          0.5756011707651071,
          1.1290300126384007,
          0.7949185901643847,
          1.0553505446246627,
          0.6672974515755178,
          0.7916917642556263,
          0.7472557821874245,
          0.6515340581691321,
          0.7581013314240027,
          0.757640571061927,
          0.8163816702766687,
          0.7643774916528431,
          0.7041086208655954,
          0.6522146643973706,
          0.5720087921874182,
          0.33024769163586554,
          0.6235745778706068,
          0.5773750476584659,
          0.32291578977091234,
          0.371437414713645,
          0.33634580239953543,
          0.4542431182367225,
          0.3427598067282962,
          0.21227975147858497,
          0.4738563878183271,
          0.3801983126434176,
          0.5045977351227416,
          0.13346469191481472,
          0.16965205792306898,
          0.11089191802517245,
          0.1617772649448629,
          -0.12485761223712068
         ]
        }
       ],
       "layout": {
        "autosize": true,
        "template": {
         "data": {
          "bar": [
           {
            "error_x": {
             "color": "#2a3f5f"
            },
            "error_y": {
             "color": "#2a3f5f"
            },
            "marker": {
             "line": {
              "color": "white",
              "width": 0.5
             }
            },
            "type": "bar"
           }
          ],
          "barpolar": [
           {
            "marker": {
             "line": {
              "color": "white",
              "width": 0.5
             }
            },
            "type": "barpolar"
           }
          ],
          "carpet": [
           {
            "aaxis": {
             "endlinecolor": "#2a3f5f",
             "gridcolor": "#C8D4E3",
             "linecolor": "#C8D4E3",
             "minorgridcolor": "#C8D4E3",
             "startlinecolor": "#2a3f5f"
            },
            "baxis": {
             "endlinecolor": "#2a3f5f",
             "gridcolor": "#C8D4E3",
             "linecolor": "#C8D4E3",
             "minorgridcolor": "#C8D4E3",
             "startlinecolor": "#2a3f5f"
            },
            "type": "carpet"
           }
          ],
          "choropleth": [
           {
            "colorbar": {
             "outlinewidth": 0,
             "ticks": ""
            },
            "type": "choropleth"
           }
          ],
          "contour": [
           {
            "colorbar": {
             "outlinewidth": 0,
             "ticks": ""
            },
            "colorscale": [
             [
              0,
              "#0d0887"
             ],
             [
              0.1111111111111111,
              "#46039f"
             ],
             [
              0.2222222222222222,
              "#7201a8"
             ],
             [
              0.3333333333333333,
              "#9c179e"
             ],
             [
              0.4444444444444444,
              "#bd3786"
             ],
             [
              0.5555555555555556,
              "#d8576b"
             ],
             [
              0.6666666666666666,
              "#ed7953"
             ],
             [
              0.7777777777777778,
              "#fb9f3a"
             ],
             [
              0.8888888888888888,
              "#fdca26"
             ],
             [
              1,
              "#f0f921"
             ]
            ],
            "type": "contour"
           }
          ],
          "contourcarpet": [
           {
            "colorbar": {
             "outlinewidth": 0,
             "ticks": ""
            },
            "type": "contourcarpet"
           }
          ],
          "heatmap": [
           {
            "colorbar": {
             "outlinewidth": 0,
             "ticks": ""
            },
            "colorscale": [
             [
              0,
              "#0d0887"
             ],
             [
              0.1111111111111111,
              "#46039f"
             ],
             [
              0.2222222222222222,
              "#7201a8"
             ],
             [
              0.3333333333333333,
              "#9c179e"
             ],
             [
              0.4444444444444444,
              "#bd3786"
             ],
             [
              0.5555555555555556,
              "#d8576b"
             ],
             [
              0.6666666666666666,
              "#ed7953"
             ],
             [
              0.7777777777777778,
              "#fb9f3a"
             ],
             [
              0.8888888888888888,
              "#fdca26"
             ],
             [
              1,
              "#f0f921"
             ]
            ],
            "type": "heatmap"
           }
          ],
          "heatmapgl": [
           {
            "colorbar": {
             "outlinewidth": 0,
             "ticks": ""
            },
            "colorscale": [
             [
              0,
              "#0d0887"
             ],
             [
              0.1111111111111111,
              "#46039f"
             ],
             [
              0.2222222222222222,
              "#7201a8"
             ],
             [
              0.3333333333333333,
              "#9c179e"
             ],
             [
              0.4444444444444444,
              "#bd3786"
             ],
             [
              0.5555555555555556,
              "#d8576b"
             ],
             [
              0.6666666666666666,
              "#ed7953"
             ],
             [
              0.7777777777777778,
              "#fb9f3a"
             ],
             [
              0.8888888888888888,
              "#fdca26"
             ],
             [
              1,
              "#f0f921"
             ]
            ],
            "type": "heatmapgl"
           }
          ],
          "histogram": [
           {
            "marker": {
             "colorbar": {
              "outlinewidth": 0,
              "ticks": ""
             }
            },
            "type": "histogram"
           }
          ],
          "histogram2d": [
           {
            "colorbar": {
             "outlinewidth": 0,
             "ticks": ""
            },
            "colorscale": [
             [
              0,
              "#0d0887"
             ],
             [
              0.1111111111111111,
              "#46039f"
             ],
             [
              0.2222222222222222,
              "#7201a8"
             ],
             [
              0.3333333333333333,
              "#9c179e"
             ],
             [
              0.4444444444444444,
              "#bd3786"
             ],
             [
              0.5555555555555556,
              "#d8576b"
             ],
             [
              0.6666666666666666,
              "#ed7953"
             ],
             [
              0.7777777777777778,
              "#fb9f3a"
             ],
             [
              0.8888888888888888,
              "#fdca26"
             ],
             [
              1,
              "#f0f921"
             ]
            ],
            "type": "histogram2d"
           }
          ],
          "histogram2dcontour": [
           {
            "colorbar": {
             "outlinewidth": 0,
             "ticks": ""
            },
            "colorscale": [
             [
              0,
              "#0d0887"
             ],
             [
              0.1111111111111111,
              "#46039f"
             ],
             [
              0.2222222222222222,
              "#7201a8"
             ],
             [
              0.3333333333333333,
              "#9c179e"
             ],
             [
              0.4444444444444444,
              "#bd3786"
             ],
             [
              0.5555555555555556,
              "#d8576b"
             ],
             [
              0.6666666666666666,
              "#ed7953"
             ],
             [
              0.7777777777777778,
              "#fb9f3a"
             ],
             [
              0.8888888888888888,
              "#fdca26"
             ],
             [
              1,
              "#f0f921"
             ]
            ],
            "type": "histogram2dcontour"
           }
          ],
          "mesh3d": [
           {
            "colorbar": {
             "outlinewidth": 0,
             "ticks": ""
            },
            "type": "mesh3d"
           }
          ],
          "parcoords": [
           {
            "line": {
             "colorbar": {
              "outlinewidth": 0,
              "ticks": ""
             }
            },
            "type": "parcoords"
           }
          ],
          "pie": [
           {
            "automargin": true,
            "type": "pie"
           }
          ],
          "scatter": [
           {
            "marker": {
             "colorbar": {
              "outlinewidth": 0,
              "ticks": ""
             }
            },
            "type": "scatter"
           }
          ],
          "scatter3d": [
           {
            "line": {
             "colorbar": {
              "outlinewidth": 0,
              "ticks": ""
             }
            },
            "marker": {
             "colorbar": {
              "outlinewidth": 0,
              "ticks": ""
             }
            },
            "type": "scatter3d"
           }
          ],
          "scattercarpet": [
           {
            "marker": {
             "colorbar": {
              "outlinewidth": 0,
              "ticks": ""
             }
            },
            "type": "scattercarpet"
           }
          ],
          "scattergeo": [
           {
            "marker": {
             "colorbar": {
              "outlinewidth": 0,
              "ticks": ""
             }
            },
            "type": "scattergeo"
           }
          ],
          "scattergl": [
           {
            "marker": {
             "colorbar": {
              "outlinewidth": 0,
              "ticks": ""
             }
            },
            "type": "scattergl"
           }
          ],
          "scattermapbox": [
           {
            "marker": {
             "colorbar": {
              "outlinewidth": 0,
              "ticks": ""
             }
            },
            "type": "scattermapbox"
           }
          ],
          "scatterpolar": [
           {
            "marker": {
             "colorbar": {
              "outlinewidth": 0,
              "ticks": ""
             }
            },
            "type": "scatterpolar"
           }
          ],
          "scatterpolargl": [
           {
            "marker": {
             "colorbar": {
              "outlinewidth": 0,
              "ticks": ""
             }
            },
            "type": "scatterpolargl"
           }
          ],
          "scatterternary": [
           {
            "marker": {
             "colorbar": {
              "outlinewidth": 0,
              "ticks": ""
             }
            },
            "type": "scatterternary"
           }
          ],
          "surface": [
           {
            "colorbar": {
             "outlinewidth": 0,
             "ticks": ""
            },
            "colorscale": [
             [
              0,
              "#0d0887"
             ],
             [
              0.1111111111111111,
              "#46039f"
             ],
             [
              0.2222222222222222,
              "#7201a8"
             ],
             [
              0.3333333333333333,
              "#9c179e"
             ],
             [
              0.4444444444444444,
              "#bd3786"
             ],
             [
              0.5555555555555556,
              "#d8576b"
             ],
             [
              0.6666666666666666,
              "#ed7953"
             ],
             [
              0.7777777777777778,
              "#fb9f3a"
             ],
             [
              0.8888888888888888,
              "#fdca26"
             ],
             [
              1,
              "#f0f921"
             ]
            ],
            "type": "surface"
           }
          ],
          "table": [
           {
            "cells": {
             "fill": {
              "color": "#EBF0F8"
             },
             "line": {
              "color": "white"
             }
            },
            "header": {
             "fill": {
              "color": "#C8D4E3"
             },
             "line": {
              "color": "white"
             }
            },
            "type": "table"
           }
          ]
         },
         "layout": {
          "annotationdefaults": {
           "arrowcolor": "#2a3f5f",
           "arrowhead": 0,
           "arrowwidth": 1
          },
          "coloraxis": {
           "colorbar": {
            "outlinewidth": 0,
            "ticks": ""
           }
          },
          "colorscale": {
           "diverging": [
            [
             0,
             "#8e0152"
            ],
            [
             0.1,
             "#c51b7d"
            ],
            [
             0.2,
             "#de77ae"
            ],
            [
             0.3,
             "#f1b6da"
            ],
            [
             0.4,
             "#fde0ef"
            ],
            [
             0.5,
             "#f7f7f7"
            ],
            [
             0.6,
             "#e6f5d0"
            ],
            [
             0.7,
             "#b8e186"
            ],
            [
             0.8,
             "#7fbc41"
            ],
            [
             0.9,
             "#4d9221"
            ],
            [
             1,
             "#276419"
            ]
           ],
           "sequential": [
            [
             0,
             "#0d0887"
            ],
            [
             0.1111111111111111,
             "#46039f"
            ],
            [
             0.2222222222222222,
             "#7201a8"
            ],
            [
             0.3333333333333333,
             "#9c179e"
            ],
            [
             0.4444444444444444,
             "#bd3786"
            ],
            [
             0.5555555555555556,
             "#d8576b"
            ],
            [
             0.6666666666666666,
             "#ed7953"
            ],
            [
             0.7777777777777778,
             "#fb9f3a"
            ],
            [
             0.8888888888888888,
             "#fdca26"
            ],
            [
             1,
             "#f0f921"
            ]
           ],
           "sequentialminus": [
            [
             0,
             "#0d0887"
            ],
            [
             0.1111111111111111,
             "#46039f"
            ],
            [
             0.2222222222222222,
             "#7201a8"
            ],
            [
             0.3333333333333333,
             "#9c179e"
            ],
            [
             0.4444444444444444,
             "#bd3786"
            ],
            [
             0.5555555555555556,
             "#d8576b"
            ],
            [
             0.6666666666666666,
             "#ed7953"
            ],
            [
             0.7777777777777778,
             "#fb9f3a"
            ],
            [
             0.8888888888888888,
             "#fdca26"
            ],
            [
             1,
             "#f0f921"
            ]
           ]
          },
          "colorway": [
           "#636efa",
           "#EF553B",
           "#00cc96",
           "#ab63fa",
           "#FFA15A",
           "#19d3f3",
           "#FF6692",
           "#B6E880",
           "#FF97FF",
           "#FECB52"
          ],
          "font": {
           "color": "#2a3f5f"
          },
          "geo": {
           "bgcolor": "white",
           "lakecolor": "white",
           "landcolor": "white",
           "showlakes": true,
           "showland": true,
           "subunitcolor": "#C8D4E3"
          },
          "hoverlabel": {
           "align": "left"
          },
          "hovermode": "closest",
          "mapbox": {
           "style": "light"
          },
          "paper_bgcolor": "white",
          "plot_bgcolor": "white",
          "polar": {
           "angularaxis": {
            "gridcolor": "#EBF0F8",
            "linecolor": "#EBF0F8",
            "ticks": ""
           },
           "bgcolor": "white",
           "radialaxis": {
            "gridcolor": "#EBF0F8",
            "linecolor": "#EBF0F8",
            "ticks": ""
           }
          },
          "scene": {
           "xaxis": {
            "backgroundcolor": "white",
            "gridcolor": "#DFE8F3",
            "gridwidth": 2,
            "linecolor": "#EBF0F8",
            "showbackground": true,
            "ticks": "",
            "zerolinecolor": "#EBF0F8"
           },
           "yaxis": {
            "backgroundcolor": "white",
            "gridcolor": "#DFE8F3",
            "gridwidth": 2,
            "linecolor": "#EBF0F8",
            "showbackground": true,
            "ticks": "",
            "zerolinecolor": "#EBF0F8"
           },
           "zaxis": {
            "backgroundcolor": "white",
            "gridcolor": "#DFE8F3",
            "gridwidth": 2,
            "linecolor": "#EBF0F8",
            "showbackground": true,
            "ticks": "",
            "zerolinecolor": "#EBF0F8"
           }
          },
          "shapedefaults": {
           "line": {
            "color": "#2a3f5f"
           }
          },
          "ternary": {
           "aaxis": {
            "gridcolor": "#DFE8F3",
            "linecolor": "#A2B1C6",
            "ticks": ""
           },
           "baxis": {
            "gridcolor": "#DFE8F3",
            "linecolor": "#A2B1C6",
            "ticks": ""
           },
           "bgcolor": "white",
           "caxis": {
            "gridcolor": "#DFE8F3",
            "linecolor": "#A2B1C6",
            "ticks": ""
           }
          },
          "title": {
           "x": 0.05
          },
          "xaxis": {
           "automargin": true,
           "gridcolor": "#EBF0F8",
           "linecolor": "#EBF0F8",
           "ticks": "",
           "title": {
            "standoff": 15
           },
           "zerolinecolor": "#EBF0F8",
           "zerolinewidth": 2
          },
          "yaxis": {
           "automargin": true,
           "gridcolor": "#EBF0F8",
           "linecolor": "#EBF0F8",
           "ticks": "",
           "title": {
            "standoff": 15
           },
           "zerolinecolor": "#EBF0F8",
           "zerolinewidth": 2
          }
         }
        },
        "updatemenus": [
         {
          "buttons": [
           {
            "args": [
             {
              "yaxis.type": "linear"
             }
            ],
            "label": "Linear y-scale",
            "method": "relayout"
           },
           {
            "args": [
             {
              "yaxis.type": "log"
             }
            ],
            "label": "Log y-scale",
            "method": "relayout"
           }
          ],
          "direction": "left",
          "pad": {
           "r": 0,
           "t": -10
          },
          "showactive": true,
          "type": "buttons",
          "x": 0,
          "xanchor": "left",
          "y": 1.15,
          "yanchor": "top"
         }
        ],
        "xaxis": {
         "title": {
          "text": "$\\text{Time in day}$"
         }
        },
        "yaxis": {
         "title": {
          "text": "$\\text{Tumour volume in cm}^3$"
         }
        }
       }
      }
     },
     "metadata": {}
    }
   ],
   "source": [
    "# Define prior distribution\n",
    "log_priors = [\n",
    "    pints.TruncatedGaussianLogPrior(mean=0.1, sd=1, a=0, b=np.inf),      # Mean Initial tumour volume\n",
    "    pints.TruncatedGaussianLogPrior(mean=1, sd=1, a=0, b=np.inf),        # Std. Initial tumour volume\n",
    "    pints.TruncatedGaussianLogPrior(mean=1, sd=1, a=0, b=np.inf),        # Mean Critical tumour volume\n",
    "    pints.TruncatedGaussianLogPrior(mean=1, sd=1, a=0, b=np.inf),        # Std. Critical tumour volume\n",
    "    pints.TruncatedGaussianLogPrior(mean=0.1, sd=1, a=0, b=np.inf),      # Mean Growth rate\n",
    "    pints.TruncatedGaussianLogPrior(mean=1, sd=1, a=0, b=np.inf),        # Std. Growth rate\n",
    "    pints.TruncatedGaussianLogPrior(mean=0.1, sd=1, a=0, b=np.inf),      # Pooled Sigma base\n",
    "    pints.TruncatedGaussianLogPrior(mean=0.1, sd=0.1, a=0, b=np.inf)]    # Pooled Sigma rel.\n",
    "log_prior = pints.ComposedLogPrior(*log_priors)\n",
    "\n",
    "# Define prior predictive model\n",
    "predictive_model = problem.get_predictive_model()\n",
    "model = erlo.PriorPredictiveModel(predictive_model, log_prior)\n",
    "\n",
    "# Sample from prior predictive model\n",
    "seed = 42\n",
    "n_samples = 100\n",
    "times = np.linspace(0, 30)\n",
    "samples = model.sample(times, n_samples, seed)\n",
    "\n",
    "# Visualise prior predictive model\n",
    "fig = erlo.plots.PDPredictivePlot()\n",
    "fig.add_prediction(data=samples, bulk_probs=[0.3, 0.6, 0.9])\n",
    "fig.set_axis_labels(xlabel=r'$\\text{Time in day}$', ylabel=r'$\\text{Tumour volume in cm}^3$')\n",
    "fig.show()"
   ]
  },
  {
   "cell_type": "markdown",
   "metadata": {},
   "source": [
    "**Figure 3:** Approximate prior predictive model for the tumour growth in a population over time. The shaded areas indicate the 30%, 60% and 90% bulk of the prior predictive model (from dark to light). The prior predictive model was approximated by sampling 1000 parameters from the prior distribution, and subsequent sampling of 50 equidistant time points from the predictive model for each parameter set."
   ]
  },
  {
   "cell_type": "markdown",
   "metadata": {},
   "source": [
    "## Find maximum a posteriori estimates"
   ]
  },
  {
   "cell_type": "code",
   "execution_count": 14,
   "metadata": {
    "tags": []
   },
   "outputs": [
    {
     "output_type": "stream",
     "name": "stdout",
     "text": [
      "(887.5806872798586, array([ 1.10779537e+01,  1.75824844e+01,  8.02920549e+00,  2.81290227e+00,\n        1.15025146e+01,  1.79616668e+01,  3.42980396e+00,  1.19900097e+01,\n        7.46772257e-01, -4.12736381e-01,  1.21100021e+01,  1.20170349e+01,\n        2.08297885e+01,  1.80512361e+01,  2.13357956e+01,  1.97133238e+01,\n        2.15448767e+01,  2.79472840e+01,  3.51394593e+00, -1.41680989e+01,\n        9.45216450e+01,  1.86476172e+02,  4.28948687e+01,  7.05305411e+00,\n        1.24961655e+02,  1.22000710e+02,  1.14210884e+01,  9.52245172e+01,\n        3.90117604e+00, -4.26422454e-01, -1.91524464e+02, -5.16237998e+03]))\n"
     ]
    },
    {
     "output_type": "execute_result",
     "data": {
      "text/plain": [
       "      fun: 163.89696944574575\n",
       " hess_inv: <32x32 LbfgsInvHessProduct with dtype=float64>\n",
       "      jac: array([-5.25444300e+01, -5.80549950e+01, -5.85590456e+00,  3.24996353e+00,\n",
       "       -2.62607122e+00,  1.30637098e+01,  5.21588886e+00,  1.05863355e+01,\n",
       "        4.32115758e+00, -1.25332831e+00,  2.08808022e+00,  2.24018404e+00,\n",
       "       -1.93948127e+00,  3.31989939e+01,  2.03819134e+00,  2.34373700e+00,\n",
       "        3.16616258e+01,  1.26029078e+00,  3.73479070e+00, -6.62961275e+00,\n",
       "        6.03173639e+02, -1.26040987e+01, -6.36286173e+01,  5.08148421e+00,\n",
       "        1.01991950e+03,  2.63453428e+01,  1.01768921e+01,  1.33274962e+03,\n",
       "        2.94539377e+01,  6.27392797e-01, -5.41082443e+01, -8.75550765e+01])\n",
       "  message: 'CONVERGENCE: REL_REDUCTION_OF_F_<=_FACTR*EPSMCH'\n",
       "     nfev: 75\n",
       "      nit: 15\n",
       "     njev: 75\n",
       "   status: 0\n",
       "  success: True\n",
       "        x: array([-0.48919098, -1.80529658, -0.55062115,  0.63018652, -0.28573835,\n",
       "       -0.62918872,  0.34731744, -1.35056125,  0.13015478,  0.43236743,\n",
       "       -0.03261012,  0.12870082, -0.46872842, -1.08140545, -0.11524542,\n",
       "       -0.05997269, -1.1184763 , -0.47631745, -0.23104456, -0.67824986,\n",
       "       -7.91765597, -9.89904726, -3.20866875,  1.07563721, -8.30958428,\n",
       "       -2.54271768,  0.34073471, -9.13732384, -1.61818199,  1.16311674,\n",
       "       -2.23821784, -0.62218567])"
      ]
     },
     "metadata": {},
     "execution_count": 14
    }
   ],
   "source": [
    "# # Define log-posterior\n",
    "# problem.set_data(data)\n",
    "# problem.set_log_prior(log_priors)\n",
    "# log_posterior = problem.get_log_posterior()\n",
    "\n",
    "def fun(log_parameters):\n",
    "    score, sens = log_posterior.evaluateS1(np.exp(log_parameters))\n",
    "    return (-score, -sens)\n",
    "\n",
    "# Run optimisation\n",
    "initial_parameters = np.log(erlo.InferenceController(log_posterior)._initial_params[0, 0])\n",
    "print(fun(initial_parameters))\n",
    "result = minimize(fun=fun, x0=initial_parameters, method='L-BFGS-B', jac=True)\n",
    "result"
   ]
  },
  {
   "cell_type": "code",
   "execution_count": 72,
   "metadata": {},
   "outputs": [
    {
     "output_type": "execute_result",
     "data": {
      "text/plain": [
       "array([2.36046564, 0.14658533, 1.42182502, 0.94663521, 1.23525966,\n",
       "       0.77720641, 1.5563648 , 0.04347341, 1.14594007, 2.19940199,\n",
       "       0.1919755 , 0.73862421, 0.81298792, 0.3476019 , 1.09445962,\n",
       "       0.40894549, 6.52755776, 0.09462294, 1.1653343 , 1.52386334,\n",
       "       2.05931476, 0.14609553, 0.60407322, 1.96516177, 0.5932555 ,\n",
       "       5.46441817, 0.52333384, 1.47920264, 1.97812413, 2.59163708,\n",
       "       0.1003342 , 1.24500182])"
      ]
     },
     "metadata": {},
     "execution_count": 72
    }
   ],
   "source": [
    "np.exp(result.x) # 408.5831950704941"
   ]
  },
  {
   "cell_type": "code",
   "execution_count": 74,
   "metadata": {},
   "outputs": [
    {
     "output_type": "execute_result",
     "data": {
      "text/plain": [
       "array([0.09446702, 0.18655014, 1.26181401, 0.2417204 , 1.74485398,\n",
       "       0.25178457, 0.89041414, 1.77852053, 0.99345989, 1.94978347,\n",
       "       0.23178191, 0.16075266, 0.73520212, 0.589075  , 0.4448781 ,\n",
       "       1.05686917, 1.11843366, 0.20917684, 0.77909957, 0.93673714,\n",
       "       0.87651453, 0.29139583, 0.35724763, 0.87188396, 2.07263218,\n",
       "       3.77028637, 0.79882506, 1.40863071, 1.57216136, 1.74930404,\n",
       "       1.24712023, 1.21970178])"
      ]
     },
     "metadata": {},
     "execution_count": 74
    }
   ],
   "source": [
    "np.exp(result.x) # 406.1479936996002"
   ]
  },
  {
   "cell_type": "code",
   "execution_count": 76,
   "metadata": {},
   "outputs": [
    {
     "output_type": "execute_result",
     "data": {
      "text/plain": [
       "array([0.28662575, 0.55805704, 0.44599993, 3.88162178, 1.45028662,\n",
       "       0.96866915, 0.45767183, 0.34859964, 1.30822732, 1.6135591 ,\n",
       "       3.47809987, 2.51005898, 2.29505125, 3.64998648, 1.81412804,\n",
       "       1.27459161, 2.47101995, 1.759051  , 2.07950533, 1.11994698,\n",
       "       0.06311923, 0.40863893, 0.04879505, 0.04811052, 0.01846206,\n",
       "       0.0397989 , 0.00982949, 0.0149758 , 0.1655798 , 0.39161306,\n",
       "       0.60035052, 0.26296883])"
      ]
     },
     "metadata": {},
     "execution_count": 76
    }
   ],
   "source": [
    "np.exp(result.x)  # 219.54113709105013"
   ]
  },
  {
   "cell_type": "code",
   "execution_count": 11,
   "metadata": {},
   "outputs": [
    {
     "output_type": "execute_result",
     "data": {
      "text/plain": [
       "array([4.52380309e-02, 5.62316819e-02, 2.78592268e-02, 1.16755830e-01,\n",
       "       2.87420884e-02, 3.92802527e-02, 3.76033488e-01, 1.93734719e-02,\n",
       "       2.81535038e-01, 1.53735261e+00, 2.25032257e-01, 2.24560726e-01,\n",
       "       1.27968825e-01, 2.84840127e-03, 5.23956953e-02, 4.01977985e-01,\n",
       "       6.34591303e-01, 7.37799571e-03, 5.66239153e-01, 2.50295820e+00,\n",
       "       8.72779075e-01, 2.82457289e-01, 9.24643985e-01, 5.51886601e+00,\n",
       "       7.60759740e-01, 3.55138960e-01, 2.73160152e-01, 1.34323039e+00,\n",
       "       1.05834342e+00, 1.18811488e+00, 4.86214413e-02, 5.52587918e-01])"
      ]
     },
     "metadata": {},
     "execution_count": 11
    }
   ],
   "source": [
    "np.exp(result.x)  # 36.90877472832281"
   ]
  },
  {
   "source": [
    "Running 3 times produces three vastly different results!"
   ],
   "cell_type": "markdown",
   "metadata": {}
  },
  {
   "cell_type": "code",
   "execution_count": 29,
   "metadata": {},
   "outputs": [
    {
     "output_type": "stream",
     "name": "stderr",
     "text": [
      "/Users/david/Documents/SABS/DPhil/erlotinib/erlotinib/_log_pdfs.py:1227: RuntimeWarning:\n",
      "\n",
      "An error occured while solving the mechanistic model: \n",
      "A numerical error occurred during simulation at t = 0.\n",
      "Last reached state: \n",
      "  myokit.tumour_volume =  7.85715458083556190e+43\n",
      "Inputs for binding:\n",
      "  time        = 0.0\n",
      "  pace        = 0.0\n",
      "  realtime    = 0.0\n",
      "  evaluations = 227.0\n",
      "Function CVode() failed with flag -4 CV_CONV_FAILURE: Convergence test failures occurred too many times during one internal time step or minimum step size was reached..\n",
      " A score of -infinity is returned.\n",
      "\n",
      "/Users/david/Documents/SABS/DPhil/erlotinib/erlotinib/_log_pdfs.py:1227: RuntimeWarning:\n",
      "\n",
      "An error occured while solving the mechanistic model: \n",
      "A numerical error occurred during simulation at t = 0.\n",
      "Last reached state: \n",
      "  myokit.tumour_volume =  1.90727848515339273e+32\n",
      "Inputs for binding:\n",
      "  time        = 0.0\n",
      "  pace        = 0.0\n",
      "  realtime    = 0.0\n",
      "  evaluations = 227.0\n",
      "Function CVode() failed with flag -4 CV_CONV_FAILURE: Convergence test failures occurred too many times during one internal time step or minimum step size was reached..\n",
      " A score of -infinity is returned.\n",
      "\n",
      "ipykernel_launcher:7: RuntimeWarning:\n",
      "\n",
      "overflow encountered in exp\n",
      "\n",
      "/Users/david/Documents/SABS/DPhil/erlotinib/erlotinib/_log_pdfs.py:1227: RuntimeWarning:\n",
      "\n",
      "An error occured while solving the mechanistic model: \n",
      "A numerical error occurred during simulation at t = 0.\n",
      "Last reached state: \n",
      "  myokit.tumour_volume =  1.03542963606258592e+17\n",
      "Inputs for binding:\n",
      "  time        = 0.0\n",
      "  pace        = 0.0\n",
      "  realtime    = 0.0\n",
      "  evaluations = 227.0\n",
      "Function CVode() failed with flag -4 CV_CONV_FAILURE: Convergence test failures occurred too many times during one internal time step or minimum step size was reached..\n",
      " A score of -infinity is returned.\n",
      "\n",
      "/Users/david/Documents/SABS/DPhil/erlotinib/erlotinib/_log_pdfs.py:1227: RuntimeWarning:\n",
      "\n",
      "An error occured while solving the mechanistic model: \n",
      "A numerical error occurred during simulation at t = 0.\n",
      "Last reached state: \n",
      "  myokit.tumour_volume =  7.40417505384915412e-03\n",
      "Inputs for binding:\n",
      "  time        = 0.0\n",
      "  pace        = 0.0\n",
      "  realtime    = 0.0\n",
      "  evaluations = 227.0\n",
      "Function CVode() failed with flag -4 CV_CONV_FAILURE: Convergence test failures occurred too many times during one internal time step or minimum step size was reached..\n",
      " A score of -infinity is returned.\n",
      "\n",
      "/Users/david/Documents/SABS/DPhil/erlotinib/erlotinib/_log_pdfs.py:1227: RuntimeWarning:\n",
      "\n",
      "An error occured while solving the mechanistic model: \n",
      "A numerical error occurred during simulation at t = 0.\n",
      "Last reached state: \n",
      "  myokit.tumour_volume =  3.89540788847387750e+15\n",
      "Inputs for binding:\n",
      "  time        = 0.0\n",
      "  pace        = 0.0\n",
      "  realtime    = 0.0\n",
      "  evaluations = 227.0\n",
      "Function CVode() failed with flag -4 CV_CONV_FAILURE: Convergence test failures occurred too many times during one internal time step or minimum step size was reached..\n",
      " A score of -infinity is returned.\n",
      "\n",
      "/Users/david/Documents/SABS/DPhil/erlotinib/erlotinib/_log_pdfs.py:1227: RuntimeWarning:\n",
      "\n",
      "An error occured while solving the mechanistic model: \n",
      "A numerical error occurred during simulation at t = 0.\n",
      "Last reached state: \n",
      "  myokit.tumour_volume =  2.29430832517595450e+28\n",
      "Inputs for binding:\n",
      "  time        = 0.0\n",
      "  pace        = 0.0\n",
      "  realtime    = 0.0\n",
      "  evaluations = 206.0\n",
      "Function CVode() failed with flag -4 CV_CONV_FAILURE: Convergence test failures occurred too many times during one internal time step or minimum step size was reached..\n",
      " A score of -infinity is returned.\n",
      "\n",
      "/Users/david/Documents/SABS/DPhil/erlotinib/erlotinib/_log_pdfs.py:1227: RuntimeWarning:\n",
      "\n",
      "An error occured while solving the mechanistic model: \n",
      "A numerical error occurred during simulation at t = 0.\n",
      "Last reached state: \n",
      "  myokit.tumour_volume =  5.36387565423921562e+14\n",
      "Inputs for binding:\n",
      "  time        = 0.0\n",
      "  pace        = 0.0\n",
      "  realtime    = 0.0\n",
      "  evaluations = 227.0\n",
      "Function CVode() failed with flag -4 CV_CONV_FAILURE: Convergence test failures occurred too many times during one internal time step or minimum step size was reached..\n",
      " A score of -infinity is returned.\n",
      "\n",
      "/Users/david/Documents/SABS/DPhil/erlotinib/erlotinib/_log_pdfs.py:1227: RuntimeWarning:\n",
      "\n",
      "An error occured while solving the mechanistic model: \n",
      "A numerical error occurred during simulation at t = 0.\n",
      "Last reached state: \n",
      "  myokit.tumour_volume =  1.69714689267568268e+36\n",
      "Inputs for binding:\n",
      "  time        = 0.0\n",
      "  pace        = 0.0\n",
      "  realtime    = 0.0\n",
      "  evaluations = 199.0\n",
      "Function CVode() failed with flag -4 CV_CONV_FAILURE: Convergence test failures occurred too many times during one internal time step or minimum step size was reached..\n",
      " A score of -infinity is returned.\n",
      "\n",
      "/Users/david/Documents/SABS/DPhil/erlotinib/erlotinib/_log_pdfs.py:1227: RuntimeWarning:\n",
      "\n",
      "An error occured while solving the mechanistic model: \n",
      "A numerical error occurred during simulation at t = 0.\n",
      "Last reached state: \n",
      "  myokit.tumour_volume =  1.60100201078949097e+11\n",
      "Inputs for binding:\n",
      "  time        = 0.0\n",
      "  pace        = 0.0\n",
      "  realtime    = 0.0\n",
      "  evaluations = 213.0\n",
      "Function CVode() failed with flag -4 CV_CONV_FAILURE: Convergence test failures occurred too many times during one internal time step or minimum step size was reached..\n",
      " A score of -infinity is returned.\n",
      "\n",
      "/Users/david/Documents/SABS/DPhil/erlotinib/erlotinib/_log_pdfs.py:1227: RuntimeWarning:\n",
      "\n",
      "An error occured while solving the mechanistic model: \n",
      "A numerical error occurred during simulation at t = 0.\n",
      "Last reached state: \n",
      "  myokit.tumour_volume =  3.82324849420345550e+15\n",
      "Inputs for binding:\n",
      "  time        = 0.0\n",
      "  pace        = 0.0\n",
      "  realtime    = 0.0\n",
      "  evaluations = 213.0\n",
      "Function CVode() failed with flag -4 CV_CONV_FAILURE: Convergence test failures occurred too many times during one internal time step or minimum step size was reached..\n",
      " A score of -infinity is returned.\n",
      "\n",
      "/Users/david/Documents/SABS/DPhil/erlotinib/erlotinib/_log_pdfs.py:1227: RuntimeWarning:\n",
      "\n",
      "An error occured while solving the mechanistic model: \n",
      "A numerical error occurred during simulation at t = 0.\n",
      "Last reached state: \n",
      "  myokit.tumour_volume =  8.01167301586274491e+26\n",
      "Inputs for binding:\n",
      "  time        = 0.0\n",
      "  pace        = 0.0\n",
      "  realtime    = 0.0\n",
      "  evaluations = 227.0\n",
      "Function CVode() failed with flag -4 CV_CONV_FAILURE: Convergence test failures occurred too many times during one internal time step or minimum step size was reached..\n",
      " A score of -infinity is returned.\n",
      "\n",
      "/Users/david/Documents/SABS/DPhil/erlotinib/erlotinib/_log_pdfs.py:1227: RuntimeWarning:\n",
      "\n",
      "An error occured while solving the mechanistic model: \n",
      "A numerical error occurred during simulation at t = 0.\n",
      "Last reached state: \n",
      "  myokit.tumour_volume =  2.24752310285621382e+38\n",
      "Inputs for binding:\n",
      "  time        = 0.0\n",
      "  pace        = 0.0\n",
      "  realtime    = 0.0\n",
      "  evaluations = 220.0\n",
      "Function CVode() failed with flag -4 CV_CONV_FAILURE: Convergence test failures occurred too many times during one internal time step or minimum step size was reached..\n",
      " A score of -infinity is returned.\n",
      "\n",
      "/Users/david/Documents/SABS/DPhil/erlotinib/erlotinib/_log_pdfs.py:1227: RuntimeWarning:\n",
      "\n",
      "An error occured while solving the mechanistic model: \n",
      "A numerical error occurred during simulation at t = 0.\n",
      "Last reached state: \n",
      "  myokit.tumour_volume =  5.52538029786632939e-02\n",
      "Inputs for binding:\n",
      "  time        = 0.0\n",
      "  pace        = 0.0\n",
      "  realtime    = 0.0\n",
      "  evaluations = 227.0\n",
      "Function CVode() failed with flag -4 CV_CONV_FAILURE: Convergence test failures occurred too many times during one internal time step or minimum step size was reached..\n",
      " A score of -infinity is returned.\n",
      "\n",
      "/Users/david/Documents/SABS/DPhil/erlotinib/venv/lib/python3.7/site-packages/myokit/_sim/cvodessim.py:654: RuntimeWarning:\n",
      "\n",
      "CVODES: Internal t = 0 and h = 0 are such that t + h = t on the next step. The solver will continue anyway.\n",
      "\n",
      "/Users/david/Documents/SABS/DPhil/erlotinib/erlotinib/_log_pdfs.py:1227: RuntimeWarning:\n",
      "\n",
      "An error occured while solving the mechanistic model: \n",
      "A numerical error occurred during simulation at t = 0.\n",
      "Last reached state: \n",
      "  myokit.tumour_volume =  1.37725111643034025e+199\n",
      "Inputs for binding:\n",
      "  time        = 0.0\n",
      "  pace        = 0.0\n",
      "  realtime    = 0.0\n",
      "  evaluations = 29.0\n",
      "Function CVode() failed with flag -4 CV_CONV_FAILURE: Convergence test failures occurred too many times during one internal time step or minimum step size was reached..\n",
      " A score of -infinity is returned.\n",
      "\n",
      "/Users/david/Documents/SABS/DPhil/erlotinib/erlotinib/_log_pdfs.py:1227: RuntimeWarning:\n",
      "\n",
      "An error occured while solving the mechanistic model: \n",
      "A numerical error occurred during simulation at t = 0.\n",
      "Last reached state: \n",
      "  myokit.tumour_volume =  1.98600223255381268e+42\n",
      "Inputs for binding:\n",
      "  time        = 0.0\n",
      "  pace        = 0.0\n",
      "  realtime    = 0.0\n",
      "  evaluations = 220.0\n",
      "Function CVode() failed with flag -4 CV_CONV_FAILURE: Convergence test failures occurred too many times during one internal time step or minimum step size was reached..\n",
      " A score of -infinity is returned.\n",
      "\n",
      "/Users/david/Documents/SABS/DPhil/erlotinib/erlotinib/_log_pdfs.py:1227: RuntimeWarning:\n",
      "\n",
      "An error occured while solving the mechanistic model: \n",
      "A numerical error occurred during simulation at t = 0.\n",
      "Last reached state: \n",
      "  myokit.tumour_volume =  9.39543155438025781e+12\n",
      "Inputs for binding:\n",
      "  time        = 0.0\n",
      "  pace        = 0.0\n",
      "  realtime    = 0.0\n",
      "  evaluations = 199.0\n",
      "Function CVode() failed with flag -4 CV_CONV_FAILURE: Convergence test failures occurred too many times during one internal time step or minimum step size was reached..\n",
      " A score of -infinity is returned.\n",
      "\n",
      "/Users/david/Documents/SABS/DPhil/erlotinib/erlotinib/_log_pdfs.py:1227: RuntimeWarning:\n",
      "\n",
      "An error occured while solving the mechanistic model: \n",
      "A numerical error occurred during simulation at t = 0.\n",
      "Last reached state: \n",
      "  myokit.tumour_volume =  1.37072810279289390e+46\n",
      "Inputs for binding:\n",
      "  time        = 0.0\n",
      "  pace        = 0.0\n",
      "  realtime    = 0.0\n",
      "  evaluations = 157.0\n",
      "Function CVode() failed with flag -4 CV_CONV_FAILURE: Convergence test failures occurred too many times during one internal time step or minimum step size was reached..\n",
      " A score of -infinity is returned.\n",
      "\n",
      "/Users/david/Documents/SABS/DPhil/erlotinib/erlotinib/_log_pdfs.py:1227: RuntimeWarning:\n",
      "\n",
      "An error occured while solving the mechanistic model: \n",
      "A numerical error occurred during simulation at t = 0.\n",
      "Last reached state: \n",
      "  myokit.tumour_volume =  2.69395144714060510e+21\n",
      "Inputs for binding:\n",
      "  time        = 0.0\n",
      "  pace        = 0.0\n",
      "  realtime    = 0.0\n",
      "  evaluations = 220.0\n",
      "Function CVode() failed with flag -4 CV_CONV_FAILURE: Convergence test failures occurred too many times during one internal time step or minimum step size was reached..\n",
      " A score of -infinity is returned.\n",
      "\n",
      "/Users/david/Documents/SABS/DPhil/erlotinib/erlotinib/_log_pdfs.py:1227: RuntimeWarning:\n",
      "\n",
      "An error occured while solving the mechanistic model: \n",
      "A numerical error occurred during simulation at t = 0.\n",
      "Last reached state: \n",
      "  myokit.tumour_volume =  1.08960402065865912e+15\n",
      "Inputs for binding:\n",
      "  time        = 0.0\n",
      "  pace        = 0.0\n",
      "  realtime    = 0.0\n",
      "  evaluations = 227.0\n",
      "Function CVode() failed with flag -4 CV_CONV_FAILURE: Convergence test failures occurred too many times during one internal time step or minimum step size was reached..\n",
      " A score of -infinity is returned.\n",
      "\n",
      "/Users/david/Documents/SABS/DPhil/erlotinib/erlotinib/_log_pdfs.py:1227: RuntimeWarning:\n",
      "\n",
      "An error occured while solving the mechanistic model: \n",
      "A numerical error occurred during simulation at t = 0.\n",
      "Last reached state: \n",
      "  myokit.tumour_volume =  6.49617309848335248e+30\n",
      "Inputs for binding:\n",
      "  time        = 0.0\n",
      "  pace        = 0.0\n",
      "  realtime    = 0.0\n",
      "  evaluations = 206.0\n",
      "Function CVode() failed with flag -4 CV_CONV_FAILURE: Convergence test failures occurred too many times during one internal time step or minimum step size was reached..\n",
      " A score of -infinity is returned.\n",
      "\n",
      "/Users/david/Documents/SABS/DPhil/erlotinib/erlotinib/_log_pdfs.py:1227: RuntimeWarning:\n",
      "\n",
      "An error occured while solving the mechanistic model: \n",
      "A numerical error occurred during simulation at t = 0.\n",
      "Last reached state: \n",
      "  myokit.tumour_volume =  1.14829721907843533e+06\n",
      "Inputs for binding:\n",
      "  time        = 0.0\n",
      "  pace        = 0.0\n",
      "  realtime    = 0.0\n",
      "  evaluations = 227.0\n",
      "Function CVode() failed with flag -4 CV_CONV_FAILURE: Convergence test failures occurred too many times during one internal time step or minimum step size was reached..\n",
      " A score of -infinity is returned.\n",
      "\n",
      "/Users/david/Documents/SABS/DPhil/erlotinib/erlotinib/_log_pdfs.py:1227: RuntimeWarning:\n",
      "\n",
      "An error occured while solving the mechanistic model: \n",
      "A numerical error occurred during simulation at t = 0.\n",
      "Last reached state: \n",
      "  myokit.tumour_volume =  3.69656924856811943e+105\n",
      "Inputs for binding:\n",
      "  time        = 0.0\n",
      "  pace        = 0.0\n",
      "  realtime    = 0.0\n",
      "  evaluations = 213.0\n",
      "Function CVode() failed with flag -4 CV_CONV_FAILURE: Convergence test failures occurred too many times during one internal time step or minimum step size was reached..\n",
      " A score of -infinity is returned.\n",
      "\n",
      "/Users/david/Documents/SABS/DPhil/erlotinib/erlotinib/_log_pdfs.py:1227: RuntimeWarning:\n",
      "\n",
      "An error occured while solving the mechanistic model: \n",
      "A numerical error occurred during simulation at t = 0.\n",
      "Last reached state: \n",
      "  myokit.tumour_volume =  5.41015342358579046e+53\n",
      "Inputs for binding:\n",
      "  time        = 0.0\n",
      "  pace        = 0.0\n",
      "  realtime    = 0.0\n",
      "  evaluations = 213.0\n",
      "Function CVode() failed with flag -4 CV_CONV_FAILURE: Convergence test failures occurred too many times during one internal time step or minimum step size was reached..\n",
      " A score of -infinity is returned.\n",
      "\n",
      "/Users/david/Documents/SABS/DPhil/erlotinib/erlotinib/_log_pdfs.py:1227: RuntimeWarning:\n",
      "\n",
      "An error occured while solving the mechanistic model: \n",
      "A numerical error occurred during simulation at t = 0.\n",
      "Last reached state: \n",
      "  myokit.tumour_volume =  5.10136473429552386e+23\n",
      "Inputs for binding:\n",
      "  time        = 0.0\n",
      "  pace        = 0.0\n",
      "  realtime    = 0.0\n",
      "  evaluations = 185.0\n",
      "Function CVode() failed with flag -4 CV_CONV_FAILURE: Convergence test failures occurred too many times during one internal time step or minimum step size was reached..\n",
      " A score of -infinity is returned.\n",
      "\n",
      "/Users/david/Documents/SABS/DPhil/erlotinib/erlotinib/_log_pdfs.py:1227: RuntimeWarning:\n",
      "\n",
      "An error occured while solving the mechanistic model: \n",
      "A numerical error occurred during simulation at t = 0.\n",
      "Last reached state: \n",
      "  myokit.tumour_volume =  2.45709458173645360e+16\n",
      "Inputs for binding:\n",
      "  time        = 0.0\n",
      "  pace        = 0.0\n",
      "  realtime    = 0.0\n",
      "  evaluations = 227.0\n",
      "Function CVode() failed with flag -4 CV_CONV_FAILURE: Convergence test failures occurred too many times during one internal time step or minimum step size was reached..\n",
      " A score of -infinity is returned.\n",
      "\n",
      "/Users/david/Documents/SABS/DPhil/erlotinib/erlotinib/_log_pdfs.py:1227: RuntimeWarning:\n",
      "\n",
      "An error occured while solving the mechanistic model: \n",
      "A numerical error occurred during simulation at t = 0.\n",
      "Last reached state: \n",
      "  myokit.tumour_volume =  2.22743149235598560e+23\n",
      "Inputs for binding:\n",
      "  time        = 0.0\n",
      "  pace        = 0.0\n",
      "  realtime    = 0.0\n",
      "  evaluations = 227.0\n",
      "Function CVode() failed with flag -4 CV_CONV_FAILURE: Convergence test failures occurred too many times during one internal time step or minimum step size was reached..\n",
      " A score of -infinity is returned.\n",
      "\n",
      "/Users/david/Documents/SABS/DPhil/erlotinib/venv/lib/python3.7/site-packages/myokit/_sim/cvodessim.py:654: RuntimeWarning:\n",
      "\n",
      "CVODES: Internal t = 0.420697 and h = 2.60859e-17 are such that t + h = t on the next step. The solver will continue anyway.\n",
      "\n",
      "/Users/david/Documents/SABS/DPhil/erlotinib/venv/lib/python3.7/site-packages/myokit/_sim/cvodessim.py:654: RuntimeWarning:\n",
      "\n",
      "CVODES: Internal t = 0.420697 and h = 1.63037e-17 are such that t + h = t on the next step. The solver will continue anyway.\n",
      "\n",
      "/Users/david/Documents/SABS/DPhil/erlotinib/venv/lib/python3.7/site-packages/myokit/_sim/cvodessim.py:654: RuntimeWarning:\n",
      "\n",
      "CVODES: Internal t = 0.420697 and h = 1.01898e-17 are such that t + h = t on the next step. The solver will continue anyway.\n",
      "\n",
      "/Users/david/Documents/SABS/DPhil/erlotinib/venv/lib/python3.7/site-packages/myokit/_sim/cvodessim.py:654: RuntimeWarning:\n",
      "\n",
      "CVODES: Internal t = 0.420697 and h = 6.36862e-18 are such that t + h = t on the next step. The solver will continue anyway.\n",
      "\n",
      "/Users/david/Documents/SABS/DPhil/erlotinib/venv/lib/python3.7/site-packages/myokit/_sim/cvodessim.py:654: RuntimeWarning:\n",
      "\n",
      "CVODES: Internal t = 0.420697 and h = 1.59216e-17 are such that t + h = t on the next step. The solver will continue anyway.\n",
      "\n",
      "/Users/david/Documents/SABS/DPhil/erlotinib/venv/lib/python3.7/site-packages/myokit/_sim/cvodessim.py:654: RuntimeWarning:\n",
      "\n",
      "CVODES: Internal t = 0.420697 and h = 3.98039e-18 are such that t + h = t on the next step. The solver will continue anyway.\n",
      "\n"
     ]
    },
    {
     "output_type": "error",
     "ename": "Exception",
     "evalue": "Maximum number of zero-length steps taken at t=0.420697",
     "traceback": [
      "\u001b[0;31m---------------------------------------------------------------------------\u001b[0m",
      "\u001b[0;31mException\u001b[0m                                 Traceback (most recent call last)",
      "\u001b[0;32m<ipython-input-29-5502571a97d8>\u001b[0m in \u001b[0;36m<module>\u001b[0;34m\u001b[0m\n\u001b[1;32m      3\u001b[0m \u001b[0mminimizer_kwargs\u001b[0m \u001b[0;34m=\u001b[0m \u001b[0;34m{\u001b[0m\u001b[0;34m\"method\"\u001b[0m\u001b[0;34m:\u001b[0m\u001b[0;34m\"L-BFGS-B\"\u001b[0m\u001b[0;34m,\u001b[0m \u001b[0;34m\"jac\"\u001b[0m\u001b[0;34m:\u001b[0m\u001b[0;32mTrue\u001b[0m\u001b[0;34m}\u001b[0m\u001b[0;34m\u001b[0m\u001b[0;34m\u001b[0m\u001b[0m\n\u001b[1;32m      4\u001b[0m result = basinhopping(\n\u001b[0;32m----> 5\u001b[0;31m     func=fun, x0=initial_parameters, minimizer_kwargs=minimizer_kwargs, niter=10000)\n\u001b[0m\u001b[1;32m      6\u001b[0m \u001b[0mresult\u001b[0m\u001b[0;34m\u001b[0m\u001b[0;34m\u001b[0m\u001b[0m\n",
      "\u001b[0;32m~/Documents/SABS/DPhil/erlotinib/venv/lib/python3.7/site-packages/scipy/optimize/_basinhopping.py\u001b[0m in \u001b[0;36mbasinhopping\u001b[0;34m(func, x0, niter, T, stepsize, minimizer_kwargs, take_step, accept_test, callback, interval, disp, niter_success, seed)\u001b[0m\n\u001b[1;32m    691\u001b[0m                \" successfully\"]\n\u001b[1;32m    692\u001b[0m     \u001b[0;32mfor\u001b[0m \u001b[0mi\u001b[0m \u001b[0;32min\u001b[0m \u001b[0mrange\u001b[0m\u001b[0;34m(\u001b[0m\u001b[0mniter\u001b[0m\u001b[0;34m)\u001b[0m\u001b[0;34m:\u001b[0m\u001b[0;34m\u001b[0m\u001b[0;34m\u001b[0m\u001b[0m\n\u001b[0;32m--> 693\u001b[0;31m         \u001b[0mnew_global_min\u001b[0m \u001b[0;34m=\u001b[0m \u001b[0mbh\u001b[0m\u001b[0;34m.\u001b[0m\u001b[0mone_cycle\u001b[0m\u001b[0;34m(\u001b[0m\u001b[0;34m)\u001b[0m\u001b[0;34m\u001b[0m\u001b[0;34m\u001b[0m\u001b[0m\n\u001b[0m\u001b[1;32m    694\u001b[0m \u001b[0;34m\u001b[0m\u001b[0m\n\u001b[1;32m    695\u001b[0m         \u001b[0;32mif\u001b[0m \u001b[0mcallable\u001b[0m\u001b[0;34m(\u001b[0m\u001b[0mcallback\u001b[0m\u001b[0;34m)\u001b[0m\u001b[0;34m:\u001b[0m\u001b[0;34m\u001b[0m\u001b[0;34m\u001b[0m\u001b[0m\n",
      "\u001b[0;32m~/Documents/SABS/DPhil/erlotinib/venv/lib/python3.7/site-packages/scipy/optimize/_basinhopping.py\u001b[0m in \u001b[0;36mone_cycle\u001b[0;34m(self)\u001b[0m\n\u001b[1;32m    150\u001b[0m         \u001b[0mnew_global_min\u001b[0m \u001b[0;34m=\u001b[0m \u001b[0;32mFalse\u001b[0m\u001b[0;34m\u001b[0m\u001b[0;34m\u001b[0m\u001b[0m\n\u001b[1;32m    151\u001b[0m \u001b[0;34m\u001b[0m\u001b[0m\n\u001b[0;32m--> 152\u001b[0;31m         \u001b[0maccept\u001b[0m\u001b[0;34m,\u001b[0m \u001b[0mminres\u001b[0m \u001b[0;34m=\u001b[0m \u001b[0mself\u001b[0m\u001b[0;34m.\u001b[0m\u001b[0m_monte_carlo_step\u001b[0m\u001b[0;34m(\u001b[0m\u001b[0;34m)\u001b[0m\u001b[0;34m\u001b[0m\u001b[0;34m\u001b[0m\u001b[0m\n\u001b[0m\u001b[1;32m    153\u001b[0m \u001b[0;34m\u001b[0m\u001b[0m\n\u001b[1;32m    154\u001b[0m         \u001b[0;32mif\u001b[0m \u001b[0maccept\u001b[0m\u001b[0;34m:\u001b[0m\u001b[0;34m\u001b[0m\u001b[0;34m\u001b[0m\u001b[0m\n",
      "\u001b[0;32m~/Documents/SABS/DPhil/erlotinib/venv/lib/python3.7/site-packages/scipy/optimize/_basinhopping.py\u001b[0m in \u001b[0;36m_monte_carlo_step\u001b[0;34m(self)\u001b[0m\n\u001b[1;32m    102\u001b[0m \u001b[0;34m\u001b[0m\u001b[0m\n\u001b[1;32m    103\u001b[0m         \u001b[0;31m# do a local minimization\u001b[0m\u001b[0;34m\u001b[0m\u001b[0;34m\u001b[0m\u001b[0;34m\u001b[0m\u001b[0m\n\u001b[0;32m--> 104\u001b[0;31m         \u001b[0mminres\u001b[0m \u001b[0;34m=\u001b[0m \u001b[0mself\u001b[0m\u001b[0;34m.\u001b[0m\u001b[0mminimizer\u001b[0m\u001b[0;34m(\u001b[0m\u001b[0mx_after_step\u001b[0m\u001b[0;34m)\u001b[0m\u001b[0;34m\u001b[0m\u001b[0;34m\u001b[0m\u001b[0m\n\u001b[0m\u001b[1;32m    105\u001b[0m         \u001b[0mx_after_quench\u001b[0m \u001b[0;34m=\u001b[0m \u001b[0mminres\u001b[0m\u001b[0;34m.\u001b[0m\u001b[0mx\u001b[0m\u001b[0;34m\u001b[0m\u001b[0;34m\u001b[0m\u001b[0m\n\u001b[1;32m    106\u001b[0m         \u001b[0menergy_after_quench\u001b[0m \u001b[0;34m=\u001b[0m \u001b[0mminres\u001b[0m\u001b[0;34m.\u001b[0m\u001b[0mfun\u001b[0m\u001b[0;34m\u001b[0m\u001b[0;34m\u001b[0m\u001b[0m\n",
      "\u001b[0;32m~/Documents/SABS/DPhil/erlotinib/venv/lib/python3.7/site-packages/scipy/optimize/_basinhopping.py\u001b[0m in \u001b[0;36m__call__\u001b[0;34m(self, x0)\u001b[0m\n\u001b[1;32m    282\u001b[0m             \u001b[0;32mreturn\u001b[0m \u001b[0mself\u001b[0m\u001b[0;34m.\u001b[0m\u001b[0mminimizer\u001b[0m\u001b[0;34m(\u001b[0m\u001b[0mx0\u001b[0m\u001b[0;34m,\u001b[0m \u001b[0;34m**\u001b[0m\u001b[0mself\u001b[0m\u001b[0;34m.\u001b[0m\u001b[0mkwargs\u001b[0m\u001b[0;34m)\u001b[0m\u001b[0;34m\u001b[0m\u001b[0;34m\u001b[0m\u001b[0m\n\u001b[1;32m    283\u001b[0m         \u001b[0;32melse\u001b[0m\u001b[0;34m:\u001b[0m\u001b[0;34m\u001b[0m\u001b[0;34m\u001b[0m\u001b[0m\n\u001b[0;32m--> 284\u001b[0;31m             \u001b[0;32mreturn\u001b[0m \u001b[0mself\u001b[0m\u001b[0;34m.\u001b[0m\u001b[0mminimizer\u001b[0m\u001b[0;34m(\u001b[0m\u001b[0mself\u001b[0m\u001b[0;34m.\u001b[0m\u001b[0mfunc\u001b[0m\u001b[0;34m,\u001b[0m \u001b[0mx0\u001b[0m\u001b[0;34m,\u001b[0m \u001b[0;34m**\u001b[0m\u001b[0mself\u001b[0m\u001b[0;34m.\u001b[0m\u001b[0mkwargs\u001b[0m\u001b[0;34m)\u001b[0m\u001b[0;34m\u001b[0m\u001b[0;34m\u001b[0m\u001b[0m\n\u001b[0m\u001b[1;32m    285\u001b[0m \u001b[0;34m\u001b[0m\u001b[0m\n\u001b[1;32m    286\u001b[0m \u001b[0;34m\u001b[0m\u001b[0m\n",
      "\u001b[0;32m~/Documents/SABS/DPhil/erlotinib/venv/lib/python3.7/site-packages/scipy/optimize/_minimize.py\u001b[0m in \u001b[0;36mminimize\u001b[0;34m(fun, x0, args, method, jac, hess, hessp, bounds, constraints, tol, callback, options)\u001b[0m\n\u001b[1;32m    618\u001b[0m     \u001b[0;32melif\u001b[0m \u001b[0mmeth\u001b[0m \u001b[0;34m==\u001b[0m \u001b[0;34m'l-bfgs-b'\u001b[0m\u001b[0;34m:\u001b[0m\u001b[0;34m\u001b[0m\u001b[0;34m\u001b[0m\u001b[0m\n\u001b[1;32m    619\u001b[0m         return _minimize_lbfgsb(fun, x0, args, jac, bounds,\n\u001b[0;32m--> 620\u001b[0;31m                                 callback=callback, **options)\n\u001b[0m\u001b[1;32m    621\u001b[0m     \u001b[0;32melif\u001b[0m \u001b[0mmeth\u001b[0m \u001b[0;34m==\u001b[0m \u001b[0;34m'tnc'\u001b[0m\u001b[0;34m:\u001b[0m\u001b[0;34m\u001b[0m\u001b[0;34m\u001b[0m\u001b[0m\n\u001b[1;32m    622\u001b[0m         return _minimize_tnc(fun, x0, args, jac, bounds, callback=callback,\n",
      "\u001b[0;32m~/Documents/SABS/DPhil/erlotinib/venv/lib/python3.7/site-packages/scipy/optimize/lbfgsb.py\u001b[0m in \u001b[0;36m_minimize_lbfgsb\u001b[0;34m(fun, x0, args, jac, bounds, disp, maxcor, ftol, gtol, eps, maxfun, maxiter, iprint, callback, maxls, finite_diff_rel_step, **unknown_options)\u001b[0m\n\u001b[1;32m    306\u001b[0m     sf = _prepare_scalar_function(fun, x0, jac=jac, args=args, epsilon=eps,\n\u001b[1;32m    307\u001b[0m                                   \u001b[0mbounds\u001b[0m\u001b[0;34m=\u001b[0m\u001b[0mnew_bounds\u001b[0m\u001b[0;34m,\u001b[0m\u001b[0;34m\u001b[0m\u001b[0;34m\u001b[0m\u001b[0m\n\u001b[0;32m--> 308\u001b[0;31m                                   finite_diff_rel_step=finite_diff_rel_step)\n\u001b[0m\u001b[1;32m    309\u001b[0m \u001b[0;34m\u001b[0m\u001b[0m\n\u001b[1;32m    310\u001b[0m     \u001b[0mfunc_and_grad\u001b[0m \u001b[0;34m=\u001b[0m \u001b[0msf\u001b[0m\u001b[0;34m.\u001b[0m\u001b[0mfun_and_grad\u001b[0m\u001b[0;34m\u001b[0m\u001b[0;34m\u001b[0m\u001b[0m\n",
      "\u001b[0;32m~/Documents/SABS/DPhil/erlotinib/venv/lib/python3.7/site-packages/scipy/optimize/optimize.py\u001b[0m in \u001b[0;36m_prepare_scalar_function\u001b[0;34m(fun, x0, jac, args, bounds, epsilon, finite_diff_rel_step, hess)\u001b[0m\n\u001b[1;32m    260\u001b[0m     \u001b[0;31m# calculation reduces overall function evaluations.\u001b[0m\u001b[0;34m\u001b[0m\u001b[0;34m\u001b[0m\u001b[0;34m\u001b[0m\u001b[0m\n\u001b[1;32m    261\u001b[0m     sf = ScalarFunction(fun, x0, args, grad, hess,\n\u001b[0;32m--> 262\u001b[0;31m                         finite_diff_rel_step, bounds, epsilon=epsilon)\n\u001b[0m\u001b[1;32m    263\u001b[0m \u001b[0;34m\u001b[0m\u001b[0m\n\u001b[1;32m    264\u001b[0m     \u001b[0;32mreturn\u001b[0m \u001b[0msf\u001b[0m\u001b[0;34m\u001b[0m\u001b[0;34m\u001b[0m\u001b[0m\n",
      "\u001b[0;32m~/Documents/SABS/DPhil/erlotinib/venv/lib/python3.7/site-packages/scipy/optimize/_differentiable_functions.py\u001b[0m in \u001b[0;36m__init__\u001b[0;34m(self, fun, x0, args, grad, hess, finite_diff_rel_step, finite_diff_bounds, epsilon)\u001b[0m\n\u001b[1;32m    134\u001b[0m \u001b[0;34m\u001b[0m\u001b[0m\n\u001b[1;32m    135\u001b[0m         \u001b[0mself\u001b[0m\u001b[0;34m.\u001b[0m\u001b[0m_update_fun_impl\u001b[0m \u001b[0;34m=\u001b[0m \u001b[0mupdate_fun\u001b[0m\u001b[0;34m\u001b[0m\u001b[0;34m\u001b[0m\u001b[0m\n\u001b[0;32m--> 136\u001b[0;31m         \u001b[0mself\u001b[0m\u001b[0;34m.\u001b[0m\u001b[0m_update_fun\u001b[0m\u001b[0;34m(\u001b[0m\u001b[0;34m)\u001b[0m\u001b[0;34m\u001b[0m\u001b[0;34m\u001b[0m\u001b[0m\n\u001b[0m\u001b[1;32m    137\u001b[0m \u001b[0;34m\u001b[0m\u001b[0m\n\u001b[1;32m    138\u001b[0m         \u001b[0;31m# Gradient evaluation\u001b[0m\u001b[0;34m\u001b[0m\u001b[0;34m\u001b[0m\u001b[0;34m\u001b[0m\u001b[0m\n",
      "\u001b[0;32m~/Documents/SABS/DPhil/erlotinib/venv/lib/python3.7/site-packages/scipy/optimize/_differentiable_functions.py\u001b[0m in \u001b[0;36m_update_fun\u001b[0;34m(self)\u001b[0m\n\u001b[1;32m    224\u001b[0m     \u001b[0;32mdef\u001b[0m \u001b[0m_update_fun\u001b[0m\u001b[0;34m(\u001b[0m\u001b[0mself\u001b[0m\u001b[0;34m)\u001b[0m\u001b[0;34m:\u001b[0m\u001b[0;34m\u001b[0m\u001b[0;34m\u001b[0m\u001b[0m\n\u001b[1;32m    225\u001b[0m         \u001b[0;32mif\u001b[0m \u001b[0;32mnot\u001b[0m \u001b[0mself\u001b[0m\u001b[0;34m.\u001b[0m\u001b[0mf_updated\u001b[0m\u001b[0;34m:\u001b[0m\u001b[0;34m\u001b[0m\u001b[0;34m\u001b[0m\u001b[0m\n\u001b[0;32m--> 226\u001b[0;31m             \u001b[0mself\u001b[0m\u001b[0;34m.\u001b[0m\u001b[0m_update_fun_impl\u001b[0m\u001b[0;34m(\u001b[0m\u001b[0;34m)\u001b[0m\u001b[0;34m\u001b[0m\u001b[0;34m\u001b[0m\u001b[0m\n\u001b[0m\u001b[1;32m    227\u001b[0m             \u001b[0mself\u001b[0m\u001b[0;34m.\u001b[0m\u001b[0mf_updated\u001b[0m \u001b[0;34m=\u001b[0m \u001b[0;32mTrue\u001b[0m\u001b[0;34m\u001b[0m\u001b[0;34m\u001b[0m\u001b[0m\n\u001b[1;32m    228\u001b[0m \u001b[0;34m\u001b[0m\u001b[0m\n",
      "\u001b[0;32m~/Documents/SABS/DPhil/erlotinib/venv/lib/python3.7/site-packages/scipy/optimize/_differentiable_functions.py\u001b[0m in \u001b[0;36mupdate_fun\u001b[0;34m()\u001b[0m\n\u001b[1;32m    131\u001b[0m \u001b[0;34m\u001b[0m\u001b[0m\n\u001b[1;32m    132\u001b[0m         \u001b[0;32mdef\u001b[0m \u001b[0mupdate_fun\u001b[0m\u001b[0;34m(\u001b[0m\u001b[0;34m)\u001b[0m\u001b[0;34m:\u001b[0m\u001b[0;34m\u001b[0m\u001b[0;34m\u001b[0m\u001b[0m\n\u001b[0;32m--> 133\u001b[0;31m             \u001b[0mself\u001b[0m\u001b[0;34m.\u001b[0m\u001b[0mf\u001b[0m \u001b[0;34m=\u001b[0m \u001b[0mfun_wrapped\u001b[0m\u001b[0;34m(\u001b[0m\u001b[0mself\u001b[0m\u001b[0;34m.\u001b[0m\u001b[0mx\u001b[0m\u001b[0;34m)\u001b[0m\u001b[0;34m\u001b[0m\u001b[0;34m\u001b[0m\u001b[0m\n\u001b[0m\u001b[1;32m    134\u001b[0m \u001b[0;34m\u001b[0m\u001b[0m\n\u001b[1;32m    135\u001b[0m         \u001b[0mself\u001b[0m\u001b[0;34m.\u001b[0m\u001b[0m_update_fun_impl\u001b[0m \u001b[0;34m=\u001b[0m \u001b[0mupdate_fun\u001b[0m\u001b[0;34m\u001b[0m\u001b[0;34m\u001b[0m\u001b[0m\n",
      "\u001b[0;32m~/Documents/SABS/DPhil/erlotinib/venv/lib/python3.7/site-packages/scipy/optimize/_differentiable_functions.py\u001b[0m in \u001b[0;36mfun_wrapped\u001b[0;34m(x)\u001b[0m\n\u001b[1;32m    128\u001b[0m         \u001b[0;32mdef\u001b[0m \u001b[0mfun_wrapped\u001b[0m\u001b[0;34m(\u001b[0m\u001b[0mx\u001b[0m\u001b[0;34m)\u001b[0m\u001b[0;34m:\u001b[0m\u001b[0;34m\u001b[0m\u001b[0;34m\u001b[0m\u001b[0m\n\u001b[1;32m    129\u001b[0m             \u001b[0mself\u001b[0m\u001b[0;34m.\u001b[0m\u001b[0mnfev\u001b[0m \u001b[0;34m+=\u001b[0m \u001b[0;36m1\u001b[0m\u001b[0;34m\u001b[0m\u001b[0;34m\u001b[0m\u001b[0m\n\u001b[0;32m--> 130\u001b[0;31m             \u001b[0;32mreturn\u001b[0m \u001b[0mfun\u001b[0m\u001b[0;34m(\u001b[0m\u001b[0mx\u001b[0m\u001b[0;34m,\u001b[0m \u001b[0;34m*\u001b[0m\u001b[0margs\u001b[0m\u001b[0;34m)\u001b[0m\u001b[0;34m\u001b[0m\u001b[0;34m\u001b[0m\u001b[0m\n\u001b[0m\u001b[1;32m    131\u001b[0m \u001b[0;34m\u001b[0m\u001b[0m\n\u001b[1;32m    132\u001b[0m         \u001b[0;32mdef\u001b[0m \u001b[0mupdate_fun\u001b[0m\u001b[0;34m(\u001b[0m\u001b[0;34m)\u001b[0m\u001b[0;34m:\u001b[0m\u001b[0;34m\u001b[0m\u001b[0;34m\u001b[0m\u001b[0m\n",
      "\u001b[0;32m~/Documents/SABS/DPhil/erlotinib/venv/lib/python3.7/site-packages/scipy/optimize/optimize.py\u001b[0m in \u001b[0;36m__call__\u001b[0;34m(self, x, *args)\u001b[0m\n\u001b[1;32m     72\u001b[0m     \u001b[0;32mdef\u001b[0m \u001b[0m__call__\u001b[0m\u001b[0;34m(\u001b[0m\u001b[0mself\u001b[0m\u001b[0;34m,\u001b[0m \u001b[0mx\u001b[0m\u001b[0;34m,\u001b[0m \u001b[0;34m*\u001b[0m\u001b[0margs\u001b[0m\u001b[0;34m)\u001b[0m\u001b[0;34m:\u001b[0m\u001b[0;34m\u001b[0m\u001b[0;34m\u001b[0m\u001b[0m\n\u001b[1;32m     73\u001b[0m         \u001b[0;34m\"\"\" returns the the function value \"\"\"\u001b[0m\u001b[0;34m\u001b[0m\u001b[0;34m\u001b[0m\u001b[0m\n\u001b[0;32m---> 74\u001b[0;31m         \u001b[0mself\u001b[0m\u001b[0;34m.\u001b[0m\u001b[0m_compute_if_needed\u001b[0m\u001b[0;34m(\u001b[0m\u001b[0mx\u001b[0m\u001b[0;34m,\u001b[0m \u001b[0;34m*\u001b[0m\u001b[0margs\u001b[0m\u001b[0;34m)\u001b[0m\u001b[0;34m\u001b[0m\u001b[0;34m\u001b[0m\u001b[0m\n\u001b[0m\u001b[1;32m     75\u001b[0m         \u001b[0;32mreturn\u001b[0m \u001b[0mself\u001b[0m\u001b[0;34m.\u001b[0m\u001b[0m_value\u001b[0m\u001b[0;34m\u001b[0m\u001b[0;34m\u001b[0m\u001b[0m\n\u001b[1;32m     76\u001b[0m \u001b[0;34m\u001b[0m\u001b[0m\n",
      "\u001b[0;32m~/Documents/SABS/DPhil/erlotinib/venv/lib/python3.7/site-packages/scipy/optimize/optimize.py\u001b[0m in \u001b[0;36m_compute_if_needed\u001b[0;34m(self, x, *args)\u001b[0m\n\u001b[1;32m     66\u001b[0m         \u001b[0;32mif\u001b[0m \u001b[0;32mnot\u001b[0m \u001b[0mnp\u001b[0m\u001b[0;34m.\u001b[0m\u001b[0mall\u001b[0m\u001b[0;34m(\u001b[0m\u001b[0mx\u001b[0m \u001b[0;34m==\u001b[0m \u001b[0mself\u001b[0m\u001b[0;34m.\u001b[0m\u001b[0mx\u001b[0m\u001b[0;34m)\u001b[0m \u001b[0;32mor\u001b[0m \u001b[0mself\u001b[0m\u001b[0;34m.\u001b[0m\u001b[0m_value\u001b[0m \u001b[0;32mis\u001b[0m \u001b[0;32mNone\u001b[0m \u001b[0;32mor\u001b[0m \u001b[0mself\u001b[0m\u001b[0;34m.\u001b[0m\u001b[0mjac\u001b[0m \u001b[0;32mis\u001b[0m \u001b[0;32mNone\u001b[0m\u001b[0;34m:\u001b[0m\u001b[0;34m\u001b[0m\u001b[0;34m\u001b[0m\u001b[0m\n\u001b[1;32m     67\u001b[0m             \u001b[0mself\u001b[0m\u001b[0;34m.\u001b[0m\u001b[0mx\u001b[0m \u001b[0;34m=\u001b[0m \u001b[0mnp\u001b[0m\u001b[0;34m.\u001b[0m\u001b[0masarray\u001b[0m\u001b[0;34m(\u001b[0m\u001b[0mx\u001b[0m\u001b[0;34m)\u001b[0m\u001b[0;34m.\u001b[0m\u001b[0mcopy\u001b[0m\u001b[0;34m(\u001b[0m\u001b[0;34m)\u001b[0m\u001b[0;34m\u001b[0m\u001b[0;34m\u001b[0m\u001b[0m\n\u001b[0;32m---> 68\u001b[0;31m             \u001b[0mfg\u001b[0m \u001b[0;34m=\u001b[0m \u001b[0mself\u001b[0m\u001b[0;34m.\u001b[0m\u001b[0mfun\u001b[0m\u001b[0;34m(\u001b[0m\u001b[0mx\u001b[0m\u001b[0;34m,\u001b[0m \u001b[0;34m*\u001b[0m\u001b[0margs\u001b[0m\u001b[0;34m)\u001b[0m\u001b[0;34m\u001b[0m\u001b[0;34m\u001b[0m\u001b[0m\n\u001b[0m\u001b[1;32m     69\u001b[0m             \u001b[0mself\u001b[0m\u001b[0;34m.\u001b[0m\u001b[0mjac\u001b[0m \u001b[0;34m=\u001b[0m \u001b[0mfg\u001b[0m\u001b[0;34m[\u001b[0m\u001b[0;36m1\u001b[0m\u001b[0;34m]\u001b[0m\u001b[0;34m\u001b[0m\u001b[0;34m\u001b[0m\u001b[0m\n\u001b[1;32m     70\u001b[0m             \u001b[0mself\u001b[0m\u001b[0;34m.\u001b[0m\u001b[0m_value\u001b[0m \u001b[0;34m=\u001b[0m \u001b[0mfg\u001b[0m\u001b[0;34m[\u001b[0m\u001b[0;36m0\u001b[0m\u001b[0;34m]\u001b[0m\u001b[0;34m\u001b[0m\u001b[0;34m\u001b[0m\u001b[0m\n",
      "\u001b[0;32m<ipython-input-14-97af45fe7dd6>\u001b[0m in \u001b[0;36mfun\u001b[0;34m(log_parameters)\u001b[0m\n\u001b[1;32m      5\u001b[0m \u001b[0;34m\u001b[0m\u001b[0m\n\u001b[1;32m      6\u001b[0m \u001b[0;32mdef\u001b[0m \u001b[0mfun\u001b[0m\u001b[0;34m(\u001b[0m\u001b[0mlog_parameters\u001b[0m\u001b[0;34m)\u001b[0m\u001b[0;34m:\u001b[0m\u001b[0;34m\u001b[0m\u001b[0;34m\u001b[0m\u001b[0m\n\u001b[0;32m----> 7\u001b[0;31m     \u001b[0mscore\u001b[0m\u001b[0;34m,\u001b[0m \u001b[0msens\u001b[0m \u001b[0;34m=\u001b[0m \u001b[0mlog_posterior\u001b[0m\u001b[0;34m.\u001b[0m\u001b[0mevaluateS1\u001b[0m\u001b[0;34m(\u001b[0m\u001b[0mnp\u001b[0m\u001b[0;34m.\u001b[0m\u001b[0mexp\u001b[0m\u001b[0;34m(\u001b[0m\u001b[0mlog_parameters\u001b[0m\u001b[0;34m)\u001b[0m\u001b[0;34m)\u001b[0m\u001b[0;34m\u001b[0m\u001b[0;34m\u001b[0m\u001b[0m\n\u001b[0m\u001b[1;32m      8\u001b[0m     \u001b[0;32mreturn\u001b[0m \u001b[0;34m(\u001b[0m\u001b[0;34m-\u001b[0m\u001b[0mscore\u001b[0m\u001b[0;34m,\u001b[0m \u001b[0;34m-\u001b[0m\u001b[0msens\u001b[0m\u001b[0;34m)\u001b[0m\u001b[0;34m\u001b[0m\u001b[0;34m\u001b[0m\u001b[0m\n\u001b[1;32m      9\u001b[0m \u001b[0;34m\u001b[0m\u001b[0m\n",
      "\u001b[0;32m~/Documents/SABS/DPhil/erlotinib/erlotinib/_log_pdfs.py\u001b[0m in \u001b[0;36mevaluateS1\u001b[0;34m(self, parameters)\u001b[0m\n\u001b[1;32m    788\u001b[0m         \u001b[0;31m# Add log-likelihood score and sensitivities\u001b[0m\u001b[0;34m\u001b[0m\u001b[0;34m\u001b[0m\u001b[0;34m\u001b[0m\u001b[0m\n\u001b[1;32m    789\u001b[0m         ll_score, sensitivities = self._log_likelihood.evaluateS1(\n\u001b[0;32m--> 790\u001b[0;31m             parameters)\n\u001b[0m\u001b[1;32m    791\u001b[0m \u001b[0;34m\u001b[0m\u001b[0m\n\u001b[1;32m    792\u001b[0m         \u001b[0mscore\u001b[0m \u001b[0;34m+=\u001b[0m \u001b[0mll_score\u001b[0m\u001b[0;34m\u001b[0m\u001b[0;34m\u001b[0m\u001b[0m\n",
      "\u001b[0;32m~/Documents/SABS/DPhil/erlotinib/erlotinib/_log_pdfs.py\u001b[0m in \u001b[0;36mevaluateS1\u001b[0;34m(self, parameters)\u001b[0m\n\u001b[1;32m    487\u001b[0m         \u001b[0;32mfor\u001b[0m \u001b[0mindex\u001b[0m\u001b[0;34m,\u001b[0m \u001b[0mlog_likelihood\u001b[0m \u001b[0;32min\u001b[0m \u001b[0menumerate\u001b[0m\u001b[0;34m(\u001b[0m\u001b[0mself\u001b[0m\u001b[0;34m.\u001b[0m\u001b[0m_log_likelihoods\u001b[0m\u001b[0;34m)\u001b[0m\u001b[0;34m:\u001b[0m\u001b[0;34m\u001b[0m\u001b[0;34m\u001b[0m\u001b[0m\n\u001b[1;32m    488\u001b[0m             \u001b[0mindices\u001b[0m \u001b[0;34m=\u001b[0m \u001b[0mself\u001b[0m\u001b[0;34m.\u001b[0m\u001b[0m_indiv_params\u001b[0m\u001b[0;34m[\u001b[0m\u001b[0mindex\u001b[0m\u001b[0;34m]\u001b[0m\u001b[0;34m\u001b[0m\u001b[0;34m\u001b[0m\u001b[0m\n\u001b[0;32m--> 489\u001b[0;31m             \u001b[0mscore\u001b[0m\u001b[0;34m,\u001b[0m \u001b[0msens\u001b[0m \u001b[0;34m=\u001b[0m \u001b[0mlog_likelihood\u001b[0m\u001b[0;34m.\u001b[0m\u001b[0mevaluateS1\u001b[0m\u001b[0;34m(\u001b[0m\u001b[0mparameters\u001b[0m\u001b[0;34m[\u001b[0m\u001b[0mindices\u001b[0m\u001b[0;34m]\u001b[0m\u001b[0;34m)\u001b[0m\u001b[0;34m\u001b[0m\u001b[0;34m\u001b[0m\u001b[0m\n\u001b[0m\u001b[1;32m    490\u001b[0m             \u001b[0mll_score\u001b[0m \u001b[0;34m+=\u001b[0m \u001b[0mscore\u001b[0m\u001b[0;34m\u001b[0m\u001b[0;34m\u001b[0m\u001b[0m\n\u001b[1;32m    491\u001b[0m             \u001b[0msensitivities\u001b[0m\u001b[0;34m[\u001b[0m\u001b[0mindices\u001b[0m\u001b[0;34m]\u001b[0m \u001b[0;34m+=\u001b[0m \u001b[0msens\u001b[0m\u001b[0;34m\u001b[0m\u001b[0;34m\u001b[0m\u001b[0m\n",
      "\u001b[0;32m~/Documents/SABS/DPhil/erlotinib/erlotinib/_log_pdfs.py\u001b[0m in \u001b[0;36mevaluateS1\u001b[0;34m(self, parameters)\u001b[0m\n\u001b[1;32m   1220\u001b[0m             outputs, senss = self._mechanistic_model.simulate(\n\u001b[1;32m   1221\u001b[0m                 \u001b[0mparameters\u001b[0m\u001b[0;34m=\u001b[0m\u001b[0mparameters\u001b[0m\u001b[0;34m[\u001b[0m\u001b[0;34m:\u001b[0m\u001b[0mself\u001b[0m\u001b[0;34m.\u001b[0m\u001b[0m_n_mechanistic_params\u001b[0m\u001b[0;34m]\u001b[0m\u001b[0;34m,\u001b[0m\u001b[0;34m\u001b[0m\u001b[0;34m\u001b[0m\u001b[0m\n\u001b[0;32m-> 1222\u001b[0;31m                 times=self._times)\n\u001b[0m\u001b[1;32m   1223\u001b[0m         \u001b[0;32mexcept\u001b[0m \u001b[0mmyokit\u001b[0m\u001b[0;34m.\u001b[0m\u001b[0mSimulationError\u001b[0m \u001b[0;32mas\u001b[0m \u001b[0me\u001b[0m\u001b[0;34m:\u001b[0m\u001b[0;34m\u001b[0m\u001b[0;34m\u001b[0m\u001b[0m\n\u001b[1;32m   1224\u001b[0m             warnings.warn(\n",
      "\u001b[0;32m~/Documents/SABS/DPhil/erlotinib/erlotinib/_mechanistic_models.py\u001b[0m in \u001b[0;36msimulate\u001b[0;34m(self, parameters, times)\u001b[0m\n\u001b[1;32m   1122\u001b[0m             \u001b[0mparameters\u001b[0m \u001b[0;34m=\u001b[0m \u001b[0mself\u001b[0m\u001b[0;34m.\u001b[0m\u001b[0m_fixed_params_values\u001b[0m\u001b[0;34m\u001b[0m\u001b[0;34m\u001b[0m\u001b[0m\n\u001b[1;32m   1123\u001b[0m \u001b[0;34m\u001b[0m\u001b[0m\n\u001b[0;32m-> 1124\u001b[0;31m         \u001b[0;32mreturn\u001b[0m \u001b[0mself\u001b[0m\u001b[0;34m.\u001b[0m\u001b[0m_mechanistic_model\u001b[0m\u001b[0;34m.\u001b[0m\u001b[0msimulate\u001b[0m\u001b[0;34m(\u001b[0m\u001b[0mparameters\u001b[0m\u001b[0;34m,\u001b[0m \u001b[0mtimes\u001b[0m\u001b[0;34m)\u001b[0m\u001b[0;34m\u001b[0m\u001b[0;34m\u001b[0m\u001b[0m\n\u001b[0m\u001b[1;32m   1125\u001b[0m \u001b[0;34m\u001b[0m\u001b[0m\n\u001b[1;32m   1126\u001b[0m     \u001b[0;32mdef\u001b[0m \u001b[0mtime_unit\u001b[0m\u001b[0;34m(\u001b[0m\u001b[0mself\u001b[0m\u001b[0;34m)\u001b[0m\u001b[0;34m:\u001b[0m\u001b[0;34m\u001b[0m\u001b[0;34m\u001b[0m\u001b[0m\n",
      "\u001b[0;32m~/Documents/SABS/DPhil/erlotinib/erlotinib/_mechanistic_models.py\u001b[0m in \u001b[0;36msimulate\u001b[0;34m(self, parameters, times)\u001b[0m\n\u001b[1;32m    407\u001b[0m \u001b[0;34m\u001b[0m\u001b[0m\n\u001b[1;32m    408\u001b[0m         output, sensitivities = self.simulator.run(\n\u001b[0;32m--> 409\u001b[0;31m             times[-1] + 1, log=self._output_names, log_times=times)\n\u001b[0m\u001b[1;32m    410\u001b[0m         \u001b[0moutput\u001b[0m \u001b[0;34m=\u001b[0m \u001b[0mnp\u001b[0m\u001b[0;34m.\u001b[0m\u001b[0marray\u001b[0m\u001b[0;34m(\u001b[0m\u001b[0;34m[\u001b[0m\u001b[0moutput\u001b[0m\u001b[0;34m[\u001b[0m\u001b[0mname\u001b[0m\u001b[0;34m]\u001b[0m \u001b[0;32mfor\u001b[0m \u001b[0mname\u001b[0m \u001b[0;32min\u001b[0m \u001b[0mself\u001b[0m\u001b[0;34m.\u001b[0m\u001b[0m_output_names\u001b[0m\u001b[0;34m]\u001b[0m\u001b[0;34m)\u001b[0m\u001b[0;34m\u001b[0m\u001b[0;34m\u001b[0m\u001b[0m\n\u001b[1;32m    411\u001b[0m         \u001b[0msensitivities\u001b[0m \u001b[0;34m=\u001b[0m \u001b[0mnp\u001b[0m\u001b[0;34m.\u001b[0m\u001b[0marray\u001b[0m\u001b[0;34m(\u001b[0m\u001b[0msensitivities\u001b[0m\u001b[0;34m)\u001b[0m\u001b[0;34m\u001b[0m\u001b[0;34m\u001b[0m\u001b[0m\n",
      "\u001b[0;32m~/Documents/SABS/DPhil/erlotinib/venv/lib/python3.7/site-packages/myokit/_sim/cvodessim.py\u001b[0m in \u001b[0;36mrun\u001b[0;34m(self, duration, log, log_interval, log_times, sensitivities, apd_variable, apd_threshold, progress, msg)\u001b[0m\n\u001b[1;32m    488\u001b[0m         output = self._run(\n\u001b[1;32m    489\u001b[0m             \u001b[0mduration\u001b[0m\u001b[0;34m,\u001b[0m \u001b[0mlog\u001b[0m\u001b[0;34m,\u001b[0m \u001b[0mlog_interval\u001b[0m\u001b[0;34m,\u001b[0m \u001b[0mlog_times\u001b[0m\u001b[0;34m,\u001b[0m \u001b[0msensitivities\u001b[0m\u001b[0;34m,\u001b[0m\u001b[0;34m\u001b[0m\u001b[0;34m\u001b[0m\u001b[0m\n\u001b[0;32m--> 490\u001b[0;31m             apd_variable, apd_threshold, progress, msg)\n\u001b[0m\u001b[1;32m    491\u001b[0m         \u001b[0mself\u001b[0m\u001b[0;34m.\u001b[0m\u001b[0m_time\u001b[0m \u001b[0;34m+=\u001b[0m \u001b[0mduration\u001b[0m\u001b[0;34m\u001b[0m\u001b[0;34m\u001b[0m\u001b[0m\n\u001b[1;32m    492\u001b[0m         \u001b[0;32mreturn\u001b[0m \u001b[0moutput\u001b[0m\u001b[0;34m\u001b[0m\u001b[0;34m\u001b[0m\u001b[0m\n",
      "\u001b[0;32m~/Documents/SABS/DPhil/erlotinib/venv/lib/python3.7/site-packages/myokit/_sim/cvodessim.py\u001b[0m in \u001b[0;36m_run\u001b[0;34m(self, duration, log, log_interval, log_times, sensitivities, apd_variable, apd_threshold, progress, msg)\u001b[0m\n\u001b[1;32m    652\u001b[0m                     \u001b[0;31m# Loop without feedback\u001b[0m\u001b[0;34m\u001b[0m\u001b[0;34m\u001b[0m\u001b[0;34m\u001b[0m\u001b[0m\n\u001b[1;32m    653\u001b[0m                     \u001b[0;32mwhile\u001b[0m \u001b[0mt\u001b[0m \u001b[0;34m<\u001b[0m \u001b[0mtmax\u001b[0m\u001b[0;34m:\u001b[0m\u001b[0;34m\u001b[0m\u001b[0;34m\u001b[0m\u001b[0m\n\u001b[0;32m--> 654\u001b[0;31m                         \u001b[0mt\u001b[0m \u001b[0;34m=\u001b[0m \u001b[0mself\u001b[0m\u001b[0;34m.\u001b[0m\u001b[0m_sim\u001b[0m\u001b[0;34m.\u001b[0m\u001b[0msim_step\u001b[0m\u001b[0;34m(\u001b[0m\u001b[0;34m)\u001b[0m\u001b[0;34m\u001b[0m\u001b[0;34m\u001b[0m\u001b[0m\n\u001b[0m\u001b[1;32m    655\u001b[0m \u001b[0;34m\u001b[0m\u001b[0m\n\u001b[1;32m    656\u001b[0m             \u001b[0;32mexcept\u001b[0m \u001b[0mArithmeticError\u001b[0m \u001b[0;32mas\u001b[0m \u001b[0me\u001b[0m\u001b[0;34m:\u001b[0m\u001b[0;34m\u001b[0m\u001b[0;34m\u001b[0m\u001b[0m\n",
      "\u001b[0;31mException\u001b[0m: Maximum number of zero-length steps taken at t=0.420697"
     ]
    }
   ],
   "source": [
    "# Run optimisation\n",
    "initial_parameters = np.log(erlo.InferenceController(log_posterior)._initial_params[0, 0])\n",
    "minimizer_kwargs = {\"method\":\"L-BFGS-B\", \"jac\":True}\n",
    "result = basinhopping(\n",
    "    func=fun, x0=initial_parameters, minimizer_kwargs=minimizer_kwargs, niter=10000)\n",
    "result"
   ]
  },
  {
   "cell_type": "code",
   "execution_count": 24,
   "metadata": {},
   "outputs": [
    {
     "output_type": "execute_result",
     "data": {
      "text/plain": [
       "array([0.12355877, 0.09482676, 0.20195665, 0.13704376, 0.16121391,\n",
       "       0.14450629, 0.11772658, 0.08777106, 0.48000457, 1.69061861,\n",
       "       1.13684717, 0.84009621, 0.44005131, 0.77529497, 1.27877059,\n",
       "       0.505204  , 0.52488828, 0.36184197, 1.12412159, 0.9707243 ,\n",
       "       0.24691003, 0.08649179, 0.3480514 , 0.13673611, 0.1075047 ,\n",
       "       0.27478369, 0.10179892, 0.11468437, 0.21403395, 1.46571222,\n",
       "       0.0019662 , 0.23576104])"
      ]
     },
     "metadata": {},
     "execution_count": 24
    }
   ],
   "source": [
    "np.exp(result.x)  # -98.49277693232358"
   ]
  },
  {
   "cell_type": "code",
   "execution_count": 22,
   "metadata": {},
   "outputs": [
    {
     "output_type": "execute_result",
     "data": {
      "text/plain": [
       "['ID 40 Tumour volume in cm^3',\n",
       " 'ID 94 Tumour volume in cm^3',\n",
       " 'ID 95 Tumour volume in cm^3',\n",
       " 'ID 136 Tumour volume in cm^3',\n",
       " 'ID 140 Tumour volume in cm^3',\n",
       " 'ID 155 Tumour volume in cm^3',\n",
       " 'ID 169 Tumour volume in cm^3',\n",
       " 'ID 170 Tumour volume in cm^3',\n",
       " 'Mean Tumour volume in cm^3',\n",
       " 'Std. Tumour volume in cm^3',\n",
       " 'ID 40 Critical volume in cm^3',\n",
       " 'ID 94 Critical volume in cm^3',\n",
       " 'ID 95 Critical volume in cm^3',\n",
       " 'ID 136 Critical volume in cm^3',\n",
       " 'ID 140 Critical volume in cm^3',\n",
       " 'ID 155 Critical volume in cm^3',\n",
       " 'ID 169 Critical volume in cm^3',\n",
       " 'ID 170 Critical volume in cm^3',\n",
       " 'Mean Critical volume in cm^3',\n",
       " 'Std. Critical volume in cm^3',\n",
       " 'ID 40 Exponential growth rate in 1/day',\n",
       " 'ID 94 Exponential growth rate in 1/day',\n",
       " 'ID 95 Exponential growth rate in 1/day',\n",
       " 'ID 136 Exponential growth rate in 1/day',\n",
       " 'ID 140 Exponential growth rate in 1/day',\n",
       " 'ID 155 Exponential growth rate in 1/day',\n",
       " 'ID 169 Exponential growth rate in 1/day',\n",
       " 'ID 170 Exponential growth rate in 1/day',\n",
       " 'Mean Exponential growth rate in 1/day',\n",
       " 'Std. Exponential growth rate in 1/day',\n",
       " 'Pooled Sigma base',\n",
       " 'Pooled Sigma rel.']"
      ]
     },
     "metadata": {},
     "execution_count": 22
    }
   ],
   "source": [
    "log_posterior.get_parameter_names(include_ids=True)"
   ]
  },
  {
   "cell_type": "code",
   "execution_count": null,
   "metadata": {},
   "outputs": [],
   "source": []
  }
 ],
 "metadata": {
  "kernelspec": {
   "display_name": "erlotinib-venv",
   "language": "python",
   "name": "erlotinib-venv"
  },
  "language_info": {
   "codemirror_mode": {
    "name": "ipython",
    "version": 3
   },
   "file_extension": ".py",
   "mimetype": "text/x-python",
   "name": "python",
   "nbconvert_exporter": "python",
   "pygments_lexer": "ipython3",
   "version": "3.7.5"
  },
  "widgets": {
   "application/vnd.jupyter.widget-state+json": {
    "state": {
     "01eef65989b44868af0b03c96a651eca": {
      "model_module": "@jupyter-widgets/controls",
      "model_module_version": "1.5.0",
      "model_name": "DescriptionStyleModel",
      "state": {
       "description_width": ""
      }
     },
     "07976c85eeec410fbbc4f42940a886c7": {
      "model_module": "@jupyter-widgets/base",
      "model_module_version": "1.2.0",
      "model_name": "LayoutModel",
      "state": {}
     },
     "095cf447ed6d48eb99f92c39ee7487c9": {
      "model_module": "@jupyter-widgets/base",
      "model_module_version": "1.2.0",
      "model_name": "LayoutModel",
      "state": {}
     },
     "0965fbdb11b64cfbb36b77422d7e470f": {
      "model_module": "@jupyter-widgets/controls",
      "model_module_version": "1.5.0",
      "model_name": "FloatProgressModel",
      "state": {
       "bar_style": "success",
       "description": "100%",
       "layout": "IPY_MODEL_2cd9b7c9d26f4d2c85f2bc79021102ab",
       "max": 5,
       "style": "IPY_MODEL_7b812ad0a802442e99dfa088a99828bc",
       "value": 5
      }
     },
     "0b63a593016246c8b02b4eed9816b730": {
      "model_module": "@jupyter-widgets/controls",
      "model_module_version": "1.5.0",
      "model_name": "FloatProgressModel",
      "state": {
       "bar_style": "success",
       "description": "100%",
       "layout": "IPY_MODEL_6011b074c91a4eb983cbad6314bdc462",
       "max": 1,
       "style": "IPY_MODEL_919969f110634db898a221ea3fa14fd9",
       "value": 1
      }
     },
     "135af7a7bf8f49f8aa0f5172b6615d7b": {
      "model_module": "@jupyter-widgets/base",
      "model_module_version": "1.2.0",
      "model_name": "LayoutModel",
      "state": {}
     },
     "159eef67e03d48a59c19172638d17029": {
      "model_module": "@jupyter-widgets/controls",
      "model_module_version": "1.5.0",
      "model_name": "ProgressStyleModel",
      "state": {
       "description_width": "initial"
      }
     },
     "1809acc2110e4b7ca356ff9f3e2a0af7": {
      "model_module": "@jupyter-widgets/base",
      "model_module_version": "1.2.0",
      "model_name": "LayoutModel",
      "state": {}
     },
     "184add854110479a9b77e370b452d1f7": {
      "model_module": "@jupyter-widgets/controls",
      "model_module_version": "1.5.0",
      "model_name": "FloatProgressModel",
      "state": {
       "bar_style": "success",
       "description": "100%",
       "layout": "IPY_MODEL_21a7ca021afd485c82f96f9ad9159c6b",
       "max": 1,
       "style": "IPY_MODEL_3e3b80e9ecfd4cb29577c29f26c842f4",
       "value": 1
      }
     },
     "19842c643f4941bb8c14153f695777c1": {
      "model_module": "@jupyter-widgets/controls",
      "model_module_version": "1.5.0",
      "model_name": "DescriptionStyleModel",
      "state": {
       "description_width": ""
      }
     },
     "1b720d207c2c41e695dd5437cb294082": {
      "model_module": "@jupyter-widgets/base",
      "model_module_version": "1.2.0",
      "model_name": "LayoutModel",
      "state": {}
     },
     "1b9f6c2755bb4a06b73403b55314a862": {
      "model_module": "@jupyter-widgets/controls",
      "model_module_version": "1.5.0",
      "model_name": "HTMLModel",
      "state": {
       "layout": "IPY_MODEL_2c58e9e0acaa4715a95fa6597a564a02",
       "style": "IPY_MODEL_9c8f09d42b704672ab7779eac9d69906",
       "value": " 1/1 [01:35&lt;00:00, 95.70s/it]"
      }
     },
     "1d5794f1348541d5b140625c86cd85d2": {
      "model_module": "@jupyter-widgets/base",
      "model_module_version": "1.2.0",
      "model_name": "LayoutModel",
      "state": {}
     },
     "1de13052eff545439f86aa67ed47101b": {
      "model_module": "@jupyter-widgets/controls",
      "model_module_version": "1.5.0",
      "model_name": "FloatProgressModel",
      "state": {
       "bar_style": "success",
       "description": "100%",
       "layout": "IPY_MODEL_bc96976c928e49cc8f9ee8d2e1159b6f",
       "max": 1,
       "style": "IPY_MODEL_9fe9cd74d3a24161bcf33b411825c002",
       "value": 1
      }
     },
     "1e1c24155b104c8f8fe136aa8478d126": {
      "model_module": "@jupyter-widgets/controls",
      "model_module_version": "1.5.0",
      "model_name": "DescriptionStyleModel",
      "state": {
       "description_width": ""
      }
     },
     "2161fe3f629145cb9f4c36ad62a3dc8b": {
      "model_module": "@jupyter-widgets/base",
      "model_module_version": "1.2.0",
      "model_name": "LayoutModel",
      "state": {}
     },
     "21a7ca021afd485c82f96f9ad9159c6b": {
      "model_module": "@jupyter-widgets/base",
      "model_module_version": "1.2.0",
      "model_name": "LayoutModel",
      "state": {}
     },
     "21ece6f5159944e4b42c7afaba70b807": {
      "model_module": "@jupyter-widgets/controls",
      "model_module_version": "1.5.0",
      "model_name": "HTMLModel",
      "state": {
       "layout": "IPY_MODEL_1b720d207c2c41e695dd5437cb294082",
       "style": "IPY_MODEL_19842c643f4941bb8c14153f695777c1",
       "value": " 1/1 [02:11&lt;00:00, 131.50s/it]"
      }
     },
     "27cd5844cc9c4ef4a17e80e32403fd01": {
      "model_module": "@jupyter-widgets/controls",
      "model_module_version": "1.5.0",
      "model_name": "FloatProgressModel",
      "state": {
       "bar_style": "success",
       "description": "100%",
       "layout": "IPY_MODEL_7ed23bc3272e4384b8f7c01b214152d7",
       "max": 10,
       "style": "IPY_MODEL_159eef67e03d48a59c19172638d17029",
       "value": 10
      }
     },
     "2c58e9e0acaa4715a95fa6597a564a02": {
      "model_module": "@jupyter-widgets/base",
      "model_module_version": "1.2.0",
      "model_name": "LayoutModel",
      "state": {}
     },
     "2cd9b7c9d26f4d2c85f2bc79021102ab": {
      "model_module": "@jupyter-widgets/base",
      "model_module_version": "1.2.0",
      "model_name": "LayoutModel",
      "state": {}
     },
     "2d9e3f41bb6542bc934bec7cea3d74fa": {
      "model_module": "@jupyter-widgets/base",
      "model_module_version": "1.2.0",
      "model_name": "LayoutModel",
      "state": {}
     },
     "2dfea09bcb4a49f0af7895407ceb0ea0": {
      "model_module": "@jupyter-widgets/controls",
      "model_module_version": "1.5.0",
      "model_name": "ProgressStyleModel",
      "state": {
       "description_width": "initial"
      }
     },
     "303df0337bb5488fb452ef183eccbf43": {
      "model_module": "@jupyter-widgets/controls",
      "model_module_version": "1.5.0",
      "model_name": "DescriptionStyleModel",
      "state": {
       "description_width": ""
      }
     },
     "34af377465604af79008a78791fd3858": {
      "model_module": "@jupyter-widgets/base",
      "model_module_version": "1.2.0",
      "model_name": "LayoutModel",
      "state": {}
     },
     "35c7b65c7bb44ad9a26ed7b1f45b2e3e": {
      "model_module": "@jupyter-widgets/base",
      "model_module_version": "1.2.0",
      "model_name": "LayoutModel",
      "state": {}
     },
     "37693883a6db4c469d9e608a40fe2549": {
      "model_module": "@jupyter-widgets/controls",
      "model_module_version": "1.5.0",
      "model_name": "ProgressStyleModel",
      "state": {
       "description_width": "initial"
      }
     },
     "38f159ddb3f94921918143f1468a8051": {
      "model_module": "@jupyter-widgets/controls",
      "model_module_version": "1.5.0",
      "model_name": "ProgressStyleModel",
      "state": {
       "description_width": "initial"
      }
     },
     "3e3b80e9ecfd4cb29577c29f26c842f4": {
      "model_module": "@jupyter-widgets/controls",
      "model_module_version": "1.5.0",
      "model_name": "ProgressStyleModel",
      "state": {
       "description_width": "initial"
      }
     },
     "413f70adc1cd4117816d06703182e2ac": {
      "model_module": "@jupyter-widgets/controls",
      "model_module_version": "1.5.0",
      "model_name": "HTMLModel",
      "state": {
       "layout": "IPY_MODEL_8fcaca0f0e4c4128b1fcc25e18841a69",
       "style": "IPY_MODEL_f3013d0453d04bbc851734b46fdf0c8c",
       "value": " 5/5 [20:11&lt;00:00, 242.21s/it]"
      }
     },
     "44a2bce33ef14ffbabdb734f40c5480f": {
      "model_module": "@jupyter-widgets/controls",
      "model_module_version": "1.5.0",
      "model_name": "HBoxModel",
      "state": {
       "children": [
        "IPY_MODEL_976c71da71fa40869cecabd3855309ef",
        "IPY_MODEL_cc6c8eb1762a4163bea725d4f77acf39"
       ],
       "layout": "IPY_MODEL_cae429cf74fd43c0aa25feb00692933b"
      }
     },
     "4adb21512cee4e26b3e324441260f072": {
      "model_module": "@jupyter-widgets/controls",
      "model_module_version": "1.5.0",
      "model_name": "HTMLModel",
      "state": {
       "layout": "IPY_MODEL_9cc5dccca8b2408f9018e36109106300",
       "style": "IPY_MODEL_9c4870fa6acb4dfc92becf7491523dd5",
       "value": " 10/10 [25:15&lt;00:00, 151.54s/it]"
      }
     },
     "4c95af64779345bebcf12e9655c74db9": {
      "model_module": "@jupyter-widgets/controls",
      "model_module_version": "1.5.0",
      "model_name": "HTMLModel",
      "state": {
       "layout": "IPY_MODEL_1809acc2110e4b7ca356ff9f3e2a0af7",
       "style": "IPY_MODEL_82eeef6b47ff48d3bb04bf01bf3af0f3",
       "value": " 1/1 [01:37&lt;00:00, 97.22s/it]"
      }
     },
     "4dcbc6f88bd64f37866f88db5e06e3d5": {
      "model_module": "@jupyter-widgets/controls",
      "model_module_version": "1.5.0",
      "model_name": "FloatProgressModel",
      "state": {
       "bar_style": "success",
       "description": "100%",
       "layout": "IPY_MODEL_f9d673c5d1af4b8ead69f887b9822082",
       "max": 1,
       "style": "IPY_MODEL_37693883a6db4c469d9e608a40fe2549",
       "value": 1
      }
     },
     "4f81b7f0bbc142b6bda1271ebb51edb4": {
      "model_module": "@jupyter-widgets/base",
      "model_module_version": "1.2.0",
      "model_name": "LayoutModel",
      "state": {}
     },
     "523e6461b27246f69b3554283d6de1b2": {
      "model_module": "@jupyter-widgets/controls",
      "model_module_version": "1.5.0",
      "model_name": "HBoxModel",
      "state": {
       "children": [
        "IPY_MODEL_0b63a593016246c8b02b4eed9816b730",
        "IPY_MODEL_1b9f6c2755bb4a06b73403b55314a862"
       ],
       "layout": "IPY_MODEL_c40ca823915f4c2496af1ddbc70f33ea"
      }
     },
     "553f3eeaf63a487897e61d77536189ac": {
      "model_module": "@jupyter-widgets/controls",
      "model_module_version": "1.5.0",
      "model_name": "FloatProgressModel",
      "state": {
       "bar_style": "success",
       "description": "100%",
       "layout": "IPY_MODEL_6110267ec1794f1aae57f4cd2a2205f0",
       "max": 1,
       "style": "IPY_MODEL_2dfea09bcb4a49f0af7895407ceb0ea0",
       "value": 1
      }
     },
     "57e24038b8e840cea4ba50ac04315aeb": {
      "model_module": "@jupyter-widgets/controls",
      "model_module_version": "1.5.0",
      "model_name": "ProgressStyleModel",
      "state": {
       "description_width": "initial"
      }
     },
     "59f29a8dd53f4505a737605770d5d069": {
      "model_module": "@jupyter-widgets/base",
      "model_module_version": "1.2.0",
      "model_name": "LayoutModel",
      "state": {}
     },
     "5c1254baf6a84033a90d10f0964a902c": {
      "model_module": "@jupyter-widgets/controls",
      "model_module_version": "1.5.0",
      "model_name": "DescriptionStyleModel",
      "state": {
       "description_width": ""
      }
     },
     "5d21269309d248be80f4a11e404402f1": {
      "model_module": "@jupyter-widgets/controls",
      "model_module_version": "1.5.0",
      "model_name": "FloatProgressModel",
      "state": {
       "bar_style": "success",
       "description": "100%",
       "layout": "IPY_MODEL_6cb9572543c44eecbc7e8ebd9aa170ca",
       "max": 1,
       "style": "IPY_MODEL_57e24038b8e840cea4ba50ac04315aeb",
       "value": 1
      }
     },
     "5ebde330f6074fa39b9af80cf253c6be": {
      "model_module": "@jupyter-widgets/base",
      "model_module_version": "1.2.0",
      "model_name": "LayoutModel",
      "state": {}
     },
     "5f3d87a8a8b549d4b3f47672b344151f": {
      "model_module": "@jupyter-widgets/controls",
      "model_module_version": "1.5.0",
      "model_name": "ProgressStyleModel",
      "state": {
       "description_width": "initial"
      }
     },
     "6011b074c91a4eb983cbad6314bdc462": {
      "model_module": "@jupyter-widgets/base",
      "model_module_version": "1.2.0",
      "model_name": "LayoutModel",
      "state": {}
     },
     "60283b59ed724e5fa0e25351112f0426": {
      "model_module": "@jupyter-widgets/controls",
      "model_module_version": "1.5.0",
      "model_name": "HBoxModel",
      "state": {
       "children": [
        "IPY_MODEL_9265ba637d43438ba18f7f826cec8f4c",
        "IPY_MODEL_c16168cb9ad2484bb6f9893b71c8676e"
       ],
       "layout": "IPY_MODEL_b370f4e6d848426faf4d0313b07383cf"
      }
     },
     "6110267ec1794f1aae57f4cd2a2205f0": {
      "model_module": "@jupyter-widgets/base",
      "model_module_version": "1.2.0",
      "model_name": "LayoutModel",
      "state": {}
     },
     "632a1958175f4f3794b3b7e875f9a941": {
      "model_module": "@jupyter-widgets/controls",
      "model_module_version": "1.5.0",
      "model_name": "ProgressStyleModel",
      "state": {
       "description_width": "initial"
      }
     },
     "66f6cddc6221404586a9f79c7697f455": {
      "model_module": "@jupyter-widgets/controls",
      "model_module_version": "1.5.0",
      "model_name": "FloatProgressModel",
      "state": {
       "bar_style": "success",
       "description": "100%",
       "layout": "IPY_MODEL_135af7a7bf8f49f8aa0f5172b6615d7b",
       "max": 5,
       "style": "IPY_MODEL_5f3d87a8a8b549d4b3f47672b344151f",
       "value": 5
      }
     },
     "67c34ed9d89146d4a9c47c89ef350449": {
      "model_module": "@jupyter-widgets/base",
      "model_module_version": "1.2.0",
      "model_name": "LayoutModel",
      "state": {}
     },
     "69c3aa21cb6744a5a84a263c5676b5f5": {
      "model_module": "@jupyter-widgets/base",
      "model_module_version": "1.2.0",
      "model_name": "LayoutModel",
      "state": {}
     },
     "6bf02211ea864458bc1b59b444129638": {
      "model_module": "@jupyter-widgets/base",
      "model_module_version": "1.2.0",
      "model_name": "LayoutModel",
      "state": {}
     },
     "6cb9572543c44eecbc7e8ebd9aa170ca": {
      "model_module": "@jupyter-widgets/base",
      "model_module_version": "1.2.0",
      "model_name": "LayoutModel",
      "state": {}
     },
     "6fab9b0f2beb418fa50f1cf237a6b605": {
      "model_module": "@jupyter-widgets/controls",
      "model_module_version": "1.5.0",
      "model_name": "ProgressStyleModel",
      "state": {
       "description_width": "initial"
      }
     },
     "72ce86845c4d4196a9fe68fadc9d6192": {
      "model_module": "@jupyter-widgets/controls",
      "model_module_version": "1.5.0",
      "model_name": "HBoxModel",
      "state": {
       "children": [
        "IPY_MODEL_27cd5844cc9c4ef4a17e80e32403fd01",
        "IPY_MODEL_4adb21512cee4e26b3e324441260f072"
       ],
       "layout": "IPY_MODEL_07976c85eeec410fbbc4f42940a886c7"
      }
     },
     "7453c4bb2771411b91f4b22029b5c650": {
      "model_module": "@jupyter-widgets/controls",
      "model_module_version": "1.5.0",
      "model_name": "HBoxModel",
      "state": {
       "children": [
        "IPY_MODEL_a8d21cfc87c94d1d8c4aa9d2b139f7ef",
        "IPY_MODEL_bd8de3a882164e6dae41d6ef7a02679f"
       ],
       "layout": "IPY_MODEL_35c7b65c7bb44ad9a26ed7b1f45b2e3e"
      }
     },
     "75c0a1242c954ce1b0a243ce6be590bf": {
      "model_module": "@jupyter-widgets/base",
      "model_module_version": "1.2.0",
      "model_name": "LayoutModel",
      "state": {}
     },
     "78df618bc11c4d5688a04fcc86aa19f2": {
      "model_module": "@jupyter-widgets/controls",
      "model_module_version": "1.5.0",
      "model_name": "HTMLModel",
      "state": {
       "layout": "IPY_MODEL_4f81b7f0bbc142b6bda1271ebb51edb4",
       "style": "IPY_MODEL_852d8631215548cb909590519998b6ec",
       "value": " 1/1 [01:53&lt;00:00, 113.99s/it]"
      }
     },
     "799fed359bba41948d51adcc0a2b0013": {
      "model_module": "@jupyter-widgets/base",
      "model_module_version": "1.2.0",
      "model_name": "LayoutModel",
      "state": {}
     },
     "7b812ad0a802442e99dfa088a99828bc": {
      "model_module": "@jupyter-widgets/controls",
      "model_module_version": "1.5.0",
      "model_name": "ProgressStyleModel",
      "state": {
       "description_width": "initial"
      }
     },
     "7cc37367f6874d55b5eedaf538c269d5": {
      "model_module": "@jupyter-widgets/controls",
      "model_module_version": "1.5.0",
      "model_name": "HBoxModel",
      "state": {
       "children": [
        "IPY_MODEL_0965fbdb11b64cfbb36b77422d7e470f",
        "IPY_MODEL_413f70adc1cd4117816d06703182e2ac"
       ],
       "layout": "IPY_MODEL_6bf02211ea864458bc1b59b444129638"
      }
     },
     "7ed23bc3272e4384b8f7c01b214152d7": {
      "model_module": "@jupyter-widgets/base",
      "model_module_version": "1.2.0",
      "model_name": "LayoutModel",
      "state": {}
     },
     "7f9dd6f91ce14a9a8ee85ea76e088fa4": {
      "model_module": "@jupyter-widgets/base",
      "model_module_version": "1.2.0",
      "model_name": "LayoutModel",
      "state": {}
     },
     "8040d30881244c54bb3e448c6db170e2": {
      "model_module": "@jupyter-widgets/base",
      "model_module_version": "1.2.0",
      "model_name": "LayoutModel",
      "state": {}
     },
     "80a7ca46c5f441fc919dcf794f4f6290": {
      "model_module": "@jupyter-widgets/controls",
      "model_module_version": "1.5.0",
      "model_name": "HTMLModel",
      "state": {
       "layout": "IPY_MODEL_eaaeadb7710b469487ceee0e426d4702",
       "style": "IPY_MODEL_ae1dd58d34a540369365fc08f109e199",
       "value": " 1/1 [01:37&lt;00:00, 97.18s/it]"
      }
     },
     "8189d35fdf6c45359fff7a7b98dd9f20": {
      "model_module": "@jupyter-widgets/controls",
      "model_module_version": "1.5.0",
      "model_name": "FloatProgressModel",
      "state": {
       "bar_style": "success",
       "description": "100%",
       "layout": "IPY_MODEL_69c3aa21cb6744a5a84a263c5676b5f5",
       "max": 1,
       "style": "IPY_MODEL_6fab9b0f2beb418fa50f1cf237a6b605",
       "value": 1
      }
     },
     "82eeef6b47ff48d3bb04bf01bf3af0f3": {
      "model_module": "@jupyter-widgets/controls",
      "model_module_version": "1.5.0",
      "model_name": "DescriptionStyleModel",
      "state": {
       "description_width": ""
      }
     },
     "8385880b0c9b4cd79348f7cad054a335": {
      "model_module": "@jupyter-widgets/base",
      "model_module_version": "1.2.0",
      "model_name": "LayoutModel",
      "state": {}
     },
     "852d8631215548cb909590519998b6ec": {
      "model_module": "@jupyter-widgets/controls",
      "model_module_version": "1.5.0",
      "model_name": "DescriptionStyleModel",
      "state": {
       "description_width": ""
      }
     },
     "8543de0a074744e8accb66c792fbd60e": {
      "model_module": "@jupyter-widgets/controls",
      "model_module_version": "1.5.0",
      "model_name": "DescriptionStyleModel",
      "state": {
       "description_width": ""
      }
     },
     "8a6bed7433db4f0b89477d6d58f71bfd": {
      "model_module": "@jupyter-widgets/base",
      "model_module_version": "1.2.0",
      "model_name": "LayoutModel",
      "state": {}
     },
     "8fcaca0f0e4c4128b1fcc25e18841a69": {
      "model_module": "@jupyter-widgets/base",
      "model_module_version": "1.2.0",
      "model_name": "LayoutModel",
      "state": {}
     },
     "919969f110634db898a221ea3fa14fd9": {
      "model_module": "@jupyter-widgets/controls",
      "model_module_version": "1.5.0",
      "model_name": "ProgressStyleModel",
      "state": {
       "description_width": "initial"
      }
     },
     "91de2731538f427e9ffd0319c56ad132": {
      "model_module": "@jupyter-widgets/base",
      "model_module_version": "1.2.0",
      "model_name": "LayoutModel",
      "state": {}
     },
     "91ed2be87f644e7986b0eab730721191": {
      "model_module": "@jupyter-widgets/controls",
      "model_module_version": "1.5.0",
      "model_name": "HBoxModel",
      "state": {
       "children": [
        "IPY_MODEL_4dcbc6f88bd64f37866f88db5e06e3d5",
        "IPY_MODEL_a9b85b998ecb4380afd969a251faa8c9"
       ],
       "layout": "IPY_MODEL_91de2731538f427e9ffd0319c56ad132"
      }
     },
     "921f6e723ebb4f08b12885a0fc7f9f41": {
      "model_module": "@jupyter-widgets/controls",
      "model_module_version": "1.5.0",
      "model_name": "DescriptionStyleModel",
      "state": {
       "description_width": ""
      }
     },
     "9265ba637d43438ba18f7f826cec8f4c": {
      "model_module": "@jupyter-widgets/controls",
      "model_module_version": "1.5.0",
      "model_name": "FloatProgressModel",
      "state": {
       "bar_style": "success",
       "description": "100%",
       "layout": "IPY_MODEL_2161fe3f629145cb9f4c36ad62a3dc8b",
       "max": 8,
       "style": "IPY_MODEL_38f159ddb3f94921918143f1468a8051",
       "value": 8
      }
     },
     "976c71da71fa40869cecabd3855309ef": {
      "model_module": "@jupyter-widgets/controls",
      "model_module_version": "1.5.0",
      "model_name": "FloatProgressModel",
      "state": {
       "bar_style": "success",
       "description": "100%",
       "layout": "IPY_MODEL_ab6bce597564479abf1b2231c10cbff9",
       "max": 8,
       "style": "IPY_MODEL_adc29edd6f9b419198caabf18e6e3016",
       "value": 8
      }
     },
     "9c4870fa6acb4dfc92becf7491523dd5": {
      "model_module": "@jupyter-widgets/controls",
      "model_module_version": "1.5.0",
      "model_name": "DescriptionStyleModel",
      "state": {
       "description_width": ""
      }
     },
     "9c8f09d42b704672ab7779eac9d69906": {
      "model_module": "@jupyter-widgets/controls",
      "model_module_version": "1.5.0",
      "model_name": "DescriptionStyleModel",
      "state": {
       "description_width": ""
      }
     },
     "9cc5dccca8b2408f9018e36109106300": {
      "model_module": "@jupyter-widgets/base",
      "model_module_version": "1.2.0",
      "model_name": "LayoutModel",
      "state": {}
     },
     "9fe9cd74d3a24161bcf33b411825c002": {
      "model_module": "@jupyter-widgets/controls",
      "model_module_version": "1.5.0",
      "model_name": "ProgressStyleModel",
      "state": {
       "description_width": "initial"
      }
     },
     "a30bb612d7e543c38ed1779d048832a7": {
      "model_module": "@jupyter-widgets/controls",
      "model_module_version": "1.5.0",
      "model_name": "HBoxModel",
      "state": {
       "children": [
        "IPY_MODEL_553f3eeaf63a487897e61d77536189ac",
        "IPY_MODEL_4c95af64779345bebcf12e9655c74db9"
       ],
       "layout": "IPY_MODEL_ff156ef13ecd40da844c81e62b086bf4"
      }
     },
     "a8d21cfc87c94d1d8c4aa9d2b139f7ef": {
      "model_module": "@jupyter-widgets/controls",
      "model_module_version": "1.5.0",
      "model_name": "FloatProgressModel",
      "state": {
       "bar_style": "success",
       "description": "100%",
       "layout": "IPY_MODEL_75c0a1242c954ce1b0a243ce6be590bf",
       "max": 1,
       "style": "IPY_MODEL_632a1958175f4f3794b3b7e875f9a941",
       "value": 1
      }
     },
     "a9b85b998ecb4380afd969a251faa8c9": {
      "model_module": "@jupyter-widgets/controls",
      "model_module_version": "1.5.0",
      "model_name": "HTMLModel",
      "state": {
       "layout": "IPY_MODEL_8a6bed7433db4f0b89477d6d58f71bfd",
       "style": "IPY_MODEL_1e1c24155b104c8f8fe136aa8478d126",
       "value": " 1/1 [03:27&lt;00:00, 207.78s/it]"
      }
     },
     "a9cd47cb71814c94a1cf19e793d7ea59": {
      "model_module": "@jupyter-widgets/controls",
      "model_module_version": "1.5.0",
      "model_name": "HTMLModel",
      "state": {
       "layout": "IPY_MODEL_ce1df704d579408cb60b70a25355097f",
       "style": "IPY_MODEL_cb38e5cbba5e49dead96b2309e571041",
       "value": " 1/1 [1:02:51&lt;00:00, 3771.77s/it]"
      }
     },
     "ab6bce597564479abf1b2231c10cbff9": {
      "model_module": "@jupyter-widgets/base",
      "model_module_version": "1.2.0",
      "model_name": "LayoutModel",
      "state": {}
     },
     "acbb19c982924cdf99138bc72dcef292": {
      "model_module": "@jupyter-widgets/controls",
      "model_module_version": "1.5.0",
      "model_name": "HBoxModel",
      "state": {
       "children": [
        "IPY_MODEL_d75a780b81634571a6ffa548956a5848",
        "IPY_MODEL_ecbfe207885643e39b110b9bc8342ae7"
       ],
       "layout": "IPY_MODEL_799fed359bba41948d51adcc0a2b0013"
      }
     },
     "acef34025d004076bc2f4f6339f5a139": {
      "model_module": "@jupyter-widgets/base",
      "model_module_version": "1.2.0",
      "model_name": "LayoutModel",
      "state": {}
     },
     "ad9318c9862e4d3e9b057a69433bc47b": {
      "model_module": "@jupyter-widgets/controls",
      "model_module_version": "1.5.0",
      "model_name": "HBoxModel",
      "state": {
       "children": [
        "IPY_MODEL_5d21269309d248be80f4a11e404402f1",
        "IPY_MODEL_80a7ca46c5f441fc919dcf794f4f6290"
       ],
       "layout": "IPY_MODEL_5ebde330f6074fa39b9af80cf253c6be"
      }
     },
     "adc29edd6f9b419198caabf18e6e3016": {
      "model_module": "@jupyter-widgets/controls",
      "model_module_version": "1.5.0",
      "model_name": "ProgressStyleModel",
      "state": {
       "description_width": "initial"
      }
     },
     "ae1dd58d34a540369365fc08f109e199": {
      "model_module": "@jupyter-widgets/controls",
      "model_module_version": "1.5.0",
      "model_name": "DescriptionStyleModel",
      "state": {
       "description_width": ""
      }
     },
     "b0357b1a572e4273bd52754bb4c4b19b": {
      "model_module": "@jupyter-widgets/controls",
      "model_module_version": "1.5.0",
      "model_name": "HBoxModel",
      "state": {
       "children": [
        "IPY_MODEL_66f6cddc6221404586a9f79c7697f455",
        "IPY_MODEL_c527b3b7e1fb4129a1b57c3348b4534b"
       ],
       "layout": "IPY_MODEL_8040d30881244c54bb3e448c6db170e2"
      }
     },
     "b16322bc67e9472bb4f5845e9c64bf15": {
      "model_module": "@jupyter-widgets/base",
      "model_module_version": "1.2.0",
      "model_name": "LayoutModel",
      "state": {}
     },
     "b370f4e6d848426faf4d0313b07383cf": {
      "model_module": "@jupyter-widgets/base",
      "model_module_version": "1.2.0",
      "model_name": "LayoutModel",
      "state": {}
     },
     "b4683c65f3984366b5da6a975fa59005": {
      "model_module": "@jupyter-widgets/controls",
      "model_module_version": "1.5.0",
      "model_name": "HBoxModel",
      "state": {
       "children": [
        "IPY_MODEL_184add854110479a9b77e370b452d1f7",
        "IPY_MODEL_21ece6f5159944e4b42c7afaba70b807"
       ],
       "layout": "IPY_MODEL_34af377465604af79008a78791fd3858"
      }
     },
     "b96c9e006d094587b4bb5ca0202798d8": {
      "model_module": "@jupyter-widgets/controls",
      "model_module_version": "1.5.0",
      "model_name": "ProgressStyleModel",
      "state": {
       "description_width": "initial"
      }
     },
     "bc96976c928e49cc8f9ee8d2e1159b6f": {
      "model_module": "@jupyter-widgets/base",
      "model_module_version": "1.2.0",
      "model_name": "LayoutModel",
      "state": {}
     },
     "bd8de3a882164e6dae41d6ef7a02679f": {
      "model_module": "@jupyter-widgets/controls",
      "model_module_version": "1.5.0",
      "model_name": "HTMLModel",
      "state": {
       "layout": "IPY_MODEL_67c34ed9d89146d4a9c47c89ef350449",
       "style": "IPY_MODEL_921f6e723ebb4f08b12885a0fc7f9f41",
       "value": " 1/1 [03:33&lt;00:00, 213.98s/it]"
      }
     },
     "c16168cb9ad2484bb6f9893b71c8676e": {
      "model_module": "@jupyter-widgets/controls",
      "model_module_version": "1.5.0",
      "model_name": "HTMLModel",
      "state": {
       "layout": "IPY_MODEL_b16322bc67e9472bb4f5845e9c64bf15",
       "style": "IPY_MODEL_01eef65989b44868af0b03c96a651eca",
       "value": " 8/8 [08:34&lt;00:00, 64.34s/it]"
      }
     },
     "c40ca823915f4c2496af1ddbc70f33ea": {
      "model_module": "@jupyter-widgets/base",
      "model_module_version": "1.2.0",
      "model_name": "LayoutModel",
      "state": {}
     },
     "c527b3b7e1fb4129a1b57c3348b4534b": {
      "model_module": "@jupyter-widgets/controls",
      "model_module_version": "1.5.0",
      "model_name": "HTMLModel",
      "state": {
       "layout": "IPY_MODEL_7f9dd6f91ce14a9a8ee85ea76e088fa4",
       "style": "IPY_MODEL_5c1254baf6a84033a90d10f0964a902c",
       "value": " 5/5 [15:34&lt;00:00, 186.97s/it]"
      }
     },
     "cae429cf74fd43c0aa25feb00692933b": {
      "model_module": "@jupyter-widgets/base",
      "model_module_version": "1.2.0",
      "model_name": "LayoutModel",
      "state": {}
     },
     "caf1b33669ea4867b774edfa3238aab9": {
      "model_module": "@jupyter-widgets/controls",
      "model_module_version": "1.5.0",
      "model_name": "ProgressStyleModel",
      "state": {
       "description_width": "initial"
      }
     },
     "cb38e5cbba5e49dead96b2309e571041": {
      "model_module": "@jupyter-widgets/controls",
      "model_module_version": "1.5.0",
      "model_name": "DescriptionStyleModel",
      "state": {
       "description_width": ""
      }
     },
     "cc6c8eb1762a4163bea725d4f77acf39": {
      "model_module": "@jupyter-widgets/controls",
      "model_module_version": "1.5.0",
      "model_name": "HTMLModel",
      "state": {
       "layout": "IPY_MODEL_095cf447ed6d48eb99f92c39ee7487c9",
       "style": "IPY_MODEL_303df0337bb5488fb452ef183eccbf43",
       "value": " 8/8 [06:42&lt;00:00, 50.27s/it]"
      }
     },
     "ce1df704d579408cb60b70a25355097f": {
      "model_module": "@jupyter-widgets/base",
      "model_module_version": "1.2.0",
      "model_name": "LayoutModel",
      "state": {}
     },
     "d0939525b34e4f58b7ccf48f279075a0": {
      "model_module": "@jupyter-widgets/controls",
      "model_module_version": "1.5.0",
      "model_name": "DescriptionStyleModel",
      "state": {
       "description_width": ""
      }
     },
     "d75a780b81634571a6ffa548956a5848": {
      "model_module": "@jupyter-widgets/controls",
      "model_module_version": "1.5.0",
      "model_name": "FloatProgressModel",
      "state": {
       "bar_style": "success",
       "description": "100%",
       "layout": "IPY_MODEL_2d9e3f41bb6542bc934bec7cea3d74fa",
       "max": 5,
       "style": "IPY_MODEL_caf1b33669ea4867b774edfa3238aab9",
       "value": 5
      }
     },
     "d882c816ed54479db1d27566ffeb2576": {
      "model_module": "@jupyter-widgets/controls",
      "model_module_version": "1.5.0",
      "model_name": "HBoxModel",
      "state": {
       "children": [
        "IPY_MODEL_1de13052eff545439f86aa67ed47101b",
        "IPY_MODEL_78df618bc11c4d5688a04fcc86aa19f2"
       ],
       "layout": "IPY_MODEL_acef34025d004076bc2f4f6339f5a139"
      }
     },
     "db5be4904de34b4cbd768b162beb5ead": {
      "model_module": "@jupyter-widgets/controls",
      "model_module_version": "1.5.0",
      "model_name": "HTMLModel",
      "state": {
       "layout": "IPY_MODEL_1d5794f1348541d5b140625c86cd85d2",
       "style": "IPY_MODEL_d0939525b34e4f58b7ccf48f279075a0",
       "value": " 1/1 [16:00&lt;00:00, 960.68s/it]"
      }
     },
     "dc98d8916f724611af7232d881d6009d": {
      "model_module": "@jupyter-widgets/base",
      "model_module_version": "1.2.0",
      "model_name": "LayoutModel",
      "state": {}
     },
     "e66b24d9bb784cbcb1f852103c379bff": {
      "model_module": "@jupyter-widgets/controls",
      "model_module_version": "1.5.0",
      "model_name": "HBoxModel",
      "state": {
       "children": [
        "IPY_MODEL_8189d35fdf6c45359fff7a7b98dd9f20",
        "IPY_MODEL_db5be4904de34b4cbd768b162beb5ead"
       ],
       "layout": "IPY_MODEL_ea6c40b134b24a1f83ecfdc62137e090"
      }
     },
     "ea6c40b134b24a1f83ecfdc62137e090": {
      "model_module": "@jupyter-widgets/base",
      "model_module_version": "1.2.0",
      "model_name": "LayoutModel",
      "state": {}
     },
     "eaaeadb7710b469487ceee0e426d4702": {
      "model_module": "@jupyter-widgets/base",
      "model_module_version": "1.2.0",
      "model_name": "LayoutModel",
      "state": {}
     },
     "eb60a44210ab48719ffe95e2c26c93e4": {
      "model_module": "@jupyter-widgets/controls",
      "model_module_version": "1.5.0",
      "model_name": "HBoxModel",
      "state": {
       "children": [
        "IPY_MODEL_fb4aa900318846c68093863d93b0514b",
        "IPY_MODEL_a9cd47cb71814c94a1cf19e793d7ea59"
       ],
       "layout": "IPY_MODEL_59f29a8dd53f4505a737605770d5d069"
      }
     },
     "ecbfe207885643e39b110b9bc8342ae7": {
      "model_module": "@jupyter-widgets/controls",
      "model_module_version": "1.5.0",
      "model_name": "HTMLModel",
      "state": {
       "layout": "IPY_MODEL_dc98d8916f724611af7232d881d6009d",
       "style": "IPY_MODEL_8543de0a074744e8accb66c792fbd60e",
       "value": " 5/5 [29:42&lt;00:00, 356.44s/it]"
      }
     },
     "f3013d0453d04bbc851734b46fdf0c8c": {
      "model_module": "@jupyter-widgets/controls",
      "model_module_version": "1.5.0",
      "model_name": "DescriptionStyleModel",
      "state": {
       "description_width": ""
      }
     },
     "f9d673c5d1af4b8ead69f887b9822082": {
      "model_module": "@jupyter-widgets/base",
      "model_module_version": "1.2.0",
      "model_name": "LayoutModel",
      "state": {}
     },
     "fb4aa900318846c68093863d93b0514b": {
      "model_module": "@jupyter-widgets/controls",
      "model_module_version": "1.5.0",
      "model_name": "FloatProgressModel",
      "state": {
       "bar_style": "success",
       "description": "100%",
       "layout": "IPY_MODEL_8385880b0c9b4cd79348f7cad054a335",
       "max": 1,
       "style": "IPY_MODEL_b96c9e006d094587b4bb5ca0202798d8",
       "value": 1
      }
     },
     "ff156ef13ecd40da844c81e62b086bf4": {
      "model_module": "@jupyter-widgets/base",
      "model_module_version": "1.2.0",
      "model_name": "LayoutModel",
      "state": {}
     }
    },
    "version_major": 2,
    "version_minor": 0
   }
  }
 },
 "nbformat": 4,
 "nbformat_minor": 2
}